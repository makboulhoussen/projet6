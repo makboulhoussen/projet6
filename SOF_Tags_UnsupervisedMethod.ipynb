{
 "cells": [
  {
   "cell_type": "markdown",
   "metadata": {},
   "source": [
    "# Projet 6 : Catégorisez automatiquement des questions\n",
    "# <u>B. Topic Modeling</u> <br/>"
   ]
  },
  {
   "cell_type": "markdown",
   "metadata": {},
   "source": [
    "# Le contexte\n",
    "\n",
    "Afin d'aider les utilisateurs de Stack Overflow dans leur soumission de question, nous devons mettre en place un système de suggestion de tags. Pour celà nous allons nous baser sur les techniques de machine learning capable en fonction du texte saisi par l'utilisateur de déterminer des tags pertinents.\n",
    "\n",
    "Dans ce notebook nous allons essayer des approches non supervisées."
   ]
  },
  {
   "cell_type": "code",
   "execution_count": 1,
   "metadata": {
    "collapsed": true
   },
   "outputs": [],
   "source": [
    "import numpy as np\n",
    "import pandas as pd\n",
    "import matplotlib.pyplot as plt\n",
    "\n",
    "from collections import Counter\n",
    "\n",
    "from bs4 import BeautifulSoup\n",
    "import unicodedata\n",
    "import re\n",
    "import string\n",
    "from nltk.corpus import stopwords\n",
    "from nltk.stem.porter import PorterStemmer\n",
    "from nltk.tokenize.toktok import ToktokTokenizer\n",
    "from contractions import CONTRACTION_MAP\n",
    "\n",
    "\n",
    "from sklearn import model_selection\n",
    "from sklearn.model_selection import GridSearchCV\n",
    "from sklearn.feature_extraction.text import TfidfVectorizer, CountVectorizer\n",
    "from sklearn.decomposition import NMF, LatentDirichletAllocation\n",
    "\n",
    "%matplotlib inline"
   ]
  },
  {
   "cell_type": "markdown",
   "metadata": {},
   "source": [
    "# 1. Chargement des données pré-traitées"
   ]
  },
  {
   "cell_type": "markdown",
   "metadata": {},
   "source": [
    "Nous allons charger les données qui ont été préalablement nettoyées et traitées."
   ]
  },
  {
   "cell_type": "code",
   "execution_count": 2,
   "metadata": {
    "collapsed": true
   },
   "outputs": [],
   "source": [
    "df = pd.read_csv('cleaned_data.csv')\n",
    "#replace NaN by empty string\n",
    "df = df.replace(np.nan, '', regex=True)"
   ]
  },
  {
   "cell_type": "code",
   "execution_count": 3,
   "metadata": {},
   "outputs": [
    {
     "data": {
      "text/plain": [
       "(64432, 7)"
      ]
     },
     "execution_count": 3,
     "metadata": {},
     "output_type": "execute_result"
    }
   ],
   "source": [
    "df.shape"
   ]
  },
  {
   "cell_type": "code",
   "execution_count": 4,
   "metadata": {},
   "outputs": [
    {
     "data": {
      "text/html": [
       "<div>\n",
       "<style>\n",
       "    .dataframe thead tr:only-child th {\n",
       "        text-align: right;\n",
       "    }\n",
       "\n",
       "    .dataframe thead th {\n",
       "        text-align: left;\n",
       "    }\n",
       "\n",
       "    .dataframe tbody tr th {\n",
       "        vertical-align: top;\n",
       "    }\n",
       "</style>\n",
       "<table border=\"1\" class=\"dataframe\">\n",
       "  <thead>\n",
       "    <tr style=\"text-align: right;\">\n",
       "      <th></th>\n",
       "      <th>TITLE</th>\n",
       "      <th>BODY</th>\n",
       "      <th>SCORE</th>\n",
       "      <th>TAGS</th>\n",
       "      <th>TITLE_P</th>\n",
       "      <th>BODY_P</th>\n",
       "      <th>TAGS_P</th>\n",
       "    </tr>\n",
       "  </thead>\n",
       "  <tbody>\n",
       "    <tr>\n",
       "      <th>0</th>\n",
       "      <td>Java generics variable &lt;T&gt; value</td>\n",
       "      <td>&lt;p&gt;At the moment I am using the following code...</td>\n",
       "      <td>6</td>\n",
       "      <td>&lt;java&gt;&lt;generics&gt;</td>\n",
       "      <td>java gener variabl valu</td>\n",
       "      <td>moment use follow code filter jpa reduc block ...</td>\n",
       "      <td>['java', 'generics']</td>\n",
       "    </tr>\n",
       "    <tr>\n",
       "      <th>1</th>\n",
       "      <td>How a value typed variable is copied when it i...</td>\n",
       "      <td>&lt;blockquote&gt;\\n  &lt;p&gt;Swift's string type is a va...</td>\n",
       "      <td>6</td>\n",
       "      <td>&lt;swift&gt;&lt;function&gt;&lt;value-type&gt;</td>\n",
       "      <td>valu type variabl copi pass function hold copi</td>\n",
       "      <td>swift string type valu type creat new string v...</td>\n",
       "      <td>['swift', 'function', 'value-type']</td>\n",
       "    </tr>\n",
       "    <tr>\n",
       "      <th>2</th>\n",
       "      <td>Error while waiting for device: The emulator p...</td>\n",
       "      <td>&lt;p&gt;I am a freshman for the development of the ...</td>\n",
       "      <td>6</td>\n",
       "      <td>&lt;android&gt;&lt;android-studio&gt;&lt;android-emulator&gt;&lt;avd&gt;</td>\n",
       "      <td>error wait devic emul process avd kill</td>\n",
       "      <td>freshman develop andriod suffer odd question r...</td>\n",
       "      <td>['android', 'android-studio', 'android-emulato...</td>\n",
       "    </tr>\n",
       "    <tr>\n",
       "      <th>3</th>\n",
       "      <td>gulp-inject not working with gulp-watch</td>\n",
       "      <td>&lt;p&gt;I am using gulp-inject to auto add SASS imp...</td>\n",
       "      <td>10</td>\n",
       "      <td>&lt;javascript&gt;&lt;node.js&gt;&lt;npm&gt;&lt;gulp&gt;&lt;gulp-watch&gt;</td>\n",
       "      <td>gulp inject work gulp watch</td>\n",
       "      <td>use gulp inject auto add sass import newli cre...</td>\n",
       "      <td>['javascript', 'node.js', 'npm', 'gulp', 'gulp...</td>\n",
       "    </tr>\n",
       "    <tr>\n",
       "      <th>4</th>\n",
       "      <td>React - Call function on props change</td>\n",
       "      <td>&lt;p&gt;My TranslationDetail component is passed an...</td>\n",
       "      <td>12</td>\n",
       "      <td>&lt;reactjs&gt;&lt;react-router&gt;</td>\n",
       "      <td>react call function prop chang</td>\n",
       "      <td>translationdetail compon pass id upon open bas...</td>\n",
       "      <td>['reactjs', 'react-router']</td>\n",
       "    </tr>\n",
       "  </tbody>\n",
       "</table>\n",
       "</div>"
      ],
      "text/plain": [
       "                                               TITLE  \\\n",
       "0                   Java generics variable <T> value   \n",
       "1  How a value typed variable is copied when it i...   \n",
       "2  Error while waiting for device: The emulator p...   \n",
       "3            gulp-inject not working with gulp-watch   \n",
       "4              React - Call function on props change   \n",
       "\n",
       "                                                BODY  SCORE  \\\n",
       "0  <p>At the moment I am using the following code...      6   \n",
       "1  <blockquote>\\n  <p>Swift's string type is a va...      6   \n",
       "2  <p>I am a freshman for the development of the ...      6   \n",
       "3  <p>I am using gulp-inject to auto add SASS imp...     10   \n",
       "4  <p>My TranslationDetail component is passed an...     12   \n",
       "\n",
       "                                               TAGS  \\\n",
       "0                                  <java><generics>   \n",
       "1                     <swift><function><value-type>   \n",
       "2  <android><android-studio><android-emulator><avd>   \n",
       "3      <javascript><node.js><npm><gulp><gulp-watch>   \n",
       "4                           <reactjs><react-router>   \n",
       "\n",
       "                                          TITLE_P  \\\n",
       "0                         java gener variabl valu   \n",
       "1  valu type variabl copi pass function hold copi   \n",
       "2          error wait devic emul process avd kill   \n",
       "3                     gulp inject work gulp watch   \n",
       "4                  react call function prop chang   \n",
       "\n",
       "                                              BODY_P  \\\n",
       "0  moment use follow code filter jpa reduc block ...   \n",
       "1  swift string type valu type creat new string v...   \n",
       "2  freshman develop andriod suffer odd question r...   \n",
       "3  use gulp inject auto add sass import newli cre...   \n",
       "4  translationdetail compon pass id upon open bas...   \n",
       "\n",
       "                                              TAGS_P  \n",
       "0                               ['java', 'generics']  \n",
       "1                ['swift', 'function', 'value-type']  \n",
       "2  ['android', 'android-studio', 'android-emulato...  \n",
       "3  ['javascript', 'node.js', 'npm', 'gulp', 'gulp...  \n",
       "4                        ['reactjs', 'react-router']  "
      ]
     },
     "execution_count": 4,
     "metadata": {},
     "output_type": "execute_result"
    }
   ],
   "source": [
    "df.head()"
   ]
  },
  {
   "cell_type": "code",
   "execution_count": 5,
   "metadata": {},
   "outputs": [
    {
     "data": {
      "text/plain": [
       "TITLE      object\n",
       "BODY       object\n",
       "SCORE       int64\n",
       "TAGS       object\n",
       "TITLE_P    object\n",
       "BODY_P     object\n",
       "TAGS_P     object\n",
       "dtype: object"
      ]
     },
     "execution_count": 5,
     "metadata": {},
     "output_type": "execute_result"
    }
   ],
   "source": [
    "df.dtypes"
   ]
  },
  {
   "cell_type": "markdown",
   "metadata": {},
   "source": [
    "La colonne TAGS_P est interprétée comme un chaîne de caractères. On va la forcer à être vue comme une list, ce qui sera plus simple pour les traitements."
   ]
  },
  {
   "cell_type": "code",
   "execution_count": 6,
   "metadata": {
    "collapsed": true
   },
   "outputs": [],
   "source": [
    "from ast import literal_eval\n",
    "df['TAGS_P'] = df['TAGS_P'].apply(literal_eval)"
   ]
  },
  {
   "cell_type": "markdown",
   "metadata": {},
   "source": [
    "# 2. Transformation des données"
   ]
  },
  {
   "cell_type": "markdown",
   "metadata": {},
   "source": [
    "## 2.1 Echantillonage"
   ]
  },
  {
   "cell_type": "markdown",
   "metadata": {},
   "source": [
    "Nous avons plus de 64 000 posts. Nous allons nous concentrer sur un échantillon de 15 000 posts."
   ]
  },
  {
   "cell_type": "code",
   "execution_count": 7,
   "metadata": {
    "collapsed": true
   },
   "outputs": [],
   "source": [
    "df_sample = df.sample(15000)"
   ]
  },
  {
   "cell_type": "code",
   "execution_count": 8,
   "metadata": {},
   "outputs": [
    {
     "data": {
      "text/plain": [
       "(15000, 7)"
      ]
     },
     "execution_count": 8,
     "metadata": {},
     "output_type": "execute_result"
    }
   ],
   "source": [
    "df_sample.shape"
   ]
  },
  {
   "cell_type": "markdown",
   "metadata": {},
   "source": [
    "** Analysons le nombre de mots que contient ce corpus.**"
   ]
  },
  {
   "cell_type": "code",
   "execution_count": 9,
   "metadata": {
    "collapsed": true
   },
   "outputs": [],
   "source": [
    "my_counter = Counter()\n",
    "for sentence in df_sample['TITLE_P']:\n",
    "    my_counter.update(sentence.split())\n",
    "for sentence in df_sample['BODY_P']:\n",
    "    my_counter.update(sentence.split())\n",
    "words_df = pd.DataFrame.from_dict(my_counter, orient='index')\n",
    "words_df.reset_index(drop = False, inplace = True)\n",
    "words_df= words_df.rename(columns={'index':'word', 0:'count'})"
   ]
  },
  {
   "cell_type": "code",
   "execution_count": 10,
   "metadata": {},
   "outputs": [
    {
     "data": {
      "text/plain": [
       "89659"
      ]
     },
     "execution_count": 10,
     "metadata": {},
     "output_type": "execute_result"
    }
   ],
   "source": [
    "words_df.shape[0]"
   ]
  },
  {
   "cell_type": "markdown",
   "metadata": {},
   "source": [
    "=> Notre corpus est composé environ de  **90 000 mots.**"
   ]
  },
  {
   "cell_type": "markdown",
   "metadata": {},
   "source": [
    "## 2.2 Filtre sur les tags les plus fréquents"
   ]
  },
  {
   "cell_type": "markdown",
   "metadata": {},
   "source": [
    "Regardons déjà dans un premier temps le nombre d'occurences par tag."
   ]
  },
  {
   "cell_type": "code",
   "execution_count": 11,
   "metadata": {
    "collapsed": true
   },
   "outputs": [],
   "source": [
    "counts = Counter()\n",
    "for tags_list in df['TAGS_P']:\n",
    "    counts.update(tags_list)\n",
    "tags_df = pd.DataFrame.from_dict(counts, orient='index')\n",
    "tags_df.reset_index(drop = False, inplace = True)\n",
    "tags_df= tags_df.rename(columns={'index':'tag', 0:'count'})"
   ]
  },
  {
   "cell_type": "markdown",
   "metadata": {},
   "source": [
    "La structures **tags_df** contient pour chacun des tags son occurence. <br/>\n",
    "Gardons que les tags qui sont présents dans au moins 10 documents."
   ]
  },
  {
   "cell_type": "code",
   "execution_count": 12,
   "metadata": {},
   "outputs": [
    {
     "data": {
      "text/plain": [
       "2114"
      ]
     },
     "execution_count": 12,
     "metadata": {},
     "output_type": "execute_result"
    }
   ],
   "source": [
    "len(tags_df[tags_df['count'] > 10])"
   ]
  },
  {
   "cell_type": "markdown",
   "metadata": {},
   "source": [
    "Nous nous retrouvons donc avec un peu plus de 2100 tags (14000 tags dans le dataset original)."
   ]
  },
  {
   "cell_type": "markdown",
   "metadata": {},
   "source": [
    "=> Filtrons maintenant notre sample en ne gardant que les posts contenant les tags les plus fréquents."
   ]
  },
  {
   "cell_type": "code",
   "execution_count": 13,
   "metadata": {
    "collapsed": true
   },
   "outputs": [],
   "source": [
    "frequent_tags = tags_df[tags_df['count'] > 10]['tag'].tolist()"
   ]
  },
  {
   "cell_type": "markdown",
   "metadata": {},
   "source": [
    "**frequent_tags** est la structure contenant les tags les plus présents."
   ]
  },
  {
   "cell_type": "code",
   "execution_count": 14,
   "metadata": {
    "collapsed": true
   },
   "outputs": [],
   "source": [
    "df_sample['TAGS_P'] = df_sample['TAGS_P'].apply(lambda x: [w for w in x if w in frequent_tags] )\n",
    "# On supprime les lignes qui n'ont plus de tags associés (car aucun n'est présent dans la liste frequent_tags)\n",
    "df_sample = df_sample[df_sample.astype(str)['TAGS_P'] != '[]']"
   ]
  },
  {
   "cell_type": "code",
   "execution_count": 15,
   "metadata": {},
   "outputs": [
    {
     "data": {
      "text/plain": [
       "(14857, 7)"
      ]
     },
     "execution_count": 15,
     "metadata": {},
     "output_type": "execute_result"
    }
   ],
   "source": [
    "df_sample.shape"
   ]
  },
  {
   "cell_type": "markdown",
   "metadata": {},
   "source": [
    "Notre dataset contient maintenant uniquement les posts avec tags fréquents."
   ]
  },
  {
   "cell_type": "markdown",
   "metadata": {},
   "source": [
    "## 2.3 Découpage en jeu entrainement et test"
   ]
  },
  {
   "cell_type": "markdown",
   "metadata": {},
   "source": [
    "Découpons nos données en jeu d'entrainement et jeu de test pour nos algorithmes d'apprentissage."
   ]
  },
  {
   "cell_type": "code",
   "execution_count": 16,
   "metadata": {
    "collapsed": true
   },
   "outputs": [],
   "source": [
    "X = df_sample[['TITLE', 'BODY','TITLE_P', 'BODY_P']]\n",
    "Y = df_sample[['TAGS_P']]"
   ]
  },
  {
   "cell_type": "markdown",
   "metadata": {},
   "source": [
    "70% des données pour entrainement et 30% pour les tests."
   ]
  },
  {
   "cell_type": "code",
   "execution_count": 17,
   "metadata": {
    "collapsed": true
   },
   "outputs": [],
   "source": [
    "x_train, x_test, y_train, y_test = model_selection.train_test_split(X,Y,test_size = 0.3,random_state = 0, shuffle = True)"
   ]
  },
  {
   "cell_type": "code",
   "execution_count": 18,
   "metadata": {},
   "outputs": [
    {
     "name": "stdout",
     "output_type": "stream",
     "text": [
      "train (10399, 4)\n",
      "test  (4458, 4)\n"
     ]
    }
   ],
   "source": [
    "print(\"train\", x_train.shape)\n",
    "print(\"test \",x_test.shape)"
   ]
  },
  {
   "cell_type": "markdown",
   "metadata": {},
   "source": [
    "On concatène le titre et le body qui ont été pré-traités pour notre apprentissage."
   ]
  },
  {
   "cell_type": "code",
   "execution_count": 19,
   "metadata": {
    "collapsed": true
   },
   "outputs": [],
   "source": [
    "x_train_text = x_train['TITLE_P'] + ' ' + x_train['BODY_P']"
   ]
  },
  {
   "cell_type": "markdown",
   "metadata": {},
   "source": [
    "## 2.4 Bag of words"
   ]
  },
  {
   "cell_type": "markdown",
   "metadata": {},
   "source": [
    "Pour pouvoir appliquer nos algorithmes de machine learning à nos données textuelles, il faut en extraire les features et représenter notre texte dans un modèle \"mathématique\".\n",
    "Pour celà nous allons utiliser la modélisation **Bag of Words** qui va donner une représentation sous forme de matrice de nos données."
   ]
  },
  {
   "cell_type": "markdown",
   "metadata": {},
   "source": [
    "- min_df = 5 : le mot doit être présent au moins dans 5 documents\n",
    "- max_df = 95% : si le mot est présent dans plus de 95% des documents, il ne nous aidera pas à trouver différencier les documents et on le supprime"
   ]
  },
  {
   "cell_type": "code",
   "execution_count": 20,
   "metadata": {},
   "outputs": [
    {
     "data": {
      "text/plain": [
       "(10399, 9221)"
      ]
     },
     "execution_count": 20,
     "metadata": {},
     "output_type": "execute_result"
    }
   ],
   "source": [
    "cv = CountVectorizer(min_df=5, max_df=0.95)\n",
    "data_vectorized = cv.fit_transform(x_train_text)\n",
    "cv_matrix = data_vectorized.toarray()\n",
    "cv_matrix.shape"
   ]
  },
  {
   "cell_type": "markdown",
   "metadata": {},
   "source": [
    "Voyons maintenant à quoi ressemble notre matrice."
   ]
  },
  {
   "cell_type": "code",
   "execution_count": 21,
   "metadata": {},
   "outputs": [
    {
     "data": {
      "text/html": [
       "<div>\n",
       "<style>\n",
       "    .dataframe thead tr:only-child th {\n",
       "        text-align: right;\n",
       "    }\n",
       "\n",
       "    .dataframe thead th {\n",
       "        text-align: left;\n",
       "    }\n",
       "\n",
       "    .dataframe tbody tr th {\n",
       "        vertical-align: top;\n",
       "    }\n",
       "</style>\n",
       "<table border=\"1\" class=\"dataframe\">\n",
       "  <thead>\n",
       "    <tr style=\"text-align: right;\">\n",
       "      <th></th>\n",
       "      <th>aa</th>\n",
       "      <th>aaa</th>\n",
       "      <th>aaaa</th>\n",
       "      <th>aaaaa</th>\n",
       "      <th>aac</th>\n",
       "      <th>aapt</th>\n",
       "      <th>aar</th>\n",
       "      <th>ab</th>\n",
       "      <th>aba</th>\n",
       "      <th>abandon</th>\n",
       "      <th>...</th>\n",
       "      <th>zonetask</th>\n",
       "      <th>zoo</th>\n",
       "      <th>zookeep</th>\n",
       "      <th>zoom</th>\n",
       "      <th>zygoteinit</th>\n",
       "      <th>zz</th>\n",
       "      <th>zza</th>\n",
       "      <th>zzb</th>\n",
       "      <th>zzd</th>\n",
       "      <th>µs</th>\n",
       "    </tr>\n",
       "  </thead>\n",
       "  <tbody>\n",
       "    <tr>\n",
       "      <th>0</th>\n",
       "      <td>0</td>\n",
       "      <td>0</td>\n",
       "      <td>0</td>\n",
       "      <td>0</td>\n",
       "      <td>0</td>\n",
       "      <td>0</td>\n",
       "      <td>0</td>\n",
       "      <td>0</td>\n",
       "      <td>0</td>\n",
       "      <td>0</td>\n",
       "      <td>...</td>\n",
       "      <td>0</td>\n",
       "      <td>0</td>\n",
       "      <td>0</td>\n",
       "      <td>0</td>\n",
       "      <td>0</td>\n",
       "      <td>0</td>\n",
       "      <td>0</td>\n",
       "      <td>0</td>\n",
       "      <td>0</td>\n",
       "      <td>0</td>\n",
       "    </tr>\n",
       "    <tr>\n",
       "      <th>1</th>\n",
       "      <td>0</td>\n",
       "      <td>0</td>\n",
       "      <td>0</td>\n",
       "      <td>0</td>\n",
       "      <td>0</td>\n",
       "      <td>0</td>\n",
       "      <td>0</td>\n",
       "      <td>0</td>\n",
       "      <td>0</td>\n",
       "      <td>0</td>\n",
       "      <td>...</td>\n",
       "      <td>0</td>\n",
       "      <td>0</td>\n",
       "      <td>0</td>\n",
       "      <td>0</td>\n",
       "      <td>0</td>\n",
       "      <td>0</td>\n",
       "      <td>0</td>\n",
       "      <td>0</td>\n",
       "      <td>0</td>\n",
       "      <td>0</td>\n",
       "    </tr>\n",
       "    <tr>\n",
       "      <th>2</th>\n",
       "      <td>0</td>\n",
       "      <td>0</td>\n",
       "      <td>0</td>\n",
       "      <td>0</td>\n",
       "      <td>0</td>\n",
       "      <td>0</td>\n",
       "      <td>0</td>\n",
       "      <td>0</td>\n",
       "      <td>0</td>\n",
       "      <td>0</td>\n",
       "      <td>...</td>\n",
       "      <td>0</td>\n",
       "      <td>0</td>\n",
       "      <td>0</td>\n",
       "      <td>0</td>\n",
       "      <td>0</td>\n",
       "      <td>0</td>\n",
       "      <td>0</td>\n",
       "      <td>0</td>\n",
       "      <td>0</td>\n",
       "      <td>0</td>\n",
       "    </tr>\n",
       "    <tr>\n",
       "      <th>3</th>\n",
       "      <td>0</td>\n",
       "      <td>0</td>\n",
       "      <td>0</td>\n",
       "      <td>0</td>\n",
       "      <td>0</td>\n",
       "      <td>0</td>\n",
       "      <td>0</td>\n",
       "      <td>0</td>\n",
       "      <td>0</td>\n",
       "      <td>0</td>\n",
       "      <td>...</td>\n",
       "      <td>0</td>\n",
       "      <td>0</td>\n",
       "      <td>0</td>\n",
       "      <td>0</td>\n",
       "      <td>0</td>\n",
       "      <td>0</td>\n",
       "      <td>0</td>\n",
       "      <td>0</td>\n",
       "      <td>0</td>\n",
       "      <td>0</td>\n",
       "    </tr>\n",
       "    <tr>\n",
       "      <th>4</th>\n",
       "      <td>0</td>\n",
       "      <td>0</td>\n",
       "      <td>0</td>\n",
       "      <td>0</td>\n",
       "      <td>0</td>\n",
       "      <td>0</td>\n",
       "      <td>0</td>\n",
       "      <td>0</td>\n",
       "      <td>0</td>\n",
       "      <td>0</td>\n",
       "      <td>...</td>\n",
       "      <td>0</td>\n",
       "      <td>0</td>\n",
       "      <td>0</td>\n",
       "      <td>0</td>\n",
       "      <td>0</td>\n",
       "      <td>0</td>\n",
       "      <td>0</td>\n",
       "      <td>0</td>\n",
       "      <td>0</td>\n",
       "      <td>0</td>\n",
       "    </tr>\n",
       "  </tbody>\n",
       "</table>\n",
       "<p>5 rows × 9221 columns</p>\n",
       "</div>"
      ],
      "text/plain": [
       "   aa  aaa  aaaa  aaaaa  aac  aapt  aar  ab  aba  abandon ...  zonetask  zoo  \\\n",
       "0   0    0     0      0    0     0    0   0    0        0 ...         0    0   \n",
       "1   0    0     0      0    0     0    0   0    0        0 ...         0    0   \n",
       "2   0    0     0      0    0     0    0   0    0        0 ...         0    0   \n",
       "3   0    0     0      0    0     0    0   0    0        0 ...         0    0   \n",
       "4   0    0     0      0    0     0    0   0    0        0 ...         0    0   \n",
       "\n",
       "   zookeep  zoom  zygoteinit  zz  zza  zzb  zzd  µs  \n",
       "0        0     0           0   0    0    0    0   0  \n",
       "1        0     0           0   0    0    0    0   0  \n",
       "2        0     0           0   0    0    0    0   0  \n",
       "3        0     0           0   0    0    0    0   0  \n",
       "4        0     0           0   0    0    0    0   0  \n",
       "\n",
       "[5 rows x 9221 columns]"
      ]
     },
     "execution_count": 21,
     "metadata": {},
     "output_type": "execute_result"
    }
   ],
   "source": [
    "#get all unique words in the corpus\n",
    "tf_feature_names = cv.get_feature_names()\n",
    "# show document feature vectors\n",
    "pd.DataFrame(cv_matrix, columns=tf_feature_names).head()"
   ]
  },
  {
   "cell_type": "markdown",
   "metadata": {},
   "source": [
    "Quels sont les mots les plus communs dans nos documents ?"
   ]
  },
  {
   "cell_type": "code",
   "execution_count": 22,
   "metadata": {},
   "outputs": [
    {
     "data": {
      "text/html": [
       "<div>\n",
       "<style>\n",
       "    .dataframe thead tr:only-child th {\n",
       "        text-align: right;\n",
       "    }\n",
       "\n",
       "    .dataframe thead th {\n",
       "        text-align: left;\n",
       "    }\n",
       "\n",
       "    .dataframe tbody tr th {\n",
       "        vertical-align: top;\n",
       "    }\n",
       "</style>\n",
       "<table border=\"1\" class=\"dataframe\">\n",
       "  <thead>\n",
       "    <tr style=\"text-align: right;\">\n",
       "      <th></th>\n",
       "      <th>count</th>\n",
       "    </tr>\n",
       "    <tr>\n",
       "      <th>word</th>\n",
       "      <th></th>\n",
       "    </tr>\n",
       "  </thead>\n",
       "  <tbody>\n",
       "    <tr>\n",
       "      <th>use</th>\n",
       "      <td>13581</td>\n",
       "    </tr>\n",
       "    <tr>\n",
       "      <th>android</th>\n",
       "      <td>10863</td>\n",
       "    </tr>\n",
       "    <tr>\n",
       "      <th>class</th>\n",
       "      <td>9109</td>\n",
       "    </tr>\n",
       "    <tr>\n",
       "      <th>error</th>\n",
       "      <td>8871</td>\n",
       "    </tr>\n",
       "    <tr>\n",
       "      <th>get</th>\n",
       "      <td>8232</td>\n",
       "    </tr>\n",
       "  </tbody>\n",
       "</table>\n",
       "</div>"
      ],
      "text/plain": [
       "         count\n",
       "word          \n",
       "use      13581\n",
       "android  10863\n",
       "class     9109\n",
       "error     8871\n",
       "get       8232"
      ]
     },
     "execution_count": 22,
     "metadata": {},
     "output_type": "execute_result"
    }
   ],
   "source": [
    "voc_freq_df = pd.DataFrame([list(a) for a in zip(tf_feature_names, np.asarray(cv_matrix.sum(axis=0)).ravel())])\n",
    "voc_freq_df.columns = ['word', 'count']\n",
    "voc_freq_df.set_index('word', inplace=True)\n",
    "voc_freq_df=voc_freq_df.sort_values('count', ascending=False)\n",
    "voc_freq_df.head()"
   ]
  },
  {
   "cell_type": "code",
   "execution_count": 23,
   "metadata": {},
   "outputs": [
    {
     "data": {
      "image/png": "[encoded data removed]",
      "text/plain": [
       "<matplotlib.figure.Figure at 0x1a12872668>"
      ]
     },
     "metadata": {},
     "output_type": "display_data"
    }
   ],
   "source": [
    "ax = voc_freq_df.head(50).plot(kind = 'bar', figsize = (14,4), color=\"#f56900\")\n",
    "plt.setp(ax.get_xticklabels(), rotation = 45, ha = 'right')\n",
    "plt.title('Top 50 words', fontsize = 'large')\n",
    "plt.xlabel('Words')\n",
    "plt.ylabel('Number of occurences')\n",
    "plt.show()"
   ]
  },
  {
   "cell_type": "markdown",
   "metadata": {},
   "source": [
    "=> use, android, class, error, ... sont très fréquents"
   ]
  },
  {
   "cell_type": "markdown",
   "metadata": {},
   "source": [
    "####  Sparsicity de la matrice"
   ]
  },
  {
   "cell_type": "markdown",
   "metadata": {},
   "source": [
    "Regardons le pourcentage de cellules non égales à 0."
   ]
  },
  {
   "cell_type": "code",
   "execution_count": 24,
   "metadata": {},
   "outputs": [
    {
     "name": "stdout",
     "output_type": "stream",
     "text": [
      "Sparsicity:  0.67 %\n"
     ]
    }
   ],
   "source": [
    "# Materialize the sparse data\n",
    "data_dense = data_vectorized.todense()\n",
    "\n",
    "# Compute Sparsicity = Percentage of Non-Zero cells\n",
    "print(\"Sparsicity:  {:.2f} %\".format( ((data_dense > 0).sum()/data_dense.size)*100, \"%\"))"
   ]
  },
  {
   "cell_type": "markdown",
   "metadata": {},
   "source": [
    "# 3. Topics Modeling LDA"
   ]
  },
  {
   "cell_type": "markdown",
   "metadata": {},
   "source": [
    "Essayons LDA (Allocation de Dirichlet Latente) pour modéliser les sujets."
   ]
  },
  {
   "cell_type": "markdown",
   "metadata": {},
   "source": [
    "## 3.1 Construction du modèle et tuning"
   ]
  },
  {
   "cell_type": "markdown",
   "metadata": {},
   "source": [
    "Nous allons utiliser la recherche sur grille pour trouver les meilleurs valeurs des hyper-paramètres."
   ]
  },
  {
   "cell_type": "code",
   "execution_count": 25,
   "metadata": {},
   "outputs": [
    {
     "data": {
      "text/plain": [
       "GridSearchCV(cv=None, error_score='raise',\n",
       "       estimator=LatentDirichletAllocation(batch_size=128, doc_topic_prior=None,\n",
       "             evaluate_every=-1, learning_decay=0.7, learning_method=None,\n",
       "             learning_offset=10.0, max_doc_update_iter=100, max_iter=10,\n",
       "             mean_change_tol=0.001, n_components=10, n_jobs=1,\n",
       "             n_topics=None, perp_tol=0.1, random_state=None,\n",
       "             topic_word_prior=None, total_samples=1000000.0, verbose=0),\n",
       "       fit_params=None, iid=True, n_jobs=1,\n",
       "       param_grid={'n_components': [10, 20, 30, 50, 70, 100], 'learning_method': ['batch'], 'max_iter': [10]},\n",
       "       pre_dispatch='2*n_jobs', refit=True, return_train_score=True,\n",
       "       scoring=None, verbose=0)"
      ]
     },
     "execution_count": 25,
     "metadata": {},
     "output_type": "execute_result"
    }
   ],
   "source": [
    "# Define Search Param\n",
    "search_params = {'n_components': [10, 20, 30, 50, 70, 100 ], 'learning_method':['batch'], 'max_iter':[10]}\n",
    "#search_params = {'n_components': [20 ], 'learning_method':['batch'], 'max_iter':[10]}\n",
    "\n",
    "# Init the Model\n",
    "lda = LatentDirichletAllocation()\n",
    "\n",
    "# Init Grid Search Class\n",
    "lda_model = GridSearchCV(lda, param_grid=search_params)\n",
    "\n",
    "# Do the Grid Search\n",
    "lda_model.fit(data_vectorized)"
   ]
  },
  {
   "cell_type": "markdown",
   "metadata": {},
   "source": [
    "Voyons les hyper-paramètres qui donnent la meilleure performance."
   ]
  },
  {
   "cell_type": "code",
   "execution_count": 26,
   "metadata": {},
   "outputs": [
    {
     "data": {
      "text/plain": [
       "{'learning_method': 'batch', 'max_iter': 10, 'n_components': 20}"
      ]
     },
     "execution_count": 26,
     "metadata": {},
     "output_type": "execute_result"
    }
   ],
   "source": [
    "lda_model.best_params_"
   ]
  },
  {
   "cell_type": "markdown",
   "metadata": {},
   "source": [
    "Nous pouvons partir sur 20 topics."
   ]
  },
  {
   "cell_type": "code",
   "execution_count": 27,
   "metadata": {
    "collapsed": true
   },
   "outputs": [],
   "source": [
    "best_lda_model = lda_model.best_estimator_"
   ]
  },
  {
   "cell_type": "code",
   "execution_count": 28,
   "metadata": {
    "collapsed": true
   },
   "outputs": [],
   "source": [
    "lda_output = best_lda_model.transform(data_vectorized)"
   ]
  },
  {
   "cell_type": "code",
   "execution_count": 29,
   "metadata": {},
   "outputs": [
    {
     "data": {
      "text/plain": [
       "(10399, 20)"
      ]
     },
     "execution_count": 29,
     "metadata": {},
     "output_type": "execute_result"
    }
   ],
   "source": [
    "lda_output.shape"
   ]
  },
  {
   "cell_type": "markdown",
   "metadata": {},
   "source": [
    "### Evaluation"
   ]
  },
  {
   "cell_type": "markdown",
   "metadata": {},
   "source": [
    "Regardons le score de perplexité et likehood de notre modèle."
   ]
  },
  {
   "cell_type": "code",
   "execution_count": 30,
   "metadata": {},
   "outputs": [
    {
     "name": "stdout",
     "output_type": "stream",
     "text": [
      "Perplexity :  1084.42013693\n"
     ]
    }
   ],
   "source": [
    "print(\"Perplexity : \",best_lda_model.perplexity(data_vectorized))"
   ]
  },
  {
   "cell_type": "code",
   "execution_count": 31,
   "metadata": {},
   "outputs": [
    {
     "name": "stdout",
     "output_type": "stream",
     "text": [
      "Log Likelihood:  -9972829.88288\n"
     ]
    }
   ],
   "source": [
    "# Log Likelyhood: Higher the better\n",
    "print(\"Log Likelihood: \", best_lda_model.score(data_vectorized))"
   ]
  },
  {
   "cell_type": "markdown",
   "metadata": {},
   "source": [
    "## 3.2 Analyse des résultats"
   ]
  },
  {
   "cell_type": "markdown",
   "metadata": {},
   "source": [
    "### Topics / Words"
   ]
  },
  {
   "cell_type": "markdown",
   "metadata": {},
   "source": [
    "Affichage de la matrice topics / words."
   ]
  },
  {
   "cell_type": "code",
   "execution_count": 32,
   "metadata": {},
   "outputs": [
    {
     "data": {
      "text/html": [
       "<div>\n",
       "<style>\n",
       "    .dataframe thead tr:only-child th {\n",
       "        text-align: right;\n",
       "    }\n",
       "\n",
       "    .dataframe thead th {\n",
       "        text-align: left;\n",
       "    }\n",
       "\n",
       "    .dataframe tbody tr th {\n",
       "        vertical-align: top;\n",
       "    }\n",
       "</style>\n",
       "<table border=\"1\" class=\"dataframe\">\n",
       "  <thead>\n",
       "    <tr style=\"text-align: right;\">\n",
       "      <th></th>\n",
       "      <th>aa</th>\n",
       "      <th>aaa</th>\n",
       "      <th>aaaa</th>\n",
       "      <th>aaaaa</th>\n",
       "      <th>aac</th>\n",
       "      <th>aapt</th>\n",
       "      <th>aar</th>\n",
       "      <th>ab</th>\n",
       "      <th>aba</th>\n",
       "      <th>abandon</th>\n",
       "      <th>...</th>\n",
       "      <th>zonetask</th>\n",
       "      <th>zoo</th>\n",
       "      <th>zookeep</th>\n",
       "      <th>zoom</th>\n",
       "      <th>zygoteinit</th>\n",
       "      <th>zz</th>\n",
       "      <th>zza</th>\n",
       "      <th>zzb</th>\n",
       "      <th>zzd</th>\n",
       "      <th>µs</th>\n",
       "    </tr>\n",
       "  </thead>\n",
       "  <tbody>\n",
       "    <tr>\n",
       "      <th>Topic0</th>\n",
       "      <td>0.626385</td>\n",
       "      <td>2.486672</td>\n",
       "      <td>0.050000</td>\n",
       "      <td>0.05</td>\n",
       "      <td>0.050000</td>\n",
       "      <td>0.050000</td>\n",
       "      <td>0.05</td>\n",
       "      <td>51.632947</td>\n",
       "      <td>0.050000</td>\n",
       "      <td>0.050000</td>\n",
       "      <td>...</td>\n",
       "      <td>0.05</td>\n",
       "      <td>0.050000</td>\n",
       "      <td>0.05</td>\n",
       "      <td>0.050000</td>\n",
       "      <td>0.05</td>\n",
       "      <td>0.587798</td>\n",
       "      <td>0.05</td>\n",
       "      <td>0.05</td>\n",
       "      <td>0.05</td>\n",
       "      <td>0.05</td>\n",
       "    </tr>\n",
       "    <tr>\n",
       "      <th>Topic1</th>\n",
       "      <td>0.202653</td>\n",
       "      <td>0.138592</td>\n",
       "      <td>0.050000</td>\n",
       "      <td>0.05</td>\n",
       "      <td>3.104334</td>\n",
       "      <td>0.050000</td>\n",
       "      <td>0.05</td>\n",
       "      <td>1.094783</td>\n",
       "      <td>0.050000</td>\n",
       "      <td>0.050000</td>\n",
       "      <td>...</td>\n",
       "      <td>0.05</td>\n",
       "      <td>0.050000</td>\n",
       "      <td>0.05</td>\n",
       "      <td>12.452119</td>\n",
       "      <td>0.05</td>\n",
       "      <td>0.050000</td>\n",
       "      <td>0.05</td>\n",
       "      <td>0.05</td>\n",
       "      <td>0.05</td>\n",
       "      <td>0.05</td>\n",
       "    </tr>\n",
       "    <tr>\n",
       "      <th>Topic2</th>\n",
       "      <td>0.050000</td>\n",
       "      <td>0.050000</td>\n",
       "      <td>0.050000</td>\n",
       "      <td>0.05</td>\n",
       "      <td>0.050000</td>\n",
       "      <td>0.050000</td>\n",
       "      <td>0.05</td>\n",
       "      <td>12.839114</td>\n",
       "      <td>0.050000</td>\n",
       "      <td>2.034273</td>\n",
       "      <td>...</td>\n",
       "      <td>0.05</td>\n",
       "      <td>2.806694</td>\n",
       "      <td>0.05</td>\n",
       "      <td>0.050000</td>\n",
       "      <td>0.05</td>\n",
       "      <td>0.050000</td>\n",
       "      <td>0.05</td>\n",
       "      <td>0.05</td>\n",
       "      <td>0.05</td>\n",
       "      <td>29.05</td>\n",
       "    </tr>\n",
       "    <tr>\n",
       "      <th>Topic3</th>\n",
       "      <td>0.050000</td>\n",
       "      <td>0.050000</td>\n",
       "      <td>0.050000</td>\n",
       "      <td>0.05</td>\n",
       "      <td>0.050000</td>\n",
       "      <td>0.050000</td>\n",
       "      <td>0.05</td>\n",
       "      <td>0.050000</td>\n",
       "      <td>0.099626</td>\n",
       "      <td>6.953873</td>\n",
       "      <td>...</td>\n",
       "      <td>0.05</td>\n",
       "      <td>0.050000</td>\n",
       "      <td>0.05</td>\n",
       "      <td>0.050000</td>\n",
       "      <td>0.05</td>\n",
       "      <td>0.050000</td>\n",
       "      <td>0.05</td>\n",
       "      <td>0.05</td>\n",
       "      <td>0.05</td>\n",
       "      <td>0.05</td>\n",
       "    </tr>\n",
       "    <tr>\n",
       "      <th>Topic4</th>\n",
       "      <td>0.050000</td>\n",
       "      <td>0.050000</td>\n",
       "      <td>0.050000</td>\n",
       "      <td>0.05</td>\n",
       "      <td>0.050000</td>\n",
       "      <td>26.609170</td>\n",
       "      <td>95.05</td>\n",
       "      <td>0.050000</td>\n",
       "      <td>0.050000</td>\n",
       "      <td>0.050000</td>\n",
       "      <td>...</td>\n",
       "      <td>0.05</td>\n",
       "      <td>0.050000</td>\n",
       "      <td>0.05</td>\n",
       "      <td>0.050000</td>\n",
       "      <td>0.05</td>\n",
       "      <td>0.050000</td>\n",
       "      <td>0.05</td>\n",
       "      <td>0.05</td>\n",
       "      <td>0.05</td>\n",
       "      <td>0.05</td>\n",
       "    </tr>\n",
       "    <tr>\n",
       "      <th>Topic5</th>\n",
       "      <td>0.050000</td>\n",
       "      <td>0.050000</td>\n",
       "      <td>0.050000</td>\n",
       "      <td>0.05</td>\n",
       "      <td>0.050000</td>\n",
       "      <td>0.050000</td>\n",
       "      <td>0.05</td>\n",
       "      <td>0.050000</td>\n",
       "      <td>0.050000</td>\n",
       "      <td>0.050000</td>\n",
       "      <td>...</td>\n",
       "      <td>0.05</td>\n",
       "      <td>0.050000</td>\n",
       "      <td>0.05</td>\n",
       "      <td>0.050000</td>\n",
       "      <td>0.05</td>\n",
       "      <td>0.050000</td>\n",
       "      <td>0.05</td>\n",
       "      <td>0.05</td>\n",
       "      <td>0.05</td>\n",
       "      <td>0.05</td>\n",
       "    </tr>\n",
       "    <tr>\n",
       "      <th>Topic6</th>\n",
       "      <td>0.050000</td>\n",
       "      <td>0.050000</td>\n",
       "      <td>0.050000</td>\n",
       "      <td>0.05</td>\n",
       "      <td>3.050000</td>\n",
       "      <td>0.050000</td>\n",
       "      <td>0.05</td>\n",
       "      <td>7.558481</td>\n",
       "      <td>0.050000</td>\n",
       "      <td>0.050000</td>\n",
       "      <td>...</td>\n",
       "      <td>0.05</td>\n",
       "      <td>0.050000</td>\n",
       "      <td>0.05</td>\n",
       "      <td>0.050000</td>\n",
       "      <td>0.05</td>\n",
       "      <td>0.050000</td>\n",
       "      <td>0.05</td>\n",
       "      <td>0.05</td>\n",
       "      <td>0.05</td>\n",
       "      <td>0.05</td>\n",
       "    </tr>\n",
       "    <tr>\n",
       "      <th>Topic7</th>\n",
       "      <td>0.171726</td>\n",
       "      <td>0.050000</td>\n",
       "      <td>0.050000</td>\n",
       "      <td>0.05</td>\n",
       "      <td>0.050000</td>\n",
       "      <td>0.050000</td>\n",
       "      <td>0.05</td>\n",
       "      <td>0.050000</td>\n",
       "      <td>0.050000</td>\n",
       "      <td>0.050000</td>\n",
       "      <td>...</td>\n",
       "      <td>0.05</td>\n",
       "      <td>0.050000</td>\n",
       "      <td>0.05</td>\n",
       "      <td>0.050000</td>\n",
       "      <td>0.05</td>\n",
       "      <td>0.050000</td>\n",
       "      <td>0.05</td>\n",
       "      <td>0.05</td>\n",
       "      <td>0.05</td>\n",
       "      <td>0.05</td>\n",
       "    </tr>\n",
       "    <tr>\n",
       "      <th>Topic8</th>\n",
       "      <td>0.050000</td>\n",
       "      <td>0.050000</td>\n",
       "      <td>0.050000</td>\n",
       "      <td>0.05</td>\n",
       "      <td>0.050000</td>\n",
       "      <td>0.050000</td>\n",
       "      <td>0.05</td>\n",
       "      <td>0.050000</td>\n",
       "      <td>0.050000</td>\n",
       "      <td>0.050000</td>\n",
       "      <td>...</td>\n",
       "      <td>0.05</td>\n",
       "      <td>0.050000</td>\n",
       "      <td>0.05</td>\n",
       "      <td>47.363978</td>\n",
       "      <td>0.05</td>\n",
       "      <td>0.050000</td>\n",
       "      <td>0.05</td>\n",
       "      <td>0.05</td>\n",
       "      <td>0.05</td>\n",
       "      <td>0.05</td>\n",
       "    </tr>\n",
       "    <tr>\n",
       "      <th>Topic9</th>\n",
       "      <td>23.284961</td>\n",
       "      <td>4.510523</td>\n",
       "      <td>0.050000</td>\n",
       "      <td>0.05</td>\n",
       "      <td>0.050000</td>\n",
       "      <td>0.050000</td>\n",
       "      <td>0.05</td>\n",
       "      <td>53.554750</td>\n",
       "      <td>0.050000</td>\n",
       "      <td>0.050000</td>\n",
       "      <td>...</td>\n",
       "      <td>0.05</td>\n",
       "      <td>0.050000</td>\n",
       "      <td>0.05</td>\n",
       "      <td>0.050000</td>\n",
       "      <td>0.05</td>\n",
       "      <td>1.812318</td>\n",
       "      <td>0.05</td>\n",
       "      <td>0.05</td>\n",
       "      <td>0.05</td>\n",
       "      <td>0.05</td>\n",
       "    </tr>\n",
       "    <tr>\n",
       "      <th>Topic10</th>\n",
       "      <td>0.050000</td>\n",
       "      <td>4.488573</td>\n",
       "      <td>0.050000</td>\n",
       "      <td>0.05</td>\n",
       "      <td>4.950963</td>\n",
       "      <td>0.050000</td>\n",
       "      <td>0.05</td>\n",
       "      <td>1.637213</td>\n",
       "      <td>0.050000</td>\n",
       "      <td>0.050000</td>\n",
       "      <td>...</td>\n",
       "      <td>9.05</td>\n",
       "      <td>0.050000</td>\n",
       "      <td>6.05</td>\n",
       "      <td>0.050000</td>\n",
       "      <td>0.05</td>\n",
       "      <td>0.050000</td>\n",
       "      <td>0.05</td>\n",
       "      <td>0.05</td>\n",
       "      <td>0.05</td>\n",
       "      <td>0.05</td>\n",
       "    </tr>\n",
       "    <tr>\n",
       "      <th>Topic11</th>\n",
       "      <td>40.882373</td>\n",
       "      <td>50.553866</td>\n",
       "      <td>11.260732</td>\n",
       "      <td>7.05</td>\n",
       "      <td>0.050000</td>\n",
       "      <td>0.050000</td>\n",
       "      <td>0.05</td>\n",
       "      <td>67.351771</td>\n",
       "      <td>10.960619</td>\n",
       "      <td>0.050000</td>\n",
       "      <td>...</td>\n",
       "      <td>0.05</td>\n",
       "      <td>7.584433</td>\n",
       "      <td>0.05</td>\n",
       "      <td>0.050000</td>\n",
       "      <td>0.05</td>\n",
       "      <td>10.102614</td>\n",
       "      <td>0.05</td>\n",
       "      <td>0.05</td>\n",
       "      <td>0.05</td>\n",
       "      <td>0.05</td>\n",
       "    </tr>\n",
       "    <tr>\n",
       "      <th>Topic12</th>\n",
       "      <td>5.061062</td>\n",
       "      <td>0.050000</td>\n",
       "      <td>0.050000</td>\n",
       "      <td>0.05</td>\n",
       "      <td>0.050000</td>\n",
       "      <td>0.050000</td>\n",
       "      <td>0.05</td>\n",
       "      <td>1.204140</td>\n",
       "      <td>0.050000</td>\n",
       "      <td>0.050000</td>\n",
       "      <td>...</td>\n",
       "      <td>0.05</td>\n",
       "      <td>0.050000</td>\n",
       "      <td>0.05</td>\n",
       "      <td>26.612901</td>\n",
       "      <td>0.05</td>\n",
       "      <td>0.050000</td>\n",
       "      <td>0.05</td>\n",
       "      <td>0.05</td>\n",
       "      <td>0.05</td>\n",
       "      <td>0.05</td>\n",
       "    </tr>\n",
       "    <tr>\n",
       "      <th>Topic13</th>\n",
       "      <td>4.151294</td>\n",
       "      <td>0.909560</td>\n",
       "      <td>0.050000</td>\n",
       "      <td>0.05</td>\n",
       "      <td>0.050000</td>\n",
       "      <td>0.050073</td>\n",
       "      <td>0.05</td>\n",
       "      <td>7.506254</td>\n",
       "      <td>0.050000</td>\n",
       "      <td>0.050000</td>\n",
       "      <td>...</td>\n",
       "      <td>0.05</td>\n",
       "      <td>0.050000</td>\n",
       "      <td>0.05</td>\n",
       "      <td>0.050000</td>\n",
       "      <td>0.05</td>\n",
       "      <td>0.050000</td>\n",
       "      <td>0.05</td>\n",
       "      <td>0.05</td>\n",
       "      <td>0.05</td>\n",
       "      <td>0.05</td>\n",
       "    </tr>\n",
       "    <tr>\n",
       "      <th>Topic14</th>\n",
       "      <td>0.050846</td>\n",
       "      <td>0.050000</td>\n",
       "      <td>0.050000</td>\n",
       "      <td>0.05</td>\n",
       "      <td>4.094703</td>\n",
       "      <td>0.050000</td>\n",
       "      <td>0.05</td>\n",
       "      <td>0.050000</td>\n",
       "      <td>0.050000</td>\n",
       "      <td>0.050000</td>\n",
       "      <td>...</td>\n",
       "      <td>0.05</td>\n",
       "      <td>0.050000</td>\n",
       "      <td>0.05</td>\n",
       "      <td>0.050000</td>\n",
       "      <td>0.05</td>\n",
       "      <td>0.050000</td>\n",
       "      <td>0.05</td>\n",
       "      <td>0.05</td>\n",
       "      <td>0.05</td>\n",
       "      <td>0.05</td>\n",
       "    </tr>\n",
       "    <tr>\n",
       "      <th>Topic15</th>\n",
       "      <td>5.724421</td>\n",
       "      <td>0.050000</td>\n",
       "      <td>25.839268</td>\n",
       "      <td>0.05</td>\n",
       "      <td>0.050000</td>\n",
       "      <td>0.050000</td>\n",
       "      <td>0.05</td>\n",
       "      <td>0.050000</td>\n",
       "      <td>0.050000</td>\n",
       "      <td>1.161854</td>\n",
       "      <td>...</td>\n",
       "      <td>0.05</td>\n",
       "      <td>1.758873</td>\n",
       "      <td>0.05</td>\n",
       "      <td>0.050000</td>\n",
       "      <td>0.05</td>\n",
       "      <td>0.050000</td>\n",
       "      <td>0.05</td>\n",
       "      <td>0.05</td>\n",
       "      <td>0.05</td>\n",
       "      <td>0.05</td>\n",
       "    </tr>\n",
       "    <tr>\n",
       "      <th>Topic16</th>\n",
       "      <td>0.050000</td>\n",
       "      <td>0.050000</td>\n",
       "      <td>0.050000</td>\n",
       "      <td>0.05</td>\n",
       "      <td>0.050000</td>\n",
       "      <td>0.050000</td>\n",
       "      <td>0.05</td>\n",
       "      <td>0.050459</td>\n",
       "      <td>4.089755</td>\n",
       "      <td>0.050000</td>\n",
       "      <td>...</td>\n",
       "      <td>0.05</td>\n",
       "      <td>0.050000</td>\n",
       "      <td>0.05</td>\n",
       "      <td>0.050000</td>\n",
       "      <td>0.05</td>\n",
       "      <td>0.223811</td>\n",
       "      <td>0.05</td>\n",
       "      <td>0.05</td>\n",
       "      <td>0.05</td>\n",
       "      <td>0.05</td>\n",
       "    </tr>\n",
       "    <tr>\n",
       "      <th>Topic17</th>\n",
       "      <td>44.125687</td>\n",
       "      <td>0.050000</td>\n",
       "      <td>0.050000</td>\n",
       "      <td>0.05</td>\n",
       "      <td>0.050000</td>\n",
       "      <td>0.050000</td>\n",
       "      <td>0.05</td>\n",
       "      <td>0.050000</td>\n",
       "      <td>0.050000</td>\n",
       "      <td>0.050000</td>\n",
       "      <td>...</td>\n",
       "      <td>0.05</td>\n",
       "      <td>0.050000</td>\n",
       "      <td>0.05</td>\n",
       "      <td>64.771001</td>\n",
       "      <td>0.05</td>\n",
       "      <td>1.523459</td>\n",
       "      <td>0.05</td>\n",
       "      <td>0.05</td>\n",
       "      <td>0.05</td>\n",
       "      <td>0.05</td>\n",
       "    </tr>\n",
       "    <tr>\n",
       "      <th>Topic18</th>\n",
       "      <td>3.608643</td>\n",
       "      <td>0.050000</td>\n",
       "      <td>0.050000</td>\n",
       "      <td>0.05</td>\n",
       "      <td>0.050000</td>\n",
       "      <td>13.490757</td>\n",
       "      <td>0.05</td>\n",
       "      <td>0.050000</td>\n",
       "      <td>0.050000</td>\n",
       "      <td>0.050000</td>\n",
       "      <td>...</td>\n",
       "      <td>0.05</td>\n",
       "      <td>0.050000</td>\n",
       "      <td>0.05</td>\n",
       "      <td>0.050000</td>\n",
       "      <td>0.05</td>\n",
       "      <td>0.050000</td>\n",
       "      <td>0.05</td>\n",
       "      <td>0.05</td>\n",
       "      <td>0.05</td>\n",
       "      <td>0.05</td>\n",
       "    </tr>\n",
       "    <tr>\n",
       "      <th>Topic19</th>\n",
       "      <td>8.709950</td>\n",
       "      <td>8.262215</td>\n",
       "      <td>0.050000</td>\n",
       "      <td>0.05</td>\n",
       "      <td>0.050000</td>\n",
       "      <td>0.050000</td>\n",
       "      <td>0.05</td>\n",
       "      <td>0.120087</td>\n",
       "      <td>0.050000</td>\n",
       "      <td>0.050000</td>\n",
       "      <td>...</td>\n",
       "      <td>0.05</td>\n",
       "      <td>0.050000</td>\n",
       "      <td>0.05</td>\n",
       "      <td>0.050000</td>\n",
       "      <td>206.05</td>\n",
       "      <td>0.050000</td>\n",
       "      <td>19.05</td>\n",
       "      <td>20.05</td>\n",
       "      <td>16.05</td>\n",
       "      <td>0.05</td>\n",
       "    </tr>\n",
       "  </tbody>\n",
       "</table>\n",
       "<p>20 rows × 9221 columns</p>\n",
       "</div>"
      ],
      "text/plain": [
       "                aa        aaa       aaaa  aaaaa       aac       aapt    aar  \\\n",
       "Topic0    0.626385   2.486672   0.050000   0.05  0.050000   0.050000   0.05   \n",
       "Topic1    0.202653   0.138592   0.050000   0.05  3.104334   0.050000   0.05   \n",
       "Topic2    0.050000   0.050000   0.050000   0.05  0.050000   0.050000   0.05   \n",
       "Topic3    0.050000   0.050000   0.050000   0.05  0.050000   0.050000   0.05   \n",
       "Topic4    0.050000   0.050000   0.050000   0.05  0.050000  26.609170  95.05   \n",
       "Topic5    0.050000   0.050000   0.050000   0.05  0.050000   0.050000   0.05   \n",
       "Topic6    0.050000   0.050000   0.050000   0.05  3.050000   0.050000   0.05   \n",
       "Topic7    0.171726   0.050000   0.050000   0.05  0.050000   0.050000   0.05   \n",
       "Topic8    0.050000   0.050000   0.050000   0.05  0.050000   0.050000   0.05   \n",
       "Topic9   23.284961   4.510523   0.050000   0.05  0.050000   0.050000   0.05   \n",
       "Topic10   0.050000   4.488573   0.050000   0.05  4.950963   0.050000   0.05   \n",
       "Topic11  40.882373  50.553866  11.260732   7.05  0.050000   0.050000   0.05   \n",
       "Topic12   5.061062   0.050000   0.050000   0.05  0.050000   0.050000   0.05   \n",
       "Topic13   4.151294   0.909560   0.050000   0.05  0.050000   0.050073   0.05   \n",
       "Topic14   0.050846   0.050000   0.050000   0.05  4.094703   0.050000   0.05   \n",
       "Topic15   5.724421   0.050000  25.839268   0.05  0.050000   0.050000   0.05   \n",
       "Topic16   0.050000   0.050000   0.050000   0.05  0.050000   0.050000   0.05   \n",
       "Topic17  44.125687   0.050000   0.050000   0.05  0.050000   0.050000   0.05   \n",
       "Topic18   3.608643   0.050000   0.050000   0.05  0.050000  13.490757   0.05   \n",
       "Topic19   8.709950   8.262215   0.050000   0.05  0.050000   0.050000   0.05   \n",
       "\n",
       "                ab        aba   abandon  ...    zonetask       zoo  zookeep  \\\n",
       "Topic0   51.632947   0.050000  0.050000  ...        0.05  0.050000     0.05   \n",
       "Topic1    1.094783   0.050000  0.050000  ...        0.05  0.050000     0.05   \n",
       "Topic2   12.839114   0.050000  2.034273  ...        0.05  2.806694     0.05   \n",
       "Topic3    0.050000   0.099626  6.953873  ...        0.05  0.050000     0.05   \n",
       "Topic4    0.050000   0.050000  0.050000  ...        0.05  0.050000     0.05   \n",
       "Topic5    0.050000   0.050000  0.050000  ...        0.05  0.050000     0.05   \n",
       "Topic6    7.558481   0.050000  0.050000  ...        0.05  0.050000     0.05   \n",
       "Topic7    0.050000   0.050000  0.050000  ...        0.05  0.050000     0.05   \n",
       "Topic8    0.050000   0.050000  0.050000  ...        0.05  0.050000     0.05   \n",
       "Topic9   53.554750   0.050000  0.050000  ...        0.05  0.050000     0.05   \n",
       "Topic10   1.637213   0.050000  0.050000  ...        9.05  0.050000     6.05   \n",
       "Topic11  67.351771  10.960619  0.050000  ...        0.05  7.584433     0.05   \n",
       "Topic12   1.204140   0.050000  0.050000  ...        0.05  0.050000     0.05   \n",
       "Topic13   7.506254   0.050000  0.050000  ...        0.05  0.050000     0.05   \n",
       "Topic14   0.050000   0.050000  0.050000  ...        0.05  0.050000     0.05   \n",
       "Topic15   0.050000   0.050000  1.161854  ...        0.05  1.758873     0.05   \n",
       "Topic16   0.050459   4.089755  0.050000  ...        0.05  0.050000     0.05   \n",
       "Topic17   0.050000   0.050000  0.050000  ...        0.05  0.050000     0.05   \n",
       "Topic18   0.050000   0.050000  0.050000  ...        0.05  0.050000     0.05   \n",
       "Topic19   0.120087   0.050000  0.050000  ...        0.05  0.050000     0.05   \n",
       "\n",
       "              zoom  zygoteinit         zz    zza    zzb    zzd     µs  \n",
       "Topic0    0.050000        0.05   0.587798   0.05   0.05   0.05   0.05  \n",
       "Topic1   12.452119        0.05   0.050000   0.05   0.05   0.05   0.05  \n",
       "Topic2    0.050000        0.05   0.050000   0.05   0.05   0.05  29.05  \n",
       "Topic3    0.050000        0.05   0.050000   0.05   0.05   0.05   0.05  \n",
       "Topic4    0.050000        0.05   0.050000   0.05   0.05   0.05   0.05  \n",
       "Topic5    0.050000        0.05   0.050000   0.05   0.05   0.05   0.05  \n",
       "Topic6    0.050000        0.05   0.050000   0.05   0.05   0.05   0.05  \n",
       "Topic7    0.050000        0.05   0.050000   0.05   0.05   0.05   0.05  \n",
       "Topic8   47.363978        0.05   0.050000   0.05   0.05   0.05   0.05  \n",
       "Topic9    0.050000        0.05   1.812318   0.05   0.05   0.05   0.05  \n",
       "Topic10   0.050000        0.05   0.050000   0.05   0.05   0.05   0.05  \n",
       "Topic11   0.050000        0.05  10.102614   0.05   0.05   0.05   0.05  \n",
       "Topic12  26.612901        0.05   0.050000   0.05   0.05   0.05   0.05  \n",
       "Topic13   0.050000        0.05   0.050000   0.05   0.05   0.05   0.05  \n",
       "Topic14   0.050000        0.05   0.050000   0.05   0.05   0.05   0.05  \n",
       "Topic15   0.050000        0.05   0.050000   0.05   0.05   0.05   0.05  \n",
       "Topic16   0.050000        0.05   0.223811   0.05   0.05   0.05   0.05  \n",
       "Topic17  64.771001        0.05   1.523459   0.05   0.05   0.05   0.05  \n",
       "Topic18   0.050000        0.05   0.050000   0.05   0.05   0.05   0.05  \n",
       "Topic19   0.050000      206.05   0.050000  19.05  20.05  16.05   0.05  \n",
       "\n",
       "[20 rows x 9221 columns]"
      ]
     },
     "execution_count": 32,
     "metadata": {},
     "output_type": "execute_result"
    }
   ],
   "source": [
    "# liste des topics\n",
    "topicnames = [\"Topic\" + str(i) for i in range(best_lda_model.n_components)]\n",
    "\n",
    "# Topic-Keyword Matrice\n",
    "df_topic_keywords = pd.DataFrame(best_lda_model.components_)\n",
    "df_topic_keywords.columns = tf_feature_names\n",
    "df_topic_keywords.index = topicnames\n",
    "\n",
    "df_topic_keywords"
   ]
  },
  {
   "cell_type": "code",
   "execution_count": 33,
   "metadata": {
    "collapsed": true
   },
   "outputs": [],
   "source": [
    "# Méthode qui retourne pour chacun des topics le top \"n_words\" mots\n",
    "def show_topics(feature_names, tp_model, n_words=20):\n",
    "    keywords = np.array(feature_names)\n",
    "    topic_keywords = []\n",
    "    for topic_weights in tp_model.components_:\n",
    "        top_keyword_locs = (-topic_weights).argsort()[:n_words]\n",
    "        topic_keywords.append(keywords.take(top_keyword_locs))\n",
    "    return topic_keywords"
   ]
  },
  {
   "cell_type": "code",
   "execution_count": 34,
   "metadata": {},
   "outputs": [
    {
     "data": {
      "text/html": [
       "<div>\n",
       "<style>\n",
       "    .dataframe thead tr:only-child th {\n",
       "        text-align: right;\n",
       "    }\n",
       "\n",
       "    .dataframe thead th {\n",
       "        text-align: left;\n",
       "    }\n",
       "\n",
       "    .dataframe tbody tr th {\n",
       "        vertical-align: top;\n",
       "    }\n",
       "</style>\n",
       "<table border=\"1\" class=\"dataframe\">\n",
       "  <thead>\n",
       "    <tr style=\"text-align: right;\">\n",
       "      <th></th>\n",
       "      <th>Word 0</th>\n",
       "      <th>Word 1</th>\n",
       "      <th>Word 2</th>\n",
       "      <th>Word 3</th>\n",
       "      <th>Word 4</th>\n",
       "      <th>Word 5</th>\n",
       "      <th>Word 6</th>\n",
       "      <th>Word 7</th>\n",
       "      <th>Word 8</th>\n",
       "      <th>Word 9</th>\n",
       "    </tr>\n",
       "  </thead>\n",
       "  <tbody>\n",
       "    <tr>\n",
       "      <th>Topic 0</th>\n",
       "      <td>model</td>\n",
       "      <td>tf</td>\n",
       "      <td>input</td>\n",
       "      <td>tensorflow</td>\n",
       "      <td>np</td>\n",
       "      <td>true</td>\n",
       "      <td>graph</td>\n",
       "      <td>train</td>\n",
       "      <td>false</td>\n",
       "      <td>shape</td>\n",
       "    </tr>\n",
       "    <tr>\n",
       "      <th>Topic 1</th>\n",
       "      <td>self</td>\n",
       "      <td>let</td>\n",
       "      <td>var</td>\n",
       "      <td>date</td>\n",
       "      <td>if</td>\n",
       "      <td>the</td>\n",
       "      <td>func</td>\n",
       "      <td>true</td>\n",
       "      <td>in</td>\n",
       "      <td>value</td>\n",
       "    </tr>\n",
       "    <tr>\n",
       "      <th>Topic 2</th>\n",
       "      <td>foo</td>\n",
       "      <td>in</td>\n",
       "      <td>id</td>\n",
       "      <td>bar</td>\n",
       "      <td>column</td>\n",
       "      <td>df</td>\n",
       "      <td>list</td>\n",
       "      <td>as</td>\n",
       "      <td>from</td>\n",
       "      <td>rb</td>\n",
       "    </tr>\n",
       "    <tr>\n",
       "      <th>Topic 3</th>\n",
       "      <td>use</td>\n",
       "      <td>net</td>\n",
       "      <td>system</td>\n",
       "      <td>server</td>\n",
       "      <td>applic</td>\n",
       "      <td>microsoft</td>\n",
       "      <td>project</td>\n",
       "      <td>run</td>\n",
       "      <td>web</td>\n",
       "      <td>window</td>\n",
       "    </tr>\n",
       "    <tr>\n",
       "      <th>Topic 4</th>\n",
       "      <td>android</td>\n",
       "      <td>com</td>\n",
       "      <td>google</td>\n",
       "      <td>compile</td>\n",
       "      <td>support</td>\n",
       "      <td>error</td>\n",
       "      <td>build</td>\n",
       "      <td>gradl</td>\n",
       "      <td>gradle</td>\n",
       "      <td>play</td>\n",
       "    </tr>\n",
       "    <tr>\n",
       "      <th>Topic 5</th>\n",
       "      <td>std</td>\n",
       "      <td>type</td>\n",
       "      <td>int</td>\n",
       "      <td>function</td>\n",
       "      <td>const</td>\n",
       "      <td>class</td>\n",
       "      <td>compil</td>\n",
       "      <td>use</td>\n",
       "      <td>error</td>\n",
       "      <td>return</td>\n",
       "    </tr>\n",
       "    <tr>\n",
       "      <th>Topic 6</th>\n",
       "      <td>java</td>\n",
       "      <td>at</td>\n",
       "      <td>org</td>\n",
       "      <td>spark</td>\n",
       "      <td>apache</td>\n",
       "      <td>internal</td>\n",
       "      <td>scala</td>\n",
       "      <td>run</td>\n",
       "      <td>util</td>\n",
       "      <td>lang</td>\n",
       "    </tr>\n",
       "    <tr>\n",
       "      <th>Topic 7</th>\n",
       "      <td>use</td>\n",
       "      <td>app</td>\n",
       "      <td>test</td>\n",
       "      <td>file</td>\n",
       "      <td>work</td>\n",
       "      <td>tri</td>\n",
       "      <td>error</td>\n",
       "      <td>get</td>\n",
       "      <td>io</td>\n",
       "      <td>run</td>\n",
       "    </tr>\n",
       "    <tr>\n",
       "      <th>Topic 8</th>\n",
       "      <td>this</td>\n",
       "      <td>react</td>\n",
       "      <td>view</td>\n",
       "      <td>compon</td>\n",
       "      <td>state</td>\n",
       "      <td>import</td>\n",
       "      <td>item</td>\n",
       "      <td>return</td>\n",
       "      <td>child</td>\n",
       "      <td>render</td>\n",
       "    </tr>\n",
       "    <tr>\n",
       "      <th>Topic 9</th>\n",
       "      <td>the</td>\n",
       "      <td>to</td>\n",
       "      <td>name</td>\n",
       "      <td>file</td>\n",
       "      <td>http</td>\n",
       "      <td>docker</td>\n",
       "      <td>error</td>\n",
       "      <td>com</td>\n",
       "      <td>php</td>\n",
       "      <td>id</td>\n",
       "    </tr>\n",
       "    <tr>\n",
       "      <th>Topic 10</th>\n",
       "      <td>js</td>\n",
       "      <td>node</td>\n",
       "      <td>modules</td>\n",
       "      <td>src</td>\n",
       "      <td>angular</td>\n",
       "      <td>npm</td>\n",
       "      <td>webpack</td>\n",
       "      <td>at</td>\n",
       "      <td>app</td>\n",
       "      <td>modul</td>\n",
       "    </tr>\n",
       "    <tr>\n",
       "      <th>Topic 11</th>\n",
       "      <td>int</td>\n",
       "      <td>use</td>\n",
       "      <td>code</td>\n",
       "      <td>would</td>\n",
       "      <td>time</td>\n",
       "      <td>array</td>\n",
       "      <td>one</td>\n",
       "      <td>like</td>\n",
       "      <td>function</td>\n",
       "      <td>valu</td>\n",
       "    </tr>\n",
       "    <tr>\n",
       "      <th>Topic 12</th>\n",
       "      <td>div</td>\n",
       "      <td>class</td>\n",
       "      <td>px</td>\n",
       "      <td>text</td>\n",
       "      <td>width</td>\n",
       "      <td>style</td>\n",
       "      <td>li</td>\n",
       "      <td>color</td>\n",
       "      <td>span</td>\n",
       "      <td>button</td>\n",
       "    </tr>\n",
       "    <tr>\n",
       "      <th>Topic 13</th>\n",
       "      <td>org</td>\n",
       "      <td>jar</td>\n",
       "      <td>spring</td>\n",
       "      <td>java</td>\n",
       "      <td>springframework</td>\n",
       "      <td>boot</td>\n",
       "      <td>version</td>\n",
       "      <td>build</td>\n",
       "      <td>release</td>\n",
       "      <td>maven</td>\n",
       "    </tr>\n",
       "    <tr>\n",
       "      <th>Topic 14</th>\n",
       "      <td>function</td>\n",
       "      <td>user</td>\n",
       "      <td>request</td>\n",
       "      <td>log</td>\n",
       "      <td>this</td>\n",
       "      <td>error</td>\n",
       "      <td>return</td>\n",
       "      <td>data</td>\n",
       "      <td>console</td>\n",
       "      <td>get</td>\n",
       "    </tr>\n",
       "    <tr>\n",
       "      <th>Topic 15</th>\n",
       "      <td>string</td>\n",
       "      <td>public</td>\n",
       "      <td>class</td>\n",
       "      <td>new</td>\n",
       "      <td>return</td>\n",
       "      <td>name</td>\n",
       "      <td>object</td>\n",
       "      <td>method</td>\n",
       "      <td>use</td>\n",
       "      <td>get</td>\n",
       "    </tr>\n",
       "    <tr>\n",
       "      <th>Topic 16</th>\n",
       "      <td>import</td>\n",
       "      <td>angular</td>\n",
       "      <td>python</td>\n",
       "      <td>from</td>\n",
       "      <td>file</td>\n",
       "      <td>py</td>\n",
       "      <td>in</td>\n",
       "      <td>ts</td>\n",
       "      <td>lib</td>\n",
       "      <td>line</td>\n",
       "    </tr>\n",
       "    <tr>\n",
       "      <th>Topic 17</th>\n",
       "      <td>data</td>\n",
       "      <td>file</td>\n",
       "      <td>imag</td>\n",
       "      <td>image</td>\n",
       "      <td>html</td>\n",
       "      <td>use</td>\n",
       "      <td>option</td>\n",
       "      <td>select</td>\n",
       "      <td>content</td>\n",
       "      <td>array</td>\n",
       "    </tr>\n",
       "    <tr>\n",
       "      <th>Topic 18</th>\n",
       "      <td>android</td>\n",
       "      <td>layout</td>\n",
       "      <td>id</td>\n",
       "      <td>app</td>\n",
       "      <td>intent</td>\n",
       "      <td>view</td>\n",
       "      <td>parent</td>\n",
       "      <td>new</td>\n",
       "      <td>height</td>\n",
       "      <td>content</td>\n",
       "    </tr>\n",
       "    <tr>\n",
       "      <th>Topic 19</th>\n",
       "      <td>java</td>\n",
       "      <td>android</td>\n",
       "      <td>at</td>\n",
       "      <td>com</td>\n",
       "      <td>app</td>\n",
       "      <td>lang</td>\n",
       "      <td>os</td>\n",
       "      <td>view</td>\n",
       "      <td>activitythread</td>\n",
       "      <td>system</td>\n",
       "    </tr>\n",
       "  </tbody>\n",
       "</table>\n",
       "</div>"
      ],
      "text/plain": [
       "            Word 0   Word 1   Word 2      Word 3           Word 4     Word 5  \\\n",
       "Topic 0      model       tf    input  tensorflow               np       true   \n",
       "Topic 1       self      let      var        date               if        the   \n",
       "Topic 2        foo       in       id         bar           column         df   \n",
       "Topic 3        use      net   system      server           applic  microsoft   \n",
       "Topic 4    android      com   google     compile          support      error   \n",
       "Topic 5        std     type      int    function            const      class   \n",
       "Topic 6       java       at      org       spark           apache   internal   \n",
       "Topic 7        use      app     test        file             work        tri   \n",
       "Topic 8       this    react     view      compon            state     import   \n",
       "Topic 9        the       to     name        file             http     docker   \n",
       "Topic 10        js     node  modules         src          angular        npm   \n",
       "Topic 11       int      use     code       would             time      array   \n",
       "Topic 12       div    class       px        text            width      style   \n",
       "Topic 13       org      jar   spring        java  springframework       boot   \n",
       "Topic 14  function     user  request         log             this      error   \n",
       "Topic 15    string   public    class         new           return       name   \n",
       "Topic 16    import  angular   python        from             file         py   \n",
       "Topic 17      data     file     imag       image             html        use   \n",
       "Topic 18   android   layout       id         app           intent       view   \n",
       "Topic 19      java  android       at         com              app       lang   \n",
       "\n",
       "           Word 6  Word 7          Word 8   Word 9  \n",
       "Topic 0     graph   train           false    shape  \n",
       "Topic 1      func    true              in    value  \n",
       "Topic 2      list      as            from       rb  \n",
       "Topic 3   project     run             web   window  \n",
       "Topic 4     build   gradl          gradle     play  \n",
       "Topic 5    compil     use           error   return  \n",
       "Topic 6     scala     run            util     lang  \n",
       "Topic 7     error     get              io      run  \n",
       "Topic 8      item  return           child   render  \n",
       "Topic 9     error     com             php       id  \n",
       "Topic 10  webpack      at             app    modul  \n",
       "Topic 11      one    like        function     valu  \n",
       "Topic 12       li   color            span   button  \n",
       "Topic 13  version   build         release    maven  \n",
       "Topic 14   return    data         console      get  \n",
       "Topic 15   object  method             use      get  \n",
       "Topic 16       in      ts             lib     line  \n",
       "Topic 17   option  select         content    array  \n",
       "Topic 18   parent     new          height  content  \n",
       "Topic 19       os    view  activitythread   system  "
      ]
     },
     "execution_count": 34,
     "metadata": {},
     "output_type": "execute_result"
    }
   ],
   "source": [
    "topic_keywords = show_topics(tf_feature_names, best_lda_model, n_words=10)        \n",
    "\n",
    "# Topic - Keywords Dataframe\n",
    "df_topic_keywords = pd.DataFrame(topic_keywords)\n",
    "df_topic_keywords.columns = ['Word '+str(i) for i in range(df_topic_keywords.shape[1])]\n",
    "df_topic_keywords.index = ['Topic '+str(i) for i in range(df_topic_keywords.shape[0])]\n",
    "df_topic_keywords"
   ]
  },
  {
   "cell_type": "markdown",
   "metadata": {},
   "source": [
    "Nous pouvons interpréter certains topics : <br/>\n",
    "- le sujet 1 : Tableau HTML\n",
    "- Le sujet 7 : Androïd \n",
    "- Le sujet 9 : Requêtes HTTP \n",
    "- Le sujet 15 : Microsoft / .Net\n",
    "- Le sujet 16 : Java / Apache\n",
    "- Le sujet 17 : Python\n",
    "- Le sujet 19 : System / Installation\n",
    "..."
   ]
  },
  {
   "cell_type": "markdown",
   "metadata": {},
   "source": [
    "###  Docs / Topics"
   ]
  },
  {
   "cell_type": "markdown",
   "metadata": {},
   "source": [
    "Voyons maintenant le topic associé à quelques documents."
   ]
  },
  {
   "cell_type": "code",
   "execution_count": 35,
   "metadata": {
    "collapsed": true
   },
   "outputs": [],
   "source": [
    "'''\n",
    "Affiche pour chacun des topics, le top n documents qui sont les plus pertinent pour ce topic.\n",
    "@H : word_to_topics matrix\n",
    "@W : topics_to_docs matrix\n",
    "'''\n",
    "def display_topics(H, W, feature_names, documents, targets, no_top_words, no_top_documents):\n",
    "    for topic_idx, topic in enumerate(H):\n",
    "        print (\"Topic %d : \" % (topic_idx) + \" \".join([feature_names[i]\n",
    "                        for i in topic.argsort()[:-no_top_words - 1:-1]]))\n",
    "        top_doc_indices = np.argsort( W[:,topic_idx] )[::-1][0:no_top_documents]\n",
    "        for doc_index in top_doc_indices:\n",
    "            print (\"Doc\",doc_index,\" Title:\", documents.iloc[doc_index].TITLE[0:60],\n",
    "                   \"- Tags:\", targets.iloc[doc_index].TAGS_P)\n",
    "        print(\"\")"
   ]
  },
  {
   "cell_type": "code",
   "execution_count": 36,
   "metadata": {},
   "outputs": [
    {
     "name": "stdout",
     "output_type": "stream",
     "text": [
      "Topic 0 : model tf input tensorflow np true graph train false shape\n",
      "Doc 9725  Title: How to use tf.contrib.seq2seq.Helper for non-embedding data? - Tags: ['tensorflow']\n",
      "Doc 9642  Title: Perceptron learning algorithm doesn't work - Tags: ['python', 'machine-learning', 'neural-network']\n",
      "\n",
      "Topic 1 : self let var date if the func true in value\n",
      "Doc 4963  Title: Find element by ios_ui not working - Tags: ['python', 'ios', 'appium']\n",
      "Doc 2181  Title: AVPlayer does not play video Instantly on iOS 10, while audi - Tags: ['ios', 'objective-c', 'avplayer', 'ios10']\n",
      "\n",
      "Topic 2 : foo in id bar column df list as from rb\n",
      "Doc 37  Title: python function call with/without list comprehension - Tags: ['python', 'python-3.x']\n",
      "Doc 9309  Title: SQL query to count a column in all tables - Tags: ['sql', 'sql-server', 'tsql', 'pivot']\n",
      "\n",
      "Topic 3 : use net system server applic microsoft project run web window\n",
      "Doc 4799  Title: Version for package `Microsoft.EntityFrameworkCore.Tools.Dot - Tags: ['c#', '.net', 'entity-framework', 'core']\n",
      "Doc 1619  Title: How to set aspnetcore_environment in publish file? - Tags: ['configuration', 'asp.net-core', '.net-core', 'asp.net-core-1.0', 'coreclr']\n",
      "\n",
      "Topic 4 : android com google compile support error build gradl gradle play\n",
      "Doc 934  Title: Android gradle androidDependencies command errors - Tags: ['android', 'android-studio', 'android-gradle']\n",
      "Doc 10180  Title: Getting error when run react-native run-android - Tags: ['android', 'gradle', 'react-native']\n",
      "\n",
      "Topic 5 : std type int function const class compil use error return\n",
      "Doc 305  Title: Why does std::forward have two overloads? - Tags: ['c++', 'c++11', 'reference', 'rvalue', 'perfect-forwarding']\n",
      "Doc 277  Title: How does returning std::make_unique<SubClass> work? - Tags: ['c++', 'move', 'unique-ptr']\n",
      "\n",
      "Topic 6 : java at org spark apache internal scala run util lang\n",
      "Doc 6741  Title: Sonar Jacoco for Kotlin Setup not generating code coverage - Tags: ['android', 'sonarqube', 'jacoco']\n",
      "Doc 4393  Title: upgrade to solr 6.1, exception ClassNotFoundException: solr. - Tags: ['solr']\n",
      "\n",
      "Topic 7 : use app test file work tri error get io run\n",
      "Doc 6382  Title: Why does the makefile insist on compiling things it should n - Tags: ['c', 'makefile']\n",
      "Doc 3624  Title: Proper workflow for testing a julia package locally on multi - Tags: ['julia-lang']\n",
      "\n",
      "Topic 8 : this react view compon state import item return child render\n",
      "Doc 2630  Title: React Native - Pagination of ListViews in ScrollView? - Tags: ['react-native', 'react-native-listview']\n",
      "Doc 3864  Title: Where to dispatch multiple actions in redux? - Tags: ['javascript', 'redux']\n",
      "\n",
      "Topic 9 : the to name file http docker error com php id\n",
      "Doc 10263  Title: ERROR: In file './docker-compose.yml', service 'volumes' mus - Tags: ['docker', 'docker-compose', 'docker-registry']\n",
      "Doc 6816  Title: Nginx with phpmyadmin wrong direction on login - Tags: ['php', 'nginx', 'phpmyadmin']\n",
      "\n",
      "Topic 10 : js node modules src angular npm webpack at app modul\n",
      "Doc 8696  Title: error with babel when running node.js `Couldn't find preset  - Tags: ['node.js', 'express', 'babel']\n",
      "Doc 1655  Title: istanbul report can't find source maps - Tags: ['angular', 'karma-jasmine', 'angular-cli']\n",
      "\n",
      "Topic 11 : int use code would time array one like function valu\n",
      "Doc 531  Title: Perl 6: what's the best way to check if an element is in a l - Tags: ['perl6']\n",
      "Doc 7509  Title: How to compute sine wave with accuracy over the time - Tags: ['c', 'algorithm', 'audio']\n",
      "\n",
      "Topic 12 : div class px text width style li color span button\n",
      "Doc 3702  Title: Bug : Overlay loading automatically (bootstrap) (laravel 5.2 - Tags: ['javascript', 'php', 'jquery', 'twitter-bootstrap', 'chart.js']\n",
      "Doc 7098  Title: Bootstrap Mobile Menu 100% - Tags: ['html', 'css', 'twitter-bootstrap', 'css3']\n",
      "\n",
      "Topic 13 : org jar spring java springframework boot version build release maven\n",
      "Doc 4796  Title: How to add a dependency to a Spring Boot Jar in another proj - Tags: ['maven', 'spring-boot', 'jar']\n",
      "Doc 8355  Title: IllegalArgumentException: At least one JPA metamodel must be - Tags: ['java', 'spring', 'maven', 'jpa']\n",
      "\n",
      "Topic 14 : function user request log this error return data console get\n",
      "Doc 3716  Title: Observable.forkJoin() doesn't executes - Tags: ['angular', 'rxjs', 'observable', 'rxjs5', 'angularfire2']\n",
      "Doc 4094  Title: Using Firebase reauthenticate - Tags: ['javascript', 'firebase', 'firebase-authentication', 'angularfire2']\n",
      "\n",
      "Topic 15 : string public class new return name object method use get\n",
      "Doc 2617  Title: Propagate property changes through multiple classes - Tags: ['c#', 'properties']\n",
      "Doc 4538  Title: Why won't the DLR (dynamic) bind to a private type? - Tags: ['c#', '.net', 'dynamic']\n",
      "\n",
      "Topic 16 : import angular python from file py in ts lib line\n",
      "Doc 6486  Title: \"PermissionError: [Errno 13] Permission denied: '/usr/lib/py - Tags: ['python', 'django', 'pip', 'virtualenv']\n",
      "Doc 9063  Title: Gensim installation problems - Tags: ['python', 'pip', 'gensim']\n",
      "\n",
      "Topic 17 : data file imag image html use option select content array\n",
      "Doc 615  Title: Select2 jquery plugin show number of selected items in the r - Tags: ['javascript', 'jquery']\n",
      "Doc 1628  Title: How to make a horizontal scrolling PDF document in HTML/Java - Tags: ['javascript', 'html', 'pdf']\n",
      "\n",
      "Topic 18 : android layout id app intent view parent new height content\n",
      "Doc 7539  Title: Color of TextView shows as white on a real device with Const - Tags: ['android', 'android-layout', 'android-constraintlayout']\n",
      "Doc 6557  Title: How to move a TextView into the Toolbar through CoordinatorL - Tags: ['android', 'android-recyclerview', 'android-coordinatorlayout']\n",
      "\n",
      "Topic 19 : java android at com app lang os view activitythread system\n",
      "Doc 2334  Title: Webview shows error \"Didn't find class \"android.webkit.Rende - Tags: ['android', 'webview']\n",
      "Doc 5587  Title: Firebase database getInstance crashes app - Tags: ['firebase', 'firebase-database']\n",
      "\n"
     ]
    }
   ],
   "source": [
    "display_topics(best_lda_model.components_, lda_output, tf_feature_names, x_train, y_train, 10, 2)"
   ]
  },
  {
   "cell_type": "markdown",
   "metadata": {},
   "source": [
    "- **Stockons pour chaque document, le topic qui a la plus grande prédominance**"
   ]
  },
  {
   "cell_type": "code",
   "execution_count": 37,
   "metadata": {
    "collapsed": true
   },
   "outputs": [],
   "source": [
    "# id des posts\n",
    "docnames = [\"Doc\" + str(i) for i in range(len(x_train))]\n",
    "\n",
    "# On crée un dataframe\n",
    "df_document_topic = pd.DataFrame(np.round(lda_output, 4), columns=topicnames, index=docnames)\n",
    "\n",
    "# On rajoute une colonne contenant le numéro du topic prédominant\n",
    "dominant_topic = np.argmax(df_document_topic.values, axis=1)\n",
    "df_document_topic['Dominant_Topic'] = dominant_topic"
   ]
  },
  {
   "cell_type": "code",
   "execution_count": 38,
   "metadata": {},
   "outputs": [
    {
     "data": {
      "text/html": [
       "<div>\n",
       "<style>\n",
       "    .dataframe thead tr:only-child th {\n",
       "        text-align: right;\n",
       "    }\n",
       "\n",
       "    .dataframe thead th {\n",
       "        text-align: left;\n",
       "    }\n",
       "\n",
       "    .dataframe tbody tr th {\n",
       "        vertical-align: top;\n",
       "    }\n",
       "</style>\n",
       "<table border=\"1\" class=\"dataframe\">\n",
       "  <thead>\n",
       "    <tr style=\"text-align: right;\">\n",
       "      <th></th>\n",
       "      <th>Topic0</th>\n",
       "      <th>Topic1</th>\n",
       "      <th>Topic2</th>\n",
       "      <th>Topic3</th>\n",
       "      <th>Topic4</th>\n",
       "      <th>Topic5</th>\n",
       "      <th>Topic6</th>\n",
       "      <th>Topic7</th>\n",
       "      <th>Topic8</th>\n",
       "      <th>Topic9</th>\n",
       "      <th>...</th>\n",
       "      <th>Topic11</th>\n",
       "      <th>Topic12</th>\n",
       "      <th>Topic13</th>\n",
       "      <th>Topic14</th>\n",
       "      <th>Topic15</th>\n",
       "      <th>Topic16</th>\n",
       "      <th>Topic17</th>\n",
       "      <th>Topic18</th>\n",
       "      <th>Topic19</th>\n",
       "      <th>Dominant_Topic</th>\n",
       "    </tr>\n",
       "  </thead>\n",
       "  <tbody>\n",
       "    <tr>\n",
       "      <th>Doc0</th>\n",
       "      <td>0.0013</td>\n",
       "      <td>0.0013</td>\n",
       "      <td>0.0013</td>\n",
       "      <td>0.0013</td>\n",
       "      <td>0.0013</td>\n",
       "      <td>0.0013</td>\n",
       "      <td>0.0013</td>\n",
       "      <td>0.4763</td>\n",
       "      <td>0.0013</td>\n",
       "      <td>0.0013</td>\n",
       "      <td>...</td>\n",
       "      <td>0.2431</td>\n",
       "      <td>0.0013</td>\n",
       "      <td>0.0013</td>\n",
       "      <td>0.2251</td>\n",
       "      <td>0.0013</td>\n",
       "      <td>0.0013</td>\n",
       "      <td>0.0013</td>\n",
       "      <td>0.0350</td>\n",
       "      <td>0.0013</td>\n",
       "      <td>7</td>\n",
       "    </tr>\n",
       "    <tr>\n",
       "      <th>Doc1</th>\n",
       "      <td>0.0003</td>\n",
       "      <td>0.0003</td>\n",
       "      <td>0.0452</td>\n",
       "      <td>0.0003</td>\n",
       "      <td>0.0003</td>\n",
       "      <td>0.3489</td>\n",
       "      <td>0.0003</td>\n",
       "      <td>0.0003</td>\n",
       "      <td>0.0003</td>\n",
       "      <td>0.1337</td>\n",
       "      <td>...</td>\n",
       "      <td>0.3587</td>\n",
       "      <td>0.0003</td>\n",
       "      <td>0.0003</td>\n",
       "      <td>0.0003</td>\n",
       "      <td>0.0003</td>\n",
       "      <td>0.1096</td>\n",
       "      <td>0.0003</td>\n",
       "      <td>0.0003</td>\n",
       "      <td>0.0003</td>\n",
       "      <td>11</td>\n",
       "    </tr>\n",
       "    <tr>\n",
       "      <th>Doc2</th>\n",
       "      <td>0.0868</td>\n",
       "      <td>0.0007</td>\n",
       "      <td>0.1960</td>\n",
       "      <td>0.0007</td>\n",
       "      <td>0.0007</td>\n",
       "      <td>0.1251</td>\n",
       "      <td>0.0007</td>\n",
       "      <td>0.0007</td>\n",
       "      <td>0.0007</td>\n",
       "      <td>0.0007</td>\n",
       "      <td>...</td>\n",
       "      <td>0.1994</td>\n",
       "      <td>0.0007</td>\n",
       "      <td>0.0007</td>\n",
       "      <td>0.0007</td>\n",
       "      <td>0.3825</td>\n",
       "      <td>0.0007</td>\n",
       "      <td>0.0007</td>\n",
       "      <td>0.0007</td>\n",
       "      <td>0.0007</td>\n",
       "      <td>15</td>\n",
       "    </tr>\n",
       "    <tr>\n",
       "      <th>Doc3</th>\n",
       "      <td>0.0003</td>\n",
       "      <td>0.0003</td>\n",
       "      <td>0.0003</td>\n",
       "      <td>0.0003</td>\n",
       "      <td>0.0003</td>\n",
       "      <td>0.7527</td>\n",
       "      <td>0.0003</td>\n",
       "      <td>0.0003</td>\n",
       "      <td>0.0003</td>\n",
       "      <td>0.0003</td>\n",
       "      <td>...</td>\n",
       "      <td>0.0341</td>\n",
       "      <td>0.0003</td>\n",
       "      <td>0.0527</td>\n",
       "      <td>0.0003</td>\n",
       "      <td>0.0003</td>\n",
       "      <td>0.0499</td>\n",
       "      <td>0.1058</td>\n",
       "      <td>0.0003</td>\n",
       "      <td>0.0003</td>\n",
       "      <td>5</td>\n",
       "    </tr>\n",
       "    <tr>\n",
       "      <th>Doc4</th>\n",
       "      <td>0.3098</td>\n",
       "      <td>0.0004</td>\n",
       "      <td>0.4503</td>\n",
       "      <td>0.0004</td>\n",
       "      <td>0.0004</td>\n",
       "      <td>0.0271</td>\n",
       "      <td>0.0004</td>\n",
       "      <td>0.0004</td>\n",
       "      <td>0.0004</td>\n",
       "      <td>0.0004</td>\n",
       "      <td>...</td>\n",
       "      <td>0.0004</td>\n",
       "      <td>0.0004</td>\n",
       "      <td>0.0004</td>\n",
       "      <td>0.0004</td>\n",
       "      <td>0.0004</td>\n",
       "      <td>0.0004</td>\n",
       "      <td>0.2062</td>\n",
       "      <td>0.0004</td>\n",
       "      <td>0.0004</td>\n",
       "      <td>2</td>\n",
       "    </tr>\n",
       "    <tr>\n",
       "      <th>Doc5</th>\n",
       "      <td>0.0019</td>\n",
       "      <td>0.0019</td>\n",
       "      <td>0.1775</td>\n",
       "      <td>0.0019</td>\n",
       "      <td>0.0019</td>\n",
       "      <td>0.0019</td>\n",
       "      <td>0.0019</td>\n",
       "      <td>0.0019</td>\n",
       "      <td>0.0019</td>\n",
       "      <td>0.0019</td>\n",
       "      <td>...</td>\n",
       "      <td>0.0019</td>\n",
       "      <td>0.0019</td>\n",
       "      <td>0.0019</td>\n",
       "      <td>0.0019</td>\n",
       "      <td>0.7879</td>\n",
       "      <td>0.0019</td>\n",
       "      <td>0.0019</td>\n",
       "      <td>0.0019</td>\n",
       "      <td>0.0019</td>\n",
       "      <td>15</td>\n",
       "    </tr>\n",
       "    <tr>\n",
       "      <th>Doc6</th>\n",
       "      <td>0.0006</td>\n",
       "      <td>0.0006</td>\n",
       "      <td>0.0006</td>\n",
       "      <td>0.0266</td>\n",
       "      <td>0.0006</td>\n",
       "      <td>0.0961</td>\n",
       "      <td>0.0006</td>\n",
       "      <td>0.0006</td>\n",
       "      <td>0.4555</td>\n",
       "      <td>0.0006</td>\n",
       "      <td>...</td>\n",
       "      <td>0.0006</td>\n",
       "      <td>0.1247</td>\n",
       "      <td>0.0006</td>\n",
       "      <td>0.1831</td>\n",
       "      <td>0.1051</td>\n",
       "      <td>0.0006</td>\n",
       "      <td>0.0006</td>\n",
       "      <td>0.0006</td>\n",
       "      <td>0.0006</td>\n",
       "      <td>8</td>\n",
       "    </tr>\n",
       "    <tr>\n",
       "      <th>Doc7</th>\n",
       "      <td>0.0003</td>\n",
       "      <td>0.0003</td>\n",
       "      <td>0.0314</td>\n",
       "      <td>0.0003</td>\n",
       "      <td>0.0003</td>\n",
       "      <td>0.0003</td>\n",
       "      <td>0.0003</td>\n",
       "      <td>0.0003</td>\n",
       "      <td>0.0003</td>\n",
       "      <td>0.0003</td>\n",
       "      <td>...</td>\n",
       "      <td>0.8836</td>\n",
       "      <td>0.0003</td>\n",
       "      <td>0.0003</td>\n",
       "      <td>0.0396</td>\n",
       "      <td>0.0003</td>\n",
       "      <td>0.0003</td>\n",
       "      <td>0.0399</td>\n",
       "      <td>0.0003</td>\n",
       "      <td>0.0003</td>\n",
       "      <td>11</td>\n",
       "    </tr>\n",
       "    <tr>\n",
       "      <th>Doc8</th>\n",
       "      <td>0.0022</td>\n",
       "      <td>0.0022</td>\n",
       "      <td>0.3378</td>\n",
       "      <td>0.0022</td>\n",
       "      <td>0.0022</td>\n",
       "      <td>0.3208</td>\n",
       "      <td>0.0022</td>\n",
       "      <td>0.0022</td>\n",
       "      <td>0.0022</td>\n",
       "      <td>0.0022</td>\n",
       "      <td>...</td>\n",
       "      <td>0.0022</td>\n",
       "      <td>0.0022</td>\n",
       "      <td>0.0022</td>\n",
       "      <td>0.0022</td>\n",
       "      <td>0.3044</td>\n",
       "      <td>0.0022</td>\n",
       "      <td>0.0022</td>\n",
       "      <td>0.0022</td>\n",
       "      <td>0.0022</td>\n",
       "      <td>2</td>\n",
       "    </tr>\n",
       "    <tr>\n",
       "      <th>Doc9</th>\n",
       "      <td>0.0004</td>\n",
       "      <td>0.0004</td>\n",
       "      <td>0.0004</td>\n",
       "      <td>0.0004</td>\n",
       "      <td>0.0004</td>\n",
       "      <td>0.3885</td>\n",
       "      <td>0.0004</td>\n",
       "      <td>0.0004</td>\n",
       "      <td>0.0004</td>\n",
       "      <td>0.0004</td>\n",
       "      <td>...</td>\n",
       "      <td>0.0004</td>\n",
       "      <td>0.0004</td>\n",
       "      <td>0.0004</td>\n",
       "      <td>0.0004</td>\n",
       "      <td>0.4553</td>\n",
       "      <td>0.1487</td>\n",
       "      <td>0.0004</td>\n",
       "      <td>0.0004</td>\n",
       "      <td>0.0004</td>\n",
       "      <td>15</td>\n",
       "    </tr>\n",
       "  </tbody>\n",
       "</table>\n",
       "<p>10 rows × 21 columns</p>\n",
       "</div>"
      ],
      "text/plain": [
       "      Topic0  Topic1  Topic2  Topic3  Topic4  Topic5  Topic6  Topic7  Topic8  \\\n",
       "Doc0  0.0013  0.0013  0.0013  0.0013  0.0013  0.0013  0.0013  0.4763  0.0013   \n",
       "Doc1  0.0003  0.0003  0.0452  0.0003  0.0003  0.3489  0.0003  0.0003  0.0003   \n",
       "Doc2  0.0868  0.0007  0.1960  0.0007  0.0007  0.1251  0.0007  0.0007  0.0007   \n",
       "Doc3  0.0003  0.0003  0.0003  0.0003  0.0003  0.7527  0.0003  0.0003  0.0003   \n",
       "Doc4  0.3098  0.0004  0.4503  0.0004  0.0004  0.0271  0.0004  0.0004  0.0004   \n",
       "Doc5  0.0019  0.0019  0.1775  0.0019  0.0019  0.0019  0.0019  0.0019  0.0019   \n",
       "Doc6  0.0006  0.0006  0.0006  0.0266  0.0006  0.0961  0.0006  0.0006  0.4555   \n",
       "Doc7  0.0003  0.0003  0.0314  0.0003  0.0003  0.0003  0.0003  0.0003  0.0003   \n",
       "Doc8  0.0022  0.0022  0.3378  0.0022  0.0022  0.3208  0.0022  0.0022  0.0022   \n",
       "Doc9  0.0004  0.0004  0.0004  0.0004  0.0004  0.3885  0.0004  0.0004  0.0004   \n",
       "\n",
       "      Topic9       ...        Topic11  Topic12  Topic13  Topic14  Topic15  \\\n",
       "Doc0  0.0013       ...         0.2431   0.0013   0.0013   0.2251   0.0013   \n",
       "Doc1  0.1337       ...         0.3587   0.0003   0.0003   0.0003   0.0003   \n",
       "Doc2  0.0007       ...         0.1994   0.0007   0.0007   0.0007   0.3825   \n",
       "Doc3  0.0003       ...         0.0341   0.0003   0.0527   0.0003   0.0003   \n",
       "Doc4  0.0004       ...         0.0004   0.0004   0.0004   0.0004   0.0004   \n",
       "Doc5  0.0019       ...         0.0019   0.0019   0.0019   0.0019   0.7879   \n",
       "Doc6  0.0006       ...         0.0006   0.1247   0.0006   0.1831   0.1051   \n",
       "Doc7  0.0003       ...         0.8836   0.0003   0.0003   0.0396   0.0003   \n",
       "Doc8  0.0022       ...         0.0022   0.0022   0.0022   0.0022   0.3044   \n",
       "Doc9  0.0004       ...         0.0004   0.0004   0.0004   0.0004   0.4553   \n",
       "\n",
       "      Topic16  Topic17  Topic18  Topic19  Dominant_Topic  \n",
       "Doc0   0.0013   0.0013   0.0350   0.0013               7  \n",
       "Doc1   0.1096   0.0003   0.0003   0.0003              11  \n",
       "Doc2   0.0007   0.0007   0.0007   0.0007              15  \n",
       "Doc3   0.0499   0.1058   0.0003   0.0003               5  \n",
       "Doc4   0.0004   0.2062   0.0004   0.0004               2  \n",
       "Doc5   0.0019   0.0019   0.0019   0.0019              15  \n",
       "Doc6   0.0006   0.0006   0.0006   0.0006               8  \n",
       "Doc7   0.0003   0.0399   0.0003   0.0003              11  \n",
       "Doc8   0.0022   0.0022   0.0022   0.0022               2  \n",
       "Doc9   0.1487   0.0004   0.0004   0.0004              15  \n",
       "\n",
       "[10 rows x 21 columns]"
      ]
     },
     "execution_count": 38,
     "metadata": {},
     "output_type": "execute_result"
    }
   ],
   "source": [
    "df_document_topic.head(10)"
   ]
  },
  {
   "cell_type": "markdown",
   "metadata": {},
   "source": [
    "## 3.3 Préparation pour prédiction"
   ]
  },
  {
   "cell_type": "markdown",
   "metadata": {},
   "source": [
    "Pour nous aider à faire nos prédictions, nous allons construire une matrice tags par topic.<br/>\n",
    "Pour la construire, nous allons :\n",
    "- Pour chaque tag_i et chaque topic_j\n",
    "    - Sommer la probabilité d’appartenance au topic_j des documents contenant le tag_i. \n",
    "    - Nous allons normaliser cette somme en faisant une moyenne sur le nombre de documents qui contiennent le tag_i"
   ]
  },
  {
   "cell_type": "markdown",
   "metadata": {},
   "source": [
    "|         | tag_1 | tag_2 | ... |tag_m | \n",
    "|---------|-------|-------|-----|------|\n",
    "| **topic_1**  |  xxx  | xxx   | ... | xxx  | \n",
    "|**topic_2** |  xxx  | xxx   | ... | xxx  | \n",
    "|...      |  xxx  | xxx   | ... | xxx  |\n",
    "|**topic_n**      |  xxx  | xxx   | ... | xxx  |\n"
   ]
  },
  {
   "cell_type": "markdown",
   "metadata": {},
   "source": [
    "- Commençons par stocker pour chacun des tags, les documents qui y sont liés."
   ]
  },
  {
   "cell_type": "code",
   "execution_count": 39,
   "metadata": {
    "collapsed": true
   },
   "outputs": [],
   "source": [
    "'''\n",
    "Retourne la liste des positions (à partir index) dans data des documents contenant le tag\n",
    "'''\n",
    "def getTagDocPositions(tag, data):\n",
    "    doc_indexes = data[data['TAGS_P'].apply(lambda x: True  if tag in x else False)].index.values\n",
    "    return [(lambda x: data.index.get_loc(x))(x) for x in doc_indexes]"
   ]
  },
  {
   "cell_type": "code",
   "execution_count": 40,
   "metadata": {
    "collapsed": true
   },
   "outputs": [],
   "source": [
    "documents_by_tags = {}\n",
    "for tag in frequent_tags :\n",
    "    docs_index = getTagDocPositions(tag, y_train)\n",
    "    documents_by_tags[tag] = docs_index"
   ]
  },
  {
   "cell_type": "markdown",
   "metadata": {},
   "source": [
    "Le dictionnaire **documents_by_tags** associe à un tag, la liste des documents contenant ce tag (la position du document dans le dataframe de training)"
   ]
  },
  {
   "cell_type": "markdown",
   "metadata": {},
   "source": [
    "- Construisons maintenant notre matrice tags par topics."
   ]
  },
  {
   "cell_type": "code",
   "execution_count": 41,
   "metadata": {
    "collapsed": true
   },
   "outputs": [],
   "source": [
    "'''\n",
    "@model : \n",
    "@ ft : list of frequent tags\n",
    "@ d_by_t : dictionary of list of documents containing the tag (key)\n",
    "'''\n",
    "def buildTagByTopicsMatrix(topics_modeling_algo, tm_output, ft,  d_by_t) :\n",
    "    tag_by_topics_ = np.zeros([topics_modeling_algo.n_components,len(ft)])\n",
    "    for topic_idx in range(topics_modeling_algo.n_components):\n",
    "        for tag_idx, tag in enumerate(ft):\n",
    "            docs_pos = d_by_t[tag]\n",
    "            topic_score = 0\n",
    "            for d in docs_pos :\n",
    "                topic_score += tm_output[d][topic_idx]\n",
    "                if topic_score > 0 :\n",
    "                    #tag_by_topics_[topic_idx][tag_idx]=topic_score/len(docs_pos)\n",
    "                    tag_by_topics_[topic_idx][tag_idx]=topic_score\n",
    "    return tag_by_topics_"
   ]
  },
  {
   "cell_type": "code",
   "execution_count": 42,
   "metadata": {},
   "outputs": [],
   "source": [
    "tags_by_topics_lda = buildTagByTopicsMatrix(best_lda_model,lda_output, frequent_tags, documents_by_tags )"
   ]
  },
  {
   "cell_type": "code",
   "execution_count": 43,
   "metadata": {},
   "outputs": [
    {
     "data": {
      "text/plain": [
       "(20, 2114)"
      ]
     },
     "execution_count": 43,
     "metadata": {},
     "output_type": "execute_result"
    }
   ],
   "source": [
    "tags_by_topics_lda.shape"
   ]
  },
  {
   "cell_type": "markdown",
   "metadata": {},
   "source": [
    "- Ecrivons une méthode qui retourne, pour un numéro de topic donné, les _n_ tags les plus pertinents (ceux qui ont le meilleur score dans notre matrice)"
   ]
  },
  {
   "cell_type": "code",
   "execution_count": 44,
   "metadata": {
    "collapsed": true
   },
   "outputs": [],
   "source": [
    "'''\n",
    "Retourne num_tags tags les plus pertinents associés au vecteur de topics\n",
    "'''\n",
    "def getBestTagsForTopics(tag_topics_matrix,  topics_vector, tags_list, num_tags) :\n",
    "    tags_result = topics_vector.dot(tag_topics_matrix)\n",
    "    best_tags_indices = np.argsort(-tags_result[0])[:num_tags]\n",
    "    best_tags = [tags_list[index] for index in best_tags_indices]\n",
    "    return best_tags"
   ]
  },
  {
   "cell_type": "markdown",
   "metadata": {},
   "source": [
    "## 3.4 Prédiction"
   ]
  },
  {
   "cell_type": "markdown",
   "metadata": {},
   "source": [
    "### Text cleaning and processing"
   ]
  },
  {
   "cell_type": "markdown",
   "metadata": {},
   "source": [
    "Reprenons le code des méthodes utilisées pour la partie cleaning du texte et pré-processing."
   ]
  },
  {
   "cell_type": "code",
   "execution_count": 45,
   "metadata": {
    "collapsed": true
   },
   "outputs": [],
   "source": [
    "stopword_list = set(stopwords.words('english'))\n",
    "tokenizer = ToktokTokenizer()\n",
    "\n",
    "'''\n",
    "Méthode qui permet de mettre les contractions dans une forme classique.\n",
    "Méthode récupéré depuis github : (c) @dipanjanS\n",
    "'''\n",
    "def expand_contractions(text, contraction_mapping=CONTRACTION_MAP):\n",
    "    contractions_pattern = re.compile('({})'.format('|'.join(contraction_mapping.keys())), \n",
    "                                      flags=re.IGNORECASE|re.DOTALL)\n",
    "    def expand_match(contraction):\n",
    "        match = contraction.group(0)\n",
    "        first_char = match[0]\n",
    "        expanded_contraction = contraction_mapping.get(match)\\\n",
    "                                if contraction_mapping.get(match)\\\n",
    "                                else contraction_mapping.get(match.lower())                       \n",
    "        expanded_contraction = first_char+expanded_contraction[1:]\n",
    "        return expanded_contraction\n",
    "        \n",
    "    expanded_text = contractions_pattern.sub(expand_match, text)\n",
    "    expanded_text = re.sub(\"'\", \"\", expanded_text)\n",
    "    return expanded_text\n",
    "\n",
    "\n",
    "# stemming of words\n",
    "def stem_text(word) :\n",
    "    porter = PorterStemmer()\n",
    "    return porter.stem(word)\n",
    "\n",
    "\n",
    "def getCleanedText(text) :\n",
    "    # remove html tags\n",
    "    text = BeautifulSoup(text, \"lxml\").get_text()\n",
    "    \n",
    "    # remove accented char\n",
    "    text = unicodedata.normalize('NFKD', text).encode('ascii', 'ignore').decode('utf-8', 'ignore')\n",
    "    \n",
    "    text = expand_contractions(text)\n",
    "    \n",
    "    # remove non alpha char\n",
    "    text = re.sub('[\\W\\d_]', ' ', text)\n",
    "\n",
    "    # convert to lower case\n",
    "    text = text.lower()\n",
    "  \n",
    "    #remove extra newlines\n",
    "    text = re.sub(r'[\\r|\\n|\\r\\n]+', ' ',text)\n",
    "    \n",
    "    # remove extra whitespace\n",
    "    text = re.sub(' +', ' ', text)\n",
    "    \n",
    "    # Remove any single letter except 'c' (correspond au langage)\n",
    "    text = ' '.join( [w for w in text.split() if len(w)>1 or w == 'c'] )\n",
    "    \n",
    "    # remove stopwords\n",
    "    tokens = tokenizer.tokenize(text)\n",
    "    tokens = [token.strip() for token in tokens]\n",
    "    meaningful_words = [token for token in tokens if token not in stopword_list]\n",
    "    \n",
    "    # stemming of words\n",
    "    porter = PorterStemmer()\n",
    "    stemmed = [porter.stem(word) for word in meaningful_words]\n",
    "    \n",
    "    # join the words back into one string separated by space, \n",
    "    # and return the result.\n",
    "    return( \" \".join( stemmed )) "
   ]
  },
  {
   "cell_type": "code",
   "execution_count": 74,
   "metadata": {
    "collapsed": true
   },
   "outputs": [],
   "source": [
    "def getCleanedBody(body) :\n",
    "    text = getCleanedBodyText(body)\n",
    "    code = getCleanedBodyCode(body)\n",
    "    return (text + ' ' + code).strip()\n",
    "\n",
    "'''\n",
    "Retrieve body text inside <p>,<h1>,<h2>,<li> tags and return the cleaned and normalized text\n",
    "'''\n",
    "def getCleanedBodyText(body) :\n",
    "    ctext=\"\"\n",
    "    tags_list=['h1','h2','p','li']\n",
    "    soup = BeautifulSoup(body, 'html.parser')\n",
    "    for t in tags_list :\n",
    "        blocks = soup.findAll(t)\n",
    "        for block in blocks:\n",
    "            ctext += \" \" + block.text   \n",
    "    cleaned_text = getCleanedText(ctext)\n",
    "    return re.sub(' +',' ',cleaned_text.strip())\n",
    "\n",
    "'''\n",
    "Retrieve the code text inside the body\n",
    "'''\n",
    "def getCleanedBodyCode(body) :\n",
    "    ctext=\"\"\n",
    "    soup = BeautifulSoup(body, 'lxml')\n",
    "    code_blocks = soup.findAll('code')\n",
    "    ctext=\" \".join(list(map(lambda x : x.text, code_blocks )))\n",
    "    table = str.maketrans('', '', string.punctuation)\n",
    "    words = re.findall(r\"[^\\W\\d_']+\", ctext.lower())\n",
    "    stripped = [w.translate(table) for w in words]\n",
    "    return( \" \".join( stripped ))"
   ]
  },
  {
   "cell_type": "markdown",
   "metadata": {},
   "source": [
    "### Topic prediction"
   ]
  },
  {
   "cell_type": "markdown",
   "metadata": {},
   "source": [
    "- Ecrivons une méthode qui va, par le biais de LDA, retrouver le topic prédominant d'un texte."
   ]
  },
  {
   "cell_type": "code",
   "execution_count": 47,
   "metadata": {
    "collapsed": true
   },
   "outputs": [],
   "source": [
    "'''\n",
    "Retourne les pertinence de topics pour le post donné (titre et texte)\n",
    "'''\n",
    "def getTopicsForPost(title, body, vectorizer, tm_model) :\n",
    "    text = getCleanedText(title) + ' ' + getCleanedBody(body)\n",
    "    text_vectorized = vectorizer.transform([text])\n",
    "    topic_probability_scores = tm_model.transform(text_vectorized)\n",
    "    return topic_probability_scores"
   ]
  },
  {
   "cell_type": "markdown",
   "metadata": {},
   "source": [
    "- Méthode qui va chercher dans la matrice tags/topics, les tags les plus pertinent pour un post.<br/>\n",
    "Elle va d'abord déterminer le topic prédominant du post puis rechercher les tags."
   ]
  },
  {
   "cell_type": "code",
   "execution_count": 48,
   "metadata": {
    "collapsed": true
   },
   "outputs": [],
   "source": [
    "'''\n",
    "Retourne la liste de n tags les plus pertinents pour le post donné.\n",
    "Se base pour celà de la matrice tags par topics.\n",
    "'''\n",
    "def getTagsPrediction(title, body, num_tag, tag_topics_matrix, frequent_tags, vectorizer, tm_model ) :\n",
    "    predicted_topics = getTopicsForPost(title, body,vectorizer, tm_model ) \n",
    "    predicted_tags = getBestTagsForTopics(tag_topics_matrix, predicted_topics, frequent_tags, num_tag)\n",
    "    return predicted_tags"
   ]
  },
  {
   "cell_type": "code",
   "execution_count": 49,
   "metadata": {},
   "outputs": [
    {
     "name": "stdout",
     "output_type": "stream",
     "text": [
      "Packing and de-interleaving two __m256 registers\n",
      "['c++', 'x86', 'simd', 'avx', 'avx2']\n"
     ]
    }
   ],
   "source": [
    "##################\n",
    "miz=7\n",
    "print(x_train.iloc[miz]['TITLE'])\n",
    "print(y_train.iloc[miz]['TAGS_P'])"
   ]
  },
  {
   "cell_type": "code",
   "execution_count": 50,
   "metadata": {},
   "outputs": [
    {
     "data": {
      "text/plain": [
       "array([[  3.44827588e-04,   3.44827588e-04,   3.14143102e-02,\n",
       "          3.44827589e-04,   3.44827588e-04,   3.44827590e-04,\n",
       "          3.44827589e-04,   3.44827591e-04,   3.44827590e-04,\n",
       "          3.44827590e-04,   3.44827587e-04,   8.83561143e-01,\n",
       "          3.44827593e-04,   3.44827588e-04,   3.95632824e-02,\n",
       "          3.44827592e-04,   3.44827587e-04,   3.99440228e-02,\n",
       "          3.44827587e-04,   3.44827589e-04]])"
      ]
     },
     "execution_count": 50,
     "metadata": {},
     "output_type": "execute_result"
    }
   ],
   "source": [
    "getTopicsForPost(x_train.iloc[miz]['TITLE'], x_train.iloc[miz]['BODY'], cv,best_lda_model )"
   ]
  },
  {
   "cell_type": "code",
   "execution_count": 51,
   "metadata": {},
   "outputs": [
    {
     "data": {
      "text/plain": [
       "Topic0             0.0003\n",
       "Topic1             0.0003\n",
       "Topic2             0.0314\n",
       "Topic3             0.0003\n",
       "Topic4             0.0003\n",
       "Topic5             0.0003\n",
       "Topic6             0.0003\n",
       "Topic7             0.0003\n",
       "Topic8             0.0003\n",
       "Topic9             0.0003\n",
       "Topic10            0.0003\n",
       "Topic11            0.8836\n",
       "Topic12            0.0003\n",
       "Topic13            0.0003\n",
       "Topic14            0.0396\n",
       "Topic15            0.0003\n",
       "Topic16            0.0003\n",
       "Topic17            0.0399\n",
       "Topic18            0.0003\n",
       "Topic19            0.0003\n",
       "Dominant_Topic    11.0000\n",
       "Name: Doc7, dtype: float64"
      ]
     },
     "execution_count": 51,
     "metadata": {},
     "output_type": "execute_result"
    }
   ],
   "source": [
    "df_document_topic.iloc[7]"
   ]
  },
  {
   "cell_type": "code",
   "execution_count": 52,
   "metadata": {},
   "outputs": [
    {
     "data": {
      "text/plain": [
       "['c++', 'python', 'javascript', 'c', 'java']"
      ]
     },
     "execution_count": 52,
     "metadata": {},
     "output_type": "execute_result"
    }
   ],
   "source": [
    "getTagsPrediction(x_train.iloc[miz]['TITLE'], x_train.iloc[miz]['BODY'], 5,tags_by_topics_lda, frequent_tags, cv, best_lda_model )\n",
    "#########################"
   ]
  },
  {
   "cell_type": "markdown",
   "metadata": {},
   "source": [
    "- Méthode qui prédit les tags d'une série de post."
   ]
  },
  {
   "cell_type": "code",
   "execution_count": 53,
   "metadata": {
    "collapsed": true
   },
   "outputs": [],
   "source": [
    "'''\n",
    "Retourne un dataframe contenant les prédictions de tags pour les posts contenant dans posts_df\n",
    "@ post_df : le dataframe contenant les posts (title / body)\n",
    "@ num_tag : le nombre de tags à prédire\n",
    "@ t_by_topics : la matrice tags/topics utilisée pour la prédiction\n",
    "@ f_tags : liste des tags les plus fréquents (même ordre que tags dans la matrice)\n",
    "@ vectorizer : convertisseur à utiliser pour transformer texte en matrice de tokens et d'occurences.\n",
    "@ tm_model : le modèle de topic modeling à utiliser\n",
    "'''\n",
    "def getPostsTagsPrediction(posts_df, num_tag, t_by_topics, f_tags, vectorizer, tm_model):\n",
    "    y_predicted=posts_df.apply(lambda row: getTagsPrediction(row['TITLE'], row['BODY'], \n",
    "                                                             num_tag, t_by_topics, f_tags, vectorizer, tm_model),\n",
    "                               axis=1)\n",
    "    y_predicted_df = y_predicted.to_frame()\n",
    "    y_predicted_df.columns = ['TAGS_P']\n",
    "    return y_predicted_df"
   ]
  },
  {
   "cell_type": "markdown",
   "metadata": {},
   "source": [
    "## 3.5 Evaluation de la méthode"
   ]
  },
  {
   "cell_type": "markdown",
   "metadata": {},
   "source": [
    "- Méthode pour évaluer la qualité de nos prédictions"
   ]
  },
  {
   "cell_type": "code",
   "execution_count": 54,
   "metadata": {
    "collapsed": true
   },
   "outputs": [],
   "source": [
    "'''\n",
    "Méthode permettant d'évaluer la qualité des prédictions en comparant les tags prédits aux tags réels.\n",
    "calcule pour chaque post, le rapport entre le nombre de tags correctement prédits sur le nombre de tags réels.\n",
    "retourne la moyenne de ces rapports.\n",
    "'''\n",
    "\n",
    "def predictionAccuracy(y_predicted, y_true) :\n",
    "    tags_found=[]\n",
    "    for index, row in y_predicted.iterrows():\n",
    "        number_tags_found = 0\n",
    "        for t in row['TAGS_P'] :\n",
    "            if t in y_true.loc[index]['TAGS_P'] :\n",
    "                number_tags_found +=1\n",
    "        tags_found.append(number_tags_found/len(y_true.loc[index]['TAGS_P']))\n",
    "    print(\"Accuracy of prediction :\", np.mean(tags_found))"
   ]
  },
  {
   "cell_type": "markdown",
   "metadata": {},
   "source": [
    "### Prédiction des topics pour notre jeu de tests"
   ]
  },
  {
   "cell_type": "code",
   "execution_count": 55,
   "metadata": {},
   "outputs": [],
   "source": [
    "y_predicted_lda = getPostsTagsPrediction(x_test, 5, tags_by_topics_lda, frequent_tags, cv, best_lda_model)"
   ]
  },
  {
   "cell_type": "code",
   "execution_count": 56,
   "metadata": {},
   "outputs": [
    {
     "data": {
      "text/html": [
       "<div>\n",
       "<style>\n",
       "    .dataframe thead tr:only-child th {\n",
       "        text-align: right;\n",
       "    }\n",
       "\n",
       "    .dataframe thead th {\n",
       "        text-align: left;\n",
       "    }\n",
       "\n",
       "    .dataframe tbody tr th {\n",
       "        vertical-align: top;\n",
       "    }\n",
       "</style>\n",
       "<table border=\"1\" class=\"dataframe\">\n",
       "  <thead>\n",
       "    <tr style=\"text-align: right;\">\n",
       "      <th></th>\n",
       "      <th>TAGS_P</th>\n",
       "    </tr>\n",
       "  </thead>\n",
       "  <tbody>\n",
       "    <tr>\n",
       "      <th>33408</th>\n",
       "      <td>[javascript, ios, android, python, swift]</td>\n",
       "    </tr>\n",
       "    <tr>\n",
       "      <th>48920</th>\n",
       "      <td>[javascript, ios, swift, java, python]</td>\n",
       "    </tr>\n",
       "    <tr>\n",
       "      <th>19817</th>\n",
       "      <td>[javascript, angular, ios, android, reactjs]</td>\n",
       "    </tr>\n",
       "    <tr>\n",
       "      <th>9718</th>\n",
       "      <td>[python, android, ios, java, c#]</td>\n",
       "    </tr>\n",
       "    <tr>\n",
       "      <th>53785</th>\n",
       "      <td>[c++, python, javascript, c, c#]</td>\n",
       "    </tr>\n",
       "  </tbody>\n",
       "</table>\n",
       "</div>"
      ],
      "text/plain": [
       "                                             TAGS_P\n",
       "33408     [javascript, ios, android, python, swift]\n",
       "48920        [javascript, ios, swift, java, python]\n",
       "19817  [javascript, angular, ios, android, reactjs]\n",
       "9718               [python, android, ios, java, c#]\n",
       "53785              [c++, python, javascript, c, c#]"
      ]
     },
     "execution_count": 56,
     "metadata": {},
     "output_type": "execute_result"
    }
   ],
   "source": [
    "y_predicted_lda.head()"
   ]
  },
  {
   "cell_type": "markdown",
   "metadata": {},
   "source": [
    "### Evaluation de la prédiction du jeu de test"
   ]
  },
  {
   "cell_type": "code",
   "execution_count": 57,
   "metadata": {},
   "outputs": [
    {
     "name": "stdout",
     "output_type": "stream",
     "text": [
      "Accuracy of prediction : 0.296859578286\n"
     ]
    }
   ],
   "source": [
    "predictionAccuracy(y_predicted_lda, y_test)"
   ]
  },
  {
   "cell_type": "markdown",
   "metadata": {},
   "source": [
    "### Evaluation de la prédiction d'un nouveau sample"
   ]
  },
  {
   "cell_type": "code",
   "execution_count": 58,
   "metadata": {
    "collapsed": true
   },
   "outputs": [],
   "source": [
    "df_test2 = df.sample(5000)\n",
    "x_test2 = df_test2[['TITLE', 'BODY','TITLE_P', 'BODY_P']]\n",
    "y_test2 = df_test2[['TAGS_P']]"
   ]
  },
  {
   "cell_type": "code",
   "execution_count": 59,
   "metadata": {},
   "outputs": [
    {
     "name": "stderr",
     "output_type": "stream",
     "text": [
      "/Users/hatim/anaconda3/lib/python3.6/site-packages/bs4/__init__.py:282: UserWarning: \"https://github.com/ASP-NET-MVC/aspnetwebstack/blob/master/src/System.Web.Helpers/Crypto.cs#L159\" looks like a URL. Beautiful Soup is not an HTTP client. You should probably use an HTTP client like requests to get the document behind the URL, and feed that document to Beautiful Soup.\n",
      "  ' that document to Beautiful Soup.' % decoded_markup\n"
     ]
    },
    {
     "name": "stdout",
     "output_type": "stream",
     "text": [
      "Accuracy of prediction : 0.252446666667\n"
     ]
    }
   ],
   "source": [
    "y_predicted_test2 = getPostsTagsPrediction(x_test2, 5,tags_by_topics_lda,frequent_tags, cv,  best_lda_model )\n",
    "result = predictionAccuracy(y_predicted_test2, y_test2)"
   ]
  },
  {
   "cell_type": "markdown",
   "metadata": {},
   "source": [
    "# 4. NMF"
   ]
  },
  {
   "cell_type": "markdown",
   "metadata": {},
   "source": [
    "Voyons maintenant la méthode NMF (Factorisation par matrices non négatives) pour prédire nos tags."
   ]
  },
  {
   "cell_type": "markdown",
   "metadata": {},
   "source": [
    "## 4.1 Vectorization du texte"
   ]
  },
  {
   "cell_type": "markdown",
   "metadata": {},
   "source": [
    "Utilisons la métrique tf-idf (Term-Frequency - Inverse Document Frequency)."
   ]
  },
  {
   "cell_type": "code",
   "execution_count": 60,
   "metadata": {},
   "outputs": [
    {
     "name": "stdout",
     "output_type": "stream",
     "text": [
      "Extracting tf-idf features for NMF...\n"
     ]
    },
    {
     "data": {
      "text/plain": [
       "(10399, 9221)"
      ]
     },
     "execution_count": 60,
     "metadata": {},
     "output_type": "execute_result"
    }
   ],
   "source": [
    "# Use tf-idf features for NMF.\n",
    "print(\"Extracting tf-idf features for NMF...\")\n",
    "tfidf_vectorizer = TfidfVectorizer(max_df=0.95, min_df=5)\n",
    "tfidf_vectorized = tfidf_vectorizer.fit_transform(x_train_text)\n",
    "tfidf_matrix = tfidf_vectorized.toarray()\n",
    "tfidf_matrix.shape"
   ]
  },
  {
   "cell_type": "code",
   "execution_count": 61,
   "metadata": {
    "collapsed": true
   },
   "outputs": [],
   "source": [
    "tfidf_feature_names = tfidf_vectorizer.get_feature_names()"
   ]
  },
  {
   "cell_type": "markdown",
   "metadata": {},
   "source": [
    "## 4.2 Modélisation"
   ]
  },
  {
   "cell_type": "code",
   "execution_count": 62,
   "metadata": {
    "collapsed": true
   },
   "outputs": [],
   "source": [
    "nmf_model = NMF(n_components=30, random_state=1, alpha=.1, l1_ratio=.5).fit(tfidf_vectorized)"
   ]
  },
  {
   "cell_type": "code",
   "execution_count": 63,
   "metadata": {
    "collapsed": true
   },
   "outputs": [],
   "source": [
    "nmf_output = nmf_model.transform(tfidf_vectorized)"
   ]
  },
  {
   "cell_type": "code",
   "execution_count": 64,
   "metadata": {},
   "outputs": [
    {
     "data": {
      "text/plain": [
       "(10399, 30)"
      ]
     },
     "execution_count": 64,
     "metadata": {},
     "output_type": "execute_result"
    }
   ],
   "source": [
    "nmf_output.shape"
   ]
  },
  {
   "cell_type": "markdown",
   "metadata": {},
   "source": [
    "## 4.3 Analyse"
   ]
  },
  {
   "cell_type": "markdown",
   "metadata": {},
   "source": [
    "### Topics / Words"
   ]
  },
  {
   "cell_type": "code",
   "execution_count": 65,
   "metadata": {},
   "outputs": [
    {
     "data": {
      "text/html": [
       "<div>\n",
       "<style>\n",
       "    .dataframe thead tr:only-child th {\n",
       "        text-align: right;\n",
       "    }\n",
       "\n",
       "    .dataframe thead th {\n",
       "        text-align: left;\n",
       "    }\n",
       "\n",
       "    .dataframe tbody tr th {\n",
       "        vertical-align: top;\n",
       "    }\n",
       "</style>\n",
       "<table border=\"1\" class=\"dataframe\">\n",
       "  <thead>\n",
       "    <tr style=\"text-align: right;\">\n",
       "      <th></th>\n",
       "      <th>Word 0</th>\n",
       "      <th>Word 1</th>\n",
       "      <th>Word 2</th>\n",
       "      <th>Word 3</th>\n",
       "      <th>Word 4</th>\n",
       "      <th>Word 5</th>\n",
       "      <th>Word 6</th>\n",
       "      <th>Word 7</th>\n",
       "      <th>Word 8</th>\n",
       "      <th>Word 9</th>\n",
       "    </tr>\n",
       "  </thead>\n",
       "  <tbody>\n",
       "    <tr>\n",
       "      <th>Topic 0</th>\n",
       "      <td>use</td>\n",
       "      <td>would</td>\n",
       "      <td>like</td>\n",
       "      <td>way</td>\n",
       "      <td>one</td>\n",
       "      <td>code</td>\n",
       "      <td>time</td>\n",
       "      <td>work</td>\n",
       "      <td>want</td>\n",
       "      <td>differ</td>\n",
       "    </tr>\n",
       "    <tr>\n",
       "      <th>Topic 1</th>\n",
       "      <td>android</td>\n",
       "      <td>layout</td>\n",
       "      <td>com</td>\n",
       "      <td>support</td>\n",
       "      <td>compile</td>\n",
       "      <td>gradl</td>\n",
       "      <td>studio</td>\n",
       "      <td>google</td>\n",
       "      <td>view</td>\n",
       "      <td>parent</td>\n",
       "    </tr>\n",
       "    <tr>\n",
       "      <th>Topic 2</th>\n",
       "      <td>std</td>\n",
       "      <td>cout</td>\n",
       "      <td>include</td>\n",
       "      <td>const</td>\n",
       "      <td>ptr</td>\n",
       "      <td>vector</td>\n",
       "      <td>thread</td>\n",
       "      <td>typename</td>\n",
       "      <td>template</td>\n",
       "      <td>move</td>\n",
       "    </tr>\n",
       "    <tr>\n",
       "      <th>Topic 3</th>\n",
       "      <td>div</td>\n",
       "      <td>class</td>\n",
       "      <td>form</td>\n",
       "      <td>button</td>\n",
       "      <td>span</td>\n",
       "      <td>li</td>\n",
       "      <td>html</td>\n",
       "      <td>click</td>\n",
       "      <td>item</td>\n",
       "      <td>content</td>\n",
       "    </tr>\n",
       "    <tr>\n",
       "      <th>Topic 4</th>\n",
       "      <td>java</td>\n",
       "      <td>at</td>\n",
       "      <td>org</td>\n",
       "      <td>lang</td>\n",
       "      <td>apache</td>\n",
       "      <td>activitythread</td>\n",
       "      <td>internal</td>\n",
       "      <td>com</td>\n",
       "      <td>util</td>\n",
       "      <td>jar</td>\n",
       "    </tr>\n",
       "    <tr>\n",
       "      <th>Topic 5</th>\n",
       "      <td>import</td>\n",
       "      <td>from</td>\n",
       "      <td>component</td>\n",
       "      <td>export</td>\n",
       "      <td>modul</td>\n",
       "      <td>router</td>\n",
       "      <td>ts</td>\n",
       "      <td>const</td>\n",
       "      <td>path</td>\n",
       "      <td>app</td>\n",
       "    </tr>\n",
       "    <tr>\n",
       "      <th>Topic 6</th>\n",
       "      <td>px</td>\n",
       "      <td>width</td>\n",
       "      <td>height</td>\n",
       "      <td>color</td>\n",
       "      <td>background</td>\n",
       "      <td>border</td>\n",
       "      <td>imag</td>\n",
       "      <td>top</td>\n",
       "      <td>left</td>\n",
       "      <td>margin</td>\n",
       "    </tr>\n",
       "    <tr>\n",
       "      <th>Topic 7</th>\n",
       "      <td>python</td>\n",
       "      <td>py</td>\n",
       "      <td>in</td>\n",
       "      <td>line</td>\n",
       "      <td>lib</td>\n",
       "      <td>packages</td>\n",
       "      <td>instal</td>\n",
       "      <td>site</td>\n",
       "      <td>pip</td>\n",
       "      <td>usr</td>\n",
       "    </tr>\n",
       "    <tr>\n",
       "      <th>Topic 8</th>\n",
       "      <td>foo</td>\n",
       "      <td>bar</td>\n",
       "      <td>struct</td>\n",
       "      <td>baz</td>\n",
       "      <td>template</td>\n",
       "      <td>compil</td>\n",
       "      <td>templat</td>\n",
       "      <td>typename</td>\n",
       "      <td>clang</td>\n",
       "      <td>class</td>\n",
       "    </tr>\n",
       "    <tr>\n",
       "      <th>Topic 9</th>\n",
       "      <td>user</td>\n",
       "      <td>login</td>\n",
       "      <td>password</td>\n",
       "      <td>firebas</td>\n",
       "      <td>token</td>\n",
       "      <td>email</td>\n",
       "      <td>auth</td>\n",
       "      <td>authent</td>\n",
       "      <td>admin</td>\n",
       "      <td>account</td>\n",
       "    </tr>\n",
       "    <tr>\n",
       "      <th>Topic 10</th>\n",
       "      <td>react</td>\n",
       "      <td>nativ</td>\n",
       "      <td>compon</td>\n",
       "      <td>render</td>\n",
       "      <td>router</td>\n",
       "      <td>props</td>\n",
       "      <td>this</td>\n",
       "      <td>component</td>\n",
       "      <td>state</td>\n",
       "      <td>prop</td>\n",
       "    </tr>\n",
       "    <tr>\n",
       "      <th>Topic 11</th>\n",
       "      <td>angular</td>\n",
       "      <td>compon</td>\n",
       "      <td>ng</td>\n",
       "      <td>cli</td>\n",
       "      <td>component</td>\n",
       "      <td>ts</td>\n",
       "      <td>router</td>\n",
       "      <td>rout</td>\n",
       "      <td>this</td>\n",
       "      <td>http</td>\n",
       "    </tr>\n",
       "    <tr>\n",
       "      <th>Topic 12</th>\n",
       "      <td>function</td>\n",
       "      <td>var</td>\n",
       "      <td>log</td>\n",
       "      <td>return</td>\n",
       "      <td>console</td>\n",
       "      <td>this</td>\n",
       "      <td>event</td>\n",
       "      <td>if</td>\n",
       "      <td>data</td>\n",
       "      <td>call</td>\n",
       "    </tr>\n",
       "    <tr>\n",
       "      <th>Topic 13</th>\n",
       "      <td>string</td>\n",
       "      <td>key</td>\n",
       "      <td>map</td>\n",
       "      <td>str</td>\n",
       "      <td>name</td>\n",
       "      <td>return</td>\n",
       "      <td>charact</td>\n",
       "      <td>format</td>\n",
       "      <td>convert</td>\n",
       "      <td>char</td>\n",
       "    </tr>\n",
       "    <tr>\n",
       "      <th>Topic 14</th>\n",
       "      <td>js</td>\n",
       "      <td>node</td>\n",
       "      <td>webpack</td>\n",
       "      <td>npm</td>\n",
       "      <td>modules</td>\n",
       "      <td>module</td>\n",
       "      <td>at</td>\n",
       "      <td>script</td>\n",
       "      <td>src</td>\n",
       "      <td>modul</td>\n",
       "    </tr>\n",
       "    <tr>\n",
       "      <th>Topic 15</th>\n",
       "      <td>self</td>\n",
       "      <td>swift</td>\n",
       "      <td>let</td>\n",
       "      <td>func</td>\n",
       "      <td>view</td>\n",
       "      <td>nil</td>\n",
       "      <td>print</td>\n",
       "      <td>if</td>\n",
       "      <td>error</td>\n",
       "      <td>xcode</td>\n",
       "    </tr>\n",
       "    <tr>\n",
       "      <th>Topic 16</th>\n",
       "      <td>int</td>\n",
       "      <td>const</td>\n",
       "      <td>compil</td>\n",
       "      <td>main</td>\n",
       "      <td>char</td>\n",
       "      <td>void</td>\n",
       "      <td>include</td>\n",
       "      <td>struct</td>\n",
       "      <td>return</td>\n",
       "      <td>gcc</td>\n",
       "    </tr>\n",
       "    <tr>\n",
       "      <th>Topic 17</th>\n",
       "      <td>file</td>\n",
       "      <td>upload</td>\n",
       "      <td>path</td>\n",
       "      <td>folder</td>\n",
       "      <td>directori</td>\n",
       "      <td>pdf</td>\n",
       "      <td>files</td>\n",
       "      <td>line</td>\n",
       "      <td>filename</td>\n",
       "      <td>open</td>\n",
       "    </tr>\n",
       "    <tr>\n",
       "      <th>Topic 18</th>\n",
       "      <td>test</td>\n",
       "      <td>unit</td>\n",
       "      <td>run</td>\n",
       "      <td>mock</td>\n",
       "      <td>junit</td>\n",
       "      <td>assert</td>\n",
       "      <td>jest</td>\n",
       "      <td>fail</td>\n",
       "      <td>xunit</td>\n",
       "      <td>karma</td>\n",
       "    </tr>\n",
       "    <tr>\n",
       "      <th>Topic 19</th>\n",
       "      <td>net</td>\n",
       "      <td>project</td>\n",
       "      <td>studio</td>\n",
       "      <td>visual</td>\n",
       "      <td>core</td>\n",
       "      <td>microsoft</td>\n",
       "      <td>instal</td>\n",
       "      <td>asp</td>\n",
       "      <td>build</td>\n",
       "      <td>version</td>\n",
       "    </tr>\n",
       "    <tr>\n",
       "      <th>Topic 20</th>\n",
       "      <td>docker</td>\n",
       "      <td>imag</td>\n",
       "      <td>contain</td>\n",
       "      <td>run</td>\n",
       "      <td>compos</td>\n",
       "      <td>log</td>\n",
       "      <td>ip</td>\n",
       "      <td>host</td>\n",
       "      <td>mysql</td>\n",
       "      <td>command</td>\n",
       "    </tr>\n",
       "    <tr>\n",
       "      <th>Topic 21</th>\n",
       "      <td>list</td>\n",
       "      <td>item</td>\n",
       "      <td>element</td>\n",
       "      <td>in</td>\n",
       "      <td>for</td>\n",
       "      <td>stream</td>\n",
       "      <td>items</td>\n",
       "      <td>arraylist</td>\n",
       "      <td>tupl</td>\n",
       "      <td>add</td>\n",
       "    </tr>\n",
       "    <tr>\n",
       "      <th>Topic 22</th>\n",
       "      <td>array</td>\n",
       "      <td>np</td>\n",
       "      <td>element</td>\n",
       "      <td>numpi</td>\n",
       "      <td>arr</td>\n",
       "      <td>object</td>\n",
       "      <td>valu</td>\n",
       "      <td>php</td>\n",
       "      <td>output</td>\n",
       "      <td>numpy</td>\n",
       "    </tr>\n",
       "    <tr>\n",
       "      <th>Topic 23</th>\n",
       "      <td>type</td>\n",
       "      <td>input</td>\n",
       "      <td>name</td>\n",
       "      <td>error</td>\n",
       "      <td>form</td>\n",
       "      <td>value</td>\n",
       "      <td>field</td>\n",
       "      <td>object</td>\n",
       "      <td>template</td>\n",
       "      <td>struct</td>\n",
       "    </tr>\n",
       "    <tr>\n",
       "      <th>Topic 24</th>\n",
       "      <td>public</td>\n",
       "      <td>class</td>\n",
       "      <td>void</td>\n",
       "      <td>this</td>\n",
       "      <td>new</td>\n",
       "      <td>static</td>\n",
       "      <td>private</td>\n",
       "      <td>method</td>\n",
       "      <td>override</td>\n",
       "      <td>context</td>\n",
       "    </tr>\n",
       "    <tr>\n",
       "      <th>Topic 25</th>\n",
       "      <td>request</td>\n",
       "      <td>http</td>\n",
       "      <td>server</td>\n",
       "      <td>api</td>\n",
       "      <td>com</td>\n",
       "      <td>url</td>\n",
       "      <td>client</td>\n",
       "      <td>error</td>\n",
       "      <td>json</td>\n",
       "      <td>token</td>\n",
       "    </tr>\n",
       "    <tr>\n",
       "      <th>Topic 26</th>\n",
       "      <td>app</td>\n",
       "      <td>io</td>\n",
       "      <td>xcode</td>\n",
       "      <td>notif</td>\n",
       "      <td>firebas</td>\n",
       "      <td>googl</td>\n",
       "      <td>devic</td>\n",
       "      <td>error</td>\n",
       "      <td>build</td>\n",
       "      <td>icon</td>\n",
       "    </tr>\n",
       "    <tr>\n",
       "      <th>Topic 27</th>\n",
       "      <td>tf</td>\n",
       "      <td>model</td>\n",
       "      <td>tensorflow</td>\n",
       "      <td>input</td>\n",
       "      <td>train</td>\n",
       "      <td>batch</td>\n",
       "      <td>shape</td>\n",
       "      <td>tensor</td>\n",
       "      <td>kera</td>\n",
       "      <td>layer</td>\n",
       "    </tr>\n",
       "    <tr>\n",
       "      <th>Topic 28</th>\n",
       "      <td>data</td>\n",
       "      <td>id</td>\n",
       "      <td>column</td>\n",
       "      <td>name</td>\n",
       "      <td>df</td>\n",
       "      <td>row</td>\n",
       "      <td>tabl</td>\n",
       "      <td>date</td>\n",
       "      <td>select</td>\n",
       "      <td>table</td>\n",
       "    </tr>\n",
       "    <tr>\n",
       "      <th>Topic 29</th>\n",
       "      <td>git</td>\n",
       "      <td>commit</td>\n",
       "      <td>branch</td>\n",
       "      <td>repo</td>\n",
       "      <td>pull</td>\n",
       "      <td>repositori</td>\n",
       "      <td>push</td>\n",
       "      <td>github</td>\n",
       "      <td>fatal</td>\n",
       "      <td>master</td>\n",
       "    </tr>\n",
       "  </tbody>\n",
       "</table>\n",
       "</div>"
      ],
      "text/plain": [
       "            Word 0   Word 1      Word 2   Word 3      Word 4          Word 5  \\\n",
       "Topic 0        use    would        like      way         one            code   \n",
       "Topic 1    android   layout         com  support     compile           gradl   \n",
       "Topic 2        std     cout     include    const         ptr          vector   \n",
       "Topic 3        div    class        form   button        span              li   \n",
       "Topic 4       java       at         org     lang      apache  activitythread   \n",
       "Topic 5     import     from   component   export       modul          router   \n",
       "Topic 6         px    width      height    color  background          border   \n",
       "Topic 7     python       py          in     line         lib        packages   \n",
       "Topic 8        foo      bar      struct      baz    template          compil   \n",
       "Topic 9       user    login    password  firebas       token           email   \n",
       "Topic 10     react    nativ      compon   render      router           props   \n",
       "Topic 11   angular   compon          ng      cli   component              ts   \n",
       "Topic 12  function      var         log   return     console            this   \n",
       "Topic 13    string      key         map      str        name          return   \n",
       "Topic 14        js     node     webpack      npm     modules          module   \n",
       "Topic 15      self    swift         let     func        view             nil   \n",
       "Topic 16       int    const      compil     main        char            void   \n",
       "Topic 17      file   upload        path   folder   directori             pdf   \n",
       "Topic 18      test     unit         run     mock       junit          assert   \n",
       "Topic 19       net  project      studio   visual        core       microsoft   \n",
       "Topic 20    docker     imag     contain      run      compos             log   \n",
       "Topic 21      list     item     element       in         for          stream   \n",
       "Topic 22     array       np     element    numpi         arr          object   \n",
       "Topic 23      type    input        name    error        form           value   \n",
       "Topic 24    public    class        void     this         new          static   \n",
       "Topic 25   request     http      server      api         com             url   \n",
       "Topic 26       app       io       xcode    notif     firebas           googl   \n",
       "Topic 27        tf    model  tensorflow    input       train           batch   \n",
       "Topic 28      data       id      column     name          df             row   \n",
       "Topic 29       git   commit      branch     repo        pull      repositori   \n",
       "\n",
       "            Word 6     Word 7    Word 8   Word 9  \n",
       "Topic 0       time       work      want   differ  \n",
       "Topic 1     studio     google      view   parent  \n",
       "Topic 2     thread   typename  template     move  \n",
       "Topic 3       html      click      item  content  \n",
       "Topic 4   internal        com      util      jar  \n",
       "Topic 5         ts      const      path      app  \n",
       "Topic 6       imag        top      left   margin  \n",
       "Topic 7     instal       site       pip      usr  \n",
       "Topic 8    templat   typename     clang    class  \n",
       "Topic 9       auth    authent     admin  account  \n",
       "Topic 10      this  component     state     prop  \n",
       "Topic 11    router       rout      this     http  \n",
       "Topic 12     event         if      data     call  \n",
       "Topic 13   charact     format   convert     char  \n",
       "Topic 14        at     script       src    modul  \n",
       "Topic 15     print         if     error    xcode  \n",
       "Topic 16   include     struct    return      gcc  \n",
       "Topic 17     files       line  filename     open  \n",
       "Topic 18      jest       fail     xunit    karma  \n",
       "Topic 19    instal        asp     build  version  \n",
       "Topic 20        ip       host     mysql  command  \n",
       "Topic 21     items  arraylist      tupl      add  \n",
       "Topic 22      valu        php    output    numpy  \n",
       "Topic 23     field     object  template   struct  \n",
       "Topic 24   private     method  override  context  \n",
       "Topic 25    client      error      json    token  \n",
       "Topic 26     devic      error     build     icon  \n",
       "Topic 27     shape     tensor      kera    layer  \n",
       "Topic 28      tabl       date    select    table  \n",
       "Topic 29      push     github     fatal   master  "
      ]
     },
     "execution_count": 65,
     "metadata": {},
     "output_type": "execute_result"
    }
   ],
   "source": [
    "topic_keywords = show_topics(tfidf_feature_names, nmf_model, n_words=10)        \n",
    "\n",
    "# Topic - Keywords Dataframe\n",
    "df_topic_keywords = pd.DataFrame(topic_keywords)\n",
    "df_topic_keywords.columns = ['Word '+str(i) for i in range(df_topic_keywords.shape[1])]\n",
    "df_topic_keywords.index = ['Topic '+str(i) for i in range(df_topic_keywords.shape[0])]\n",
    "df_topic_keywords"
   ]
  },
  {
   "cell_type": "markdown",
   "metadata": {},
   "source": [
    "### Topics / Docs"
   ]
  },
  {
   "cell_type": "code",
   "execution_count": 66,
   "metadata": {
    "collapsed": true
   },
   "outputs": [],
   "source": [
    "topicnames = [\"Topic\" + str(i) for i in range(nmf_model.n_components)]\n",
    "\n",
    "# id des posts\n",
    "docnames = [\"Doc\" + str(i) for i in range(len(x_train))]\n",
    "\n",
    "# On crée un dataframe\n",
    "df_document_topic = pd.DataFrame(np.round(nmf_output, 4), columns=topicnames, index=docnames)\n",
    "\n",
    "# On rajoute une colonne contenant le numéro du topic prédominant\n",
    "dominant_topic = np.argmax(df_document_topic.values, axis=1)\n",
    "df_document_topic['dominant_topic'] = dominant_topic"
   ]
  },
  {
   "cell_type": "code",
   "execution_count": 67,
   "metadata": {},
   "outputs": [
    {
     "data": {
      "text/html": [
       "<div>\n",
       "<style>\n",
       "    .dataframe thead tr:only-child th {\n",
       "        text-align: right;\n",
       "    }\n",
       "\n",
       "    .dataframe thead th {\n",
       "        text-align: left;\n",
       "    }\n",
       "\n",
       "    .dataframe tbody tr th {\n",
       "        vertical-align: top;\n",
       "    }\n",
       "</style>\n",
       "<table border=\"1\" class=\"dataframe\">\n",
       "  <thead>\n",
       "    <tr style=\"text-align: right;\">\n",
       "      <th></th>\n",
       "      <th>Topic0</th>\n",
       "      <th>Topic1</th>\n",
       "      <th>Topic2</th>\n",
       "      <th>Topic3</th>\n",
       "      <th>Topic4</th>\n",
       "      <th>Topic5</th>\n",
       "      <th>Topic6</th>\n",
       "      <th>Topic7</th>\n",
       "      <th>Topic8</th>\n",
       "      <th>Topic9</th>\n",
       "      <th>...</th>\n",
       "      <th>Topic21</th>\n",
       "      <th>Topic22</th>\n",
       "      <th>Topic23</th>\n",
       "      <th>Topic24</th>\n",
       "      <th>Topic25</th>\n",
       "      <th>Topic26</th>\n",
       "      <th>Topic27</th>\n",
       "      <th>Topic28</th>\n",
       "      <th>Topic29</th>\n",
       "      <th>dominant_topic</th>\n",
       "    </tr>\n",
       "  </thead>\n",
       "  <tbody>\n",
       "    <tr>\n",
       "      <th>Doc0</th>\n",
       "      <td>0.0003</td>\n",
       "      <td>0.0</td>\n",
       "      <td>0.0000</td>\n",
       "      <td>0.0</td>\n",
       "      <td>0.0</td>\n",
       "      <td>0.0000</td>\n",
       "      <td>0.0085</td>\n",
       "      <td>0.0000</td>\n",
       "      <td>0.0</td>\n",
       "      <td>0.0024</td>\n",
       "      <td>...</td>\n",
       "      <td>0.0000</td>\n",
       "      <td>0.0000</td>\n",
       "      <td>0.0000</td>\n",
       "      <td>0.0</td>\n",
       "      <td>0.0000</td>\n",
       "      <td>0.0</td>\n",
       "      <td>0.0044</td>\n",
       "      <td>0.0000</td>\n",
       "      <td>0.1734</td>\n",
       "      <td>29</td>\n",
       "    </tr>\n",
       "    <tr>\n",
       "      <th>Doc1</th>\n",
       "      <td>0.0123</td>\n",
       "      <td>0.0</td>\n",
       "      <td>0.0000</td>\n",
       "      <td>0.0</td>\n",
       "      <td>0.0</td>\n",
       "      <td>0.0011</td>\n",
       "      <td>0.0000</td>\n",
       "      <td>0.0339</td>\n",
       "      <td>0.0</td>\n",
       "      <td>0.0000</td>\n",
       "      <td>...</td>\n",
       "      <td>0.0000</td>\n",
       "      <td>0.0000</td>\n",
       "      <td>0.0000</td>\n",
       "      <td>0.0</td>\n",
       "      <td>0.0000</td>\n",
       "      <td>0.0</td>\n",
       "      <td>0.0000</td>\n",
       "      <td>0.0000</td>\n",
       "      <td>0.0000</td>\n",
       "      <td>7</td>\n",
       "    </tr>\n",
       "    <tr>\n",
       "      <th>Doc2</th>\n",
       "      <td>0.0229</td>\n",
       "      <td>0.0</td>\n",
       "      <td>0.0000</td>\n",
       "      <td>0.0</td>\n",
       "      <td>0.0</td>\n",
       "      <td>0.0000</td>\n",
       "      <td>0.0000</td>\n",
       "      <td>0.0000</td>\n",
       "      <td>0.0</td>\n",
       "      <td>0.0000</td>\n",
       "      <td>...</td>\n",
       "      <td>0.0145</td>\n",
       "      <td>0.0000</td>\n",
       "      <td>0.0000</td>\n",
       "      <td>0.0</td>\n",
       "      <td>0.0000</td>\n",
       "      <td>0.0</td>\n",
       "      <td>0.0000</td>\n",
       "      <td>0.0000</td>\n",
       "      <td>0.0000</td>\n",
       "      <td>0</td>\n",
       "    </tr>\n",
       "    <tr>\n",
       "      <th>Doc3</th>\n",
       "      <td>0.0000</td>\n",
       "      <td>0.0</td>\n",
       "      <td>0.0927</td>\n",
       "      <td>0.0</td>\n",
       "      <td>0.0</td>\n",
       "      <td>0.0018</td>\n",
       "      <td>0.0000</td>\n",
       "      <td>0.0049</td>\n",
       "      <td>0.0</td>\n",
       "      <td>0.0000</td>\n",
       "      <td>...</td>\n",
       "      <td>0.0000</td>\n",
       "      <td>0.0000</td>\n",
       "      <td>0.0087</td>\n",
       "      <td>0.0</td>\n",
       "      <td>0.0053</td>\n",
       "      <td>0.0</td>\n",
       "      <td>0.0000</td>\n",
       "      <td>0.0356</td>\n",
       "      <td>0.0000</td>\n",
       "      <td>2</td>\n",
       "    </tr>\n",
       "    <tr>\n",
       "      <th>Doc4</th>\n",
       "      <td>0.0093</td>\n",
       "      <td>0.0</td>\n",
       "      <td>0.0000</td>\n",
       "      <td>0.0</td>\n",
       "      <td>0.0</td>\n",
       "      <td>0.0000</td>\n",
       "      <td>0.0000</td>\n",
       "      <td>0.0000</td>\n",
       "      <td>0.0</td>\n",
       "      <td>0.0000</td>\n",
       "      <td>...</td>\n",
       "      <td>0.0000</td>\n",
       "      <td>0.0036</td>\n",
       "      <td>0.0000</td>\n",
       "      <td>0.0</td>\n",
       "      <td>0.0001</td>\n",
       "      <td>0.0</td>\n",
       "      <td>0.0095</td>\n",
       "      <td>0.0518</td>\n",
       "      <td>0.0000</td>\n",
       "      <td>28</td>\n",
       "    </tr>\n",
       "  </tbody>\n",
       "</table>\n",
       "<p>5 rows × 31 columns</p>\n",
       "</div>"
      ],
      "text/plain": [
       "      Topic0  Topic1  Topic2  Topic3  Topic4  Topic5  Topic6  Topic7  Topic8  \\\n",
       "Doc0  0.0003     0.0  0.0000     0.0     0.0  0.0000  0.0085  0.0000     0.0   \n",
       "Doc1  0.0123     0.0  0.0000     0.0     0.0  0.0011  0.0000  0.0339     0.0   \n",
       "Doc2  0.0229     0.0  0.0000     0.0     0.0  0.0000  0.0000  0.0000     0.0   \n",
       "Doc3  0.0000     0.0  0.0927     0.0     0.0  0.0018  0.0000  0.0049     0.0   \n",
       "Doc4  0.0093     0.0  0.0000     0.0     0.0  0.0000  0.0000  0.0000     0.0   \n",
       "\n",
       "      Topic9       ...        Topic21  Topic22  Topic23  Topic24  Topic25  \\\n",
       "Doc0  0.0024       ...         0.0000   0.0000   0.0000      0.0   0.0000   \n",
       "Doc1  0.0000       ...         0.0000   0.0000   0.0000      0.0   0.0000   \n",
       "Doc2  0.0000       ...         0.0145   0.0000   0.0000      0.0   0.0000   \n",
       "Doc3  0.0000       ...         0.0000   0.0000   0.0087      0.0   0.0053   \n",
       "Doc4  0.0000       ...         0.0000   0.0036   0.0000      0.0   0.0001   \n",
       "\n",
       "      Topic26  Topic27  Topic28  Topic29  dominant_topic  \n",
       "Doc0      0.0   0.0044   0.0000   0.1734              29  \n",
       "Doc1      0.0   0.0000   0.0000   0.0000               7  \n",
       "Doc2      0.0   0.0000   0.0000   0.0000               0  \n",
       "Doc3      0.0   0.0000   0.0356   0.0000               2  \n",
       "Doc4      0.0   0.0095   0.0518   0.0000              28  \n",
       "\n",
       "[5 rows x 31 columns]"
      ]
     },
     "execution_count": 67,
     "metadata": {},
     "output_type": "execute_result"
    }
   ],
   "source": [
    "df_document_topic.head()"
   ]
  },
  {
   "cell_type": "markdown",
   "metadata": {},
   "source": [
    "## 4.4 Matrice Tags / Topics"
   ]
  },
  {
   "cell_type": "code",
   "execution_count": 68,
   "metadata": {
    "collapsed": true
   },
   "outputs": [],
   "source": [
    "tags_by_topics_nmf = buildTagByTopicsMatrix(nmf_model,nmf_output, frequent_tags, documents_by_tags )"
   ]
  },
  {
   "cell_type": "code",
   "execution_count": 69,
   "metadata": {},
   "outputs": [
    {
     "data": {
      "text/plain": [
       "(30, 2114)"
      ]
     },
     "execution_count": 69,
     "metadata": {},
     "output_type": "execute_result"
    }
   ],
   "source": [
    "tags_by_topics_nmf.shape"
   ]
  },
  {
   "cell_type": "markdown",
   "metadata": {
    "collapsed": true
   },
   "source": [
    "## 4.5 Prédiction"
   ]
  },
  {
   "cell_type": "markdown",
   "metadata": {},
   "source": [
    "### Prédiction des topics pour notre jeu de tests"
   ]
  },
  {
   "cell_type": "code",
   "execution_count": 70,
   "metadata": {
    "collapsed": true
   },
   "outputs": [],
   "source": [
    "y_predicted_nmf = getPostsTagsPrediction(x_test, 5, tags_by_topics_nmf, frequent_tags, tfidf_vectorizer, nmf_model)"
   ]
  },
  {
   "cell_type": "code",
   "execution_count": 71,
   "metadata": {},
   "outputs": [
    {
     "data": {
      "text/html": [
       "<div>\n",
       "<style>\n",
       "    .dataframe thead tr:only-child th {\n",
       "        text-align: right;\n",
       "    }\n",
       "\n",
       "    .dataframe thead th {\n",
       "        text-align: left;\n",
       "    }\n",
       "\n",
       "    .dataframe tbody tr th {\n",
       "        vertical-align: top;\n",
       "    }\n",
       "</style>\n",
       "<table border=\"1\" class=\"dataframe\">\n",
       "  <thead>\n",
       "    <tr style=\"text-align: right;\">\n",
       "      <th></th>\n",
       "      <th>TAGS_P</th>\n",
       "    </tr>\n",
       "  </thead>\n",
       "  <tbody>\n",
       "    <tr>\n",
       "      <th>33408</th>\n",
       "      <td>[javascript, java, android, python, c#]</td>\n",
       "    </tr>\n",
       "    <tr>\n",
       "      <th>48920</th>\n",
       "      <td>[swift, ios, javascript, java, python]</td>\n",
       "    </tr>\n",
       "    <tr>\n",
       "      <th>19817</th>\n",
       "      <td>[javascript, angular, java, python, android]</td>\n",
       "    </tr>\n",
       "    <tr>\n",
       "      <th>9718</th>\n",
       "      <td>[swift, ios, python, javascript, java]</td>\n",
       "    </tr>\n",
       "    <tr>\n",
       "      <th>53785</th>\n",
       "      <td>[javascript, python, java, android, c++]</td>\n",
       "    </tr>\n",
       "  </tbody>\n",
       "</table>\n",
       "</div>"
      ],
      "text/plain": [
       "                                             TAGS_P\n",
       "33408       [javascript, java, android, python, c#]\n",
       "48920        [swift, ios, javascript, java, python]\n",
       "19817  [javascript, angular, java, python, android]\n",
       "9718         [swift, ios, python, javascript, java]\n",
       "53785      [javascript, python, java, android, c++]"
      ]
     },
     "execution_count": 71,
     "metadata": {},
     "output_type": "execute_result"
    }
   ],
   "source": [
    "y_predicted_nmf.head()"
   ]
  },
  {
   "cell_type": "code",
   "execution_count": 72,
   "metadata": {},
   "outputs": [
    {
     "name": "stdout",
     "output_type": "stream",
     "text": [
      "Accuracy of prediction : 0.296859578286\n"
     ]
    }
   ],
   "source": [
    "predictionAccuracy(y_predicted_lda, y_test)"
   ]
  },
  {
   "cell_type": "markdown",
   "metadata": {},
   "source": [
    "### Evaluation de la prédiction du nouveau sample"
   ]
  },
  {
   "cell_type": "code",
   "execution_count": 73,
   "metadata": {},
   "outputs": [
    {
     "name": "stderr",
     "output_type": "stream",
     "text": [
      "/Users/hatim/anaconda3/lib/python3.6/site-packages/bs4/__init__.py:282: UserWarning: \"https://github.com/ASP-NET-MVC/aspnetwebstack/blob/master/src/System.Web.Helpers/Crypto.cs#L159\" looks like a URL. Beautiful Soup is not an HTTP client. You should probably use an HTTP client like requests to get the document behind the URL, and feed that document to Beautiful Soup.\n",
      "  ' that document to Beautiful Soup.' % decoded_markup\n"
     ]
    },
    {
     "name": "stdout",
     "output_type": "stream",
     "text": [
      "Accuracy of prediction : 0.282866666667\n"
     ]
    }
   ],
   "source": [
    "y_predicted_test2 = getPostsTagsPrediction(x_test2, 5,tags_by_topics_nmf,frequent_tags, tfidf_vectorizer,  nmf_model )\n",
    "result = predictionAccuracy(y_predicted_test2, y_test2)"
   ]
  }
 ],
 "metadata": {
  "kernelspec": {
   "display_name": "Python 3",
   "language": "python",
   "name": "python3"
  },
  "language_info": {
   "codemirror_mode": {
    "name": "ipython",
    "version": 3
   },
   "file_extension": ".py",
   "mimetype": "text/x-python",
   "name": "python",
   "nbconvert_exporter": "python",
   "pygments_lexer": "ipython3",
   "version": "3.6.2"
  }
 },
 "nbformat": 4,
 "nbformat_minor": 2
}
