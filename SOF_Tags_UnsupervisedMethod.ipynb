{
 "cells": [
  {
   "cell_type": "markdown",
   "metadata": {},
   "source": [
    "# Projet 6 : Catégorisez automatiquement des questions\n",
    "# <u>B. Topic Modeling</u> <br/>"
   ]
  },
  {
   "cell_type": "markdown",
   "metadata": {},
   "source": [
    "# Le contexte\n",
    "\n",
    "Afin d'aider les utilisateurs de Stack Overflow dans leur soumission de question, nous devons mettre en place un système de suggestion de tags. Pour celà nous allons nous baser sur les techniques de machine learning capable en fonction du texte saisi par l'utilisateur de déterminer des tags pertinents.\n",
    "\n",
    "Dans ce notebook nous allons essayer des approches non supervisées."
   ]
  },
  {
   "cell_type": "code",
   "execution_count": 1,
   "metadata": {
    "collapsed": true
   },
   "outputs": [],
   "source": [
    "import numpy as np\n",
    "import pandas as pd\n",
    "import matplotlib.pyplot as plt\n",
    "\n",
    "from collections import Counter\n",
    "\n",
    "from bs4 import BeautifulSoup\n",
    "import unicodedata\n",
    "import re\n",
    "import string\n",
    "from nltk.corpus import stopwords\n",
    "from nltk.stem.porter import PorterStemmer\n",
    "from nltk.tokenize.toktok import ToktokTokenizer\n",
    "from contractions import CONTRACTION_MAP\n",
    "\n",
    "\n",
    "from sklearn import model_selection\n",
    "from sklearn.model_selection import GridSearchCV\n",
    "from sklearn.feature_extraction.text import TfidfVectorizer, CountVectorizer\n",
    "from sklearn.decomposition import NMF, LatentDirichletAllocation\n",
    "\n",
    "%matplotlib inline"
   ]
  },
  {
   "cell_type": "markdown",
   "metadata": {},
   "source": [
    "# 1. Chargement des données pré-traitées"
   ]
  },
  {
   "cell_type": "markdown",
   "metadata": {},
   "source": [
    "Nous allons charger les données qui ont été préalablement nettoyées et traitées."
   ]
  },
  {
   "cell_type": "code",
   "execution_count": 2,
   "metadata": {},
   "outputs": [],
   "source": [
    "df = pd.read_csv('cleaned_data.csv')\n",
    "#replace NaN by empty string\n",
    "df = df.replace(np.nan, '', regex=True)"
   ]
  },
  {
   "cell_type": "code",
   "execution_count": 3,
   "metadata": {},
   "outputs": [
    {
     "data": {
      "text/plain": [
       "(64432, 7)"
      ]
     },
     "execution_count": 3,
     "metadata": {},
     "output_type": "execute_result"
    }
   ],
   "source": [
    "df.shape"
   ]
  },
  {
   "cell_type": "code",
   "execution_count": 4,
   "metadata": {},
   "outputs": [
    {
     "data": {
      "text/html": [
       "<div>\n",
       "<style>\n",
       "    .dataframe thead tr:only-child th {\n",
       "        text-align: right;\n",
       "    }\n",
       "\n",
       "    .dataframe thead th {\n",
       "        text-align: left;\n",
       "    }\n",
       "\n",
       "    .dataframe tbody tr th {\n",
       "        vertical-align: top;\n",
       "    }\n",
       "</style>\n",
       "<table border=\"1\" class=\"dataframe\">\n",
       "  <thead>\n",
       "    <tr style=\"text-align: right;\">\n",
       "      <th></th>\n",
       "      <th>TITLE</th>\n",
       "      <th>BODY</th>\n",
       "      <th>SCORE</th>\n",
       "      <th>TAGS</th>\n",
       "      <th>TITLE_P</th>\n",
       "      <th>BODY_P</th>\n",
       "      <th>TAGS_P</th>\n",
       "    </tr>\n",
       "  </thead>\n",
       "  <tbody>\n",
       "    <tr>\n",
       "      <th>0</th>\n",
       "      <td>Java generics variable &lt;T&gt; value</td>\n",
       "      <td>&lt;p&gt;At the moment I am using the following code...</td>\n",
       "      <td>6</td>\n",
       "      <td>&lt;java&gt;&lt;generics&gt;</td>\n",
       "      <td>java gener variabl valu</td>\n",
       "      <td>moment use follow code filter jpa reduc block ...</td>\n",
       "      <td>['java', 'generics']</td>\n",
       "    </tr>\n",
       "    <tr>\n",
       "      <th>1</th>\n",
       "      <td>How a value typed variable is copied when it i...</td>\n",
       "      <td>&lt;blockquote&gt;\\n  &lt;p&gt;Swift's string type is a va...</td>\n",
       "      <td>6</td>\n",
       "      <td>&lt;swift&gt;&lt;function&gt;&lt;value-type&gt;</td>\n",
       "      <td>valu type variabl copi pass function hold copi</td>\n",
       "      <td>swift string type valu type creat new string v...</td>\n",
       "      <td>['swift', 'function', 'value-type']</td>\n",
       "    </tr>\n",
       "    <tr>\n",
       "      <th>2</th>\n",
       "      <td>Error while waiting for device: The emulator p...</td>\n",
       "      <td>&lt;p&gt;I am a freshman for the development of the ...</td>\n",
       "      <td>6</td>\n",
       "      <td>&lt;android&gt;&lt;android-studio&gt;&lt;android-emulator&gt;&lt;avd&gt;</td>\n",
       "      <td>error wait devic emul process avd kill</td>\n",
       "      <td>freshman develop andriod suffer odd question r...</td>\n",
       "      <td>['android', 'android-studio', 'android-emulato...</td>\n",
       "    </tr>\n",
       "    <tr>\n",
       "      <th>3</th>\n",
       "      <td>gulp-inject not working with gulp-watch</td>\n",
       "      <td>&lt;p&gt;I am using gulp-inject to auto add SASS imp...</td>\n",
       "      <td>10</td>\n",
       "      <td>&lt;javascript&gt;&lt;node.js&gt;&lt;npm&gt;&lt;gulp&gt;&lt;gulp-watch&gt;</td>\n",
       "      <td>gulp inject work gulp watch</td>\n",
       "      <td>use gulp inject auto add sass import newli cre...</td>\n",
       "      <td>['javascript', 'node.js', 'npm', 'gulp', 'gulp...</td>\n",
       "    </tr>\n",
       "    <tr>\n",
       "      <th>4</th>\n",
       "      <td>React - Call function on props change</td>\n",
       "      <td>&lt;p&gt;My TranslationDetail component is passed an...</td>\n",
       "      <td>12</td>\n",
       "      <td>&lt;reactjs&gt;&lt;react-router&gt;</td>\n",
       "      <td>react call function prop chang</td>\n",
       "      <td>translationdetail compon pass id upon open bas...</td>\n",
       "      <td>['reactjs', 'react-router']</td>\n",
       "    </tr>\n",
       "  </tbody>\n",
       "</table>\n",
       "</div>"
      ],
      "text/plain": [
       "                                               TITLE  \\\n",
       "0                   Java generics variable <T> value   \n",
       "1  How a value typed variable is copied when it i...   \n",
       "2  Error while waiting for device: The emulator p...   \n",
       "3            gulp-inject not working with gulp-watch   \n",
       "4              React - Call function on props change   \n",
       "\n",
       "                                                BODY  SCORE  \\\n",
       "0  <p>At the moment I am using the following code...      6   \n",
       "1  <blockquote>\\n  <p>Swift's string type is a va...      6   \n",
       "2  <p>I am a freshman for the development of the ...      6   \n",
       "3  <p>I am using gulp-inject to auto add SASS imp...     10   \n",
       "4  <p>My TranslationDetail component is passed an...     12   \n",
       "\n",
       "                                               TAGS  \\\n",
       "0                                  <java><generics>   \n",
       "1                     <swift><function><value-type>   \n",
       "2  <android><android-studio><android-emulator><avd>   \n",
       "3      <javascript><node.js><npm><gulp><gulp-watch>   \n",
       "4                           <reactjs><react-router>   \n",
       "\n",
       "                                          TITLE_P  \\\n",
       "0                         java gener variabl valu   \n",
       "1  valu type variabl copi pass function hold copi   \n",
       "2          error wait devic emul process avd kill   \n",
       "3                     gulp inject work gulp watch   \n",
       "4                  react call function prop chang   \n",
       "\n",
       "                                              BODY_P  \\\n",
       "0  moment use follow code filter jpa reduc block ...   \n",
       "1  swift string type valu type creat new string v...   \n",
       "2  freshman develop andriod suffer odd question r...   \n",
       "3  use gulp inject auto add sass import newli cre...   \n",
       "4  translationdetail compon pass id upon open bas...   \n",
       "\n",
       "                                              TAGS_P  \n",
       "0                               ['java', 'generics']  \n",
       "1                ['swift', 'function', 'value-type']  \n",
       "2  ['android', 'android-studio', 'android-emulato...  \n",
       "3  ['javascript', 'node.js', 'npm', 'gulp', 'gulp...  \n",
       "4                        ['reactjs', 'react-router']  "
      ]
     },
     "execution_count": 4,
     "metadata": {},
     "output_type": "execute_result"
    }
   ],
   "source": [
    "df.head()"
   ]
  },
  {
   "cell_type": "code",
   "execution_count": 5,
   "metadata": {},
   "outputs": [
    {
     "data": {
      "text/plain": [
       "TITLE      object\n",
       "BODY       object\n",
       "SCORE       int64\n",
       "TAGS       object\n",
       "TITLE_P    object\n",
       "BODY_P     object\n",
       "TAGS_P     object\n",
       "dtype: object"
      ]
     },
     "execution_count": 5,
     "metadata": {},
     "output_type": "execute_result"
    }
   ],
   "source": [
    "df.dtypes"
   ]
  },
  {
   "cell_type": "markdown",
   "metadata": {},
   "source": [
    "La colonne TAGS_P est interprétée comme un chaîne de caractères. On va la forcer à être vue comme une list, ce qui sera plus simple pour les traitements."
   ]
  },
  {
   "cell_type": "code",
   "execution_count": 6,
   "metadata": {
    "collapsed": true
   },
   "outputs": [],
   "source": [
    "from ast import literal_eval\n",
    "df['TAGS_P'] = df['TAGS_P'].apply(literal_eval)"
   ]
  },
  {
   "cell_type": "markdown",
   "metadata": {},
   "source": [
    "# 2. Transformation des données"
   ]
  },
  {
   "cell_type": "markdown",
   "metadata": {},
   "source": [
    "## 2.1 Echantillonage"
   ]
  },
  {
   "cell_type": "markdown",
   "metadata": {},
   "source": [
    "Nous avons plus de 64 000 posts. Nous allons nous concentrer sur un échantillon de 15 000 posts."
   ]
  },
  {
   "cell_type": "code",
   "execution_count": 7,
   "metadata": {
    "collapsed": true
   },
   "outputs": [],
   "source": [
    "df_sample = df.sample(15000)"
   ]
  },
  {
   "cell_type": "code",
   "execution_count": 8,
   "metadata": {},
   "outputs": [
    {
     "data": {
      "text/plain": [
       "(15000, 7)"
      ]
     },
     "execution_count": 8,
     "metadata": {},
     "output_type": "execute_result"
    }
   ],
   "source": [
    "df_sample.shape"
   ]
  },
  {
   "cell_type": "markdown",
   "metadata": {},
   "source": [
    "** Analysons le nombre de mots que contient ce corpus.**"
   ]
  },
  {
   "cell_type": "code",
   "execution_count": 9,
   "metadata": {},
   "outputs": [],
   "source": [
    "my_counter = Counter()\n",
    "for sentence in df_sample['TITLE_P']:\n",
    "    my_counter.update(sentence.split())\n",
    "for sentence in df_sample['BODY_P']:\n",
    "    my_counter.update(sentence.split())\n",
    "words_df = pd.DataFrame.from_dict(my_counter, orient='index')\n",
    "words_df.reset_index(drop = False, inplace = True)\n",
    "words_df= words_df.rename(columns={'index':'word', 0:'count'})"
   ]
  },
  {
   "cell_type": "code",
   "execution_count": 10,
   "metadata": {},
   "outputs": [
    {
     "data": {
      "text/plain": [
       "91945"
      ]
     },
     "execution_count": 10,
     "metadata": {},
     "output_type": "execute_result"
    }
   ],
   "source": [
    "words_df.shape[0]"
   ]
  },
  {
   "cell_type": "markdown",
   "metadata": {},
   "source": [
    "=> Notre corpus est composé environ de  **90 000 mots.**"
   ]
  },
  {
   "cell_type": "markdown",
   "metadata": {},
   "source": [
    "## 2.2 Filtre sur les tags les plus fréquents"
   ]
  },
  {
   "cell_type": "markdown",
   "metadata": {},
   "source": [
    "Regardons déjà dans un premier temps le nombre d'occurences par tag."
   ]
  },
  {
   "cell_type": "code",
   "execution_count": 11,
   "metadata": {
    "collapsed": true
   },
   "outputs": [],
   "source": [
    "counts = Counter()\n",
    "for tags_list in df['TAGS_P']:\n",
    "    counts.update(tags_list)\n",
    "tags_df = pd.DataFrame.from_dict(counts, orient='index')\n",
    "tags_df.reset_index(drop = False, inplace = True)\n",
    "tags_df= tags_df.rename(columns={'index':'tag', 0:'count'})"
   ]
  },
  {
   "cell_type": "markdown",
   "metadata": {},
   "source": [
    "La structures **tags_df** contient pour chacun des tags son occurence. <br/>\n",
    "Gardons que les tags qui sont présents dans au moins 10 documents."
   ]
  },
  {
   "cell_type": "code",
   "execution_count": 12,
   "metadata": {},
   "outputs": [
    {
     "data": {
      "text/plain": [
       "2114"
      ]
     },
     "execution_count": 12,
     "metadata": {},
     "output_type": "execute_result"
    }
   ],
   "source": [
    "len(tags_df[tags_df['count'] > 10])"
   ]
  },
  {
   "cell_type": "markdown",
   "metadata": {},
   "source": [
    "Nous nous retrouvons donc avec un peu plus de 2100 tags (14000 tags dans le dataset original)."
   ]
  },
  {
   "cell_type": "markdown",
   "metadata": {},
   "source": [
    "=> Filtrons maintenant notre sample en ne gardant que les posts contenant les tags les plus fréquents."
   ]
  },
  {
   "cell_type": "code",
   "execution_count": 13,
   "metadata": {
    "collapsed": true
   },
   "outputs": [],
   "source": [
    "frequent_tags = tags_df[tags_df['count'] > 10]['tag'].tolist()"
   ]
  },
  {
   "cell_type": "markdown",
   "metadata": {},
   "source": [
    "**frequent_tags** est la structure contenant les tags les plus présents."
   ]
  },
  {
   "cell_type": "code",
   "execution_count": 14,
   "metadata": {
    "collapsed": true
   },
   "outputs": [],
   "source": [
    "df_sample['TAGS_P'] = df_sample['TAGS_P'].apply(lambda x: [w for w in x if w in frequent_tags] )\n",
    "# On supprime les lignes qui n'ont plus de tags associés (car aucun n'est présent dans la liste frequent_tags)\n",
    "df_sample = df_sample[df_sample.astype(str)['TAGS_P'] != '[]']"
   ]
  },
  {
   "cell_type": "code",
   "execution_count": 15,
   "metadata": {},
   "outputs": [
    {
     "data": {
      "text/plain": [
       "(14854, 7)"
      ]
     },
     "execution_count": 15,
     "metadata": {},
     "output_type": "execute_result"
    }
   ],
   "source": [
    "df_sample.shape"
   ]
  },
  {
   "cell_type": "markdown",
   "metadata": {},
   "source": [
    "Notre dataset contient maintenant uniquement les posts avec tags fréquents."
   ]
  },
  {
   "cell_type": "markdown",
   "metadata": {},
   "source": [
    "## 2.3 Découpage en jeu entrainement et test"
   ]
  },
  {
   "cell_type": "markdown",
   "metadata": {},
   "source": [
    "Découpons nos données en jeu d'entrainement et jeu de test pour nos algorithmes d'apprentissage."
   ]
  },
  {
   "cell_type": "code",
   "execution_count": 16,
   "metadata": {
    "collapsed": true
   },
   "outputs": [],
   "source": [
    "X = df_sample[['TITLE', 'BODY','TITLE_P', 'BODY_P']]\n",
    "Y = df_sample[['TAGS_P']]"
   ]
  },
  {
   "cell_type": "markdown",
   "metadata": {},
   "source": [
    "70% des données pour entrainement et 30% pour les tests."
   ]
  },
  {
   "cell_type": "code",
   "execution_count": 17,
   "metadata": {},
   "outputs": [],
   "source": [
    "x_train, x_test, y_train, y_test = model_selection.train_test_split(X,Y,test_size = 0.3,random_state = 0, shuffle = True)"
   ]
  },
  {
   "cell_type": "code",
   "execution_count": 18,
   "metadata": {},
   "outputs": [
    {
     "name": "stdout",
     "output_type": "stream",
     "text": [
      "train (10397, 4)\n",
      "test  (4457, 4)\n"
     ]
    }
   ],
   "source": [
    "print(\"train\", x_train.shape)\n",
    "print(\"test \",x_test.shape)"
   ]
  },
  {
   "cell_type": "markdown",
   "metadata": {},
   "source": [
    "On concatène le titre et le body qui ont été pré-traités pour notre apprentissage."
   ]
  },
  {
   "cell_type": "code",
   "execution_count": 19,
   "metadata": {
    "collapsed": true
   },
   "outputs": [],
   "source": [
    "x_train_text = x_train['TITLE_P'] + ' ' + x_train['BODY_P']"
   ]
  },
  {
   "cell_type": "markdown",
   "metadata": {},
   "source": [
    "## 2.4 Bag of words"
   ]
  },
  {
   "cell_type": "markdown",
   "metadata": {},
   "source": [
    "Pour pouvoir appliquer nos algorithmes de machine learning à nos données textuelles, il faut en extraire les features et représenter notre texte dans un modèle \"mathématique\".\n",
    "Pour celà nous allons utiliser la modélisation **Bag of Words** qui va donner une représentation sous forme de matrice de nos données."
   ]
  },
  {
   "cell_type": "markdown",
   "metadata": {},
   "source": [
    "- min_df = 5 : le mot doit être présent au moins dans 5 documents\n",
    "- max_df = 95% : si le mot est présent dans plus de 95% des documents, il ne nous aidera pas à trouver différencier les documents et on le supprime"
   ]
  },
  {
   "cell_type": "code",
   "execution_count": 20,
   "metadata": {},
   "outputs": [
    {
     "data": {
      "text/plain": [
       "(10397, 9080)"
      ]
     },
     "execution_count": 20,
     "metadata": {},
     "output_type": "execute_result"
    }
   ],
   "source": [
    "cv = CountVectorizer(min_df=5, max_df=0.95)\n",
    "data_vectorized = cv.fit_transform(x_train_text)\n",
    "cv_matrix = data_vectorized.toarray()\n",
    "cv_matrix.shape"
   ]
  },
  {
   "cell_type": "markdown",
   "metadata": {},
   "source": [
    "Voyons maintenant à quoi ressemble notre matrice."
   ]
  },
  {
   "cell_type": "code",
   "execution_count": 21,
   "metadata": {},
   "outputs": [
    {
     "data": {
      "text/html": [
       "<div>\n",
       "<style>\n",
       "    .dataframe thead tr:only-child th {\n",
       "        text-align: right;\n",
       "    }\n",
       "\n",
       "    .dataframe thead th {\n",
       "        text-align: left;\n",
       "    }\n",
       "\n",
       "    .dataframe tbody tr th {\n",
       "        vertical-align: top;\n",
       "    }\n",
       "</style>\n",
       "<table border=\"1\" class=\"dataframe\">\n",
       "  <thead>\n",
       "    <tr style=\"text-align: right;\">\n",
       "      <th></th>\n",
       "      <th>aa</th>\n",
       "      <th>aaa</th>\n",
       "      <th>aaaa</th>\n",
       "      <th>aac</th>\n",
       "      <th>aapt</th>\n",
       "      <th>aar</th>\n",
       "      <th>ab</th>\n",
       "      <th>abandon</th>\n",
       "      <th>abbrevi</th>\n",
       "      <th>abc</th>\n",
       "      <th>...</th>\n",
       "      <th>zn</th>\n",
       "      <th>zone</th>\n",
       "      <th>zoneddatetime</th>\n",
       "      <th>zoom</th>\n",
       "      <th>zsh</th>\n",
       "      <th>zu</th>\n",
       "      <th>zygoteinit</th>\n",
       "      <th>zza</th>\n",
       "      <th>zzb</th>\n",
       "      <th>µs</th>\n",
       "    </tr>\n",
       "  </thead>\n",
       "  <tbody>\n",
       "    <tr>\n",
       "      <th>0</th>\n",
       "      <td>0</td>\n",
       "      <td>0</td>\n",
       "      <td>0</td>\n",
       "      <td>0</td>\n",
       "      <td>0</td>\n",
       "      <td>0</td>\n",
       "      <td>0</td>\n",
       "      <td>0</td>\n",
       "      <td>0</td>\n",
       "      <td>0</td>\n",
       "      <td>...</td>\n",
       "      <td>0</td>\n",
       "      <td>0</td>\n",
       "      <td>0</td>\n",
       "      <td>0</td>\n",
       "      <td>0</td>\n",
       "      <td>0</td>\n",
       "      <td>0</td>\n",
       "      <td>0</td>\n",
       "      <td>0</td>\n",
       "      <td>0</td>\n",
       "    </tr>\n",
       "    <tr>\n",
       "      <th>1</th>\n",
       "      <td>0</td>\n",
       "      <td>0</td>\n",
       "      <td>0</td>\n",
       "      <td>0</td>\n",
       "      <td>0</td>\n",
       "      <td>0</td>\n",
       "      <td>0</td>\n",
       "      <td>0</td>\n",
       "      <td>0</td>\n",
       "      <td>0</td>\n",
       "      <td>...</td>\n",
       "      <td>0</td>\n",
       "      <td>0</td>\n",
       "      <td>0</td>\n",
       "      <td>0</td>\n",
       "      <td>0</td>\n",
       "      <td>0</td>\n",
       "      <td>0</td>\n",
       "      <td>0</td>\n",
       "      <td>0</td>\n",
       "      <td>0</td>\n",
       "    </tr>\n",
       "    <tr>\n",
       "      <th>2</th>\n",
       "      <td>0</td>\n",
       "      <td>0</td>\n",
       "      <td>0</td>\n",
       "      <td>0</td>\n",
       "      <td>0</td>\n",
       "      <td>0</td>\n",
       "      <td>0</td>\n",
       "      <td>0</td>\n",
       "      <td>0</td>\n",
       "      <td>0</td>\n",
       "      <td>...</td>\n",
       "      <td>0</td>\n",
       "      <td>0</td>\n",
       "      <td>0</td>\n",
       "      <td>0</td>\n",
       "      <td>0</td>\n",
       "      <td>0</td>\n",
       "      <td>0</td>\n",
       "      <td>0</td>\n",
       "      <td>0</td>\n",
       "      <td>0</td>\n",
       "    </tr>\n",
       "    <tr>\n",
       "      <th>3</th>\n",
       "      <td>0</td>\n",
       "      <td>0</td>\n",
       "      <td>0</td>\n",
       "      <td>0</td>\n",
       "      <td>0</td>\n",
       "      <td>0</td>\n",
       "      <td>0</td>\n",
       "      <td>0</td>\n",
       "      <td>0</td>\n",
       "      <td>0</td>\n",
       "      <td>...</td>\n",
       "      <td>0</td>\n",
       "      <td>0</td>\n",
       "      <td>0</td>\n",
       "      <td>0</td>\n",
       "      <td>0</td>\n",
       "      <td>0</td>\n",
       "      <td>0</td>\n",
       "      <td>0</td>\n",
       "      <td>0</td>\n",
       "      <td>0</td>\n",
       "    </tr>\n",
       "    <tr>\n",
       "      <th>4</th>\n",
       "      <td>0</td>\n",
       "      <td>0</td>\n",
       "      <td>0</td>\n",
       "      <td>0</td>\n",
       "      <td>0</td>\n",
       "      <td>0</td>\n",
       "      <td>0</td>\n",
       "      <td>0</td>\n",
       "      <td>0</td>\n",
       "      <td>0</td>\n",
       "      <td>...</td>\n",
       "      <td>0</td>\n",
       "      <td>0</td>\n",
       "      <td>0</td>\n",
       "      <td>0</td>\n",
       "      <td>0</td>\n",
       "      <td>0</td>\n",
       "      <td>0</td>\n",
       "      <td>0</td>\n",
       "      <td>0</td>\n",
       "      <td>0</td>\n",
       "    </tr>\n",
       "  </tbody>\n",
       "</table>\n",
       "<p>5 rows × 9080 columns</p>\n",
       "</div>"
      ],
      "text/plain": [
       "   aa  aaa  aaaa  aac  aapt  aar  ab  abandon  abbrevi  abc ...  zn  zone  \\\n",
       "0   0    0     0    0     0    0   0        0        0    0 ...   0     0   \n",
       "1   0    0     0    0     0    0   0        0        0    0 ...   0     0   \n",
       "2   0    0     0    0     0    0   0        0        0    0 ...   0     0   \n",
       "3   0    0     0    0     0    0   0        0        0    0 ...   0     0   \n",
       "4   0    0     0    0     0    0   0        0        0    0 ...   0     0   \n",
       "\n",
       "   zoneddatetime  zoom  zsh  zu  zygoteinit  zza  zzb  µs  \n",
       "0              0     0    0   0           0    0    0   0  \n",
       "1              0     0    0   0           0    0    0   0  \n",
       "2              0     0    0   0           0    0    0   0  \n",
       "3              0     0    0   0           0    0    0   0  \n",
       "4              0     0    0   0           0    0    0   0  \n",
       "\n",
       "[5 rows x 9080 columns]"
      ]
     },
     "execution_count": 21,
     "metadata": {},
     "output_type": "execute_result"
    }
   ],
   "source": [
    "#get all unique words in the corpus\n",
    "tf_feature_names = cv.get_feature_names()\n",
    "# show document feature vectors\n",
    "pd.DataFrame(cv_matrix, columns=tf_feature_names).head()"
   ]
  },
  {
   "cell_type": "markdown",
   "metadata": {},
   "source": [
    "Quels sont les mots les plus communs dans nos documents ?"
   ]
  },
  {
   "cell_type": "code",
   "execution_count": 22,
   "metadata": {},
   "outputs": [
    {
     "data": {
      "text/html": [
       "<div>\n",
       "<style>\n",
       "    .dataframe thead tr:only-child th {\n",
       "        text-align: right;\n",
       "    }\n",
       "\n",
       "    .dataframe thead th {\n",
       "        text-align: left;\n",
       "    }\n",
       "\n",
       "    .dataframe tbody tr th {\n",
       "        vertical-align: top;\n",
       "    }\n",
       "</style>\n",
       "<table border=\"1\" class=\"dataframe\">\n",
       "  <thead>\n",
       "    <tr style=\"text-align: right;\">\n",
       "      <th></th>\n",
       "      <th>count</th>\n",
       "    </tr>\n",
       "    <tr>\n",
       "      <th>word</th>\n",
       "      <th></th>\n",
       "    </tr>\n",
       "  </thead>\n",
       "  <tbody>\n",
       "    <tr>\n",
       "      <th>use</th>\n",
       "      <td>13849</td>\n",
       "    </tr>\n",
       "    <tr>\n",
       "      <th>android</th>\n",
       "      <td>9485</td>\n",
       "    </tr>\n",
       "    <tr>\n",
       "      <th>class</th>\n",
       "      <td>8724</td>\n",
       "    </tr>\n",
       "    <tr>\n",
       "      <th>error</th>\n",
       "      <td>8158</td>\n",
       "    </tr>\n",
       "    <tr>\n",
       "      <th>get</th>\n",
       "      <td>8033</td>\n",
       "    </tr>\n",
       "  </tbody>\n",
       "</table>\n",
       "</div>"
      ],
      "text/plain": [
       "         count\n",
       "word          \n",
       "use      13849\n",
       "android   9485\n",
       "class     8724\n",
       "error     8158\n",
       "get       8033"
      ]
     },
     "execution_count": 22,
     "metadata": {},
     "output_type": "execute_result"
    }
   ],
   "source": [
    "voc_freq_df = pd.DataFrame([list(a) for a in zip(tf_feature_names, np.asarray(cv_matrix.sum(axis=0)).ravel())])\n",
    "voc_freq_df.columns = ['word', 'count']\n",
    "voc_freq_df.set_index('word', inplace=True)\n",
    "voc_freq_df=voc_freq_df.sort_values('count', ascending=False)\n",
    "voc_freq_df.head()"
   ]
  },
  {
   "cell_type": "code",
   "execution_count": 23,
   "metadata": {},
   "outputs": [
    {
     "data": {
      "image/png": "[encoded data removed]",
      "text/plain": [
       "<matplotlib.figure.Figure at 0x1a12d4f828>"
      ]
     },
     "metadata": {},
     "output_type": "display_data"
    }
   ],
   "source": [
    "ax = voc_freq_df.head(50).plot(kind = 'bar', figsize = (14,4), color=\"#f56900\")\n",
    "plt.setp(ax.get_xticklabels(), rotation = 45, ha = 'right')\n",
    "plt.title('Top 50 words', fontsize = 'large')\n",
    "plt.xlabel('Words')\n",
    "plt.ylabel('Number of occurences')\n",
    "plt.show()"
   ]
  },
  {
   "cell_type": "markdown",
   "metadata": {},
   "source": [
    "=> use, android, class, error, ... sont très fréquents"
   ]
  },
  {
   "cell_type": "markdown",
   "metadata": {},
   "source": [
    "####  Sparsicity de la matrice"
   ]
  },
  {
   "cell_type": "markdown",
   "metadata": {},
   "source": [
    "Regardons le pourcentage de cellules non égales à 0."
   ]
  },
  {
   "cell_type": "code",
   "execution_count": 24,
   "metadata": {},
   "outputs": [
    {
     "name": "stdout",
     "output_type": "stream",
     "text": [
      "Sparsicity:  0.67 %\n"
     ]
    }
   ],
   "source": [
    "# Materialize the sparse data\n",
    "data_dense = data_vectorized.todense()\n",
    "\n",
    "# Compute Sparsicity = Percentage of Non-Zero cells\n",
    "print(\"Sparsicity:  {:.2f} %\".format( ((data_dense > 0).sum()/data_dense.size)*100, \"%\"))"
   ]
  },
  {
   "cell_type": "markdown",
   "metadata": {},
   "source": [
    "# 3. Topics Modeling LDA"
   ]
  },
  {
   "cell_type": "markdown",
   "metadata": {},
   "source": [
    "Essayons LDA (Allocation de Dirichlet Latente) pour modéliser les sujets."
   ]
  },
  {
   "cell_type": "markdown",
   "metadata": {},
   "source": [
    "## 3.1 Construction du modèle et tuning"
   ]
  },
  {
   "cell_type": "markdown",
   "metadata": {},
   "source": [
    "Nous allons utiliser la recherche sur grille pour trouver les meilleurs valeurs des hyper-paramètres."
   ]
  },
  {
   "cell_type": "code",
   "execution_count": 25,
   "metadata": {},
   "outputs": [
    {
     "data": {
      "text/plain": [
       "GridSearchCV(cv=None, error_score='raise',\n",
       "       estimator=LatentDirichletAllocation(batch_size=128, doc_topic_prior=None,\n",
       "             evaluate_every=-1, learning_decay=0.7, learning_method=None,\n",
       "             learning_offset=10.0, max_doc_update_iter=100, max_iter=10,\n",
       "             mean_change_tol=0.001, n_components=10, n_jobs=1,\n",
       "             n_topics=None, perp_tol=0.1, random_state=None,\n",
       "             topic_word_prior=None, total_samples=1000000.0, verbose=0),\n",
       "       fit_params=None, iid=True, n_jobs=1,\n",
       "       param_grid={'n_components': [10, 20, 30, 50, 70, 100], 'learning_method': ['batch'], 'max_iter': [10]},\n",
       "       pre_dispatch='2*n_jobs', refit=True, return_train_score=True,\n",
       "       scoring=None, verbose=0)"
      ]
     },
     "execution_count": 25,
     "metadata": {},
     "output_type": "execute_result"
    }
   ],
   "source": [
    "# Define Search Param\n",
    "search_params = {'n_components': [10, 20, 30, 50, 70, 100 ], 'learning_method':['batch'], 'max_iter':[10]}\n",
    "#search_params = {'n_components': [20 ], 'learning_method':['batch'], 'max_iter':[10]}\n",
    "\n",
    "# Init the Model\n",
    "lda = LatentDirichletAllocation()\n",
    "\n",
    "# Init Grid Search Class\n",
    "lda_model = GridSearchCV(lda, param_grid=search_params)\n",
    "\n",
    "# Do the Grid Search\n",
    "lda_model.fit(data_vectorized)"
   ]
  },
  {
   "cell_type": "markdown",
   "metadata": {},
   "source": [
    "Voyons les hyper-paramètres qui donnent la meilleure performance."
   ]
  },
  {
   "cell_type": "code",
   "execution_count": 26,
   "metadata": {},
   "outputs": [
    {
     "data": {
      "text/plain": [
       "{'learning_method': 'batch', 'max_iter': 10, 'n_components': 20}"
      ]
     },
     "execution_count": 26,
     "metadata": {},
     "output_type": "execute_result"
    }
   ],
   "source": [
    "lda_model.best_params_"
   ]
  },
  {
   "cell_type": "markdown",
   "metadata": {},
   "source": [
    "Nous pouvons partir sur 20 topics."
   ]
  },
  {
   "cell_type": "code",
   "execution_count": 27,
   "metadata": {
    "collapsed": true
   },
   "outputs": [],
   "source": [
    "best_lda_model = lda_model.best_estimator_"
   ]
  },
  {
   "cell_type": "code",
   "execution_count": 28,
   "metadata": {
    "collapsed": true
   },
   "outputs": [],
   "source": [
    "lda_output = best_lda_model.transform(data_vectorized)"
   ]
  },
  {
   "cell_type": "code",
   "execution_count": 29,
   "metadata": {},
   "outputs": [
    {
     "data": {
      "text/plain": [
       "(10397, 20)"
      ]
     },
     "execution_count": 29,
     "metadata": {},
     "output_type": "execute_result"
    }
   ],
   "source": [
    "lda_output.shape"
   ]
  },
  {
   "cell_type": "markdown",
   "metadata": {},
   "source": [
    "### Evaluation"
   ]
  },
  {
   "cell_type": "markdown",
   "metadata": {},
   "source": [
    "Regardons le score de perplexité et likehood de notre modèle."
   ]
  },
  {
   "cell_type": "code",
   "execution_count": 30,
   "metadata": {},
   "outputs": [
    {
     "name": "stdout",
     "output_type": "stream",
     "text": [
      "Perplexity :  1092.04400832\n"
     ]
    }
   ],
   "source": [
    "print(\"Perplexity : \",best_lda_model.perplexity(data_vectorized))"
   ]
  },
  {
   "cell_type": "code",
   "execution_count": 31,
   "metadata": {},
   "outputs": [
    {
     "name": "stdout",
     "output_type": "stream",
     "text": [
      "Log Likelihood:  -9862282.18511\n"
     ]
    }
   ],
   "source": [
    "# Log Likelyhood: Higher the better\n",
    "print(\"Log Likelihood: \", best_lda_model.score(data_vectorized))"
   ]
  },
  {
   "cell_type": "markdown",
   "metadata": {},
   "source": [
    "## 3.2 Analyse des résultats"
   ]
  },
  {
   "cell_type": "markdown",
   "metadata": {},
   "source": [
    "### Topics / Words"
   ]
  },
  {
   "cell_type": "markdown",
   "metadata": {},
   "source": [
    "Affichage de la matrice topics / words."
   ]
  },
  {
   "cell_type": "code",
   "execution_count": 32,
   "metadata": {},
   "outputs": [
    {
     "data": {
      "text/html": [
       "<div>\n",
       "<style>\n",
       "    .dataframe thead tr:only-child th {\n",
       "        text-align: right;\n",
       "    }\n",
       "\n",
       "    .dataframe thead th {\n",
       "        text-align: left;\n",
       "    }\n",
       "\n",
       "    .dataframe tbody tr th {\n",
       "        vertical-align: top;\n",
       "    }\n",
       "</style>\n",
       "<table border=\"1\" class=\"dataframe\">\n",
       "  <thead>\n",
       "    <tr style=\"text-align: right;\">\n",
       "      <th></th>\n",
       "      <th>aa</th>\n",
       "      <th>aaa</th>\n",
       "      <th>aaaa</th>\n",
       "      <th>aac</th>\n",
       "      <th>aapt</th>\n",
       "      <th>aar</th>\n",
       "      <th>ab</th>\n",
       "      <th>abandon</th>\n",
       "      <th>abbrevi</th>\n",
       "      <th>abc</th>\n",
       "      <th>...</th>\n",
       "      <th>zn</th>\n",
       "      <th>zone</th>\n",
       "      <th>zoneddatetime</th>\n",
       "      <th>zoom</th>\n",
       "      <th>zsh</th>\n",
       "      <th>zu</th>\n",
       "      <th>zygoteinit</th>\n",
       "      <th>zza</th>\n",
       "      <th>zzb</th>\n",
       "      <th>µs</th>\n",
       "    </tr>\n",
       "  </thead>\n",
       "  <tbody>\n",
       "    <tr>\n",
       "      <th>Topic0</th>\n",
       "      <td>0.050000</td>\n",
       "      <td>0.050000</td>\n",
       "      <td>0.050000</td>\n",
       "      <td>0.050000</td>\n",
       "      <td>0.050000</td>\n",
       "      <td>0.05</td>\n",
       "      <td>0.050000</td>\n",
       "      <td>1.340893</td>\n",
       "      <td>0.050000</td>\n",
       "      <td>0.050000</td>\n",
       "      <td>...</td>\n",
       "      <td>0.050000</td>\n",
       "      <td>0.050000</td>\n",
       "      <td>0.05</td>\n",
       "      <td>0.050000</td>\n",
       "      <td>3.157327</td>\n",
       "      <td>0.050000</td>\n",
       "      <td>0.05</td>\n",
       "      <td>0.05</td>\n",
       "      <td>0.05</td>\n",
       "      <td>0.0500</td>\n",
       "    </tr>\n",
       "    <tr>\n",
       "      <th>Topic1</th>\n",
       "      <td>0.050000</td>\n",
       "      <td>5.021954</td>\n",
       "      <td>0.050000</td>\n",
       "      <td>0.050000</td>\n",
       "      <td>0.050000</td>\n",
       "      <td>0.05</td>\n",
       "      <td>3.433859</td>\n",
       "      <td>0.050000</td>\n",
       "      <td>0.050000</td>\n",
       "      <td>0.050000</td>\n",
       "      <td>...</td>\n",
       "      <td>0.050000</td>\n",
       "      <td>0.050000</td>\n",
       "      <td>0.05</td>\n",
       "      <td>14.195918</td>\n",
       "      <td>0.050000</td>\n",
       "      <td>0.050000</td>\n",
       "      <td>0.05</td>\n",
       "      <td>0.05</td>\n",
       "      <td>0.05</td>\n",
       "      <td>0.0500</td>\n",
       "    </tr>\n",
       "    <tr>\n",
       "      <th>Topic2</th>\n",
       "      <td>0.050000</td>\n",
       "      <td>0.050000</td>\n",
       "      <td>0.050000</td>\n",
       "      <td>0.050000</td>\n",
       "      <td>0.050000</td>\n",
       "      <td>0.05</td>\n",
       "      <td>0.050000</td>\n",
       "      <td>0.050000</td>\n",
       "      <td>0.050000</td>\n",
       "      <td>0.050000</td>\n",
       "      <td>...</td>\n",
       "      <td>1.050000</td>\n",
       "      <td>145.620624</td>\n",
       "      <td>0.05</td>\n",
       "      <td>0.050000</td>\n",
       "      <td>0.050000</td>\n",
       "      <td>0.050000</td>\n",
       "      <td>0.05</td>\n",
       "      <td>0.05</td>\n",
       "      <td>0.05</td>\n",
       "      <td>0.0500</td>\n",
       "    </tr>\n",
       "    <tr>\n",
       "      <th>Topic3</th>\n",
       "      <td>0.050000</td>\n",
       "      <td>0.050000</td>\n",
       "      <td>0.050000</td>\n",
       "      <td>0.050000</td>\n",
       "      <td>0.050000</td>\n",
       "      <td>0.05</td>\n",
       "      <td>0.050000</td>\n",
       "      <td>0.050000</td>\n",
       "      <td>0.050000</td>\n",
       "      <td>2.860864</td>\n",
       "      <td>...</td>\n",
       "      <td>8.627394</td>\n",
       "      <td>0.050000</td>\n",
       "      <td>0.05</td>\n",
       "      <td>84.955824</td>\n",
       "      <td>0.050000</td>\n",
       "      <td>0.050000</td>\n",
       "      <td>0.05</td>\n",
       "      <td>0.05</td>\n",
       "      <td>0.05</td>\n",
       "      <td>0.0500</td>\n",
       "    </tr>\n",
       "    <tr>\n",
       "      <th>Topic4</th>\n",
       "      <td>16.867455</td>\n",
       "      <td>0.050000</td>\n",
       "      <td>0.050000</td>\n",
       "      <td>0.050000</td>\n",
       "      <td>0.050000</td>\n",
       "      <td>0.05</td>\n",
       "      <td>20.056827</td>\n",
       "      <td>0.050000</td>\n",
       "      <td>0.050000</td>\n",
       "      <td>0.751524</td>\n",
       "      <td>...</td>\n",
       "      <td>0.050000</td>\n",
       "      <td>5.374146</td>\n",
       "      <td>0.05</td>\n",
       "      <td>0.050000</td>\n",
       "      <td>0.050000</td>\n",
       "      <td>3.304777</td>\n",
       "      <td>0.05</td>\n",
       "      <td>0.05</td>\n",
       "      <td>0.05</td>\n",
       "      <td>0.0500</td>\n",
       "    </tr>\n",
       "    <tr>\n",
       "      <th>Topic5</th>\n",
       "      <td>5.134391</td>\n",
       "      <td>0.050000</td>\n",
       "      <td>13.045167</td>\n",
       "      <td>1.392691</td>\n",
       "      <td>0.050000</td>\n",
       "      <td>0.05</td>\n",
       "      <td>4.120866</td>\n",
       "      <td>0.050000</td>\n",
       "      <td>0.050000</td>\n",
       "      <td>0.050000</td>\n",
       "      <td>...</td>\n",
       "      <td>4.480275</td>\n",
       "      <td>0.050000</td>\n",
       "      <td>0.05</td>\n",
       "      <td>0.050000</td>\n",
       "      <td>0.050000</td>\n",
       "      <td>0.050000</td>\n",
       "      <td>0.05</td>\n",
       "      <td>0.05</td>\n",
       "      <td>0.05</td>\n",
       "      <td>0.0500</td>\n",
       "    </tr>\n",
       "    <tr>\n",
       "      <th>Topic6</th>\n",
       "      <td>0.050000</td>\n",
       "      <td>0.050000</td>\n",
       "      <td>0.050000</td>\n",
       "      <td>0.050000</td>\n",
       "      <td>0.050000</td>\n",
       "      <td>0.05</td>\n",
       "      <td>0.050000</td>\n",
       "      <td>0.050000</td>\n",
       "      <td>2.050000</td>\n",
       "      <td>0.050000</td>\n",
       "      <td>...</td>\n",
       "      <td>0.050000</td>\n",
       "      <td>0.050000</td>\n",
       "      <td>0.05</td>\n",
       "      <td>0.050000</td>\n",
       "      <td>0.050000</td>\n",
       "      <td>0.340604</td>\n",
       "      <td>0.05</td>\n",
       "      <td>0.05</td>\n",
       "      <td>0.05</td>\n",
       "      <td>0.0500</td>\n",
       "    </tr>\n",
       "    <tr>\n",
       "      <th>Topic7</th>\n",
       "      <td>0.050000</td>\n",
       "      <td>0.050000</td>\n",
       "      <td>0.050000</td>\n",
       "      <td>0.050000</td>\n",
       "      <td>0.050000</td>\n",
       "      <td>0.05</td>\n",
       "      <td>0.050000</td>\n",
       "      <td>0.050000</td>\n",
       "      <td>0.050000</td>\n",
       "      <td>3.337443</td>\n",
       "      <td>...</td>\n",
       "      <td>0.050000</td>\n",
       "      <td>0.050000</td>\n",
       "      <td>30.05</td>\n",
       "      <td>0.050000</td>\n",
       "      <td>0.050000</td>\n",
       "      <td>0.050000</td>\n",
       "      <td>236.05</td>\n",
       "      <td>36.05</td>\n",
       "      <td>17.05</td>\n",
       "      <td>0.0500</td>\n",
       "    </tr>\n",
       "    <tr>\n",
       "      <th>Topic8</th>\n",
       "      <td>3.310688</td>\n",
       "      <td>0.050000</td>\n",
       "      <td>0.050000</td>\n",
       "      <td>0.050000</td>\n",
       "      <td>42.988598</td>\n",
       "      <td>118.05</td>\n",
       "      <td>0.050000</td>\n",
       "      <td>0.050000</td>\n",
       "      <td>0.050000</td>\n",
       "      <td>0.050000</td>\n",
       "      <td>...</td>\n",
       "      <td>0.050000</td>\n",
       "      <td>0.050000</td>\n",
       "      <td>0.05</td>\n",
       "      <td>0.050000</td>\n",
       "      <td>0.050000</td>\n",
       "      <td>0.050000</td>\n",
       "      <td>0.05</td>\n",
       "      <td>0.05</td>\n",
       "      <td>0.05</td>\n",
       "      <td>0.0500</td>\n",
       "    </tr>\n",
       "    <tr>\n",
       "      <th>Topic9</th>\n",
       "      <td>2.161898</td>\n",
       "      <td>11.050000</td>\n",
       "      <td>0.054833</td>\n",
       "      <td>0.050000</td>\n",
       "      <td>0.050000</td>\n",
       "      <td>0.05</td>\n",
       "      <td>5.842846</td>\n",
       "      <td>0.050877</td>\n",
       "      <td>0.050000</td>\n",
       "      <td>111.589559</td>\n",
       "      <td>...</td>\n",
       "      <td>0.050000</td>\n",
       "      <td>0.050000</td>\n",
       "      <td>0.05</td>\n",
       "      <td>0.050000</td>\n",
       "      <td>0.050000</td>\n",
       "      <td>19.504619</td>\n",
       "      <td>0.05</td>\n",
       "      <td>0.05</td>\n",
       "      <td>0.05</td>\n",
       "      <td>2.8735</td>\n",
       "    </tr>\n",
       "    <tr>\n",
       "      <th>Topic10</th>\n",
       "      <td>42.811640</td>\n",
       "      <td>7.662792</td>\n",
       "      <td>0.050000</td>\n",
       "      <td>4.949906</td>\n",
       "      <td>0.050000</td>\n",
       "      <td>0.05</td>\n",
       "      <td>35.622898</td>\n",
       "      <td>0.050000</td>\n",
       "      <td>0.050000</td>\n",
       "      <td>0.050000</td>\n",
       "      <td>...</td>\n",
       "      <td>0.050000</td>\n",
       "      <td>0.050000</td>\n",
       "      <td>0.05</td>\n",
       "      <td>0.050000</td>\n",
       "      <td>0.050000</td>\n",
       "      <td>0.050000</td>\n",
       "      <td>0.05</td>\n",
       "      <td>0.05</td>\n",
       "      <td>0.05</td>\n",
       "      <td>0.0500</td>\n",
       "    </tr>\n",
       "    <tr>\n",
       "      <th>Topic11</th>\n",
       "      <td>0.050000</td>\n",
       "      <td>0.050000</td>\n",
       "      <td>0.050000</td>\n",
       "      <td>0.050000</td>\n",
       "      <td>0.050000</td>\n",
       "      <td>0.05</td>\n",
       "      <td>0.050000</td>\n",
       "      <td>7.758231</td>\n",
       "      <td>0.050000</td>\n",
       "      <td>10.229381</td>\n",
       "      <td>...</td>\n",
       "      <td>0.050000</td>\n",
       "      <td>2.885763</td>\n",
       "      <td>0.05</td>\n",
       "      <td>3.705947</td>\n",
       "      <td>0.050000</td>\n",
       "      <td>0.050000</td>\n",
       "      <td>0.05</td>\n",
       "      <td>0.05</td>\n",
       "      <td>0.05</td>\n",
       "      <td>0.0500</td>\n",
       "    </tr>\n",
       "    <tr>\n",
       "      <th>Topic12</th>\n",
       "      <td>0.050000</td>\n",
       "      <td>0.050000</td>\n",
       "      <td>0.050000</td>\n",
       "      <td>0.050000</td>\n",
       "      <td>0.050000</td>\n",
       "      <td>0.05</td>\n",
       "      <td>0.050000</td>\n",
       "      <td>0.050000</td>\n",
       "      <td>0.050000</td>\n",
       "      <td>0.050000</td>\n",
       "      <td>...</td>\n",
       "      <td>0.050000</td>\n",
       "      <td>0.050000</td>\n",
       "      <td>0.05</td>\n",
       "      <td>0.297376</td>\n",
       "      <td>5.050000</td>\n",
       "      <td>0.050000</td>\n",
       "      <td>0.05</td>\n",
       "      <td>0.05</td>\n",
       "      <td>0.05</td>\n",
       "      <td>0.0500</td>\n",
       "    </tr>\n",
       "    <tr>\n",
       "      <th>Topic13</th>\n",
       "      <td>0.050000</td>\n",
       "      <td>0.050000</td>\n",
       "      <td>0.050000</td>\n",
       "      <td>2.982513</td>\n",
       "      <td>0.050000</td>\n",
       "      <td>0.05</td>\n",
       "      <td>2.525549</td>\n",
       "      <td>0.050000</td>\n",
       "      <td>1.062411</td>\n",
       "      <td>9.719496</td>\n",
       "      <td>...</td>\n",
       "      <td>0.050000</td>\n",
       "      <td>0.050000</td>\n",
       "      <td>0.05</td>\n",
       "      <td>0.094934</td>\n",
       "      <td>0.050000</td>\n",
       "      <td>0.050000</td>\n",
       "      <td>0.05</td>\n",
       "      <td>0.05</td>\n",
       "      <td>0.05</td>\n",
       "      <td>0.0500</td>\n",
       "    </tr>\n",
       "    <tr>\n",
       "      <th>Topic14</th>\n",
       "      <td>21.303663</td>\n",
       "      <td>4.456485</td>\n",
       "      <td>0.050000</td>\n",
       "      <td>0.050000</td>\n",
       "      <td>0.050000</td>\n",
       "      <td>0.05</td>\n",
       "      <td>8.707285</td>\n",
       "      <td>0.050000</td>\n",
       "      <td>0.050000</td>\n",
       "      <td>78.099820</td>\n",
       "      <td>...</td>\n",
       "      <td>0.050000</td>\n",
       "      <td>4.319468</td>\n",
       "      <td>0.05</td>\n",
       "      <td>0.050000</td>\n",
       "      <td>0.050000</td>\n",
       "      <td>0.050000</td>\n",
       "      <td>0.05</td>\n",
       "      <td>0.05</td>\n",
       "      <td>0.05</td>\n",
       "      <td>0.0500</td>\n",
       "    </tr>\n",
       "    <tr>\n",
       "      <th>Topic15</th>\n",
       "      <td>11.781133</td>\n",
       "      <td>0.050000</td>\n",
       "      <td>0.050000</td>\n",
       "      <td>0.050000</td>\n",
       "      <td>0.111402</td>\n",
       "      <td>0.05</td>\n",
       "      <td>46.624455</td>\n",
       "      <td>0.050000</td>\n",
       "      <td>0.050000</td>\n",
       "      <td>0.876399</td>\n",
       "      <td>...</td>\n",
       "      <td>0.050000</td>\n",
       "      <td>0.050000</td>\n",
       "      <td>0.05</td>\n",
       "      <td>0.050000</td>\n",
       "      <td>0.050000</td>\n",
       "      <td>0.050000</td>\n",
       "      <td>0.05</td>\n",
       "      <td>0.05</td>\n",
       "      <td>0.05</td>\n",
       "      <td>0.0500</td>\n",
       "    </tr>\n",
       "    <tr>\n",
       "      <th>Topic16</th>\n",
       "      <td>0.050000</td>\n",
       "      <td>0.050000</td>\n",
       "      <td>0.050000</td>\n",
       "      <td>0.050000</td>\n",
       "      <td>0.050000</td>\n",
       "      <td>0.05</td>\n",
       "      <td>2.930082</td>\n",
       "      <td>0.050000</td>\n",
       "      <td>0.050000</td>\n",
       "      <td>0.050000</td>\n",
       "      <td>...</td>\n",
       "      <td>0.050000</td>\n",
       "      <td>0.050000</td>\n",
       "      <td>0.05</td>\n",
       "      <td>0.050000</td>\n",
       "      <td>5.942673</td>\n",
       "      <td>0.050000</td>\n",
       "      <td>0.05</td>\n",
       "      <td>0.05</td>\n",
       "      <td>0.05</td>\n",
       "      <td>0.0500</td>\n",
       "    </tr>\n",
       "    <tr>\n",
       "      <th>Topic17</th>\n",
       "      <td>0.077797</td>\n",
       "      <td>0.058769</td>\n",
       "      <td>0.050000</td>\n",
       "      <td>2.874890</td>\n",
       "      <td>0.050000</td>\n",
       "      <td>0.05</td>\n",
       "      <td>3.816681</td>\n",
       "      <td>0.050000</td>\n",
       "      <td>0.050000</td>\n",
       "      <td>0.050000</td>\n",
       "      <td>...</td>\n",
       "      <td>0.050000</td>\n",
       "      <td>0.050000</td>\n",
       "      <td>0.05</td>\n",
       "      <td>0.050000</td>\n",
       "      <td>0.050000</td>\n",
       "      <td>0.050000</td>\n",
       "      <td>0.05</td>\n",
       "      <td>0.05</td>\n",
       "      <td>0.05</td>\n",
       "      <td>0.0500</td>\n",
       "    </tr>\n",
       "    <tr>\n",
       "      <th>Topic18</th>\n",
       "      <td>33.864794</td>\n",
       "      <td>0.050000</td>\n",
       "      <td>0.050000</td>\n",
       "      <td>0.050000</td>\n",
       "      <td>0.050000</td>\n",
       "      <td>0.05</td>\n",
       "      <td>10.015312</td>\n",
       "      <td>0.050000</td>\n",
       "      <td>3.037589</td>\n",
       "      <td>0.050000</td>\n",
       "      <td>...</td>\n",
       "      <td>51.042331</td>\n",
       "      <td>0.050000</td>\n",
       "      <td>0.05</td>\n",
       "      <td>0.050000</td>\n",
       "      <td>0.050000</td>\n",
       "      <td>0.050000</td>\n",
       "      <td>0.05</td>\n",
       "      <td>0.05</td>\n",
       "      <td>0.05</td>\n",
       "      <td>0.0500</td>\n",
       "    </tr>\n",
       "    <tr>\n",
       "      <th>Topic19</th>\n",
       "      <td>0.186542</td>\n",
       "      <td>0.050000</td>\n",
       "      <td>0.050000</td>\n",
       "      <td>0.050000</td>\n",
       "      <td>0.050000</td>\n",
       "      <td>0.05</td>\n",
       "      <td>0.903341</td>\n",
       "      <td>0.050000</td>\n",
       "      <td>0.050000</td>\n",
       "      <td>17.985514</td>\n",
       "      <td>...</td>\n",
       "      <td>0.050000</td>\n",
       "      <td>0.050000</td>\n",
       "      <td>0.05</td>\n",
       "      <td>0.050000</td>\n",
       "      <td>0.050000</td>\n",
       "      <td>0.050000</td>\n",
       "      <td>0.05</td>\n",
       "      <td>0.05</td>\n",
       "      <td>0.05</td>\n",
       "      <td>13.2265</td>\n",
       "    </tr>\n",
       "  </tbody>\n",
       "</table>\n",
       "<p>20 rows × 9080 columns</p>\n",
       "</div>"
      ],
      "text/plain": [
       "                aa        aaa       aaaa       aac       aapt     aar  \\\n",
       "Topic0    0.050000   0.050000   0.050000  0.050000   0.050000    0.05   \n",
       "Topic1    0.050000   5.021954   0.050000  0.050000   0.050000    0.05   \n",
       "Topic2    0.050000   0.050000   0.050000  0.050000   0.050000    0.05   \n",
       "Topic3    0.050000   0.050000   0.050000  0.050000   0.050000    0.05   \n",
       "Topic4   16.867455   0.050000   0.050000  0.050000   0.050000    0.05   \n",
       "Topic5    5.134391   0.050000  13.045167  1.392691   0.050000    0.05   \n",
       "Topic6    0.050000   0.050000   0.050000  0.050000   0.050000    0.05   \n",
       "Topic7    0.050000   0.050000   0.050000  0.050000   0.050000    0.05   \n",
       "Topic8    3.310688   0.050000   0.050000  0.050000  42.988598  118.05   \n",
       "Topic9    2.161898  11.050000   0.054833  0.050000   0.050000    0.05   \n",
       "Topic10  42.811640   7.662792   0.050000  4.949906   0.050000    0.05   \n",
       "Topic11   0.050000   0.050000   0.050000  0.050000   0.050000    0.05   \n",
       "Topic12   0.050000   0.050000   0.050000  0.050000   0.050000    0.05   \n",
       "Topic13   0.050000   0.050000   0.050000  2.982513   0.050000    0.05   \n",
       "Topic14  21.303663   4.456485   0.050000  0.050000   0.050000    0.05   \n",
       "Topic15  11.781133   0.050000   0.050000  0.050000   0.111402    0.05   \n",
       "Topic16   0.050000   0.050000   0.050000  0.050000   0.050000    0.05   \n",
       "Topic17   0.077797   0.058769   0.050000  2.874890   0.050000    0.05   \n",
       "Topic18  33.864794   0.050000   0.050000  0.050000   0.050000    0.05   \n",
       "Topic19   0.186542   0.050000   0.050000  0.050000   0.050000    0.05   \n",
       "\n",
       "                ab   abandon   abbrevi         abc   ...            zn  \\\n",
       "Topic0    0.050000  1.340893  0.050000    0.050000   ...      0.050000   \n",
       "Topic1    3.433859  0.050000  0.050000    0.050000   ...      0.050000   \n",
       "Topic2    0.050000  0.050000  0.050000    0.050000   ...      1.050000   \n",
       "Topic3    0.050000  0.050000  0.050000    2.860864   ...      8.627394   \n",
       "Topic4   20.056827  0.050000  0.050000    0.751524   ...      0.050000   \n",
       "Topic5    4.120866  0.050000  0.050000    0.050000   ...      4.480275   \n",
       "Topic6    0.050000  0.050000  2.050000    0.050000   ...      0.050000   \n",
       "Topic7    0.050000  0.050000  0.050000    3.337443   ...      0.050000   \n",
       "Topic8    0.050000  0.050000  0.050000    0.050000   ...      0.050000   \n",
       "Topic9    5.842846  0.050877  0.050000  111.589559   ...      0.050000   \n",
       "Topic10  35.622898  0.050000  0.050000    0.050000   ...      0.050000   \n",
       "Topic11   0.050000  7.758231  0.050000   10.229381   ...      0.050000   \n",
       "Topic12   0.050000  0.050000  0.050000    0.050000   ...      0.050000   \n",
       "Topic13   2.525549  0.050000  1.062411    9.719496   ...      0.050000   \n",
       "Topic14   8.707285  0.050000  0.050000   78.099820   ...      0.050000   \n",
       "Topic15  46.624455  0.050000  0.050000    0.876399   ...      0.050000   \n",
       "Topic16   2.930082  0.050000  0.050000    0.050000   ...      0.050000   \n",
       "Topic17   3.816681  0.050000  0.050000    0.050000   ...      0.050000   \n",
       "Topic18  10.015312  0.050000  3.037589    0.050000   ...     51.042331   \n",
       "Topic19   0.903341  0.050000  0.050000   17.985514   ...      0.050000   \n",
       "\n",
       "               zone  zoneddatetime       zoom       zsh         zu  \\\n",
       "Topic0     0.050000           0.05   0.050000  3.157327   0.050000   \n",
       "Topic1     0.050000           0.05  14.195918  0.050000   0.050000   \n",
       "Topic2   145.620624           0.05   0.050000  0.050000   0.050000   \n",
       "Topic3     0.050000           0.05  84.955824  0.050000   0.050000   \n",
       "Topic4     5.374146           0.05   0.050000  0.050000   3.304777   \n",
       "Topic5     0.050000           0.05   0.050000  0.050000   0.050000   \n",
       "Topic6     0.050000           0.05   0.050000  0.050000   0.340604   \n",
       "Topic7     0.050000          30.05   0.050000  0.050000   0.050000   \n",
       "Topic8     0.050000           0.05   0.050000  0.050000   0.050000   \n",
       "Topic9     0.050000           0.05   0.050000  0.050000  19.504619   \n",
       "Topic10    0.050000           0.05   0.050000  0.050000   0.050000   \n",
       "Topic11    2.885763           0.05   3.705947  0.050000   0.050000   \n",
       "Topic12    0.050000           0.05   0.297376  5.050000   0.050000   \n",
       "Topic13    0.050000           0.05   0.094934  0.050000   0.050000   \n",
       "Topic14    4.319468           0.05   0.050000  0.050000   0.050000   \n",
       "Topic15    0.050000           0.05   0.050000  0.050000   0.050000   \n",
       "Topic16    0.050000           0.05   0.050000  5.942673   0.050000   \n",
       "Topic17    0.050000           0.05   0.050000  0.050000   0.050000   \n",
       "Topic18    0.050000           0.05   0.050000  0.050000   0.050000   \n",
       "Topic19    0.050000           0.05   0.050000  0.050000   0.050000   \n",
       "\n",
       "         zygoteinit    zza    zzb       µs  \n",
       "Topic0         0.05   0.05   0.05   0.0500  \n",
       "Topic1         0.05   0.05   0.05   0.0500  \n",
       "Topic2         0.05   0.05   0.05   0.0500  \n",
       "Topic3         0.05   0.05   0.05   0.0500  \n",
       "Topic4         0.05   0.05   0.05   0.0500  \n",
       "Topic5         0.05   0.05   0.05   0.0500  \n",
       "Topic6         0.05   0.05   0.05   0.0500  \n",
       "Topic7       236.05  36.05  17.05   0.0500  \n",
       "Topic8         0.05   0.05   0.05   0.0500  \n",
       "Topic9         0.05   0.05   0.05   2.8735  \n",
       "Topic10        0.05   0.05   0.05   0.0500  \n",
       "Topic11        0.05   0.05   0.05   0.0500  \n",
       "Topic12        0.05   0.05   0.05   0.0500  \n",
       "Topic13        0.05   0.05   0.05   0.0500  \n",
       "Topic14        0.05   0.05   0.05   0.0500  \n",
       "Topic15        0.05   0.05   0.05   0.0500  \n",
       "Topic16        0.05   0.05   0.05   0.0500  \n",
       "Topic17        0.05   0.05   0.05   0.0500  \n",
       "Topic18        0.05   0.05   0.05   0.0500  \n",
       "Topic19        0.05   0.05   0.05  13.2265  \n",
       "\n",
       "[20 rows x 9080 columns]"
      ]
     },
     "execution_count": 32,
     "metadata": {},
     "output_type": "execute_result"
    }
   ],
   "source": [
    "# liste des topics\n",
    "topicnames = [\"Topic\" + str(i) for i in range(best_lda_model.n_components)]\n",
    "\n",
    "# Topic-Keyword Matrice\n",
    "df_topic_keywords = pd.DataFrame(best_lda_model.components_)\n",
    "df_topic_keywords.columns = tf_feature_names\n",
    "df_topic_keywords.index = topicnames\n",
    "\n",
    "df_topic_keywords"
   ]
  },
  {
   "cell_type": "code",
   "execution_count": 33,
   "metadata": {
    "collapsed": true
   },
   "outputs": [],
   "source": [
    "# Méthode qui retourne pour chacun des topics le top \"n_words\" mots\n",
    "def show_topics(feature_names, tp_model, n_words=20):\n",
    "    keywords = np.array(feature_names)\n",
    "    topic_keywords = []\n",
    "    for topic_weights in tp_model.components_:\n",
    "        top_keyword_locs = (-topic_weights).argsort()[:n_words]\n",
    "        topic_keywords.append(keywords.take(top_keyword_locs))\n",
    "    return topic_keywords"
   ]
  },
  {
   "cell_type": "code",
   "execution_count": 34,
   "metadata": {},
   "outputs": [
    {
     "data": {
      "text/html": [
       "<div>\n",
       "<style>\n",
       "    .dataframe thead tr:only-child th {\n",
       "        text-align: right;\n",
       "    }\n",
       "\n",
       "    .dataframe thead th {\n",
       "        text-align: left;\n",
       "    }\n",
       "\n",
       "    .dataframe tbody tr th {\n",
       "        vertical-align: top;\n",
       "    }\n",
       "</style>\n",
       "<table border=\"1\" class=\"dataframe\">\n",
       "  <thead>\n",
       "    <tr style=\"text-align: right;\">\n",
       "      <th></th>\n",
       "      <th>Word 0</th>\n",
       "      <th>Word 1</th>\n",
       "      <th>Word 2</th>\n",
       "      <th>Word 3</th>\n",
       "      <th>Word 4</th>\n",
       "      <th>Word 5</th>\n",
       "      <th>Word 6</th>\n",
       "      <th>Word 7</th>\n",
       "      <th>Word 8</th>\n",
       "      <th>Word 9</th>\n",
       "    </tr>\n",
       "  </thead>\n",
       "  <tbody>\n",
       "    <tr>\n",
       "      <th>Topic 0</th>\n",
       "      <td>user</td>\n",
       "      <td>app</td>\n",
       "      <td>git</td>\n",
       "      <td>use</td>\n",
       "      <td>token</td>\n",
       "      <td>login</td>\n",
       "      <td>firebas</td>\n",
       "      <td>password</td>\n",
       "      <td>email</td>\n",
       "      <td>auth</td>\n",
       "    </tr>\n",
       "    <tr>\n",
       "      <th>Topic 1</th>\n",
       "      <td>div</td>\n",
       "      <td>px</td>\n",
       "      <td>class</td>\n",
       "      <td>width</td>\n",
       "      <td>style</td>\n",
       "      <td>text</td>\n",
       "      <td>height</td>\n",
       "      <td>color</td>\n",
       "      <td>content</td>\n",
       "      <td>background</td>\n",
       "    </tr>\n",
       "    <tr>\n",
       "      <th>Topic 2</th>\n",
       "      <td>js</td>\n",
       "      <td>angular</td>\n",
       "      <td>import</td>\n",
       "      <td>node</td>\n",
       "      <td>app</td>\n",
       "      <td>react</td>\n",
       "      <td>from</td>\n",
       "      <td>compon</td>\n",
       "      <td>error</td>\n",
       "      <td>component</td>\n",
       "    </tr>\n",
       "    <tr>\n",
       "      <th>Topic 3</th>\n",
       "      <td>self</td>\n",
       "      <td>size</td>\n",
       "      <td>frame</td>\n",
       "      <td>button</td>\n",
       "      <td>let</td>\n",
       "      <td>point</td>\n",
       "      <td>plot</td>\n",
       "      <td>imag</td>\n",
       "      <td>scale</td>\n",
       "      <td>xs</td>\n",
       "    </tr>\n",
       "    <tr>\n",
       "      <th>Topic 4</th>\n",
       "      <td>http</td>\n",
       "      <td>request</td>\n",
       "      <td>php</td>\n",
       "      <td>json</td>\n",
       "      <td>server</td>\n",
       "      <td>api</td>\n",
       "      <td>get</td>\n",
       "      <td>com</td>\n",
       "      <td>error</td>\n",
       "      <td>url</td>\n",
       "    </tr>\n",
       "    <tr>\n",
       "      <th>Topic 5</th>\n",
       "      <td>let</td>\n",
       "      <td>thread</td>\n",
       "      <td>call</td>\n",
       "      <td>if</td>\n",
       "      <td>code</td>\n",
       "      <td>self</td>\n",
       "      <td>error</td>\n",
       "      <td>task</td>\n",
       "      <td>async</td>\n",
       "      <td>string</td>\n",
       "    </tr>\n",
       "    <tr>\n",
       "      <th>Topic 6</th>\n",
       "      <td>this</td>\n",
       "      <td>state</td>\n",
       "      <td>return</td>\n",
       "      <td>product</td>\n",
       "      <td>const</td>\n",
       "      <td>function</td>\n",
       "      <td>test</td>\n",
       "      <td>react</td>\n",
       "      <td>as</td>\n",
       "      <td>cell</td>\n",
       "    </tr>\n",
       "    <tr>\n",
       "      <th>Topic 7</th>\n",
       "      <td>java</td>\n",
       "      <td>at</td>\n",
       "      <td>org</td>\n",
       "      <td>com</td>\n",
       "      <td>jar</td>\n",
       "      <td>spark</td>\n",
       "      <td>apache</td>\n",
       "      <td>springframework</td>\n",
       "      <td>lang</td>\n",
       "      <td>internal</td>\n",
       "    </tr>\n",
       "    <tr>\n",
       "      <th>Topic 8</th>\n",
       "      <td>android</td>\n",
       "      <td>com</td>\n",
       "      <td>app</td>\n",
       "      <td>support</td>\n",
       "      <td>build</td>\n",
       "      <td>google</td>\n",
       "      <td>compile</td>\n",
       "      <td>project</td>\n",
       "      <td>error</td>\n",
       "      <td>version</td>\n",
       "    </tr>\n",
       "    <tr>\n",
       "      <th>Topic 9</th>\n",
       "      <td>int</td>\n",
       "      <td>class</td>\n",
       "      <td>std</td>\n",
       "      <td>type</td>\n",
       "      <td>function</td>\n",
       "      <td>return</td>\n",
       "      <td>foo</td>\n",
       "      <td>string</td>\n",
       "      <td>void</td>\n",
       "      <td>use</td>\n",
       "    </tr>\n",
       "    <tr>\n",
       "      <th>Topic 10</th>\n",
       "      <td>data</td>\n",
       "      <td>array</td>\n",
       "      <td>use</td>\n",
       "      <td>model</td>\n",
       "      <td>time</td>\n",
       "      <td>list</td>\n",
       "      <td>valu</td>\n",
       "      <td>size</td>\n",
       "      <td>number</td>\n",
       "      <td>like</td>\n",
       "    </tr>\n",
       "    <tr>\n",
       "      <th>Topic 11</th>\n",
       "      <td>use</td>\n",
       "      <td>file</td>\n",
       "      <td>work</td>\n",
       "      <td>like</td>\n",
       "      <td>tri</td>\n",
       "      <td>would</td>\n",
       "      <td>code</td>\n",
       "      <td>project</td>\n",
       "      <td>way</td>\n",
       "      <td>set</td>\n",
       "    </tr>\n",
       "    <tr>\n",
       "      <th>Topic 12</th>\n",
       "      <td>id</td>\n",
       "      <td>td</td>\n",
       "      <td>query</td>\n",
       "      <td>the</td>\n",
       "      <td>from</td>\n",
       "      <td>to</td>\n",
       "      <td>comment</td>\n",
       "      <td>select</td>\n",
       "      <td>users</td>\n",
       "      <td>ms</td>\n",
       "    </tr>\n",
       "    <tr>\n",
       "      <th>Topic 13</th>\n",
       "      <td>public</td>\n",
       "      <td>android</td>\n",
       "      <td>new</td>\n",
       "      <td>string</td>\n",
       "      <td>layout</td>\n",
       "      <td>id</td>\n",
       "      <td>view</td>\n",
       "      <td>void</td>\n",
       "      <td>private</td>\n",
       "      <td>null</td>\n",
       "    </tr>\n",
       "    <tr>\n",
       "      <th>Topic 14</th>\n",
       "      <td>name</td>\n",
       "      <td>function</td>\n",
       "      <td>var</td>\n",
       "      <td>id</td>\n",
       "      <td>date</td>\n",
       "      <td>form</td>\n",
       "      <td>type</td>\n",
       "      <td>value</td>\n",
       "      <td>input</td>\n",
       "      <td>data</td>\n",
       "    </tr>\n",
       "    <tr>\n",
       "      <th>Topic 15</th>\n",
       "      <td>the</td>\n",
       "      <td>to</td>\n",
       "      <td>of</td>\n",
       "      <td>and</td>\n",
       "      <td>is</td>\n",
       "      <td>false</td>\n",
       "      <td>for</td>\n",
       "      <td>if</td>\n",
       "      <td>in</td>\n",
       "      <td>gradle</td>\n",
       "    </tr>\n",
       "    <tr>\n",
       "      <th>Topic 16</th>\n",
       "      <td>self</td>\n",
       "      <td>python</td>\n",
       "      <td>py</td>\n",
       "      <td>def</td>\n",
       "      <td>run</td>\n",
       "      <td>in</td>\n",
       "      <td>site</td>\n",
       "      <td>tensorflow</td>\n",
       "      <td>line</td>\n",
       "      <td>time</td>\n",
       "    </tr>\n",
       "    <tr>\n",
       "      <th>Topic 17</th>\n",
       "      <td>error</td>\n",
       "      <td>system</td>\n",
       "      <td>info</td>\n",
       "      <td>run</td>\n",
       "      <td>scala</td>\n",
       "      <td>debug</td>\n",
       "      <td>version</td>\n",
       "      <td>test</td>\n",
       "      <td>microsoft</td>\n",
       "      <td>log</td>\n",
       "    </tr>\n",
       "    <tr>\n",
       "      <th>Topic 18</th>\n",
       "      <td>list</td>\n",
       "      <td>stream</td>\n",
       "      <td>map</td>\n",
       "      <td>long</td>\n",
       "      <td>object</td>\n",
       "      <td>collect</td>\n",
       "      <td>xmm</td>\n",
       "      <td>type</td>\n",
       "      <td>iter</td>\n",
       "      <td>fn</td>\n",
       "    </tr>\n",
       "    <tr>\n",
       "      <th>Topic 19</th>\n",
       "      <td>file</td>\n",
       "      <td>in</td>\n",
       "      <td>text</td>\n",
       "      <td>python</td>\n",
       "      <td>lib</td>\n",
       "      <td>import</td>\n",
       "      <td>line</td>\n",
       "      <td>from</td>\n",
       "      <td>usr</td>\n",
       "      <td>path</td>\n",
       "    </tr>\n",
       "  </tbody>\n",
       "</table>\n",
       "</div>"
      ],
      "text/plain": [
       "           Word 0    Word 1  Word 2   Word 3    Word 4    Word 5   Word 6  \\\n",
       "Topic 0      user       app     git      use     token     login  firebas   \n",
       "Topic 1       div        px   class    width     style      text   height   \n",
       "Topic 2        js   angular  import     node       app     react     from   \n",
       "Topic 3      self      size   frame   button       let     point     plot   \n",
       "Topic 4      http   request     php     json    server       api      get   \n",
       "Topic 5       let    thread    call       if      code      self    error   \n",
       "Topic 6      this     state  return  product     const  function     test   \n",
       "Topic 7      java        at     org      com       jar     spark   apache   \n",
       "Topic 8   android       com     app  support     build    google  compile   \n",
       "Topic 9       int     class     std     type  function    return      foo   \n",
       "Topic 10     data     array     use    model      time      list     valu   \n",
       "Topic 11      use      file    work     like       tri     would     code   \n",
       "Topic 12       id        td   query      the      from        to  comment   \n",
       "Topic 13   public   android     new   string    layout        id     view   \n",
       "Topic 14     name  function     var       id      date      form     type   \n",
       "Topic 15      the        to      of      and        is     false      for   \n",
       "Topic 16     self    python      py      def       run        in     site   \n",
       "Topic 17    error    system    info      run     scala     debug  version   \n",
       "Topic 18     list    stream     map     long    object   collect      xmm   \n",
       "Topic 19     file        in    text   python       lib    import     line   \n",
       "\n",
       "                   Word 7     Word 8      Word 9  \n",
       "Topic 0          password      email        auth  \n",
       "Topic 1             color    content  background  \n",
       "Topic 2            compon      error   component  \n",
       "Topic 3              imag      scale          xs  \n",
       "Topic 4               com      error         url  \n",
       "Topic 5              task      async      string  \n",
       "Topic 6             react         as        cell  \n",
       "Topic 7   springframework       lang    internal  \n",
       "Topic 8           project      error     version  \n",
       "Topic 9            string       void         use  \n",
       "Topic 10             size     number        like  \n",
       "Topic 11          project        way         set  \n",
       "Topic 12           select      users          ms  \n",
       "Topic 13             void    private        null  \n",
       "Topic 14            value      input        data  \n",
       "Topic 15               if         in      gradle  \n",
       "Topic 16       tensorflow       line        time  \n",
       "Topic 17             test  microsoft         log  \n",
       "Topic 18             type       iter          fn  \n",
       "Topic 19             from        usr        path  "
      ]
     },
     "execution_count": 34,
     "metadata": {},
     "output_type": "execute_result"
    }
   ],
   "source": [
    "topic_keywords = show_topics(tf_feature_names, best_lda_model, n_words=10)        \n",
    "\n",
    "# Topic - Keywords Dataframe\n",
    "df_topic_keywords = pd.DataFrame(topic_keywords)\n",
    "df_topic_keywords.columns = ['Word '+str(i) for i in range(df_topic_keywords.shape[1])]\n",
    "df_topic_keywords.index = ['Topic '+str(i) for i in range(df_topic_keywords.shape[0])]\n",
    "df_topic_keywords"
   ]
  },
  {
   "cell_type": "markdown",
   "metadata": {},
   "source": [
    "Nous pouvons interpréter certains topics : <br/>\n",
    "- le sujet 1 : Tableau HTML\n",
    "- Le sujet 7 : Androïd \n",
    "- Le sujet 9 : Requêtes HTTP \n",
    "- Le sujet 15 : Microsoft / .Net\n",
    "- Le sujet 16 : Java / Apache\n",
    "- Le sujet 17 : Python\n",
    "- Le sujet 19 : System / Installation\n",
    "..."
   ]
  },
  {
   "cell_type": "markdown",
   "metadata": {},
   "source": [
    "###  Docs / Topics"
   ]
  },
  {
   "cell_type": "markdown",
   "metadata": {},
   "source": [
    "Voyons maintenant le topic associé à quelques documents."
   ]
  },
  {
   "cell_type": "code",
   "execution_count": 35,
   "metadata": {
    "collapsed": true
   },
   "outputs": [],
   "source": [
    "'''\n",
    "Affiche pour chacun des topics, le top n documents qui sont les plus pertinent pour ce topic.\n",
    "@H : word_to_topics matrix\n",
    "@W : topics_to_docs matrix\n",
    "'''\n",
    "def display_topics(H, W, feature_names, documents, targets, no_top_words, no_top_documents):\n",
    "    for topic_idx, topic in enumerate(H):\n",
    "        print (\"Topic %d : \" % (topic_idx) + \" \".join([feature_names[i]\n",
    "                        for i in topic.argsort()[:-no_top_words - 1:-1]]))\n",
    "        top_doc_indices = np.argsort( W[:,topic_idx] )[::-1][0:no_top_documents]\n",
    "        for doc_index in top_doc_indices:\n",
    "            print (\"Doc\",doc_index,\" Title:\", documents.iloc[doc_index].TITLE[0:60],\n",
    "                   \"- Tags:\", targets.iloc[doc_index].TAGS_P)\n",
    "        print(\"\")"
   ]
  },
  {
   "cell_type": "code",
   "execution_count": 37,
   "metadata": {},
   "outputs": [
    {
     "name": "stdout",
     "output_type": "stream",
     "text": [
      "Topic 0 : user app git use token login firebas password email auth\n",
      "Doc 1951  Title: LinkedIn API Refresh Access Token (May 2017) - Tags: ['linkedin', 'access-token', 'linkedin-api']\n",
      "Doc 5776  Title: Why can't I store an oauth refresh token in the browser? - Tags: ['security', 'authentication', 'web-applications']\n",
      "\n",
      "Topic 1 : div px class width style text height color content background\n",
      "Doc 9641  Title: Accounting for Scrollbar Width When Positioning Element - Tags: ['css']\n",
      "Doc 9681  Title: Bootstrap Mobile Menu 100% - Tags: ['html', 'css', 'twitter-bootstrap', 'css3']\n",
      "\n",
      "Topic 2 : js angular import node app react from compon error component\n",
      "Doc 7731  Title: Angular 2: How to tell SystemJS to use a bundle? - Tags: ['javascript', 'angular', 'bundle', 'systemjs']\n",
      "Doc 6663  Title: ng2-bootstrap not working in Angular 2 ('alert' is not a kno - Tags: ['angular']\n",
      "\n",
      "Topic 3 : self size frame button let point plot imag scale xs\n",
      "Doc 7628  Title: How to crop a UIImage without losing it's scale property? - Tags: ['ios', 'swift', 'uiimage', 'core-graphics']\n",
      "Doc 4749  Title: Scales = \"free\" works for facet_wrap but doesn't for facet_g - Tags: ['r', 'ggplot2']\n",
      "\n",
      "Topic 4 : http request php json server api get com error url\n",
      "Doc 141  Title: Expose port in minikube - Tags: ['kubernetes']\n",
      "Doc 4071  Title: How to create a https server on localhost - Tags: ['ssl', 'https', 'localhost']\n",
      "\n",
      "Topic 5 : let thread call if code self error task async string\n",
      "Doc 9361  Title: significant change location delegate methods not being calle - Tags: ['ios', 'objective-c', 'properties', 'background', 'delegates']\n",
      "Doc 4563  Title: Swift: Notifying a ViewController from another using complet - Tags: ['ios', 'swift', 'uiviewcontroller']\n",
      "\n",
      "Topic 6 : this state return product const function test react as cell\n",
      "Doc 3844  Title: Keras verbose training progress bar writing a new line on ea - Tags: ['tensorflow', 'progress-bar', 'theano', 'keras', 'keras-layer']\n",
      "Doc 4268  Title: How to mock localStorage.setIem and localStorage.removeItem  - Tags: ['javascript', 'reactjs', 'jestjs']\n",
      "\n",
      "Topic 7 : java at org com jar spark apache springframework lang internal\n",
      "Doc 3699  Title: hbase-client 2.0.x error - Tags: ['java', 'maven', 'hbase']\n",
      "Doc 8996  Title: ApplicationEventMulticaster not initialized - call 'refresh' - Tags: ['java', 'spring', 'maven']\n",
      "\n",
      "Topic 8 : android com app support build google compile project error version\n",
      "Doc 1148  Title: Error of 25.0.0 while compiling the project - Tags: ['android']\n",
      "Doc 6516  Title: Error:Failed to resolve: com.github.bumptech.glide:glide:4.0 - Tags: ['android-studio', 'android-glide']\n",
      "\n",
      "Topic 9 : int class std type function return foo string void use\n",
      "Doc 8675  Title: Result of ternary operator on `int` and `float` - Tags: ['c++', 'c++11', 'language-lawyer']\n",
      "Doc 4801  Title: A type trait identifying which class provides the function s - Tags: ['c++', 'overloading', 'c++17', 'template-meta-programming', 'functor']\n",
      "\n",
      "Topic 10 : data array use model time list valu size number like\n",
      "Doc 4785  Title: What is the advantage of using an InputLayer (or an Input) i - Tags: ['python', 'tensorflow', 'deep-learning', 'keras']\n",
      "Doc 2137  Title: How does MATLAB's colon operator work? - Tags: ['matlab', 'vector']\n",
      "\n",
      "Topic 11 : use file work like tri would code project way set\n",
      "Doc 3186  Title: Hololens Apps Will No Longer Build - Cites Metadata file mis - Tags: ['c#', 'visual-studio', 'windows-10-universal']\n",
      "Doc 4089  Title: Visual Studio not downloading DLL for NuGet package - Tags: ['visual-studio-2015', 'nuget']\n",
      "\n",
      "Topic 12 : id td query the from to comment select users ms\n",
      "Doc 5447  Title: Active Model Serializer - Increasing Render Performance - Tags: ['ruby-on-rails', 'json', 'ruby-on-rails-4', 'serialization']\n",
      "Doc 6765  Title: Log.d() or Log.e() in android prints unwanted extra texts - Tags: ['android', 'logging']\n",
      "\n",
      "Topic 13 : public android new string layout id view void private null\n",
      "Doc 3205  Title: View Animations in Android Collapse/Expand Views in LinearLa - Tags: ['android', 'android-animation']\n",
      "Doc 2567  Title: How to pass data and open an Activity from Widget? [Android] - Tags: ['android', 'listview', 'widget']\n",
      "\n",
      "Topic 14 : name function var id date form type value input data\n",
      "Doc 1360  Title: How can I remove the span wrapper in Contact Form 7? - Tags: ['wordpress']\n",
      "Doc 3441  Title: Underscore.js to check if element in array exists? - Tags: ['underscore.js']\n",
      "\n",
      "Topic 15 : the to of and is false for if in gradle\n",
      "Doc 8129  Title: How to create new page element for exceed content? - Tags: ['javascript', 'html', 'css']\n",
      "Doc 839  Title: Removing similar elements from array - Tags: ['php', 'arrays']\n",
      "\n",
      "Topic 16 : self python py def run in site tensorflow line time\n",
      "Doc 2656  Title: TensorFlow 'module' object has no attribute 'global_variable - Tags: ['python', 'tensorflow', 'deep-learning', 'word2vec']\n",
      "Doc 2336  Title: flask-socket.io: frequent time-outs - Tags: ['python', 'websocket', 'python-3.5']\n",
      "\n",
      "Topic 17 : error system info run scala debug version test microsoft log\n",
      "Doc 9192  Title: docker exec: rpc error: code = 2 desc = oci runtime error: e - Tags: ['linux', 'docker', 'ubuntu-16.04']\n",
      "Doc 5231  Title: troubleshooting jar loading conflicts in sbt - Tags: ['scala', 'sbt']\n",
      "\n",
      "Topic 18 : list stream map long object collect xmm type iter fn\n",
      "Doc 7819  Title: Odd results when evaluating benchmark example from Rust Book - Tags: ['assembly', 'optimization', 'rust', 'benchmarking']\n",
      "Doc 5947  Title: multiple single object trackers does it give multiple object - Tags: ['object']\n",
      "\n",
      "Topic 19 : file in text python lib import line from usr path\n",
      "Doc 2873  Title: python pycparser setup error - Tags: ['python', 'pip', 'centos7']\n",
      "Doc 7620  Title: ImportError: No module named setuptools.command on Mac OS X  - Tags: ['python', 'django', 'macos', 'virtualenv']\n",
      "\n"
     ]
    }
   ],
   "source": [
    "display_topics(best_lda_model.components_, lda_output, tf_feature_names, x_train, y_train, 10, 2)"
   ]
  },
  {
   "cell_type": "markdown",
   "metadata": {},
   "source": [
    "- **Stockons pour chaque document, le topic qui a la plus grande prédominance**"
   ]
  },
  {
   "cell_type": "code",
   "execution_count": 38,
   "metadata": {
    "collapsed": true
   },
   "outputs": [],
   "source": [
    "# id des posts\n",
    "docnames = [\"Doc\" + str(i) for i in range(len(x_train))]\n",
    "\n",
    "# On crée un dataframe\n",
    "df_document_topic = pd.DataFrame(np.round(lda_output, 4), columns=topicnames, index=docnames)\n",
    "\n",
    "# On rajoute une colonne contenant le numéro du topic prédominant\n",
    "dominant_topic = np.argmax(df_document_topic.values, axis=1)\n",
    "df_document_topic['Dominant_Topic'] = dominant_topic"
   ]
  },
  {
   "cell_type": "code",
   "execution_count": 39,
   "metadata": {},
   "outputs": [
    {
     "data": {
      "text/html": [
       "<div>\n",
       "<style>\n",
       "    .dataframe thead tr:only-child th {\n",
       "        text-align: right;\n",
       "    }\n",
       "\n",
       "    .dataframe thead th {\n",
       "        text-align: left;\n",
       "    }\n",
       "\n",
       "    .dataframe tbody tr th {\n",
       "        vertical-align: top;\n",
       "    }\n",
       "</style>\n",
       "<table border=\"1\" class=\"dataframe\">\n",
       "  <thead>\n",
       "    <tr style=\"text-align: right;\">\n",
       "      <th></th>\n",
       "      <th>Topic0</th>\n",
       "      <th>Topic1</th>\n",
       "      <th>Topic2</th>\n",
       "      <th>Topic3</th>\n",
       "      <th>Topic4</th>\n",
       "      <th>Topic5</th>\n",
       "      <th>Topic6</th>\n",
       "      <th>Topic7</th>\n",
       "      <th>Topic8</th>\n",
       "      <th>Topic9</th>\n",
       "      <th>...</th>\n",
       "      <th>Topic11</th>\n",
       "      <th>Topic12</th>\n",
       "      <th>Topic13</th>\n",
       "      <th>Topic14</th>\n",
       "      <th>Topic15</th>\n",
       "      <th>Topic16</th>\n",
       "      <th>Topic17</th>\n",
       "      <th>Topic18</th>\n",
       "      <th>Topic19</th>\n",
       "      <th>Dominant_Topic</th>\n",
       "    </tr>\n",
       "  </thead>\n",
       "  <tbody>\n",
       "    <tr>\n",
       "      <th>Doc0</th>\n",
       "      <td>0.1031</td>\n",
       "      <td>0.0001</td>\n",
       "      <td>0.0001</td>\n",
       "      <td>0.0001</td>\n",
       "      <td>0.0001</td>\n",
       "      <td>0.0001</td>\n",
       "      <td>0.0470</td>\n",
       "      <td>0.0001</td>\n",
       "      <td>0.0001</td>\n",
       "      <td>0.4124</td>\n",
       "      <td>...</td>\n",
       "      <td>0.0001</td>\n",
       "      <td>0.0001</td>\n",
       "      <td>0.3095</td>\n",
       "      <td>0.0266</td>\n",
       "      <td>0.0999</td>\n",
       "      <td>0.0001</td>\n",
       "      <td>0.0001</td>\n",
       "      <td>0.0001</td>\n",
       "      <td>0.0001</td>\n",
       "      <td>9</td>\n",
       "    </tr>\n",
       "    <tr>\n",
       "      <th>Doc1</th>\n",
       "      <td>0.0017</td>\n",
       "      <td>0.0017</td>\n",
       "      <td>0.0017</td>\n",
       "      <td>0.5441</td>\n",
       "      <td>0.0017</td>\n",
       "      <td>0.0017</td>\n",
       "      <td>0.0017</td>\n",
       "      <td>0.0017</td>\n",
       "      <td>0.0017</td>\n",
       "      <td>0.0017</td>\n",
       "      <td>...</td>\n",
       "      <td>0.4259</td>\n",
       "      <td>0.0017</td>\n",
       "      <td>0.0017</td>\n",
       "      <td>0.0017</td>\n",
       "      <td>0.0017</td>\n",
       "      <td>0.0017</td>\n",
       "      <td>0.0017</td>\n",
       "      <td>0.0017</td>\n",
       "      <td>0.0017</td>\n",
       "      <td>3</td>\n",
       "    </tr>\n",
       "    <tr>\n",
       "      <th>Doc2</th>\n",
       "      <td>0.0004</td>\n",
       "      <td>0.7790</td>\n",
       "      <td>0.0301</td>\n",
       "      <td>0.0291</td>\n",
       "      <td>0.0004</td>\n",
       "      <td>0.0004</td>\n",
       "      <td>0.0243</td>\n",
       "      <td>0.0004</td>\n",
       "      <td>0.0004</td>\n",
       "      <td>0.0004</td>\n",
       "      <td>...</td>\n",
       "      <td>0.0004</td>\n",
       "      <td>0.0004</td>\n",
       "      <td>0.0490</td>\n",
       "      <td>0.0004</td>\n",
       "      <td>0.0829</td>\n",
       "      <td>0.0004</td>\n",
       "      <td>0.0004</td>\n",
       "      <td>0.0004</td>\n",
       "      <td>0.0004</td>\n",
       "      <td>1</td>\n",
       "    </tr>\n",
       "    <tr>\n",
       "      <th>Doc3</th>\n",
       "      <td>0.0021</td>\n",
       "      <td>0.0021</td>\n",
       "      <td>0.0021</td>\n",
       "      <td>0.0021</td>\n",
       "      <td>0.0021</td>\n",
       "      <td>0.0021</td>\n",
       "      <td>0.0021</td>\n",
       "      <td>0.0021</td>\n",
       "      <td>0.0021</td>\n",
       "      <td>0.9604</td>\n",
       "      <td>...</td>\n",
       "      <td>0.0021</td>\n",
       "      <td>0.0021</td>\n",
       "      <td>0.0021</td>\n",
       "      <td>0.0021</td>\n",
       "      <td>0.0021</td>\n",
       "      <td>0.0021</td>\n",
       "      <td>0.0021</td>\n",
       "      <td>0.0021</td>\n",
       "      <td>0.0021</td>\n",
       "      <td>9</td>\n",
       "    </tr>\n",
       "    <tr>\n",
       "      <th>Doc4</th>\n",
       "      <td>0.9756</td>\n",
       "      <td>0.0013</td>\n",
       "      <td>0.0013</td>\n",
       "      <td>0.0013</td>\n",
       "      <td>0.0013</td>\n",
       "      <td>0.0013</td>\n",
       "      <td>0.0013</td>\n",
       "      <td>0.0013</td>\n",
       "      <td>0.0013</td>\n",
       "      <td>0.0013</td>\n",
       "      <td>...</td>\n",
       "      <td>0.0013</td>\n",
       "      <td>0.0013</td>\n",
       "      <td>0.0013</td>\n",
       "      <td>0.0013</td>\n",
       "      <td>0.0013</td>\n",
       "      <td>0.0013</td>\n",
       "      <td>0.0013</td>\n",
       "      <td>0.0013</td>\n",
       "      <td>0.0013</td>\n",
       "      <td>0</td>\n",
       "    </tr>\n",
       "    <tr>\n",
       "      <th>Doc5</th>\n",
       "      <td>0.0008</td>\n",
       "      <td>0.0008</td>\n",
       "      <td>0.0008</td>\n",
       "      <td>0.0008</td>\n",
       "      <td>0.0008</td>\n",
       "      <td>0.0008</td>\n",
       "      <td>0.0008</td>\n",
       "      <td>0.0008</td>\n",
       "      <td>0.0315</td>\n",
       "      <td>0.0008</td>\n",
       "      <td>...</td>\n",
       "      <td>0.0662</td>\n",
       "      <td>0.0008</td>\n",
       "      <td>0.0008</td>\n",
       "      <td>0.0008</td>\n",
       "      <td>0.0008</td>\n",
       "      <td>0.0008</td>\n",
       "      <td>0.0008</td>\n",
       "      <td>0.0008</td>\n",
       "      <td>0.8883</td>\n",
       "      <td>19</td>\n",
       "    </tr>\n",
       "    <tr>\n",
       "      <th>Doc6</th>\n",
       "      <td>0.0002</td>\n",
       "      <td>0.0002</td>\n",
       "      <td>0.9479</td>\n",
       "      <td>0.0002</td>\n",
       "      <td>0.0002</td>\n",
       "      <td>0.0002</td>\n",
       "      <td>0.0002</td>\n",
       "      <td>0.0002</td>\n",
       "      <td>0.0002</td>\n",
       "      <td>0.0002</td>\n",
       "      <td>...</td>\n",
       "      <td>0.0002</td>\n",
       "      <td>0.0002</td>\n",
       "      <td>0.0002</td>\n",
       "      <td>0.0002</td>\n",
       "      <td>0.0487</td>\n",
       "      <td>0.0002</td>\n",
       "      <td>0.0002</td>\n",
       "      <td>0.0002</td>\n",
       "      <td>0.0002</td>\n",
       "      <td>2</td>\n",
       "    </tr>\n",
       "    <tr>\n",
       "      <th>Doc7</th>\n",
       "      <td>0.0003</td>\n",
       "      <td>0.0523</td>\n",
       "      <td>0.0305</td>\n",
       "      <td>0.0003</td>\n",
       "      <td>0.0003</td>\n",
       "      <td>0.0003</td>\n",
       "      <td>0.0692</td>\n",
       "      <td>0.0003</td>\n",
       "      <td>0.0003</td>\n",
       "      <td>0.1510</td>\n",
       "      <td>...</td>\n",
       "      <td>0.1281</td>\n",
       "      <td>0.0003</td>\n",
       "      <td>0.0003</td>\n",
       "      <td>0.0857</td>\n",
       "      <td>0.0556</td>\n",
       "      <td>0.0003</td>\n",
       "      <td>0.0003</td>\n",
       "      <td>0.0003</td>\n",
       "      <td>0.0904</td>\n",
       "      <td>10</td>\n",
       "    </tr>\n",
       "    <tr>\n",
       "      <th>Doc8</th>\n",
       "      <td>0.1793</td>\n",
       "      <td>0.0003</td>\n",
       "      <td>0.0003</td>\n",
       "      <td>0.0003</td>\n",
       "      <td>0.0432</td>\n",
       "      <td>0.4191</td>\n",
       "      <td>0.1252</td>\n",
       "      <td>0.0003</td>\n",
       "      <td>0.0003</td>\n",
       "      <td>0.0461</td>\n",
       "      <td>...</td>\n",
       "      <td>0.0003</td>\n",
       "      <td>0.1822</td>\n",
       "      <td>0.0003</td>\n",
       "      <td>0.0003</td>\n",
       "      <td>0.0003</td>\n",
       "      <td>0.0003</td>\n",
       "      <td>0.0003</td>\n",
       "      <td>0.0003</td>\n",
       "      <td>0.0003</td>\n",
       "      <td>5</td>\n",
       "    </tr>\n",
       "    <tr>\n",
       "      <th>Doc9</th>\n",
       "      <td>0.0013</td>\n",
       "      <td>0.0013</td>\n",
       "      <td>0.0882</td>\n",
       "      <td>0.0013</td>\n",
       "      <td>0.5725</td>\n",
       "      <td>0.0013</td>\n",
       "      <td>0.0013</td>\n",
       "      <td>0.0013</td>\n",
       "      <td>0.0013</td>\n",
       "      <td>0.0013</td>\n",
       "      <td>...</td>\n",
       "      <td>0.0013</td>\n",
       "      <td>0.0013</td>\n",
       "      <td>0.0013</td>\n",
       "      <td>0.0013</td>\n",
       "      <td>0.0013</td>\n",
       "      <td>0.0013</td>\n",
       "      <td>0.1948</td>\n",
       "      <td>0.1245</td>\n",
       "      <td>0.0013</td>\n",
       "      <td>4</td>\n",
       "    </tr>\n",
       "  </tbody>\n",
       "</table>\n",
       "<p>10 rows × 21 columns</p>\n",
       "</div>"
      ],
      "text/plain": [
       "      Topic0  Topic1  Topic2  Topic3  Topic4  Topic5  Topic6  Topic7  Topic8  \\\n",
       "Doc0  0.1031  0.0001  0.0001  0.0001  0.0001  0.0001  0.0470  0.0001  0.0001   \n",
       "Doc1  0.0017  0.0017  0.0017  0.5441  0.0017  0.0017  0.0017  0.0017  0.0017   \n",
       "Doc2  0.0004  0.7790  0.0301  0.0291  0.0004  0.0004  0.0243  0.0004  0.0004   \n",
       "Doc3  0.0021  0.0021  0.0021  0.0021  0.0021  0.0021  0.0021  0.0021  0.0021   \n",
       "Doc4  0.9756  0.0013  0.0013  0.0013  0.0013  0.0013  0.0013  0.0013  0.0013   \n",
       "Doc5  0.0008  0.0008  0.0008  0.0008  0.0008  0.0008  0.0008  0.0008  0.0315   \n",
       "Doc6  0.0002  0.0002  0.9479  0.0002  0.0002  0.0002  0.0002  0.0002  0.0002   \n",
       "Doc7  0.0003  0.0523  0.0305  0.0003  0.0003  0.0003  0.0692  0.0003  0.0003   \n",
       "Doc8  0.1793  0.0003  0.0003  0.0003  0.0432  0.4191  0.1252  0.0003  0.0003   \n",
       "Doc9  0.0013  0.0013  0.0882  0.0013  0.5725  0.0013  0.0013  0.0013  0.0013   \n",
       "\n",
       "      Topic9       ...        Topic11  Topic12  Topic13  Topic14  Topic15  \\\n",
       "Doc0  0.4124       ...         0.0001   0.0001   0.3095   0.0266   0.0999   \n",
       "Doc1  0.0017       ...         0.4259   0.0017   0.0017   0.0017   0.0017   \n",
       "Doc2  0.0004       ...         0.0004   0.0004   0.0490   0.0004   0.0829   \n",
       "Doc3  0.9604       ...         0.0021   0.0021   0.0021   0.0021   0.0021   \n",
       "Doc4  0.0013       ...         0.0013   0.0013   0.0013   0.0013   0.0013   \n",
       "Doc5  0.0008       ...         0.0662   0.0008   0.0008   0.0008   0.0008   \n",
       "Doc6  0.0002       ...         0.0002   0.0002   0.0002   0.0002   0.0487   \n",
       "Doc7  0.1510       ...         0.1281   0.0003   0.0003   0.0857   0.0556   \n",
       "Doc8  0.0461       ...         0.0003   0.1822   0.0003   0.0003   0.0003   \n",
       "Doc9  0.0013       ...         0.0013   0.0013   0.0013   0.0013   0.0013   \n",
       "\n",
       "      Topic16  Topic17  Topic18  Topic19  Dominant_Topic  \n",
       "Doc0   0.0001   0.0001   0.0001   0.0001               9  \n",
       "Doc1   0.0017   0.0017   0.0017   0.0017               3  \n",
       "Doc2   0.0004   0.0004   0.0004   0.0004               1  \n",
       "Doc3   0.0021   0.0021   0.0021   0.0021               9  \n",
       "Doc4   0.0013   0.0013   0.0013   0.0013               0  \n",
       "Doc5   0.0008   0.0008   0.0008   0.8883              19  \n",
       "Doc6   0.0002   0.0002   0.0002   0.0002               2  \n",
       "Doc7   0.0003   0.0003   0.0003   0.0904              10  \n",
       "Doc8   0.0003   0.0003   0.0003   0.0003               5  \n",
       "Doc9   0.0013   0.1948   0.1245   0.0013               4  \n",
       "\n",
       "[10 rows x 21 columns]"
      ]
     },
     "execution_count": 39,
     "metadata": {},
     "output_type": "execute_result"
    }
   ],
   "source": [
    "df_document_topic.head(10)"
   ]
  },
  {
   "cell_type": "markdown",
   "metadata": {},
   "source": [
    "## 3.3 Préparation pour prédiction"
   ]
  },
  {
   "cell_type": "markdown",
   "metadata": {},
   "source": [
    "Pour nous aider à faire nos prédictions, nous allons construire une matrice tags par topic.<br/>\n",
    "Pour la construire, nous allons :\n",
    "- Pour chaque tag_i et chaque topic_j\n",
    "    - Sommer la probabilité d’appartenance au topic_j des documents contenant le tag_i. \n",
    "    - Nous allons normaliser cette somme en faisant une moyenne sur le nombre de documents qui contiennent le tag_i"
   ]
  },
  {
   "cell_type": "markdown",
   "metadata": {},
   "source": [
    "|         | tag_1 | tag_2 | ... |tag_m | \n",
    "|---------|-------|-------|-----|------|\n",
    "| **topic_1**  |  xxx  | xxx   | ... | xxx  | \n",
    "|**topic_2** |  xxx  | xxx   | ... | xxx  | \n",
    "|...      |  xxx  | xxx   | ... | xxx  |\n",
    "|**topic_n**      |  xxx  | xxx   | ... | xxx  |\n"
   ]
  },
  {
   "cell_type": "markdown",
   "metadata": {},
   "source": [
    "- Commençons par stocker pour chacun des tags, les documents qui y sont liés."
   ]
  },
  {
   "cell_type": "code",
   "execution_count": 40,
   "metadata": {
    "collapsed": true
   },
   "outputs": [],
   "source": [
    "'''\n",
    "Retourne la liste des positions (à partir index) dans data des documents contenant le tag\n",
    "'''\n",
    "def getTagDocPositions(tag, data):\n",
    "    doc_indexes = data[data['TAGS_P'].apply(lambda x: True  if tag in x else False)].index.values\n",
    "    return [(lambda x: data.index.get_loc(x))(x) for x in doc_indexes]"
   ]
  },
  {
   "cell_type": "code",
   "execution_count": 41,
   "metadata": {
    "collapsed": true
   },
   "outputs": [],
   "source": [
    "documents_by_tags = {}\n",
    "for tag in frequent_tags :\n",
    "    docs_index = getTagDocPositions(tag, y_train)\n",
    "    documents_by_tags[tag] = docs_index"
   ]
  },
  {
   "cell_type": "markdown",
   "metadata": {},
   "source": [
    "Le dictionnaire **documents_by_tags** associe à un tag, la liste des documents contenant ce tag (la position du document dans le dataframe de training)"
   ]
  },
  {
   "cell_type": "markdown",
   "metadata": {},
   "source": [
    "- Construisons maintenant notre matrice tags par topics."
   ]
  },
  {
   "cell_type": "code",
   "execution_count": 42,
   "metadata": {
    "collapsed": true
   },
   "outputs": [],
   "source": [
    "'''\n",
    "@model : \n",
    "@ ft : list of frequent tags\n",
    "@ d_by_t : dictionary of list of documents containing the tag (key)\n",
    "'''\n",
    "def buildTagByTopicsMatrix(topics_modeling_algo, tm_output, ft,  d_by_t) :\n",
    "    tag_by_topics_ = np.zeros([topics_modeling_algo.n_components,len(ft)])\n",
    "    for topic_idx in range(topics_modeling_algo.n_components):\n",
    "        for tag_idx, tag in enumerate(ft):\n",
    "            docs_pos = d_by_t[tag]\n",
    "            topic_score = 0\n",
    "            for d in docs_pos :\n",
    "                topic_score += tm_output[d][topic_idx]\n",
    "                if topic_score > 0 :\n",
    "                    #tags_by_topics[topic_idx][tag_idx]=topic_score/len(docs_pos)\n",
    "                    tag_by_topics_[topic_idx][tag_idx]=topic_score\n",
    "    return tag_by_topics_"
   ]
  },
  {
   "cell_type": "code",
   "execution_count": 43,
   "metadata": {
    "collapsed": true
   },
   "outputs": [],
   "source": [
    "tags_by_topics_lda = buildTagByTopicsMatrix(best_lda_model,lda_output, frequent_tags, documents_by_tags )"
   ]
  },
  {
   "cell_type": "code",
   "execution_count": 44,
   "metadata": {},
   "outputs": [
    {
     "data": {
      "text/plain": [
       "array([[  2.77178375e+01,   4.00388640e-01,   2.46160939e+01, ...,\n",
       "          7.82686177e-03,   5.71660404e-01,   6.80596649e-02],\n",
       "       [  5.80856938e+00,   9.47680639e-02,   9.32352613e+00, ...,\n",
       "          3.82472548e-03,   1.41218401e-03,   1.25131918e-03],\n",
       "       [  9.76653958e+00,   2.13439493e-01,   2.57517194e+00, ...,\n",
       "          3.32406951e-02,   5.83985248e-01,   1.17308620e+00],\n",
       "       ..., \n",
       "       [  4.02894353e+01,   2.25488651e-01,   4.25896063e+00, ...,\n",
       "          2.60066986e-01,   1.41218400e-03,   1.25131917e-03],\n",
       "       [  4.62186997e+01,   2.75858209e+00,   4.45475941e+00, ...,\n",
       "          3.82472552e-03,   1.41218399e-03,   1.25131917e-03],\n",
       "       [  9.33823968e+00,   2.22331679e-02,   5.94182638e+00, ...,\n",
       "          3.82472551e-03,   1.41218400e-03,   1.25131917e-03]])"
      ]
     },
     "execution_count": 44,
     "metadata": {},
     "output_type": "execute_result"
    }
   ],
   "source": [
    "tags_by_topics_lda"
   ]
  },
  {
   "cell_type": "markdown",
   "metadata": {},
   "source": [
    "- Ecrivons une méthode qui retourne, pour un numéro de topic donné, les _n_ tags les plus pertinents (ceux qui ont le meilleur score dans notre matrice)"
   ]
  },
  {
   "cell_type": "code",
   "execution_count": 45,
   "metadata": {
    "collapsed": true
   },
   "outputs": [],
   "source": [
    "'''\n",
    "Retourne num_tags tags les plus pertinents associés au topic numéro topic_idx\n",
    "'''\n",
    "def getBestTagsForTopic(t_by_topics, f_t, topic_idx, num_tags) :\n",
    "    tags_indices = np.argsort(-t_by_topics[topic_idx])[:num_tags]\n",
    "    best_tags = [f_t[index] for index in tags_indices]\n",
    "    return best_tags"
   ]
  },
  {
   "cell_type": "markdown",
   "metadata": {},
   "source": [
    "## 3.4 Prédiction"
   ]
  },
  {
   "cell_type": "markdown",
   "metadata": {},
   "source": [
    "### Text cleaning and processing"
   ]
  },
  {
   "cell_type": "markdown",
   "metadata": {},
   "source": [
    "Reprenons le code des méthodes utilisées pour la partie cleaning du texte et pré-processing."
   ]
  },
  {
   "cell_type": "code",
   "execution_count": 46,
   "metadata": {},
   "outputs": [],
   "source": [
    "stopword_list = set(stopwords.words('english'))\n",
    "tokenizer = ToktokTokenizer()\n",
    "\n",
    "'''\n",
    "Méthode qui permet de mettre les contractions dans une forme classique.\n",
    "Méthode récupéré depuis github : (c) @dipanjanS\n",
    "'''\n",
    "def expand_contractions(text, contraction_mapping=CONTRACTION_MAP):\n",
    "    contractions_pattern = re.compile('({})'.format('|'.join(contraction_mapping.keys())), \n",
    "                                      flags=re.IGNORECASE|re.DOTALL)\n",
    "    def expand_match(contraction):\n",
    "        match = contraction.group(0)\n",
    "        first_char = match[0]\n",
    "        expanded_contraction = contraction_mapping.get(match)\\\n",
    "                                if contraction_mapping.get(match)\\\n",
    "                                else contraction_mapping.get(match.lower())                       \n",
    "        expanded_contraction = first_char+expanded_contraction[1:]\n",
    "        return expanded_contraction\n",
    "        \n",
    "    expanded_text = contractions_pattern.sub(expand_match, text)\n",
    "    expanded_text = re.sub(\"'\", \"\", expanded_text)\n",
    "    return expanded_text\n",
    "\n",
    "\n",
    "# stemming of words\n",
    "def stem_text(word) :\n",
    "    porter = PorterStemmer()\n",
    "    return porter.stem(word)\n",
    "\n",
    "\n",
    "def getCleanedText(text) :\n",
    "    # remove html tags\n",
    "    text = BeautifulSoup(text, \"lxml\").get_text()\n",
    "    \n",
    "    # remove accented char\n",
    "    text = unicodedata.normalize('NFKD', text).encode('ascii', 'ignore').decode('utf-8', 'ignore')\n",
    "    \n",
    "    text = expand_contractions(text)\n",
    "    \n",
    "    # remove non alpha char\n",
    "    text = re.sub('[\\W\\d_]', ' ', text)\n",
    "\n",
    "    # convert to lower case\n",
    "    text = text.lower()\n",
    "  \n",
    "    #remove extra newlines\n",
    "    text = re.sub(r'[\\r|\\n|\\r\\n]+', ' ',text)\n",
    "    \n",
    "    # remove extra whitespace\n",
    "    text = re.sub(' +', ' ', text)\n",
    "    \n",
    "    # Remove any single letter except 'c' (correspond au langage)\n",
    "    text = ' '.join( [w for w in text.split() if len(w)>1 or w == 'c'] )\n",
    "    \n",
    "    # remove stopwords\n",
    "    tokens = tokenizer.tokenize(text)\n",
    "    tokens = [token.strip() for token in tokens]\n",
    "    meaningful_words = [token for token in tokens if token not in stopword_list]\n",
    "    \n",
    "    # stemming of words\n",
    "    porter = PorterStemmer()\n",
    "    stemmed = [porter.stem(word) for word in meaningful_words]\n",
    "    \n",
    "    # join the words back into one string separated by space, \n",
    "    # and return the result.\n",
    "    return( \" \".join( stemmed )) "
   ]
  },
  {
   "cell_type": "code",
   "execution_count": 47,
   "metadata": {
    "collapsed": true
   },
   "outputs": [],
   "source": [
    "def getCleanedBody(body) :\n",
    "    text = getCleanedBodyText(body)\n",
    "    code = getCleanedBodyCode(body)\n",
    "    return (text + ' ' + code).strip()\n",
    "\n",
    "'''\n",
    "Retrieve body text inside <p>,<h1>,<h2>,<li> tags and return the cleaned and normalized text\n",
    "'''\n",
    "def getCleanedBodyText(body) :\n",
    "    ctext=\"\"\n",
    "    tags_list=['h1','h2','p','li']\n",
    "    soup = BeautifulSoup(body, 'html.parser')\n",
    "    for t in tags_list :\n",
    "        blocks = soup.findAll(t)\n",
    "        for block in blocks:\n",
    "            ctext += \" \" + block.text    \n",
    "    return getCleanedText(re.sub(' +',' ',ctext.strip()))\n",
    "\n",
    "'''\n",
    "Retrieve the code text inside the body\n",
    "'''\n",
    "def getCleanedBodyCode(body) :\n",
    "    ctext=\"\"\n",
    "    soup = BeautifulSoup(body, 'lxml')\n",
    "    code_blocks = soup.findAll('code')\n",
    "    ctext=\" \".join(list(map(lambda x : x.text, code_blocks )))\n",
    "    table = str.maketrans('', '', string.punctuation)\n",
    "    words = re.findall(r\"[^\\W\\d_']+\", ctext.lower())\n",
    "    stripped = [w.translate(table) for w in words]\n",
    "    return( \" \".join( stripped ))"
   ]
  },
  {
   "cell_type": "markdown",
   "metadata": {},
   "source": [
    "### Topic prediction"
   ]
  },
  {
   "cell_type": "markdown",
   "metadata": {},
   "source": [
    "- Ecrivons une méthode qui va, par le biais de LDA, retrouver le topic prédominant d'un texte."
   ]
  },
  {
   "cell_type": "code",
   "execution_count": 48,
   "metadata": {
    "collapsed": true
   },
   "outputs": [],
   "source": [
    "'''\n",
    "Retourne le numéro de topic le plus pertinenent pour un poste (titre et texte)\n",
    "'''\n",
    "def getBestTopicForPost(title, body, vectorizer, tm_model) :\n",
    "    text = getCleanedText(title) + ' ' + getCleanedBody(body)\n",
    "    text_vectorized = vectorizer.transform([text])\n",
    "    topic_probability_scores = tm_model.transform(text_vectorized)\n",
    "    best_topicId = np.argmax(topic_probability_scores)\n",
    "    return best_topicId"
   ]
  },
  {
   "cell_type": "markdown",
   "metadata": {},
   "source": [
    "- Méthode qui va chercher dans la matrice tags/topics, les tags les plus pertinent pour un post.<br/>\n",
    "Elle va d'abord déterminer le topic prédominant du post puis rechercher les tags."
   ]
  },
  {
   "cell_type": "code",
   "execution_count": 49,
   "metadata": {
    "collapsed": true
   },
   "outputs": [],
   "source": [
    "'''\n",
    "Retourne la liste de n tags les plus pertinents pour le post donné.\n",
    "Se base pour celà de la matrice tags par topics.\n",
    "'''\n",
    "def getTagsPrediction(title, body, num_tag, t_by_topics, frequent_tags, vectorizer, tm_model ) :\n",
    "    predicted_topic = getBestTopicForPost(title, body,vectorizer, tm_model ) \n",
    "    predicted_tags = getBestTagsForTopic(t_by_topics, frequent_tags, predicted_topic, num_tag)\n",
    "    return predicted_tags"
   ]
  },
  {
   "cell_type": "markdown",
   "metadata": {},
   "source": [
    "- Méthode qui prédit les tags d'une série de post."
   ]
  },
  {
   "cell_type": "code",
   "execution_count": 50,
   "metadata": {
    "collapsed": true
   },
   "outputs": [],
   "source": [
    "'''\n",
    "Retourne un dataframe contenant les prédictions de tags pour les posts contenant dans posts_df\n",
    "@ post_df : le dataframe contenant les posts (title / body)\n",
    "@ num_tag : le nombre de tags à prédire\n",
    "@ t_by_topics : la matrice tags/topics utilisée pour la prédiction\n",
    "@ f_tags : liste des tags les plus fréquents (même ordre que tags dans la matrice)\n",
    "@ vectorizer : convertisseur à utiliser pour transformer texte en matrice de tokens et d'occurences.\n",
    "@ tm_model : le modèle de topic modeling à utiliser\n",
    "'''\n",
    "def getPostsTagsPrediction(posts_df, num_tag, t_by_topics, f_tags, vectorizer, tm_model):\n",
    "    y_predicted=posts_df.apply(lambda row: getTagsPrediction(row['TITLE'], row['BODY'], \n",
    "                                                             num_tag, t_by_topics, f_tags, vectorizer, tm_model),\n",
    "                               axis=1)\n",
    "    y_predicted_df = y_predicted.to_frame()\n",
    "    y_predicted_df.columns = ['TAGS_P']\n",
    "    return y_predicted_df"
   ]
  },
  {
   "cell_type": "markdown",
   "metadata": {},
   "source": [
    "## 3.5 Evaluation de la méthode"
   ]
  },
  {
   "cell_type": "markdown",
   "metadata": {},
   "source": [
    "- Méthode pour évaluer la qualité de nos prédictions"
   ]
  },
  {
   "cell_type": "code",
   "execution_count": 51,
   "metadata": {
    "collapsed": true
   },
   "outputs": [],
   "source": [
    "'''\n",
    "Méthode permettant d'évaluer la qualité des prédictions en comparant les tags prédits aux tags réels.\n",
    "calcule pour chaque post, le rapport entre le nombre de tags correctement prédits sur le nombre de tags réels.\n",
    "retourne la moyenne de ces rapports.\n",
    "'''\n",
    "\n",
    "def predictionAccuracy(y_predicted, y_true) :\n",
    "    tags_found=[]\n",
    "    for index, row in y_predicted.iterrows():\n",
    "        number_tags_found = 0\n",
    "        for t in row['TAGS_P'] :\n",
    "            if t in y_true.loc[index]['TAGS_P'] :\n",
    "                number_tags_found +=1\n",
    "        tags_found.append(number_tags_found/len(y_true.loc[index]['TAGS_P']))\n",
    "    print(\"Accuracy of prediction :\", np.mean(tags_found))"
   ]
  },
  {
   "cell_type": "markdown",
   "metadata": {},
   "source": [
    "### Prédiction des topics pour notre jeu de tests"
   ]
  },
  {
   "cell_type": "code",
   "execution_count": 52,
   "metadata": {},
   "outputs": [],
   "source": [
    "y_predicted_lda = getPostsTagsPrediction(x_test, 5, tags_by_topics_lda, frequent_tags, cv, best_lda_model)"
   ]
  },
  {
   "cell_type": "code",
   "execution_count": 53,
   "metadata": {},
   "outputs": [
    {
     "data": {
      "text/html": [
       "<div>\n",
       "<style>\n",
       "    .dataframe thead tr:only-child th {\n",
       "        text-align: right;\n",
       "    }\n",
       "\n",
       "    .dataframe thead th {\n",
       "        text-align: left;\n",
       "    }\n",
       "\n",
       "    .dataframe tbody tr th {\n",
       "        vertical-align: top;\n",
       "    }\n",
       "</style>\n",
       "<table border=\"1\" class=\"dataframe\">\n",
       "  <thead>\n",
       "    <tr style=\"text-align: right;\">\n",
       "      <th></th>\n",
       "      <th>TAGS_P</th>\n",
       "    </tr>\n",
       "  </thead>\n",
       "  <tbody>\n",
       "    <tr>\n",
       "      <th>7647</th>\n",
       "      <td>[python, pandas, r, numpy, java]</td>\n",
       "    </tr>\n",
       "    <tr>\n",
       "      <th>45706</th>\n",
       "      <td>[php, c#, docker, javascript, node.js]</td>\n",
       "    </tr>\n",
       "    <tr>\n",
       "      <th>33042</th>\n",
       "      <td>[reactjs, javascript, react-native, angular, r...</td>\n",
       "    </tr>\n",
       "    <tr>\n",
       "      <th>3510</th>\n",
       "      <td>[android, javascript, ios, c#, java]</td>\n",
       "    </tr>\n",
       "    <tr>\n",
       "      <th>45801</th>\n",
       "      <td>[css, html, javascript, jquery, css3]</td>\n",
       "    </tr>\n",
       "  </tbody>\n",
       "</table>\n",
       "</div>"
      ],
      "text/plain": [
       "                                                  TAGS_P\n",
       "7647                    [python, pandas, r, numpy, java]\n",
       "45706             [php, c#, docker, javascript, node.js]\n",
       "33042  [reactjs, javascript, react-native, angular, r...\n",
       "3510                [android, javascript, ios, c#, java]\n",
       "45801              [css, html, javascript, jquery, css3]"
      ]
     },
     "execution_count": 53,
     "metadata": {},
     "output_type": "execute_result"
    }
   ],
   "source": [
    "y_predicted_lda.head()"
   ]
  },
  {
   "cell_type": "markdown",
   "metadata": {},
   "source": [
    "### Evaluation de la prédiction du jeu de test"
   ]
  },
  {
   "cell_type": "code",
   "execution_count": 54,
   "metadata": {},
   "outputs": [
    {
     "name": "stdout",
     "output_type": "stream",
     "text": [
      "Accuracy of prediction : 0.274721412011\n"
     ]
    }
   ],
   "source": [
    "predictionAccuracy(y_predicted_lda, y_test)"
   ]
  },
  {
   "cell_type": "markdown",
   "metadata": {},
   "source": [
    "### Evaluation de la prédiction d'un nouveau sample"
   ]
  },
  {
   "cell_type": "code",
   "execution_count": 55,
   "metadata": {
    "collapsed": true
   },
   "outputs": [],
   "source": [
    "df_test2 = df.sample(5000)\n",
    "x_test2 = df_test2[['TITLE', 'BODY','TITLE_P', 'BODY_P']]\n",
    "y_test2 = df_test2[['TAGS_P']]"
   ]
  },
  {
   "cell_type": "code",
   "execution_count": 56,
   "metadata": {},
   "outputs": [
    {
     "name": "stdout",
     "output_type": "stream",
     "text": [
      "Accuracy of prediction : 0.231293333333\n"
     ]
    }
   ],
   "source": [
    "y_predicted_test2 = getPostsTagsPrediction(x_test2, 5,tags_by_topics_lda,frequent_tags, cv,  best_lda_model )\n",
    "result = predictionAccuracy(y_predicted_test2, y_test2)"
   ]
  },
  {
   "cell_type": "markdown",
   "metadata": {},
   "source": [
    "# 4. NMF"
   ]
  },
  {
   "cell_type": "markdown",
   "metadata": {},
   "source": [
    "Voyons maintenant la méthode NMF (Factorisation par matrices non négatives) pour prédire nos tags."
   ]
  },
  {
   "cell_type": "markdown",
   "metadata": {},
   "source": [
    "## 4.1 Vectorization du texte"
   ]
  },
  {
   "cell_type": "markdown",
   "metadata": {},
   "source": [
    "Utilisons la métrique tf-idf (Term-Frequency - Inverse Document Frequency)."
   ]
  },
  {
   "cell_type": "code",
   "execution_count": 60,
   "metadata": {},
   "outputs": [
    {
     "name": "stdout",
     "output_type": "stream",
     "text": [
      "Extracting tf-idf features for NMF...\n"
     ]
    },
    {
     "data": {
      "text/plain": [
       "(10397, 9080)"
      ]
     },
     "execution_count": 60,
     "metadata": {},
     "output_type": "execute_result"
    }
   ],
   "source": [
    "# Use tf-idf features for NMF.\n",
    "print(\"Extracting tf-idf features for NMF...\")\n",
    "tfidf_vectorizer = TfidfVectorizer(max_df=0.95, min_df=5)\n",
    "tfidf_vectorized = tfidf_vectorizer.fit_transform(x_train_text)\n",
    "tfidf_matrix = tfidf_vectorized.toarray()\n",
    "tfidf_matrix.shape"
   ]
  },
  {
   "cell_type": "code",
   "execution_count": 61,
   "metadata": {},
   "outputs": [],
   "source": [
    "tfidf_feature_names = tfidf_vectorizer.get_feature_names()"
   ]
  },
  {
   "cell_type": "markdown",
   "metadata": {},
   "source": [
    "## 4.2 Modélisation"
   ]
  },
  {
   "cell_type": "code",
   "execution_count": 62,
   "metadata": {
    "collapsed": true
   },
   "outputs": [],
   "source": [
    "nmf_model = NMF(n_components=30, random_state=1, alpha=.1, l1_ratio=.5).fit(tfidf_vectorized)"
   ]
  },
  {
   "cell_type": "code",
   "execution_count": 63,
   "metadata": {},
   "outputs": [],
   "source": [
    "nmf_output = nmf_model.transform(tfidf_vectorized)"
   ]
  },
  {
   "cell_type": "code",
   "execution_count": 64,
   "metadata": {},
   "outputs": [
    {
     "data": {
      "text/plain": [
       "(10397, 30)"
      ]
     },
     "execution_count": 64,
     "metadata": {},
     "output_type": "execute_result"
    }
   ],
   "source": [
    "nmf_output.shape"
   ]
  },
  {
   "cell_type": "markdown",
   "metadata": {},
   "source": [
    "## 4.3 Analyse"
   ]
  },
  {
   "cell_type": "markdown",
   "metadata": {},
   "source": [
    "### Topics / Words"
   ]
  },
  {
   "cell_type": "code",
   "execution_count": 65,
   "metadata": {},
   "outputs": [
    {
     "data": {
      "text/html": [
       "<div>\n",
       "<style>\n",
       "    .dataframe thead tr:only-child th {\n",
       "        text-align: right;\n",
       "    }\n",
       "\n",
       "    .dataframe thead th {\n",
       "        text-align: left;\n",
       "    }\n",
       "\n",
       "    .dataframe tbody tr th {\n",
       "        vertical-align: top;\n",
       "    }\n",
       "</style>\n",
       "<table border=\"1\" class=\"dataframe\">\n",
       "  <thead>\n",
       "    <tr style=\"text-align: right;\">\n",
       "      <th></th>\n",
       "      <th>Word 0</th>\n",
       "      <th>Word 1</th>\n",
       "      <th>Word 2</th>\n",
       "      <th>Word 3</th>\n",
       "      <th>Word 4</th>\n",
       "      <th>Word 5</th>\n",
       "      <th>Word 6</th>\n",
       "      <th>Word 7</th>\n",
       "      <th>Word 8</th>\n",
       "      <th>Word 9</th>\n",
       "    </tr>\n",
       "  </thead>\n",
       "  <tbody>\n",
       "    <tr>\n",
       "      <th>Topic 0</th>\n",
       "      <td>use</td>\n",
       "      <td>would</td>\n",
       "      <td>like</td>\n",
       "      <td>way</td>\n",
       "      <td>code</td>\n",
       "      <td>one</td>\n",
       "      <td>time</td>\n",
       "      <td>work</td>\n",
       "      <td>set</td>\n",
       "      <td>want</td>\n",
       "    </tr>\n",
       "    <tr>\n",
       "      <th>Topic 1</th>\n",
       "      <td>android</td>\n",
       "      <td>layout</td>\n",
       "      <td>com</td>\n",
       "      <td>support</td>\n",
       "      <td>compile</td>\n",
       "      <td>view</td>\n",
       "      <td>gradl</td>\n",
       "      <td>google</td>\n",
       "      <td>parent</td>\n",
       "      <td>id</td>\n",
       "    </tr>\n",
       "    <tr>\n",
       "      <th>Topic 2</th>\n",
       "      <td>int</td>\n",
       "      <td>const</td>\n",
       "      <td>compil</td>\n",
       "      <td>void</td>\n",
       "      <td>return</td>\n",
       "      <td>char</td>\n",
       "      <td>main</td>\n",
       "      <td>struct</td>\n",
       "      <td>size</td>\n",
       "      <td>gcc</td>\n",
       "    </tr>\n",
       "    <tr>\n",
       "      <th>Topic 3</th>\n",
       "      <td>div</td>\n",
       "      <td>class</td>\n",
       "      <td>li</td>\n",
       "      <td>form</td>\n",
       "      <td>px</td>\n",
       "      <td>span</td>\n",
       "      <td>click</td>\n",
       "      <td>col</td>\n",
       "      <td>item</td>\n",
       "      <td>input</td>\n",
       "    </tr>\n",
       "    <tr>\n",
       "      <th>Topic 4</th>\n",
       "      <td>java</td>\n",
       "      <td>at</td>\n",
       "      <td>org</td>\n",
       "      <td>lang</td>\n",
       "      <td>activitythread</td>\n",
       "      <td>com</td>\n",
       "      <td>internal</td>\n",
       "      <td>apache</td>\n",
       "      <td>util</td>\n",
       "      <td>jar</td>\n",
       "    </tr>\n",
       "    <tr>\n",
       "      <th>Topic 5</th>\n",
       "      <td>js</td>\n",
       "      <td>node</td>\n",
       "      <td>webpack</td>\n",
       "      <td>script</td>\n",
       "      <td>npm</td>\n",
       "      <td>module</td>\n",
       "      <td>modules</td>\n",
       "      <td>src</td>\n",
       "      <td>loader</td>\n",
       "      <td>at</td>\n",
       "    </tr>\n",
       "    <tr>\n",
       "      <th>Topic 6</th>\n",
       "      <td>px</td>\n",
       "      <td>width</td>\n",
       "      <td>height</td>\n",
       "      <td>text</td>\n",
       "      <td>color</td>\n",
       "      <td>style</td>\n",
       "      <td>size</td>\n",
       "      <td>background</td>\n",
       "      <td>imag</td>\n",
       "      <td>font</td>\n",
       "    </tr>\n",
       "    <tr>\n",
       "      <th>Topic 7</th>\n",
       "      <td>class</td>\n",
       "      <td>public</td>\n",
       "      <td>void</td>\n",
       "      <td>private</td>\n",
       "      <td>method</td>\n",
       "      <td>new</td>\n",
       "      <td>static</td>\n",
       "      <td>this</td>\n",
       "      <td>object</td>\n",
       "      <td>override</td>\n",
       "    </tr>\n",
       "    <tr>\n",
       "      <th>Topic 8</th>\n",
       "      <td>angular</td>\n",
       "      <td>ng</td>\n",
       "      <td>cli</td>\n",
       "      <td>compon</td>\n",
       "      <td>ts</td>\n",
       "      <td>http</td>\n",
       "      <td>bootstrap</td>\n",
       "      <td>browser</td>\n",
       "      <td>core</td>\n",
       "      <td>use</td>\n",
       "    </tr>\n",
       "    <tr>\n",
       "      <th>Topic 9</th>\n",
       "      <td>react</td>\n",
       "      <td>nativ</td>\n",
       "      <td>render</td>\n",
       "      <td>native</td>\n",
       "      <td>compon</td>\n",
       "      <td>props</td>\n",
       "      <td>redux</td>\n",
       "      <td>state</td>\n",
       "      <td>use</td>\n",
       "      <td>prop</td>\n",
       "    </tr>\n",
       "    <tr>\n",
       "      <th>Topic 10</th>\n",
       "      <td>self</td>\n",
       "      <td>let</td>\n",
       "      <td>def</td>\n",
       "      <td>in</td>\n",
       "      <td>func</td>\n",
       "      <td>print</td>\n",
       "      <td>python</td>\n",
       "      <td>swift</td>\n",
       "      <td>view</td>\n",
       "      <td>nil</td>\n",
       "    </tr>\n",
       "    <tr>\n",
       "      <th>Topic 11</th>\n",
       "      <td>foo</td>\n",
       "      <td>bar</td>\n",
       "      <td>baz</td>\n",
       "      <td>struct</td>\n",
       "      <td>void</td>\n",
       "      <td>const</td>\n",
       "      <td>class</td>\n",
       "      <td>template</td>\n",
       "      <td>member</td>\n",
       "      <td>compil</td>\n",
       "    </tr>\n",
       "    <tr>\n",
       "      <th>Topic 12</th>\n",
       "      <td>import</td>\n",
       "      <td>from</td>\n",
       "      <td>component</td>\n",
       "      <td>this</td>\n",
       "      <td>compon</td>\n",
       "      <td>router</td>\n",
       "      <td>export</td>\n",
       "      <td>modul</td>\n",
       "      <td>const</td>\n",
       "      <td>state</td>\n",
       "    </tr>\n",
       "    <tr>\n",
       "      <th>Topic 13</th>\n",
       "      <td>data</td>\n",
       "      <td>id</td>\n",
       "      <td>name</td>\n",
       "      <td>column</td>\n",
       "      <td>df</td>\n",
       "      <td>row</td>\n",
       "      <td>tabl</td>\n",
       "      <td>datafram</td>\n",
       "      <td>table</td>\n",
       "      <td>select</td>\n",
       "    </tr>\n",
       "    <tr>\n",
       "      <th>Topic 14</th>\n",
       "      <td>studio</td>\n",
       "      <td>project</td>\n",
       "      <td>visual</td>\n",
       "      <td>build</td>\n",
       "      <td>error</td>\n",
       "      <td>instal</td>\n",
       "      <td>version</td>\n",
       "      <td>packag</td>\n",
       "      <td>run</td>\n",
       "      <td>microsoft</td>\n",
       "    </tr>\n",
       "    <tr>\n",
       "      <th>Topic 15</th>\n",
       "      <td>string</td>\n",
       "      <td>key</td>\n",
       "      <td>str</td>\n",
       "      <td>convert</td>\n",
       "      <td>map</td>\n",
       "      <td>new</td>\n",
       "      <td>var</td>\n",
       "      <td>swift</td>\n",
       "      <td>format</td>\n",
       "      <td>charact</td>\n",
       "    </tr>\n",
       "    <tr>\n",
       "      <th>Topic 16</th>\n",
       "      <td>net</td>\n",
       "      <td>core</td>\n",
       "      <td>asp</td>\n",
       "      <td>web</td>\n",
       "      <td>system</td>\n",
       "      <td>project</td>\n",
       "      <td>framework</td>\n",
       "      <td>mvc</td>\n",
       "      <td>applic</td>\n",
       "      <td>microsoft</td>\n",
       "    </tr>\n",
       "    <tr>\n",
       "      <th>Topic 17</th>\n",
       "      <td>file</td>\n",
       "      <td>py</td>\n",
       "      <td>python</td>\n",
       "      <td>path</td>\n",
       "      <td>line</td>\n",
       "      <td>upload</td>\n",
       "      <td>open</td>\n",
       "      <td>folder</td>\n",
       "      <td>directori</td>\n",
       "      <td>read</td>\n",
       "    </tr>\n",
       "    <tr>\n",
       "      <th>Topic 18</th>\n",
       "      <td>std</td>\n",
       "      <td>const</td>\n",
       "      <td>vector</td>\n",
       "      <td>cout</td>\n",
       "      <td>include</td>\n",
       "      <td>template</td>\n",
       "      <td>typename</td>\n",
       "      <td>ptr</td>\n",
       "      <td>endl</td>\n",
       "      <td>move</td>\n",
       "    </tr>\n",
       "    <tr>\n",
       "      <th>Topic 19</th>\n",
       "      <td>docker</td>\n",
       "      <td>contain</td>\n",
       "      <td>run</td>\n",
       "      <td>imag</td>\n",
       "      <td>compos</td>\n",
       "      <td>dockerfil</td>\n",
       "      <td>host</td>\n",
       "      <td>build</td>\n",
       "      <td>command</td>\n",
       "      <td>port</td>\n",
       "    </tr>\n",
       "    <tr>\n",
       "      <th>Topic 20</th>\n",
       "      <td>test</td>\n",
       "      <td>unit</td>\n",
       "      <td>mock</td>\n",
       "      <td>run</td>\n",
       "      <td>junit</td>\n",
       "      <td>assert</td>\n",
       "      <td>jest</td>\n",
       "      <td>expect</td>\n",
       "      <td>fail</td>\n",
       "      <td>setup</td>\n",
       "    </tr>\n",
       "    <tr>\n",
       "      <th>Topic 21</th>\n",
       "      <td>list</td>\n",
       "      <td>item</td>\n",
       "      <td>map</td>\n",
       "      <td>stream</td>\n",
       "      <td>new</td>\n",
       "      <td>arraylist</td>\n",
       "      <td>element</td>\n",
       "      <td>add</td>\n",
       "      <td>collect</td>\n",
       "      <td>li</td>\n",
       "    </tr>\n",
       "    <tr>\n",
       "      <th>Topic 22</th>\n",
       "      <td>array</td>\n",
       "      <td>element</td>\n",
       "      <td>np</td>\n",
       "      <td>numpi</td>\n",
       "      <td>valu</td>\n",
       "      <td>index</td>\n",
       "      <td>object</td>\n",
       "      <td>arr</td>\n",
       "      <td>length</td>\n",
       "      <td>var</td>\n",
       "    </tr>\n",
       "    <tr>\n",
       "      <th>Topic 23</th>\n",
       "      <td>app</td>\n",
       "      <td>xcode</td>\n",
       "      <td>io</td>\n",
       "      <td>devic</td>\n",
       "      <td>notif</td>\n",
       "      <td>swift</td>\n",
       "      <td>run</td>\n",
       "      <td>develop</td>\n",
       "      <td>beta</td>\n",
       "      <td>appl</td>\n",
       "    </tr>\n",
       "    <tr>\n",
       "      <th>Topic 24</th>\n",
       "      <td>function</td>\n",
       "      <td>var</td>\n",
       "      <td>return</td>\n",
       "      <td>log</td>\n",
       "      <td>this</td>\n",
       "      <td>console</td>\n",
       "      <td>call</td>\n",
       "      <td>async</td>\n",
       "      <td>if</td>\n",
       "      <td>error</td>\n",
       "    </tr>\n",
       "    <tr>\n",
       "      <th>Topic 25</th>\n",
       "      <td>user</td>\n",
       "      <td>request</td>\n",
       "      <td>api</td>\n",
       "      <td>http</td>\n",
       "      <td>token</td>\n",
       "      <td>url</td>\n",
       "      <td>login</td>\n",
       "      <td>client</td>\n",
       "      <td>server</td>\n",
       "      <td>access</td>\n",
       "    </tr>\n",
       "    <tr>\n",
       "      <th>Topic 26</th>\n",
       "      <td>type</td>\n",
       "      <td>input</td>\n",
       "      <td>value</td>\n",
       "      <td>form</td>\n",
       "      <td>typename</td>\n",
       "      <td>error</td>\n",
       "      <td>template</td>\n",
       "      <td>enum</td>\n",
       "      <td>class</td>\n",
       "      <td>name</td>\n",
       "    </tr>\n",
       "    <tr>\n",
       "      <th>Topic 27</th>\n",
       "      <td>model</td>\n",
       "      <td>tf</td>\n",
       "      <td>train</td>\n",
       "      <td>tensorflow</td>\n",
       "      <td>input</td>\n",
       "      <td>kera</td>\n",
       "      <td>shape</td>\n",
       "      <td>add</td>\n",
       "      <td>layer</td>\n",
       "      <td>predict</td>\n",
       "    </tr>\n",
       "    <tr>\n",
       "      <th>Topic 28</th>\n",
       "      <td>firebas</td>\n",
       "      <td>cloud</td>\n",
       "      <td>firebase</td>\n",
       "      <td>googl</td>\n",
       "      <td>notif</td>\n",
       "      <td>analyt</td>\n",
       "      <td>databas</td>\n",
       "      <td>auth</td>\n",
       "      <td>messag</td>\n",
       "      <td>user</td>\n",
       "    </tr>\n",
       "    <tr>\n",
       "      <th>Topic 29</th>\n",
       "      <td>git</td>\n",
       "      <td>branch</td>\n",
       "      <td>commit</td>\n",
       "      <td>push</td>\n",
       "      <td>repo</td>\n",
       "      <td>repositori</td>\n",
       "      <td>master</td>\n",
       "      <td>github</td>\n",
       "      <td>pull</td>\n",
       "      <td>checkout</td>\n",
       "    </tr>\n",
       "  </tbody>\n",
       "</table>\n",
       "</div>"
      ],
      "text/plain": [
       "            Word 0   Word 1     Word 2      Word 3          Word 4  \\\n",
       "Topic 0        use    would       like         way            code   \n",
       "Topic 1    android   layout        com     support         compile   \n",
       "Topic 2        int    const     compil        void          return   \n",
       "Topic 3        div    class         li        form              px   \n",
       "Topic 4       java       at        org        lang  activitythread   \n",
       "Topic 5         js     node    webpack      script             npm   \n",
       "Topic 6         px    width     height        text           color   \n",
       "Topic 7      class   public       void     private          method   \n",
       "Topic 8    angular       ng        cli      compon              ts   \n",
       "Topic 9      react    nativ     render      native          compon   \n",
       "Topic 10      self      let        def          in            func   \n",
       "Topic 11       foo      bar        baz      struct            void   \n",
       "Topic 12    import     from  component        this          compon   \n",
       "Topic 13      data       id       name      column              df   \n",
       "Topic 14    studio  project     visual       build           error   \n",
       "Topic 15    string      key        str     convert             map   \n",
       "Topic 16       net     core        asp         web          system   \n",
       "Topic 17      file       py     python        path            line   \n",
       "Topic 18       std    const     vector        cout         include   \n",
       "Topic 19    docker  contain        run        imag          compos   \n",
       "Topic 20      test     unit       mock         run           junit   \n",
       "Topic 21      list     item        map      stream             new   \n",
       "Topic 22     array  element         np       numpi            valu   \n",
       "Topic 23       app    xcode         io       devic           notif   \n",
       "Topic 24  function      var     return         log            this   \n",
       "Topic 25      user  request        api        http           token   \n",
       "Topic 26      type    input      value        form        typename   \n",
       "Topic 27     model       tf      train  tensorflow           input   \n",
       "Topic 28   firebas    cloud   firebase       googl           notif   \n",
       "Topic 29       git   branch     commit        push            repo   \n",
       "\n",
       "              Word 5     Word 6      Word 7     Word 8     Word 9  \n",
       "Topic 0          one       time        work        set       want  \n",
       "Topic 1         view      gradl      google     parent         id  \n",
       "Topic 2         char       main      struct       size        gcc  \n",
       "Topic 3         span      click         col       item      input  \n",
       "Topic 4          com   internal      apache       util        jar  \n",
       "Topic 5       module    modules         src     loader         at  \n",
       "Topic 6        style       size  background       imag       font  \n",
       "Topic 7          new     static        this     object   override  \n",
       "Topic 8         http  bootstrap     browser       core        use  \n",
       "Topic 9        props      redux       state        use       prop  \n",
       "Topic 10       print     python       swift       view        nil  \n",
       "Topic 11       const      class    template     member     compil  \n",
       "Topic 12      router     export       modul      const      state  \n",
       "Topic 13         row       tabl    datafram      table     select  \n",
       "Topic 14      instal    version      packag        run  microsoft  \n",
       "Topic 15         new        var       swift     format    charact  \n",
       "Topic 16     project  framework         mvc     applic  microsoft  \n",
       "Topic 17      upload       open      folder  directori       read  \n",
       "Topic 18    template   typename         ptr       endl       move  \n",
       "Topic 19   dockerfil       host       build    command       port  \n",
       "Topic 20      assert       jest      expect       fail      setup  \n",
       "Topic 21   arraylist    element         add    collect         li  \n",
       "Topic 22       index     object         arr     length        var  \n",
       "Topic 23       swift        run     develop       beta       appl  \n",
       "Topic 24     console       call       async         if      error  \n",
       "Topic 25         url      login      client     server     access  \n",
       "Topic 26       error   template        enum      class       name  \n",
       "Topic 27        kera      shape         add      layer    predict  \n",
       "Topic 28      analyt    databas        auth     messag       user  \n",
       "Topic 29  repositori     master      github       pull   checkout  "
      ]
     },
     "execution_count": 65,
     "metadata": {},
     "output_type": "execute_result"
    }
   ],
   "source": [
    "topic_keywords = show_topics(tfidf_feature_names, nmf_model, n_words=10)        \n",
    "\n",
    "# Topic - Keywords Dataframe\n",
    "df_topic_keywords = pd.DataFrame(topic_keywords)\n",
    "df_topic_keywords.columns = ['Word '+str(i) for i in range(df_topic_keywords.shape[1])]\n",
    "df_topic_keywords.index = ['Topic '+str(i) for i in range(df_topic_keywords.shape[0])]\n",
    "df_topic_keywords"
   ]
  },
  {
   "cell_type": "markdown",
   "metadata": {},
   "source": [
    "### Topics / Docs"
   ]
  },
  {
   "cell_type": "code",
   "execution_count": 66,
   "metadata": {},
   "outputs": [],
   "source": [
    "topicnames = [\"Topic\" + str(i) for i in range(nmf_model.n_components)]\n",
    "\n",
    "# id des posts\n",
    "docnames = [\"Doc\" + str(i) for i in range(len(x_train))]\n",
    "\n",
    "# On crée un dataframe\n",
    "df_document_topic = pd.DataFrame(np.round(nmf_output, 4), columns=topicnames, index=docnames)\n",
    "\n",
    "# On rajoute une colonne contenant le numéro du topic prédominant\n",
    "dominant_topic = np.argmax(df_document_topic.values, axis=1)\n",
    "df_document_topic['dominant_topic'] = dominant_topic"
   ]
  },
  {
   "cell_type": "code",
   "execution_count": 67,
   "metadata": {},
   "outputs": [
    {
     "data": {
      "text/html": [
       "<div>\n",
       "<style>\n",
       "    .dataframe thead tr:only-child th {\n",
       "        text-align: right;\n",
       "    }\n",
       "\n",
       "    .dataframe thead th {\n",
       "        text-align: left;\n",
       "    }\n",
       "\n",
       "    .dataframe tbody tr th {\n",
       "        vertical-align: top;\n",
       "    }\n",
       "</style>\n",
       "<table border=\"1\" class=\"dataframe\">\n",
       "  <thead>\n",
       "    <tr style=\"text-align: right;\">\n",
       "      <th></th>\n",
       "      <th>Topic0</th>\n",
       "      <th>Topic1</th>\n",
       "      <th>Topic2</th>\n",
       "      <th>Topic3</th>\n",
       "      <th>Topic4</th>\n",
       "      <th>Topic5</th>\n",
       "      <th>Topic6</th>\n",
       "      <th>Topic7</th>\n",
       "      <th>Topic8</th>\n",
       "      <th>Topic9</th>\n",
       "      <th>...</th>\n",
       "      <th>Topic21</th>\n",
       "      <th>Topic22</th>\n",
       "      <th>Topic23</th>\n",
       "      <th>Topic24</th>\n",
       "      <th>Topic25</th>\n",
       "      <th>Topic26</th>\n",
       "      <th>Topic27</th>\n",
       "      <th>Topic28</th>\n",
       "      <th>Topic29</th>\n",
       "      <th>dominant_topic</th>\n",
       "    </tr>\n",
       "  </thead>\n",
       "  <tbody>\n",
       "    <tr>\n",
       "      <th>Doc0</th>\n",
       "      <td>0.0175</td>\n",
       "      <td>0.0000</td>\n",
       "      <td>0.0109</td>\n",
       "      <td>0.0000</td>\n",
       "      <td>0.0</td>\n",
       "      <td>0.0</td>\n",
       "      <td>0.0000</td>\n",
       "      <td>0.0545</td>\n",
       "      <td>0.0000</td>\n",
       "      <td>0.0000</td>\n",
       "      <td>...</td>\n",
       "      <td>0.0032</td>\n",
       "      <td>0.0000</td>\n",
       "      <td>0.0000</td>\n",
       "      <td>0.0067</td>\n",
       "      <td>0.0137</td>\n",
       "      <td>0.0</td>\n",
       "      <td>0.0</td>\n",
       "      <td>0.0000</td>\n",
       "      <td>0.0</td>\n",
       "      <td>7</td>\n",
       "    </tr>\n",
       "    <tr>\n",
       "      <th>Doc1</th>\n",
       "      <td>0.0235</td>\n",
       "      <td>0.0082</td>\n",
       "      <td>0.0000</td>\n",
       "      <td>0.0000</td>\n",
       "      <td>0.0</td>\n",
       "      <td>0.0</td>\n",
       "      <td>0.0244</td>\n",
       "      <td>0.0000</td>\n",
       "      <td>0.0000</td>\n",
       "      <td>0.0018</td>\n",
       "      <td>...</td>\n",
       "      <td>0.0000</td>\n",
       "      <td>0.0000</td>\n",
       "      <td>0.0013</td>\n",
       "      <td>0.0000</td>\n",
       "      <td>0.0000</td>\n",
       "      <td>0.0</td>\n",
       "      <td>0.0</td>\n",
       "      <td>0.0000</td>\n",
       "      <td>0.0</td>\n",
       "      <td>6</td>\n",
       "    </tr>\n",
       "    <tr>\n",
       "      <th>Doc2</th>\n",
       "      <td>0.0053</td>\n",
       "      <td>0.0000</td>\n",
       "      <td>0.0000</td>\n",
       "      <td>0.0128</td>\n",
       "      <td>0.0</td>\n",
       "      <td>0.0</td>\n",
       "      <td>0.1083</td>\n",
       "      <td>0.0000</td>\n",
       "      <td>0.0192</td>\n",
       "      <td>0.0000</td>\n",
       "      <td>...</td>\n",
       "      <td>0.0030</td>\n",
       "      <td>0.0009</td>\n",
       "      <td>0.0000</td>\n",
       "      <td>0.0000</td>\n",
       "      <td>0.0000</td>\n",
       "      <td>0.0</td>\n",
       "      <td>0.0</td>\n",
       "      <td>0.0000</td>\n",
       "      <td>0.0</td>\n",
       "      <td>6</td>\n",
       "    </tr>\n",
       "    <tr>\n",
       "      <th>Doc3</th>\n",
       "      <td>0.0129</td>\n",
       "      <td>0.0000</td>\n",
       "      <td>0.0338</td>\n",
       "      <td>0.0000</td>\n",
       "      <td>0.0</td>\n",
       "      <td>0.0</td>\n",
       "      <td>0.0000</td>\n",
       "      <td>0.0000</td>\n",
       "      <td>0.0000</td>\n",
       "      <td>0.0000</td>\n",
       "      <td>...</td>\n",
       "      <td>0.0000</td>\n",
       "      <td>0.0000</td>\n",
       "      <td>0.0000</td>\n",
       "      <td>0.0000</td>\n",
       "      <td>0.0000</td>\n",
       "      <td>0.0</td>\n",
       "      <td>0.0</td>\n",
       "      <td>0.0000</td>\n",
       "      <td>0.0</td>\n",
       "      <td>2</td>\n",
       "    </tr>\n",
       "    <tr>\n",
       "      <th>Doc4</th>\n",
       "      <td>0.0063</td>\n",
       "      <td>0.0000</td>\n",
       "      <td>0.0000</td>\n",
       "      <td>0.0000</td>\n",
       "      <td>0.0</td>\n",
       "      <td>0.0</td>\n",
       "      <td>0.0000</td>\n",
       "      <td>0.0000</td>\n",
       "      <td>0.0000</td>\n",
       "      <td>0.0000</td>\n",
       "      <td>...</td>\n",
       "      <td>0.0000</td>\n",
       "      <td>0.0000</td>\n",
       "      <td>0.0534</td>\n",
       "      <td>0.0000</td>\n",
       "      <td>0.0220</td>\n",
       "      <td>0.0</td>\n",
       "      <td>0.0</td>\n",
       "      <td>0.1418</td>\n",
       "      <td>0.0</td>\n",
       "      <td>28</td>\n",
       "    </tr>\n",
       "  </tbody>\n",
       "</table>\n",
       "<p>5 rows × 31 columns</p>\n",
       "</div>"
      ],
      "text/plain": [
       "      Topic0  Topic1  Topic2  Topic3  Topic4  Topic5  Topic6  Topic7  Topic8  \\\n",
       "Doc0  0.0175  0.0000  0.0109  0.0000     0.0     0.0  0.0000  0.0545  0.0000   \n",
       "Doc1  0.0235  0.0082  0.0000  0.0000     0.0     0.0  0.0244  0.0000  0.0000   \n",
       "Doc2  0.0053  0.0000  0.0000  0.0128     0.0     0.0  0.1083  0.0000  0.0192   \n",
       "Doc3  0.0129  0.0000  0.0338  0.0000     0.0     0.0  0.0000  0.0000  0.0000   \n",
       "Doc4  0.0063  0.0000  0.0000  0.0000     0.0     0.0  0.0000  0.0000  0.0000   \n",
       "\n",
       "      Topic9       ...        Topic21  Topic22  Topic23  Topic24  Topic25  \\\n",
       "Doc0  0.0000       ...         0.0032   0.0000   0.0000   0.0067   0.0137   \n",
       "Doc1  0.0018       ...         0.0000   0.0000   0.0013   0.0000   0.0000   \n",
       "Doc2  0.0000       ...         0.0030   0.0009   0.0000   0.0000   0.0000   \n",
       "Doc3  0.0000       ...         0.0000   0.0000   0.0000   0.0000   0.0000   \n",
       "Doc4  0.0000       ...         0.0000   0.0000   0.0534   0.0000   0.0220   \n",
       "\n",
       "      Topic26  Topic27  Topic28  Topic29  dominant_topic  \n",
       "Doc0      0.0      0.0   0.0000      0.0               7  \n",
       "Doc1      0.0      0.0   0.0000      0.0               6  \n",
       "Doc2      0.0      0.0   0.0000      0.0               6  \n",
       "Doc3      0.0      0.0   0.0000      0.0               2  \n",
       "Doc4      0.0      0.0   0.1418      0.0              28  \n",
       "\n",
       "[5 rows x 31 columns]"
      ]
     },
     "execution_count": 67,
     "metadata": {},
     "output_type": "execute_result"
    }
   ],
   "source": [
    "df_document_topic.head()"
   ]
  },
  {
   "cell_type": "markdown",
   "metadata": {},
   "source": [
    "## 4.4 Matrice Tags / Topics"
   ]
  },
  {
   "cell_type": "code",
   "execution_count": 68,
   "metadata": {
    "collapsed": true
   },
   "outputs": [],
   "source": [
    "tags_by_topics_nmf = buildTagByTopicsMatrix(nmf_model,nmf_output, frequent_tags, documents_by_tags )"
   ]
  },
  {
   "cell_type": "code",
   "execution_count": 69,
   "metadata": {},
   "outputs": [
    {
     "data": {
      "text/plain": [
       "(30, 2114)"
      ]
     },
     "execution_count": 69,
     "metadata": {},
     "output_type": "execute_result"
    }
   ],
   "source": [
    "tags_by_topics_nmf.shape"
   ]
  },
  {
   "cell_type": "markdown",
   "metadata": {
    "collapsed": true
   },
   "source": [
    "## 4.5 Prédiction"
   ]
  },
  {
   "cell_type": "markdown",
   "metadata": {},
   "source": [
    "### Prédiction des topics pour notre jeu de tests"
   ]
  },
  {
   "cell_type": "code",
   "execution_count": 70,
   "metadata": {
    "collapsed": true
   },
   "outputs": [],
   "source": [
    "y_predicted_nmf = getPostsTagsPrediction(x_test, 5, tags_by_topics_nmf, frequent_tags, tfidf_vectorizer, nmf_model)"
   ]
  },
  {
   "cell_type": "code",
   "execution_count": 71,
   "metadata": {},
   "outputs": [
    {
     "data": {
      "text/html": [
       "<div>\n",
       "<style>\n",
       "    .dataframe thead tr:only-child th {\n",
       "        text-align: right;\n",
       "    }\n",
       "\n",
       "    .dataframe thead th {\n",
       "        text-align: left;\n",
       "    }\n",
       "\n",
       "    .dataframe tbody tr th {\n",
       "        vertical-align: top;\n",
       "    }\n",
       "</style>\n",
       "<table border=\"1\" class=\"dataframe\">\n",
       "  <thead>\n",
       "    <tr style=\"text-align: right;\">\n",
       "      <th></th>\n",
       "      <th>TAGS_P</th>\n",
       "    </tr>\n",
       "  </thead>\n",
       "  <tbody>\n",
       "    <tr>\n",
       "      <th>7647</th>\n",
       "      <td>[javascript, python, android, java, c#]</td>\n",
       "    </tr>\n",
       "    <tr>\n",
       "      <th>45706</th>\n",
       "      <td>[java, android, java-8, spring, android-studio]</td>\n",
       "    </tr>\n",
       "    <tr>\n",
       "      <th>33042</th>\n",
       "      <td>[css, html, javascript, android, ios]</td>\n",
       "    </tr>\n",
       "    <tr>\n",
       "      <th>3510</th>\n",
       "      <td>[css, html, javascript, android, ios]</td>\n",
       "    </tr>\n",
       "    <tr>\n",
       "      <th>45801</th>\n",
       "      <td>[css, html, javascript, android, ios]</td>\n",
       "    </tr>\n",
       "  </tbody>\n",
       "</table>\n",
       "</div>"
      ],
      "text/plain": [
       "                                                TAGS_P\n",
       "7647           [javascript, python, android, java, c#]\n",
       "45706  [java, android, java-8, spring, android-studio]\n",
       "33042            [css, html, javascript, android, ios]\n",
       "3510             [css, html, javascript, android, ios]\n",
       "45801            [css, html, javascript, android, ios]"
      ]
     },
     "execution_count": 71,
     "metadata": {},
     "output_type": "execute_result"
    }
   ],
   "source": [
    "y_predicted_nmf.head()"
   ]
  },
  {
   "cell_type": "code",
   "execution_count": 72,
   "metadata": {},
   "outputs": [
    {
     "name": "stdout",
     "output_type": "stream",
     "text": [
      "Accuracy of prediction : 0.274721412011\n"
     ]
    }
   ],
   "source": [
    "predictionAccuracy(y_predicted_lda, y_test)"
   ]
  },
  {
   "cell_type": "markdown",
   "metadata": {},
   "source": [
    "### Evaluation de la prédiction du nouveau sample"
   ]
  },
  {
   "cell_type": "code",
   "execution_count": 73,
   "metadata": {},
   "outputs": [
    {
     "name": "stdout",
     "output_type": "stream",
     "text": [
      "Accuracy of prediction : 0.27112\n"
     ]
    }
   ],
   "source": [
    "y_predicted_test2 = getPostsTagsPrediction(x_test2, 5,tags_by_topics_nmf,frequent_tags, tfidf_vectorizer,  nmf_model )\n",
    "result = predictionAccuracy(y_predicted_test2, y_test2)"
   ]
  }
 ],
 "metadata": {
  "kernelspec": {
   "display_name": "Python 3",
   "language": "python",
   "name": "python3"
  },
  "language_info": {
   "codemirror_mode": {
    "name": "ipython",
    "version": 3
   },
   "file_extension": ".py",
   "mimetype": "text/x-python",
   "name": "python",
   "nbconvert_exporter": "python",
   "pygments_lexer": "ipython3",
   "version": "3.6.2"
  }
 },
 "nbformat": 4,
 "nbformat_minor": 2
}
