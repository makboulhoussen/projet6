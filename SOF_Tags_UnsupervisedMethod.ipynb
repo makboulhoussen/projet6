{
 "cells": [
  {
   "cell_type": "markdown",
   "metadata": {},
   "source": [
    "# Projet 6 : Catégorisez automatiquement des questions\n",
    "# <u>B. Topic Modeling</u> <br/>"
   ]
  },
  {
   "cell_type": "markdown",
   "metadata": {},
   "source": [
    "# Le contexte\n",
    "\n",
    "Afin d'aider les utilisateurs de Stack Overflow dans leur soumission de question, nous devons mettre en place un système de suggestion de tags. Pour celà nous allons nous baser sur les techniques de machine learning capable en fonction du texte saisi par l'utilisateur de déterminer des tags pertinents.\n",
    "\n",
    "Dans ce notebook nous allons essayer des approches non supervisées."
   ]
  },
  {
   "cell_type": "code",
   "execution_count": 1,
   "metadata": {
    "collapsed": true
   },
   "outputs": [],
   "source": [
    "import numpy as np\n",
    "import pandas as pd\n",
    "import matplotlib.pyplot as plt\n",
    "\n",
    "from collections import Counter\n",
    "\n",
    "from bs4 import BeautifulSoup\n",
    "import unicodedata\n",
    "import re\n",
    "import string\n",
    "from nltk.corpus import stopwords\n",
    "from nltk.stem.porter import PorterStemmer\n",
    "from nltk.tokenize.toktok import ToktokTokenizer\n",
    "from contractions import CONTRACTION_MAP\n",
    "\n",
    "\n",
    "from sklearn import model_selection\n",
    "from sklearn.model_selection import GridSearchCV\n",
    "from sklearn.feature_extraction.text import TfidfVectorizer, CountVectorizer\n",
    "from sklearn.decomposition import NMF, LatentDirichletAllocation\n",
    "\n",
    "%matplotlib inline"
   ]
  },
  {
   "cell_type": "markdown",
   "metadata": {},
   "source": [
    "# 1. Chargement des données pré-traitées"
   ]
  },
  {
   "cell_type": "markdown",
   "metadata": {},
   "source": [
    "Nous allons charger les données qui ont été préalablement nettoyées et traitées."
   ]
  },
  {
   "cell_type": "code",
   "execution_count": 2,
   "metadata": {
    "collapsed": true
   },
   "outputs": [],
   "source": [
    "df = pd.read_csv('cleaned_data.csv')\n",
    "#replace NaN by empty string\n",
    "df = df.replace(np.nan, '', regex=True)"
   ]
  },
  {
   "cell_type": "code",
   "execution_count": 3,
   "metadata": {},
   "outputs": [
    {
     "data": {
      "text/plain": [
       "(64432, 7)"
      ]
     },
     "execution_count": 3,
     "metadata": {},
     "output_type": "execute_result"
    }
   ],
   "source": [
    "df.shape"
   ]
  },
  {
   "cell_type": "code",
   "execution_count": 4,
   "metadata": {},
   "outputs": [
    {
     "data": {
      "text/html": [
       "<div>\n",
       "<style>\n",
       "    .dataframe thead tr:only-child th {\n",
       "        text-align: right;\n",
       "    }\n",
       "\n",
       "    .dataframe thead th {\n",
       "        text-align: left;\n",
       "    }\n",
       "\n",
       "    .dataframe tbody tr th {\n",
       "        vertical-align: top;\n",
       "    }\n",
       "</style>\n",
       "<table border=\"1\" class=\"dataframe\">\n",
       "  <thead>\n",
       "    <tr style=\"text-align: right;\">\n",
       "      <th></th>\n",
       "      <th>TITLE</th>\n",
       "      <th>BODY</th>\n",
       "      <th>SCORE</th>\n",
       "      <th>TAGS</th>\n",
       "      <th>TITLE_P</th>\n",
       "      <th>BODY_P</th>\n",
       "      <th>TAGS_P</th>\n",
       "    </tr>\n",
       "  </thead>\n",
       "  <tbody>\n",
       "    <tr>\n",
       "      <th>0</th>\n",
       "      <td>Java generics variable &lt;T&gt; value</td>\n",
       "      <td>&lt;p&gt;At the moment I am using the following code...</td>\n",
       "      <td>6</td>\n",
       "      <td>&lt;java&gt;&lt;generics&gt;</td>\n",
       "      <td>java gener variabl valu</td>\n",
       "      <td>moment use follow code filter jpa reduc block ...</td>\n",
       "      <td>['java', 'generics']</td>\n",
       "    </tr>\n",
       "    <tr>\n",
       "      <th>1</th>\n",
       "      <td>How a value typed variable is copied when it i...</td>\n",
       "      <td>&lt;blockquote&gt;\\n  &lt;p&gt;Swift's string type is a va...</td>\n",
       "      <td>6</td>\n",
       "      <td>&lt;swift&gt;&lt;function&gt;&lt;value-type&gt;</td>\n",
       "      <td>valu type variabl copi pass function hold copi</td>\n",
       "      <td>swift string type valu type creat new string v...</td>\n",
       "      <td>['swift', 'function', 'value-type']</td>\n",
       "    </tr>\n",
       "    <tr>\n",
       "      <th>2</th>\n",
       "      <td>Error while waiting for device: The emulator p...</td>\n",
       "      <td>&lt;p&gt;I am a freshman for the development of the ...</td>\n",
       "      <td>6</td>\n",
       "      <td>&lt;android&gt;&lt;android-studio&gt;&lt;android-emulator&gt;&lt;avd&gt;</td>\n",
       "      <td>error wait devic emul process avd kill</td>\n",
       "      <td>freshman develop andriod suffer odd question r...</td>\n",
       "      <td>['android', 'android-studio', 'android-emulato...</td>\n",
       "    </tr>\n",
       "    <tr>\n",
       "      <th>3</th>\n",
       "      <td>gulp-inject not working with gulp-watch</td>\n",
       "      <td>&lt;p&gt;I am using gulp-inject to auto add SASS imp...</td>\n",
       "      <td>10</td>\n",
       "      <td>&lt;javascript&gt;&lt;node.js&gt;&lt;npm&gt;&lt;gulp&gt;&lt;gulp-watch&gt;</td>\n",
       "      <td>gulp inject work gulp watch</td>\n",
       "      <td>use gulp inject auto add sass import newli cre...</td>\n",
       "      <td>['javascript', 'node.js', 'npm', 'gulp', 'gulp...</td>\n",
       "    </tr>\n",
       "    <tr>\n",
       "      <th>4</th>\n",
       "      <td>React - Call function on props change</td>\n",
       "      <td>&lt;p&gt;My TranslationDetail component is passed an...</td>\n",
       "      <td>12</td>\n",
       "      <td>&lt;reactjs&gt;&lt;react-router&gt;</td>\n",
       "      <td>react call function prop chang</td>\n",
       "      <td>translationdetail compon pass id upon open bas...</td>\n",
       "      <td>['reactjs', 'react-router']</td>\n",
       "    </tr>\n",
       "  </tbody>\n",
       "</table>\n",
       "</div>"
      ],
      "text/plain": [
       "                                               TITLE  \\\n",
       "0                   Java generics variable <T> value   \n",
       "1  How a value typed variable is copied when it i...   \n",
       "2  Error while waiting for device: The emulator p...   \n",
       "3            gulp-inject not working with gulp-watch   \n",
       "4              React - Call function on props change   \n",
       "\n",
       "                                                BODY  SCORE  \\\n",
       "0  <p>At the moment I am using the following code...      6   \n",
       "1  <blockquote>\\n  <p>Swift's string type is a va...      6   \n",
       "2  <p>I am a freshman for the development of the ...      6   \n",
       "3  <p>I am using gulp-inject to auto add SASS imp...     10   \n",
       "4  <p>My TranslationDetail component is passed an...     12   \n",
       "\n",
       "                                               TAGS  \\\n",
       "0                                  <java><generics>   \n",
       "1                     <swift><function><value-type>   \n",
       "2  <android><android-studio><android-emulator><avd>   \n",
       "3      <javascript><node.js><npm><gulp><gulp-watch>   \n",
       "4                           <reactjs><react-router>   \n",
       "\n",
       "                                          TITLE_P  \\\n",
       "0                         java gener variabl valu   \n",
       "1  valu type variabl copi pass function hold copi   \n",
       "2          error wait devic emul process avd kill   \n",
       "3                     gulp inject work gulp watch   \n",
       "4                  react call function prop chang   \n",
       "\n",
       "                                              BODY_P  \\\n",
       "0  moment use follow code filter jpa reduc block ...   \n",
       "1  swift string type valu type creat new string v...   \n",
       "2  freshman develop andriod suffer odd question r...   \n",
       "3  use gulp inject auto add sass import newli cre...   \n",
       "4  translationdetail compon pass id upon open bas...   \n",
       "\n",
       "                                              TAGS_P  \n",
       "0                               ['java', 'generics']  \n",
       "1                ['swift', 'function', 'value-type']  \n",
       "2  ['android', 'android-studio', 'android-emulato...  \n",
       "3  ['javascript', 'node.js', 'npm', 'gulp', 'gulp...  \n",
       "4                        ['reactjs', 'react-router']  "
      ]
     },
     "execution_count": 4,
     "metadata": {},
     "output_type": "execute_result"
    }
   ],
   "source": [
    "df.head()"
   ]
  },
  {
   "cell_type": "code",
   "execution_count": 5,
   "metadata": {},
   "outputs": [
    {
     "data": {
      "text/plain": [
       "TITLE      object\n",
       "BODY       object\n",
       "SCORE       int64\n",
       "TAGS       object\n",
       "TITLE_P    object\n",
       "BODY_P     object\n",
       "TAGS_P     object\n",
       "dtype: object"
      ]
     },
     "execution_count": 5,
     "metadata": {},
     "output_type": "execute_result"
    }
   ],
   "source": [
    "df.dtypes"
   ]
  },
  {
   "cell_type": "markdown",
   "metadata": {},
   "source": [
    "La colonne TAGS_P est interprétée comme un chaîne de caractères. On va la forcer à être vue comme une list, ce qui sera plus simple pour les traitements."
   ]
  },
  {
   "cell_type": "code",
   "execution_count": 6,
   "metadata": {
    "collapsed": true
   },
   "outputs": [],
   "source": [
    "from ast import literal_eval\n",
    "df['TAGS_P'] = df['TAGS_P'].apply(literal_eval)"
   ]
  },
  {
   "cell_type": "markdown",
   "metadata": {},
   "source": [
    "# 2. Transformation des données"
   ]
  },
  {
   "cell_type": "markdown",
   "metadata": {},
   "source": [
    "## 2.1 Echantillonage"
   ]
  },
  {
   "cell_type": "markdown",
   "metadata": {},
   "source": [
    "Nous avons plus de 64 000 posts. Nous allons nous concentrer sur un échantillon de 15 000 posts."
   ]
  },
  {
   "cell_type": "code",
   "execution_count": 109,
   "metadata": {
    "collapsed": true
   },
   "outputs": [],
   "source": [
    "df_sample = df.sample(15000)"
   ]
  },
  {
   "cell_type": "code",
   "execution_count": 110,
   "metadata": {},
   "outputs": [
    {
     "data": {
      "text/plain": [
       "(15000, 7)"
      ]
     },
     "execution_count": 110,
     "metadata": {},
     "output_type": "execute_result"
    }
   ],
   "source": [
    "df_sample.shape"
   ]
  },
  {
   "cell_type": "markdown",
   "metadata": {},
   "source": [
    "** Analysons le nombre de mots que contient ce corpus.**"
   ]
  },
  {
   "cell_type": "code",
   "execution_count": 111,
   "metadata": {
    "collapsed": true
   },
   "outputs": [],
   "source": [
    "my_counter = Counter()\n",
    "for sentence in df_sample['TITLE_P']:\n",
    "    my_counter.update(sentence.split())\n",
    "for sentence in df_sample['BODY_P']:\n",
    "    my_counter.update(sentence.split())\n",
    "words_df = pd.DataFrame.from_dict(my_counter, orient='index')\n",
    "words_df.reset_index(drop = False, inplace = True)\n",
    "words_df= words_df.rename(columns={'index':'word', 0:'count'})"
   ]
  },
  {
   "cell_type": "code",
   "execution_count": 112,
   "metadata": {},
   "outputs": [
    {
     "data": {
      "text/plain": [
       "92134"
      ]
     },
     "execution_count": 112,
     "metadata": {},
     "output_type": "execute_result"
    }
   ],
   "source": [
    "words_df.shape[0]"
   ]
  },
  {
   "cell_type": "markdown",
   "metadata": {},
   "source": [
    "=> Notre corpus est composé environ de  **90 000 mots.**"
   ]
  },
  {
   "cell_type": "markdown",
   "metadata": {},
   "source": [
    "## 2.2 Filtre sur les tags les plus fréquents"
   ]
  },
  {
   "cell_type": "markdown",
   "metadata": {},
   "source": [
    "Regardons déjà dans un premier temps le nombre d'occurences par tag."
   ]
  },
  {
   "cell_type": "code",
   "execution_count": 113,
   "metadata": {
    "collapsed": true
   },
   "outputs": [],
   "source": [
    "counts = Counter()\n",
    "for tags_list in df['TAGS_P']:\n",
    "    counts.update(tags_list)\n",
    "tags_df = pd.DataFrame.from_dict(counts, orient='index')\n",
    "tags_df.reset_index(drop = False, inplace = True)\n",
    "tags_df= tags_df.rename(columns={'index':'tag', 0:'count'})"
   ]
  },
  {
   "cell_type": "markdown",
   "metadata": {},
   "source": [
    "La structures **tags_df** contient pour chacun des tags son occurence. <br/>\n",
    "Gardons que les tags qui sont présents dans au moins 10 documents."
   ]
  },
  {
   "cell_type": "code",
   "execution_count": 114,
   "metadata": {},
   "outputs": [
    {
     "data": {
      "text/plain": [
       "2114"
      ]
     },
     "execution_count": 114,
     "metadata": {},
     "output_type": "execute_result"
    }
   ],
   "source": [
    "len(tags_df[tags_df['count'] > 10])"
   ]
  },
  {
   "cell_type": "markdown",
   "metadata": {},
   "source": [
    "Nous nous retrouvons donc avec un peu plus de 2100 tags (14000 tags dans le dataset original)."
   ]
  },
  {
   "cell_type": "markdown",
   "metadata": {},
   "source": [
    "=> Filtrons maintenant notre sample en ne gardant que les posts contenant les tags les plus fréquents."
   ]
  },
  {
   "cell_type": "code",
   "execution_count": 115,
   "metadata": {
    "collapsed": true
   },
   "outputs": [],
   "source": [
    "frequent_tags = tags_df[tags_df['count'] > 10]['tag'].tolist()"
   ]
  },
  {
   "cell_type": "markdown",
   "metadata": {},
   "source": [
    "**frequent_tags** est la structure contenant les tags les plus présents."
   ]
  },
  {
   "cell_type": "code",
   "execution_count": 116,
   "metadata": {
    "collapsed": true
   },
   "outputs": [],
   "source": [
    "df_sample['TAGS_P'] = df_sample['TAGS_P'].apply(lambda x: [w for w in x if w in frequent_tags] )\n",
    "# On supprime les lignes qui n'ont plus de tags associés (car aucun n'est présent dans la liste frequent_tags)\n",
    "df_sample = df_sample[df_sample.astype(str)['TAGS_P'] != '[]']"
   ]
  },
  {
   "cell_type": "code",
   "execution_count": 117,
   "metadata": {},
   "outputs": [
    {
     "data": {
      "text/plain": [
       "(14867, 7)"
      ]
     },
     "execution_count": 117,
     "metadata": {},
     "output_type": "execute_result"
    }
   ],
   "source": [
    "df_sample.shape"
   ]
  },
  {
   "cell_type": "markdown",
   "metadata": {},
   "source": [
    "Notre dataset contient maintenant uniquement les posts avec tags fréquents."
   ]
  },
  {
   "cell_type": "markdown",
   "metadata": {},
   "source": [
    "## 2.3 Découpage en jeu entrainement et test"
   ]
  },
  {
   "cell_type": "markdown",
   "metadata": {},
   "source": [
    "Découpons nos données en jeu d'entrainement et jeu de test pour nos algorithmes d'apprentissage."
   ]
  },
  {
   "cell_type": "code",
   "execution_count": 118,
   "metadata": {
    "collapsed": true
   },
   "outputs": [],
   "source": [
    "X = df_sample[['TITLE', 'BODY','TITLE_P', 'BODY_P']]\n",
    "Y = df_sample[['TAGS_P']]"
   ]
  },
  {
   "cell_type": "markdown",
   "metadata": {},
   "source": [
    "70% des données pour entrainement et 30% pour les tests."
   ]
  },
  {
   "cell_type": "code",
   "execution_count": 119,
   "metadata": {
    "collapsed": true
   },
   "outputs": [],
   "source": [
    "x_train, x_test, y_train, y_test = model_selection.train_test_split(X,Y,test_size = 0.3,random_state = 0, shuffle = True)"
   ]
  },
  {
   "cell_type": "code",
   "execution_count": 120,
   "metadata": {},
   "outputs": [
    {
     "name": "stdout",
     "output_type": "stream",
     "text": [
      "train (10406, 4)\n",
      "test  (4461, 4)\n"
     ]
    }
   ],
   "source": [
    "print(\"train\", x_train.shape)\n",
    "print(\"test \",x_test.shape)"
   ]
  },
  {
   "cell_type": "markdown",
   "metadata": {},
   "source": [
    "On concatène le titre et le body qui ont été pré-traités pour notre apprentissage."
   ]
  },
  {
   "cell_type": "code",
   "execution_count": 121,
   "metadata": {
    "collapsed": true
   },
   "outputs": [],
   "source": [
    "x_train_text = x_train['TITLE_P'] + ' ' + x_train['BODY_P']"
   ]
  },
  {
   "cell_type": "markdown",
   "metadata": {},
   "source": [
    "## 2.4 Bag of words"
   ]
  },
  {
   "cell_type": "markdown",
   "metadata": {},
   "source": [
    "Pour pouvoir appliquer nos algorithmes de machine learning à nos données textuelles, il faut en extraire les features et représenter notre texte dans un modèle \"mathématique\".\n",
    "Pour celà nous allons utiliser la modélisation **Bag of Words** qui va donner une représentation sous forme de matrice de nos données."
   ]
  },
  {
   "cell_type": "markdown",
   "metadata": {},
   "source": [
    "- min_df = 5 : le mot doit être présent au moins dans 5 documents\n",
    "- max_df = 95% : si le mot est présent dans plus de 95% des documents, il ne nous aidera pas à trouver différencier les documents et on le supprime"
   ]
  },
  {
   "cell_type": "code",
   "execution_count": 122,
   "metadata": {},
   "outputs": [
    {
     "data": {
      "text/plain": [
       "(10406, 9034)"
      ]
     },
     "execution_count": 122,
     "metadata": {},
     "output_type": "execute_result"
    }
   ],
   "source": [
    "cv = CountVectorizer(min_df=5, max_df=0.95)\n",
    "data_vectorized = cv.fit_transform(x_train_text)\n",
    "cv_matrix = data_vectorized.toarray()\n",
    "cv_matrix.shape"
   ]
  },
  {
   "cell_type": "markdown",
   "metadata": {},
   "source": [
    "Voyons maintenant à quoi ressemble notre matrice."
   ]
  },
  {
   "cell_type": "code",
   "execution_count": 123,
   "metadata": {},
   "outputs": [
    {
     "data": {
      "text/html": [
       "<div>\n",
       "<style>\n",
       "    .dataframe thead tr:only-child th {\n",
       "        text-align: right;\n",
       "    }\n",
       "\n",
       "    .dataframe thead th {\n",
       "        text-align: left;\n",
       "    }\n",
       "\n",
       "    .dataframe tbody tr th {\n",
       "        vertical-align: top;\n",
       "    }\n",
       "</style>\n",
       "<table border=\"1\" class=\"dataframe\">\n",
       "  <thead>\n",
       "    <tr style=\"text-align: right;\">\n",
       "      <th></th>\n",
       "      <th>aa</th>\n",
       "      <th>aaa</th>\n",
       "      <th>aaaa</th>\n",
       "      <th>aac</th>\n",
       "      <th>aapl</th>\n",
       "      <th>aapt</th>\n",
       "      <th>aar</th>\n",
       "      <th>ab</th>\n",
       "      <th>aba</th>\n",
       "      <th>abandon</th>\n",
       "      <th>...</th>\n",
       "      <th>zsh</th>\n",
       "      <th>zu</th>\n",
       "      <th>zw</th>\n",
       "      <th>zygoteinit</th>\n",
       "      <th>zz</th>\n",
       "      <th>zza</th>\n",
       "      <th>zzb</th>\n",
       "      <th>zzc</th>\n",
       "      <th>zzd</th>\n",
       "      <th>µs</th>\n",
       "    </tr>\n",
       "  </thead>\n",
       "  <tbody>\n",
       "    <tr>\n",
       "      <th>0</th>\n",
       "      <td>0</td>\n",
       "      <td>0</td>\n",
       "      <td>0</td>\n",
       "      <td>0</td>\n",
       "      <td>0</td>\n",
       "      <td>0</td>\n",
       "      <td>0</td>\n",
       "      <td>0</td>\n",
       "      <td>0</td>\n",
       "      <td>0</td>\n",
       "      <td>...</td>\n",
       "      <td>0</td>\n",
       "      <td>0</td>\n",
       "      <td>0</td>\n",
       "      <td>0</td>\n",
       "      <td>0</td>\n",
       "      <td>0</td>\n",
       "      <td>0</td>\n",
       "      <td>0</td>\n",
       "      <td>0</td>\n",
       "      <td>0</td>\n",
       "    </tr>\n",
       "    <tr>\n",
       "      <th>1</th>\n",
       "      <td>0</td>\n",
       "      <td>0</td>\n",
       "      <td>0</td>\n",
       "      <td>0</td>\n",
       "      <td>0</td>\n",
       "      <td>0</td>\n",
       "      <td>0</td>\n",
       "      <td>0</td>\n",
       "      <td>0</td>\n",
       "      <td>0</td>\n",
       "      <td>...</td>\n",
       "      <td>0</td>\n",
       "      <td>0</td>\n",
       "      <td>0</td>\n",
       "      <td>0</td>\n",
       "      <td>0</td>\n",
       "      <td>0</td>\n",
       "      <td>0</td>\n",
       "      <td>0</td>\n",
       "      <td>0</td>\n",
       "      <td>0</td>\n",
       "    </tr>\n",
       "    <tr>\n",
       "      <th>2</th>\n",
       "      <td>0</td>\n",
       "      <td>0</td>\n",
       "      <td>0</td>\n",
       "      <td>0</td>\n",
       "      <td>0</td>\n",
       "      <td>0</td>\n",
       "      <td>0</td>\n",
       "      <td>0</td>\n",
       "      <td>0</td>\n",
       "      <td>0</td>\n",
       "      <td>...</td>\n",
       "      <td>0</td>\n",
       "      <td>0</td>\n",
       "      <td>0</td>\n",
       "      <td>0</td>\n",
       "      <td>0</td>\n",
       "      <td>0</td>\n",
       "      <td>0</td>\n",
       "      <td>0</td>\n",
       "      <td>0</td>\n",
       "      <td>0</td>\n",
       "    </tr>\n",
       "    <tr>\n",
       "      <th>3</th>\n",
       "      <td>0</td>\n",
       "      <td>0</td>\n",
       "      <td>0</td>\n",
       "      <td>0</td>\n",
       "      <td>0</td>\n",
       "      <td>0</td>\n",
       "      <td>0</td>\n",
       "      <td>0</td>\n",
       "      <td>0</td>\n",
       "      <td>0</td>\n",
       "      <td>...</td>\n",
       "      <td>0</td>\n",
       "      <td>0</td>\n",
       "      <td>0</td>\n",
       "      <td>0</td>\n",
       "      <td>0</td>\n",
       "      <td>0</td>\n",
       "      <td>0</td>\n",
       "      <td>0</td>\n",
       "      <td>0</td>\n",
       "      <td>0</td>\n",
       "    </tr>\n",
       "    <tr>\n",
       "      <th>4</th>\n",
       "      <td>0</td>\n",
       "      <td>0</td>\n",
       "      <td>0</td>\n",
       "      <td>0</td>\n",
       "      <td>0</td>\n",
       "      <td>0</td>\n",
       "      <td>0</td>\n",
       "      <td>0</td>\n",
       "      <td>0</td>\n",
       "      <td>0</td>\n",
       "      <td>...</td>\n",
       "      <td>0</td>\n",
       "      <td>0</td>\n",
       "      <td>0</td>\n",
       "      <td>0</td>\n",
       "      <td>0</td>\n",
       "      <td>0</td>\n",
       "      <td>0</td>\n",
       "      <td>0</td>\n",
       "      <td>0</td>\n",
       "      <td>0</td>\n",
       "    </tr>\n",
       "  </tbody>\n",
       "</table>\n",
       "<p>5 rows × 9034 columns</p>\n",
       "</div>"
      ],
      "text/plain": [
       "   aa  aaa  aaaa  aac  aapl  aapt  aar  ab  aba  abandon ...  zsh  zu  zw  \\\n",
       "0   0    0     0    0     0     0    0   0    0        0 ...    0   0   0   \n",
       "1   0    0     0    0     0     0    0   0    0        0 ...    0   0   0   \n",
       "2   0    0     0    0     0     0    0   0    0        0 ...    0   0   0   \n",
       "3   0    0     0    0     0     0    0   0    0        0 ...    0   0   0   \n",
       "4   0    0     0    0     0     0    0   0    0        0 ...    0   0   0   \n",
       "\n",
       "   zygoteinit  zz  zza  zzb  zzc  zzd  µs  \n",
       "0           0   0    0    0    0    0   0  \n",
       "1           0   0    0    0    0    0   0  \n",
       "2           0   0    0    0    0    0   0  \n",
       "3           0   0    0    0    0    0   0  \n",
       "4           0   0    0    0    0    0   0  \n",
       "\n",
       "[5 rows x 9034 columns]"
      ]
     },
     "execution_count": 123,
     "metadata": {},
     "output_type": "execute_result"
    }
   ],
   "source": [
    "#get all unique words in the corpus\n",
    "tf_feature_names = cv.get_feature_names()\n",
    "# show document feature vectors\n",
    "pd.DataFrame(cv_matrix, columns=tf_feature_names).head()"
   ]
  },
  {
   "cell_type": "markdown",
   "metadata": {},
   "source": [
    "Quels sont les mots les plus communs dans nos documents ?"
   ]
  },
  {
   "cell_type": "code",
   "execution_count": 124,
   "metadata": {},
   "outputs": [
    {
     "data": {
      "text/html": [
       "<div>\n",
       "<style>\n",
       "    .dataframe thead tr:only-child th {\n",
       "        text-align: right;\n",
       "    }\n",
       "\n",
       "    .dataframe thead th {\n",
       "        text-align: left;\n",
       "    }\n",
       "\n",
       "    .dataframe tbody tr th {\n",
       "        vertical-align: top;\n",
       "    }\n",
       "</style>\n",
       "<table border=\"1\" class=\"dataframe\">\n",
       "  <thead>\n",
       "    <tr style=\"text-align: right;\">\n",
       "      <th></th>\n",
       "      <th>count</th>\n",
       "    </tr>\n",
       "    <tr>\n",
       "      <th>word</th>\n",
       "      <th></th>\n",
       "    </tr>\n",
       "  </thead>\n",
       "  <tbody>\n",
       "    <tr>\n",
       "      <th>use</th>\n",
       "      <td>13919</td>\n",
       "    </tr>\n",
       "    <tr>\n",
       "      <th>android</th>\n",
       "      <td>11596</td>\n",
       "    </tr>\n",
       "    <tr>\n",
       "      <th>class</th>\n",
       "      <td>9146</td>\n",
       "    </tr>\n",
       "    <tr>\n",
       "      <th>error</th>\n",
       "      <td>8430</td>\n",
       "    </tr>\n",
       "    <tr>\n",
       "      <th>java</th>\n",
       "      <td>8043</td>\n",
       "    </tr>\n",
       "  </tbody>\n",
       "</table>\n",
       "</div>"
      ],
      "text/plain": [
       "         count\n",
       "word          \n",
       "use      13919\n",
       "android  11596\n",
       "class     9146\n",
       "error     8430\n",
       "java      8043"
      ]
     },
     "execution_count": 124,
     "metadata": {},
     "output_type": "execute_result"
    }
   ],
   "source": [
    "voc_freq_df = pd.DataFrame([list(a) for a in zip(tf_feature_names, np.asarray(cv_matrix.sum(axis=0)).ravel())])\n",
    "voc_freq_df.columns = ['word', 'count']\n",
    "voc_freq_df.set_index('word', inplace=True)\n",
    "voc_freq_df=voc_freq_df.sort_values('count', ascending=False)\n",
    "voc_freq_df.head()"
   ]
  },
  {
   "cell_type": "code",
   "execution_count": 125,
   "metadata": {},
   "outputs": [
    {
     "data": {
      "image/png": "[encoded data removed]",
      "text/plain": [
       "<matplotlib.figure.Figure at 0x1a2f06cc50>"
      ]
     },
     "metadata": {},
     "output_type": "display_data"
    }
   ],
   "source": [
    "ax = voc_freq_df.head(50).plot(kind = 'bar', figsize = (14,4), color=\"#f56900\")\n",
    "plt.setp(ax.get_xticklabels(), rotation = 45, ha = 'right')\n",
    "plt.title('Top 50 words', fontsize = 'large')\n",
    "plt.xlabel('Words')\n",
    "plt.ylabel('Number of occurences')\n",
    "plt.show()"
   ]
  },
  {
   "cell_type": "markdown",
   "metadata": {},
   "source": [
    "=> use, android, class, error, ... sont très fréquents"
   ]
  },
  {
   "cell_type": "markdown",
   "metadata": {},
   "source": [
    "####  Sparsicity de la matrice"
   ]
  },
  {
   "cell_type": "markdown",
   "metadata": {},
   "source": [
    "Regardons le pourcentage de cellules non égales à 0."
   ]
  },
  {
   "cell_type": "code",
   "execution_count": 126,
   "metadata": {},
   "outputs": [
    {
     "name": "stdout",
     "output_type": "stream",
     "text": [
      "Sparsicity:  0.67 %\n"
     ]
    }
   ],
   "source": [
    "# Materialize the sparse data\n",
    "data_dense = data_vectorized.todense()\n",
    "\n",
    "# Compute Sparsicity = Percentage of Non-Zero cells\n",
    "print(\"Sparsicity:  {:.2f} %\".format( ((data_dense > 0).sum()/data_dense.size)*100, \"%\"))"
   ]
  },
  {
   "cell_type": "markdown",
   "metadata": {},
   "source": [
    "# 3. Topics Modeling LDA"
   ]
  },
  {
   "cell_type": "markdown",
   "metadata": {},
   "source": [
    "Essayons LDA (Allocation de Dirichlet Latente) pour modéliser les sujets."
   ]
  },
  {
   "cell_type": "markdown",
   "metadata": {},
   "source": [
    "## 3.1 Construction du modèle et tuning"
   ]
  },
  {
   "cell_type": "markdown",
   "metadata": {},
   "source": [
    "Nous allons utiliser la recherche sur grille pour trouver les meilleurs valeurs des hyper-paramètres."
   ]
  },
  {
   "cell_type": "code",
   "execution_count": 128,
   "metadata": {},
   "outputs": [
    {
     "data": {
      "text/plain": [
       "GridSearchCV(cv=None, error_score='raise',\n",
       "       estimator=LatentDirichletAllocation(batch_size=128, doc_topic_prior=None,\n",
       "             evaluate_every=-1, learning_decay=0.7, learning_method=None,\n",
       "             learning_offset=10.0, max_doc_update_iter=100, max_iter=10,\n",
       "             mean_change_tol=0.001, n_components=10, n_jobs=1,\n",
       "             n_topics=None, perp_tol=0.1, random_state=None,\n",
       "             topic_word_prior=None, total_samples=1000000.0, verbose=0),\n",
       "       fit_params=None, iid=True, n_jobs=1,\n",
       "       param_grid={'n_components': [20], 'learning_method': ['batch'], 'max_iter': [10]},\n",
       "       pre_dispatch='2*n_jobs', refit=True, return_train_score=True,\n",
       "       scoring=None, verbose=0)"
      ]
     },
     "execution_count": 128,
     "metadata": {},
     "output_type": "execute_result"
    }
   ],
   "source": [
    "# Define Search Param\n",
    "search_params = {'n_components': [20, 30, 50, 70, 100 ], 'learning_method':['batch'], 'max_iter':[10]}\n",
    "#search_params = {'n_components': [20 ], 'learning_method':['batch'], 'max_iter':[10]}\n",
    "\n",
    "# Init the Model\n",
    "lda = LatentDirichletAllocation()\n",
    "\n",
    "# Init Grid Search Class\n",
    "lda_model = GridSearchCV(lda, param_grid=search_params)\n",
    "\n",
    "# Do the Grid Search\n",
    "lda_model.fit(data_vectorized)"
   ]
  },
  {
   "cell_type": "markdown",
   "metadata": {},
   "source": [
    "Voyons les hyper-paramètres qui donnent la meilleure performance."
   ]
  },
  {
   "cell_type": "code",
   "execution_count": 129,
   "metadata": {},
   "outputs": [
    {
     "data": {
      "text/plain": [
       "{'learning_method': 'batch', 'max_iter': 10, 'n_components': 20}"
      ]
     },
     "execution_count": 129,
     "metadata": {},
     "output_type": "execute_result"
    }
   ],
   "source": [
    "lda_model.best_params_"
   ]
  },
  {
   "cell_type": "markdown",
   "metadata": {},
   "source": [
    "Nous pouvons partir sur 20 topics."
   ]
  },
  {
   "cell_type": "code",
   "execution_count": 130,
   "metadata": {
    "collapsed": true
   },
   "outputs": [],
   "source": [
    "best_lda_model = lda_model.best_estimator_"
   ]
  },
  {
   "cell_type": "code",
   "execution_count": 131,
   "metadata": {
    "collapsed": true
   },
   "outputs": [],
   "source": [
    "lda_output = best_lda_model.transform(data_vectorized)"
   ]
  },
  {
   "cell_type": "code",
   "execution_count": 132,
   "metadata": {},
   "outputs": [
    {
     "data": {
      "text/plain": [
       "(10406, 20)"
      ]
     },
     "execution_count": 132,
     "metadata": {},
     "output_type": "execute_result"
    }
   ],
   "source": [
    "lda_output.shape"
   ]
  },
  {
   "cell_type": "markdown",
   "metadata": {},
   "source": [
    "### Evaluation"
   ]
  },
  {
   "cell_type": "markdown",
   "metadata": {},
   "source": [
    "Regardons le score de perplexité et likehood de notre modèle."
   ]
  },
  {
   "cell_type": "code",
   "execution_count": 133,
   "metadata": {},
   "outputs": [
    {
     "name": "stdout",
     "output_type": "stream",
     "text": [
      "Perplexity :  1064.19902873\n"
     ]
    }
   ],
   "source": [
    "print(\"Perplexity : \",best_lda_model.perplexity(data_vectorized))"
   ]
  },
  {
   "cell_type": "code",
   "execution_count": 134,
   "metadata": {},
   "outputs": [
    {
     "name": "stdout",
     "output_type": "stream",
     "text": [
      "Log Likelihood:  -9878939.7264\n"
     ]
    }
   ],
   "source": [
    "# Log Likelyhood: Higher the better\n",
    "print(\"Log Likelihood: \", best_lda_model.score(data_vectorized))"
   ]
  },
  {
   "cell_type": "markdown",
   "metadata": {},
   "source": [
    "## 3.2 Analyse des résultats"
   ]
  },
  {
   "cell_type": "markdown",
   "metadata": {},
   "source": [
    "### Topics / Words"
   ]
  },
  {
   "cell_type": "markdown",
   "metadata": {},
   "source": [
    "Affichage de la matrice topics / words."
   ]
  },
  {
   "cell_type": "code",
   "execution_count": 135,
   "metadata": {},
   "outputs": [
    {
     "data": {
      "text/html": [
       "<div>\n",
       "<style>\n",
       "    .dataframe thead tr:only-child th {\n",
       "        text-align: right;\n",
       "    }\n",
       "\n",
       "    .dataframe thead th {\n",
       "        text-align: left;\n",
       "    }\n",
       "\n",
       "    .dataframe tbody tr th {\n",
       "        vertical-align: top;\n",
       "    }\n",
       "</style>\n",
       "<table border=\"1\" class=\"dataframe\">\n",
       "  <thead>\n",
       "    <tr style=\"text-align: right;\">\n",
       "      <th></th>\n",
       "      <th>aa</th>\n",
       "      <th>aaa</th>\n",
       "      <th>aaaa</th>\n",
       "      <th>aac</th>\n",
       "      <th>aapl</th>\n",
       "      <th>aapt</th>\n",
       "      <th>aar</th>\n",
       "      <th>ab</th>\n",
       "      <th>aba</th>\n",
       "      <th>abandon</th>\n",
       "      <th>...</th>\n",
       "      <th>zsh</th>\n",
       "      <th>zu</th>\n",
       "      <th>zw</th>\n",
       "      <th>zygoteinit</th>\n",
       "      <th>zz</th>\n",
       "      <th>zza</th>\n",
       "      <th>zzb</th>\n",
       "      <th>zzc</th>\n",
       "      <th>zzd</th>\n",
       "      <th>µs</th>\n",
       "    </tr>\n",
       "  </thead>\n",
       "  <tbody>\n",
       "    <tr>\n",
       "      <th>Topic0</th>\n",
       "      <td>75.281874</td>\n",
       "      <td>0.050000</td>\n",
       "      <td>0.05</td>\n",
       "      <td>16.999068</td>\n",
       "      <td>9.05</td>\n",
       "      <td>0.050000</td>\n",
       "      <td>0.05</td>\n",
       "      <td>7.000955</td>\n",
       "      <td>0.050000</td>\n",
       "      <td>0.050000</td>\n",
       "      <td>...</td>\n",
       "      <td>0.05</td>\n",
       "      <td>0.050000</td>\n",
       "      <td>1.777289</td>\n",
       "      <td>0.05</td>\n",
       "      <td>0.050000</td>\n",
       "      <td>0.05</td>\n",
       "      <td>0.05</td>\n",
       "      <td>0.05</td>\n",
       "      <td>0.05</td>\n",
       "      <td>0.050000</td>\n",
       "    </tr>\n",
       "    <tr>\n",
       "      <th>Topic1</th>\n",
       "      <td>2.586101</td>\n",
       "      <td>0.050000</td>\n",
       "      <td>0.05</td>\n",
       "      <td>0.050000</td>\n",
       "      <td>0.05</td>\n",
       "      <td>0.050000</td>\n",
       "      <td>0.05</td>\n",
       "      <td>0.050000</td>\n",
       "      <td>0.050000</td>\n",
       "      <td>0.050000</td>\n",
       "      <td>...</td>\n",
       "      <td>0.05</td>\n",
       "      <td>0.050000</td>\n",
       "      <td>1.119998</td>\n",
       "      <td>242.05</td>\n",
       "      <td>0.050000</td>\n",
       "      <td>0.05</td>\n",
       "      <td>0.05</td>\n",
       "      <td>0.05</td>\n",
       "      <td>0.05</td>\n",
       "      <td>0.050000</td>\n",
       "    </tr>\n",
       "    <tr>\n",
       "      <th>Topic2</th>\n",
       "      <td>0.050000</td>\n",
       "      <td>0.050000</td>\n",
       "      <td>0.05</td>\n",
       "      <td>0.050000</td>\n",
       "      <td>0.05</td>\n",
       "      <td>0.050000</td>\n",
       "      <td>0.05</td>\n",
       "      <td>0.050000</td>\n",
       "      <td>0.050000</td>\n",
       "      <td>0.050000</td>\n",
       "      <td>...</td>\n",
       "      <td>0.05</td>\n",
       "      <td>0.050000</td>\n",
       "      <td>0.050000</td>\n",
       "      <td>0.05</td>\n",
       "      <td>0.050000</td>\n",
       "      <td>0.05</td>\n",
       "      <td>0.05</td>\n",
       "      <td>0.05</td>\n",
       "      <td>0.05</td>\n",
       "      <td>0.050000</td>\n",
       "    </tr>\n",
       "    <tr>\n",
       "      <th>Topic3</th>\n",
       "      <td>6.313275</td>\n",
       "      <td>0.050000</td>\n",
       "      <td>0.05</td>\n",
       "      <td>0.050000</td>\n",
       "      <td>0.05</td>\n",
       "      <td>0.050000</td>\n",
       "      <td>0.05</td>\n",
       "      <td>1.482981</td>\n",
       "      <td>0.050000</td>\n",
       "      <td>1.507232</td>\n",
       "      <td>...</td>\n",
       "      <td>0.05</td>\n",
       "      <td>0.050000</td>\n",
       "      <td>0.050000</td>\n",
       "      <td>0.05</td>\n",
       "      <td>0.050000</td>\n",
       "      <td>0.05</td>\n",
       "      <td>0.05</td>\n",
       "      <td>0.05</td>\n",
       "      <td>0.05</td>\n",
       "      <td>1.089363</td>\n",
       "    </tr>\n",
       "    <tr>\n",
       "      <th>Topic4</th>\n",
       "      <td>7.714778</td>\n",
       "      <td>0.061979</td>\n",
       "      <td>0.05</td>\n",
       "      <td>0.050000</td>\n",
       "      <td>0.05</td>\n",
       "      <td>0.050000</td>\n",
       "      <td>0.05</td>\n",
       "      <td>44.892675</td>\n",
       "      <td>0.050000</td>\n",
       "      <td>0.050000</td>\n",
       "      <td>...</td>\n",
       "      <td>0.05</td>\n",
       "      <td>1.358006</td>\n",
       "      <td>0.050000</td>\n",
       "      <td>0.05</td>\n",
       "      <td>0.050000</td>\n",
       "      <td>0.05</td>\n",
       "      <td>0.05</td>\n",
       "      <td>0.05</td>\n",
       "      <td>0.05</td>\n",
       "      <td>0.050000</td>\n",
       "    </tr>\n",
       "    <tr>\n",
       "      <th>Topic5</th>\n",
       "      <td>13.213759</td>\n",
       "      <td>0.050000</td>\n",
       "      <td>0.05</td>\n",
       "      <td>1.100932</td>\n",
       "      <td>0.05</td>\n",
       "      <td>0.050000</td>\n",
       "      <td>0.05</td>\n",
       "      <td>2.994865</td>\n",
       "      <td>0.050000</td>\n",
       "      <td>0.050000</td>\n",
       "      <td>...</td>\n",
       "      <td>0.05</td>\n",
       "      <td>0.050000</td>\n",
       "      <td>0.050000</td>\n",
       "      <td>0.05</td>\n",
       "      <td>0.050000</td>\n",
       "      <td>0.05</td>\n",
       "      <td>0.05</td>\n",
       "      <td>0.05</td>\n",
       "      <td>0.05</td>\n",
       "      <td>0.050000</td>\n",
       "    </tr>\n",
       "    <tr>\n",
       "      <th>Topic6</th>\n",
       "      <td>3.939140</td>\n",
       "      <td>0.050000</td>\n",
       "      <td>0.05</td>\n",
       "      <td>0.050000</td>\n",
       "      <td>0.05</td>\n",
       "      <td>0.059576</td>\n",
       "      <td>0.05</td>\n",
       "      <td>0.306160</td>\n",
       "      <td>0.050000</td>\n",
       "      <td>0.050000</td>\n",
       "      <td>...</td>\n",
       "      <td>0.05</td>\n",
       "      <td>0.050000</td>\n",
       "      <td>0.050000</td>\n",
       "      <td>0.05</td>\n",
       "      <td>2.238658</td>\n",
       "      <td>0.05</td>\n",
       "      <td>0.05</td>\n",
       "      <td>0.05</td>\n",
       "      <td>0.05</td>\n",
       "      <td>0.050000</td>\n",
       "    </tr>\n",
       "    <tr>\n",
       "      <th>Topic7</th>\n",
       "      <td>22.055080</td>\n",
       "      <td>0.050000</td>\n",
       "      <td>0.05</td>\n",
       "      <td>0.050000</td>\n",
       "      <td>5.05</td>\n",
       "      <td>117.686053</td>\n",
       "      <td>0.05</td>\n",
       "      <td>21.398958</td>\n",
       "      <td>0.050000</td>\n",
       "      <td>0.050000</td>\n",
       "      <td>...</td>\n",
       "      <td>0.05</td>\n",
       "      <td>0.050000</td>\n",
       "      <td>0.050000</td>\n",
       "      <td>0.05</td>\n",
       "      <td>0.050000</td>\n",
       "      <td>0.05</td>\n",
       "      <td>0.05</td>\n",
       "      <td>0.05</td>\n",
       "      <td>0.05</td>\n",
       "      <td>0.050000</td>\n",
       "    </tr>\n",
       "    <tr>\n",
       "      <th>Topic8</th>\n",
       "      <td>1.581440</td>\n",
       "      <td>35.129164</td>\n",
       "      <td>9.05</td>\n",
       "      <td>0.050000</td>\n",
       "      <td>0.05</td>\n",
       "      <td>0.050000</td>\n",
       "      <td>0.05</td>\n",
       "      <td>17.467777</td>\n",
       "      <td>0.050000</td>\n",
       "      <td>0.050000</td>\n",
       "      <td>...</td>\n",
       "      <td>0.05</td>\n",
       "      <td>0.050000</td>\n",
       "      <td>0.050000</td>\n",
       "      <td>0.05</td>\n",
       "      <td>0.050000</td>\n",
       "      <td>0.05</td>\n",
       "      <td>0.05</td>\n",
       "      <td>0.05</td>\n",
       "      <td>0.05</td>\n",
       "      <td>30.010637</td>\n",
       "    </tr>\n",
       "    <tr>\n",
       "      <th>Topic9</th>\n",
       "      <td>0.050000</td>\n",
       "      <td>0.050000</td>\n",
       "      <td>0.05</td>\n",
       "      <td>0.050000</td>\n",
       "      <td>0.05</td>\n",
       "      <td>0.050000</td>\n",
       "      <td>0.05</td>\n",
       "      <td>0.066175</td>\n",
       "      <td>5.506775</td>\n",
       "      <td>0.050000</td>\n",
       "      <td>...</td>\n",
       "      <td>0.05</td>\n",
       "      <td>0.050000</td>\n",
       "      <td>0.050000</td>\n",
       "      <td>0.05</td>\n",
       "      <td>0.050000</td>\n",
       "      <td>0.05</td>\n",
       "      <td>0.05</td>\n",
       "      <td>0.05</td>\n",
       "      <td>0.05</td>\n",
       "      <td>0.050000</td>\n",
       "    </tr>\n",
       "    <tr>\n",
       "      <th>Topic10</th>\n",
       "      <td>10.298013</td>\n",
       "      <td>0.050389</td>\n",
       "      <td>0.05</td>\n",
       "      <td>0.050000</td>\n",
       "      <td>0.05</td>\n",
       "      <td>0.050000</td>\n",
       "      <td>0.05</td>\n",
       "      <td>16.566043</td>\n",
       "      <td>0.050000</td>\n",
       "      <td>0.050000</td>\n",
       "      <td>...</td>\n",
       "      <td>0.05</td>\n",
       "      <td>0.050000</td>\n",
       "      <td>0.050000</td>\n",
       "      <td>0.05</td>\n",
       "      <td>0.050000</td>\n",
       "      <td>0.05</td>\n",
       "      <td>0.05</td>\n",
       "      <td>0.05</td>\n",
       "      <td>0.05</td>\n",
       "      <td>0.050000</td>\n",
       "    </tr>\n",
       "    <tr>\n",
       "      <th>Topic11</th>\n",
       "      <td>0.050000</td>\n",
       "      <td>0.050000</td>\n",
       "      <td>0.05</td>\n",
       "      <td>0.050000</td>\n",
       "      <td>0.05</td>\n",
       "      <td>10.404371</td>\n",
       "      <td>96.05</td>\n",
       "      <td>0.050000</td>\n",
       "      <td>0.050000</td>\n",
       "      <td>0.050000</td>\n",
       "      <td>...</td>\n",
       "      <td>0.05</td>\n",
       "      <td>0.050000</td>\n",
       "      <td>0.050000</td>\n",
       "      <td>0.05</td>\n",
       "      <td>4.050000</td>\n",
       "      <td>24.05</td>\n",
       "      <td>16.05</td>\n",
       "      <td>22.05</td>\n",
       "      <td>10.05</td>\n",
       "      <td>0.050000</td>\n",
       "    </tr>\n",
       "    <tr>\n",
       "      <th>Topic12</th>\n",
       "      <td>0.516167</td>\n",
       "      <td>0.050000</td>\n",
       "      <td>0.05</td>\n",
       "      <td>0.050000</td>\n",
       "      <td>0.05</td>\n",
       "      <td>0.050000</td>\n",
       "      <td>0.05</td>\n",
       "      <td>0.050000</td>\n",
       "      <td>1.593225</td>\n",
       "      <td>0.050000</td>\n",
       "      <td>...</td>\n",
       "      <td>0.05</td>\n",
       "      <td>0.050000</td>\n",
       "      <td>0.050000</td>\n",
       "      <td>0.05</td>\n",
       "      <td>0.050000</td>\n",
       "      <td>0.05</td>\n",
       "      <td>0.05</td>\n",
       "      <td>0.05</td>\n",
       "      <td>0.05</td>\n",
       "      <td>0.050000</td>\n",
       "    </tr>\n",
       "    <tr>\n",
       "      <th>Topic13</th>\n",
       "      <td>0.050000</td>\n",
       "      <td>7.780987</td>\n",
       "      <td>0.05</td>\n",
       "      <td>0.050000</td>\n",
       "      <td>0.05</td>\n",
       "      <td>0.050000</td>\n",
       "      <td>0.05</td>\n",
       "      <td>38.174462</td>\n",
       "      <td>0.050000</td>\n",
       "      <td>0.050000</td>\n",
       "      <td>...</td>\n",
       "      <td>0.05</td>\n",
       "      <td>15.631545</td>\n",
       "      <td>0.050000</td>\n",
       "      <td>0.05</td>\n",
       "      <td>0.050000</td>\n",
       "      <td>0.05</td>\n",
       "      <td>0.05</td>\n",
       "      <td>0.05</td>\n",
       "      <td>0.05</td>\n",
       "      <td>0.050000</td>\n",
       "    </tr>\n",
       "    <tr>\n",
       "      <th>Topic14</th>\n",
       "      <td>0.050000</td>\n",
       "      <td>2.050000</td>\n",
       "      <td>0.05</td>\n",
       "      <td>0.050000</td>\n",
       "      <td>0.05</td>\n",
       "      <td>0.050000</td>\n",
       "      <td>0.05</td>\n",
       "      <td>0.050000</td>\n",
       "      <td>0.050000</td>\n",
       "      <td>0.050000</td>\n",
       "      <td>...</td>\n",
       "      <td>0.05</td>\n",
       "      <td>0.050000</td>\n",
       "      <td>0.050000</td>\n",
       "      <td>0.05</td>\n",
       "      <td>0.050000</td>\n",
       "      <td>0.05</td>\n",
       "      <td>0.05</td>\n",
       "      <td>0.05</td>\n",
       "      <td>0.05</td>\n",
       "      <td>0.050000</td>\n",
       "    </tr>\n",
       "    <tr>\n",
       "      <th>Topic15</th>\n",
       "      <td>0.050000</td>\n",
       "      <td>0.050000</td>\n",
       "      <td>0.05</td>\n",
       "      <td>0.050000</td>\n",
       "      <td>0.05</td>\n",
       "      <td>0.050000</td>\n",
       "      <td>0.05</td>\n",
       "      <td>0.050000</td>\n",
       "      <td>0.050000</td>\n",
       "      <td>0.050000</td>\n",
       "      <td>...</td>\n",
       "      <td>0.05</td>\n",
       "      <td>0.050000</td>\n",
       "      <td>0.050000</td>\n",
       "      <td>0.05</td>\n",
       "      <td>0.050000</td>\n",
       "      <td>0.05</td>\n",
       "      <td>0.05</td>\n",
       "      <td>0.05</td>\n",
       "      <td>0.05</td>\n",
       "      <td>0.050000</td>\n",
       "    </tr>\n",
       "    <tr>\n",
       "      <th>Topic16</th>\n",
       "      <td>0.050000</td>\n",
       "      <td>0.050000</td>\n",
       "      <td>0.05</td>\n",
       "      <td>0.050000</td>\n",
       "      <td>0.05</td>\n",
       "      <td>0.050000</td>\n",
       "      <td>0.05</td>\n",
       "      <td>1.179841</td>\n",
       "      <td>0.050000</td>\n",
       "      <td>0.050000</td>\n",
       "      <td>...</td>\n",
       "      <td>20.05</td>\n",
       "      <td>0.050000</td>\n",
       "      <td>0.050000</td>\n",
       "      <td>0.05</td>\n",
       "      <td>0.050000</td>\n",
       "      <td>0.05</td>\n",
       "      <td>0.05</td>\n",
       "      <td>0.05</td>\n",
       "      <td>0.05</td>\n",
       "      <td>0.050000</td>\n",
       "    </tr>\n",
       "    <tr>\n",
       "      <th>Topic17</th>\n",
       "      <td>0.050000</td>\n",
       "      <td>0.050000</td>\n",
       "      <td>0.05</td>\n",
       "      <td>0.050000</td>\n",
       "      <td>0.05</td>\n",
       "      <td>0.050000</td>\n",
       "      <td>0.05</td>\n",
       "      <td>3.684679</td>\n",
       "      <td>0.050000</td>\n",
       "      <td>3.772692</td>\n",
       "      <td>...</td>\n",
       "      <td>0.05</td>\n",
       "      <td>1.160449</td>\n",
       "      <td>3.252713</td>\n",
       "      <td>0.05</td>\n",
       "      <td>2.861342</td>\n",
       "      <td>0.05</td>\n",
       "      <td>0.05</td>\n",
       "      <td>0.05</td>\n",
       "      <td>0.05</td>\n",
       "      <td>0.050000</td>\n",
       "    </tr>\n",
       "    <tr>\n",
       "      <th>Topic18</th>\n",
       "      <td>0.050000</td>\n",
       "      <td>1.209036</td>\n",
       "      <td>8.05</td>\n",
       "      <td>0.050000</td>\n",
       "      <td>0.05</td>\n",
       "      <td>0.050000</td>\n",
       "      <td>0.05</td>\n",
       "      <td>7.434429</td>\n",
       "      <td>0.050000</td>\n",
       "      <td>0.870076</td>\n",
       "      <td>...</td>\n",
       "      <td>0.05</td>\n",
       "      <td>0.050000</td>\n",
       "      <td>0.050000</td>\n",
       "      <td>0.05</td>\n",
       "      <td>0.050000</td>\n",
       "      <td>0.05</td>\n",
       "      <td>0.05</td>\n",
       "      <td>0.05</td>\n",
       "      <td>0.05</td>\n",
       "      <td>0.050000</td>\n",
       "    </tr>\n",
       "    <tr>\n",
       "      <th>Topic19</th>\n",
       "      <td>3.050373</td>\n",
       "      <td>4.068445</td>\n",
       "      <td>0.05</td>\n",
       "      <td>0.050000</td>\n",
       "      <td>0.05</td>\n",
       "      <td>0.050000</td>\n",
       "      <td>0.05</td>\n",
       "      <td>0.050000</td>\n",
       "      <td>0.050000</td>\n",
       "      <td>0.050000</td>\n",
       "      <td>...</td>\n",
       "      <td>0.05</td>\n",
       "      <td>0.050000</td>\n",
       "      <td>0.050000</td>\n",
       "      <td>0.05</td>\n",
       "      <td>0.050000</td>\n",
       "      <td>0.05</td>\n",
       "      <td>0.05</td>\n",
       "      <td>0.05</td>\n",
       "      <td>0.05</td>\n",
       "      <td>0.050000</td>\n",
       "    </tr>\n",
       "  </tbody>\n",
       "</table>\n",
       "<p>20 rows × 9034 columns</p>\n",
       "</div>"
      ],
      "text/plain": [
       "                aa        aaa  aaaa        aac  aapl        aapt    aar  \\\n",
       "Topic0   75.281874   0.050000  0.05  16.999068  9.05    0.050000   0.05   \n",
       "Topic1    2.586101   0.050000  0.05   0.050000  0.05    0.050000   0.05   \n",
       "Topic2    0.050000   0.050000  0.05   0.050000  0.05    0.050000   0.05   \n",
       "Topic3    6.313275   0.050000  0.05   0.050000  0.05    0.050000   0.05   \n",
       "Topic4    7.714778   0.061979  0.05   0.050000  0.05    0.050000   0.05   \n",
       "Topic5   13.213759   0.050000  0.05   1.100932  0.05    0.050000   0.05   \n",
       "Topic6    3.939140   0.050000  0.05   0.050000  0.05    0.059576   0.05   \n",
       "Topic7   22.055080   0.050000  0.05   0.050000  5.05  117.686053   0.05   \n",
       "Topic8    1.581440  35.129164  9.05   0.050000  0.05    0.050000   0.05   \n",
       "Topic9    0.050000   0.050000  0.05   0.050000  0.05    0.050000   0.05   \n",
       "Topic10  10.298013   0.050389  0.05   0.050000  0.05    0.050000   0.05   \n",
       "Topic11   0.050000   0.050000  0.05   0.050000  0.05   10.404371  96.05   \n",
       "Topic12   0.516167   0.050000  0.05   0.050000  0.05    0.050000   0.05   \n",
       "Topic13   0.050000   7.780987  0.05   0.050000  0.05    0.050000   0.05   \n",
       "Topic14   0.050000   2.050000  0.05   0.050000  0.05    0.050000   0.05   \n",
       "Topic15   0.050000   0.050000  0.05   0.050000  0.05    0.050000   0.05   \n",
       "Topic16   0.050000   0.050000  0.05   0.050000  0.05    0.050000   0.05   \n",
       "Topic17   0.050000   0.050000  0.05   0.050000  0.05    0.050000   0.05   \n",
       "Topic18   0.050000   1.209036  8.05   0.050000  0.05    0.050000   0.05   \n",
       "Topic19   3.050373   4.068445  0.05   0.050000  0.05    0.050000   0.05   \n",
       "\n",
       "                ab       aba   abandon    ...        zsh         zu        zw  \\\n",
       "Topic0    7.000955  0.050000  0.050000    ...       0.05   0.050000  1.777289   \n",
       "Topic1    0.050000  0.050000  0.050000    ...       0.05   0.050000  1.119998   \n",
       "Topic2    0.050000  0.050000  0.050000    ...       0.05   0.050000  0.050000   \n",
       "Topic3    1.482981  0.050000  1.507232    ...       0.05   0.050000  0.050000   \n",
       "Topic4   44.892675  0.050000  0.050000    ...       0.05   1.358006  0.050000   \n",
       "Topic5    2.994865  0.050000  0.050000    ...       0.05   0.050000  0.050000   \n",
       "Topic6    0.306160  0.050000  0.050000    ...       0.05   0.050000  0.050000   \n",
       "Topic7   21.398958  0.050000  0.050000    ...       0.05   0.050000  0.050000   \n",
       "Topic8   17.467777  0.050000  0.050000    ...       0.05   0.050000  0.050000   \n",
       "Topic9    0.066175  5.506775  0.050000    ...       0.05   0.050000  0.050000   \n",
       "Topic10  16.566043  0.050000  0.050000    ...       0.05   0.050000  0.050000   \n",
       "Topic11   0.050000  0.050000  0.050000    ...       0.05   0.050000  0.050000   \n",
       "Topic12   0.050000  1.593225  0.050000    ...       0.05   0.050000  0.050000   \n",
       "Topic13  38.174462  0.050000  0.050000    ...       0.05  15.631545  0.050000   \n",
       "Topic14   0.050000  0.050000  0.050000    ...       0.05   0.050000  0.050000   \n",
       "Topic15   0.050000  0.050000  0.050000    ...       0.05   0.050000  0.050000   \n",
       "Topic16   1.179841  0.050000  0.050000    ...      20.05   0.050000  0.050000   \n",
       "Topic17   3.684679  0.050000  3.772692    ...       0.05   1.160449  3.252713   \n",
       "Topic18   7.434429  0.050000  0.870076    ...       0.05   0.050000  0.050000   \n",
       "Topic19   0.050000  0.050000  0.050000    ...       0.05   0.050000  0.050000   \n",
       "\n",
       "         zygoteinit        zz    zza    zzb    zzc    zzd         µs  \n",
       "Topic0         0.05  0.050000   0.05   0.05   0.05   0.05   0.050000  \n",
       "Topic1       242.05  0.050000   0.05   0.05   0.05   0.05   0.050000  \n",
       "Topic2         0.05  0.050000   0.05   0.05   0.05   0.05   0.050000  \n",
       "Topic3         0.05  0.050000   0.05   0.05   0.05   0.05   1.089363  \n",
       "Topic4         0.05  0.050000   0.05   0.05   0.05   0.05   0.050000  \n",
       "Topic5         0.05  0.050000   0.05   0.05   0.05   0.05   0.050000  \n",
       "Topic6         0.05  2.238658   0.05   0.05   0.05   0.05   0.050000  \n",
       "Topic7         0.05  0.050000   0.05   0.05   0.05   0.05   0.050000  \n",
       "Topic8         0.05  0.050000   0.05   0.05   0.05   0.05  30.010637  \n",
       "Topic9         0.05  0.050000   0.05   0.05   0.05   0.05   0.050000  \n",
       "Topic10        0.05  0.050000   0.05   0.05   0.05   0.05   0.050000  \n",
       "Topic11        0.05  4.050000  24.05  16.05  22.05  10.05   0.050000  \n",
       "Topic12        0.05  0.050000   0.05   0.05   0.05   0.05   0.050000  \n",
       "Topic13        0.05  0.050000   0.05   0.05   0.05   0.05   0.050000  \n",
       "Topic14        0.05  0.050000   0.05   0.05   0.05   0.05   0.050000  \n",
       "Topic15        0.05  0.050000   0.05   0.05   0.05   0.05   0.050000  \n",
       "Topic16        0.05  0.050000   0.05   0.05   0.05   0.05   0.050000  \n",
       "Topic17        0.05  2.861342   0.05   0.05   0.05   0.05   0.050000  \n",
       "Topic18        0.05  0.050000   0.05   0.05   0.05   0.05   0.050000  \n",
       "Topic19        0.05  0.050000   0.05   0.05   0.05   0.05   0.050000  \n",
       "\n",
       "[20 rows x 9034 columns]"
      ]
     },
     "execution_count": 135,
     "metadata": {},
     "output_type": "execute_result"
    }
   ],
   "source": [
    "# liste des topics\n",
    "topicnames = [\"Topic\" + str(i) for i in range(best_lda_model.n_components)]\n",
    "\n",
    "# Topic-Keyword Matrice\n",
    "df_topic_keywords = pd.DataFrame(best_lda_model.components_)\n",
    "df_topic_keywords.columns = tf_feature_names\n",
    "df_topic_keywords.index = topicnames\n",
    "\n",
    "df_topic_keywords"
   ]
  },
  {
   "cell_type": "code",
   "execution_count": 136,
   "metadata": {
    "collapsed": true
   },
   "outputs": [],
   "source": [
    "# Méthode qui retourne pour chacun des topics le top \"n_words\" mots\n",
    "def show_topics(feature_names, tp_model, n_words=20):\n",
    "    keywords = np.array(feature_names)\n",
    "    topic_keywords = []\n",
    "    for topic_weights in tp_model.components_:\n",
    "        top_keyword_locs = (-topic_weights).argsort()[:n_words]\n",
    "        topic_keywords.append(keywords.take(top_keyword_locs))\n",
    "    return topic_keywords"
   ]
  },
  {
   "cell_type": "code",
   "execution_count": 137,
   "metadata": {},
   "outputs": [
    {
     "data": {
      "text/html": [
       "<div>\n",
       "<style>\n",
       "    .dataframe thead tr:only-child th {\n",
       "        text-align: right;\n",
       "    }\n",
       "\n",
       "    .dataframe thead th {\n",
       "        text-align: left;\n",
       "    }\n",
       "\n",
       "    .dataframe tbody tr th {\n",
       "        vertical-align: top;\n",
       "    }\n",
       "</style>\n",
       "<table border=\"1\" class=\"dataframe\">\n",
       "  <thead>\n",
       "    <tr style=\"text-align: right;\">\n",
       "      <th></th>\n",
       "      <th>Word 0</th>\n",
       "      <th>Word 1</th>\n",
       "      <th>Word 2</th>\n",
       "      <th>Word 3</th>\n",
       "      <th>Word 4</th>\n",
       "      <th>Word 5</th>\n",
       "      <th>Word 6</th>\n",
       "      <th>Word 7</th>\n",
       "      <th>Word 8</th>\n",
       "      <th>Word 9</th>\n",
       "    </tr>\n",
       "  </thead>\n",
       "  <tbody>\n",
       "    <tr>\n",
       "      <th>Topic 0</th>\n",
       "      <td>tf</td>\n",
       "      <td>size</td>\n",
       "      <td>input</td>\n",
       "      <td>time</td>\n",
       "      <td>train</td>\n",
       "      <td>frame</td>\n",
       "      <td>video</td>\n",
       "      <td>data</td>\n",
       "      <td>start</td>\n",
       "      <td>output</td>\n",
       "    </tr>\n",
       "    <tr>\n",
       "      <th>Topic 1</th>\n",
       "      <td>java</td>\n",
       "      <td>at</td>\n",
       "      <td>lang</td>\n",
       "      <td>system</td>\n",
       "      <td>org</td>\n",
       "      <td>stream</td>\n",
       "      <td>com</td>\n",
       "      <td>internal</td>\n",
       "      <td>method</td>\n",
       "      <td>util</td>\n",
       "    </tr>\n",
       "    <tr>\n",
       "      <th>Topic 2</th>\n",
       "      <td>android</td>\n",
       "      <td>view</td>\n",
       "      <td>layout</td>\n",
       "      <td>id</td>\n",
       "      <td>parent</td>\n",
       "      <td>height</td>\n",
       "      <td>width</td>\n",
       "      <td>self</td>\n",
       "      <td>override</td>\n",
       "      <td>public</td>\n",
       "    </tr>\n",
       "    <tr>\n",
       "      <th>Topic 3</th>\n",
       "      <td>js</td>\n",
       "      <td>node</td>\n",
       "      <td>angular</td>\n",
       "      <td>app</td>\n",
       "      <td>module</td>\n",
       "      <td>error</td>\n",
       "      <td>modules</td>\n",
       "      <td>src</td>\n",
       "      <td>ts</td>\n",
       "      <td>file</td>\n",
       "    </tr>\n",
       "    <tr>\n",
       "      <th>Topic 4</th>\n",
       "      <td>the</td>\n",
       "      <td>file</td>\n",
       "      <td>to</td>\n",
       "      <td>error</td>\n",
       "      <td>is</td>\n",
       "      <td>in</td>\n",
       "      <td>string</td>\n",
       "      <td>not</td>\n",
       "      <td>for</td>\n",
       "      <td>if</td>\n",
       "    </tr>\n",
       "    <tr>\n",
       "      <th>Topic 5</th>\n",
       "      <td>id</td>\n",
       "      <td>user</td>\n",
       "      <td>name</td>\n",
       "      <td>request</td>\n",
       "      <td>get</td>\n",
       "      <td>http</td>\n",
       "      <td>data</td>\n",
       "      <td>new</td>\n",
       "      <td>use</td>\n",
       "      <td>api</td>\n",
       "    </tr>\n",
       "    <tr>\n",
       "      <th>Topic 6</th>\n",
       "      <td>in</td>\n",
       "      <td>scala</td>\n",
       "      <td>build</td>\n",
       "      <td>lib</td>\n",
       "      <td>spark</td>\n",
       "      <td>rb</td>\n",
       "      <td>error</td>\n",
       "      <td>query</td>\n",
       "      <td>insert</td>\n",
       "      <td>ok</td>\n",
       "    </tr>\n",
       "    <tr>\n",
       "      <th>Topic 7</th>\n",
       "      <td>test</td>\n",
       "      <td>run</td>\n",
       "      <td>var</td>\n",
       "      <td>unit</td>\n",
       "      <td>gulp</td>\n",
       "      <td>art</td>\n",
       "      <td>go</td>\n",
       "      <td>build</td>\n",
       "      <td>task</td>\n",
       "      <td>runtime</td>\n",
       "    </tr>\n",
       "    <tr>\n",
       "      <th>Topic 8</th>\n",
       "      <td>array</td>\n",
       "      <td>data</td>\n",
       "      <td>string</td>\n",
       "      <td>list</td>\n",
       "      <td>key</td>\n",
       "      <td>df</td>\n",
       "      <td>valu</td>\n",
       "      <td>index</td>\n",
       "      <td>row</td>\n",
       "      <td>in</td>\n",
       "    </tr>\n",
       "    <tr>\n",
       "      <th>Topic 9</th>\n",
       "      <td>org</td>\n",
       "      <td>project</td>\n",
       "      <td>net</td>\n",
       "      <td>version</td>\n",
       "      <td>core</td>\n",
       "      <td>build</td>\n",
       "      <td>java</td>\n",
       "      <td>microsoft</td>\n",
       "      <td>web</td>\n",
       "      <td>gradle</td>\n",
       "    </tr>\n",
       "    <tr>\n",
       "      <th>Topic 10</th>\n",
       "      <td>px</td>\n",
       "      <td>git</td>\n",
       "      <td>imag</td>\n",
       "      <td>background</td>\n",
       "      <td>image</td>\n",
       "      <td>true</td>\n",
       "      <td>font</td>\n",
       "      <td>border</td>\n",
       "      <td>width</td>\n",
       "      <td>height</td>\n",
       "    </tr>\n",
       "    <tr>\n",
       "      <th>Topic 11</th>\n",
       "      <td>android</td>\n",
       "      <td>com</td>\n",
       "      <td>app</td>\n",
       "      <td>google</td>\n",
       "      <td>support</td>\n",
       "      <td>compile</td>\n",
       "      <td>name</td>\n",
       "      <td>intent</td>\n",
       "      <td>class</td>\n",
       "      <td>permission</td>\n",
       "    </tr>\n",
       "    <tr>\n",
       "      <th>Topic 12</th>\n",
       "      <td>app</td>\n",
       "      <td>use</td>\n",
       "      <td>work</td>\n",
       "      <td>tri</td>\n",
       "      <td>error</td>\n",
       "      <td>code</td>\n",
       "      <td>get</td>\n",
       "      <td>io</td>\n",
       "      <td>set</td>\n",
       "      <td>let</td>\n",
       "    </tr>\n",
       "    <tr>\n",
       "      <th>Topic 13</th>\n",
       "      <td>int</td>\n",
       "      <td>std</td>\n",
       "      <td>public</td>\n",
       "      <td>void</td>\n",
       "      <td>return</td>\n",
       "      <td>string</td>\n",
       "      <td>class</td>\n",
       "      <td>static</td>\n",
       "      <td>type</td>\n",
       "      <td>const</td>\n",
       "    </tr>\n",
       "    <tr>\n",
       "      <th>Topic 14</th>\n",
       "      <td>this</td>\n",
       "      <td>react</td>\n",
       "      <td>compon</td>\n",
       "      <td>import</td>\n",
       "      <td>from</td>\n",
       "      <td>component</td>\n",
       "      <td>return</td>\n",
       "      <td>angular</td>\n",
       "      <td>log</td>\n",
       "      <td>function</td>\n",
       "    </tr>\n",
       "    <tr>\n",
       "      <th>Topic 15</th>\n",
       "      <td>div</td>\n",
       "      <td>class</td>\n",
       "      <td>html</td>\n",
       "      <td>li</td>\n",
       "      <td>button</td>\n",
       "      <td>item</td>\n",
       "      <td>page</td>\n",
       "      <td>content</td>\n",
       "      <td>text</td>\n",
       "      <td>script</td>\n",
       "    </tr>\n",
       "    <tr>\n",
       "      <th>Topic 16</th>\n",
       "      <td>python</td>\n",
       "      <td>file</td>\n",
       "      <td>py</td>\n",
       "      <td>run</td>\n",
       "      <td>line</td>\n",
       "      <td>self</td>\n",
       "      <td>docker</td>\n",
       "      <td>in</td>\n",
       "      <td>import</td>\n",
       "      <td>lib</td>\n",
       "    </tr>\n",
       "    <tr>\n",
       "      <th>Topic 17</th>\n",
       "      <td>use</td>\n",
       "      <td>would</td>\n",
       "      <td>like</td>\n",
       "      <td>way</td>\n",
       "      <td>one</td>\n",
       "      <td>code</td>\n",
       "      <td>exampl</td>\n",
       "      <td>differ</td>\n",
       "      <td>question</td>\n",
       "      <td>function</td>\n",
       "    </tr>\n",
       "    <tr>\n",
       "      <th>Topic 18</th>\n",
       "      <td>class</td>\n",
       "      <td>foo</td>\n",
       "      <td>type</td>\n",
       "      <td>bar</td>\n",
       "      <td>method</td>\n",
       "      <td>use</td>\n",
       "      <td>object</td>\n",
       "      <td>function</td>\n",
       "      <td>model</td>\n",
       "      <td>val</td>\n",
       "    </tr>\n",
       "    <tr>\n",
       "      <th>Topic 19</th>\n",
       "      <td>text</td>\n",
       "      <td>var</td>\n",
       "      <td>width</td>\n",
       "      <td>color</td>\n",
       "      <td>event</td>\n",
       "      <td>td</td>\n",
       "      <td>function</td>\n",
       "      <td>grid</td>\n",
       "      <td>height</td>\n",
       "      <td>date</td>\n",
       "    </tr>\n",
       "  </tbody>\n",
       "</table>\n",
       "</div>"
      ],
      "text/plain": [
       "           Word 0   Word 1   Word 2      Word 3   Word 4     Word 5    Word 6  \\\n",
       "Topic 0        tf     size    input        time    train      frame     video   \n",
       "Topic 1      java       at     lang      system      org     stream       com   \n",
       "Topic 2   android     view   layout          id   parent     height     width   \n",
       "Topic 3        js     node  angular         app   module      error   modules   \n",
       "Topic 4       the     file       to       error       is         in    string   \n",
       "Topic 5        id     user     name     request      get       http      data   \n",
       "Topic 6        in    scala    build         lib    spark         rb     error   \n",
       "Topic 7      test      run      var        unit     gulp        art        go   \n",
       "Topic 8     array     data   string        list      key         df      valu   \n",
       "Topic 9       org  project      net     version     core      build      java   \n",
       "Topic 10       px      git     imag  background    image       true      font   \n",
       "Topic 11  android      com      app      google  support    compile      name   \n",
       "Topic 12      app      use     work         tri    error       code       get   \n",
       "Topic 13      int      std   public        void   return     string     class   \n",
       "Topic 14     this    react   compon      import     from  component    return   \n",
       "Topic 15      div    class     html          li   button       item      page   \n",
       "Topic 16   python     file       py         run     line       self    docker   \n",
       "Topic 17      use    would     like         way      one       code    exampl   \n",
       "Topic 18    class      foo     type         bar   method        use    object   \n",
       "Topic 19     text      var    width       color    event         td  function   \n",
       "\n",
       "             Word 7    Word 8      Word 9  \n",
       "Topic 0        data     start      output  \n",
       "Topic 1    internal    method        util  \n",
       "Topic 2        self  override      public  \n",
       "Topic 3         src        ts        file  \n",
       "Topic 4         not       for          if  \n",
       "Topic 5         new       use         api  \n",
       "Topic 6       query    insert          ok  \n",
       "Topic 7       build      task     runtime  \n",
       "Topic 8       index       row          in  \n",
       "Topic 9   microsoft       web      gradle  \n",
       "Topic 10     border     width      height  \n",
       "Topic 11     intent     class  permission  \n",
       "Topic 12         io       set         let  \n",
       "Topic 13     static      type       const  \n",
       "Topic 14    angular       log    function  \n",
       "Topic 15    content      text      script  \n",
       "Topic 16         in    import         lib  \n",
       "Topic 17     differ  question    function  \n",
       "Topic 18   function     model         val  \n",
       "Topic 19       grid    height        date  "
      ]
     },
     "execution_count": 137,
     "metadata": {},
     "output_type": "execute_result"
    }
   ],
   "source": [
    "topic_keywords = show_topics(tf_feature_names, best_lda_model, n_words=10)        \n",
    "\n",
    "# Topic - Keywords Dataframe\n",
    "df_topic_keywords = pd.DataFrame(topic_keywords)\n",
    "df_topic_keywords.columns = ['Word '+str(i) for i in range(df_topic_keywords.shape[1])]\n",
    "df_topic_keywords.index = ['Topic '+str(i) for i in range(df_topic_keywords.shape[0])]\n",
    "df_topic_keywords"
   ]
  },
  {
   "cell_type": "markdown",
   "metadata": {},
   "source": [
    "Nous pouvons interpréter certains topics : <br/>\n",
    "- le sujet 1 : Tableau HTML\n",
    "- Le sujet 7 : Androïd \n",
    "- Le sujet 9 : Requêtes HTTP \n",
    "- Le sujet 15 : Microsoft / .Net\n",
    "- Le sujet 16 : Java / Apache\n",
    "- Le sujet 17 : Python\n",
    "- Le sujet 19 : System / Installation\n",
    "..."
   ]
  },
  {
   "cell_type": "markdown",
   "metadata": {},
   "source": [
    "###  Docs / Topics"
   ]
  },
  {
   "cell_type": "markdown",
   "metadata": {},
   "source": [
    "Voyons maintenant le topic associé à quelques documents."
   ]
  },
  {
   "cell_type": "code",
   "execution_count": 138,
   "metadata": {
    "collapsed": true
   },
   "outputs": [],
   "source": [
    "'''\n",
    "Affiche pour chacun des topics, le top n documents qui sont les plus pertinent pour ce topic.\n",
    "@H : word_to_topics matrix\n",
    "@W : topics_to_docs matrix\n",
    "'''\n",
    "def display_topics(H, W, feature_names, documents, targets, no_top_words, no_top_documents):\n",
    "    for topic_idx, topic in enumerate(H):\n",
    "        print (\"Topic %d : \" % (topic_idx) + \" \".join([feature_names[i]\n",
    "                        for i in topic.argsort()[:-no_top_words - 1:-1]]))\n",
    "        top_doc_indices = np.argsort( W[:,topic_idx] )[::-1][0:no_top_documents]\n",
    "        for doc_index in top_doc_indices:\n",
    "            print (\"Doc\",doc_index,\" Title:\", documents.iloc[doc_index].TITLE[0:60],\n",
    "                   \"- Tags:\", targets.iloc[doc_index].TAGS_P)\n",
    "        print(\"\")"
   ]
  },
  {
   "cell_type": "code",
   "execution_count": 139,
   "metadata": {},
   "outputs": [
    {
     "name": "stdout",
     "output_type": "stream",
     "text": [
      "Topic 0 : tf size input time train frame video data start output\n",
      "Doc 10006  Title: ValueError when executing softmax_cross_entropy_with_logits - Tags: ['tensorflow']\n",
      "Doc 4535  Title: Crash ERROR_CGDataProvider_BufferIsNotReadable + 12, CGDataP - Tags: ['ios', 'objective-c', 'iphone', 'xcode']\n",
      "\n",
      "Topic 1 : java at lang system org stream com internal method util\n",
      "Doc 4562  Title: Windows Process Activation Service not starting - error 13 - Tags: ['windows-services', 'windows-10']\n",
      "Doc 3843  Title: java.lang.InternalError Android - Tags: ['java', 'android']\n",
      "\n",
      "Topic 2 : android view layout id parent height width self override public\n",
      "Doc 8212  Title: Load a recyclerview fragment on clicking another recyclervie - Tags: ['android-fragments', 'android-recyclerview', 'android-viewpager', 'android-tablayout']\n",
      "Doc 8827  Title: Parent bottom views hide with parent center layout view on o - Tags: ['android']\n",
      "\n",
      "Topic 3 : js node angular app module error modules src ts file\n",
      "Doc 1706  Title: Angular CLI Hot Module Reload - Tags: ['angular', 'webpack', 'angular-cli']\n",
      "Doc 5924  Title: error TS2304: Cannot find name 'Promise' - Tags: ['node.js', 'angular', 'typescript']\n",
      "\n",
      "Topic 4 : the file to error is in string not for if\n",
      "Doc 172  Title: PHP handshake fail TLS1.0 - Tags: ['php', 'ssl']\n",
      "Doc 8024  Title: Fallback Open File Perl - Tags: ['perl', 'scope']\n",
      "\n",
      "Topic 5 : id user name request get http data new use api\n",
      "Doc 8573  Title: RestSharp get full URL of a request - Tags: ['c#', 'asp.net', '.net']\n",
      "Doc 5697  Title: How to create optional RewriteCond in Apache - Tags: ['apache', 'mod-rewrite']\n",
      "\n",
      "Topic 6 : in scala build lib spark rb error query insert ok\n",
      "Doc 3563  Title: duplicate symbols for architecture arm64 after xCode 8.0 upd - Tags: ['ios', 'xcode', 'architecture', 'updates']\n",
      "Doc 4373  Title: FastCGI not working with Rails 4 shared hosting (Phusion Pas - Tags: ['ruby-on-rails', '.htaccess', 'ruby-on-rails-4']\n",
      "\n",
      "Topic 7 : test run var unit gulp art go build task runtime\n",
      "Doc 1824  Title: Command Lines error in Rstudio console - Tags: ['r', 'rstudio']\n",
      "Doc 1296  Title: AAPT err with build-tools 24 - Tags: ['android', 'continuous-integration']\n",
      "\n",
      "Topic 8 : array data string list key df valu index row in\n",
      "Doc 5304  Title: Efficient way to sum all possible pairs - Tags: ['python', 'pandas', 'numpy']\n",
      "Doc 7371  Title: Python Pandas iterate over rows and access column names - Tags: ['python', 'pandas', 'dataframe', 'series']\n",
      "\n",
      "Topic 9 : org project net version core build java microsoft web gradle\n",
      "Doc 8078  Title: Deploying .Net Core WebAPI project on IIS - Tags: ['asp.net-core-mvc', 'iis-8', '.net-core', 'asp.net-core-webapi']\n",
      "Doc 7459  Title: How can I add GlassFish 4.1 server in Eclipse Neon 2? - Tags: ['eclipse']\n",
      "\n",
      "Topic 10 : px git imag background image true font border width height\n",
      "Doc 3995  Title: Efficient CSS3 Long Shadows on div with rounded corners - Tags: ['html', 'css', 'html5', 'css3']\n",
      "Doc 3531  Title: CSS border animation - convert solid lines to dotted lines - Tags: ['javascript', 'html', 'css']\n",
      "\n",
      "Topic 11 : android com app google support compile name intent class permission\n",
      "Doc 1751  Title: \"C2D_message is not unique\" while trying to make sign apk - Tags: ['android', 'release']\n",
      "Doc 9421  Title: Clicking on notification doesn't open mentioned activity - Tags: ['java', 'android', 'push-notification', 'firebase-cloud-messaging', 'firebase-notifications']\n",
      "\n",
      "Topic 12 : app use work tri error code get io set let\n",
      "Doc 4634  Title: Xcode says some of my pods are not PIEs, is this fine? - Tags: ['ios', 'xcode', 'itunesconnect', 'cocoapods']\n",
      "Doc 3194  Title: Restore Previous State of app on database migration failure  - Tags: ['c#']\n",
      "\n",
      "Topic 13 : int std public void return string class static type const\n",
      "Doc 3816  Title: friend and template in C++ - Tags: ['c++', 'templates', 'shadow', 'friend']\n",
      "Doc 3204  Title: Class template specialization partial ordering and function  - Tags: ['c++', 'templates', 'language-lawyer']\n",
      "\n",
      "Topic 14 : this react compon import from component return angular log function\n",
      "Doc 8060  Title: Angular2 rc1, new router and passing data - Tags: ['typescript', 'angular', 'angular2-routing']\n",
      "Doc 934  Title: Angular 2: get data from http in parent-component and subscr - Tags: ['javascript', 'angular', 'typescript']\n",
      "\n",
      "Topic 15 : div class html li button item page content text script\n",
      "Doc 2567  Title: Flexbox Responsive Mega Menu with Dynamic Content - Tags: ['javascript', 'css', 'css3', 'flexbox']\n",
      "Doc 4797  Title: CSS columns break elements apart in Chrome even with break-i - Tags: ['html', 'css', 'google-chrome']\n",
      "\n",
      "Topic 16 : python file py run line self docker in import lib\n",
      "Doc 4491  Title: trying to set up virtualenv gives error 'cannot import name  - Tags: ['python', 'python-2.7', 'virtualenv']\n",
      "Doc 2233  Title: Python - Selenium in Ubuntu OSError: [Errno 20] Not a direct - Tags: ['python', 'selenium', 'ubuntu']\n",
      "\n",
      "Topic 17 : use would like way one code exampl differ question function\n",
      "Doc 9598  Title: Bilingual (English and Portuguese) documentation in an R pac - Tags: ['r', 'documentation', 'package']\n",
      "Doc 10366  Title: Are == and != mutually dependent? - Tags: ['c++', 'operator-overloading', 'equality']\n",
      "\n",
      "Topic 18 : class foo type bar method use object function model val\n",
      "Doc 5536  Title: Keras verbose training progress bar writing a new line on ea - Tags: ['tensorflow', 'progress-bar', 'theano', 'keras', 'keras-layer']\n",
      "Doc 6556  Title: Why does a subclass of an inner class require an enclosing i - Tags: ['java', 'inheritance', 'inner-classes']\n",
      "\n",
      "Topic 19 : text var width color event td function grid height date\n",
      "Doc 5665  Title: Path drawing and resizing with Mouse - Tags: ['javascript', 'svg']\n",
      "Doc 7887  Title: Date plus one month php - Tags: ['php', 'date']\n",
      "\n"
     ]
    }
   ],
   "source": [
    "display_topics(best_lda_model.components_, lda_output, tf_feature_names, x_train, y_train, 10, 2)"
   ]
  },
  {
   "cell_type": "markdown",
   "metadata": {},
   "source": [
    "- **Stockons pour chaque document, le topic qui a la plus grande prédominance**"
   ]
  },
  {
   "cell_type": "code",
   "execution_count": 140,
   "metadata": {
    "collapsed": true
   },
   "outputs": [],
   "source": [
    "# id des posts\n",
    "docnames = [\"Doc\" + str(i) for i in range(len(x_train))]\n",
    "\n",
    "# On crée un dataframe\n",
    "df_document_topic = pd.DataFrame(np.round(lda_output, 4), columns=topicnames, index=docnames)\n",
    "\n",
    "# On rajoute une colonne contenant le numéro du topic prédominant\n",
    "dominant_topic = np.argmax(df_document_topic.values, axis=1)\n",
    "df_document_topic['Dominant_Topic'] = dominant_topic"
   ]
  },
  {
   "cell_type": "code",
   "execution_count": 141,
   "metadata": {},
   "outputs": [
    {
     "data": {
      "text/html": [
       "<div>\n",
       "<style>\n",
       "    .dataframe thead tr:only-child th {\n",
       "        text-align: right;\n",
       "    }\n",
       "\n",
       "    .dataframe thead th {\n",
       "        text-align: left;\n",
       "    }\n",
       "\n",
       "    .dataframe tbody tr th {\n",
       "        vertical-align: top;\n",
       "    }\n",
       "</style>\n",
       "<table border=\"1\" class=\"dataframe\">\n",
       "  <thead>\n",
       "    <tr style=\"text-align: right;\">\n",
       "      <th></th>\n",
       "      <th>Topic0</th>\n",
       "      <th>Topic1</th>\n",
       "      <th>Topic2</th>\n",
       "      <th>Topic3</th>\n",
       "      <th>Topic4</th>\n",
       "      <th>Topic5</th>\n",
       "      <th>Topic6</th>\n",
       "      <th>Topic7</th>\n",
       "      <th>Topic8</th>\n",
       "      <th>Topic9</th>\n",
       "      <th>...</th>\n",
       "      <th>Topic11</th>\n",
       "      <th>Topic12</th>\n",
       "      <th>Topic13</th>\n",
       "      <th>Topic14</th>\n",
       "      <th>Topic15</th>\n",
       "      <th>Topic16</th>\n",
       "      <th>Topic17</th>\n",
       "      <th>Topic18</th>\n",
       "      <th>Topic19</th>\n",
       "      <th>Dominant_Topic</th>\n",
       "    </tr>\n",
       "  </thead>\n",
       "  <tbody>\n",
       "    <tr>\n",
       "      <th>Doc0</th>\n",
       "      <td>0.0004</td>\n",
       "      <td>0.0004</td>\n",
       "      <td>0.0004</td>\n",
       "      <td>0.0004</td>\n",
       "      <td>0.0004</td>\n",
       "      <td>0.0004</td>\n",
       "      <td>0.0004</td>\n",
       "      <td>0.0004</td>\n",
       "      <td>0.0004</td>\n",
       "      <td>0.0004</td>\n",
       "      <td>...</td>\n",
       "      <td>0.0004</td>\n",
       "      <td>0.0004</td>\n",
       "      <td>0.0004</td>\n",
       "      <td>0.0004</td>\n",
       "      <td>0.0004</td>\n",
       "      <td>0.0004</td>\n",
       "      <td>0.4341</td>\n",
       "      <td>0.0004</td>\n",
       "      <td>0.0004</td>\n",
       "      <td>10</td>\n",
       "    </tr>\n",
       "    <tr>\n",
       "      <th>Doc1</th>\n",
       "      <td>0.0018</td>\n",
       "      <td>0.0018</td>\n",
       "      <td>0.0018</td>\n",
       "      <td>0.0018</td>\n",
       "      <td>0.0018</td>\n",
       "      <td>0.0627</td>\n",
       "      <td>0.0018</td>\n",
       "      <td>0.0018</td>\n",
       "      <td>0.0018</td>\n",
       "      <td>0.0018</td>\n",
       "      <td>...</td>\n",
       "      <td>0.0896</td>\n",
       "      <td>0.0018</td>\n",
       "      <td>0.0018</td>\n",
       "      <td>0.0018</td>\n",
       "      <td>0.0018</td>\n",
       "      <td>0.0018</td>\n",
       "      <td>0.4923</td>\n",
       "      <td>0.2017</td>\n",
       "      <td>0.1269</td>\n",
       "      <td>17</td>\n",
       "    </tr>\n",
       "    <tr>\n",
       "      <th>Doc2</th>\n",
       "      <td>0.0003</td>\n",
       "      <td>0.0003</td>\n",
       "      <td>0.0003</td>\n",
       "      <td>0.0003</td>\n",
       "      <td>0.0003</td>\n",
       "      <td>0.5829</td>\n",
       "      <td>0.0003</td>\n",
       "      <td>0.0067</td>\n",
       "      <td>0.0365</td>\n",
       "      <td>0.0003</td>\n",
       "      <td>...</td>\n",
       "      <td>0.0003</td>\n",
       "      <td>0.0003</td>\n",
       "      <td>0.0003</td>\n",
       "      <td>0.1011</td>\n",
       "      <td>0.1493</td>\n",
       "      <td>0.0003</td>\n",
       "      <td>0.1195</td>\n",
       "      <td>0.0003</td>\n",
       "      <td>0.0003</td>\n",
       "      <td>5</td>\n",
       "    </tr>\n",
       "    <tr>\n",
       "      <th>Doc3</th>\n",
       "      <td>0.0008</td>\n",
       "      <td>0.0008</td>\n",
       "      <td>0.0008</td>\n",
       "      <td>0.0008</td>\n",
       "      <td>0.0008</td>\n",
       "      <td>0.8524</td>\n",
       "      <td>0.0008</td>\n",
       "      <td>0.0198</td>\n",
       "      <td>0.0008</td>\n",
       "      <td>0.0008</td>\n",
       "      <td>...</td>\n",
       "      <td>0.0008</td>\n",
       "      <td>0.0008</td>\n",
       "      <td>0.0008</td>\n",
       "      <td>0.0008</td>\n",
       "      <td>0.0433</td>\n",
       "      <td>0.0008</td>\n",
       "      <td>0.0715</td>\n",
       "      <td>0.0008</td>\n",
       "      <td>0.0008</td>\n",
       "      <td>5</td>\n",
       "    </tr>\n",
       "    <tr>\n",
       "      <th>Doc4</th>\n",
       "      <td>0.0003</td>\n",
       "      <td>0.0003</td>\n",
       "      <td>0.0003</td>\n",
       "      <td>0.1037</td>\n",
       "      <td>0.0003</td>\n",
       "      <td>0.0003</td>\n",
       "      <td>0.0657</td>\n",
       "      <td>0.0003</td>\n",
       "      <td>0.0003</td>\n",
       "      <td>0.0003</td>\n",
       "      <td>...</td>\n",
       "      <td>0.0003</td>\n",
       "      <td>0.0003</td>\n",
       "      <td>0.0003</td>\n",
       "      <td>0.0003</td>\n",
       "      <td>0.0003</td>\n",
       "      <td>0.8250</td>\n",
       "      <td>0.0003</td>\n",
       "      <td>0.0003</td>\n",
       "      <td>0.0003</td>\n",
       "      <td>16</td>\n",
       "    </tr>\n",
       "    <tr>\n",
       "      <th>Doc5</th>\n",
       "      <td>0.0006</td>\n",
       "      <td>0.0006</td>\n",
       "      <td>0.0006</td>\n",
       "      <td>0.0006</td>\n",
       "      <td>0.0006</td>\n",
       "      <td>0.0006</td>\n",
       "      <td>0.0006</td>\n",
       "      <td>0.0006</td>\n",
       "      <td>0.0006</td>\n",
       "      <td>0.0006</td>\n",
       "      <td>...</td>\n",
       "      <td>0.0006</td>\n",
       "      <td>0.0006</td>\n",
       "      <td>0.0006</td>\n",
       "      <td>0.0006</td>\n",
       "      <td>0.0006</td>\n",
       "      <td>0.0006</td>\n",
       "      <td>0.8298</td>\n",
       "      <td>0.1600</td>\n",
       "      <td>0.0006</td>\n",
       "      <td>17</td>\n",
       "    </tr>\n",
       "    <tr>\n",
       "      <th>Doc6</th>\n",
       "      <td>0.1312</td>\n",
       "      <td>0.0002</td>\n",
       "      <td>0.2503</td>\n",
       "      <td>0.0002</td>\n",
       "      <td>0.1601</td>\n",
       "      <td>0.0002</td>\n",
       "      <td>0.0433</td>\n",
       "      <td>0.0002</td>\n",
       "      <td>0.0002</td>\n",
       "      <td>0.0002</td>\n",
       "      <td>...</td>\n",
       "      <td>0.0002</td>\n",
       "      <td>0.1711</td>\n",
       "      <td>0.0811</td>\n",
       "      <td>0.0002</td>\n",
       "      <td>0.0002</td>\n",
       "      <td>0.0002</td>\n",
       "      <td>0.0002</td>\n",
       "      <td>0.0002</td>\n",
       "      <td>0.0709</td>\n",
       "      <td>2</td>\n",
       "    </tr>\n",
       "    <tr>\n",
       "      <th>Doc7</th>\n",
       "      <td>0.0002</td>\n",
       "      <td>0.0002</td>\n",
       "      <td>0.0002</td>\n",
       "      <td>0.0002</td>\n",
       "      <td>0.0661</td>\n",
       "      <td>0.0002</td>\n",
       "      <td>0.0002</td>\n",
       "      <td>0.0056</td>\n",
       "      <td>0.0354</td>\n",
       "      <td>0.0002</td>\n",
       "      <td>...</td>\n",
       "      <td>0.0002</td>\n",
       "      <td>0.3044</td>\n",
       "      <td>0.0002</td>\n",
       "      <td>0.0600</td>\n",
       "      <td>0.2533</td>\n",
       "      <td>0.0002</td>\n",
       "      <td>0.0002</td>\n",
       "      <td>0.0002</td>\n",
       "      <td>0.2594</td>\n",
       "      <td>12</td>\n",
       "    </tr>\n",
       "    <tr>\n",
       "      <th>Doc8</th>\n",
       "      <td>0.0031</td>\n",
       "      <td>0.0031</td>\n",
       "      <td>0.0031</td>\n",
       "      <td>0.0031</td>\n",
       "      <td>0.1194</td>\n",
       "      <td>0.0031</td>\n",
       "      <td>0.0031</td>\n",
       "      <td>0.0031</td>\n",
       "      <td>0.0031</td>\n",
       "      <td>0.0031</td>\n",
       "      <td>...</td>\n",
       "      <td>0.0031</td>\n",
       "      <td>0.4087</td>\n",
       "      <td>0.0031</td>\n",
       "      <td>0.0031</td>\n",
       "      <td>0.0031</td>\n",
       "      <td>0.0031</td>\n",
       "      <td>0.4188</td>\n",
       "      <td>0.0031</td>\n",
       "      <td>0.0031</td>\n",
       "      <td>17</td>\n",
       "    </tr>\n",
       "    <tr>\n",
       "      <th>Doc9</th>\n",
       "      <td>0.0002</td>\n",
       "      <td>0.0002</td>\n",
       "      <td>0.0002</td>\n",
       "      <td>0.1030</td>\n",
       "      <td>0.0002</td>\n",
       "      <td>0.2755</td>\n",
       "      <td>0.0002</td>\n",
       "      <td>0.0002</td>\n",
       "      <td>0.0002</td>\n",
       "      <td>0.0002</td>\n",
       "      <td>...</td>\n",
       "      <td>0.0002</td>\n",
       "      <td>0.1860</td>\n",
       "      <td>0.0002</td>\n",
       "      <td>0.3369</td>\n",
       "      <td>0.0002</td>\n",
       "      <td>0.0002</td>\n",
       "      <td>0.0951</td>\n",
       "      <td>0.0002</td>\n",
       "      <td>0.0002</td>\n",
       "      <td>14</td>\n",
       "    </tr>\n",
       "  </tbody>\n",
       "</table>\n",
       "<p>10 rows × 21 columns</p>\n",
       "</div>"
      ],
      "text/plain": [
       "      Topic0  Topic1  Topic2  Topic3  Topic4  Topic5  Topic6  Topic7  Topic8  \\\n",
       "Doc0  0.0004  0.0004  0.0004  0.0004  0.0004  0.0004  0.0004  0.0004  0.0004   \n",
       "Doc1  0.0018  0.0018  0.0018  0.0018  0.0018  0.0627  0.0018  0.0018  0.0018   \n",
       "Doc2  0.0003  0.0003  0.0003  0.0003  0.0003  0.5829  0.0003  0.0067  0.0365   \n",
       "Doc3  0.0008  0.0008  0.0008  0.0008  0.0008  0.8524  0.0008  0.0198  0.0008   \n",
       "Doc4  0.0003  0.0003  0.0003  0.1037  0.0003  0.0003  0.0657  0.0003  0.0003   \n",
       "Doc5  0.0006  0.0006  0.0006  0.0006  0.0006  0.0006  0.0006  0.0006  0.0006   \n",
       "Doc6  0.1312  0.0002  0.2503  0.0002  0.1601  0.0002  0.0433  0.0002  0.0002   \n",
       "Doc7  0.0002  0.0002  0.0002  0.0002  0.0661  0.0002  0.0002  0.0056  0.0354   \n",
       "Doc8  0.0031  0.0031  0.0031  0.0031  0.1194  0.0031  0.0031  0.0031  0.0031   \n",
       "Doc9  0.0002  0.0002  0.0002  0.1030  0.0002  0.2755  0.0002  0.0002  0.0002   \n",
       "\n",
       "      Topic9       ...        Topic11  Topic12  Topic13  Topic14  Topic15  \\\n",
       "Doc0  0.0004       ...         0.0004   0.0004   0.0004   0.0004   0.0004   \n",
       "Doc1  0.0018       ...         0.0896   0.0018   0.0018   0.0018   0.0018   \n",
       "Doc2  0.0003       ...         0.0003   0.0003   0.0003   0.1011   0.1493   \n",
       "Doc3  0.0008       ...         0.0008   0.0008   0.0008   0.0008   0.0433   \n",
       "Doc4  0.0003       ...         0.0003   0.0003   0.0003   0.0003   0.0003   \n",
       "Doc5  0.0006       ...         0.0006   0.0006   0.0006   0.0006   0.0006   \n",
       "Doc6  0.0002       ...         0.0002   0.1711   0.0811   0.0002   0.0002   \n",
       "Doc7  0.0002       ...         0.0002   0.3044   0.0002   0.0600   0.2533   \n",
       "Doc8  0.0031       ...         0.0031   0.4087   0.0031   0.0031   0.0031   \n",
       "Doc9  0.0002       ...         0.0002   0.1860   0.0002   0.3369   0.0002   \n",
       "\n",
       "      Topic16  Topic17  Topic18  Topic19  Dominant_Topic  \n",
       "Doc0   0.0004   0.4341   0.0004   0.0004              10  \n",
       "Doc1   0.0018   0.4923   0.2017   0.1269              17  \n",
       "Doc2   0.0003   0.1195   0.0003   0.0003               5  \n",
       "Doc3   0.0008   0.0715   0.0008   0.0008               5  \n",
       "Doc4   0.8250   0.0003   0.0003   0.0003              16  \n",
       "Doc5   0.0006   0.8298   0.1600   0.0006              17  \n",
       "Doc6   0.0002   0.0002   0.0002   0.0709               2  \n",
       "Doc7   0.0002   0.0002   0.0002   0.2594              12  \n",
       "Doc8   0.0031   0.4188   0.0031   0.0031              17  \n",
       "Doc9   0.0002   0.0951   0.0002   0.0002              14  \n",
       "\n",
       "[10 rows x 21 columns]"
      ]
     },
     "execution_count": 141,
     "metadata": {},
     "output_type": "execute_result"
    }
   ],
   "source": [
    "df_document_topic.head(10)"
   ]
  },
  {
   "cell_type": "markdown",
   "metadata": {},
   "source": [
    "## 3.3 Préparation pour prédiction"
   ]
  },
  {
   "cell_type": "markdown",
   "metadata": {},
   "source": [
    "Pour nous aider à faire nos prédictions, nous allons construire une matrice tags par topic.<br/>\n",
    "Pour la construire, nous allons :\n",
    "- Pour chaque tag_i et chaque topic_j\n",
    "    - Sommer la probabilité d’appartenance au topic_j des documents contenant le tag_i. \n",
    "    - Nous allons normaliser cette somme en faisant une moyenne sur le nombre de documents qui contiennent le tag_i"
   ]
  },
  {
   "cell_type": "markdown",
   "metadata": {},
   "source": [
    "|         | tag_1 | tag_2 | ... |tag_m | \n",
    "|---------|-------|-------|-----|------|\n",
    "| **topic_1**  |  xxx  | xxx   | ... | xxx  | \n",
    "|**topic_2** |  xxx  | xxx   | ... | xxx  | \n",
    "|...      |  xxx  | xxx   | ... | xxx  |\n",
    "|**topic_n**      |  xxx  | xxx   | ... | xxx  |\n"
   ]
  },
  {
   "cell_type": "markdown",
   "metadata": {},
   "source": [
    "- Commençons par stocker pour chacun des tags, les documents qui y sont liés."
   ]
  },
  {
   "cell_type": "code",
   "execution_count": 142,
   "metadata": {
    "collapsed": true
   },
   "outputs": [],
   "source": [
    "'''\n",
    "Retourne la liste des positions (à partir index) dans data des documents contenant le tag\n",
    "'''\n",
    "def getTagDocPositions(tag, data):\n",
    "    doc_indexes = data[data['TAGS_P'].apply(lambda x: True  if tag in x else False)].index.values\n",
    "    return [(lambda x: data.index.get_loc(x))(x) for x in doc_indexes]"
   ]
  },
  {
   "cell_type": "code",
   "execution_count": 143,
   "metadata": {
    "collapsed": true
   },
   "outputs": [],
   "source": [
    "documents_by_tags = {}\n",
    "for tag in frequent_tags :\n",
    "    docs_index = getTagDocPositions(tag, y_train)\n",
    "    documents_by_tags[tag] = docs_index"
   ]
  },
  {
   "cell_type": "markdown",
   "metadata": {},
   "source": [
    "Le dictionnaire **documents_by_tags** associe à un tag, la liste des documents contenant ce tag (la position du document dans le dataframe de training)"
   ]
  },
  {
   "cell_type": "markdown",
   "metadata": {},
   "source": [
    "- Construisons maintenant notre matrice tags par topics."
   ]
  },
  {
   "cell_type": "code",
   "execution_count": 144,
   "metadata": {
    "collapsed": true
   },
   "outputs": [],
   "source": [
    "'''\n",
    "@model : \n",
    "@ ft : list of frequent tags\n",
    "@ d_by_t : dictionary of list of documents containing the tag (key)\n",
    "'''\n",
    "def buildTagByTopicsMatrix(topics_modeling_algo, tm_output, ft,  d_by_t) :\n",
    "    tag_by_topics_ = np.zeros([topics_modeling_algo.n_components,len(ft)])\n",
    "    for topic_idx in range(topics_modeling_algo.n_components):\n",
    "        for tag_idx, tag in enumerate(ft):\n",
    "            docs_pos = d_by_t[tag]\n",
    "            topic_score = 0\n",
    "            for d in docs_pos :\n",
    "                topic_score += tm_output[d][topic_idx]\n",
    "                if topic_score > 0 :\n",
    "                    #tag_by_topics_[topic_idx][tag_idx]=topic_score/len(docs_pos)\n",
    "                    tag_by_topics_[topic_idx][tag_idx]=topic_score\n",
    "    return tag_by_topics_"
   ]
  },
  {
   "cell_type": "code",
   "execution_count": 145,
   "metadata": {},
   "outputs": [],
   "source": [
    "tags_by_topics_lda = buildTagByTopicsMatrix(best_lda_model,lda_output, frequent_tags, documents_by_tags )"
   ]
  },
  {
   "cell_type": "code",
   "execution_count": 146,
   "metadata": {},
   "outputs": [
    {
     "data": {
      "text/plain": [
       "(20, 2114)"
      ]
     },
     "execution_count": 146,
     "metadata": {},
     "output_type": "execute_result"
    }
   ],
   "source": [
    "tags_by_topics_lda.shape"
   ]
  },
  {
   "cell_type": "markdown",
   "metadata": {},
   "source": [
    "- Ecrivons une méthode qui retourne, pour un numéro de topic donné, les _n_ tags les plus pertinents (ceux qui ont le meilleur score dans notre matrice)"
   ]
  },
  {
   "cell_type": "code",
   "execution_count": 147,
   "metadata": {
    "collapsed": true
   },
   "outputs": [],
   "source": [
    "'''\n",
    "Retourne num_tags tags les plus pertinents associés au vecteur de topics\n",
    "'''\n",
    "def getBestTagsForTopics(tag_topics_matrix,  topics_vector, tags_list, num_tags) :\n",
    "    tags_result = topics_vector.dot(tag_topics_matrix)\n",
    "    best_tags_indices = np.argsort(-tags_result[0])[:num_tags]\n",
    "    best_tags = [tags_list[index] for index in best_tags_indices]\n",
    "    return best_tags"
   ]
  },
  {
   "cell_type": "markdown",
   "metadata": {},
   "source": [
    "## 3.4 Prédiction"
   ]
  },
  {
   "cell_type": "markdown",
   "metadata": {},
   "source": [
    "### Text cleaning and processing"
   ]
  },
  {
   "cell_type": "markdown",
   "metadata": {},
   "source": [
    "Reprenons le code des méthodes utilisées pour la partie cleaning du texte et pré-processing."
   ]
  },
  {
   "cell_type": "code",
   "execution_count": 148,
   "metadata": {
    "collapsed": true
   },
   "outputs": [],
   "source": [
    "stopword_list = set(stopwords.words('english'))\n",
    "tokenizer = ToktokTokenizer()\n",
    "\n",
    "'''\n",
    "Méthode qui permet de mettre les contractions dans une forme classique.\n",
    "Méthode récupéré depuis github : (c) @dipanjanS\n",
    "'''\n",
    "def expand_contractions(text, contraction_mapping=CONTRACTION_MAP):\n",
    "    contractions_pattern = re.compile('({})'.format('|'.join(contraction_mapping.keys())), \n",
    "                                      flags=re.IGNORECASE|re.DOTALL)\n",
    "    def expand_match(contraction):\n",
    "        match = contraction.group(0)\n",
    "        first_char = match[0]\n",
    "        expanded_contraction = contraction_mapping.get(match)\\\n",
    "                                if contraction_mapping.get(match)\\\n",
    "                                else contraction_mapping.get(match.lower())                       \n",
    "        expanded_contraction = first_char+expanded_contraction[1:]\n",
    "        return expanded_contraction\n",
    "        \n",
    "    expanded_text = contractions_pattern.sub(expand_match, text)\n",
    "    expanded_text = re.sub(\"'\", \"\", expanded_text)\n",
    "    return expanded_text\n",
    "\n",
    "\n",
    "# stemming of words\n",
    "def stem_text(word) :\n",
    "    porter = PorterStemmer()\n",
    "    return porter.stem(word)\n",
    "\n",
    "\n",
    "def getCleanedText(text) :\n",
    "    # remove html tags\n",
    "    text = BeautifulSoup(text, \"lxml\").get_text()\n",
    "    \n",
    "    # remove accented char\n",
    "    text = unicodedata.normalize('NFKD', text).encode('ascii', 'ignore').decode('utf-8', 'ignore')\n",
    "    \n",
    "    text = expand_contractions(text)\n",
    "    \n",
    "    # remove non alpha char\n",
    "    text = re.sub('[\\W\\d_]', ' ', text)\n",
    "\n",
    "    # convert to lower case\n",
    "    text = text.lower()\n",
    "  \n",
    "    #remove extra newlines\n",
    "    text = re.sub(r'[\\r|\\n|\\r\\n]+', ' ',text)\n",
    "    \n",
    "    # remove extra whitespace\n",
    "    text = re.sub(' +', ' ', text)\n",
    "    \n",
    "    # Remove any single letter except 'c' (correspond au langage)\n",
    "    text = ' '.join( [w for w in text.split() if len(w)>1 or w == 'c'] )\n",
    "    \n",
    "    # remove stopwords\n",
    "    tokens = tokenizer.tokenize(text)\n",
    "    tokens = [token.strip() for token in tokens]\n",
    "    meaningful_words = [token for token in tokens if token not in stopword_list]\n",
    "    \n",
    "    # stemming of words\n",
    "    porter = PorterStemmer()\n",
    "    stemmed = [porter.stem(word) for word in meaningful_words]\n",
    "    \n",
    "    # join the words back into one string separated by space, \n",
    "    # and return the result.\n",
    "    return( \" \".join( stemmed )) "
   ]
  },
  {
   "cell_type": "code",
   "execution_count": 149,
   "metadata": {
    "collapsed": true
   },
   "outputs": [],
   "source": [
    "def getCleanedBody(body) :\n",
    "    text = getCleanedBodyText(body)\n",
    "    code = getCleanedBodyCode(body)\n",
    "    return (text + ' ' + code).strip()\n",
    "\n",
    "'''\n",
    "Retrieve body text inside <p>,<h1>,<h2>,<li> tags and return the cleaned and normalized text\n",
    "'''\n",
    "def getCleanedBodyText(body) :\n",
    "    ctext=\"\"\n",
    "    tags_list=['h1','h2','p','li']\n",
    "    soup = BeautifulSoup(body, 'html.parser')\n",
    "    for t in tags_list :\n",
    "        blocks = soup.findAll(t)\n",
    "        for block in blocks:\n",
    "            ctext += \" \" + block.text   \n",
    "    cleaned_text = getCleanedText(ctext)\n",
    "    return re.sub(' +',' ',cleaned_text.strip())\n",
    "\n",
    "'''\n",
    "Retrieve the code text inside the body\n",
    "'''\n",
    "def getCleanedBodyCode(body) :\n",
    "    ctext=\"\"\n",
    "    soup = BeautifulSoup(body, 'lxml')\n",
    "    code_blocks = soup.findAll('code')\n",
    "    ctext=\" \".join(list(map(lambda x : x.text, code_blocks )))\n",
    "    table = str.maketrans('', '', string.punctuation)\n",
    "    words = re.findall(r\"[^\\W\\d_']+\", ctext.lower())\n",
    "    stripped = [w.translate(table) for w in words]\n",
    "    return( \" \".join( stripped ))"
   ]
  },
  {
   "cell_type": "markdown",
   "metadata": {},
   "source": [
    "### Topic prediction"
   ]
  },
  {
   "cell_type": "markdown",
   "metadata": {},
   "source": [
    "- Ecrivons une méthode qui va, par le biais de LDA, retrouver le topic prédominant d'un texte."
   ]
  },
  {
   "cell_type": "code",
   "execution_count": 150,
   "metadata": {
    "collapsed": true
   },
   "outputs": [],
   "source": [
    "'''\n",
    "Retourne les pertinence de topics pour le post donné (titre et texte)\n",
    "'''\n",
    "def getTopicsForPost(title, body, vectorizer, tm_model) :\n",
    "    text = getCleanedText(title) + ' ' + getCleanedBody(body)\n",
    "    text_vectorized = vectorizer.transform([text])\n",
    "    topic_probability_scores = tm_model.transform(text_vectorized)\n",
    "    return topic_probability_scores"
   ]
  },
  {
   "cell_type": "markdown",
   "metadata": {},
   "source": [
    "- Méthode qui va chercher dans la matrice tags/topics, les tags les plus pertinent pour un post.<br/>\n",
    "Elle va d'abord déterminer le topic prédominant du post puis rechercher les tags."
   ]
  },
  {
   "cell_type": "code",
   "execution_count": 151,
   "metadata": {
    "collapsed": true
   },
   "outputs": [],
   "source": [
    "'''\n",
    "Retourne la liste de n tags les plus pertinents pour le post donné.\n",
    "Se base pour celà de la matrice tags par topics.\n",
    "'''\n",
    "def getTagsPrediction(title, body, num_tag, tag_topics_matrix, frequent_tags, vectorizer, tm_model ) :\n",
    "    predicted_topics = getTopicsForPost(title, body,vectorizer, tm_model ) \n",
    "    predicted_tags = getBestTagsForTopics(tag_topics_matrix, predicted_topics, frequent_tags, num_tag)\n",
    "    return predicted_tags"
   ]
  },
  {
   "cell_type": "markdown",
   "metadata": {},
   "source": [
    "- Méthode qui prédit les tags d'une série de post."
   ]
  },
  {
   "cell_type": "code",
   "execution_count": 152,
   "metadata": {
    "collapsed": true
   },
   "outputs": [],
   "source": [
    "'''\n",
    "Retourne un dataframe contenant les prédictions de tags pour les posts contenant dans posts_df\n",
    "@ post_df : le dataframe contenant les posts (title / body)\n",
    "@ num_tag : le nombre de tags à prédire\n",
    "@ t_by_topics : la matrice tags/topics utilisée pour la prédiction\n",
    "@ f_tags : liste des tags les plus fréquents (même ordre que tags dans la matrice)\n",
    "@ vectorizer : convertisseur à utiliser pour transformer texte en matrice de tokens et d'occurences.\n",
    "@ tm_model : le modèle de topic modeling à utiliser\n",
    "'''\n",
    "def getPostsTagsPrediction(posts_df, num_tag, t_by_topics, f_tags, vectorizer, tm_model):\n",
    "    y_predicted=posts_df.apply(lambda row: getTagsPrediction(row['TITLE'], row['BODY'], \n",
    "                                                             num_tag, t_by_topics, f_tags, vectorizer, tm_model),\n",
    "                               axis=1)\n",
    "    y_predicted_df = y_predicted.to_frame()\n",
    "    y_predicted_df.columns = ['TAGS_P']\n",
    "    return y_predicted_df"
   ]
  },
  {
   "cell_type": "markdown",
   "metadata": {},
   "source": [
    "## 3.5 Evaluation de la méthode"
   ]
  },
  {
   "cell_type": "markdown",
   "metadata": {},
   "source": [
    "- Méthode pour évaluer la qualité de nos prédictions"
   ]
  },
  {
   "cell_type": "code",
   "execution_count": 153,
   "metadata": {
    "collapsed": true
   },
   "outputs": [],
   "source": [
    "'''\n",
    "Méthode permettant d'évaluer la qualité des prédictions en comparant les tags prédits aux tags réels.\n",
    "calcule pour chaque post, le rapport entre le nombre de tags correctement prédits sur le nombre de tags réels.\n",
    "retourne la moyenne de ces rapports.\n",
    "'''\n",
    "\n",
    "def predictionAccuracy(y_predicted, y_true) :\n",
    "    tags_found=[]\n",
    "    for index, row in y_predicted.iterrows():\n",
    "        number_tags_found = 0\n",
    "        for t in row['TAGS_P'] :\n",
    "            if t in y_true.loc[index]['TAGS_P'] :\n",
    "                number_tags_found +=1\n",
    "        tags_found.append(number_tags_found/len(y_true.loc[index]['TAGS_P']))\n",
    "    print(\"Accuracy of prediction :\", np.mean(tags_found))"
   ]
  },
  {
   "cell_type": "markdown",
   "metadata": {},
   "source": [
    "### Prédiction des topics pour notre jeu de tests"
   ]
  },
  {
   "cell_type": "code",
   "execution_count": 154,
   "metadata": {},
   "outputs": [],
   "source": [
    "y_predicted_lda = getPostsTagsPrediction(x_test, 5, tags_by_topics_lda, frequent_tags, cv, best_lda_model)"
   ]
  },
  {
   "cell_type": "code",
   "execution_count": 155,
   "metadata": {},
   "outputs": [
    {
     "data": {
      "text/html": [
       "<div>\n",
       "<style>\n",
       "    .dataframe thead tr:only-child th {\n",
       "        text-align: right;\n",
       "    }\n",
       "\n",
       "    .dataframe thead th {\n",
       "        text-align: left;\n",
       "    }\n",
       "\n",
       "    .dataframe tbody tr th {\n",
       "        vertical-align: top;\n",
       "    }\n",
       "</style>\n",
       "<table border=\"1\" class=\"dataframe\">\n",
       "  <thead>\n",
       "    <tr style=\"text-align: right;\">\n",
       "      <th></th>\n",
       "      <th>TAGS_P</th>\n",
       "    </tr>\n",
       "  </thead>\n",
       "  <tbody>\n",
       "    <tr>\n",
       "      <th>51690</th>\n",
       "      <td>[android, ios, java, javascript, swift]</td>\n",
       "    </tr>\n",
       "    <tr>\n",
       "      <th>51070</th>\n",
       "      <td>[android, java, c++, c#, javascript]</td>\n",
       "    </tr>\n",
       "    <tr>\n",
       "      <th>60081</th>\n",
       "      <td>[ios, android, swift, javascript, xcode]</td>\n",
       "    </tr>\n",
       "    <tr>\n",
       "      <th>27541</th>\n",
       "      <td>[javascript, css, html, python, java]</td>\n",
       "    </tr>\n",
       "    <tr>\n",
       "      <th>56555</th>\n",
       "      <td>[javascript, angular, ios, android, c++]</td>\n",
       "    </tr>\n",
       "  </tbody>\n",
       "</table>\n",
       "</div>"
      ],
      "text/plain": [
       "                                         TAGS_P\n",
       "51690   [android, ios, java, javascript, swift]\n",
       "51070      [android, java, c++, c#, javascript]\n",
       "60081  [ios, android, swift, javascript, xcode]\n",
       "27541     [javascript, css, html, python, java]\n",
       "56555  [javascript, angular, ios, android, c++]"
      ]
     },
     "execution_count": 155,
     "metadata": {},
     "output_type": "execute_result"
    }
   ],
   "source": [
    "y_predicted_lda.head()"
   ]
  },
  {
   "cell_type": "markdown",
   "metadata": {},
   "source": [
    "### Evaluation de la prédiction du jeu de test"
   ]
  },
  {
   "cell_type": "code",
   "execution_count": 156,
   "metadata": {},
   "outputs": [
    {
     "name": "stdout",
     "output_type": "stream",
     "text": [
      "Accuracy of prediction : 0.282287230068\n"
     ]
    }
   ],
   "source": [
    "predictionAccuracy(y_predicted_lda, y_test)"
   ]
  },
  {
   "cell_type": "markdown",
   "metadata": {},
   "source": [
    "### Evaluation de la prédiction d'un nouveau sample"
   ]
  },
  {
   "cell_type": "code",
   "execution_count": 157,
   "metadata": {
    "collapsed": true
   },
   "outputs": [],
   "source": [
    "df_test2 = df.sample(5000)\n",
    "x_test2 = df_test2[['TITLE', 'BODY','TITLE_P', 'BODY_P']]\n",
    "y_test2 = df_test2[['TAGS_P']]"
   ]
  },
  {
   "cell_type": "code",
   "execution_count": 158,
   "metadata": {},
   "outputs": [
    {
     "name": "stdout",
     "output_type": "stream",
     "text": [
      "Accuracy of prediction : 0.23313\n"
     ]
    }
   ],
   "source": [
    "y_predicted_test2 = getPostsTagsPrediction(x_test2, 5,tags_by_topics_lda,frequent_tags, cv,  best_lda_model )\n",
    "result = predictionAccuracy(y_predicted_test2, y_test2)"
   ]
  },
  {
   "cell_type": "markdown",
   "metadata": {},
   "source": [
    "# 4. NMF"
   ]
  },
  {
   "cell_type": "markdown",
   "metadata": {},
   "source": [
    "Voyons maintenant la méthode NMF (Factorisation par matrices non négatives) pour prédire nos tags."
   ]
  },
  {
   "cell_type": "markdown",
   "metadata": {},
   "source": [
    "## 4.1 Vectorization du texte"
   ]
  },
  {
   "cell_type": "markdown",
   "metadata": {},
   "source": [
    "Utilisons la métrique tf-idf (Term-Frequency - Inverse Document Frequency)."
   ]
  },
  {
   "cell_type": "code",
   "execution_count": 159,
   "metadata": {},
   "outputs": [
    {
     "name": "stdout",
     "output_type": "stream",
     "text": [
      "Extracting tf-idf features for NMF...\n"
     ]
    },
    {
     "data": {
      "text/plain": [
       "(10406, 9034)"
      ]
     },
     "execution_count": 159,
     "metadata": {},
     "output_type": "execute_result"
    }
   ],
   "source": [
    "# Use tf-idf features for NMF.\n",
    "print(\"Extracting tf-idf features for NMF...\")\n",
    "tfidf_vectorizer = TfidfVectorizer(max_df=0.95, min_df=5)\n",
    "tfidf_vectorized = tfidf_vectorizer.fit_transform(x_train_text)\n",
    "tfidf_matrix = tfidf_vectorized.toarray()\n",
    "tfidf_matrix.shape"
   ]
  },
  {
   "cell_type": "code",
   "execution_count": 160,
   "metadata": {
    "collapsed": true
   },
   "outputs": [],
   "source": [
    "tfidf_feature_names = tfidf_vectorizer.get_feature_names()"
   ]
  },
  {
   "cell_type": "markdown",
   "metadata": {},
   "source": [
    "## 4.2 Modélisation"
   ]
  },
  {
   "cell_type": "code",
   "execution_count": 161,
   "metadata": {
    "collapsed": true
   },
   "outputs": [],
   "source": [
    "nmf_model = NMF(n_components=30, random_state=1, alpha=.1, l1_ratio=.5).fit(tfidf_vectorized)"
   ]
  },
  {
   "cell_type": "code",
   "execution_count": 162,
   "metadata": {
    "collapsed": true
   },
   "outputs": [],
   "source": [
    "nmf_output = nmf_model.transform(tfidf_vectorized)"
   ]
  },
  {
   "cell_type": "code",
   "execution_count": 163,
   "metadata": {},
   "outputs": [
    {
     "data": {
      "text/plain": [
       "(10406, 30)"
      ]
     },
     "execution_count": 163,
     "metadata": {},
     "output_type": "execute_result"
    }
   ],
   "source": [
    "nmf_output.shape"
   ]
  },
  {
   "cell_type": "markdown",
   "metadata": {},
   "source": [
    "## 4.3 Analyse"
   ]
  },
  {
   "cell_type": "markdown",
   "metadata": {},
   "source": [
    "### Topics / Words"
   ]
  },
  {
   "cell_type": "code",
   "execution_count": 164,
   "metadata": {},
   "outputs": [
    {
     "data": {
      "text/html": [
       "<div>\n",
       "<style>\n",
       "    .dataframe thead tr:only-child th {\n",
       "        text-align: right;\n",
       "    }\n",
       "\n",
       "    .dataframe thead th {\n",
       "        text-align: left;\n",
       "    }\n",
       "\n",
       "    .dataframe tbody tr th {\n",
       "        vertical-align: top;\n",
       "    }\n",
       "</style>\n",
       "<table border=\"1\" class=\"dataframe\">\n",
       "  <thead>\n",
       "    <tr style=\"text-align: right;\">\n",
       "      <th></th>\n",
       "      <th>Word 0</th>\n",
       "      <th>Word 1</th>\n",
       "      <th>Word 2</th>\n",
       "      <th>Word 3</th>\n",
       "      <th>Word 4</th>\n",
       "      <th>Word 5</th>\n",
       "      <th>Word 6</th>\n",
       "      <th>Word 7</th>\n",
       "      <th>Word 8</th>\n",
       "      <th>Word 9</th>\n",
       "    </tr>\n",
       "  </thead>\n",
       "  <tbody>\n",
       "    <tr>\n",
       "      <th>Topic 0</th>\n",
       "      <td>use</td>\n",
       "      <td>would</td>\n",
       "      <td>like</td>\n",
       "      <td>time</td>\n",
       "      <td>way</td>\n",
       "      <td>one</td>\n",
       "      <td>code</td>\n",
       "      <td>work</td>\n",
       "      <td>want</td>\n",
       "      <td>differ</td>\n",
       "    </tr>\n",
       "    <tr>\n",
       "      <th>Topic 1</th>\n",
       "      <td>android</td>\n",
       "      <td>layout</td>\n",
       "      <td>com</td>\n",
       "      <td>support</td>\n",
       "      <td>compile</td>\n",
       "      <td>view</td>\n",
       "      <td>dp</td>\n",
       "      <td>parent</td>\n",
       "      <td>intent</td>\n",
       "      <td>google</td>\n",
       "    </tr>\n",
       "    <tr>\n",
       "      <th>Topic 2</th>\n",
       "      <td>std</td>\n",
       "      <td>vector</td>\n",
       "      <td>cout</td>\n",
       "      <td>include</td>\n",
       "      <td>const</td>\n",
       "      <td>template</td>\n",
       "      <td>endl</td>\n",
       "      <td>typename</td>\n",
       "      <td>auto</td>\n",
       "      <td>char</td>\n",
       "    </tr>\n",
       "    <tr>\n",
       "      <th>Topic 3</th>\n",
       "      <td>px</td>\n",
       "      <td>width</td>\n",
       "      <td>color</td>\n",
       "      <td>height</td>\n",
       "      <td>text</td>\n",
       "      <td>border</td>\n",
       "      <td>background</td>\n",
       "      <td>font</td>\n",
       "      <td>imag</td>\n",
       "      <td>css</td>\n",
       "    </tr>\n",
       "    <tr>\n",
       "      <th>Topic 4</th>\n",
       "      <td>java</td>\n",
       "      <td>at</td>\n",
       "      <td>org</td>\n",
       "      <td>lang</td>\n",
       "      <td>internal</td>\n",
       "      <td>com</td>\n",
       "      <td>apache</td>\n",
       "      <td>activitythread</td>\n",
       "      <td>util</td>\n",
       "      <td>gradle</td>\n",
       "    </tr>\n",
       "    <tr>\n",
       "      <th>Topic 5</th>\n",
       "      <td>angular</td>\n",
       "      <td>compon</td>\n",
       "      <td>cli</td>\n",
       "      <td>import</td>\n",
       "      <td>ng</td>\n",
       "      <td>component</td>\n",
       "      <td>modul</td>\n",
       "      <td>ts</td>\n",
       "      <td>from</td>\n",
       "      <td>export</td>\n",
       "    </tr>\n",
       "    <tr>\n",
       "      <th>Topic 6</th>\n",
       "      <td>file</td>\n",
       "      <td>path</td>\n",
       "      <td>upload</td>\n",
       "      <td>folder</td>\n",
       "      <td>json</td>\n",
       "      <td>open</td>\n",
       "      <td>directori</td>\n",
       "      <td>download</td>\n",
       "      <td>txt</td>\n",
       "      <td>read</td>\n",
       "    </tr>\n",
       "    <tr>\n",
       "      <th>Topic 7</th>\n",
       "      <td>div</td>\n",
       "      <td>class</td>\n",
       "      <td>button</td>\n",
       "      <td>html</td>\n",
       "      <td>span</td>\n",
       "      <td>item</td>\n",
       "      <td>li</td>\n",
       "      <td>form</td>\n",
       "      <td>click</td>\n",
       "      <td>page</td>\n",
       "    </tr>\n",
       "    <tr>\n",
       "      <th>Topic 8</th>\n",
       "      <td>user</td>\n",
       "      <td>request</td>\n",
       "      <td>token</td>\n",
       "      <td>api</td>\n",
       "      <td>http</td>\n",
       "      <td>url</td>\n",
       "      <td>client</td>\n",
       "      <td>firebas</td>\n",
       "      <td>com</td>\n",
       "      <td>server</td>\n",
       "    </tr>\n",
       "    <tr>\n",
       "      <th>Topic 9</th>\n",
       "      <td>foo</td>\n",
       "      <td>bar</td>\n",
       "      <td>baz</td>\n",
       "      <td>const</td>\n",
       "      <td>class</td>\n",
       "      <td>compil</td>\n",
       "      <td>void</td>\n",
       "      <td>template</td>\n",
       "      <td>method</td>\n",
       "      <td>static</td>\n",
       "    </tr>\n",
       "    <tr>\n",
       "      <th>Topic 10</th>\n",
       "      <td>data</td>\n",
       "      <td>df</td>\n",
       "      <td>column</td>\n",
       "      <td>row</td>\n",
       "      <td>datafram</td>\n",
       "      <td>spark</td>\n",
       "      <td>date</td>\n",
       "      <td>panda</td>\n",
       "      <td>tabl</td>\n",
       "      <td>pd</td>\n",
       "    </tr>\n",
       "    <tr>\n",
       "      <th>Topic 11</th>\n",
       "      <td>react</td>\n",
       "      <td>nativ</td>\n",
       "      <td>router</td>\n",
       "      <td>compon</td>\n",
       "      <td>native</td>\n",
       "      <td>redux</td>\n",
       "      <td>render</td>\n",
       "      <td>import</td>\n",
       "      <td>props</td>\n",
       "      <td>component</td>\n",
       "    </tr>\n",
       "    <tr>\n",
       "      <th>Topic 12</th>\n",
       "      <td>swift</td>\n",
       "      <td>xcode</td>\n",
       "      <td>self</td>\n",
       "      <td>let</td>\n",
       "      <td>func</td>\n",
       "      <td>nil</td>\n",
       "      <td>error</td>\n",
       "      <td>io</td>\n",
       "      <td>beta</td>\n",
       "      <td>view</td>\n",
       "    </tr>\n",
       "    <tr>\n",
       "      <th>Topic 13</th>\n",
       "      <td>js</td>\n",
       "      <td>node</td>\n",
       "      <td>webpack</td>\n",
       "      <td>modules</td>\n",
       "      <td>loader</td>\n",
       "      <td>script</td>\n",
       "      <td>module</td>\n",
       "      <td>require</td>\n",
       "      <td>npm</td>\n",
       "      <td>src</td>\n",
       "    </tr>\n",
       "    <tr>\n",
       "      <th>Topic 14</th>\n",
       "      <td>function</td>\n",
       "      <td>var</td>\n",
       "      <td>return</td>\n",
       "      <td>log</td>\n",
       "      <td>console</td>\n",
       "      <td>call</td>\n",
       "      <td>func</td>\n",
       "      <td>async</td>\n",
       "      <td>lambda</td>\n",
       "      <td>pass</td>\n",
       "    </tr>\n",
       "    <tr>\n",
       "      <th>Topic 15</th>\n",
       "      <td>string</td>\n",
       "      <td>public</td>\n",
       "      <td>class</td>\n",
       "      <td>void</td>\n",
       "      <td>new</td>\n",
       "      <td>static</td>\n",
       "      <td>method</td>\n",
       "      <td>private</td>\n",
       "      <td>return</td>\n",
       "      <td>null</td>\n",
       "    </tr>\n",
       "    <tr>\n",
       "      <th>Topic 16</th>\n",
       "      <td>project</td>\n",
       "      <td>studio</td>\n",
       "      <td>error</td>\n",
       "      <td>instal</td>\n",
       "      <td>build</td>\n",
       "      <td>visual</td>\n",
       "      <td>packag</td>\n",
       "      <td>version</td>\n",
       "      <td>npm</td>\n",
       "      <td>run</td>\n",
       "    </tr>\n",
       "    <tr>\n",
       "      <th>Topic 17</th>\n",
       "      <td>net</td>\n",
       "      <td>core</td>\n",
       "      <td>asp</td>\n",
       "      <td>framework</td>\n",
       "      <td>microsoft</td>\n",
       "      <td>mvc</td>\n",
       "      <td>web</td>\n",
       "      <td>project</td>\n",
       "      <td>system</td>\n",
       "      <td>dotnet</td>\n",
       "    </tr>\n",
       "    <tr>\n",
       "      <th>Topic 18</th>\n",
       "      <td>docker</td>\n",
       "      <td>contain</td>\n",
       "      <td>compos</td>\n",
       "      <td>run</td>\n",
       "      <td>imag</td>\n",
       "      <td>host</td>\n",
       "      <td>daemon</td>\n",
       "      <td>command</td>\n",
       "      <td>swarm</td>\n",
       "      <td>compose</td>\n",
       "    </tr>\n",
       "    <tr>\n",
       "      <th>Topic 19</th>\n",
       "      <td>array</td>\n",
       "      <td>element</td>\n",
       "      <td>np</td>\n",
       "      <td>index</td>\n",
       "      <td>arr</td>\n",
       "      <td>length</td>\n",
       "      <td>numpi</td>\n",
       "      <td>valu</td>\n",
       "      <td>item</td>\n",
       "      <td>two</td>\n",
       "    </tr>\n",
       "    <tr>\n",
       "      <th>Topic 20</th>\n",
       "      <td>int</td>\n",
       "      <td>const</td>\n",
       "      <td>void</td>\n",
       "      <td>compil</td>\n",
       "      <td>struct</td>\n",
       "      <td>main</td>\n",
       "      <td>return</td>\n",
       "      <td>static</td>\n",
       "      <td>double</td>\n",
       "      <td>include</td>\n",
       "    </tr>\n",
       "    <tr>\n",
       "      <th>Topic 21</th>\n",
       "      <td>test</td>\n",
       "      <td>run</td>\n",
       "      <td>unit</td>\n",
       "      <td>assert</td>\n",
       "      <td>fail</td>\n",
       "      <td>junit</td>\n",
       "      <td>spec</td>\n",
       "      <td>mock</td>\n",
       "      <td>runner</td>\n",
       "      <td>jest</td>\n",
       "    </tr>\n",
       "    <tr>\n",
       "      <th>Topic 22</th>\n",
       "      <td>list</td>\n",
       "      <td>stream</td>\n",
       "      <td>item</td>\n",
       "      <td>element</td>\n",
       "      <td>map</td>\n",
       "      <td>collect</td>\n",
       "      <td>sort</td>\n",
       "      <td>for</td>\n",
       "      <td>in</td>\n",
       "      <td>collectors</td>\n",
       "    </tr>\n",
       "    <tr>\n",
       "      <th>Topic 23</th>\n",
       "      <td>id</td>\n",
       "      <td>name</td>\n",
       "      <td>user</td>\n",
       "      <td>tabl</td>\n",
       "      <td>layout</td>\n",
       "      <td>select</td>\n",
       "      <td>queri</td>\n",
       "      <td>parent</td>\n",
       "      <td>group</td>\n",
       "      <td>product</td>\n",
       "    </tr>\n",
       "    <tr>\n",
       "      <th>Topic 24</th>\n",
       "      <td>app</td>\n",
       "      <td>io</td>\n",
       "      <td>devic</td>\n",
       "      <td>notif</td>\n",
       "      <td>xcode</td>\n",
       "      <td>firebas</td>\n",
       "      <td>store</td>\n",
       "      <td>develop</td>\n",
       "      <td>googl</td>\n",
       "      <td>icon</td>\n",
       "    </tr>\n",
       "    <tr>\n",
       "      <th>Topic 25</th>\n",
       "      <td>python</td>\n",
       "      <td>py</td>\n",
       "      <td>import</td>\n",
       "      <td>in</td>\n",
       "      <td>line</td>\n",
       "      <td>lib</td>\n",
       "      <td>from</td>\n",
       "      <td>packages</td>\n",
       "      <td>self</td>\n",
       "      <td>tensorflow</td>\n",
       "    </tr>\n",
       "    <tr>\n",
       "      <th>Topic 26</th>\n",
       "      <td>type</td>\n",
       "      <td>input</td>\n",
       "      <td>struct</td>\n",
       "      <td>name</td>\n",
       "      <td>class</td>\n",
       "      <td>error</td>\n",
       "      <td>typescript</td>\n",
       "      <td>template</td>\n",
       "      <td>typename</td>\n",
       "      <td>value</td>\n",
       "    </tr>\n",
       "    <tr>\n",
       "      <th>Topic 27</th>\n",
       "      <td>git</td>\n",
       "      <td>branch</td>\n",
       "      <td>commit</td>\n",
       "      <td>merg</td>\n",
       "      <td>push</td>\n",
       "      <td>repo</td>\n",
       "      <td>master</td>\n",
       "      <td>checkout</td>\n",
       "      <td>repositori</td>\n",
       "      <td>diff</td>\n",
       "    </tr>\n",
       "    <tr>\n",
       "      <th>Topic 28</th>\n",
       "      <td>this</td>\n",
       "      <td>state</td>\n",
       "      <td>form</td>\n",
       "      <td>the</td>\n",
       "      <td>compon</td>\n",
       "      <td>component</td>\n",
       "      <td>return</td>\n",
       "      <td>props</td>\n",
       "      <td>const</td>\n",
       "      <td>value</td>\n",
       "    </tr>\n",
       "    <tr>\n",
       "      <th>Topic 29</th>\n",
       "      <td>key</td>\n",
       "      <td>dict</td>\n",
       "      <td>map</td>\n",
       "      <td>string</td>\n",
       "      <td>plist</td>\n",
       "      <td>value</td>\n",
       "      <td>ssh</td>\n",
       "      <td>valu</td>\n",
       "      <td>dictionari</td>\n",
       "      <td>item</td>\n",
       "    </tr>\n",
       "  </tbody>\n",
       "</table>\n",
       "</div>"
      ],
      "text/plain": [
       "            Word 0   Word 1   Word 2     Word 3     Word 4     Word 5  \\\n",
       "Topic 0        use    would     like       time        way        one   \n",
       "Topic 1    android   layout      com    support    compile       view   \n",
       "Topic 2        std   vector     cout    include      const   template   \n",
       "Topic 3         px    width    color     height       text     border   \n",
       "Topic 4       java       at      org       lang   internal        com   \n",
       "Topic 5    angular   compon      cli     import         ng  component   \n",
       "Topic 6       file     path   upload     folder       json       open   \n",
       "Topic 7        div    class   button       html       span       item   \n",
       "Topic 8       user  request    token        api       http        url   \n",
       "Topic 9        foo      bar      baz      const      class     compil   \n",
       "Topic 10      data       df   column        row   datafram      spark   \n",
       "Topic 11     react    nativ   router     compon     native      redux   \n",
       "Topic 12     swift    xcode     self        let       func        nil   \n",
       "Topic 13        js     node  webpack    modules     loader     script   \n",
       "Topic 14  function      var   return        log    console       call   \n",
       "Topic 15    string   public    class       void        new     static   \n",
       "Topic 16   project   studio    error     instal      build     visual   \n",
       "Topic 17       net     core      asp  framework  microsoft        mvc   \n",
       "Topic 18    docker  contain   compos        run       imag       host   \n",
       "Topic 19     array  element       np      index        arr     length   \n",
       "Topic 20       int    const     void     compil     struct       main   \n",
       "Topic 21      test      run     unit     assert       fail      junit   \n",
       "Topic 22      list   stream     item    element        map    collect   \n",
       "Topic 23        id     name     user       tabl     layout     select   \n",
       "Topic 24       app       io    devic      notif      xcode    firebas   \n",
       "Topic 25    python       py   import         in       line        lib   \n",
       "Topic 26      type    input   struct       name      class      error   \n",
       "Topic 27       git   branch   commit       merg       push       repo   \n",
       "Topic 28      this    state     form        the     compon  component   \n",
       "Topic 29       key     dict      map     string      plist      value   \n",
       "\n",
       "              Word 6          Word 7      Word 8      Word 9  \n",
       "Topic 0         code            work        want      differ  \n",
       "Topic 1           dp          parent      intent      google  \n",
       "Topic 2         endl        typename        auto        char  \n",
       "Topic 3   background            font        imag         css  \n",
       "Topic 4       apache  activitythread        util      gradle  \n",
       "Topic 5        modul              ts        from      export  \n",
       "Topic 6    directori        download         txt        read  \n",
       "Topic 7           li            form       click        page  \n",
       "Topic 8       client         firebas         com      server  \n",
       "Topic 9         void        template      method      static  \n",
       "Topic 10        date           panda        tabl          pd  \n",
       "Topic 11      render          import       props   component  \n",
       "Topic 12       error              io        beta        view  \n",
       "Topic 13      module         require         npm         src  \n",
       "Topic 14        func           async      lambda        pass  \n",
       "Topic 15      method         private      return        null  \n",
       "Topic 16      packag         version         npm         run  \n",
       "Topic 17         web         project      system      dotnet  \n",
       "Topic 18      daemon         command       swarm     compose  \n",
       "Topic 19       numpi            valu        item         two  \n",
       "Topic 20      return          static      double     include  \n",
       "Topic 21        spec            mock      runner        jest  \n",
       "Topic 22        sort             for          in  collectors  \n",
       "Topic 23       queri          parent       group     product  \n",
       "Topic 24       store         develop       googl        icon  \n",
       "Topic 25        from        packages        self  tensorflow  \n",
       "Topic 26  typescript        template    typename       value  \n",
       "Topic 27      master        checkout  repositori        diff  \n",
       "Topic 28      return           props       const       value  \n",
       "Topic 29         ssh            valu  dictionari        item  "
      ]
     },
     "execution_count": 164,
     "metadata": {},
     "output_type": "execute_result"
    }
   ],
   "source": [
    "topic_keywords = show_topics(tfidf_feature_names, nmf_model, n_words=10)        \n",
    "\n",
    "# Topic - Keywords Dataframe\n",
    "df_topic_keywords = pd.DataFrame(topic_keywords)\n",
    "df_topic_keywords.columns = ['Word '+str(i) for i in range(df_topic_keywords.shape[1])]\n",
    "df_topic_keywords.index = ['Topic '+str(i) for i in range(df_topic_keywords.shape[0])]\n",
    "df_topic_keywords"
   ]
  },
  {
   "cell_type": "markdown",
   "metadata": {},
   "source": [
    "### Topics / Docs"
   ]
  },
  {
   "cell_type": "code",
   "execution_count": 165,
   "metadata": {
    "collapsed": true
   },
   "outputs": [],
   "source": [
    "topicnames = [\"Topic\" + str(i) for i in range(nmf_model.n_components)]\n",
    "\n",
    "# id des posts\n",
    "docnames = [\"Doc\" + str(i) for i in range(len(x_train))]\n",
    "\n",
    "# On crée un dataframe\n",
    "df_document_topic = pd.DataFrame(np.round(nmf_output, 4), columns=topicnames, index=docnames)\n",
    "\n",
    "# On rajoute une colonne contenant le numéro du topic prédominant\n",
    "dominant_topic = np.argmax(df_document_topic.values, axis=1)\n",
    "df_document_topic['dominant_topic'] = dominant_topic"
   ]
  },
  {
   "cell_type": "code",
   "execution_count": 166,
   "metadata": {},
   "outputs": [
    {
     "data": {
      "text/html": [
       "<div>\n",
       "<style>\n",
       "    .dataframe thead tr:only-child th {\n",
       "        text-align: right;\n",
       "    }\n",
       "\n",
       "    .dataframe thead th {\n",
       "        text-align: left;\n",
       "    }\n",
       "\n",
       "    .dataframe tbody tr th {\n",
       "        vertical-align: top;\n",
       "    }\n",
       "</style>\n",
       "<table border=\"1\" class=\"dataframe\">\n",
       "  <thead>\n",
       "    <tr style=\"text-align: right;\">\n",
       "      <th></th>\n",
       "      <th>Topic0</th>\n",
       "      <th>Topic1</th>\n",
       "      <th>Topic2</th>\n",
       "      <th>Topic3</th>\n",
       "      <th>Topic4</th>\n",
       "      <th>Topic5</th>\n",
       "      <th>Topic6</th>\n",
       "      <th>Topic7</th>\n",
       "      <th>Topic8</th>\n",
       "      <th>Topic9</th>\n",
       "      <th>...</th>\n",
       "      <th>Topic21</th>\n",
       "      <th>Topic22</th>\n",
       "      <th>Topic23</th>\n",
       "      <th>Topic24</th>\n",
       "      <th>Topic25</th>\n",
       "      <th>Topic26</th>\n",
       "      <th>Topic27</th>\n",
       "      <th>Topic28</th>\n",
       "      <th>Topic29</th>\n",
       "      <th>dominant_topic</th>\n",
       "    </tr>\n",
       "  </thead>\n",
       "  <tbody>\n",
       "    <tr>\n",
       "      <th>Doc0</th>\n",
       "      <td>0.0123</td>\n",
       "      <td>0.0</td>\n",
       "      <td>0.0</td>\n",
       "      <td>0.0000</td>\n",
       "      <td>0.0</td>\n",
       "      <td>0.0</td>\n",
       "      <td>0.0140</td>\n",
       "      <td>0.0000</td>\n",
       "      <td>0.0000</td>\n",
       "      <td>0.0000</td>\n",
       "      <td>...</td>\n",
       "      <td>0.0000</td>\n",
       "      <td>0.000</td>\n",
       "      <td>0.0000</td>\n",
       "      <td>0.0</td>\n",
       "      <td>0.0000</td>\n",
       "      <td>0.0000</td>\n",
       "      <td>0.1955</td>\n",
       "      <td>0.0000</td>\n",
       "      <td>0.0000</td>\n",
       "      <td>27</td>\n",
       "    </tr>\n",
       "    <tr>\n",
       "      <th>Doc1</th>\n",
       "      <td>0.0144</td>\n",
       "      <td>0.0</td>\n",
       "      <td>0.0</td>\n",
       "      <td>0.0154</td>\n",
       "      <td>0.0</td>\n",
       "      <td>0.0</td>\n",
       "      <td>0.0000</td>\n",
       "      <td>0.0000</td>\n",
       "      <td>0.0000</td>\n",
       "      <td>0.0584</td>\n",
       "      <td>...</td>\n",
       "      <td>0.0000</td>\n",
       "      <td>0.000</td>\n",
       "      <td>0.0000</td>\n",
       "      <td>0.0</td>\n",
       "      <td>0.0000</td>\n",
       "      <td>0.0000</td>\n",
       "      <td>0.0000</td>\n",
       "      <td>0.0000</td>\n",
       "      <td>0.0004</td>\n",
       "      <td>9</td>\n",
       "    </tr>\n",
       "    <tr>\n",
       "      <th>Doc2</th>\n",
       "      <td>0.0164</td>\n",
       "      <td>0.0</td>\n",
       "      <td>0.0</td>\n",
       "      <td>0.0000</td>\n",
       "      <td>0.0</td>\n",
       "      <td>0.0</td>\n",
       "      <td>0.0000</td>\n",
       "      <td>0.0108</td>\n",
       "      <td>0.0106</td>\n",
       "      <td>0.0000</td>\n",
       "      <td>...</td>\n",
       "      <td>0.0012</td>\n",
       "      <td>0.000</td>\n",
       "      <td>0.0105</td>\n",
       "      <td>0.0</td>\n",
       "      <td>0.0000</td>\n",
       "      <td>0.0046</td>\n",
       "      <td>0.0000</td>\n",
       "      <td>0.0264</td>\n",
       "      <td>0.0000</td>\n",
       "      <td>28</td>\n",
       "    </tr>\n",
       "    <tr>\n",
       "      <th>Doc3</th>\n",
       "      <td>0.0159</td>\n",
       "      <td>0.0</td>\n",
       "      <td>0.0</td>\n",
       "      <td>0.0000</td>\n",
       "      <td>0.0</td>\n",
       "      <td>0.0</td>\n",
       "      <td>0.0000</td>\n",
       "      <td>0.0000</td>\n",
       "      <td>0.0026</td>\n",
       "      <td>0.0000</td>\n",
       "      <td>...</td>\n",
       "      <td>0.0103</td>\n",
       "      <td>0.002</td>\n",
       "      <td>0.0504</td>\n",
       "      <td>0.0</td>\n",
       "      <td>0.0000</td>\n",
       "      <td>0.0000</td>\n",
       "      <td>0.0000</td>\n",
       "      <td>0.0000</td>\n",
       "      <td>0.0000</td>\n",
       "      <td>23</td>\n",
       "    </tr>\n",
       "    <tr>\n",
       "      <th>Doc4</th>\n",
       "      <td>0.0000</td>\n",
       "      <td>0.0</td>\n",
       "      <td>0.0</td>\n",
       "      <td>0.0000</td>\n",
       "      <td>0.0</td>\n",
       "      <td>0.0</td>\n",
       "      <td>0.0259</td>\n",
       "      <td>0.0000</td>\n",
       "      <td>0.0000</td>\n",
       "      <td>0.0000</td>\n",
       "      <td>...</td>\n",
       "      <td>0.0000</td>\n",
       "      <td>0.000</td>\n",
       "      <td>0.0000</td>\n",
       "      <td>0.0</td>\n",
       "      <td>0.1212</td>\n",
       "      <td>0.0000</td>\n",
       "      <td>0.0000</td>\n",
       "      <td>0.0000</td>\n",
       "      <td>0.0000</td>\n",
       "      <td>25</td>\n",
       "    </tr>\n",
       "  </tbody>\n",
       "</table>\n",
       "<p>5 rows × 31 columns</p>\n",
       "</div>"
      ],
      "text/plain": [
       "      Topic0  Topic1  Topic2  Topic3  Topic4  Topic5  Topic6  Topic7  Topic8  \\\n",
       "Doc0  0.0123     0.0     0.0  0.0000     0.0     0.0  0.0140  0.0000  0.0000   \n",
       "Doc1  0.0144     0.0     0.0  0.0154     0.0     0.0  0.0000  0.0000  0.0000   \n",
       "Doc2  0.0164     0.0     0.0  0.0000     0.0     0.0  0.0000  0.0108  0.0106   \n",
       "Doc3  0.0159     0.0     0.0  0.0000     0.0     0.0  0.0000  0.0000  0.0026   \n",
       "Doc4  0.0000     0.0     0.0  0.0000     0.0     0.0  0.0259  0.0000  0.0000   \n",
       "\n",
       "      Topic9       ...        Topic21  Topic22  Topic23  Topic24  Topic25  \\\n",
       "Doc0  0.0000       ...         0.0000    0.000   0.0000      0.0   0.0000   \n",
       "Doc1  0.0584       ...         0.0000    0.000   0.0000      0.0   0.0000   \n",
       "Doc2  0.0000       ...         0.0012    0.000   0.0105      0.0   0.0000   \n",
       "Doc3  0.0000       ...         0.0103    0.002   0.0504      0.0   0.0000   \n",
       "Doc4  0.0000       ...         0.0000    0.000   0.0000      0.0   0.1212   \n",
       "\n",
       "      Topic26  Topic27  Topic28  Topic29  dominant_topic  \n",
       "Doc0   0.0000   0.1955   0.0000   0.0000              27  \n",
       "Doc1   0.0000   0.0000   0.0000   0.0004               9  \n",
       "Doc2   0.0046   0.0000   0.0264   0.0000              28  \n",
       "Doc3   0.0000   0.0000   0.0000   0.0000              23  \n",
       "Doc4   0.0000   0.0000   0.0000   0.0000              25  \n",
       "\n",
       "[5 rows x 31 columns]"
      ]
     },
     "execution_count": 166,
     "metadata": {},
     "output_type": "execute_result"
    }
   ],
   "source": [
    "df_document_topic.head()"
   ]
  },
  {
   "cell_type": "markdown",
   "metadata": {},
   "source": [
    "## 4.4 Matrice Tags / Topics"
   ]
  },
  {
   "cell_type": "code",
   "execution_count": 167,
   "metadata": {
    "collapsed": true
   },
   "outputs": [],
   "source": [
    "tags_by_topics_nmf = buildTagByTopicsMatrix(nmf_model,nmf_output, frequent_tags, documents_by_tags )"
   ]
  },
  {
   "cell_type": "code",
   "execution_count": 168,
   "metadata": {},
   "outputs": [
    {
     "data": {
      "text/plain": [
       "(30, 2114)"
      ]
     },
     "execution_count": 168,
     "metadata": {},
     "output_type": "execute_result"
    }
   ],
   "source": [
    "tags_by_topics_nmf.shape"
   ]
  },
  {
   "cell_type": "markdown",
   "metadata": {
    "collapsed": true
   },
   "source": [
    "## 4.5 Prédiction"
   ]
  },
  {
   "cell_type": "markdown",
   "metadata": {},
   "source": [
    "### Prédiction des topics pour notre jeu de tests"
   ]
  },
  {
   "cell_type": "code",
   "execution_count": 169,
   "metadata": {
    "collapsed": true
   },
   "outputs": [],
   "source": [
    "y_predicted_nmf = getPostsTagsPrediction(x_test, 5, tags_by_topics_nmf, frequent_tags, tfidf_vectorizer, nmf_model)"
   ]
  },
  {
   "cell_type": "code",
   "execution_count": 170,
   "metadata": {},
   "outputs": [
    {
     "data": {
      "text/html": [
       "<div>\n",
       "<style>\n",
       "    .dataframe thead tr:only-child th {\n",
       "        text-align: right;\n",
       "    }\n",
       "\n",
       "    .dataframe thead th {\n",
       "        text-align: left;\n",
       "    }\n",
       "\n",
       "    .dataframe tbody tr th {\n",
       "        vertical-align: top;\n",
       "    }\n",
       "</style>\n",
       "<table border=\"1\" class=\"dataframe\">\n",
       "  <thead>\n",
       "    <tr style=\"text-align: right;\">\n",
       "      <th></th>\n",
       "      <th>TAGS_P</th>\n",
       "    </tr>\n",
       "  </thead>\n",
       "  <tbody>\n",
       "    <tr>\n",
       "      <th>51690</th>\n",
       "      <td>[android, java, android-studio, javascript, c#]</td>\n",
       "    </tr>\n",
       "    <tr>\n",
       "      <th>51070</th>\n",
       "      <td>[android, java, javascript, android-studio, c#]</td>\n",
       "    </tr>\n",
       "    <tr>\n",
       "      <th>60081</th>\n",
       "      <td>[javascript, android, python, java, angular]</td>\n",
       "    </tr>\n",
       "    <tr>\n",
       "      <th>27541</th>\n",
       "      <td>[javascript, css, html, angular, jquery]</td>\n",
       "    </tr>\n",
       "    <tr>\n",
       "      <th>56555</th>\n",
       "      <td>[reactjs, react-native, javascript, android, ios]</td>\n",
       "    </tr>\n",
       "  </tbody>\n",
       "</table>\n",
       "</div>"
      ],
      "text/plain": [
       "                                                  TAGS_P\n",
       "51690    [android, java, android-studio, javascript, c#]\n",
       "51070    [android, java, javascript, android-studio, c#]\n",
       "60081       [javascript, android, python, java, angular]\n",
       "27541           [javascript, css, html, angular, jquery]\n",
       "56555  [reactjs, react-native, javascript, android, ios]"
      ]
     },
     "execution_count": 170,
     "metadata": {},
     "output_type": "execute_result"
    }
   ],
   "source": [
    "y_predicted_nmf.head()"
   ]
  },
  {
   "cell_type": "code",
   "execution_count": 171,
   "metadata": {},
   "outputs": [
    {
     "name": "stdout",
     "output_type": "stream",
     "text": [
      "Accuracy of prediction : 0.282287230068\n"
     ]
    }
   ],
   "source": [
    "predictionAccuracy(y_predicted_lda, y_test)"
   ]
  },
  {
   "cell_type": "markdown",
   "metadata": {},
   "source": [
    "### Evaluation de la prédiction du nouveau sample"
   ]
  },
  {
   "cell_type": "code",
   "execution_count": 172,
   "metadata": {},
   "outputs": [
    {
     "name": "stdout",
     "output_type": "stream",
     "text": [
      "Accuracy of prediction : 0.27689\n"
     ]
    }
   ],
   "source": [
    "y_predicted_test2 = getPostsTagsPrediction(x_test2, 5,tags_by_topics_nmf,frequent_tags, tfidf_vectorizer,  nmf_model )\n",
    "result = predictionAccuracy(y_predicted_test2, y_test2)"
   ]
  }
 ],
 "metadata": {
  "kernelspec": {
   "display_name": "Python 3",
   "language": "python",
   "name": "python3"
  },
  "language_info": {
   "codemirror_mode": {
    "name": "ipython",
    "version": 3
   },
   "file_extension": ".py",
   "mimetype": "text/x-python",
   "name": "python",
   "nbconvert_exporter": "python",
   "pygments_lexer": "ipython3",
   "version": "3.6.2"
  }
 },
 "nbformat": 4,
 "nbformat_minor": 2
}
