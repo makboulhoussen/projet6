{
 "cells": [
  {
   "cell_type": "markdown",
   "metadata": {},
   "source": [
    "# Projet 6 : Catégorisez automatiquement des questions\n",
    "# <u>B. Topic Modeling</u> <br/>"
   ]
  },
  {
   "cell_type": "markdown",
   "metadata": {},
   "source": [
    "# Le contexte\n",
    "\n",
    "Afin d'aider les utilisateurs de Stack Overflow dans leur soumission de question, nous devons mettre en place un système de suggestion de tags. Pour celà nous allons nous baser sur les techniques de machine learning capable en fonction du texte saisi par l'utilisateur de déterminer des tags pertinents.\n",
    "\n",
    "Dans ce notebook nous allons essayer des approches non supervisées."
   ]
  },
  {
   "cell_type": "code",
   "execution_count": 1,
   "metadata": {
    "collapsed": true
   },
   "outputs": [],
   "source": [
    "import numpy as np\n",
    "import pandas as pd\n",
    "import matplotlib.pyplot as plt\n",
    "\n",
    "from collections import Counter\n",
    "\n",
    "from bs4 import BeautifulSoup\n",
    "import unicodedata\n",
    "import re\n",
    "import string\n",
    "from nltk.corpus import stopwords\n",
    "from nltk.stem.porter import PorterStemmer\n",
    "from nltk.tokenize.toktok import ToktokTokenizer\n",
    "from contractions import CONTRACTION_MAP\n",
    "\n",
    "\n",
    "from sklearn import model_selection\n",
    "from sklearn.model_selection import GridSearchCV\n",
    "from sklearn.feature_extraction.text import TfidfVectorizer, CountVectorizer\n",
    "from sklearn.decomposition import NMF, LatentDirichletAllocation\n",
    "\n",
    "%matplotlib inline"
   ]
  },
  {
   "cell_type": "markdown",
   "metadata": {},
   "source": [
    "# 1. Chargement des données pré-traitées"
   ]
  },
  {
   "cell_type": "markdown",
   "metadata": {},
   "source": [
    "Nous allons charger les données qui ont été préalablement nettoyées et traitées."
   ]
  },
  {
   "cell_type": "code",
   "execution_count": 2,
   "metadata": {
    "collapsed": true
   },
   "outputs": [],
   "source": [
    "df = pd.read_csv('cleaned_data.csv')\n",
    "#replace NaN by empty string\n",
    "df = df.replace(np.nan, '', regex=True)"
   ]
  },
  {
   "cell_type": "code",
   "execution_count": 3,
   "metadata": {},
   "outputs": [
    {
     "data": {
      "text/plain": [
       "(64432, 7)"
      ]
     },
     "execution_count": 3,
     "metadata": {},
     "output_type": "execute_result"
    }
   ],
   "source": [
    "df.shape"
   ]
  },
  {
   "cell_type": "code",
   "execution_count": 4,
   "metadata": {},
   "outputs": [
    {
     "data": {
      "text/html": [
       "<div>\n",
       "<style>\n",
       "    .dataframe thead tr:only-child th {\n",
       "        text-align: right;\n",
       "    }\n",
       "\n",
       "    .dataframe thead th {\n",
       "        text-align: left;\n",
       "    }\n",
       "\n",
       "    .dataframe tbody tr th {\n",
       "        vertical-align: top;\n",
       "    }\n",
       "</style>\n",
       "<table border=\"1\" class=\"dataframe\">\n",
       "  <thead>\n",
       "    <tr style=\"text-align: right;\">\n",
       "      <th></th>\n",
       "      <th>TITLE</th>\n",
       "      <th>BODY</th>\n",
       "      <th>SCORE</th>\n",
       "      <th>TAGS</th>\n",
       "      <th>TITLE_P</th>\n",
       "      <th>BODY_P</th>\n",
       "      <th>TAGS_P</th>\n",
       "    </tr>\n",
       "  </thead>\n",
       "  <tbody>\n",
       "    <tr>\n",
       "      <th>0</th>\n",
       "      <td>Java generics variable &lt;T&gt; value</td>\n",
       "      <td>&lt;p&gt;At the moment I am using the following code...</td>\n",
       "      <td>6</td>\n",
       "      <td>&lt;java&gt;&lt;generics&gt;</td>\n",
       "      <td>java gener variabl valu</td>\n",
       "      <td>moment use follow code filter jpa reduc block ...</td>\n",
       "      <td>['java', 'generics']</td>\n",
       "    </tr>\n",
       "    <tr>\n",
       "      <th>1</th>\n",
       "      <td>How a value typed variable is copied when it i...</td>\n",
       "      <td>&lt;blockquote&gt;\\n  &lt;p&gt;Swift's string type is a va...</td>\n",
       "      <td>6</td>\n",
       "      <td>&lt;swift&gt;&lt;function&gt;&lt;value-type&gt;</td>\n",
       "      <td>valu type variabl copi pass function hold copi</td>\n",
       "      <td>swift string type valu type creat new string v...</td>\n",
       "      <td>['swift', 'function', 'value-type']</td>\n",
       "    </tr>\n",
       "    <tr>\n",
       "      <th>2</th>\n",
       "      <td>Error while waiting for device: The emulator p...</td>\n",
       "      <td>&lt;p&gt;I am a freshman for the development of the ...</td>\n",
       "      <td>6</td>\n",
       "      <td>&lt;android&gt;&lt;android-studio&gt;&lt;android-emulator&gt;&lt;avd&gt;</td>\n",
       "      <td>error wait devic emul process avd kill</td>\n",
       "      <td>freshman develop andriod suffer odd question r...</td>\n",
       "      <td>['android', 'android-studio', 'android-emulato...</td>\n",
       "    </tr>\n",
       "    <tr>\n",
       "      <th>3</th>\n",
       "      <td>gulp-inject not working with gulp-watch</td>\n",
       "      <td>&lt;p&gt;I am using gulp-inject to auto add SASS imp...</td>\n",
       "      <td>10</td>\n",
       "      <td>&lt;javascript&gt;&lt;node.js&gt;&lt;npm&gt;&lt;gulp&gt;&lt;gulp-watch&gt;</td>\n",
       "      <td>gulp inject work gulp watch</td>\n",
       "      <td>use gulp inject auto add sass import newli cre...</td>\n",
       "      <td>['javascript', 'node.js', 'npm', 'gulp', 'gulp...</td>\n",
       "    </tr>\n",
       "    <tr>\n",
       "      <th>4</th>\n",
       "      <td>React - Call function on props change</td>\n",
       "      <td>&lt;p&gt;My TranslationDetail component is passed an...</td>\n",
       "      <td>12</td>\n",
       "      <td>&lt;reactjs&gt;&lt;react-router&gt;</td>\n",
       "      <td>react call function prop chang</td>\n",
       "      <td>translationdetail compon pass id upon open bas...</td>\n",
       "      <td>['reactjs', 'react-router']</td>\n",
       "    </tr>\n",
       "  </tbody>\n",
       "</table>\n",
       "</div>"
      ],
      "text/plain": [
       "                                               TITLE  \\\n",
       "0                   Java generics variable <T> value   \n",
       "1  How a value typed variable is copied when it i...   \n",
       "2  Error while waiting for device: The emulator p...   \n",
       "3            gulp-inject not working with gulp-watch   \n",
       "4              React - Call function on props change   \n",
       "\n",
       "                                                BODY  SCORE  \\\n",
       "0  <p>At the moment I am using the following code...      6   \n",
       "1  <blockquote>\\n  <p>Swift's string type is a va...      6   \n",
       "2  <p>I am a freshman for the development of the ...      6   \n",
       "3  <p>I am using gulp-inject to auto add SASS imp...     10   \n",
       "4  <p>My TranslationDetail component is passed an...     12   \n",
       "\n",
       "                                               TAGS  \\\n",
       "0                                  <java><generics>   \n",
       "1                     <swift><function><value-type>   \n",
       "2  <android><android-studio><android-emulator><avd>   \n",
       "3      <javascript><node.js><npm><gulp><gulp-watch>   \n",
       "4                           <reactjs><react-router>   \n",
       "\n",
       "                                          TITLE_P  \\\n",
       "0                         java gener variabl valu   \n",
       "1  valu type variabl copi pass function hold copi   \n",
       "2          error wait devic emul process avd kill   \n",
       "3                     gulp inject work gulp watch   \n",
       "4                  react call function prop chang   \n",
       "\n",
       "                                              BODY_P  \\\n",
       "0  moment use follow code filter jpa reduc block ...   \n",
       "1  swift string type valu type creat new string v...   \n",
       "2  freshman develop andriod suffer odd question r...   \n",
       "3  use gulp inject auto add sass import newli cre...   \n",
       "4  translationdetail compon pass id upon open bas...   \n",
       "\n",
       "                                              TAGS_P  \n",
       "0                               ['java', 'generics']  \n",
       "1                ['swift', 'function', 'value-type']  \n",
       "2  ['android', 'android-studio', 'android-emulato...  \n",
       "3  ['javascript', 'node.js', 'npm', 'gulp', 'gulp...  \n",
       "4                        ['reactjs', 'react-router']  "
      ]
     },
     "execution_count": 4,
     "metadata": {},
     "output_type": "execute_result"
    }
   ],
   "source": [
    "df.head()"
   ]
  },
  {
   "cell_type": "code",
   "execution_count": 5,
   "metadata": {},
   "outputs": [
    {
     "data": {
      "text/plain": [
       "TITLE      object\n",
       "BODY       object\n",
       "SCORE       int64\n",
       "TAGS       object\n",
       "TITLE_P    object\n",
       "BODY_P     object\n",
       "TAGS_P     object\n",
       "dtype: object"
      ]
     },
     "execution_count": 5,
     "metadata": {},
     "output_type": "execute_result"
    }
   ],
   "source": [
    "df.dtypes"
   ]
  },
  {
   "cell_type": "markdown",
   "metadata": {},
   "source": [
    "La colonne TAGS_P est interprétée comme un chaîne de caractères. On va la forcer à être vue comme une list, ce qui sera plus simple pour les traitements."
   ]
  },
  {
   "cell_type": "code",
   "execution_count": 6,
   "metadata": {
    "collapsed": true
   },
   "outputs": [],
   "source": [
    "from ast import literal_eval\n",
    "df['TAGS_P'] = df['TAGS_P'].apply(literal_eval)"
   ]
  },
  {
   "cell_type": "markdown",
   "metadata": {},
   "source": [
    "# 2. Transformation des données"
   ]
  },
  {
   "cell_type": "markdown",
   "metadata": {},
   "source": [
    "## 2.1 Echantillonage"
   ]
  },
  {
   "cell_type": "markdown",
   "metadata": {},
   "source": [
    "Nous avons plus de 64 000 posts. Nous allons nous concentrer sur un échantillon de 20 000 posts."
   ]
  },
  {
   "cell_type": "code",
   "execution_count": 7,
   "metadata": {},
   "outputs": [],
   "source": [
    "df_sample = df.sample(20000)"
   ]
  },
  {
   "cell_type": "code",
   "execution_count": 8,
   "metadata": {},
   "outputs": [
    {
     "data": {
      "text/plain": [
       "(20000, 7)"
      ]
     },
     "execution_count": 8,
     "metadata": {},
     "output_type": "execute_result"
    }
   ],
   "source": [
    "df_sample.shape"
   ]
  },
  {
   "cell_type": "markdown",
   "metadata": {},
   "source": [
    "Séparons nos données pour garder 5000 posts pour la validation de nos modèles. Nous utiliserons les 15 000 autres lignes pour faire l'apprentissage."
   ]
  },
  {
   "cell_type": "code",
   "execution_count": 9,
   "metadata": {
    "collapsed": true
   },
   "outputs": [],
   "source": [
    "df_learn = df_sample.iloc[5000:, :].copy()\n",
    "df_validation = df_sample.iloc[:5000, :].copy()"
   ]
  },
  {
   "cell_type": "code",
   "execution_count": 10,
   "metadata": {},
   "outputs": [
    {
     "data": {
      "text/plain": [
       "(15000, 7)"
      ]
     },
     "metadata": {},
     "output_type": "display_data"
    },
    {
     "data": {
      "text/plain": [
       "(5000, 7)"
      ]
     },
     "metadata": {},
     "output_type": "display_data"
    }
   ],
   "source": [
    "display(df_learn.shape)\n",
    "display(df_validation.shape)"
   ]
  },
  {
   "cell_type": "markdown",
   "metadata": {},
   "source": [
    "** Analysons le nombre de mots que contient ce corpus.**"
   ]
  },
  {
   "cell_type": "code",
   "execution_count": 11,
   "metadata": {
    "collapsed": true
   },
   "outputs": [],
   "source": [
    "my_counter = Counter()\n",
    "for sentence in df_learn['TITLE_P']:\n",
    "    my_counter.update(sentence.split())\n",
    "for sentence in df_learn['BODY_P']:\n",
    "    my_counter.update(sentence.split())\n",
    "words_df = pd.DataFrame.from_dict(my_counter, orient='index')\n",
    "words_df.reset_index(drop = False, inplace = True)\n",
    "words_df= words_df.rename(columns={'index':'word', 0:'count'})"
   ]
  },
  {
   "cell_type": "code",
   "execution_count": 12,
   "metadata": {},
   "outputs": [
    {
     "data": {
      "text/plain": [
       "93834"
      ]
     },
     "execution_count": 12,
     "metadata": {},
     "output_type": "execute_result"
    }
   ],
   "source": [
    "words_df.shape[0]"
   ]
  },
  {
   "cell_type": "markdown",
   "metadata": {},
   "source": [
    "=> Notre corpus est composé environ de  **90 000 mots.**"
   ]
  },
  {
   "cell_type": "markdown",
   "metadata": {},
   "source": [
    "## 2.2 Filtre sur les tags les plus fréquents"
   ]
  },
  {
   "cell_type": "markdown",
   "metadata": {},
   "source": [
    "Regardons déjà dans un premier temps le nombre d'occurences par tag."
   ]
  },
  {
   "cell_type": "code",
   "execution_count": 13,
   "metadata": {
    "collapsed": true
   },
   "outputs": [],
   "source": [
    "counts = Counter()\n",
    "for tags_list in df['TAGS_P']:\n",
    "    counts.update(tags_list)\n",
    "tags_df = pd.DataFrame.from_dict(counts, orient='index')\n",
    "tags_df.reset_index(drop = False, inplace = True)\n",
    "tags_df= tags_df.rename(columns={'index':'tag', 0:'count'})"
   ]
  },
  {
   "cell_type": "markdown",
   "metadata": {},
   "source": [
    "La structures **tags_df** contient pour chacun des tags son occurence. <br/>\n",
    "Gardons que les tags qui sont présents dans au moins 10 documents."
   ]
  },
  {
   "cell_type": "code",
   "execution_count": 14,
   "metadata": {},
   "outputs": [
    {
     "data": {
      "text/plain": [
       "2114"
      ]
     },
     "execution_count": 14,
     "metadata": {},
     "output_type": "execute_result"
    }
   ],
   "source": [
    "len(tags_df[tags_df['count'] > 10])"
   ]
  },
  {
   "cell_type": "markdown",
   "metadata": {},
   "source": [
    "Nous nous retrouvons donc avec un peu plus de 2100 tags (14000 tags dans le dataset original)."
   ]
  },
  {
   "cell_type": "markdown",
   "metadata": {},
   "source": [
    "=> Filtrons maintenant notre sample en ne gardant que les posts contenant les tags les plus fréquents."
   ]
  },
  {
   "cell_type": "code",
   "execution_count": 15,
   "metadata": {
    "collapsed": true
   },
   "outputs": [],
   "source": [
    "frequent_tags = tags_df[tags_df['count'] > 10]['tag'].tolist()"
   ]
  },
  {
   "cell_type": "markdown",
   "metadata": {},
   "source": [
    "**frequent_tags** est la structure contenant les tags les plus présents."
   ]
  },
  {
   "cell_type": "code",
   "execution_count": 16,
   "metadata": {},
   "outputs": [],
   "source": [
    "df_learn['TAGS_P'] = df_learn['TAGS_P'].apply(lambda x: [w for w in x if w in frequent_tags] )\n",
    "# On supprime les lignes qui n'ont plus de tags associés (car aucun n'est présent dans la liste frequent_tags)\n",
    "df_learn = df_learn[df_learn.astype(str)['TAGS_P'] != '[]']"
   ]
  },
  {
   "cell_type": "code",
   "execution_count": 17,
   "metadata": {},
   "outputs": [
    {
     "data": {
      "text/plain": [
       "(14864, 7)"
      ]
     },
     "execution_count": 17,
     "metadata": {},
     "output_type": "execute_result"
    }
   ],
   "source": [
    "df_learn.shape"
   ]
  },
  {
   "cell_type": "markdown",
   "metadata": {},
   "source": [
    "Notre dataset contient maintenant uniquement les posts avec tags fréquents."
   ]
  },
  {
   "cell_type": "markdown",
   "metadata": {},
   "source": [
    "## 2.3 Découpage en jeu entrainement et test"
   ]
  },
  {
   "cell_type": "markdown",
   "metadata": {},
   "source": [
    "Découpons nos données en jeu d'entrainement et jeu de test pour nos algorithmes d'apprentissage."
   ]
  },
  {
   "cell_type": "code",
   "execution_count": 18,
   "metadata": {
    "collapsed": true
   },
   "outputs": [],
   "source": [
    "X = df_learn[['TITLE', 'BODY','TITLE_P', 'BODY_P']]\n",
    "Y = df_learn[['TAGS_P']]"
   ]
  },
  {
   "cell_type": "markdown",
   "metadata": {},
   "source": [
    "70% des données pour entrainement et 30% pour les tests."
   ]
  },
  {
   "cell_type": "code",
   "execution_count": 19,
   "metadata": {
    "collapsed": true
   },
   "outputs": [],
   "source": [
    "x_train, x_test, y_train, y_test = model_selection.train_test_split(X,Y,test_size = 0.3,random_state = 0, shuffle = True)"
   ]
  },
  {
   "cell_type": "code",
   "execution_count": 20,
   "metadata": {},
   "outputs": [
    {
     "name": "stdout",
     "output_type": "stream",
     "text": [
      "train (10404, 4)\n",
      "test  (4460, 4)\n"
     ]
    }
   ],
   "source": [
    "print(\"train\", x_train.shape)\n",
    "print(\"test \",x_test.shape)"
   ]
  },
  {
   "cell_type": "markdown",
   "metadata": {},
   "source": [
    "On concatène le titre et le body qui ont été pré-traités pour notre apprentissage."
   ]
  },
  {
   "cell_type": "code",
   "execution_count": 21,
   "metadata": {
    "collapsed": true
   },
   "outputs": [],
   "source": [
    "x_train_text = x_train['TITLE_P'] + ' ' + x_train['BODY_P']"
   ]
  },
  {
   "cell_type": "markdown",
   "metadata": {},
   "source": [
    "## 2.4 Bag of words"
   ]
  },
  {
   "cell_type": "markdown",
   "metadata": {},
   "source": [
    "Pour pouvoir appliquer nos algorithmes de machine learning à nos données textuelles, il faut en extraire les features et représenter notre texte dans un modèle \"mathématique\".\n",
    "Pour celà nous allons utiliser la modélisation **Bag of Words** qui va donner une représentation sous forme de matrice de nos données."
   ]
  },
  {
   "cell_type": "markdown",
   "metadata": {},
   "source": [
    "- min_df = 5 : le mot doit être présent au moins dans 5 documents\n",
    "- max_df = 95% : si le mot est présent dans plus de 95% des documents, il ne nous aidera pas à trouver différencier les documents et on le supprime"
   ]
  },
  {
   "cell_type": "code",
   "execution_count": 22,
   "metadata": {},
   "outputs": [
    {
     "data": {
      "text/plain": [
       "(10404, 9243)"
      ]
     },
     "execution_count": 22,
     "metadata": {},
     "output_type": "execute_result"
    }
   ],
   "source": [
    "cv = CountVectorizer(min_df=5, max_df=0.95)\n",
    "data_vectorized = cv.fit_transform(x_train_text)\n",
    "cv_matrix = data_vectorized.toarray()\n",
    "cv_matrix.shape"
   ]
  },
  {
   "cell_type": "markdown",
   "metadata": {},
   "source": [
    "Voyons maintenant à quoi ressemble notre matrice."
   ]
  },
  {
   "cell_type": "code",
   "execution_count": 23,
   "metadata": {},
   "outputs": [
    {
     "data": {
      "text/html": [
       "<div>\n",
       "<style>\n",
       "    .dataframe thead tr:only-child th {\n",
       "        text-align: right;\n",
       "    }\n",
       "\n",
       "    .dataframe thead th {\n",
       "        text-align: left;\n",
       "    }\n",
       "\n",
       "    .dataframe tbody tr th {\n",
       "        vertical-align: top;\n",
       "    }\n",
       "</style>\n",
       "<table border=\"1\" class=\"dataframe\">\n",
       "  <thead>\n",
       "    <tr style=\"text-align: right;\">\n",
       "      <th></th>\n",
       "      <th>aa</th>\n",
       "      <th>aaa</th>\n",
       "      <th>aaaa</th>\n",
       "      <th>aac</th>\n",
       "      <th>aapt</th>\n",
       "      <th>aar</th>\n",
       "      <th>ab</th>\n",
       "      <th>abandon</th>\n",
       "      <th>abc</th>\n",
       "      <th>abcd</th>\n",
       "      <th>...</th>\n",
       "      <th>zr</th>\n",
       "      <th>zsh</th>\n",
       "      <th>zu</th>\n",
       "      <th>zw</th>\n",
       "      <th>zy</th>\n",
       "      <th>zygoteinit</th>\n",
       "      <th>zza</th>\n",
       "      <th>zzc</th>\n",
       "      <th>zzd</th>\n",
       "      <th>µs</th>\n",
       "    </tr>\n",
       "  </thead>\n",
       "  <tbody>\n",
       "    <tr>\n",
       "      <th>0</th>\n",
       "      <td>0</td>\n",
       "      <td>0</td>\n",
       "      <td>0</td>\n",
       "      <td>0</td>\n",
       "      <td>0</td>\n",
       "      <td>0</td>\n",
       "      <td>0</td>\n",
       "      <td>0</td>\n",
       "      <td>0</td>\n",
       "      <td>0</td>\n",
       "      <td>...</td>\n",
       "      <td>0</td>\n",
       "      <td>0</td>\n",
       "      <td>0</td>\n",
       "      <td>0</td>\n",
       "      <td>0</td>\n",
       "      <td>0</td>\n",
       "      <td>0</td>\n",
       "      <td>0</td>\n",
       "      <td>0</td>\n",
       "      <td>0</td>\n",
       "    </tr>\n",
       "    <tr>\n",
       "      <th>1</th>\n",
       "      <td>0</td>\n",
       "      <td>0</td>\n",
       "      <td>0</td>\n",
       "      <td>0</td>\n",
       "      <td>0</td>\n",
       "      <td>0</td>\n",
       "      <td>0</td>\n",
       "      <td>0</td>\n",
       "      <td>0</td>\n",
       "      <td>0</td>\n",
       "      <td>...</td>\n",
       "      <td>0</td>\n",
       "      <td>0</td>\n",
       "      <td>0</td>\n",
       "      <td>0</td>\n",
       "      <td>0</td>\n",
       "      <td>0</td>\n",
       "      <td>0</td>\n",
       "      <td>0</td>\n",
       "      <td>0</td>\n",
       "      <td>0</td>\n",
       "    </tr>\n",
       "    <tr>\n",
       "      <th>2</th>\n",
       "      <td>0</td>\n",
       "      <td>0</td>\n",
       "      <td>0</td>\n",
       "      <td>0</td>\n",
       "      <td>0</td>\n",
       "      <td>0</td>\n",
       "      <td>0</td>\n",
       "      <td>0</td>\n",
       "      <td>0</td>\n",
       "      <td>0</td>\n",
       "      <td>...</td>\n",
       "      <td>0</td>\n",
       "      <td>0</td>\n",
       "      <td>0</td>\n",
       "      <td>0</td>\n",
       "      <td>0</td>\n",
       "      <td>0</td>\n",
       "      <td>0</td>\n",
       "      <td>0</td>\n",
       "      <td>0</td>\n",
       "      <td>0</td>\n",
       "    </tr>\n",
       "    <tr>\n",
       "      <th>3</th>\n",
       "      <td>0</td>\n",
       "      <td>0</td>\n",
       "      <td>0</td>\n",
       "      <td>0</td>\n",
       "      <td>0</td>\n",
       "      <td>0</td>\n",
       "      <td>0</td>\n",
       "      <td>0</td>\n",
       "      <td>0</td>\n",
       "      <td>0</td>\n",
       "      <td>...</td>\n",
       "      <td>0</td>\n",
       "      <td>0</td>\n",
       "      <td>0</td>\n",
       "      <td>0</td>\n",
       "      <td>0</td>\n",
       "      <td>0</td>\n",
       "      <td>0</td>\n",
       "      <td>0</td>\n",
       "      <td>0</td>\n",
       "      <td>0</td>\n",
       "    </tr>\n",
       "    <tr>\n",
       "      <th>4</th>\n",
       "      <td>0</td>\n",
       "      <td>0</td>\n",
       "      <td>0</td>\n",
       "      <td>0</td>\n",
       "      <td>0</td>\n",
       "      <td>0</td>\n",
       "      <td>0</td>\n",
       "      <td>0</td>\n",
       "      <td>0</td>\n",
       "      <td>0</td>\n",
       "      <td>...</td>\n",
       "      <td>0</td>\n",
       "      <td>0</td>\n",
       "      <td>0</td>\n",
       "      <td>0</td>\n",
       "      <td>0</td>\n",
       "      <td>0</td>\n",
       "      <td>0</td>\n",
       "      <td>0</td>\n",
       "      <td>0</td>\n",
       "      <td>0</td>\n",
       "    </tr>\n",
       "  </tbody>\n",
       "</table>\n",
       "<p>5 rows × 9243 columns</p>\n",
       "</div>"
      ],
      "text/plain": [
       "   aa  aaa  aaaa  aac  aapt  aar  ab  abandon  abc  abcd ...  zr  zsh  zu  zw  \\\n",
       "0   0    0     0    0     0    0   0        0    0     0 ...   0    0   0   0   \n",
       "1   0    0     0    0     0    0   0        0    0     0 ...   0    0   0   0   \n",
       "2   0    0     0    0     0    0   0        0    0     0 ...   0    0   0   0   \n",
       "3   0    0     0    0     0    0   0        0    0     0 ...   0    0   0   0   \n",
       "4   0    0     0    0     0    0   0        0    0     0 ...   0    0   0   0   \n",
       "\n",
       "   zy  zygoteinit  zza  zzc  zzd  µs  \n",
       "0   0           0    0    0    0   0  \n",
       "1   0           0    0    0    0   0  \n",
       "2   0           0    0    0    0   0  \n",
       "3   0           0    0    0    0   0  \n",
       "4   0           0    0    0    0   0  \n",
       "\n",
       "[5 rows x 9243 columns]"
      ]
     },
     "execution_count": 23,
     "metadata": {},
     "output_type": "execute_result"
    }
   ],
   "source": [
    "#get all unique words in the corpus\n",
    "tf_feature_names = cv.get_feature_names()\n",
    "# show document feature vectors\n",
    "pd.DataFrame(cv_matrix, columns=tf_feature_names).head()"
   ]
  },
  {
   "cell_type": "markdown",
   "metadata": {},
   "source": [
    "Quels sont les mots les plus communs dans nos documents ?"
   ]
  },
  {
   "cell_type": "code",
   "execution_count": 24,
   "metadata": {},
   "outputs": [
    {
     "data": {
      "text/html": [
       "<div>\n",
       "<style>\n",
       "    .dataframe thead tr:only-child th {\n",
       "        text-align: right;\n",
       "    }\n",
       "\n",
       "    .dataframe thead th {\n",
       "        text-align: left;\n",
       "    }\n",
       "\n",
       "    .dataframe tbody tr th {\n",
       "        vertical-align: top;\n",
       "    }\n",
       "</style>\n",
       "<table border=\"1\" class=\"dataframe\">\n",
       "  <thead>\n",
       "    <tr style=\"text-align: right;\">\n",
       "      <th></th>\n",
       "      <th>count</th>\n",
       "    </tr>\n",
       "    <tr>\n",
       "      <th>word</th>\n",
       "      <th></th>\n",
       "    </tr>\n",
       "  </thead>\n",
       "  <tbody>\n",
       "    <tr>\n",
       "      <th>use</th>\n",
       "      <td>13840</td>\n",
       "    </tr>\n",
       "    <tr>\n",
       "      <th>android</th>\n",
       "      <td>9444</td>\n",
       "    </tr>\n",
       "    <tr>\n",
       "      <th>class</th>\n",
       "      <td>8904</td>\n",
       "    </tr>\n",
       "    <tr>\n",
       "      <th>error</th>\n",
       "      <td>8481</td>\n",
       "    </tr>\n",
       "    <tr>\n",
       "      <th>get</th>\n",
       "      <td>8073</td>\n",
       "    </tr>\n",
       "  </tbody>\n",
       "</table>\n",
       "</div>"
      ],
      "text/plain": [
       "         count\n",
       "word          \n",
       "use      13840\n",
       "android   9444\n",
       "class     8904\n",
       "error     8481\n",
       "get       8073"
      ]
     },
     "execution_count": 24,
     "metadata": {},
     "output_type": "execute_result"
    }
   ],
   "source": [
    "voc_freq_df = pd.DataFrame([list(a) for a in zip(tf_feature_names, np.asarray(cv_matrix.sum(axis=0)).ravel())])\n",
    "voc_freq_df.columns = ['word', 'count']\n",
    "voc_freq_df.set_index('word', inplace=True)\n",
    "voc_freq_df=voc_freq_df.sort_values('count', ascending=False)\n",
    "voc_freq_df.head()"
   ]
  },
  {
   "cell_type": "code",
   "execution_count": 25,
   "metadata": {},
   "outputs": [
    {
     "data": {
      "image/png": "[encoded data removed]",
      "text/plain": [
       "<matplotlib.figure.Figure at 0x1a184c01d0>"
      ]
     },
     "metadata": {},
     "output_type": "display_data"
    }
   ],
   "source": [
    "ax = voc_freq_df.head(50).plot(kind = 'bar', figsize = (14,4), color=\"#f56900\")\n",
    "plt.setp(ax.get_xticklabels(), rotation = 45, ha = 'right')\n",
    "plt.title('Top 50 words', fontsize = 'large')\n",
    "plt.xlabel('Words')\n",
    "plt.ylabel('Number of occurences')\n",
    "plt.show()"
   ]
  },
  {
   "cell_type": "markdown",
   "metadata": {},
   "source": [
    "=> use, android, class, error, ... sont très fréquents"
   ]
  },
  {
   "cell_type": "markdown",
   "metadata": {},
   "source": [
    "####  Sparsicity de la matrice"
   ]
  },
  {
   "cell_type": "markdown",
   "metadata": {},
   "source": [
    "Regardons le pourcentage de cellules non égales à 0."
   ]
  },
  {
   "cell_type": "code",
   "execution_count": 26,
   "metadata": {},
   "outputs": [
    {
     "name": "stdout",
     "output_type": "stream",
     "text": [
      "Sparsicity:  0.67 %\n"
     ]
    }
   ],
   "source": [
    "# Materialize the sparse data\n",
    "data_dense = data_vectorized.todense()\n",
    "\n",
    "# Compute Sparsicity = Percentage of Non-Zero cells\n",
    "print(\"Sparsicity:  {:.2f} %\".format( ((data_dense > 0).sum()/data_dense.size)*100, \"%\"))"
   ]
  },
  {
   "cell_type": "markdown",
   "metadata": {},
   "source": [
    "# 3. Topics Modeling LDA"
   ]
  },
  {
   "cell_type": "markdown",
   "metadata": {},
   "source": [
    "Essayons LDA (Allocation de Dirichlet Latente) pour modéliser les sujets."
   ]
  },
  {
   "cell_type": "markdown",
   "metadata": {},
   "source": [
    "## 3.1 Construction du modèle et tuning"
   ]
  },
  {
   "cell_type": "markdown",
   "metadata": {},
   "source": [
    "Nous allons utiliser la recherche sur grille pour trouver les meilleurs valeurs des hyper-paramètres."
   ]
  },
  {
   "cell_type": "code",
   "execution_count": 27,
   "metadata": {},
   "outputs": [
    {
     "data": {
      "text/plain": [
       "GridSearchCV(cv=None, error_score='raise',\n",
       "       estimator=LatentDirichletAllocation(batch_size=128, doc_topic_prior=None,\n",
       "             evaluate_every=-1, learning_decay=0.7, learning_method=None,\n",
       "             learning_offset=10.0, max_doc_update_iter=100, max_iter=10,\n",
       "             mean_change_tol=0.001, n_components=10, n_jobs=1,\n",
       "             n_topics=None, perp_tol=0.1, random_state=None,\n",
       "             topic_word_prior=None, total_samples=1000000.0, verbose=0),\n",
       "       fit_params=None, iid=True, n_jobs=1,\n",
       "       param_grid={'n_components': [20, 30, 50, 70, 100], 'learning_method': ['batch'], 'max_iter': [10]},\n",
       "       pre_dispatch='2*n_jobs', refit=True, return_train_score=True,\n",
       "       scoring=None, verbose=0)"
      ]
     },
     "execution_count": 27,
     "metadata": {},
     "output_type": "execute_result"
    }
   ],
   "source": [
    "# Define Search Param\n",
    "search_params = {'n_components': [20, 30, 50, 70, 100 ], 'learning_method':['batch'], 'max_iter':[10]}\n",
    "#search_params = {'n_components': [20 ], 'learning_method':['batch'], 'max_iter':[10]}\n",
    "\n",
    "# Init the Model\n",
    "lda = LatentDirichletAllocation()\n",
    "\n",
    "# Init Grid Search Class\n",
    "lda_model = GridSearchCV(lda, param_grid=search_params)\n",
    "\n",
    "# Do the Grid Search\n",
    "lda_model.fit(data_vectorized)"
   ]
  },
  {
   "cell_type": "markdown",
   "metadata": {},
   "source": [
    "Voyons les hyper-paramètres qui donnent la meilleure performance."
   ]
  },
  {
   "cell_type": "code",
   "execution_count": 28,
   "metadata": {},
   "outputs": [
    {
     "data": {
      "text/plain": [
       "{'learning_method': 'batch', 'max_iter': 10, 'n_components': 20}"
      ]
     },
     "execution_count": 28,
     "metadata": {},
     "output_type": "execute_result"
    }
   ],
   "source": [
    "lda_model.best_params_"
   ]
  },
  {
   "cell_type": "markdown",
   "metadata": {},
   "source": [
    "Nous pouvons partir sur 20 topics."
   ]
  },
  {
   "cell_type": "code",
   "execution_count": 29,
   "metadata": {
    "collapsed": true
   },
   "outputs": [],
   "source": [
    "best_lda_model = lda_model.best_estimator_"
   ]
  },
  {
   "cell_type": "code",
   "execution_count": 30,
   "metadata": {
    "collapsed": true
   },
   "outputs": [],
   "source": [
    "lda_output = best_lda_model.transform(data_vectorized)"
   ]
  },
  {
   "cell_type": "code",
   "execution_count": 31,
   "metadata": {},
   "outputs": [
    {
     "data": {
      "text/plain": [
       "(10404, 20)"
      ]
     },
     "execution_count": 31,
     "metadata": {},
     "output_type": "execute_result"
    }
   ],
   "source": [
    "lda_output.shape"
   ]
  },
  {
   "cell_type": "markdown",
   "metadata": {},
   "source": [
    "### Evaluation"
   ]
  },
  {
   "cell_type": "markdown",
   "metadata": {},
   "source": [
    "Regardons le score de perplexité et likehood de notre modèle."
   ]
  },
  {
   "cell_type": "code",
   "execution_count": 32,
   "metadata": {},
   "outputs": [
    {
     "name": "stdout",
     "output_type": "stream",
     "text": [
      "Perplexity :  1089.46410105\n"
     ]
    }
   ],
   "source": [
    "print(\"Perplexity : \",best_lda_model.perplexity(data_vectorized))"
   ]
  },
  {
   "cell_type": "code",
   "execution_count": 33,
   "metadata": {},
   "outputs": [
    {
     "name": "stdout",
     "output_type": "stream",
     "text": [
      "Log Likelihood:  -10151273.632\n"
     ]
    }
   ],
   "source": [
    "# Log Likelyhood: Higher the better\n",
    "print(\"Log Likelihood: \", best_lda_model.score(data_vectorized))"
   ]
  },
  {
   "cell_type": "markdown",
   "metadata": {},
   "source": [
    "## 3.2 Analyse des résultats"
   ]
  },
  {
   "cell_type": "markdown",
   "metadata": {},
   "source": [
    "### Topics / Words"
   ]
  },
  {
   "cell_type": "markdown",
   "metadata": {},
   "source": [
    "Affichage de la matrice topics / words."
   ]
  },
  {
   "cell_type": "code",
   "execution_count": 34,
   "metadata": {},
   "outputs": [
    {
     "data": {
      "text/html": [
       "<div>\n",
       "<style>\n",
       "    .dataframe thead tr:only-child th {\n",
       "        text-align: right;\n",
       "    }\n",
       "\n",
       "    .dataframe thead th {\n",
       "        text-align: left;\n",
       "    }\n",
       "\n",
       "    .dataframe tbody tr th {\n",
       "        vertical-align: top;\n",
       "    }\n",
       "</style>\n",
       "<table border=\"1\" class=\"dataframe\">\n",
       "  <thead>\n",
       "    <tr style=\"text-align: right;\">\n",
       "      <th></th>\n",
       "      <th>aa</th>\n",
       "      <th>aaa</th>\n",
       "      <th>aaaa</th>\n",
       "      <th>aac</th>\n",
       "      <th>aapt</th>\n",
       "      <th>aar</th>\n",
       "      <th>ab</th>\n",
       "      <th>abandon</th>\n",
       "      <th>abc</th>\n",
       "      <th>abcd</th>\n",
       "      <th>...</th>\n",
       "      <th>zr</th>\n",
       "      <th>zsh</th>\n",
       "      <th>zu</th>\n",
       "      <th>zw</th>\n",
       "      <th>zy</th>\n",
       "      <th>zygoteinit</th>\n",
       "      <th>zza</th>\n",
       "      <th>zzc</th>\n",
       "      <th>zzd</th>\n",
       "      <th>µs</th>\n",
       "    </tr>\n",
       "  </thead>\n",
       "  <tbody>\n",
       "    <tr>\n",
       "      <th>Topic0</th>\n",
       "      <td>0.050000</td>\n",
       "      <td>0.050000</td>\n",
       "      <td>0.050000</td>\n",
       "      <td>0.050000</td>\n",
       "      <td>0.05</td>\n",
       "      <td>0.05000</td>\n",
       "      <td>0.095197</td>\n",
       "      <td>0.050000</td>\n",
       "      <td>56.060583</td>\n",
       "      <td>0.050000</td>\n",
       "      <td>...</td>\n",
       "      <td>0.050000</td>\n",
       "      <td>3.55293</td>\n",
       "      <td>0.050000</td>\n",
       "      <td>0.050000</td>\n",
       "      <td>0.050000</td>\n",
       "      <td>0.050000</td>\n",
       "      <td>0.05000</td>\n",
       "      <td>0.05</td>\n",
       "      <td>0.050000</td>\n",
       "      <td>0.050000</td>\n",
       "    </tr>\n",
       "    <tr>\n",
       "      <th>Topic1</th>\n",
       "      <td>0.050000</td>\n",
       "      <td>0.050000</td>\n",
       "      <td>0.050000</td>\n",
       "      <td>0.050000</td>\n",
       "      <td>0.05</td>\n",
       "      <td>0.05000</td>\n",
       "      <td>0.050000</td>\n",
       "      <td>2.647820</td>\n",
       "      <td>4.617353</td>\n",
       "      <td>0.050000</td>\n",
       "      <td>...</td>\n",
       "      <td>0.050000</td>\n",
       "      <td>0.05000</td>\n",
       "      <td>0.050000</td>\n",
       "      <td>0.050000</td>\n",
       "      <td>0.050000</td>\n",
       "      <td>0.050000</td>\n",
       "      <td>0.05000</td>\n",
       "      <td>0.05</td>\n",
       "      <td>0.050000</td>\n",
       "      <td>0.050000</td>\n",
       "    </tr>\n",
       "    <tr>\n",
       "      <th>Topic2</th>\n",
       "      <td>6.123532</td>\n",
       "      <td>0.050000</td>\n",
       "      <td>1.050000</td>\n",
       "      <td>0.050000</td>\n",
       "      <td>0.05</td>\n",
       "      <td>0.05000</td>\n",
       "      <td>4.782601</td>\n",
       "      <td>0.050000</td>\n",
       "      <td>18.029633</td>\n",
       "      <td>0.050000</td>\n",
       "      <td>...</td>\n",
       "      <td>0.213891</td>\n",
       "      <td>0.05000</td>\n",
       "      <td>0.050000</td>\n",
       "      <td>0.050000</td>\n",
       "      <td>0.050000</td>\n",
       "      <td>0.050000</td>\n",
       "      <td>0.05000</td>\n",
       "      <td>0.05</td>\n",
       "      <td>0.050000</td>\n",
       "      <td>0.050000</td>\n",
       "    </tr>\n",
       "    <tr>\n",
       "      <th>Topic3</th>\n",
       "      <td>3.646966</td>\n",
       "      <td>0.050000</td>\n",
       "      <td>0.050000</td>\n",
       "      <td>0.050000</td>\n",
       "      <td>0.05</td>\n",
       "      <td>0.05000</td>\n",
       "      <td>12.906700</td>\n",
       "      <td>0.050000</td>\n",
       "      <td>51.924588</td>\n",
       "      <td>6.169580</td>\n",
       "      <td>...</td>\n",
       "      <td>0.050000</td>\n",
       "      <td>0.05000</td>\n",
       "      <td>0.050000</td>\n",
       "      <td>0.050000</td>\n",
       "      <td>0.050000</td>\n",
       "      <td>0.050000</td>\n",
       "      <td>0.05000</td>\n",
       "      <td>0.05</td>\n",
       "      <td>0.050000</td>\n",
       "      <td>0.050000</td>\n",
       "    </tr>\n",
       "    <tr>\n",
       "      <th>Topic4</th>\n",
       "      <td>0.061882</td>\n",
       "      <td>0.050000</td>\n",
       "      <td>0.050000</td>\n",
       "      <td>0.050000</td>\n",
       "      <td>0.05</td>\n",
       "      <td>0.05000</td>\n",
       "      <td>0.050000</td>\n",
       "      <td>0.050000</td>\n",
       "      <td>0.050000</td>\n",
       "      <td>0.050000</td>\n",
       "      <td>...</td>\n",
       "      <td>1.086350</td>\n",
       "      <td>0.05000</td>\n",
       "      <td>0.050000</td>\n",
       "      <td>0.050958</td>\n",
       "      <td>1.270830</td>\n",
       "      <td>0.050000</td>\n",
       "      <td>0.07646</td>\n",
       "      <td>0.05</td>\n",
       "      <td>11.493038</td>\n",
       "      <td>0.050000</td>\n",
       "    </tr>\n",
       "    <tr>\n",
       "      <th>Topic5</th>\n",
       "      <td>0.050000</td>\n",
       "      <td>0.050000</td>\n",
       "      <td>0.050000</td>\n",
       "      <td>0.050000</td>\n",
       "      <td>0.05</td>\n",
       "      <td>0.05000</td>\n",
       "      <td>9.910461</td>\n",
       "      <td>0.050000</td>\n",
       "      <td>1.720869</td>\n",
       "      <td>0.050000</td>\n",
       "      <td>...</td>\n",
       "      <td>0.050000</td>\n",
       "      <td>0.05000</td>\n",
       "      <td>0.050000</td>\n",
       "      <td>0.050000</td>\n",
       "      <td>0.050000</td>\n",
       "      <td>0.050000</td>\n",
       "      <td>0.05000</td>\n",
       "      <td>0.05</td>\n",
       "      <td>0.050000</td>\n",
       "      <td>0.050000</td>\n",
       "    </tr>\n",
       "    <tr>\n",
       "      <th>Topic6</th>\n",
       "      <td>13.073663</td>\n",
       "      <td>23.073610</td>\n",
       "      <td>0.050000</td>\n",
       "      <td>2.201683</td>\n",
       "      <td>0.05</td>\n",
       "      <td>0.05000</td>\n",
       "      <td>22.367465</td>\n",
       "      <td>0.050000</td>\n",
       "      <td>20.556056</td>\n",
       "      <td>0.050000</td>\n",
       "      <td>...</td>\n",
       "      <td>0.050000</td>\n",
       "      <td>0.05000</td>\n",
       "      <td>0.050000</td>\n",
       "      <td>0.050000</td>\n",
       "      <td>0.050000</td>\n",
       "      <td>0.050000</td>\n",
       "      <td>0.05000</td>\n",
       "      <td>0.05</td>\n",
       "      <td>0.050000</td>\n",
       "      <td>0.050000</td>\n",
       "    </tr>\n",
       "    <tr>\n",
       "      <th>Topic7</th>\n",
       "      <td>4.845392</td>\n",
       "      <td>0.050000</td>\n",
       "      <td>0.050000</td>\n",
       "      <td>0.050000</td>\n",
       "      <td>49.05</td>\n",
       "      <td>52.95778</td>\n",
       "      <td>0.050000</td>\n",
       "      <td>0.050000</td>\n",
       "      <td>54.165014</td>\n",
       "      <td>0.050000</td>\n",
       "      <td>...</td>\n",
       "      <td>0.050000</td>\n",
       "      <td>0.05000</td>\n",
       "      <td>0.050000</td>\n",
       "      <td>0.050000</td>\n",
       "      <td>0.050000</td>\n",
       "      <td>8.243086</td>\n",
       "      <td>0.05000</td>\n",
       "      <td>0.05</td>\n",
       "      <td>0.050000</td>\n",
       "      <td>0.050000</td>\n",
       "    </tr>\n",
       "    <tr>\n",
       "      <th>Topic8</th>\n",
       "      <td>0.050000</td>\n",
       "      <td>0.050000</td>\n",
       "      <td>0.405885</td>\n",
       "      <td>0.050000</td>\n",
       "      <td>0.05</td>\n",
       "      <td>0.05000</td>\n",
       "      <td>0.050000</td>\n",
       "      <td>0.050000</td>\n",
       "      <td>33.885583</td>\n",
       "      <td>0.050000</td>\n",
       "      <td>...</td>\n",
       "      <td>0.050000</td>\n",
       "      <td>0.05000</td>\n",
       "      <td>0.050000</td>\n",
       "      <td>0.050000</td>\n",
       "      <td>1.093887</td>\n",
       "      <td>0.050000</td>\n",
       "      <td>0.05000</td>\n",
       "      <td>0.05</td>\n",
       "      <td>0.050000</td>\n",
       "      <td>0.050000</td>\n",
       "    </tr>\n",
       "    <tr>\n",
       "      <th>Topic9</th>\n",
       "      <td>1.697340</td>\n",
       "      <td>3.999007</td>\n",
       "      <td>0.050000</td>\n",
       "      <td>0.050000</td>\n",
       "      <td>0.05</td>\n",
       "      <td>0.05000</td>\n",
       "      <td>6.244916</td>\n",
       "      <td>0.050000</td>\n",
       "      <td>29.053036</td>\n",
       "      <td>0.050000</td>\n",
       "      <td>...</td>\n",
       "      <td>0.050000</td>\n",
       "      <td>0.05000</td>\n",
       "      <td>0.050000</td>\n",
       "      <td>0.050000</td>\n",
       "      <td>0.050000</td>\n",
       "      <td>0.050000</td>\n",
       "      <td>0.05000</td>\n",
       "      <td>0.05</td>\n",
       "      <td>0.050000</td>\n",
       "      <td>0.050000</td>\n",
       "    </tr>\n",
       "    <tr>\n",
       "      <th>Topic10</th>\n",
       "      <td>0.050000</td>\n",
       "      <td>0.050000</td>\n",
       "      <td>0.050000</td>\n",
       "      <td>0.050000</td>\n",
       "      <td>0.05</td>\n",
       "      <td>0.05000</td>\n",
       "      <td>6.160817</td>\n",
       "      <td>1.594237</td>\n",
       "      <td>0.050000</td>\n",
       "      <td>0.050000</td>\n",
       "      <td>...</td>\n",
       "      <td>2.084464</td>\n",
       "      <td>0.05000</td>\n",
       "      <td>0.050000</td>\n",
       "      <td>0.050000</td>\n",
       "      <td>0.050000</td>\n",
       "      <td>0.050000</td>\n",
       "      <td>0.05000</td>\n",
       "      <td>0.05</td>\n",
       "      <td>0.050000</td>\n",
       "      <td>16.005585</td>\n",
       "    </tr>\n",
       "    <tr>\n",
       "      <th>Topic11</th>\n",
       "      <td>17.107160</td>\n",
       "      <td>0.050000</td>\n",
       "      <td>0.050000</td>\n",
       "      <td>0.050000</td>\n",
       "      <td>0.05</td>\n",
       "      <td>0.05000</td>\n",
       "      <td>0.797167</td>\n",
       "      <td>3.907943</td>\n",
       "      <td>0.050000</td>\n",
       "      <td>0.050000</td>\n",
       "      <td>...</td>\n",
       "      <td>0.050000</td>\n",
       "      <td>0.05000</td>\n",
       "      <td>0.050000</td>\n",
       "      <td>0.050000</td>\n",
       "      <td>0.050000</td>\n",
       "      <td>0.050000</td>\n",
       "      <td>0.05000</td>\n",
       "      <td>0.05</td>\n",
       "      <td>0.050000</td>\n",
       "      <td>0.050000</td>\n",
       "    </tr>\n",
       "    <tr>\n",
       "      <th>Topic12</th>\n",
       "      <td>0.050000</td>\n",
       "      <td>0.050000</td>\n",
       "      <td>0.050000</td>\n",
       "      <td>4.378788</td>\n",
       "      <td>0.05</td>\n",
       "      <td>0.05000</td>\n",
       "      <td>0.155035</td>\n",
       "      <td>0.050000</td>\n",
       "      <td>0.050000</td>\n",
       "      <td>0.050000</td>\n",
       "      <td>...</td>\n",
       "      <td>0.050000</td>\n",
       "      <td>0.05000</td>\n",
       "      <td>0.050000</td>\n",
       "      <td>3.596913</td>\n",
       "      <td>0.050000</td>\n",
       "      <td>0.050000</td>\n",
       "      <td>0.05000</td>\n",
       "      <td>0.05</td>\n",
       "      <td>0.050000</td>\n",
       "      <td>0.050000</td>\n",
       "    </tr>\n",
       "    <tr>\n",
       "      <th>Topic13</th>\n",
       "      <td>0.050000</td>\n",
       "      <td>0.050000</td>\n",
       "      <td>0.050000</td>\n",
       "      <td>14.872136</td>\n",
       "      <td>0.05</td>\n",
       "      <td>0.05000</td>\n",
       "      <td>32.981667</td>\n",
       "      <td>0.050000</td>\n",
       "      <td>0.050000</td>\n",
       "      <td>6.369887</td>\n",
       "      <td>...</td>\n",
       "      <td>0.050000</td>\n",
       "      <td>0.05000</td>\n",
       "      <td>11.438049</td>\n",
       "      <td>0.050000</td>\n",
       "      <td>0.050000</td>\n",
       "      <td>0.050000</td>\n",
       "      <td>0.05000</td>\n",
       "      <td>0.05</td>\n",
       "      <td>0.050000</td>\n",
       "      <td>67.094415</td>\n",
       "    </tr>\n",
       "    <tr>\n",
       "      <th>Topic14</th>\n",
       "      <td>22.746905</td>\n",
       "      <td>10.411386</td>\n",
       "      <td>0.050000</td>\n",
       "      <td>0.050000</td>\n",
       "      <td>0.05</td>\n",
       "      <td>0.05000</td>\n",
       "      <td>25.283807</td>\n",
       "      <td>0.050000</td>\n",
       "      <td>13.478485</td>\n",
       "      <td>6.863717</td>\n",
       "      <td>...</td>\n",
       "      <td>5.815295</td>\n",
       "      <td>0.05000</td>\n",
       "      <td>3.502536</td>\n",
       "      <td>9.502129</td>\n",
       "      <td>7.785283</td>\n",
       "      <td>0.050000</td>\n",
       "      <td>0.05000</td>\n",
       "      <td>0.05</td>\n",
       "      <td>0.050000</td>\n",
       "      <td>0.050000</td>\n",
       "    </tr>\n",
       "    <tr>\n",
       "      <th>Topic15</th>\n",
       "      <td>18.280775</td>\n",
       "      <td>11.887597</td>\n",
       "      <td>0.050000</td>\n",
       "      <td>0.988245</td>\n",
       "      <td>0.05</td>\n",
       "      <td>0.05000</td>\n",
       "      <td>8.804754</td>\n",
       "      <td>0.050000</td>\n",
       "      <td>0.050000</td>\n",
       "      <td>0.050000</td>\n",
       "      <td>...</td>\n",
       "      <td>0.050000</td>\n",
       "      <td>11.54707</td>\n",
       "      <td>0.050000</td>\n",
       "      <td>0.050000</td>\n",
       "      <td>0.050000</td>\n",
       "      <td>0.050000</td>\n",
       "      <td>0.05000</td>\n",
       "      <td>0.05</td>\n",
       "      <td>0.050000</td>\n",
       "      <td>0.050000</td>\n",
       "    </tr>\n",
       "    <tr>\n",
       "      <th>Topic16</th>\n",
       "      <td>20.914684</td>\n",
       "      <td>0.050000</td>\n",
       "      <td>0.050000</td>\n",
       "      <td>7.802029</td>\n",
       "      <td>0.05</td>\n",
       "      <td>0.05000</td>\n",
       "      <td>0.050000</td>\n",
       "      <td>0.050000</td>\n",
       "      <td>0.050000</td>\n",
       "      <td>18.796816</td>\n",
       "      <td>...</td>\n",
       "      <td>0.050000</td>\n",
       "      <td>0.05000</td>\n",
       "      <td>0.050000</td>\n",
       "      <td>0.050000</td>\n",
       "      <td>0.050000</td>\n",
       "      <td>0.050000</td>\n",
       "      <td>0.05000</td>\n",
       "      <td>0.05</td>\n",
       "      <td>0.050000</td>\n",
       "      <td>0.050000</td>\n",
       "    </tr>\n",
       "    <tr>\n",
       "      <th>Topic17</th>\n",
       "      <td>0.050000</td>\n",
       "      <td>0.050000</td>\n",
       "      <td>19.694115</td>\n",
       "      <td>0.057119</td>\n",
       "      <td>0.05</td>\n",
       "      <td>0.05000</td>\n",
       "      <td>15.724166</td>\n",
       "      <td>0.050000</td>\n",
       "      <td>0.338206</td>\n",
       "      <td>0.050000</td>\n",
       "      <td>...</td>\n",
       "      <td>0.050000</td>\n",
       "      <td>0.05000</td>\n",
       "      <td>1.209415</td>\n",
       "      <td>0.050000</td>\n",
       "      <td>0.050000</td>\n",
       "      <td>0.050000</td>\n",
       "      <td>0.05000</td>\n",
       "      <td>0.05</td>\n",
       "      <td>0.050000</td>\n",
       "      <td>0.050000</td>\n",
       "    </tr>\n",
       "    <tr>\n",
       "      <th>Topic18</th>\n",
       "      <td>7.697726</td>\n",
       "      <td>10.878400</td>\n",
       "      <td>0.050000</td>\n",
       "      <td>0.050000</td>\n",
       "      <td>0.05</td>\n",
       "      <td>0.05000</td>\n",
       "      <td>0.485247</td>\n",
       "      <td>0.050000</td>\n",
       "      <td>21.047439</td>\n",
       "      <td>0.050000</td>\n",
       "      <td>...</td>\n",
       "      <td>0.050000</td>\n",
       "      <td>0.05000</td>\n",
       "      <td>0.050000</td>\n",
       "      <td>0.050000</td>\n",
       "      <td>0.050000</td>\n",
       "      <td>0.050000</td>\n",
       "      <td>0.05000</td>\n",
       "      <td>0.05</td>\n",
       "      <td>0.050000</td>\n",
       "      <td>0.050000</td>\n",
       "    </tr>\n",
       "    <tr>\n",
       "      <th>Topic19</th>\n",
       "      <td>0.403975</td>\n",
       "      <td>0.050000</td>\n",
       "      <td>0.050000</td>\n",
       "      <td>0.050000</td>\n",
       "      <td>0.05</td>\n",
       "      <td>4.14222</td>\n",
       "      <td>0.050000</td>\n",
       "      <td>0.050000</td>\n",
       "      <td>8.773154</td>\n",
       "      <td>0.050000</td>\n",
       "      <td>...</td>\n",
       "      <td>0.050000</td>\n",
       "      <td>0.05000</td>\n",
       "      <td>0.050000</td>\n",
       "      <td>0.050000</td>\n",
       "      <td>0.050000</td>\n",
       "      <td>287.856914</td>\n",
       "      <td>27.02354</td>\n",
       "      <td>7.05</td>\n",
       "      <td>14.606962</td>\n",
       "      <td>0.050000</td>\n",
       "    </tr>\n",
       "  </tbody>\n",
       "</table>\n",
       "<p>20 rows × 9243 columns</p>\n",
       "</div>"
      ],
      "text/plain": [
       "                aa        aaa       aaaa        aac   aapt       aar  \\\n",
       "Topic0    0.050000   0.050000   0.050000   0.050000   0.05   0.05000   \n",
       "Topic1    0.050000   0.050000   0.050000   0.050000   0.05   0.05000   \n",
       "Topic2    6.123532   0.050000   1.050000   0.050000   0.05   0.05000   \n",
       "Topic3    3.646966   0.050000   0.050000   0.050000   0.05   0.05000   \n",
       "Topic4    0.061882   0.050000   0.050000   0.050000   0.05   0.05000   \n",
       "Topic5    0.050000   0.050000   0.050000   0.050000   0.05   0.05000   \n",
       "Topic6   13.073663  23.073610   0.050000   2.201683   0.05   0.05000   \n",
       "Topic7    4.845392   0.050000   0.050000   0.050000  49.05  52.95778   \n",
       "Topic8    0.050000   0.050000   0.405885   0.050000   0.05   0.05000   \n",
       "Topic9    1.697340   3.999007   0.050000   0.050000   0.05   0.05000   \n",
       "Topic10   0.050000   0.050000   0.050000   0.050000   0.05   0.05000   \n",
       "Topic11  17.107160   0.050000   0.050000   0.050000   0.05   0.05000   \n",
       "Topic12   0.050000   0.050000   0.050000   4.378788   0.05   0.05000   \n",
       "Topic13   0.050000   0.050000   0.050000  14.872136   0.05   0.05000   \n",
       "Topic14  22.746905  10.411386   0.050000   0.050000   0.05   0.05000   \n",
       "Topic15  18.280775  11.887597   0.050000   0.988245   0.05   0.05000   \n",
       "Topic16  20.914684   0.050000   0.050000   7.802029   0.05   0.05000   \n",
       "Topic17   0.050000   0.050000  19.694115   0.057119   0.05   0.05000   \n",
       "Topic18   7.697726  10.878400   0.050000   0.050000   0.05   0.05000   \n",
       "Topic19   0.403975   0.050000   0.050000   0.050000   0.05   4.14222   \n",
       "\n",
       "                ab   abandon        abc       abcd    ...            zr  \\\n",
       "Topic0    0.095197  0.050000  56.060583   0.050000    ...      0.050000   \n",
       "Topic1    0.050000  2.647820   4.617353   0.050000    ...      0.050000   \n",
       "Topic2    4.782601  0.050000  18.029633   0.050000    ...      0.213891   \n",
       "Topic3   12.906700  0.050000  51.924588   6.169580    ...      0.050000   \n",
       "Topic4    0.050000  0.050000   0.050000   0.050000    ...      1.086350   \n",
       "Topic5    9.910461  0.050000   1.720869   0.050000    ...      0.050000   \n",
       "Topic6   22.367465  0.050000  20.556056   0.050000    ...      0.050000   \n",
       "Topic7    0.050000  0.050000  54.165014   0.050000    ...      0.050000   \n",
       "Topic8    0.050000  0.050000  33.885583   0.050000    ...      0.050000   \n",
       "Topic9    6.244916  0.050000  29.053036   0.050000    ...      0.050000   \n",
       "Topic10   6.160817  1.594237   0.050000   0.050000    ...      2.084464   \n",
       "Topic11   0.797167  3.907943   0.050000   0.050000    ...      0.050000   \n",
       "Topic12   0.155035  0.050000   0.050000   0.050000    ...      0.050000   \n",
       "Topic13  32.981667  0.050000   0.050000   6.369887    ...      0.050000   \n",
       "Topic14  25.283807  0.050000  13.478485   6.863717    ...      5.815295   \n",
       "Topic15   8.804754  0.050000   0.050000   0.050000    ...      0.050000   \n",
       "Topic16   0.050000  0.050000   0.050000  18.796816    ...      0.050000   \n",
       "Topic17  15.724166  0.050000   0.338206   0.050000    ...      0.050000   \n",
       "Topic18   0.485247  0.050000  21.047439   0.050000    ...      0.050000   \n",
       "Topic19   0.050000  0.050000   8.773154   0.050000    ...      0.050000   \n",
       "\n",
       "              zsh         zu        zw        zy  zygoteinit       zza   zzc  \\\n",
       "Topic0    3.55293   0.050000  0.050000  0.050000    0.050000   0.05000  0.05   \n",
       "Topic1    0.05000   0.050000  0.050000  0.050000    0.050000   0.05000  0.05   \n",
       "Topic2    0.05000   0.050000  0.050000  0.050000    0.050000   0.05000  0.05   \n",
       "Topic3    0.05000   0.050000  0.050000  0.050000    0.050000   0.05000  0.05   \n",
       "Topic4    0.05000   0.050000  0.050958  1.270830    0.050000   0.07646  0.05   \n",
       "Topic5    0.05000   0.050000  0.050000  0.050000    0.050000   0.05000  0.05   \n",
       "Topic6    0.05000   0.050000  0.050000  0.050000    0.050000   0.05000  0.05   \n",
       "Topic7    0.05000   0.050000  0.050000  0.050000    8.243086   0.05000  0.05   \n",
       "Topic8    0.05000   0.050000  0.050000  1.093887    0.050000   0.05000  0.05   \n",
       "Topic9    0.05000   0.050000  0.050000  0.050000    0.050000   0.05000  0.05   \n",
       "Topic10   0.05000   0.050000  0.050000  0.050000    0.050000   0.05000  0.05   \n",
       "Topic11   0.05000   0.050000  0.050000  0.050000    0.050000   0.05000  0.05   \n",
       "Topic12   0.05000   0.050000  3.596913  0.050000    0.050000   0.05000  0.05   \n",
       "Topic13   0.05000  11.438049  0.050000  0.050000    0.050000   0.05000  0.05   \n",
       "Topic14   0.05000   3.502536  9.502129  7.785283    0.050000   0.05000  0.05   \n",
       "Topic15  11.54707   0.050000  0.050000  0.050000    0.050000   0.05000  0.05   \n",
       "Topic16   0.05000   0.050000  0.050000  0.050000    0.050000   0.05000  0.05   \n",
       "Topic17   0.05000   1.209415  0.050000  0.050000    0.050000   0.05000  0.05   \n",
       "Topic18   0.05000   0.050000  0.050000  0.050000    0.050000   0.05000  0.05   \n",
       "Topic19   0.05000   0.050000  0.050000  0.050000  287.856914  27.02354  7.05   \n",
       "\n",
       "               zzd         µs  \n",
       "Topic0    0.050000   0.050000  \n",
       "Topic1    0.050000   0.050000  \n",
       "Topic2    0.050000   0.050000  \n",
       "Topic3    0.050000   0.050000  \n",
       "Topic4   11.493038   0.050000  \n",
       "Topic5    0.050000   0.050000  \n",
       "Topic6    0.050000   0.050000  \n",
       "Topic7    0.050000   0.050000  \n",
       "Topic8    0.050000   0.050000  \n",
       "Topic9    0.050000   0.050000  \n",
       "Topic10   0.050000  16.005585  \n",
       "Topic11   0.050000   0.050000  \n",
       "Topic12   0.050000   0.050000  \n",
       "Topic13   0.050000  67.094415  \n",
       "Topic14   0.050000   0.050000  \n",
       "Topic15   0.050000   0.050000  \n",
       "Topic16   0.050000   0.050000  \n",
       "Topic17   0.050000   0.050000  \n",
       "Topic18   0.050000   0.050000  \n",
       "Topic19  14.606962   0.050000  \n",
       "\n",
       "[20 rows x 9243 columns]"
      ]
     },
     "execution_count": 34,
     "metadata": {},
     "output_type": "execute_result"
    }
   ],
   "source": [
    "# liste des topics\n",
    "topicnames = [\"Topic\" + str(i) for i in range(best_lda_model.n_components)]\n",
    "\n",
    "# Topic-Keyword Matrice\n",
    "df_topic_keywords = pd.DataFrame(best_lda_model.components_)\n",
    "df_topic_keywords.columns = tf_feature_names\n",
    "df_topic_keywords.index = topicnames\n",
    "\n",
    "df_topic_keywords"
   ]
  },
  {
   "cell_type": "code",
   "execution_count": 35,
   "metadata": {
    "collapsed": true
   },
   "outputs": [],
   "source": [
    "# Méthode qui retourne pour chacun des topics le top \"n_words\" mots\n",
    "def show_topics(feature_names, tp_model, n_words=20):\n",
    "    keywords = np.array(feature_names)\n",
    "    topic_keywords = []\n",
    "    for topic_weights in tp_model.components_:\n",
    "        top_keyword_locs = (-topic_weights).argsort()[:n_words]\n",
    "        topic_keywords.append(keywords.take(top_keyword_locs))\n",
    "    return topic_keywords"
   ]
  },
  {
   "cell_type": "code",
   "execution_count": 36,
   "metadata": {},
   "outputs": [
    {
     "data": {
      "text/html": [
       "<div>\n",
       "<style>\n",
       "    .dataframe thead tr:only-child th {\n",
       "        text-align: right;\n",
       "    }\n",
       "\n",
       "    .dataframe thead th {\n",
       "        text-align: left;\n",
       "    }\n",
       "\n",
       "    .dataframe tbody tr th {\n",
       "        vertical-align: top;\n",
       "    }\n",
       "</style>\n",
       "<table border=\"1\" class=\"dataframe\">\n",
       "  <thead>\n",
       "    <tr style=\"text-align: right;\">\n",
       "      <th></th>\n",
       "      <th>Word 0</th>\n",
       "      <th>Word 1</th>\n",
       "      <th>Word 2</th>\n",
       "      <th>Word 3</th>\n",
       "      <th>Word 4</th>\n",
       "      <th>Word 5</th>\n",
       "      <th>Word 6</th>\n",
       "      <th>Word 7</th>\n",
       "      <th>Word 8</th>\n",
       "      <th>Word 9</th>\n",
       "    </tr>\n",
       "  </thead>\n",
       "  <tbody>\n",
       "    <tr>\n",
       "      <th>Topic 0</th>\n",
       "      <td>org</td>\n",
       "      <td>spring</td>\n",
       "      <td>jar</td>\n",
       "      <td>version</td>\n",
       "      <td>springframework</td>\n",
       "      <td>groupid</td>\n",
       "      <td>artifactid</td>\n",
       "      <td>boot</td>\n",
       "      <td>name</td>\n",
       "      <td>maven</td>\n",
       "    </tr>\n",
       "    <tr>\n",
       "      <th>Topic 1</th>\n",
       "      <td>event</td>\n",
       "      <td>if</td>\n",
       "      <td>true</td>\n",
       "      <td>return</td>\n",
       "      <td>false</td>\n",
       "      <td>child</td>\n",
       "      <td>context</td>\n",
       "      <td>process</td>\n",
       "      <td>function</td>\n",
       "      <td>time</td>\n",
       "    </tr>\n",
       "    <tr>\n",
       "      <th>Topic 2</th>\n",
       "      <td>user</td>\n",
       "      <td>request</td>\n",
       "      <td>http</td>\n",
       "      <td>api</td>\n",
       "      <td>server</td>\n",
       "      <td>get</td>\n",
       "      <td>client</td>\n",
       "      <td>php</td>\n",
       "      <td>use</td>\n",
       "      <td>json</td>\n",
       "    </tr>\n",
       "    <tr>\n",
       "      <th>Topic 3</th>\n",
       "      <td>int</td>\n",
       "      <td>std</td>\n",
       "      <td>return</td>\n",
       "      <td>const</td>\n",
       "      <td>void</td>\n",
       "      <td>include</td>\n",
       "      <td>size</td>\n",
       "      <td>char</td>\n",
       "      <td>array</td>\n",
       "      <td>vector</td>\n",
       "    </tr>\n",
       "    <tr>\n",
       "      <th>Topic 4</th>\n",
       "      <td>app</td>\n",
       "      <td>android</td>\n",
       "      <td>googl</td>\n",
       "      <td>new</td>\n",
       "      <td>intent</td>\n",
       "      <td>firebas</td>\n",
       "      <td>com</td>\n",
       "      <td>if</td>\n",
       "      <td>void</td>\n",
       "      <td>public</td>\n",
       "    </tr>\n",
       "    <tr>\n",
       "      <th>Topic 5</th>\n",
       "      <td>page</td>\n",
       "      <td>chrome</td>\n",
       "      <td>com</td>\n",
       "      <td>browser</td>\n",
       "      <td>http</td>\n",
       "      <td>url</td>\n",
       "      <td>pdf</td>\n",
       "      <td>use</td>\n",
       "      <td>html</td>\n",
       "      <td>log</td>\n",
       "    </tr>\n",
       "    <tr>\n",
       "      <th>Topic 6</th>\n",
       "      <td>the</td>\n",
       "      <td>to</td>\n",
       "      <td>data</td>\n",
       "      <td>in</td>\n",
       "      <td>and</td>\n",
       "      <td>date</td>\n",
       "      <td>of</td>\n",
       "      <td>is</td>\n",
       "      <td>for</td>\n",
       "      <td>name</td>\n",
       "    </tr>\n",
       "    <tr>\n",
       "      <th>Topic 7</th>\n",
       "      <td>android</td>\n",
       "      <td>com</td>\n",
       "      <td>layout</td>\n",
       "      <td>support</td>\n",
       "      <td>app</td>\n",
       "      <td>id</td>\n",
       "      <td>view</td>\n",
       "      <td>compile</td>\n",
       "      <td>parent</td>\n",
       "      <td>dp</td>\n",
       "    </tr>\n",
       "    <tr>\n",
       "      <th>Topic 8</th>\n",
       "      <td>div</td>\n",
       "      <td>class</td>\n",
       "      <td>this</td>\n",
       "      <td>text</td>\n",
       "      <td>function</td>\n",
       "      <td>form</td>\n",
       "      <td>data</td>\n",
       "      <td>button</td>\n",
       "      <td>name</td>\n",
       "      <td>var</td>\n",
       "    </tr>\n",
       "    <tr>\n",
       "      <th>Topic 9</th>\n",
       "      <td>public</td>\n",
       "      <td>string</td>\n",
       "      <td>class</td>\n",
       "      <td>new</td>\n",
       "      <td>return</td>\n",
       "      <td>void</td>\n",
       "      <td>private</td>\n",
       "      <td>get</td>\n",
       "      <td>null</td>\n",
       "      <td>method</td>\n",
       "    </tr>\n",
       "    <tr>\n",
       "      <th>Topic 10</th>\n",
       "      <td>file</td>\n",
       "      <td>run</td>\n",
       "      <td>error</td>\n",
       "      <td>test</td>\n",
       "      <td>use</td>\n",
       "      <td>tri</td>\n",
       "      <td>work</td>\n",
       "      <td>code</td>\n",
       "      <td>command</td>\n",
       "      <td>get</td>\n",
       "    </tr>\n",
       "    <tr>\n",
       "      <th>Topic 11</th>\n",
       "      <td>project</td>\n",
       "      <td>build</td>\n",
       "      <td>net</td>\n",
       "      <td>version</td>\n",
       "      <td>node</td>\n",
       "      <td>npm</td>\n",
       "      <td>core</td>\n",
       "      <td>microsoft</td>\n",
       "      <td>system</td>\n",
       "      <td>packag</td>\n",
       "    </tr>\n",
       "    <tr>\n",
       "      <th>Topic 12</th>\n",
       "      <td>js</td>\n",
       "      <td>angular</td>\n",
       "      <td>import</td>\n",
       "      <td>app</td>\n",
       "      <td>react</td>\n",
       "      <td>from</td>\n",
       "      <td>node</td>\n",
       "      <td>webpack</td>\n",
       "      <td>path</td>\n",
       "      <td>component</td>\n",
       "    </tr>\n",
       "    <tr>\n",
       "      <th>Topic 13</th>\n",
       "      <td>python</td>\n",
       "      <td>in</td>\n",
       "      <td>import</td>\n",
       "      <td>py</td>\n",
       "      <td>model</td>\n",
       "      <td>tf</td>\n",
       "      <td>line</td>\n",
       "      <td>self</td>\n",
       "      <td>file</td>\n",
       "      <td>tensorflow</td>\n",
       "    </tr>\n",
       "    <tr>\n",
       "      <th>Topic 14</th>\n",
       "      <td>array</td>\n",
       "      <td>list</td>\n",
       "      <td>key</td>\n",
       "      <td>id</td>\n",
       "      <td>item</td>\n",
       "      <td>object</td>\n",
       "      <td>state</td>\n",
       "      <td>name</td>\n",
       "      <td>product</td>\n",
       "      <td>art</td>\n",
       "    </tr>\n",
       "    <tr>\n",
       "      <th>Topic 15</th>\n",
       "      <td>px</td>\n",
       "      <td>width</td>\n",
       "      <td>height</td>\n",
       "      <td>color</td>\n",
       "      <td>div</td>\n",
       "      <td>imag</td>\n",
       "      <td>font</td>\n",
       "      <td>style</td>\n",
       "      <td>background</td>\n",
       "      <td>in</td>\n",
       "    </tr>\n",
       "    <tr>\n",
       "      <th>Topic 16</th>\n",
       "      <td>self</td>\n",
       "      <td>let</td>\n",
       "      <td>view</td>\n",
       "      <td>func</td>\n",
       "      <td>swift</td>\n",
       "      <td>var</td>\n",
       "      <td>option</td>\n",
       "      <td>video</td>\n",
       "      <td>user</td>\n",
       "      <td>nil</td>\n",
       "    </tr>\n",
       "    <tr>\n",
       "      <th>Topic 17</th>\n",
       "      <td>use</td>\n",
       "      <td>would</td>\n",
       "      <td>like</td>\n",
       "      <td>one</td>\n",
       "      <td>way</td>\n",
       "      <td>work</td>\n",
       "      <td>want</td>\n",
       "      <td>need</td>\n",
       "      <td>question</td>\n",
       "      <td>exampl</td>\n",
       "    </tr>\n",
       "    <tr>\n",
       "      <th>Topic 18</th>\n",
       "      <td>type</td>\n",
       "      <td>function</td>\n",
       "      <td>foo</td>\n",
       "      <td>error</td>\n",
       "      <td>compil</td>\n",
       "      <td>class</td>\n",
       "      <td>bar</td>\n",
       "      <td>return</td>\n",
       "      <td>use</td>\n",
       "      <td>object</td>\n",
       "    </tr>\n",
       "    <tr>\n",
       "      <th>Topic 19</th>\n",
       "      <td>java</td>\n",
       "      <td>at</td>\n",
       "      <td>org</td>\n",
       "      <td>scala</td>\n",
       "      <td>apache</td>\n",
       "      <td>spark</td>\n",
       "      <td>internal</td>\n",
       "      <td>com</td>\n",
       "      <td>lang</td>\n",
       "      <td>run</td>\n",
       "    </tr>\n",
       "  </tbody>\n",
       "</table>\n",
       "</div>"
      ],
      "text/plain": [
       "           Word 0    Word 1  Word 2   Word 3           Word 4   Word 5  \\\n",
       "Topic 0       org    spring     jar  version  springframework  groupid   \n",
       "Topic 1     event        if    true   return            false    child   \n",
       "Topic 2      user   request    http      api           server      get   \n",
       "Topic 3       int       std  return    const             void  include   \n",
       "Topic 4       app   android   googl      new           intent  firebas   \n",
       "Topic 5      page    chrome     com  browser             http      url   \n",
       "Topic 6       the        to    data       in              and     date   \n",
       "Topic 7   android       com  layout  support              app       id   \n",
       "Topic 8       div     class    this     text         function     form   \n",
       "Topic 9    public    string   class      new           return     void   \n",
       "Topic 10     file       run   error     test              use      tri   \n",
       "Topic 11  project     build     net  version             node      npm   \n",
       "Topic 12       js   angular  import      app            react     from   \n",
       "Topic 13   python        in  import       py            model       tf   \n",
       "Topic 14    array      list     key       id             item   object   \n",
       "Topic 15       px     width  height    color              div     imag   \n",
       "Topic 16     self       let    view     func            swift      var   \n",
       "Topic 17      use     would    like      one              way     work   \n",
       "Topic 18     type  function     foo    error           compil    class   \n",
       "Topic 19     java        at     org    scala           apache    spark   \n",
       "\n",
       "              Word 6     Word 7      Word 8      Word 9  \n",
       "Topic 0   artifactid       boot        name       maven  \n",
       "Topic 1      context    process    function        time  \n",
       "Topic 2       client        php         use        json  \n",
       "Topic 3         size       char       array      vector  \n",
       "Topic 4          com         if        void      public  \n",
       "Topic 5          pdf        use        html         log  \n",
       "Topic 6           of         is         for        name  \n",
       "Topic 7         view    compile      parent          dp  \n",
       "Topic 8         data     button        name         var  \n",
       "Topic 9      private        get        null      method  \n",
       "Topic 10        work       code     command         get  \n",
       "Topic 11        core  microsoft      system      packag  \n",
       "Topic 12        node    webpack        path   component  \n",
       "Topic 13        line       self        file  tensorflow  \n",
       "Topic 14       state       name     product         art  \n",
       "Topic 15        font      style  background          in  \n",
       "Topic 16      option      video        user         nil  \n",
       "Topic 17        want       need    question      exampl  \n",
       "Topic 18         bar     return         use      object  \n",
       "Topic 19    internal        com        lang         run  "
      ]
     },
     "execution_count": 36,
     "metadata": {},
     "output_type": "execute_result"
    }
   ],
   "source": [
    "topic_keywords = show_topics(tf_feature_names, best_lda_model, n_words=10)        \n",
    "\n",
    "# Topic - Keywords Dataframe\n",
    "df_topic_keywords = pd.DataFrame(topic_keywords)\n",
    "df_topic_keywords.columns = ['Word '+str(i) for i in range(df_topic_keywords.shape[1])]\n",
    "df_topic_keywords.index = ['Topic '+str(i) for i in range(df_topic_keywords.shape[0])]\n",
    "df_topic_keywords"
   ]
  },
  {
   "cell_type": "markdown",
   "metadata": {},
   "source": [
    "Nous pouvons interpréter certains topics : <br/>\n",
    "- le sujet 1 : Tableau HTML\n",
    "- Le sujet 7 : Androïd \n",
    "- Le sujet 9 : Requêtes HTTP \n",
    "- Le sujet 15 : Microsoft / .Net\n",
    "- Le sujet 16 : Java / Apache\n",
    "- Le sujet 17 : Python\n",
    "- Le sujet 19 : System / Installation\n",
    "..."
   ]
  },
  {
   "cell_type": "markdown",
   "metadata": {},
   "source": [
    "###  Docs / Topics"
   ]
  },
  {
   "cell_type": "markdown",
   "metadata": {},
   "source": [
    "Voyons maintenant le topic associé à quelques documents."
   ]
  },
  {
   "cell_type": "code",
   "execution_count": 37,
   "metadata": {
    "collapsed": true
   },
   "outputs": [],
   "source": [
    "'''\n",
    "Affiche pour chacun des topics, le top n documents qui sont les plus pertinent pour ce topic.\n",
    "@H : word_to_topics matrix\n",
    "@W : topics_to_docs matrix\n",
    "'''\n",
    "def display_topics(H, W, feature_names, documents, targets, no_top_words, no_top_documents):\n",
    "    for topic_idx, topic in enumerate(H):\n",
    "        print (\"Topic %d : \" % (topic_idx) + \" \".join([feature_names[i]\n",
    "                        for i in topic.argsort()[:-no_top_words - 1:-1]]))\n",
    "        top_doc_indices = np.argsort( W[:,topic_idx] )[::-1][0:no_top_documents]\n",
    "        for doc_index in top_doc_indices:\n",
    "            print (\"Doc\",doc_index,\" Title:\", documents.iloc[doc_index].TITLE[0:60],\n",
    "                   \"- Tags:\", targets.iloc[doc_index].TAGS_P)\n",
    "        print(\"\")"
   ]
  },
  {
   "cell_type": "code",
   "execution_count": 38,
   "metadata": {},
   "outputs": [
    {
     "name": "stdout",
     "output_type": "stream",
     "text": [
      "Topic 0 : org spring jar version springframework groupid artifactid boot name maven\n",
      "Doc 3689  Title: mvn package load other Library as Eclipse - Tags: ['java', 'eclipse', 'maven']\n",
      "Doc 8445  Title: Exception on download: sun.security.validator.ValidatorExcep - Tags: ['scala', 'sbt', 'ubuntu-16.04']\n",
      "\n",
      "Topic 1 : event if true return false child context process function time\n",
      "Doc 7796  Title: bash: Why can't I set a trap for SIGINT in a background shel - Tags: ['bash']\n",
      "Doc 2341  Title: Lambda Throttling Scenario - Tags: ['amazon-web-services', 'asynchronous', 'aws-lambda', 'amazon-sns']\n",
      "\n",
      "Topic 2 : user request http api server get client php use json\n",
      "Doc 2087  Title: SSH agent forwarding during docker build - Tags: ['docker', 'docker-compose', 'dockerfile']\n",
      "Doc 2724  Title: nginx: [emerg] \"server\" directive is not allowed here - Tags: ['nginx']\n",
      "\n",
      "Topic 3 : int std return const void include size char array vector\n",
      "Doc 2581  Title: Why does std::less<Eigen::VectorXd> fail to compile? - Tags: ['c++', 'eigen']\n",
      "Doc 9180  Title: Generic utility to create aribtrary tuples of integral_const - Tags: ['c++', 'c++14', 'template-meta-programming']\n",
      "\n",
      "Topic 4 : app android googl new intent firebas com if void public\n",
      "Doc 9045  Title: Migrating from gcm to fcm on android - Tags: ['android', 'firebase', 'google-cloud-messaging', 'firebase-cloud-messaging']\n",
      "Doc 4990  Title: FCM topic - Cannot subscribe to topic: xxx with token: (null - Tags: ['ios', 'swift', 'firebase', 'firebase-cloud-messaging']\n",
      "\n",
      "Topic 5 : page chrome com browser http url pdf use html log\n",
      "Doc 7265  Title: Why rotation-invariant neural networks are not used in winne - Tags: ['machine-learning', 'computer-vision', 'neural-network', 'deep-learning', 'conv-neural-network']\n",
      "Doc 7084  Title: git pull --rebase vs git rebase : what's the danger? - Tags: ['git']\n",
      "\n",
      "Topic 6 : the to data in and date of is for name\n",
      "Doc 3184  Title: When is \"NOT\" not a negation? - Tags: ['sql-server', 'tsql', 'null', 'expression', 'evaluation']\n",
      "Doc 8546  Title: raw SQL to laravel query - Tags: ['sql', 'sql-server', 'laravel', 'laravel-5']\n",
      "\n",
      "Topic 7 : android com layout support app id view compile parent dp\n",
      "Doc 507  Title: Gradle sync Error on Android Studio 3.1 Canary 3 - Tags: ['android', 'android-gradle', 'android-studio-3.0']\n",
      "Doc 4351  Title: How to accomplish this animation on CardView with Coordinato - Tags: ['android', 'animation', 'kotlin', 'material-design', 'android-design-library']\n",
      "\n",
      "Topic 8 : div class this text function form data button name var\n",
      "Doc 8384  Title: ngSubmit refreshes the page in Angular 2 form - Tags: ['angular', 'typescript']\n",
      "Doc 654  Title: How to toggle a class of an input if it's not empty with jQu - Tags: ['javascript', 'jquery', 'html', 'twitter-bootstrap']\n",
      "\n",
      "Topic 9 : public string class new return void private get null method\n",
      "Doc 9017  Title: Mockito asks to add @PrepareForTest for the class even after - Tags: ['java', 'mockito', 'powermock']\n",
      "Doc 8410  Title: Castle Dynamic Proxy of Interface and not Derived Class - Tags: ['c#', 'proxy']\n",
      "\n",
      "Topic 10 : file run error test use tri work code command get\n",
      "Doc 1353  Title: What is \"pkg-resources==0.0.0\" in output of pip freeze comma - Tags: ['python', 'python-3.x', 'pip', 'ubuntu-16.04']\n",
      "Doc 10032  Title: Xcode Server OTA Install: \"cannot connect to server.local\" - Tags: ['ios', 'xcode', 'macos', 'continuous-integration']\n",
      "\n",
      "Topic 11 : project build net version node npm core microsoft system packag\n",
      "Doc 8631  Title: duplicate symbols for architecture arm64 after xCode 8.0 upd - Tags: ['ios', 'xcode', 'architecture', 'updates']\n",
      "Doc 1262  Title: npm - Error: EPERM: operation not permitted, unlink - Tags: ['node.js', 'npm', 'gulp', 'npm-install']\n",
      "\n",
      "Topic 12 : js angular import app react from node webpack path component\n",
      "Doc 977  Title: Can't resolve parameters for app module - Tags: ['angular']\n",
      "Doc 7417  Title: React.createElement: type is invalid -- expected a string - Tags: ['reactjs', 'react-router']\n",
      "\n",
      "Topic 13 : python in import py model tf line self file tensorflow\n",
      "Doc 7558  Title: Transfer learning with tf.estimator.Estimator framework - Tags: ['python', 'tensorflow']\n",
      "Doc 99  Title: How to apply Drop Out in Tensorflow to improve the accuracy  - Tags: ['neural-network', 'tensorflow', 'deep-learning']\n",
      "\n",
      "Topic 14 : array list key id item object state name product art\n",
      "Doc 97  Title: Elasticsearch - filter and sort by name with Priority except - Tags: ['javascript', 'node.js', 'sorting', 'elasticsearch', 'indexing']\n",
      "Doc 5947  Title: Filter object properties by key in ES6 - Tags: ['filter', 'ecmascript-6']\n",
      "\n",
      "Topic 15 : px width height color div imag font style background in\n",
      "Doc 4011  Title: Sigmoid Curve Shape with CSS - Tags: ['css', 'css3', 'svg', 'css-shapes']\n",
      "Doc 5007  Title: Efficient CSS3 Long Shadows on div with rounded corners - Tags: ['html', 'css', 'html5', 'css3']\n",
      "\n",
      "Topic 16 : self let view func swift var option video user nil\n",
      "Doc 1059  Title: Swift: ScrollRectToVisible not working - Tags: ['ios', 'xcode', 'swift', 'uiscrollview']\n",
      "Doc 5231  Title: How can I make UINavigationController transparent in one vie - Tags: ['ios', 'swift', 'uinavigationcontroller', 'uinavigationbar']\n",
      "\n",
      "Topic 17 : use would like one way work want need question exampl\n",
      "Doc 9731  Title: Sum and product in given range - Tags: ['algorithm', 'math']\n",
      "Doc 46  Title: AWS ECS Task Memory Hard and Soft Limits - Tags: ['amazon-web-services', 'memory', 'amazon-ecs']\n",
      "\n",
      "Topic 18 : type function foo error compil class bar return use object\n",
      "Doc 662  Title: deprecated struct members C++ - Tags: ['c++', 'gcc']\n",
      "Doc 9974  Title: No compiler warning for obvious segfault - Tags: ['c', 'gcc', 'segmentation-fault', 'clang']\n",
      "\n",
      "Topic 19 : java at org scala apache spark internal com lang run\n",
      "Doc 847  Title: Why does Spark report \"java.net.URISyntaxException: Relative - Tags: ['apache-spark', 'spark-dataframe']\n",
      "Doc 1117  Title: AppEngine - Unable to compile class for JSP - Tags: ['java', 'maven', 'google-app-engine', 'java-8']\n",
      "\n"
     ]
    }
   ],
   "source": [
    "display_topics(best_lda_model.components_, lda_output, tf_feature_names, x_train, y_train, 10, 2)"
   ]
  },
  {
   "cell_type": "markdown",
   "metadata": {},
   "source": [
    "- **Stockons pour chaque document, le topic qui a la plus grande prédominance**"
   ]
  },
  {
   "cell_type": "code",
   "execution_count": 39,
   "metadata": {
    "collapsed": true
   },
   "outputs": [],
   "source": [
    "# id des posts\n",
    "docnames = [\"Doc\" + str(i) for i in range(len(x_train))]\n",
    "\n",
    "# On crée un dataframe\n",
    "df_document_topic = pd.DataFrame(np.round(lda_output, 4), columns=topicnames, index=docnames)\n",
    "\n",
    "# On rajoute une colonne contenant le numéro du topic prédominant\n",
    "dominant_topic = np.argmax(df_document_topic.values, axis=1)\n",
    "df_document_topic['Dominant_Topic'] = dominant_topic"
   ]
  },
  {
   "cell_type": "code",
   "execution_count": 40,
   "metadata": {},
   "outputs": [
    {
     "data": {
      "text/html": [
       "<div>\n",
       "<style>\n",
       "    .dataframe thead tr:only-child th {\n",
       "        text-align: right;\n",
       "    }\n",
       "\n",
       "    .dataframe thead th {\n",
       "        text-align: left;\n",
       "    }\n",
       "\n",
       "    .dataframe tbody tr th {\n",
       "        vertical-align: top;\n",
       "    }\n",
       "</style>\n",
       "<table border=\"1\" class=\"dataframe\">\n",
       "  <thead>\n",
       "    <tr style=\"text-align: right;\">\n",
       "      <th></th>\n",
       "      <th>Topic0</th>\n",
       "      <th>Topic1</th>\n",
       "      <th>Topic2</th>\n",
       "      <th>Topic3</th>\n",
       "      <th>Topic4</th>\n",
       "      <th>Topic5</th>\n",
       "      <th>Topic6</th>\n",
       "      <th>Topic7</th>\n",
       "      <th>Topic8</th>\n",
       "      <th>Topic9</th>\n",
       "      <th>...</th>\n",
       "      <th>Topic11</th>\n",
       "      <th>Topic12</th>\n",
       "      <th>Topic13</th>\n",
       "      <th>Topic14</th>\n",
       "      <th>Topic15</th>\n",
       "      <th>Topic16</th>\n",
       "      <th>Topic17</th>\n",
       "      <th>Topic18</th>\n",
       "      <th>Topic19</th>\n",
       "      <th>Dominant_Topic</th>\n",
       "    </tr>\n",
       "  </thead>\n",
       "  <tbody>\n",
       "    <tr>\n",
       "      <th>Doc0</th>\n",
       "      <td>0.0003</td>\n",
       "      <td>0.0003</td>\n",
       "      <td>0.0003</td>\n",
       "      <td>0.0003</td>\n",
       "      <td>0.0003</td>\n",
       "      <td>0.0387</td>\n",
       "      <td>0.0226</td>\n",
       "      <td>0.1294</td>\n",
       "      <td>0.0003</td>\n",
       "      <td>0.0003</td>\n",
       "      <td>...</td>\n",
       "      <td>0.0906</td>\n",
       "      <td>0.0446</td>\n",
       "      <td>0.0003</td>\n",
       "      <td>0.0268</td>\n",
       "      <td>0.0003</td>\n",
       "      <td>0.0003</td>\n",
       "      <td>0.0003</td>\n",
       "      <td>0.1716</td>\n",
       "      <td>0.0636</td>\n",
       "      <td>10</td>\n",
       "    </tr>\n",
       "    <tr>\n",
       "      <th>Doc1</th>\n",
       "      <td>0.0010</td>\n",
       "      <td>0.1268</td>\n",
       "      <td>0.0010</td>\n",
       "      <td>0.0010</td>\n",
       "      <td>0.0010</td>\n",
       "      <td>0.0010</td>\n",
       "      <td>0.0010</td>\n",
       "      <td>0.0010</td>\n",
       "      <td>0.0010</td>\n",
       "      <td>0.0010</td>\n",
       "      <td>...</td>\n",
       "      <td>0.1201</td>\n",
       "      <td>0.0010</td>\n",
       "      <td>0.0010</td>\n",
       "      <td>0.0010</td>\n",
       "      <td>0.0010</td>\n",
       "      <td>0.0010</td>\n",
       "      <td>0.0010</td>\n",
       "      <td>0.0010</td>\n",
       "      <td>0.0010</td>\n",
       "      <td>10</td>\n",
       "    </tr>\n",
       "    <tr>\n",
       "      <th>Doc2</th>\n",
       "      <td>0.0010</td>\n",
       "      <td>0.0010</td>\n",
       "      <td>0.0010</td>\n",
       "      <td>0.0010</td>\n",
       "      <td>0.0010</td>\n",
       "      <td>0.0010</td>\n",
       "      <td>0.0010</td>\n",
       "      <td>0.0010</td>\n",
       "      <td>0.0010</td>\n",
       "      <td>0.0010</td>\n",
       "      <td>...</td>\n",
       "      <td>0.0010</td>\n",
       "      <td>0.0010</td>\n",
       "      <td>0.0010</td>\n",
       "      <td>0.0010</td>\n",
       "      <td>0.1057</td>\n",
       "      <td>0.7015</td>\n",
       "      <td>0.1762</td>\n",
       "      <td>0.0010</td>\n",
       "      <td>0.0010</td>\n",
       "      <td>16</td>\n",
       "    </tr>\n",
       "    <tr>\n",
       "      <th>Doc3</th>\n",
       "      <td>0.0013</td>\n",
       "      <td>0.0013</td>\n",
       "      <td>0.0013</td>\n",
       "      <td>0.0013</td>\n",
       "      <td>0.0013</td>\n",
       "      <td>0.0013</td>\n",
       "      <td>0.0013</td>\n",
       "      <td>0.0013</td>\n",
       "      <td>0.0013</td>\n",
       "      <td>0.0013</td>\n",
       "      <td>...</td>\n",
       "      <td>0.2816</td>\n",
       "      <td>0.0013</td>\n",
       "      <td>0.0013</td>\n",
       "      <td>0.0013</td>\n",
       "      <td>0.0621</td>\n",
       "      <td>0.0013</td>\n",
       "      <td>0.1810</td>\n",
       "      <td>0.0013</td>\n",
       "      <td>0.0013</td>\n",
       "      <td>10</td>\n",
       "    </tr>\n",
       "    <tr>\n",
       "      <th>Doc4</th>\n",
       "      <td>0.0577</td>\n",
       "      <td>0.0413</td>\n",
       "      <td>0.6144</td>\n",
       "      <td>0.0002</td>\n",
       "      <td>0.0002</td>\n",
       "      <td>0.0002</td>\n",
       "      <td>0.0002</td>\n",
       "      <td>0.0002</td>\n",
       "      <td>0.0002</td>\n",
       "      <td>0.1094</td>\n",
       "      <td>...</td>\n",
       "      <td>0.0002</td>\n",
       "      <td>0.0002</td>\n",
       "      <td>0.0002</td>\n",
       "      <td>0.0002</td>\n",
       "      <td>0.0002</td>\n",
       "      <td>0.0002</td>\n",
       "      <td>0.0505</td>\n",
       "      <td>0.0002</td>\n",
       "      <td>0.0601</td>\n",
       "      <td>2</td>\n",
       "    </tr>\n",
       "    <tr>\n",
       "      <th>Doc5</th>\n",
       "      <td>0.0001</td>\n",
       "      <td>0.0001</td>\n",
       "      <td>0.0001</td>\n",
       "      <td>0.0001</td>\n",
       "      <td>0.0001</td>\n",
       "      <td>0.0001</td>\n",
       "      <td>0.0937</td>\n",
       "      <td>0.0001</td>\n",
       "      <td>0.0001</td>\n",
       "      <td>0.0001</td>\n",
       "      <td>...</td>\n",
       "      <td>0.1107</td>\n",
       "      <td>0.0001</td>\n",
       "      <td>0.7693</td>\n",
       "      <td>0.0001</td>\n",
       "      <td>0.0001</td>\n",
       "      <td>0.0001</td>\n",
       "      <td>0.0001</td>\n",
       "      <td>0.0001</td>\n",
       "      <td>0.0001</td>\n",
       "      <td>13</td>\n",
       "    </tr>\n",
       "    <tr>\n",
       "      <th>Doc6</th>\n",
       "      <td>0.0012</td>\n",
       "      <td>0.0012</td>\n",
       "      <td>0.0012</td>\n",
       "      <td>0.0012</td>\n",
       "      <td>0.0012</td>\n",
       "      <td>0.0012</td>\n",
       "      <td>0.0012</td>\n",
       "      <td>0.0012</td>\n",
       "      <td>0.0012</td>\n",
       "      <td>0.0012</td>\n",
       "      <td>...</td>\n",
       "      <td>0.0012</td>\n",
       "      <td>0.0012</td>\n",
       "      <td>0.2765</td>\n",
       "      <td>0.0012</td>\n",
       "      <td>0.0012</td>\n",
       "      <td>0.0716</td>\n",
       "      <td>0.3688</td>\n",
       "      <td>0.0012</td>\n",
       "      <td>0.0012</td>\n",
       "      <td>17</td>\n",
       "    </tr>\n",
       "    <tr>\n",
       "      <th>Doc7</th>\n",
       "      <td>0.1762</td>\n",
       "      <td>0.0087</td>\n",
       "      <td>0.1813</td>\n",
       "      <td>0.0001</td>\n",
       "      <td>0.0001</td>\n",
       "      <td>0.0001</td>\n",
       "      <td>0.0001</td>\n",
       "      <td>0.0001</td>\n",
       "      <td>0.0001</td>\n",
       "      <td>0.3909</td>\n",
       "      <td>...</td>\n",
       "      <td>0.0001</td>\n",
       "      <td>0.0241</td>\n",
       "      <td>0.0001</td>\n",
       "      <td>0.0001</td>\n",
       "      <td>0.0001</td>\n",
       "      <td>0.0001</td>\n",
       "      <td>0.0001</td>\n",
       "      <td>0.0001</td>\n",
       "      <td>0.2167</td>\n",
       "      <td>9</td>\n",
       "    </tr>\n",
       "    <tr>\n",
       "      <th>Doc8</th>\n",
       "      <td>0.3374</td>\n",
       "      <td>0.0015</td>\n",
       "      <td>0.0015</td>\n",
       "      <td>0.0015</td>\n",
       "      <td>0.0015</td>\n",
       "      <td>0.0015</td>\n",
       "      <td>0.0015</td>\n",
       "      <td>0.0015</td>\n",
       "      <td>0.0015</td>\n",
       "      <td>0.0015</td>\n",
       "      <td>...</td>\n",
       "      <td>0.0015</td>\n",
       "      <td>0.0015</td>\n",
       "      <td>0.0015</td>\n",
       "      <td>0.0015</td>\n",
       "      <td>0.0015</td>\n",
       "      <td>0.0015</td>\n",
       "      <td>0.6353</td>\n",
       "      <td>0.0015</td>\n",
       "      <td>0.0015</td>\n",
       "      <td>17</td>\n",
       "    </tr>\n",
       "    <tr>\n",
       "      <th>Doc9</th>\n",
       "      <td>0.0002</td>\n",
       "      <td>0.0002</td>\n",
       "      <td>0.0002</td>\n",
       "      <td>0.8050</td>\n",
       "      <td>0.0002</td>\n",
       "      <td>0.0002</td>\n",
       "      <td>0.1024</td>\n",
       "      <td>0.0002</td>\n",
       "      <td>0.0002</td>\n",
       "      <td>0.0002</td>\n",
       "      <td>...</td>\n",
       "      <td>0.0163</td>\n",
       "      <td>0.0002</td>\n",
       "      <td>0.0205</td>\n",
       "      <td>0.0002</td>\n",
       "      <td>0.0002</td>\n",
       "      <td>0.0002</td>\n",
       "      <td>0.0528</td>\n",
       "      <td>0.0002</td>\n",
       "      <td>0.0002</td>\n",
       "      <td>3</td>\n",
       "    </tr>\n",
       "  </tbody>\n",
       "</table>\n",
       "<p>10 rows × 21 columns</p>\n",
       "</div>"
      ],
      "text/plain": [
       "      Topic0  Topic1  Topic2  Topic3  Topic4  Topic5  Topic6  Topic7  Topic8  \\\n",
       "Doc0  0.0003  0.0003  0.0003  0.0003  0.0003  0.0387  0.0226  0.1294  0.0003   \n",
       "Doc1  0.0010  0.1268  0.0010  0.0010  0.0010  0.0010  0.0010  0.0010  0.0010   \n",
       "Doc2  0.0010  0.0010  0.0010  0.0010  0.0010  0.0010  0.0010  0.0010  0.0010   \n",
       "Doc3  0.0013  0.0013  0.0013  0.0013  0.0013  0.0013  0.0013  0.0013  0.0013   \n",
       "Doc4  0.0577  0.0413  0.6144  0.0002  0.0002  0.0002  0.0002  0.0002  0.0002   \n",
       "Doc5  0.0001  0.0001  0.0001  0.0001  0.0001  0.0001  0.0937  0.0001  0.0001   \n",
       "Doc6  0.0012  0.0012  0.0012  0.0012  0.0012  0.0012  0.0012  0.0012  0.0012   \n",
       "Doc7  0.1762  0.0087  0.1813  0.0001  0.0001  0.0001  0.0001  0.0001  0.0001   \n",
       "Doc8  0.3374  0.0015  0.0015  0.0015  0.0015  0.0015  0.0015  0.0015  0.0015   \n",
       "Doc9  0.0002  0.0002  0.0002  0.8050  0.0002  0.0002  0.1024  0.0002  0.0002   \n",
       "\n",
       "      Topic9       ...        Topic11  Topic12  Topic13  Topic14  Topic15  \\\n",
       "Doc0  0.0003       ...         0.0906   0.0446   0.0003   0.0268   0.0003   \n",
       "Doc1  0.0010       ...         0.1201   0.0010   0.0010   0.0010   0.0010   \n",
       "Doc2  0.0010       ...         0.0010   0.0010   0.0010   0.0010   0.1057   \n",
       "Doc3  0.0013       ...         0.2816   0.0013   0.0013   0.0013   0.0621   \n",
       "Doc4  0.1094       ...         0.0002   0.0002   0.0002   0.0002   0.0002   \n",
       "Doc5  0.0001       ...         0.1107   0.0001   0.7693   0.0001   0.0001   \n",
       "Doc6  0.0012       ...         0.0012   0.0012   0.2765   0.0012   0.0012   \n",
       "Doc7  0.3909       ...         0.0001   0.0241   0.0001   0.0001   0.0001   \n",
       "Doc8  0.0015       ...         0.0015   0.0015   0.0015   0.0015   0.0015   \n",
       "Doc9  0.0002       ...         0.0163   0.0002   0.0205   0.0002   0.0002   \n",
       "\n",
       "      Topic16  Topic17  Topic18  Topic19  Dominant_Topic  \n",
       "Doc0   0.0003   0.0003   0.1716   0.0636              10  \n",
       "Doc1   0.0010   0.0010   0.0010   0.0010              10  \n",
       "Doc2   0.7015   0.1762   0.0010   0.0010              16  \n",
       "Doc3   0.0013   0.1810   0.0013   0.0013              10  \n",
       "Doc4   0.0002   0.0505   0.0002   0.0601               2  \n",
       "Doc5   0.0001   0.0001   0.0001   0.0001              13  \n",
       "Doc6   0.0716   0.3688   0.0012   0.0012              17  \n",
       "Doc7   0.0001   0.0001   0.0001   0.2167               9  \n",
       "Doc8   0.0015   0.6353   0.0015   0.0015              17  \n",
       "Doc9   0.0002   0.0528   0.0002   0.0002               3  \n",
       "\n",
       "[10 rows x 21 columns]"
      ]
     },
     "execution_count": 40,
     "metadata": {},
     "output_type": "execute_result"
    }
   ],
   "source": [
    "df_document_topic.head(10)"
   ]
  },
  {
   "cell_type": "markdown",
   "metadata": {},
   "source": [
    "## 3.3 Préparation pour prédiction"
   ]
  },
  {
   "cell_type": "markdown",
   "metadata": {},
   "source": [
    "Pour nous aider à faire nos prédictions, nous allons construire une matrice tags par topic.<br/>\n",
    "Pour la construire, nous allons :\n",
    "- Pour chaque tag_i et chaque topic_j\n",
    "    - Sommer la probabilité d’appartenance au topic_j des documents contenant le tag_i. \n",
    "    - Nous allons normaliser cette somme en faisant une moyenne sur le nombre de documents qui contiennent le tag_i"
   ]
  },
  {
   "cell_type": "markdown",
   "metadata": {},
   "source": [
    "|         | tag_1 | tag_2 | ... |tag_m | \n",
    "|---------|-------|-------|-----|------|\n",
    "| **topic_1**  |  xxx  | xxx   | ... | xxx  | \n",
    "|**topic_2** |  xxx  | xxx   | ... | xxx  | \n",
    "|...      |  xxx  | xxx   | ... | xxx  |\n",
    "|**topic_n**      |  xxx  | xxx   | ... | xxx  |\n"
   ]
  },
  {
   "cell_type": "markdown",
   "metadata": {},
   "source": [
    "- Commençons par stocker pour chacun des tags, les documents qui y sont liés."
   ]
  },
  {
   "cell_type": "code",
   "execution_count": 41,
   "metadata": {
    "collapsed": true
   },
   "outputs": [],
   "source": [
    "'''\n",
    "Retourne la liste des positions (à partir index) dans data des documents contenant le tag\n",
    "'''\n",
    "def getTagDocPositions(tag, data):\n",
    "    doc_indexes = data[data['TAGS_P'].apply(lambda x: True  if tag in x else False)].index.values\n",
    "    return [(lambda x: data.index.get_loc(x))(x) for x in doc_indexes]"
   ]
  },
  {
   "cell_type": "code",
   "execution_count": 42,
   "metadata": {
    "collapsed": true
   },
   "outputs": [],
   "source": [
    "documents_by_tags = {}\n",
    "for tag in frequent_tags :\n",
    "    docs_index = getTagDocPositions(tag, y_train)\n",
    "    documents_by_tags[tag] = docs_index"
   ]
  },
  {
   "cell_type": "markdown",
   "metadata": {},
   "source": [
    "Le dictionnaire **documents_by_tags** associe à un tag, la liste des documents contenant ce tag (la position du document dans le dataframe de training)"
   ]
  },
  {
   "cell_type": "markdown",
   "metadata": {},
   "source": [
    "- Construisons maintenant notre matrice tags par topics."
   ]
  },
  {
   "cell_type": "code",
   "execution_count": 43,
   "metadata": {
    "collapsed": true
   },
   "outputs": [],
   "source": [
    "'''\n",
    "@model : \n",
    "@ ft : list of frequent tags\n",
    "@ d_by_t : dictionary of list of documents containing the tag (key)\n",
    "'''\n",
    "def buildTagByTopicsMatrix(topics_modeling_algo, tm_output, ft,  d_by_t) :\n",
    "    tag_by_topics_ = np.zeros([topics_modeling_algo.n_components,len(ft)])\n",
    "    for topic_idx in range(topics_modeling_algo.n_components):\n",
    "        for tag_idx, tag in enumerate(ft):\n",
    "            docs_pos = d_by_t[tag]\n",
    "            topic_score = 0\n",
    "            for d in docs_pos :\n",
    "                topic_score += tm_output[d][topic_idx]\n",
    "                if topic_score > 0 :\n",
    "                    #tag_by_topics_[topic_idx][tag_idx]=topic_score/len(docs_pos)\n",
    "                    tag_by_topics_[topic_idx][tag_idx]=topic_score\n",
    "    return tag_by_topics_"
   ]
  },
  {
   "cell_type": "code",
   "execution_count": 44,
   "metadata": {
    "collapsed": true
   },
   "outputs": [],
   "source": [
    "tags_by_topics_lda = buildTagByTopicsMatrix(best_lda_model,lda_output, frequent_tags, documents_by_tags )"
   ]
  },
  {
   "cell_type": "code",
   "execution_count": 45,
   "metadata": {},
   "outputs": [
    {
     "data": {
      "text/plain": [
       "(20, 2114)"
      ]
     },
     "execution_count": 45,
     "metadata": {},
     "output_type": "execute_result"
    }
   ],
   "source": [
    "tags_by_topics_lda.shape"
   ]
  },
  {
   "cell_type": "markdown",
   "metadata": {},
   "source": [
    "- Ecrivons une méthode qui retourne, pour un numéro de topic donné, les _n_ tags les plus pertinents (ceux qui ont le meilleur score dans notre matrice)"
   ]
  },
  {
   "cell_type": "code",
   "execution_count": 46,
   "metadata": {
    "collapsed": true
   },
   "outputs": [],
   "source": [
    "'''\n",
    "Retourne num_tags tags les plus pertinents associés au vecteur de topics\n",
    "'''\n",
    "def getBestTagsForTopics(tag_topics_matrix,  topics_vector, tags_list, num_tags) :\n",
    "    tags_result = topics_vector.dot(tag_topics_matrix)\n",
    "    best_tags_indices = np.argsort(-tags_result[0])[:num_tags]\n",
    "    best_tags = [tags_list[index] for index in best_tags_indices]\n",
    "    return best_tags"
   ]
  },
  {
   "cell_type": "markdown",
   "metadata": {},
   "source": [
    "## 3.4 Prédiction"
   ]
  },
  {
   "cell_type": "markdown",
   "metadata": {},
   "source": [
    "### Text cleaning and processing"
   ]
  },
  {
   "cell_type": "markdown",
   "metadata": {},
   "source": [
    "Reprenons le code des méthodes utilisées pour la partie cleaning du texte et pré-processing."
   ]
  },
  {
   "cell_type": "code",
   "execution_count": 47,
   "metadata": {
    "collapsed": true
   },
   "outputs": [],
   "source": [
    "stopword_list = set(stopwords.words('english'))\n",
    "tokenizer = ToktokTokenizer()\n",
    "\n",
    "'''\n",
    "Méthode qui permet de mettre les contractions dans une forme classique.\n",
    "Méthode récupéré depuis github : (c) @dipanjanS\n",
    "'''\n",
    "def expand_contractions(text, contraction_mapping=CONTRACTION_MAP):\n",
    "    contractions_pattern = re.compile('({})'.format('|'.join(contraction_mapping.keys())), \n",
    "                                      flags=re.IGNORECASE|re.DOTALL)\n",
    "    def expand_match(contraction):\n",
    "        match = contraction.group(0)\n",
    "        first_char = match[0]\n",
    "        expanded_contraction = contraction_mapping.get(match)\\\n",
    "                                if contraction_mapping.get(match)\\\n",
    "                                else contraction_mapping.get(match.lower())                       \n",
    "        expanded_contraction = first_char+expanded_contraction[1:]\n",
    "        return expanded_contraction\n",
    "        \n",
    "    expanded_text = contractions_pattern.sub(expand_match, text)\n",
    "    expanded_text = re.sub(\"'\", \"\", expanded_text)\n",
    "    return expanded_text\n",
    "\n",
    "\n",
    "# stemming of words\n",
    "def stem_text(word) :\n",
    "    porter = PorterStemmer()\n",
    "    return porter.stem(word)\n",
    "\n",
    "\n",
    "def getCleanedText(text) :\n",
    "    # remove html tags\n",
    "    text = BeautifulSoup(text, \"lxml\").get_text()\n",
    "    \n",
    "    # remove accented char\n",
    "    text = unicodedata.normalize('NFKD', text).encode('ascii', 'ignore').decode('utf-8', 'ignore')\n",
    "    \n",
    "    text = expand_contractions(text)\n",
    "    \n",
    "    # remove non alpha char\n",
    "    text = re.sub('[\\W\\d_]', ' ', text)\n",
    "\n",
    "    # convert to lower case\n",
    "    text = text.lower()\n",
    "  \n",
    "    #remove extra newlines\n",
    "    text = re.sub(r'[\\r|\\n|\\r\\n]+', ' ',text)\n",
    "    \n",
    "    # remove extra whitespace\n",
    "    text = re.sub(' +', ' ', text)\n",
    "    \n",
    "    # Remove any single letter except 'c' (correspond au langage)\n",
    "    text = ' '.join( [w for w in text.split() if len(w)>1 or w == 'c'] )\n",
    "    \n",
    "    # remove stopwords\n",
    "    tokens = tokenizer.tokenize(text)\n",
    "    tokens = [token.strip() for token in tokens]\n",
    "    meaningful_words = [token for token in tokens if token not in stopword_list]\n",
    "    \n",
    "    # stemming of words\n",
    "    porter = PorterStemmer()\n",
    "    stemmed = [porter.stem(word) for word in meaningful_words]\n",
    "    \n",
    "    # join the words back into one string separated by space, \n",
    "    # and return the result.\n",
    "    return( \" \".join( stemmed )) "
   ]
  },
  {
   "cell_type": "code",
   "execution_count": 48,
   "metadata": {
    "collapsed": true
   },
   "outputs": [],
   "source": [
    "def getCleanedBody(body) :\n",
    "    text = getCleanedBodyText(body)\n",
    "    code = getCleanedBodyCode(body)\n",
    "    return (text + ' ' + code).strip()\n",
    "\n",
    "'''\n",
    "Retrieve body text inside <p>,<h1>,<h2>,<li> tags and return the cleaned and normalized text\n",
    "'''\n",
    "def getCleanedBodyText(body) :\n",
    "    ctext=\"\"\n",
    "    tags_list=['h1','h2','p','li']\n",
    "    soup = BeautifulSoup(body, 'html.parser')\n",
    "    for t in tags_list :\n",
    "        blocks = soup.findAll(t)\n",
    "        for block in blocks:\n",
    "            ctext += \" \" + block.text   \n",
    "    cleaned_text = getCleanedText(ctext)\n",
    "    return re.sub(' +',' ',cleaned_text.strip())\n",
    "\n",
    "'''\n",
    "Retrieve the code text inside the body\n",
    "'''\n",
    "def getCleanedBodyCode(body) :\n",
    "    ctext=\"\"\n",
    "    soup = BeautifulSoup(body, 'lxml')\n",
    "    code_blocks = soup.findAll('code')\n",
    "    ctext=\" \".join(list(map(lambda x : x.text, code_blocks )))\n",
    "    table = str.maketrans('', '', string.punctuation)\n",
    "    words = re.findall(r\"[^\\W\\d_']+\", ctext.lower())\n",
    "    stripped = [w.translate(table) for w in words]\n",
    "    return( \" \".join( stripped ))"
   ]
  },
  {
   "cell_type": "markdown",
   "metadata": {},
   "source": [
    "### Topic prediction"
   ]
  },
  {
   "cell_type": "markdown",
   "metadata": {},
   "source": [
    "- Ecrivons une méthode qui va, par le biais de LDA, retrouver le topic prédominant d'un texte."
   ]
  },
  {
   "cell_type": "code",
   "execution_count": 49,
   "metadata": {
    "collapsed": true
   },
   "outputs": [],
   "source": [
    "'''\n",
    "Retourne les pertinence de topics pour le post donné (titre et texte)\n",
    "'''\n",
    "def getTopicsForPost(title, body, vectorizer, tm_model) :\n",
    "    text = getCleanedText(title) + ' ' + getCleanedBody(body)\n",
    "    text_vectorized = vectorizer.transform([text])\n",
    "    topic_probability_scores = tm_model.transform(text_vectorized)\n",
    "    return topic_probability_scores"
   ]
  },
  {
   "cell_type": "markdown",
   "metadata": {},
   "source": [
    "- Méthode qui va chercher dans la matrice tags/topics, les tags les plus pertinent pour un post.<br/>\n",
    "Elle va d'abord déterminer le topic prédominant du post puis rechercher les tags."
   ]
  },
  {
   "cell_type": "code",
   "execution_count": 50,
   "metadata": {
    "collapsed": true
   },
   "outputs": [],
   "source": [
    "'''\n",
    "Retourne la liste de n tags les plus pertinents pour le post donné.\n",
    "Se base pour celà de la matrice tags par topics.\n",
    "'''\n",
    "def getTagsPrediction(title, body, num_tag, tag_topics_matrix, frequent_tags, vectorizer, tm_model ) :\n",
    "    predicted_topics = getTopicsForPost(title, body,vectorizer, tm_model ) \n",
    "    predicted_tags = getBestTagsForTopics(tag_topics_matrix, predicted_topics, frequent_tags, num_tag)\n",
    "    return predicted_tags"
   ]
  },
  {
   "cell_type": "markdown",
   "metadata": {},
   "source": [
    "- Méthode qui prédit les tags d'une série de post."
   ]
  },
  {
   "cell_type": "code",
   "execution_count": 51,
   "metadata": {
    "collapsed": true
   },
   "outputs": [],
   "source": [
    "'''\n",
    "Retourne un dataframe contenant les prédictions de tags pour les posts contenant dans posts_df\n",
    "@ post_df : le dataframe contenant les posts (title / body)\n",
    "@ num_tag : le nombre de tags à prédire\n",
    "@ t_by_topics : la matrice tags/topics utilisée pour la prédiction\n",
    "@ f_tags : liste des tags les plus fréquents (même ordre que tags dans la matrice)\n",
    "@ vectorizer : convertisseur à utiliser pour transformer texte en matrice de tokens et d'occurences.\n",
    "@ tm_model : le modèle de topic modeling à utiliser\n",
    "'''\n",
    "def getPostsTagsPrediction(posts_df, num_tag, t_by_topics, f_tags, vectorizer, tm_model):\n",
    "    y_predicted=posts_df.apply(lambda row: getTagsPrediction(row['TITLE'], row['BODY'], \n",
    "                                                             num_tag, t_by_topics, f_tags, vectorizer, tm_model),\n",
    "                               axis=1)\n",
    "    y_predicted_df = y_predicted.to_frame()\n",
    "    y_predicted_df.columns = ['TAGS_P']\n",
    "    return y_predicted_df"
   ]
  },
  {
   "cell_type": "markdown",
   "metadata": {},
   "source": [
    "## 3.5 Evaluation de la méthode"
   ]
  },
  {
   "cell_type": "markdown",
   "metadata": {},
   "source": [
    "- Méthode pour évaluer la qualité de nos prédictions"
   ]
  },
  {
   "cell_type": "code",
   "execution_count": 52,
   "metadata": {
    "collapsed": true
   },
   "outputs": [],
   "source": [
    "'''\n",
    "Méthode permettant d'évaluer la qualité des prédictions en comparant les tags prédits aux tags réels.\n",
    "calcule pour chaque post, le rapport entre le nombre de tags correctement prédits sur le nombre de tags réels.\n",
    "retourne la moyenne de ces rapports.\n",
    "'''\n",
    "def predictionAccuracy(y_predicted, y_true) :\n",
    "    tags_found=[]\n",
    "    for index, row in y_predicted.iterrows():\n",
    "        number_tags_found = 0\n",
    "        for t in row['TAGS_P'] :\n",
    "            if t in y_true.loc[index]['TAGS_P'] :\n",
    "                number_tags_found +=1\n",
    "        tags_found.append(number_tags_found/len(y_true.loc[index]['TAGS_P']))\n",
    "    print(\"Prediction accuracy: {:.2f} % \".format(100*np.mean(tags_found)))"
   ]
  },
  {
   "cell_type": "markdown",
   "metadata": {},
   "source": [
    "### Prédiction des topics pour notre jeu de tests"
   ]
  },
  {
   "cell_type": "code",
   "execution_count": 53,
   "metadata": {
    "collapsed": true
   },
   "outputs": [],
   "source": [
    "y_predicted_lda = getPostsTagsPrediction(x_test, 5, tags_by_topics_lda, frequent_tags, cv, best_lda_model)"
   ]
  },
  {
   "cell_type": "code",
   "execution_count": 54,
   "metadata": {},
   "outputs": [
    {
     "data": {
      "text/html": [
       "<div>\n",
       "<style>\n",
       "    .dataframe thead tr:only-child th {\n",
       "        text-align: right;\n",
       "    }\n",
       "\n",
       "    .dataframe thead th {\n",
       "        text-align: left;\n",
       "    }\n",
       "\n",
       "    .dataframe tbody tr th {\n",
       "        vertical-align: top;\n",
       "    }\n",
       "</style>\n",
       "<table border=\"1\" class=\"dataframe\">\n",
       "  <thead>\n",
       "    <tr style=\"text-align: right;\">\n",
       "      <th></th>\n",
       "      <th>TAGS_P</th>\n",
       "    </tr>\n",
       "  </thead>\n",
       "  <tbody>\n",
       "    <tr>\n",
       "      <th>38288</th>\n",
       "      <td>[python, tensorflow, c++, javascript, java]</td>\n",
       "    </tr>\n",
       "    <tr>\n",
       "      <th>11295</th>\n",
       "      <td>[python, javascript, java, c++, android]</td>\n",
       "    </tr>\n",
       "    <tr>\n",
       "      <th>54524</th>\n",
       "      <td>[javascript, php, python, c#, android]</td>\n",
       "    </tr>\n",
       "    <tr>\n",
       "      <th>6835</th>\n",
       "      <td>[javascript, python, php, java, c#]</td>\n",
       "    </tr>\n",
       "    <tr>\n",
       "      <th>61768</th>\n",
       "      <td>[c++, c++11, java, javascript, python]</td>\n",
       "    </tr>\n",
       "  </tbody>\n",
       "</table>\n",
       "</div>"
      ],
      "text/plain": [
       "                                            TAGS_P\n",
       "38288  [python, tensorflow, c++, javascript, java]\n",
       "11295     [python, javascript, java, c++, android]\n",
       "54524       [javascript, php, python, c#, android]\n",
       "6835           [javascript, python, php, java, c#]\n",
       "61768       [c++, c++11, java, javascript, python]"
      ]
     },
     "execution_count": 54,
     "metadata": {},
     "output_type": "execute_result"
    }
   ],
   "source": [
    "y_predicted_lda.head()"
   ]
  },
  {
   "cell_type": "markdown",
   "metadata": {},
   "source": [
    "### Evaluation de la prédiction du jeu de test"
   ]
  },
  {
   "cell_type": "code",
   "execution_count": 55,
   "metadata": {},
   "outputs": [
    {
     "name": "stdout",
     "output_type": "stream",
     "text": [
      "Prediction accuracy: 27.61 % \n"
     ]
    }
   ],
   "source": [
    "predictionAccuracy(y_predicted_lda, y_test)"
   ]
  },
  {
   "cell_type": "markdown",
   "metadata": {},
   "source": [
    "### Evaluation de la prédiction de notre sample de validation"
   ]
  },
  {
   "cell_type": "code",
   "execution_count": 63,
   "metadata": {
    "collapsed": true
   },
   "outputs": [],
   "source": [
    "x_validation = df_learn[['TITLE','BODY']]\n",
    "y_validation = df_learn['TAGS_P']\n",
    "y_validation = y_validation.to_frame()"
   ]
  },
  {
   "cell_type": "code",
   "execution_count": 64,
   "metadata": {},
   "outputs": [
    {
     "name": "stdout",
     "output_type": "stream",
     "text": [
      "Prediction accuracy: 27.94 % \n"
     ]
    }
   ],
   "source": [
    "y_predicted = getPostsTagsPrediction(x_validation, 5,tags_by_topics_lda,frequent_tags, cv,  best_lda_model )\n",
    "result = predictionAccuracy(y_predicted, y_validation)"
   ]
  },
  {
   "cell_type": "markdown",
   "metadata": {},
   "source": [
    "# 4. NMF"
   ]
  },
  {
   "cell_type": "markdown",
   "metadata": {},
   "source": [
    "Voyons maintenant la méthode NMF (Factorisation par matrices non négatives) pour prédire nos tags."
   ]
  },
  {
   "cell_type": "markdown",
   "metadata": {},
   "source": [
    "## 4.1 Vectorization du texte"
   ]
  },
  {
   "cell_type": "markdown",
   "metadata": {},
   "source": [
    "Utilisons la métrique tf-idf (Term-Frequency - Inverse Document Frequency)."
   ]
  },
  {
   "cell_type": "code",
   "execution_count": 65,
   "metadata": {},
   "outputs": [
    {
     "name": "stdout",
     "output_type": "stream",
     "text": [
      "Extracting tf-idf features for NMF...\n"
     ]
    },
    {
     "data": {
      "text/plain": [
       "(10404, 9243)"
      ]
     },
     "execution_count": 65,
     "metadata": {},
     "output_type": "execute_result"
    }
   ],
   "source": [
    "# Use tf-idf features for NMF.\n",
    "print(\"Extracting tf-idf features for NMF...\")\n",
    "tfidf_vectorizer = TfidfVectorizer(max_df=0.95, min_df=5)\n",
    "tfidf_vectorized = tfidf_vectorizer.fit_transform(x_train_text)\n",
    "tfidf_matrix = tfidf_vectorized.toarray()\n",
    "tfidf_matrix.shape"
   ]
  },
  {
   "cell_type": "code",
   "execution_count": 66,
   "metadata": {
    "collapsed": true
   },
   "outputs": [],
   "source": [
    "tfidf_feature_names = tfidf_vectorizer.get_feature_names()"
   ]
  },
  {
   "cell_type": "markdown",
   "metadata": {},
   "source": [
    "## 4.2 Modélisation"
   ]
  },
  {
   "cell_type": "code",
   "execution_count": 67,
   "metadata": {
    "collapsed": true
   },
   "outputs": [],
   "source": [
    "nmf_model = NMF(n_components=30, random_state=1, alpha=.1, l1_ratio=.5).fit(tfidf_vectorized)"
   ]
  },
  {
   "cell_type": "code",
   "execution_count": 68,
   "metadata": {
    "collapsed": true
   },
   "outputs": [],
   "source": [
    "nmf_output = nmf_model.transform(tfidf_vectorized)"
   ]
  },
  {
   "cell_type": "code",
   "execution_count": 69,
   "metadata": {},
   "outputs": [
    {
     "data": {
      "text/plain": [
       "(10404, 30)"
      ]
     },
     "execution_count": 69,
     "metadata": {},
     "output_type": "execute_result"
    }
   ],
   "source": [
    "nmf_output.shape"
   ]
  },
  {
   "cell_type": "markdown",
   "metadata": {},
   "source": [
    "## 4.3 Analyse"
   ]
  },
  {
   "cell_type": "markdown",
   "metadata": {},
   "source": [
    "### Topics / Words"
   ]
  },
  {
   "cell_type": "code",
   "execution_count": 70,
   "metadata": {},
   "outputs": [
    {
     "data": {
      "text/html": [
       "<div>\n",
       "<style>\n",
       "    .dataframe thead tr:only-child th {\n",
       "        text-align: right;\n",
       "    }\n",
       "\n",
       "    .dataframe thead th {\n",
       "        text-align: left;\n",
       "    }\n",
       "\n",
       "    .dataframe tbody tr th {\n",
       "        vertical-align: top;\n",
       "    }\n",
       "</style>\n",
       "<table border=\"1\" class=\"dataframe\">\n",
       "  <thead>\n",
       "    <tr style=\"text-align: right;\">\n",
       "      <th></th>\n",
       "      <th>Word 0</th>\n",
       "      <th>Word 1</th>\n",
       "      <th>Word 2</th>\n",
       "      <th>Word 3</th>\n",
       "      <th>Word 4</th>\n",
       "      <th>Word 5</th>\n",
       "      <th>Word 6</th>\n",
       "      <th>Word 7</th>\n",
       "      <th>Word 8</th>\n",
       "      <th>Word 9</th>\n",
       "    </tr>\n",
       "  </thead>\n",
       "  <tbody>\n",
       "    <tr>\n",
       "      <th>Topic 0</th>\n",
       "      <td>use</td>\n",
       "      <td>would</td>\n",
       "      <td>like</td>\n",
       "      <td>way</td>\n",
       "      <td>code</td>\n",
       "      <td>one</td>\n",
       "      <td>work</td>\n",
       "      <td>time</td>\n",
       "      <td>type</td>\n",
       "      <td>want</td>\n",
       "    </tr>\n",
       "    <tr>\n",
       "      <th>Topic 1</th>\n",
       "      <td>android</td>\n",
       "      <td>layout</td>\n",
       "      <td>com</td>\n",
       "      <td>support</td>\n",
       "      <td>app</td>\n",
       "      <td>compile</td>\n",
       "      <td>id</td>\n",
       "      <td>dp</td>\n",
       "      <td>view</td>\n",
       "      <td>parent</td>\n",
       "    </tr>\n",
       "    <tr>\n",
       "      <th>Topic 2</th>\n",
       "      <td>std</td>\n",
       "      <td>vector</td>\n",
       "      <td>cout</td>\n",
       "      <td>const</td>\n",
       "      <td>typename</td>\n",
       "      <td>include</td>\n",
       "      <td>template</td>\n",
       "      <td>auto</td>\n",
       "      <td>void</td>\n",
       "      <td>endl</td>\n",
       "    </tr>\n",
       "    <tr>\n",
       "      <th>Topic 3</th>\n",
       "      <td>div</td>\n",
       "      <td>class</td>\n",
       "      <td>form</td>\n",
       "      <td>button</td>\n",
       "      <td>item</td>\n",
       "      <td>text</td>\n",
       "      <td>input</td>\n",
       "      <td>span</td>\n",
       "      <td>html</td>\n",
       "      <td>label</td>\n",
       "    </tr>\n",
       "    <tr>\n",
       "      <th>Topic 4</th>\n",
       "      <td>java</td>\n",
       "      <td>at</td>\n",
       "      <td>org</td>\n",
       "      <td>lang</td>\n",
       "      <td>activitythread</td>\n",
       "      <td>internal</td>\n",
       "      <td>apache</td>\n",
       "      <td>com</td>\n",
       "      <td>os</td>\n",
       "      <td>zygoteinit</td>\n",
       "    </tr>\n",
       "    <tr>\n",
       "      <th>Topic 5</th>\n",
       "      <td>import</td>\n",
       "      <td>from</td>\n",
       "      <td>component</td>\n",
       "      <td>modul</td>\n",
       "      <td>export</td>\n",
       "      <td>module</td>\n",
       "      <td>ts</td>\n",
       "      <td>const</td>\n",
       "      <td>this</td>\n",
       "      <td>error</td>\n",
       "    </tr>\n",
       "    <tr>\n",
       "      <th>Topic 6</th>\n",
       "      <td>px</td>\n",
       "      <td>width</td>\n",
       "      <td>height</td>\n",
       "      <td>color</td>\n",
       "      <td>background</td>\n",
       "      <td>border</td>\n",
       "      <td>font</td>\n",
       "      <td>style</td>\n",
       "      <td>css</td>\n",
       "      <td>imag</td>\n",
       "    </tr>\n",
       "    <tr>\n",
       "      <th>Topic 7</th>\n",
       "      <td>public</td>\n",
       "      <td>class</td>\n",
       "      <td>void</td>\n",
       "      <td>new</td>\n",
       "      <td>private</td>\n",
       "      <td>static</td>\n",
       "      <td>method</td>\n",
       "      <td>override</td>\n",
       "      <td>null</td>\n",
       "      <td>this</td>\n",
       "    </tr>\n",
       "    <tr>\n",
       "      <th>Topic 8</th>\n",
       "      <td>string</td>\n",
       "      <td>str</td>\n",
       "      <td>charact</td>\n",
       "      <td>key</td>\n",
       "      <td>char</td>\n",
       "      <td>convert</td>\n",
       "      <td>hello</td>\n",
       "      <td>format</td>\n",
       "      <td>return</td>\n",
       "      <td>var</td>\n",
       "    </tr>\n",
       "    <tr>\n",
       "      <th>Topic 9</th>\n",
       "      <td>python</td>\n",
       "      <td>py</td>\n",
       "      <td>lib</td>\n",
       "      <td>in</td>\n",
       "      <td>line</td>\n",
       "      <td>instal</td>\n",
       "      <td>packages</td>\n",
       "      <td>pip</td>\n",
       "      <td>usr</td>\n",
       "      <td>site</td>\n",
       "    </tr>\n",
       "    <tr>\n",
       "      <th>Topic 10</th>\n",
       "      <td>foo</td>\n",
       "      <td>bar</td>\n",
       "      <td>baz</td>\n",
       "      <td>const</td>\n",
       "      <td>struct</td>\n",
       "      <td>compil</td>\n",
       "      <td>template</td>\n",
       "      <td>type</td>\n",
       "      <td>function</td>\n",
       "      <td>call</td>\n",
       "    </tr>\n",
       "    <tr>\n",
       "      <th>Topic 11</th>\n",
       "      <td>react</td>\n",
       "      <td>nativ</td>\n",
       "      <td>compon</td>\n",
       "      <td>render</td>\n",
       "      <td>router</td>\n",
       "      <td>native</td>\n",
       "      <td>props</td>\n",
       "      <td>redux</td>\n",
       "      <td>this</td>\n",
       "      <td>state</td>\n",
       "    </tr>\n",
       "    <tr>\n",
       "      <th>Topic 12</th>\n",
       "      <td>js</td>\n",
       "      <td>node</td>\n",
       "      <td>webpack</td>\n",
       "      <td>npm</td>\n",
       "      <td>loader</td>\n",
       "      <td>modules</td>\n",
       "      <td>script</td>\n",
       "      <td>src</td>\n",
       "      <td>css</td>\n",
       "      <td>index</td>\n",
       "    </tr>\n",
       "    <tr>\n",
       "      <th>Topic 13</th>\n",
       "      <td>angular</td>\n",
       "      <td>compon</td>\n",
       "      <td>ng</td>\n",
       "      <td>cli</td>\n",
       "      <td>router</td>\n",
       "      <td>component</td>\n",
       "      <td>ts</td>\n",
       "      <td>app</td>\n",
       "      <td>rout</td>\n",
       "      <td>browser</td>\n",
       "    </tr>\n",
       "    <tr>\n",
       "      <th>Topic 14</th>\n",
       "      <td>function</td>\n",
       "      <td>var</td>\n",
       "      <td>return</td>\n",
       "      <td>this</td>\n",
       "      <td>log</td>\n",
       "      <td>console</td>\n",
       "      <td>error</td>\n",
       "      <td>call</td>\n",
       "      <td>if</td>\n",
       "      <td>data</td>\n",
       "    </tr>\n",
       "    <tr>\n",
       "      <th>Topic 15</th>\n",
       "      <td>xcode</td>\n",
       "      <td>app</td>\n",
       "      <td>swift</td>\n",
       "      <td>io</td>\n",
       "      <td>error</td>\n",
       "      <td>build</td>\n",
       "      <td>devic</td>\n",
       "      <td>simul</td>\n",
       "      <td>beta</td>\n",
       "      <td>crash</td>\n",
       "    </tr>\n",
       "    <tr>\n",
       "      <th>Topic 16</th>\n",
       "      <td>net</td>\n",
       "      <td>core</td>\n",
       "      <td>asp</td>\n",
       "      <td>framework</td>\n",
       "      <td>web</td>\n",
       "      <td>microsoft</td>\n",
       "      <td>applic</td>\n",
       "      <td>system</td>\n",
       "      <td>project</td>\n",
       "      <td>mvc</td>\n",
       "    </tr>\n",
       "    <tr>\n",
       "      <th>Topic 17</th>\n",
       "      <td>int</td>\n",
       "      <td>struct</td>\n",
       "      <td>compil</td>\n",
       "      <td>type</td>\n",
       "      <td>void</td>\n",
       "      <td>return</td>\n",
       "      <td>main</td>\n",
       "      <td>const</td>\n",
       "      <td>static</td>\n",
       "      <td>gcc</td>\n",
       "    </tr>\n",
       "    <tr>\n",
       "      <th>Topic 18</th>\n",
       "      <td>test</td>\n",
       "      <td>unit</td>\n",
       "      <td>run</td>\n",
       "      <td>junit</td>\n",
       "      <td>mock</td>\n",
       "      <td>tests</td>\n",
       "      <td>jest</td>\n",
       "      <td>mocha</td>\n",
       "      <td>src</td>\n",
       "      <td>coverag</td>\n",
       "    </tr>\n",
       "    <tr>\n",
       "      <th>Topic 19</th>\n",
       "      <td>studio</td>\n",
       "      <td>project</td>\n",
       "      <td>visual</td>\n",
       "      <td>build</td>\n",
       "      <td>instal</td>\n",
       "      <td>error</td>\n",
       "      <td>version</td>\n",
       "      <td>gradl</td>\n",
       "      <td>packag</td>\n",
       "      <td>run</td>\n",
       "    </tr>\n",
       "    <tr>\n",
       "      <th>Topic 20</th>\n",
       "      <td>docker</td>\n",
       "      <td>compos</td>\n",
       "      <td>contain</td>\n",
       "      <td>run</td>\n",
       "      <td>compose</td>\n",
       "      <td>yml</td>\n",
       "      <td>imag</td>\n",
       "      <td>build</td>\n",
       "      <td>host</td>\n",
       "      <td>command</td>\n",
       "    </tr>\n",
       "    <tr>\n",
       "      <th>Topic 21</th>\n",
       "      <td>array</td>\n",
       "      <td>element</td>\n",
       "      <td>arr</td>\n",
       "      <td>numpi</td>\n",
       "      <td>index</td>\n",
       "      <td>np</td>\n",
       "      <td>object</td>\n",
       "      <td>size</td>\n",
       "      <td>slice</td>\n",
       "      <td>item</td>\n",
       "    </tr>\n",
       "    <tr>\n",
       "      <th>Topic 22</th>\n",
       "      <td>user</td>\n",
       "      <td>firebas</td>\n",
       "      <td>password</td>\n",
       "      <td>login</td>\n",
       "      <td>email</td>\n",
       "      <td>auth</td>\n",
       "      <td>id</td>\n",
       "      <td>authent</td>\n",
       "      <td>account</td>\n",
       "      <td>username</td>\n",
       "    </tr>\n",
       "    <tr>\n",
       "      <th>Topic 23</th>\n",
       "      <td>file</td>\n",
       "      <td>upload</td>\n",
       "      <td>path</td>\n",
       "      <td>json</td>\n",
       "      <td>folder</td>\n",
       "      <td>directori</td>\n",
       "      <td>php</td>\n",
       "      <td>read</td>\n",
       "      <td>open</td>\n",
       "      <td>files</td>\n",
       "    </tr>\n",
       "    <tr>\n",
       "      <th>Topic 24</th>\n",
       "      <td>list</td>\n",
       "      <td>item</td>\n",
       "      <td>element</td>\n",
       "      <td>map</td>\n",
       "      <td>stream</td>\n",
       "      <td>in</td>\n",
       "      <td>new</td>\n",
       "      <td>sort</td>\n",
       "      <td>add</td>\n",
       "      <td>for</td>\n",
       "    </tr>\n",
       "    <tr>\n",
       "      <th>Topic 25</th>\n",
       "      <td>api</td>\n",
       "      <td>http</td>\n",
       "      <td>request</td>\n",
       "      <td>token</td>\n",
       "      <td>com</td>\n",
       "      <td>client</td>\n",
       "      <td>url</td>\n",
       "      <td>server</td>\n",
       "      <td>googl</td>\n",
       "      <td>get</td>\n",
       "    </tr>\n",
       "    <tr>\n",
       "      <th>Topic 26</th>\n",
       "      <td>data</td>\n",
       "      <td>df</td>\n",
       "      <td>column</td>\n",
       "      <td>id</td>\n",
       "      <td>row</td>\n",
       "      <td>name</td>\n",
       "      <td>datafram</td>\n",
       "      <td>tabl</td>\n",
       "      <td>panda</td>\n",
       "      <td>table</td>\n",
       "    </tr>\n",
       "    <tr>\n",
       "      <th>Topic 27</th>\n",
       "      <td>git</td>\n",
       "      <td>branch</td>\n",
       "      <td>commit</td>\n",
       "      <td>master</td>\n",
       "      <td>pull</td>\n",
       "      <td>repo</td>\n",
       "      <td>merg</td>\n",
       "      <td>push</td>\n",
       "      <td>checkout</td>\n",
       "      <td>clone</td>\n",
       "    </tr>\n",
       "    <tr>\n",
       "      <th>Topic 28</th>\n",
       "      <td>self</td>\n",
       "      <td>let</td>\n",
       "      <td>func</td>\n",
       "      <td>nil</td>\n",
       "      <td>view</td>\n",
       "      <td>print</td>\n",
       "      <td>swift</td>\n",
       "      <td>init</td>\n",
       "      <td>def</td>\n",
       "      <td>in</td>\n",
       "    </tr>\n",
       "    <tr>\n",
       "      <th>Topic 29</th>\n",
       "      <td>tf</td>\n",
       "      <td>tensorflow</td>\n",
       "      <td>train</td>\n",
       "      <td>model</td>\n",
       "      <td>batch</td>\n",
       "      <td>input</td>\n",
       "      <td>shape</td>\n",
       "      <td>gpu</td>\n",
       "      <td>tensor</td>\n",
       "      <td>graph</td>\n",
       "    </tr>\n",
       "  </tbody>\n",
       "</table>\n",
       "</div>"
      ],
      "text/plain": [
       "            Word 0      Word 1     Word 2     Word 3          Word 4  \\\n",
       "Topic 0        use       would       like        way            code   \n",
       "Topic 1    android      layout        com    support             app   \n",
       "Topic 2        std      vector       cout      const        typename   \n",
       "Topic 3        div       class       form     button            item   \n",
       "Topic 4       java          at        org       lang  activitythread   \n",
       "Topic 5     import        from  component      modul          export   \n",
       "Topic 6         px       width     height      color      background   \n",
       "Topic 7     public       class       void        new         private   \n",
       "Topic 8     string         str    charact        key            char   \n",
       "Topic 9     python          py        lib         in            line   \n",
       "Topic 10       foo         bar        baz      const          struct   \n",
       "Topic 11     react       nativ     compon     render          router   \n",
       "Topic 12        js        node    webpack        npm          loader   \n",
       "Topic 13   angular      compon         ng        cli          router   \n",
       "Topic 14  function         var     return       this             log   \n",
       "Topic 15     xcode         app      swift         io           error   \n",
       "Topic 16       net        core        asp  framework             web   \n",
       "Topic 17       int      struct     compil       type            void   \n",
       "Topic 18      test        unit        run      junit            mock   \n",
       "Topic 19    studio     project     visual      build          instal   \n",
       "Topic 20    docker      compos    contain        run         compose   \n",
       "Topic 21     array     element        arr      numpi           index   \n",
       "Topic 22      user     firebas   password      login           email   \n",
       "Topic 23      file      upload       path       json          folder   \n",
       "Topic 24      list        item    element        map          stream   \n",
       "Topic 25       api        http    request      token             com   \n",
       "Topic 26      data          df     column         id             row   \n",
       "Topic 27       git      branch     commit     master            pull   \n",
       "Topic 28      self         let       func        nil            view   \n",
       "Topic 29        tf  tensorflow      train      model           batch   \n",
       "\n",
       "             Word 5    Word 6    Word 7    Word 8      Word 9  \n",
       "Topic 0         one      work      time      type        want  \n",
       "Topic 1     compile        id        dp      view      parent  \n",
       "Topic 2     include  template      auto      void        endl  \n",
       "Topic 3        text     input      span      html       label  \n",
       "Topic 4    internal    apache       com        os  zygoteinit  \n",
       "Topic 5      module        ts     const      this       error  \n",
       "Topic 6      border      font     style       css        imag  \n",
       "Topic 7      static    method  override      null        this  \n",
       "Topic 8     convert     hello    format    return         var  \n",
       "Topic 9      instal  packages       pip       usr        site  \n",
       "Topic 10     compil  template      type  function        call  \n",
       "Topic 11     native     props     redux      this       state  \n",
       "Topic 12    modules    script       src       css       index  \n",
       "Topic 13  component        ts       app      rout     browser  \n",
       "Topic 14    console     error      call        if        data  \n",
       "Topic 15      build     devic     simul      beta       crash  \n",
       "Topic 16  microsoft    applic    system   project         mvc  \n",
       "Topic 17     return      main     const    static         gcc  \n",
       "Topic 18      tests      jest     mocha       src     coverag  \n",
       "Topic 19      error   version     gradl    packag         run  \n",
       "Topic 20        yml      imag     build      host     command  \n",
       "Topic 21         np    object      size     slice        item  \n",
       "Topic 22       auth        id   authent   account    username  \n",
       "Topic 23  directori       php      read      open       files  \n",
       "Topic 24         in       new      sort       add         for  \n",
       "Topic 25     client       url    server     googl         get  \n",
       "Topic 26       name  datafram      tabl     panda       table  \n",
       "Topic 27       repo      merg      push  checkout       clone  \n",
       "Topic 28      print     swift      init       def          in  \n",
       "Topic 29      input     shape       gpu    tensor       graph  "
      ]
     },
     "execution_count": 70,
     "metadata": {},
     "output_type": "execute_result"
    }
   ],
   "source": [
    "topic_keywords = show_topics(tfidf_feature_names, nmf_model, n_words=10)        \n",
    "\n",
    "# Topic - Keywords Dataframe\n",
    "df_topic_keywords = pd.DataFrame(topic_keywords)\n",
    "df_topic_keywords.columns = ['Word '+str(i) for i in range(df_topic_keywords.shape[1])]\n",
    "df_topic_keywords.index = ['Topic '+str(i) for i in range(df_topic_keywords.shape[0])]\n",
    "df_topic_keywords"
   ]
  },
  {
   "cell_type": "markdown",
   "metadata": {},
   "source": [
    "### Topics / Docs"
   ]
  },
  {
   "cell_type": "code",
   "execution_count": 71,
   "metadata": {
    "collapsed": true
   },
   "outputs": [],
   "source": [
    "topicnames = [\"Topic\" + str(i) for i in range(nmf_model.n_components)]\n",
    "\n",
    "# id des posts\n",
    "docnames = [\"Doc\" + str(i) for i in range(len(x_train))]\n",
    "\n",
    "# On crée un dataframe\n",
    "df_document_topic = pd.DataFrame(np.round(nmf_output, 4), columns=topicnames, index=docnames)\n",
    "\n",
    "# On rajoute une colonne contenant le numéro du topic prédominant\n",
    "dominant_topic = np.argmax(df_document_topic.values, axis=1)\n",
    "df_document_topic['dominant_topic'] = dominant_topic"
   ]
  },
  {
   "cell_type": "code",
   "execution_count": 72,
   "metadata": {},
   "outputs": [
    {
     "data": {
      "text/html": [
       "<div>\n",
       "<style>\n",
       "    .dataframe thead tr:only-child th {\n",
       "        text-align: right;\n",
       "    }\n",
       "\n",
       "    .dataframe thead th {\n",
       "        text-align: left;\n",
       "    }\n",
       "\n",
       "    .dataframe tbody tr th {\n",
       "        vertical-align: top;\n",
       "    }\n",
       "</style>\n",
       "<table border=\"1\" class=\"dataframe\">\n",
       "  <thead>\n",
       "    <tr style=\"text-align: right;\">\n",
       "      <th></th>\n",
       "      <th>Topic0</th>\n",
       "      <th>Topic1</th>\n",
       "      <th>Topic2</th>\n",
       "      <th>Topic3</th>\n",
       "      <th>Topic4</th>\n",
       "      <th>Topic5</th>\n",
       "      <th>Topic6</th>\n",
       "      <th>Topic7</th>\n",
       "      <th>Topic8</th>\n",
       "      <th>Topic9</th>\n",
       "      <th>...</th>\n",
       "      <th>Topic21</th>\n",
       "      <th>Topic22</th>\n",
       "      <th>Topic23</th>\n",
       "      <th>Topic24</th>\n",
       "      <th>Topic25</th>\n",
       "      <th>Topic26</th>\n",
       "      <th>Topic27</th>\n",
       "      <th>Topic28</th>\n",
       "      <th>Topic29</th>\n",
       "      <th>dominant_topic</th>\n",
       "    </tr>\n",
       "  </thead>\n",
       "  <tbody>\n",
       "    <tr>\n",
       "      <th>Doc0</th>\n",
       "      <td>0.0133</td>\n",
       "      <td>0.0253</td>\n",
       "      <td>0.0</td>\n",
       "      <td>0.0</td>\n",
       "      <td>0.0265</td>\n",
       "      <td>0.0053</td>\n",
       "      <td>0.0000</td>\n",
       "      <td>0.0000</td>\n",
       "      <td>0.0</td>\n",
       "      <td>0.0</td>\n",
       "      <td>...</td>\n",
       "      <td>0.0</td>\n",
       "      <td>0.0</td>\n",
       "      <td>0.0394</td>\n",
       "      <td>0.0</td>\n",
       "      <td>0.0000</td>\n",
       "      <td>0.0000</td>\n",
       "      <td>0.0000</td>\n",
       "      <td>0.0000</td>\n",
       "      <td>0.0</td>\n",
       "      <td>19</td>\n",
       "    </tr>\n",
       "    <tr>\n",
       "      <th>Doc1</th>\n",
       "      <td>0.0000</td>\n",
       "      <td>0.0000</td>\n",
       "      <td>0.0</td>\n",
       "      <td>0.0</td>\n",
       "      <td>0.0000</td>\n",
       "      <td>0.0000</td>\n",
       "      <td>0.0000</td>\n",
       "      <td>0.0000</td>\n",
       "      <td>0.0</td>\n",
       "      <td>0.0</td>\n",
       "      <td>...</td>\n",
       "      <td>0.0</td>\n",
       "      <td>0.0</td>\n",
       "      <td>0.0248</td>\n",
       "      <td>0.0</td>\n",
       "      <td>0.0000</td>\n",
       "      <td>0.0000</td>\n",
       "      <td>0.0000</td>\n",
       "      <td>0.0000</td>\n",
       "      <td>0.0</td>\n",
       "      <td>19</td>\n",
       "    </tr>\n",
       "    <tr>\n",
       "      <th>Doc2</th>\n",
       "      <td>0.0159</td>\n",
       "      <td>0.0000</td>\n",
       "      <td>0.0</td>\n",
       "      <td>0.0</td>\n",
       "      <td>0.0000</td>\n",
       "      <td>0.0000</td>\n",
       "      <td>0.0075</td>\n",
       "      <td>0.0021</td>\n",
       "      <td>0.0</td>\n",
       "      <td>0.0</td>\n",
       "      <td>...</td>\n",
       "      <td>0.0</td>\n",
       "      <td>0.0</td>\n",
       "      <td>0.0000</td>\n",
       "      <td>0.0</td>\n",
       "      <td>0.0000</td>\n",
       "      <td>0.0000</td>\n",
       "      <td>0.0000</td>\n",
       "      <td>0.0388</td>\n",
       "      <td>0.0</td>\n",
       "      <td>28</td>\n",
       "    </tr>\n",
       "    <tr>\n",
       "      <th>Doc3</th>\n",
       "      <td>0.0097</td>\n",
       "      <td>0.0000</td>\n",
       "      <td>0.0</td>\n",
       "      <td>0.0</td>\n",
       "      <td>0.0000</td>\n",
       "      <td>0.0000</td>\n",
       "      <td>0.0000</td>\n",
       "      <td>0.0000</td>\n",
       "      <td>0.0</td>\n",
       "      <td>0.0</td>\n",
       "      <td>...</td>\n",
       "      <td>0.0</td>\n",
       "      <td>0.0</td>\n",
       "      <td>0.0108</td>\n",
       "      <td>0.0</td>\n",
       "      <td>0.0000</td>\n",
       "      <td>0.0000</td>\n",
       "      <td>0.0000</td>\n",
       "      <td>0.0000</td>\n",
       "      <td>0.0</td>\n",
       "      <td>19</td>\n",
       "    </tr>\n",
       "    <tr>\n",
       "      <th>Doc4</th>\n",
       "      <td>0.0050</td>\n",
       "      <td>0.0000</td>\n",
       "      <td>0.0</td>\n",
       "      <td>0.0</td>\n",
       "      <td>0.0000</td>\n",
       "      <td>0.0000</td>\n",
       "      <td>0.0000</td>\n",
       "      <td>0.0012</td>\n",
       "      <td>0.0</td>\n",
       "      <td>0.0</td>\n",
       "      <td>...</td>\n",
       "      <td>0.0</td>\n",
       "      <td>0.0</td>\n",
       "      <td>0.0000</td>\n",
       "      <td>0.0</td>\n",
       "      <td>0.0098</td>\n",
       "      <td>0.0045</td>\n",
       "      <td>0.0034</td>\n",
       "      <td>0.0000</td>\n",
       "      <td>0.0</td>\n",
       "      <td>18</td>\n",
       "    </tr>\n",
       "  </tbody>\n",
       "</table>\n",
       "<p>5 rows × 31 columns</p>\n",
       "</div>"
      ],
      "text/plain": [
       "      Topic0  Topic1  Topic2  Topic3  Topic4  Topic5  Topic6  Topic7  Topic8  \\\n",
       "Doc0  0.0133  0.0253     0.0     0.0  0.0265  0.0053  0.0000  0.0000     0.0   \n",
       "Doc1  0.0000  0.0000     0.0     0.0  0.0000  0.0000  0.0000  0.0000     0.0   \n",
       "Doc2  0.0159  0.0000     0.0     0.0  0.0000  0.0000  0.0075  0.0021     0.0   \n",
       "Doc3  0.0097  0.0000     0.0     0.0  0.0000  0.0000  0.0000  0.0000     0.0   \n",
       "Doc4  0.0050  0.0000     0.0     0.0  0.0000  0.0000  0.0000  0.0012     0.0   \n",
       "\n",
       "      Topic9       ...        Topic21  Topic22  Topic23  Topic24  Topic25  \\\n",
       "Doc0     0.0       ...            0.0      0.0   0.0394      0.0   0.0000   \n",
       "Doc1     0.0       ...            0.0      0.0   0.0248      0.0   0.0000   \n",
       "Doc2     0.0       ...            0.0      0.0   0.0000      0.0   0.0000   \n",
       "Doc3     0.0       ...            0.0      0.0   0.0108      0.0   0.0000   \n",
       "Doc4     0.0       ...            0.0      0.0   0.0000      0.0   0.0098   \n",
       "\n",
       "      Topic26  Topic27  Topic28  Topic29  dominant_topic  \n",
       "Doc0   0.0000   0.0000   0.0000      0.0              19  \n",
       "Doc1   0.0000   0.0000   0.0000      0.0              19  \n",
       "Doc2   0.0000   0.0000   0.0388      0.0              28  \n",
       "Doc3   0.0000   0.0000   0.0000      0.0              19  \n",
       "Doc4   0.0045   0.0034   0.0000      0.0              18  \n",
       "\n",
       "[5 rows x 31 columns]"
      ]
     },
     "execution_count": 72,
     "metadata": {},
     "output_type": "execute_result"
    }
   ],
   "source": [
    "df_document_topic.head()"
   ]
  },
  {
   "cell_type": "markdown",
   "metadata": {},
   "source": [
    "## 4.4 Matrice Tags / Topics"
   ]
  },
  {
   "cell_type": "code",
   "execution_count": 73,
   "metadata": {
    "collapsed": true
   },
   "outputs": [],
   "source": [
    "tags_by_topics_nmf = buildTagByTopicsMatrix(nmf_model,nmf_output, frequent_tags, documents_by_tags )"
   ]
  },
  {
   "cell_type": "code",
   "execution_count": 74,
   "metadata": {},
   "outputs": [
    {
     "data": {
      "text/plain": [
       "(30, 2114)"
      ]
     },
     "execution_count": 74,
     "metadata": {},
     "output_type": "execute_result"
    }
   ],
   "source": [
    "tags_by_topics_nmf.shape"
   ]
  },
  {
   "cell_type": "markdown",
   "metadata": {
    "collapsed": true
   },
   "source": [
    "## 4.5 Prédiction"
   ]
  },
  {
   "cell_type": "markdown",
   "metadata": {},
   "source": [
    "### Prédiction des topics pour notre jeu de tests"
   ]
  },
  {
   "cell_type": "code",
   "execution_count": 75,
   "metadata": {
    "collapsed": true
   },
   "outputs": [],
   "source": [
    "y_predicted_nmf = getPostsTagsPrediction(x_test, 5, tags_by_topics_nmf, frequent_tags, tfidf_vectorizer, nmf_model)"
   ]
  },
  {
   "cell_type": "code",
   "execution_count": 76,
   "metadata": {},
   "outputs": [
    {
     "data": {
      "text/html": [
       "<div>\n",
       "<style>\n",
       "    .dataframe thead tr:only-child th {\n",
       "        text-align: right;\n",
       "    }\n",
       "\n",
       "    .dataframe thead th {\n",
       "        text-align: left;\n",
       "    }\n",
       "\n",
       "    .dataframe tbody tr th {\n",
       "        vertical-align: top;\n",
       "    }\n",
       "</style>\n",
       "<table border=\"1\" class=\"dataframe\">\n",
       "  <thead>\n",
       "    <tr style=\"text-align: right;\">\n",
       "      <th></th>\n",
       "      <th>TAGS_P</th>\n",
       "    </tr>\n",
       "  </thead>\n",
       "  <tbody>\n",
       "    <tr>\n",
       "      <th>38288</th>\n",
       "      <td>[swift, ios, python, tensorflow, swift3]</td>\n",
       "    </tr>\n",
       "    <tr>\n",
       "      <th>11295</th>\n",
       "      <td>[python, java, c++, javascript, android]</td>\n",
       "    </tr>\n",
       "    <tr>\n",
       "      <th>54524</th>\n",
       "      <td>[javascript, android, java, c#, python]</td>\n",
       "    </tr>\n",
       "    <tr>\n",
       "      <th>6835</th>\n",
       "      <td>[git, javascript, github, android, python]</td>\n",
       "    </tr>\n",
       "    <tr>\n",
       "      <th>61768</th>\n",
       "      <td>[c++, c++11, c++14, templates, c++17]</td>\n",
       "    </tr>\n",
       "  </tbody>\n",
       "</table>\n",
       "</div>"
      ],
      "text/plain": [
       "                                           TAGS_P\n",
       "38288    [swift, ios, python, tensorflow, swift3]\n",
       "11295    [python, java, c++, javascript, android]\n",
       "54524     [javascript, android, java, c#, python]\n",
       "6835   [git, javascript, github, android, python]\n",
       "61768       [c++, c++11, c++14, templates, c++17]"
      ]
     },
     "execution_count": 76,
     "metadata": {},
     "output_type": "execute_result"
    }
   ],
   "source": [
    "y_predicted_nmf.head()"
   ]
  },
  {
   "cell_type": "code",
   "execution_count": 77,
   "metadata": {},
   "outputs": [
    {
     "name": "stdout",
     "output_type": "stream",
     "text": [
      "Prediction accuracy: 27.61 % \n"
     ]
    }
   ],
   "source": [
    "predictionAccuracy(y_predicted_lda, y_test)"
   ]
  },
  {
   "cell_type": "markdown",
   "metadata": {},
   "source": [
    "### Evaluation de la prédiction du jeu de validation"
   ]
  },
  {
   "cell_type": "code",
   "execution_count": 78,
   "metadata": {},
   "outputs": [
    {
     "name": "stdout",
     "output_type": "stream",
     "text": [
      "Prediction accuracy: 33.68 % \n"
     ]
    }
   ],
   "source": [
    "y_predicted = getPostsTagsPrediction(x_validation, 5,tags_by_topics_nmf, frequent_tags, tfidf_vectorizer,  nmf_model )\n",
    "result = predictionAccuracy(y_predicted, y_validation)"
   ]
  },
  {
   "cell_type": "code",
   "execution_count": null,
   "metadata": {
    "collapsed": true
   },
   "outputs": [],
   "source": []
  }
 ],
 "metadata": {
  "kernelspec": {
   "display_name": "Python 3",
   "language": "python",
   "name": "python3"
  },
  "language_info": {
   "codemirror_mode": {
    "name": "ipython",
    "version": 3
   },
   "file_extension": ".py",
   "mimetype": "text/x-python",
   "name": "python",
   "nbconvert_exporter": "python",
   "pygments_lexer": "ipython3",
   "version": "3.6.2"
  }
 },
 "nbformat": 4,
 "nbformat_minor": 2
}
