{
 "cells": [
  {
   "cell_type": "markdown",
   "metadata": {},
   "source": [
    "# Projet 6 : Catégorisez automatiquement des questions\n",
    "# <u>B. Topic Modeling</u> <br/>"
   ]
  },
  {
   "cell_type": "code",
   "execution_count": 1,
   "metadata": {
    "collapsed": true
   },
   "outputs": [],
   "source": [
    "import os\n",
    "import numpy as np\n",
    "import pandas as pd\n",
    "import matplotlib.pyplot as plt\n",
    "import seaborn as sns\n",
    "import glob\n",
    "\n",
    "from bs4 import BeautifulSoup\n",
    "import unicodedata\n",
    "import re\n",
    "import string\n",
    "import nltk\n",
    "from nltk.corpus import stopwords\n",
    "from nltk.stem.porter import PorterStemmer\n",
    "from nltk.tokenize.toktok import ToktokTokenizer\n",
    "from contractions import CONTRACTION_MAP\n",
    "from sklearn.feature_extraction.text import CountVectorizer\n",
    "from collections import Counter\n",
    "\n",
    "from sklearn.model_selection import GridSearchCV\n",
    "\n",
    "from sklearn import model_selection, metrics\n",
    "from sklearn.decomposition import LatentDirichletAllocation\n",
    "\n",
    "%matplotlib inline"
   ]
  },
  {
   "cell_type": "markdown",
   "metadata": {},
   "source": [
    "# 1. Chargement des données pré-traitées"
   ]
  },
  {
   "cell_type": "markdown",
   "metadata": {},
   "source": [
    "Nos données sont réparties dans 5 fichiers représentant une taille totale de 0,12Go."
   ]
  },
  {
   "cell_type": "code",
   "execution_count": 2,
   "metadata": {
    "collapsed": true
   },
   "outputs": [],
   "source": [
    "df = pd.read_csv('cleaned_data.csv')\n",
    "#replace NaN by empty string\n",
    "df = df.replace(np.nan, '', regex=True)"
   ]
  },
  {
   "cell_type": "code",
   "execution_count": 3,
   "metadata": {},
   "outputs": [
    {
     "data": {
      "text/plain": [
       "(64432, 7)"
      ]
     },
     "execution_count": 3,
     "metadata": {},
     "output_type": "execute_result"
    }
   ],
   "source": [
    "df.shape"
   ]
  },
  {
   "cell_type": "code",
   "execution_count": 4,
   "metadata": {},
   "outputs": [
    {
     "data": {
      "text/html": [
       "<div>\n",
       "<style>\n",
       "    .dataframe thead tr:only-child th {\n",
       "        text-align: right;\n",
       "    }\n",
       "\n",
       "    .dataframe thead th {\n",
       "        text-align: left;\n",
       "    }\n",
       "\n",
       "    .dataframe tbody tr th {\n",
       "        vertical-align: top;\n",
       "    }\n",
       "</style>\n",
       "<table border=\"1\" class=\"dataframe\">\n",
       "  <thead>\n",
       "    <tr style=\"text-align: right;\">\n",
       "      <th></th>\n",
       "      <th>TITLE</th>\n",
       "      <th>BODY</th>\n",
       "      <th>SCORE</th>\n",
       "      <th>TAGS</th>\n",
       "      <th>TITLE_P</th>\n",
       "      <th>BODY_P</th>\n",
       "      <th>TAGS_P</th>\n",
       "    </tr>\n",
       "  </thead>\n",
       "  <tbody>\n",
       "    <tr>\n",
       "      <th>0</th>\n",
       "      <td>Java generics variable &lt;T&gt; value</td>\n",
       "      <td>&lt;p&gt;At the moment I am using the following code...</td>\n",
       "      <td>6</td>\n",
       "      <td>&lt;java&gt;&lt;generics&gt;</td>\n",
       "      <td>java gener variabl valu</td>\n",
       "      <td>moment use follow code filter jpa valu getclas...</td>\n",
       "      <td>java generics</td>\n",
       "    </tr>\n",
       "    <tr>\n",
       "      <th>1</th>\n",
       "      <td>How a value typed variable is copied when it i...</td>\n",
       "      <td>&lt;blockquote&gt;\\n  &lt;p&gt;Swift's string type is a va...</td>\n",
       "      <td>6</td>\n",
       "      <td>&lt;swift&gt;&lt;function&gt;&lt;value-type&gt;</td>\n",
       "      <td>valu type variabl copi pass function hold copi</td>\n",
       "      <td>swift string type valu type creat new string v...</td>\n",
       "      <td>swift function value-type</td>\n",
       "    </tr>\n",
       "    <tr>\n",
       "      <th>2</th>\n",
       "      <td>Error while waiting for device: The emulator p...</td>\n",
       "      <td>&lt;p&gt;I am a freshman for the development of the ...</td>\n",
       "      <td>6</td>\n",
       "      <td>&lt;android&gt;&lt;android-studio&gt;&lt;android-emulator&gt;&lt;avd&gt;</td>\n",
       "      <td>error wait devic emul process avd kill</td>\n",
       "      <td>freshman develop andriod suffer odd question r...</td>\n",
       "      <td>android android-studio android-emulator avd</td>\n",
       "    </tr>\n",
       "    <tr>\n",
       "      <th>3</th>\n",
       "      <td>gulp-inject not working with gulp-watch</td>\n",
       "      <td>&lt;p&gt;I am using gulp-inject to auto add SASS imp...</td>\n",
       "      <td>10</td>\n",
       "      <td>&lt;javascript&gt;&lt;node.js&gt;&lt;npm&gt;&lt;gulp&gt;&lt;gulp-watch&gt;</td>\n",
       "      <td>gulp inject work gulp watch</td>\n",
       "      <td>use gulp inject auto add sass import newli cre...</td>\n",
       "      <td>javascript node.js npm gulp gulp-watch</td>\n",
       "    </tr>\n",
       "    <tr>\n",
       "      <th>4</th>\n",
       "      <td>React - Call function on props change</td>\n",
       "      <td>&lt;p&gt;My TranslationDetail component is passed an...</td>\n",
       "      <td>12</td>\n",
       "      <td>&lt;reactjs&gt;&lt;react-router&gt;</td>\n",
       "      <td>react call function prop chang</td>\n",
       "      <td>translationdetail compon pass id upon open bas...</td>\n",
       "      <td>reactjs react-router</td>\n",
       "    </tr>\n",
       "  </tbody>\n",
       "</table>\n",
       "</div>"
      ],
      "text/plain": [
       "                                               TITLE  \\\n",
       "0                   Java generics variable <T> value   \n",
       "1  How a value typed variable is copied when it i...   \n",
       "2  Error while waiting for device: The emulator p...   \n",
       "3            gulp-inject not working with gulp-watch   \n",
       "4              React - Call function on props change   \n",
       "\n",
       "                                                BODY  SCORE  \\\n",
       "0  <p>At the moment I am using the following code...      6   \n",
       "1  <blockquote>\\n  <p>Swift's string type is a va...      6   \n",
       "2  <p>I am a freshman for the development of the ...      6   \n",
       "3  <p>I am using gulp-inject to auto add SASS imp...     10   \n",
       "4  <p>My TranslationDetail component is passed an...     12   \n",
       "\n",
       "                                               TAGS  \\\n",
       "0                                  <java><generics>   \n",
       "1                     <swift><function><value-type>   \n",
       "2  <android><android-studio><android-emulator><avd>   \n",
       "3      <javascript><node.js><npm><gulp><gulp-watch>   \n",
       "4                           <reactjs><react-router>   \n",
       "\n",
       "                                          TITLE_P  \\\n",
       "0                         java gener variabl valu   \n",
       "1  valu type variabl copi pass function hold copi   \n",
       "2          error wait devic emul process avd kill   \n",
       "3                     gulp inject work gulp watch   \n",
       "4                  react call function prop chang   \n",
       "\n",
       "                                              BODY_P  \\\n",
       "0  moment use follow code filter jpa valu getclas...   \n",
       "1  swift string type valu type creat new string v...   \n",
       "2  freshman develop andriod suffer odd question r...   \n",
       "3  use gulp inject auto add sass import newli cre...   \n",
       "4  translationdetail compon pass id upon open bas...   \n",
       "\n",
       "                                        TAGS_P  \n",
       "0                                java generics  \n",
       "1                    swift function value-type  \n",
       "2  android android-studio android-emulator avd  \n",
       "3       javascript node.js npm gulp gulp-watch  \n",
       "4                         reactjs react-router  "
      ]
     },
     "execution_count": 4,
     "metadata": {},
     "output_type": "execute_result"
    }
   ],
   "source": [
    "df.head()"
   ]
  },
  {
   "cell_type": "markdown",
   "metadata": {},
   "source": [
    "# 2. Transformation des données"
   ]
  },
  {
   "cell_type": "markdown",
   "metadata": {},
   "source": [
    "## 2.1 Echantillonage"
   ]
  },
  {
   "cell_type": "markdown",
   "metadata": {},
   "source": [
    "Travaillons sur un échantillon de 15 000 posts."
   ]
  },
  {
   "cell_type": "code",
   "execution_count": 9,
   "metadata": {
    "collapsed": true
   },
   "outputs": [],
   "source": [
    "df_sample = df.sample(15000)"
   ]
  },
  {
   "cell_type": "code",
   "execution_count": 10,
   "metadata": {},
   "outputs": [
    {
     "data": {
      "text/plain": [
       "(15000, 7)"
      ]
     },
     "execution_count": 10,
     "metadata": {},
     "output_type": "execute_result"
    }
   ],
   "source": [
    "df_sample.shape"
   ]
  },
  {
   "cell_type": "markdown",
   "metadata": {},
   "source": [
    "** Analysons le nombre de mots que contient ce corpus.**"
   ]
  },
  {
   "cell_type": "code",
   "execution_count": 11,
   "metadata": {
    "collapsed": true
   },
   "outputs": [],
   "source": [
    "my_counter = Counter()\n",
    "for sentence in df_sample['TITLE_P']:\n",
    "    my_counter.update(sentence.split())\n",
    "for sentence in df_sample['BODY_P']:\n",
    "    my_counter.update(sentence.split())\n",
    "words_df = pd.DataFrame.from_dict(my_counter, orient='index')\n",
    "words_df.reset_index(drop = False, inplace = True)\n",
    "words_df= words_df.rename(columns={'index':'word', 0:'count'})"
   ]
  },
  {
   "cell_type": "code",
   "execution_count": 12,
   "metadata": {},
   "outputs": [
    {
     "data": {
      "text/plain": [
       "78525"
      ]
     },
     "execution_count": 12,
     "metadata": {},
     "output_type": "execute_result"
    }
   ],
   "source": [
    "words_df.shape[0]"
   ]
  },
  {
   "cell_type": "markdown",
   "metadata": {},
   "source": [
    "=> Notre corpus est composé de près de **80 000 mots.**"
   ]
  },
  {
   "cell_type": "markdown",
   "metadata": {},
   "source": [
    "Regardons le nombre de mots qui sont suffisamment fréquents. Ceux qui sont présents dans au minimum 500 documents."
   ]
  },
  {
   "cell_type": "code",
   "execution_count": 16,
   "metadata": {},
   "outputs": [
    {
     "data": {
      "text/plain": [
       "780"
      ]
     },
     "execution_count": 16,
     "metadata": {},
     "output_type": "execute_result"
    }
   ],
   "source": [
    "len(words_df[words_df['count'] > 500])"
   ]
  },
  {
   "cell_type": "markdown",
   "metadata": {},
   "source": [
    "environ **780 mots** sont présents dans au moins 500 posts.<br/>\n",
    "Nous nous baserons sur cette valeur quand nous allons transformer nos données en matrice."
   ]
  },
  {
   "cell_type": "markdown",
   "metadata": {},
   "source": [
    "## 2.2 Filtre sur les tags les plus fréquents"
   ]
  },
  {
   "cell_type": "markdown",
   "metadata": {},
   "source": [
    "Pour chaque tag on stocke son nombre d'occurences."
   ]
  },
  {
   "cell_type": "code",
   "execution_count": 17,
   "metadata": {
    "collapsed": true
   },
   "outputs": [],
   "source": [
    "counts = Counter()\n",
    "for sentence in df['TAGS_P']:\n",
    "    counts.update(sentence.split())\n",
    "tags_df = pd.DataFrame.from_dict(counts, orient='index')\n",
    "tags_df.reset_index(drop = False, inplace = True)\n",
    "tags_df= tags_df.rename(columns={'index':'tag', 0:'count'})"
   ]
  },
  {
   "cell_type": "markdown",
   "metadata": {},
   "source": [
    "La structures tags_df contient pour chacun des tags son occurence. <br/>\n",
    "Gardons que les tags qui sont présents dans au moins 100 documents."
   ]
  },
  {
   "cell_type": "code",
   "execution_count": 19,
   "metadata": {},
   "outputs": [
    {
     "data": {
      "text/plain": [
       "142"
      ]
     },
     "execution_count": 19,
     "metadata": {},
     "output_type": "execute_result"
    }
   ],
   "source": [
    "len(tags_df[tags_df['count'] > 200])"
   ]
  },
  {
   "cell_type": "markdown",
   "metadata": {},
   "source": [
    "Nous nous retrouvons donc avec 142 tags au lieu des 14000 dans le dataset original."
   ]
  },
  {
   "cell_type": "markdown",
   "metadata": {},
   "source": [
    "=> Filtrons maintenant notre dataset sample en ne gardant que les posts dont les tags sont les plus fréquents."
   ]
  },
  {
   "cell_type": "code",
   "execution_count": 20,
   "metadata": {
    "collapsed": true
   },
   "outputs": [],
   "source": [
    "frequent_tags = tags_df[tags_df['count'] > 200]['tag'].tolist()"
   ]
  },
  {
   "cell_type": "code",
   "execution_count": 21,
   "metadata": {
    "collapsed": true
   },
   "outputs": [],
   "source": [
    "df_sample['TAGS_P'] = df_sample['TAGS_P'].apply(lambda x: ' '.join( [w for w in x.split() if w in frequent_tags] ))\n",
    "df_sample['TAGS_P'].replace('', np.nan, inplace=True)\n",
    "df_sample = df_sample.dropna()"
   ]
  },
  {
   "cell_type": "code",
   "execution_count": 22,
   "metadata": {},
   "outputs": [
    {
     "data": {
      "text/plain": [
       "(13752, 7)"
      ]
     },
     "execution_count": 22,
     "metadata": {},
     "output_type": "execute_result"
    }
   ],
   "source": [
    "df_sample.shape"
   ]
  },
  {
   "cell_type": "markdown",
   "metadata": {},
   "source": [
    "Notre dataset contient maintenant uniquement les posts avec tags fréquents."
   ]
  },
  {
   "cell_type": "markdown",
   "metadata": {},
   "source": [
    "## 2.3 Découpage en jeu entrainement et test"
   ]
  },
  {
   "cell_type": "code",
   "execution_count": 23,
   "metadata": {
    "collapsed": true
   },
   "outputs": [],
   "source": [
    "X = df_sample[['TITLE', 'BODY','TITLE_P', 'BODY_P']]\n",
    "Y = df_sample[['TAGS_P']]"
   ]
  },
  {
   "cell_type": "code",
   "execution_count": 24,
   "metadata": {
    "collapsed": true
   },
   "outputs": [],
   "source": [
    "x_train, x_test, y_train, y_test = model_selection.train_test_split(X,Y,test_size = 0.3,random_state = 0, shuffle = True)"
   ]
  },
  {
   "cell_type": "code",
   "execution_count": 25,
   "metadata": {},
   "outputs": [
    {
     "name": "stdout",
     "output_type": "stream",
     "text": [
      "train (9626, 4)\n",
      "test  (4126, 4)\n"
     ]
    }
   ],
   "source": [
    "print(\"train\", x_train.shape)\n",
    "print(\"test \",x_test.shape)"
   ]
  },
  {
   "cell_type": "markdown",
   "metadata": {},
   "source": [
    "On concatène le titre et le body qui ont été pré-traités pour notre apprentissage."
   ]
  },
  {
   "cell_type": "code",
   "execution_count": 26,
   "metadata": {
    "collapsed": true
   },
   "outputs": [],
   "source": [
    "x_train_text = x_train['TITLE_P'] + ' ' + x_train['BODY_P']"
   ]
  },
  {
   "cell_type": "markdown",
   "metadata": {},
   "source": [
    "## 2.4 Bag of words"
   ]
  },
  {
   "cell_type": "markdown",
   "metadata": {},
   "source": [
    "Pour pouvoir appliquer nos algorithmes de machine learning à nos données textuelles, il faut en extraire les features et représenter notre texte dans un modèle \"mathématique\".\n",
    "Pour celà nous allons utiliser la modélisation **Bag of Words** qui va donner une représentation sous forme de matrice de nos données."
   ]
  },
  {
   "cell_type": "markdown",
   "metadata": {},
   "source": [
    "- min_df = 5 : le mot doit être présent au moins dans 5 documents\n",
    "- max_df = 95% : si le mot est présent dans plus de 95% des documents, il ne nous aidera pas à trouver différencier les documents et on le supprime\n",
    "- max_features : on se limite à 300 mots maximum (nous avons vu plus haut que 598 mots sont présents au moins dans 500 posts)."
   ]
  },
  {
   "cell_type": "code",
   "execution_count": 29,
   "metadata": {},
   "outputs": [
    {
     "data": {
      "text/plain": [
       "(9626, 780)"
      ]
     },
     "execution_count": 29,
     "metadata": {},
     "output_type": "execute_result"
    }
   ],
   "source": [
    "cv = CountVectorizer(min_df=5, max_df=0.95, max_features=780)\n",
    "data_vectorized = cv.fit_transform(x_train_text)\n",
    "cv_matrix = data_vectorized.toarray()\n",
    "cv_matrix.shape"
   ]
  },
  {
   "cell_type": "markdown",
   "metadata": {},
   "source": [
    "Voyons à quoi ressemble notre matrice."
   ]
  },
  {
   "cell_type": "code",
   "execution_count": 30,
   "metadata": {},
   "outputs": [
    {
     "data": {
      "text/html": [
       "<div>\n",
       "<style>\n",
       "    .dataframe thead tr:only-child th {\n",
       "        text-align: right;\n",
       "    }\n",
       "\n",
       "    .dataframe thead th {\n",
       "        text-align: left;\n",
       "    }\n",
       "\n",
       "    .dataframe tbody tr th {\n",
       "        vertical-align: top;\n",
       "    }\n",
       "</style>\n",
       "<table border=\"1\" class=\"dataframe\">\n",
       "  <thead>\n",
       "    <tr style=\"text-align: right;\">\n",
       "      <th></th>\n",
       "      <th>abl</th>\n",
       "      <th>accept</th>\n",
       "      <th>access</th>\n",
       "      <th>account</th>\n",
       "      <th>achiev</th>\n",
       "      <th>action</th>\n",
       "      <th>activ</th>\n",
       "      <th>activitythread</th>\n",
       "      <th>actual</th>\n",
       "      <th>ad</th>\n",
       "      <th>...</th>\n",
       "      <th>worker</th>\n",
       "      <th>would</th>\n",
       "      <th>wrap</th>\n",
       "      <th>wrapper</th>\n",
       "      <th>write</th>\n",
       "      <th>wrong</th>\n",
       "      <th>www</th>\n",
       "      <th>xcode</th>\n",
       "      <th>xml</th>\n",
       "      <th>xmln</th>\n",
       "    </tr>\n",
       "  </thead>\n",
       "  <tbody>\n",
       "    <tr>\n",
       "      <th>0</th>\n",
       "      <td>0</td>\n",
       "      <td>0</td>\n",
       "      <td>0</td>\n",
       "      <td>0</td>\n",
       "      <td>0</td>\n",
       "      <td>0</td>\n",
       "      <td>0</td>\n",
       "      <td>0</td>\n",
       "      <td>0</td>\n",
       "      <td>0</td>\n",
       "      <td>...</td>\n",
       "      <td>0</td>\n",
       "      <td>0</td>\n",
       "      <td>0</td>\n",
       "      <td>0</td>\n",
       "      <td>0</td>\n",
       "      <td>0</td>\n",
       "      <td>0</td>\n",
       "      <td>0</td>\n",
       "      <td>0</td>\n",
       "      <td>0</td>\n",
       "    </tr>\n",
       "    <tr>\n",
       "      <th>1</th>\n",
       "      <td>0</td>\n",
       "      <td>0</td>\n",
       "      <td>0</td>\n",
       "      <td>0</td>\n",
       "      <td>0</td>\n",
       "      <td>0</td>\n",
       "      <td>0</td>\n",
       "      <td>0</td>\n",
       "      <td>0</td>\n",
       "      <td>0</td>\n",
       "      <td>...</td>\n",
       "      <td>0</td>\n",
       "      <td>0</td>\n",
       "      <td>0</td>\n",
       "      <td>0</td>\n",
       "      <td>0</td>\n",
       "      <td>0</td>\n",
       "      <td>0</td>\n",
       "      <td>0</td>\n",
       "      <td>0</td>\n",
       "      <td>0</td>\n",
       "    </tr>\n",
       "    <tr>\n",
       "      <th>2</th>\n",
       "      <td>0</td>\n",
       "      <td>0</td>\n",
       "      <td>0</td>\n",
       "      <td>0</td>\n",
       "      <td>0</td>\n",
       "      <td>0</td>\n",
       "      <td>0</td>\n",
       "      <td>0</td>\n",
       "      <td>0</td>\n",
       "      <td>0</td>\n",
       "      <td>...</td>\n",
       "      <td>0</td>\n",
       "      <td>0</td>\n",
       "      <td>0</td>\n",
       "      <td>0</td>\n",
       "      <td>0</td>\n",
       "      <td>0</td>\n",
       "      <td>0</td>\n",
       "      <td>0</td>\n",
       "      <td>0</td>\n",
       "      <td>0</td>\n",
       "    </tr>\n",
       "    <tr>\n",
       "      <th>3</th>\n",
       "      <td>0</td>\n",
       "      <td>0</td>\n",
       "      <td>0</td>\n",
       "      <td>0</td>\n",
       "      <td>0</td>\n",
       "      <td>0</td>\n",
       "      <td>0</td>\n",
       "      <td>0</td>\n",
       "      <td>0</td>\n",
       "      <td>0</td>\n",
       "      <td>...</td>\n",
       "      <td>0</td>\n",
       "      <td>0</td>\n",
       "      <td>1</td>\n",
       "      <td>0</td>\n",
       "      <td>0</td>\n",
       "      <td>0</td>\n",
       "      <td>1</td>\n",
       "      <td>0</td>\n",
       "      <td>0</td>\n",
       "      <td>0</td>\n",
       "    </tr>\n",
       "    <tr>\n",
       "      <th>4</th>\n",
       "      <td>0</td>\n",
       "      <td>0</td>\n",
       "      <td>0</td>\n",
       "      <td>0</td>\n",
       "      <td>0</td>\n",
       "      <td>0</td>\n",
       "      <td>0</td>\n",
       "      <td>0</td>\n",
       "      <td>0</td>\n",
       "      <td>0</td>\n",
       "      <td>...</td>\n",
       "      <td>0</td>\n",
       "      <td>0</td>\n",
       "      <td>0</td>\n",
       "      <td>0</td>\n",
       "      <td>0</td>\n",
       "      <td>0</td>\n",
       "      <td>0</td>\n",
       "      <td>0</td>\n",
       "      <td>0</td>\n",
       "      <td>0</td>\n",
       "    </tr>\n",
       "  </tbody>\n",
       "</table>\n",
       "<p>5 rows × 780 columns</p>\n",
       "</div>"
      ],
      "text/plain": [
       "   abl  accept  access  account  achiev  action  activ  activitythread  \\\n",
       "0    0       0       0        0       0       0      0               0   \n",
       "1    0       0       0        0       0       0      0               0   \n",
       "2    0       0       0        0       0       0      0               0   \n",
       "3    0       0       0        0       0       0      0               0   \n",
       "4    0       0       0        0       0       0      0               0   \n",
       "\n",
       "   actual  ad  ...   worker  would  wrap  wrapper  write  wrong  www  xcode  \\\n",
       "0       0   0  ...        0      0     0        0      0      0    0      0   \n",
       "1       0   0  ...        0      0     0        0      0      0    0      0   \n",
       "2       0   0  ...        0      0     0        0      0      0    0      0   \n",
       "3       0   0  ...        0      0     1        0      0      0    1      0   \n",
       "4       0   0  ...        0      0     0        0      0      0    0      0   \n",
       "\n",
       "   xml  xmln  \n",
       "0    0     0  \n",
       "1    0     0  \n",
       "2    0     0  \n",
       "3    0     0  \n",
       "4    0     0  \n",
       "\n",
       "[5 rows x 780 columns]"
      ]
     },
     "execution_count": 30,
     "metadata": {},
     "output_type": "execute_result"
    }
   ],
   "source": [
    "#get all unique words in the corpus\n",
    "vocab = cv.get_feature_names()\n",
    "# show document feature vectors\n",
    "pd.DataFrame(cv_matrix, columns=vocab).head()"
   ]
  },
  {
   "cell_type": "markdown",
   "metadata": {},
   "source": [
    "Quels sont les mots les plus communs dans nos documents ?"
   ]
  },
  {
   "cell_type": "code",
   "execution_count": 31,
   "metadata": {},
   "outputs": [
    {
     "data": {
      "text/html": [
       "<div>\n",
       "<style>\n",
       "    .dataframe thead tr:only-child th {\n",
       "        text-align: right;\n",
       "    }\n",
       "\n",
       "    .dataframe thead th {\n",
       "        text-align: left;\n",
       "    }\n",
       "\n",
       "    .dataframe tbody tr th {\n",
       "        vertical-align: top;\n",
       "    }\n",
       "</style>\n",
       "<table border=\"1\" class=\"dataframe\">\n",
       "  <thead>\n",
       "    <tr style=\"text-align: right;\">\n",
       "      <th></th>\n",
       "      <th>count</th>\n",
       "    </tr>\n",
       "    <tr>\n",
       "      <th>word</th>\n",
       "      <th></th>\n",
       "    </tr>\n",
       "  </thead>\n",
       "  <tbody>\n",
       "    <tr>\n",
       "      <th>use</th>\n",
       "      <td>14020</td>\n",
       "    </tr>\n",
       "    <tr>\n",
       "      <th>android</th>\n",
       "      <td>10184</td>\n",
       "    </tr>\n",
       "    <tr>\n",
       "      <th>class</th>\n",
       "      <td>8362</td>\n",
       "    </tr>\n",
       "    <tr>\n",
       "      <th>error</th>\n",
       "      <td>7827</td>\n",
       "    </tr>\n",
       "    <tr>\n",
       "      <th>file</th>\n",
       "      <td>7646</td>\n",
       "    </tr>\n",
       "  </tbody>\n",
       "</table>\n",
       "</div>"
      ],
      "text/plain": [
       "         count\n",
       "word          \n",
       "use      14020\n",
       "android  10184\n",
       "class     8362\n",
       "error     7827\n",
       "file      7646"
      ]
     },
     "execution_count": 31,
     "metadata": {},
     "output_type": "execute_result"
    }
   ],
   "source": [
    "voc_freq_df = pd.DataFrame([list(a) for a in zip(vocab, np.asarray(cv_matrix.sum(axis=0)).ravel())])\n",
    "voc_freq_df.columns = ['word', 'count']\n",
    "voc_freq_df.set_index('word', inplace=True)\n",
    "voc_freq_df=voc_freq_df.sort_values('count', ascending=False)\n",
    "voc_freq_df.head()"
   ]
  },
  {
   "cell_type": "code",
   "execution_count": 32,
   "metadata": {},
   "outputs": [
    {
     "data": {
      "image/png": "[encoded data removed]",
      "text/plain": [
       "<matplotlib.figure.Figure at 0x1a16968550>"
      ]
     },
     "metadata": {},
     "output_type": "display_data"
    }
   ],
   "source": [
    "ax = voc_freq_df.head(50).plot(kind = 'bar', figsize = (14,4), color=\"#f56900\")\n",
    "plt.setp(ax.get_xticklabels(), rotation = 45, ha = 'right')\n",
    "plt.title('Top 50 words', fontsize = 'large')\n",
    "plt.xlabel('Words')\n",
    "plt.ylabel('Number of occurences')\n",
    "plt.show()"
   ]
  },
  {
   "cell_type": "markdown",
   "metadata": {},
   "source": [
    "use, android, class ... sont très fréquents"
   ]
  },
  {
   "cell_type": "markdown",
   "metadata": {},
   "source": [
    "####  Sparsicity de la matrice"
   ]
  },
  {
   "cell_type": "markdown",
   "metadata": {},
   "source": [
    "Regardons le pourcentage de cellules non égales à 0."
   ]
  },
  {
   "cell_type": "code",
   "execution_count": 33,
   "metadata": {},
   "outputs": [
    {
     "name": "stdout",
     "output_type": "stream",
     "text": [
      "Sparsicity:  5.26 %\n"
     ]
    }
   ],
   "source": [
    "# Materialize the sparse data\n",
    "data_dense = data_vectorized.todense()\n",
    "\n",
    "# Compute Sparsicity = Percentage of Non-Zero cells\n",
    "print(\"Sparsicity:  {:.2f} %\".format( ((data_dense > 0).sum()/data_dense.size)*100, \"%\"))"
   ]
  },
  {
   "cell_type": "markdown",
   "metadata": {},
   "source": [
    "# 3. Modélisation avec méthodes non supervisées"
   ]
  },
  {
   "cell_type": "markdown",
   "metadata": {},
   "source": [
    "## 3.1 LDA"
   ]
  },
  {
   "cell_type": "markdown",
   "metadata": {},
   "source": [
    "### Construction du modèle"
   ]
  },
  {
   "cell_type": "markdown",
   "metadata": {},
   "source": [
    "Nous pouvons partir sur 30 topics."
   ]
  },
  {
   "cell_type": "code",
   "execution_count": 34,
   "metadata": {},
   "outputs": [],
   "source": [
    "lda_model = LatentDirichletAllocation(n_components=30, max_iter=10,  learning_method='online',random_state=0)\n",
    "lda_output = lda_model.fit_transform(cv_matrix)"
   ]
  },
  {
   "cell_type": "markdown",
   "metadata": {},
   "source": [
    "### Evaluation"
   ]
  },
  {
   "cell_type": "markdown",
   "metadata": {},
   "source": [
    "Affichage des top words pour chaque topics."
   ]
  },
  {
   "cell_type": "code",
   "execution_count": 35,
   "metadata": {
    "collapsed": true
   },
   "outputs": [],
   "source": [
    "def display_topics(model, feature_names, no_top_words):\n",
    "    for topic_idx, topic in enumerate(model.components_):\n",
    "        print (\"Topic %d:\" % (topic_idx))\n",
    "        print (\" \".join([feature_names[i]\n",
    "                        for i in topic.argsort()[:-no_top_words - 1:-1]]))"
   ]
  },
  {
   "cell_type": "markdown",
   "metadata": {},
   "source": [
    "#### Topics / Words"
   ]
  },
  {
   "cell_type": "code",
   "execution_count": 36,
   "metadata": {},
   "outputs": [
    {
     "name": "stdout",
     "output_type": "stream",
     "text": [
      "Topic 0:\n",
      "data valu key map date array row queri select index\n",
      "Topic 1:\n",
      "error page respons header get url content request post tri\n",
      "Topic 2:\n",
      "id tabl end databas column creat db tag record mysql\n",
      "Topic 3:\n",
      "modul import node compon js path rout export app webpack\n",
      "Topic 4:\n",
      "angular js script html src http app ts observ css\n",
      "Topic 5:\n",
      "product gem lib rubi ptr rail rb block level requir\n",
      "Topic 6:\n",
      "php token properti string length byte address charact languag hello\n",
      "Topic 7:\n",
      "app log messag io firebas consol devic send notif push\n",
      "Topic 8:\n",
      "imag librari packag use version color transform instal locat icon\n",
      "Topic 9:\n",
      "var list text function element count bar option font new\n",
      "Topic 10:\n",
      "thread task stream spark memori warn process collect async run\n",
      "Topic 11:\n",
      "org info spring apach xml http resourc version depend boot\n",
      "Topic 12:\n",
      "self python line lib py local usr def file init\n",
      "Topic 13:\n",
      "android layout id parent width height app view match widget\n",
      "Topic 14:\n",
      "type swift event set param error dev extens sign paramet\n",
      "Topic 15:\n",
      "server use api net client applic http connect web servic\n",
      "Topic 16:\n",
      "java android com googl gradl support jar lang intern app\n",
      "Topic 17:\n",
      "public string new class void privat return null int overrid\n",
      "Topic 18:\n",
      "build project error run version instal window file debug studio\n",
      "Topic 19:\n",
      "view button let state click action bind chang return display\n",
      "Topic 20:\n",
      "use like would one way want work need differ question\n",
      "Topic 21:\n",
      "class li col true input label model email scope titl\n",
      "Topic 22:\n",
      "user name form id password login field attribut control usernam\n",
      "Topic 23:\n",
      "function use object return call valu code like method would\n",
      "Topic 24:\n",
      "int std compil test const templat foo includ main struct\n",
      "Topic 25:\n",
      "size model tf train float input print frame import np\n",
      "Topic 26:\n",
      "file json cach path git err http request com github\n",
      "Topic 27:\n",
      "time system long integ variabl execut line second ms lambda\n",
      "Topic 28:\n",
      "div react px style class width render height left compon\n",
      "Topic 29:\n",
      "item context activ permiss intent name td mode scroll tr\n"
     ]
    }
   ],
   "source": [
    "no_top_words = 10\n",
    "display_topics(lda_model, vocab, no_top_words)"
   ]
  },
  {
   "cell_type": "markdown",
   "metadata": {},
   "source": [
    "Nous pouvons interpréter certains topics : <br/>\n",
    "- le sujet 4 : angular web dev\n",
    "- Le sujet 11 : apache / web server \n",
    "- Le sujet 22 : authentification\n",
    "..."
   ]
  },
  {
   "cell_type": "markdown",
   "metadata": {},
   "source": [
    "#### Topics / Docs"
   ]
  },
  {
   "cell_type": "markdown",
   "metadata": {},
   "source": [
    "Voyons maintenant le topic associé à quelques documents."
   ]
  },
  {
   "cell_type": "code",
   "execution_count": 86,
   "metadata": {},
   "outputs": [],
   "source": [
    "'''\n",
    "@H : word_to_topics matrix\n",
    "@W : topics_to_docs matrix\n",
    "'''\n",
    "def display_topics(H, W, feature_names, documents, targets, no_top_words, no_top_documents):\n",
    "    for topic_idx, topic in enumerate(H):\n",
    "        print (\"Topic %d : \" % (topic_idx) + \" \".join([feature_names[i]\n",
    "                        for i in topic.argsort()[:-no_top_words - 1:-1]]))\n",
    "        top_doc_indices = np.argsort( W[:,topic_idx] )[::-1][0:no_top_documents]\n",
    "        for doc_index in top_doc_indices:\n",
    "            print (\"Doc\",doc_index,\" Title:\", documents.iloc[doc_index].TITLE[0:60],\n",
    "                   \"- Tags:[\", targets.iloc[doc_index].TAGS_P,\"]\")\n",
    "        print(\"\")"
   ]
  },
  {
   "cell_type": "code",
   "execution_count": 87,
   "metadata": {},
   "outputs": [
    {
     "name": "stdout",
     "output_type": "stream",
     "text": [
      "Topic 0 : data valu key map date array row queri select index\n",
      "Doc 2154  Title: Conditional matrix adjacency calculation - Tags:[ r ]\n",
      "Doc 8552  Title: get first and last values in a groupby - Tags:[ python pandas dataframe ]\n",
      "\n",
      "Topic 1 : error page respons header get url content request post tri\n",
      "Doc 2053  Title: Set status code on http.ResponseWriter - Tags:[ go ]\n",
      "Doc 7260  Title: Fetch: reject promise and catch the error if status is not O - Tags:[ javascript redux ]\n",
      "\n",
      "Topic 2 : id tabl end databas column creat db tag record mysql\n",
      "Doc 4556  Title: How to import .xls file to .sql with a foreign key - Tags:[ php mysql sql ]\n",
      "Doc 2894  Title: Update database tables - Tags:[ sql ]\n",
      "\n",
      "Topic 3 : modul import node compon js path rout export app webpack\n",
      "Doc 21  Title: Node - was compiled against a different Node.js version usin - Tags:[ node.js ]\n",
      "Doc 3528  Title: Node v9 + Webpack v4 + extract-text-webpack-plugin = Compile - Tags:[ webpack ]\n",
      "\n",
      "Topic 4 : angular js script html src http app ts observ css\n",
      "Doc 2249  Title: Errors after Angular 4 upgrade from Angular 2 - Tags:[ angular typescript npm ]\n",
      "Doc 6283  Title: What is $implicit in angular 2? - Tags:[ angular ]\n",
      "\n",
      "Topic 5 : product gem lib rubi ptr rail rb block level requir\n",
      "Doc 703  Title: Unable to Execute Rails console command Ruby - Tags:[ ruby-on-rails ruby ]\n",
      "Doc 4242  Title: Library not loaded: /usr/local/opt/readline/lib/libreadline. - Tags:[ ruby-on-rails ruby ]\n",
      "\n",
      "Topic 6 : php token properti string length byte address charact languag hello\n",
      "Doc 4966  Title: Why is INET6_ADDRSTRLEN defined as 46 in C? - Tags:[ c ]\n",
      "Doc 4249  Title: What is the difference between strings and characters in Mat - Tags:[ string ]\n",
      "\n",
      "Topic 7 : app log messag io firebas consol devic send notif push\n",
      "Doc 2420  Title: receive notification when app is closed using ionic - Tags:[ android ionic2 ]\n",
      "Doc 2120  Title: How do I prevent Alert when App is on Foreground with Incomi - Tags:[ ios ]\n",
      "\n",
      "Topic 8 : imag librari packag use version color transform instal locat icon\n",
      "Doc 15  Title: Force `stack` to rebuild an installed package - Tags:[ haskell ]\n",
      "Doc 3989  Title: npm install the exact package version specified in package.j - Tags:[ node.js npm ]\n",
      "\n",
      "Topic 9 : var list text function element count bar option font new\n",
      "Doc 382  Title: nltk words corpus does not contain \"okay\"? - Tags:[ python ]\n",
      "Doc 5439  Title: Equalizing the lengths of all the lists within a list? - Tags:[ r list ]\n",
      "\n",
      "Topic 10 : thread task stream spark memori warn process collect async run\n",
      "Doc 8883  Title: How to limit the number of retries on Spark job failure? - Tags:[ scala apache-spark ]\n",
      "Doc 4000  Title: When does a C# Task actually start? - Tags:[ c# asynchronous async-await ]\n",
      "\n",
      "Topic 11 : org info spring apach xml http resourc version depend boot\n",
      "Doc 4134  Title: Spring Application doesn't start due to missing EmbeddedServ - Tags:[ java spring maven intellij-idea spring-boot ]\n",
      "Doc 8496  Title: SpringApplicationConfiguration not found: Erroneous spring-b - Tags:[ maven spring-boot ]\n",
      "\n",
      "Topic 12 : self python line lib py local usr def file init\n",
      "Doc 464  Title: selenium.common.exceptions.WebDriverException: Message: conn - Tags:[ python selenium ]\n",
      "Doc 3481  Title: Getting error ImportMismatchError while running py.test - Tags:[ python docker ]\n",
      "\n",
      "Topic 13 : android layout id parent width height app view match widget\n",
      "Doc 5251  Title: Sharedelement transition beetween textview and toolbar title - Tags:[ android ]\n",
      "Doc 7912  Title: Wrong behavior SwipeRefreshLayout with CollapsingToolbarLayo - Tags:[ android ]\n",
      "\n",
      "Topic 14 : type swift event set param error dev extens sign paramet\n",
      "Doc 3047  Title: How To Set a Cookie for a UIWebView manually in Swift - Tags:[ ios objective-c swift ]\n",
      "Doc 1192  Title: Escaping Closures in Swift - Tags:[ swift ]\n",
      "\n",
      "Topic 15 : server use api net client applic http connect web servic\n",
      "Doc 7796  Title: ASP.NET Web Application (.NET Framework) vs ASP.NET Core Web - Tags:[ asp.net .net asp.net-mvc asp.net-core .net-core ]\n",
      "Doc 6161  Title: How to ConfigureServices Authentication based on routes in A - Tags:[ asp.net-core asp.net-core-mvc ]\n",
      "\n",
      "Topic 16 : java android com googl gradl support jar lang intern app\n",
      "Doc 1766  Title: java.lang.SecurityException: Unknown calling package name, c - Tags:[ android ]\n",
      "Doc 606  Title: GoogleSign in error only on Xiomi Devices - Tags:[ android ]\n",
      "\n",
      "Topic 17 : public string new class void privat return null int overrid\n",
      "Doc 8523  Title: Does javac ever generate static bridge methods? - Tags:[ java ]\n",
      "Doc 1408  Title: why the reference don't put into reference queue when finali - Tags:[ java ]\n",
      "\n",
      "Topic 18 : build project error run version instal window file debug studio\n",
      "Doc 2750  Title: Xcode 8 Shell Script Invocation Error - Tags:[ swift xcode xcode8 ]\n",
      "Doc 5827  Title: Missing Create GUID in Visual Studio Enterprise 2017? - Tags:[ c# .net visual-studio-2017 ]\n",
      "\n",
      "Topic 19 : view button let state click action bind chang return display\n",
      "Doc 337  Title: How to update a nested state in React - Tags:[ javascript reactjs ]\n",
      "Doc 2779  Title: How do I spawn a pop over view controller programatically? - Tags:[ ios swift ]\n",
      "\n",
      "Topic 20 : use like would one way want work need differ question\n",
      "Doc 1183  Title: Is C++21 the Next Standard? - Tags:[ c++ c++14 c++17 ]\n",
      "Doc 8357  Title: How to monitorise dead relus - Tags:[ tensorflow ]\n",
      "\n",
      "Topic 21 : class li col true input label model email scope titl\n",
      "Doc 2354  Title: Flexbox Responsive Mega Menu with Dynamic Content - Tags:[ javascript css css3 ]\n",
      "Doc 3013  Title: Angular 2 Form Validation For Numbers minimum and maximum - Tags:[ javascript angular typescript ]\n",
      "\n",
      "Topic 22 : user name form id password login field attribut control usernam\n",
      "Doc 24  Title: `form_for` is bypassing model accessors. How to make it stop - Tags:[ ruby-on-rails ]\n",
      "Doc 3251  Title: How to update controls of FormArray - Tags:[ angular ]\n",
      "\n",
      "Topic 23 : function use object return call valu code like method would\n",
      "Doc 7853  Title: Check if `Any` value is object - Tags:[ swift ]\n",
      "Doc 6171  Title: How is Haskell's seq used? - Tags:[ haskell ]\n",
      "\n",
      "Topic 24 : int std compil test const templat foo includ main struct\n",
      "Doc 2538  Title: User-defined conversion operator template and built-in opera - Tags:[ c++ c++11 language-lawyer ]\n",
      "Doc 6848  Title: Is noexcept deduction allowed in class template partial spec - Tags:[ c++ language-lawyer c++17 ]\n",
      "\n",
      "Topic 25 : size model tf train float input print frame import np\n",
      "Doc 101  Title: TensorFlow - regularization with L2 loss, how to apply to al - Tags:[ machine-learning neural-network tensorflow deep-learning ]\n",
      "Doc 533  Title: Tensorflow Relu Misunderstanding - Tags:[ tensorflow deep-learning ]\n",
      "\n",
      "Topic 26 : file json cach path git err http request com github\n",
      "Doc 9421  Title: What does `git checkout ...` do? - Tags:[ git ]\n",
      "Doc 4379  Title: Git: How do you checkout all deleted files? - Tags:[ git ]\n",
      "\n",
      "Topic 27 : time system long integ variabl execut line second ms lambda\n",
      "Doc 6696  Title: Java program runs slower when code that is never executed is - Tags:[ java ]\n",
      "Doc 8705  Title: Is there an equivalent instruction to rdtsc in ARM? - Tags:[ c++ c ]\n",
      "\n",
      "Topic 28 : div react px style class width render height left compon\n",
      "Doc 9114  Title: Waves in CSS or SVG - Tags:[ css css3 ]\n",
      "Doc 438  Title: Column-count is not working in Chrome - Tags:[ css google-chrome ]\n",
      "\n",
      "Topic 29 : item context activ permiss intent name td mode scroll tr\n",
      "Doc 3430  Title: Move td to new column - Tags:[ javascript jquery html ]\n",
      "Doc 8776  Title: Create and show progressbar programmatically - Tags:[ android android-layout ]\n",
      "\n"
     ]
    }
   ],
   "source": [
    "display_topics(lda_model.components_, lda_output, vocab, x_train, y_train, 10, 2)"
   ]
  },
  {
   "cell_type": "code",
   "execution_count": 41,
   "metadata": {},
   "outputs": [
    {
     "name": "stdout",
     "output_type": "stream",
     "text": [
      "Log Likelihood:  -5281324.75097\n"
     ]
    }
   ],
   "source": [
    "# Log Likelyhood: Higher the better\n",
    "print(\"Log Likelihood: \", lda_model.score(cv_matrix))"
   ]
  },
  {
   "cell_type": "markdown",
   "metadata": {},
   "source": [
    "### Tuning du modèle"
   ]
  },
  {
   "cell_type": "code",
   "execution_count": 44,
   "metadata": {},
   "outputs": [
    {
     "name": "stdout",
     "output_type": "stream",
     "text": [
      "done in 541.054s.\n"
     ]
    }
   ],
   "source": [
    "from time import time\n",
    "t0 = time()\n",
    "# Define Search Param\n",
    "search_params = {'n_components': [10, 15, 20, 30, 50 ]}\n",
    "\n",
    "# Init the Model\n",
    "lda = LatentDirichletAllocation(learning_method='batch', max_iter=5)\n",
    "\n",
    "# Init Grid Search Class\n",
    "model = GridSearchCV(lda, param_grid=search_params)\n",
    "\n",
    "# Do the Grid Search\n",
    "model.fit(data_vectorized)\n",
    "print(\"done in %0.3fs.\" % (time() - t0))"
   ]
  },
  {
   "cell_type": "code",
   "execution_count": 45,
   "metadata": {},
   "outputs": [
    {
     "data": {
      "text/plain": [
       "{'n_components': 20}"
      ]
     },
     "execution_count": 45,
     "metadata": {},
     "output_type": "execute_result"
    }
   ],
   "source": [
    "model.best_params_"
   ]
  },
  {
   "cell_type": "code",
   "execution_count": 95,
   "metadata": {
    "collapsed": true
   },
   "outputs": [],
   "source": [
    "lda_best = LatentDirichletAllocation(**model.best_params_, learning_method='online', max_iter=10)"
   ]
  },
  {
   "cell_type": "code",
   "execution_count": 96,
   "metadata": {},
   "outputs": [],
   "source": [
    "ldabest_output = lda_best.fit_transform(cv_matrix)"
   ]
  },
  {
   "cell_type": "code",
   "execution_count": 100,
   "metadata": {},
   "outputs": [
    {
     "name": "stdout",
     "output_type": "stream",
     "text": [
      "{0: ['angular', 'docker', 'kotlin', 'typescript'], 1: [], 2: ['python', 'scala', 'lambda', 'django', 'linux'], 3: ['android', 'java'], 4: ['java', 'spring', 'maven'], 5: ['tensorflow', 'mysql'], 6: ['git', 'go', 'npm', 'linux'], 7: ['list', 'go', 'sql'], 8: ['html', 'css'], 9: ['function'], 10: ['function', 'json'], 11: ['swift', 'github'], 12: ['list'], 13: ['php'], 14: ['function', 'gcc', 'swift'], 15: ['xcode'], 16: ['json', 'sql'], 17: ['string', 'list'], 18: ['function', 'algorithm'], 19: ['angular', 'webpack', 'html', 'npm', 'css', 'javascript', 'json', 'function', 'github']}\n"
     ]
    }
   ],
   "source": [
    "topic_tags = {}\n",
    "for topic_idx, topic in enumerate(lda_best.components_):\n",
    "    topic_tags[topic_idx] = []\n",
    "    for i in (topic.argsort()[:-50 - 1:-1]) :\n",
    "        word = vocab[i]\n",
    "        if word in frequent_tags :\n",
    "            t = topic_tags[topic_idx]\n",
    "            t.extend([word])\n",
    "print(topic_tags)"
   ]
  },
  {
   "cell_type": "code",
   "execution_count": 98,
   "metadata": {},
   "outputs": [
    {
     "name": "stdout",
     "output_type": "stream",
     "text": [
      "Topic 0 : import compon angular export rout app date router path docker\n",
      "Doc 7281  Title: What exactly does a selector do in angular 2? - Tags:[ angular ]\n",
      "Doc 6283  Title: What is $implicit in angular 2? - Tags:[ angular ]\n",
      "\n",
      "Topic 1 : thread time true task system stream fals code execut result\n",
      "Doc 9147  Title: Arithmetic with very small numbers in R - Tags:[ r ]\n",
      "Doc 4105  Title: DateTime.Now retrieval speed - Tags:[ c# .net ]\n",
      "\n",
      "Topic 2 : self python line lib py import file local def spark\n",
      "Doc 1322  Title: Not able to import python modules unless root user - Tags:[ python python-2.7 ubuntu ]\n",
      "Doc 5440  Title: python 2.7 functools_lru_cache does not import although inst - Tags:[ python ]\n",
      "\n",
      "Topic 3 : android com view layout app support googl java id intent\n",
      "Doc 5297  Title: Recyclerview covered by BottomNavigationView - Tags:[ android ]\n",
      "Doc 7912  Title: Wrong behavior SwipeRefreshLayout with CollapsingToolbarLayo - Tags:[ android ]\n",
      "\n",
      "Topic 4 : java org jar com compil gradl intern spring apach lang\n",
      "Doc 3578  Title: Java.lang.NoClassDefFoundError: com/fasterxml/jackson/databi - Tags:[ java spring maven ]\n",
      "Doc 993  Title: Upgrading Spring Boot from 1.3.7 to 1.4.0 causing NullPointe - Tags:[ spring spring-boot ]\n",
      "\n",
      "Topic 5 : map tf train input model label record video tensorflow test\n",
      "Doc 101  Title: TensorFlow - regularization with L2 loss, how to apply to al - Tags:[ machine-learning neural-network tensorflow deep-learning ]\n",
      "Doc 7097  Title: How does tf.train.batch create a batch - Tags:[ tensorflow ]\n",
      "\n",
      "Topic 6 : process git err write socket br run command lock worker\n",
      "Doc 438  Title: Column-count is not working in Chrome - Tags:[ css google-chrome ]\n",
      "Doc 1017  Title: how to know the depth of a git's shallow clone? - Tags:[ git ]\n",
      "\n",
      "Topic 7 : id name item tabl valu select li field queri list\n",
      "Doc 2354  Title: Flexbox Responsive Mega Menu with Dynamic Content - Tags:[ javascript css css3 ]\n",
      "Doc 3430  Title: Move td to new column - Tags:[ javascript jquery html ]\n",
      "\n",
      "Topic 8 : div class react button text px style width color height\n",
      "Doc 9114  Title: Waves in CSS or SVG - Tags:[ css css3 ]\n",
      "Doc 7152  Title: Show div on hover on same position - Tags:[ javascript html css css3 ]\n",
      "\n",
      "Topic 9 : use like would way one work want function differ exampl\n",
      "Doc 7255  Title: Monitor vs Mutex - Tags:[ multithreading ]\n",
      "Doc 4031  Title: How do I create a nested function in PL/pgSQL? - Tags:[ postgresql ]\n",
      "\n",
      "Topic 10 : var function log consol return messag let header error respons\n",
      "Doc 2120  Title: How do I prevent Alert when App is on Foreground with Incomi - Tags:[ ios ]\n",
      "Doc 2793  Title: Express 4.14 - How to send 200 status with a custom message? - Tags:[ node.js ]\n",
      "\n",
      "Topic 11 : file use net librari core key microsoft http load version\n",
      "Doc 766  Title: Referencing .NET Core library in .NET 4.5.2 - Tags:[ .net .net-core ]\n",
      "Doc 2343  Title: Swift: What is a .swift-version file? - Tags:[ ios swift ]\n",
      "\n",
      "Topic 12 : array data list df count bar frame index print foo\n",
      "Doc 2154  Title: Conditional matrix adjacency calculation - Tags:[ r ]\n",
      "Doc 7766  Title: How to remove decimal points in pandas - Tags:[ python pandas ]\n",
      "\n",
      "Topic 13 : user http request server api connect client url php com\n",
      "Doc 5029  Title: Liferay api/jsonws page should be accessible only for admin  - Tags:[ java rest ]\n",
      "Doc 5853  Title: Set up JWT Bearer Token Authorization/Authentication in Hang - Tags:[ c# ]\n",
      "\n",
      "Topic 14 : std int templat compil main const func includ foo function\n",
      "Doc 6823  Title: std::is_invocable is false but std::invoke works - Tags:[ c++ c++17 ]\n",
      "Doc 2645  Title: Different behaviour of comma operator in C++ with return? - Tags:[ c++ language-lawyer ]\n",
      "\n",
      "Topic 15 : error build project app run instal version use packag debug\n",
      "Doc 505  Title: Detect \"Ubuntu on Windows\" vs native Ubuntu from bash script - Tags:[ bash ]\n",
      "Doc 4455  Title: Intellij Error:Cannot build Artifact 'XXX:war exploded' beca - Tags:[ java maven intellij-idea ]\n",
      "\n",
      "Topic 16 : data object imag model creat product databas store db json\n",
      "Doc 8465  Title: How to convert FormData(HTML5 Object) to JSON - Tags:[ javascript ]\n",
      "Doc 8447  Title: What is the difference between Object.assign and JSON.parse( - Tags:[ javascript ]\n",
      "\n",
      "Topic 17 : string public class new void privat return method overrid null\n",
      "Doc 8523  Title: Does javac ever generate static bridge methods? - Tags:[ java ]\n",
      "Doc 2914  Title: Static generic methods - Tags:[ java generics ]\n",
      "\n",
      "Topic 18 : int type valu size return doubl vector char length number\n",
      "Doc 6997  Title: Move a vector<T*> to vector<const T*> - Tags:[ c++ ]\n",
      "Doc 123  Title: Does C++14 define the behavior of bitwise operators on the p - Tags:[ c++ c++14 ]\n",
      "\n",
      "Topic 19 : js modul node angular src script webpack app html requir\n",
      "Doc 6577  Title: Conflict: Multiple assets emit to the same filename - Tags:[ javascript node.js webpack ]\n",
      "Doc 7749  Title: BrowserslistError: Unknown browser major - Tags:[ javascript angular ]\n",
      "\n"
     ]
    }
   ],
   "source": [
    "display_topics(lda_best.components_, ldabest_output, vocab, x_train, y_train, 10, 2)"
   ]
  },
  {
   "cell_type": "code",
   "execution_count": null,
   "metadata": {
    "collapsed": true
   },
   "outputs": [],
   "source": []
  }
 ],
 "metadata": {
  "kernelspec": {
   "display_name": "Python 3",
   "language": "python",
   "name": "python3"
  },
  "language_info": {
   "codemirror_mode": {
    "name": "ipython",
    "version": 3
   },
   "file_extension": ".py",
   "mimetype": "text/x-python",
   "name": "python",
   "nbconvert_exporter": "python",
   "pygments_lexer": "ipython3",
   "version": "3.6.2"
  }
 },
 "nbformat": 4,
 "nbformat_minor": 2
}
