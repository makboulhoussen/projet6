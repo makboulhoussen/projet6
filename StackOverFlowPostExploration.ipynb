{
 "cells": [
  {
   "cell_type": "markdown",
   "metadata": {},
   "source": [
    "# Projet 6 : Catégorisez automatiquement des questions\n",
    "# <u>A. Exploration des données</u> <br/>"
   ]
  },
  {
   "cell_type": "code",
   "execution_count": 1,
   "metadata": {
    "collapsed": true
   },
   "outputs": [],
   "source": [
    "import os\n",
    "import numpy as np\n",
    "import pandas as pd\n",
    "import matplotlib.pyplot as plt\n",
    "import seaborn as sns\n",
    "import glob\n",
    "from bs4 import BeautifulSoup\n",
    "from bs4 import Tag\n",
    "import re\n",
    "import string\n",
    "import nltk\n",
    "from nltk.corpus import stopwords\n",
    "from nltk.stem.porter import PorterStemmer\n",
    "\n",
    "%matplotlib inline\n",
    "\n",
    "#pd.set_option('display.max_colwidth', -1)\n",
    "pd.reset_option('display.max_colwidth')"
   ]
  },
  {
   "cell_type": "markdown",
   "metadata": {},
   "source": [
    "# 1. Les données"
   ]
  },
  {
   "cell_type": "markdown",
   "metadata": {},
   "source": [
    "Les données ont été obtenues par des requêtes SQL via l'outil **stackexchange explorer**<br/>\n",
    "Nous avons uniquement récupéré les posts ayant un score supérieur à 5 pour avoir des questions jugées pertinentes.<br/>\n",
    "En raison des limitations sur les temps d'execution, nous avons fait plusieurs requêtes pour récupérer suffisamment de données pour notre analyse.<br/>\n",
    "\n",
    "\n",
    "\n",
    "\n",
    "\n",
    "```SQL\n",
    "SELECT TITLE, BODY, SCORE, TAGS \n",
    "FROM POSTS \n",
    "WHERE POSTTYPEID=1\n",
    "AND ID >= XX AND ID < YY\n",
    "AND SCORE > 5\n",
    "```"
   ]
  },
  {
   "cell_type": "code",
   "execution_count": 2,
   "metadata": {},
   "outputs": [
    {
     "name": "stdout",
     "output_type": "stream",
     "text": [
      "# Taille des fichiers\n",
      "./QueryResults_4.csv          26.03MB\n",
      "./QueryResults_5.csv          28.23MB\n",
      "./QueryResults_1.csv          22.19MB\n",
      "./QueryResults_2.csv          24.86MB\n",
      "./QueryResults_3.csv          21.25MB\n",
      "# Taille total : 0.12GB\n"
     ]
    }
   ],
   "source": [
    "path =r'.' # current dir\n",
    "datasets_path = glob.glob(path + \"/QueryResult*.csv\")\n",
    "total_size = 0\n",
    "print('# Taille des fichiers')\n",
    "for f in datasets_path:\n",
    "    total_size += round(os.path.getsize(f) / 1000000, 2)\n",
    "    print(f.ljust(30) + str(round(os.path.getsize(f) / 1000000, 2)) + 'MB')\n",
    "print('# Taille total : ' +  str(round(total_size / 1000, 2)) + 'GB')"
   ]
  },
  {
   "cell_type": "markdown",
   "metadata": {},
   "source": [
    "Nos données sont réparties dans 5 fichiers représentant une taille totale de 0,12Go."
   ]
  },
  {
   "cell_type": "code",
   "execution_count": 3,
   "metadata": {
    "collapsed": true
   },
   "outputs": [],
   "source": [
    "df = pd.DataFrame()\n",
    "list_ = []\n",
    "for file_ in datasets_path:\n",
    "    df_ = pd.read_csv(file_,index_col=None, header=0,low_memory=False, error_bad_lines=False)\n",
    "    list_.append(df_)\n",
    "df = pd.concat(list_, ignore_index=True)"
   ]
  },
  {
   "cell_type": "markdown",
   "metadata": {},
   "source": [
    "## 1.1 Dimensions"
   ]
  },
  {
   "cell_type": "code",
   "execution_count": 4,
   "metadata": {},
   "outputs": [
    {
     "data": {
      "text/plain": [
       "(64432, 4)"
      ]
     },
     "execution_count": 4,
     "metadata": {},
     "output_type": "execute_result"
    }
   ],
   "source": [
    "df.shape"
   ]
  },
  {
   "cell_type": "markdown",
   "metadata": {},
   "source": [
    "Les données sont composées de : 64 432 posts"
   ]
  },
  {
   "cell_type": "markdown",
   "metadata": {},
   "source": [
    "## 1.2 Contenu"
   ]
  },
  {
   "cell_type": "code",
   "execution_count": 5,
   "metadata": {},
   "outputs": [
    {
     "data": {
      "text/html": [
       "<div>\n",
       "<style>\n",
       "    .dataframe thead tr:only-child th {\n",
       "        text-align: right;\n",
       "    }\n",
       "\n",
       "    .dataframe thead th {\n",
       "        text-align: left;\n",
       "    }\n",
       "\n",
       "    .dataframe tbody tr th {\n",
       "        vertical-align: top;\n",
       "    }\n",
       "</style>\n",
       "<table border=\"1\" class=\"dataframe\">\n",
       "  <thead>\n",
       "    <tr style=\"text-align: right;\">\n",
       "      <th></th>\n",
       "      <th>TITLE</th>\n",
       "      <th>BODY</th>\n",
       "      <th>SCORE</th>\n",
       "      <th>TAGS</th>\n",
       "    </tr>\n",
       "  </thead>\n",
       "  <tbody>\n",
       "    <tr>\n",
       "      <th>0</th>\n",
       "      <td>Java generics variable &lt;T&gt; value</td>\n",
       "      <td>&lt;p&gt;At the moment I am using the following code...</td>\n",
       "      <td>6</td>\n",
       "      <td>&lt;java&gt;&lt;generics&gt;</td>\n",
       "    </tr>\n",
       "    <tr>\n",
       "      <th>1</th>\n",
       "      <td>How a value typed variable is copied when it i...</td>\n",
       "      <td>&lt;blockquote&gt;\\n  &lt;p&gt;Swift's string type is a va...</td>\n",
       "      <td>6</td>\n",
       "      <td>&lt;swift&gt;&lt;function&gt;&lt;value-type&gt;</td>\n",
       "    </tr>\n",
       "    <tr>\n",
       "      <th>2</th>\n",
       "      <td>Error while waiting for device: The emulator p...</td>\n",
       "      <td>&lt;p&gt;I am a freshman for the development of the ...</td>\n",
       "      <td>6</td>\n",
       "      <td>&lt;android&gt;&lt;android-studio&gt;&lt;android-emulator&gt;&lt;avd&gt;</td>\n",
       "    </tr>\n",
       "    <tr>\n",
       "      <th>3</th>\n",
       "      <td>gulp-inject not working with gulp-watch</td>\n",
       "      <td>&lt;p&gt;I am using gulp-inject to auto add SASS imp...</td>\n",
       "      <td>10</td>\n",
       "      <td>&lt;javascript&gt;&lt;node.js&gt;&lt;npm&gt;&lt;gulp&gt;&lt;gulp-watch&gt;</td>\n",
       "    </tr>\n",
       "    <tr>\n",
       "      <th>4</th>\n",
       "      <td>React - Call function on props change</td>\n",
       "      <td>&lt;p&gt;My TranslationDetail component is passed an...</td>\n",
       "      <td>12</td>\n",
       "      <td>&lt;reactjs&gt;&lt;react-router&gt;</td>\n",
       "    </tr>\n",
       "  </tbody>\n",
       "</table>\n",
       "</div>"
      ],
      "text/plain": [
       "                                               TITLE  \\\n",
       "0                   Java generics variable <T> value   \n",
       "1  How a value typed variable is copied when it i...   \n",
       "2  Error while waiting for device: The emulator p...   \n",
       "3            gulp-inject not working with gulp-watch   \n",
       "4              React - Call function on props change   \n",
       "\n",
       "                                                BODY  SCORE  \\\n",
       "0  <p>At the moment I am using the following code...      6   \n",
       "1  <blockquote>\\n  <p>Swift's string type is a va...      6   \n",
       "2  <p>I am a freshman for the development of the ...      6   \n",
       "3  <p>I am using gulp-inject to auto add SASS imp...     10   \n",
       "4  <p>My TranslationDetail component is passed an...     12   \n",
       "\n",
       "                                               TAGS  \n",
       "0                                  <java><generics>  \n",
       "1                     <swift><function><value-type>  \n",
       "2  <android><android-studio><android-emulator><avd>  \n",
       "3      <javascript><node.js><npm><gulp><gulp-watch>  \n",
       "4                           <reactjs><react-router>  "
      ]
     },
     "execution_count": 5,
     "metadata": {},
     "output_type": "execute_result"
    }
   ],
   "source": [
    "df.head()"
   ]
  },
  {
   "cell_type": "code",
   "execution_count": 6,
   "metadata": {},
   "outputs": [
    {
     "data": {
      "text/plain": [
       "TITLE    object\n",
       "BODY     object\n",
       "SCORE     int64\n",
       "TAGS     object\n",
       "dtype: object"
      ]
     },
     "execution_count": 6,
     "metadata": {},
     "output_type": "execute_result"
    }
   ],
   "source": [
    "df.dtypes"
   ]
  },
  {
   "cell_type": "markdown",
   "metadata": {},
   "source": [
    "\n",
    "| Variable\t    | Type  \t                         | Description\t                                          | \n",
    "|---------------|------------------------------------|--------------------------------------------------------|\n",
    "| TITLE         | Textuelle                     \t | Titre du post (de la question)                         |\n",
    "| BODY          | Textuelle                          | Contenu textuel du post (détail de la question         |\n",
    "| SCORE         | Continue - nombre entier            | Score données par les internautes pour la pertinence de la question                 \t              |\n",
    "| TAGS          | Textuelle          | Les tags associés au post. Liste de tags (chaque tag est entre '<' '>'   |"
   ]
  },
  {
   "cell_type": "markdown",
   "metadata": {},
   "source": [
    "## 1.3 Données manquantes"
   ]
  },
  {
   "cell_type": "markdown",
   "metadata": {},
   "source": [
    "Vérifions tout d'abord si nos données sont complètes."
   ]
  },
  {
   "cell_type": "code",
   "execution_count": 7,
   "metadata": {},
   "outputs": [
    {
     "data": {
      "text/html": [
       "<div>\n",
       "<style>\n",
       "    .dataframe thead tr:only-child th {\n",
       "        text-align: right;\n",
       "    }\n",
       "\n",
       "    .dataframe thead th {\n",
       "        text-align: left;\n",
       "    }\n",
       "\n",
       "    .dataframe tbody tr th {\n",
       "        vertical-align: top;\n",
       "    }\n",
       "</style>\n",
       "<table border=\"1\" class=\"dataframe\">\n",
       "  <thead>\n",
       "    <tr style=\"text-align: right;\">\n",
       "      <th></th>\n",
       "      <th>% Missing Values</th>\n",
       "    </tr>\n",
       "  </thead>\n",
       "  <tbody>\n",
       "    <tr>\n",
       "      <th>TITLE</th>\n",
       "      <td>0.0</td>\n",
       "    </tr>\n",
       "    <tr>\n",
       "      <th>BODY</th>\n",
       "      <td>0.0</td>\n",
       "    </tr>\n",
       "    <tr>\n",
       "      <th>SCORE</th>\n",
       "      <td>0.0</td>\n",
       "    </tr>\n",
       "    <tr>\n",
       "      <th>TAGS</th>\n",
       "      <td>0.0</td>\n",
       "    </tr>\n",
       "  </tbody>\n",
       "</table>\n",
       "</div>"
      ],
      "text/plain": [
       "       % Missing Values\n",
       "TITLE               0.0\n",
       "BODY                0.0\n",
       "SCORE               0.0\n",
       "TAGS                0.0"
      ]
     },
     "execution_count": 7,
     "metadata": {},
     "output_type": "execute_result"
    }
   ],
   "source": [
    "#percent of missing values for each column\n",
    "pd.DataFrame(df.isnull().sum()/df.shape[0]*100,columns=['% Missing Values']).round(2)"
   ]
  },
  {
   "cell_type": "markdown",
   "metadata": {},
   "source": [
    "=> La base de données ne contient pas de donnée vide."
   ]
  },
  {
   "cell_type": "markdown",
   "metadata": {},
   "source": [
    "# 2. Cleaning and Preprocessing"
   ]
  },
  {
   "cell_type": "markdown",
   "metadata": {},
   "source": [
    "- Affichons le contenu d'un titre."
   ]
  },
  {
   "cell_type": "code",
   "execution_count": 8,
   "metadata": {},
   "outputs": [
    {
     "data": {
      "text/plain": [
       "'gulp-inject not working with gulp-watch'"
      ]
     },
     "metadata": {},
     "output_type": "display_data"
    },
    {
     "data": {
      "text/plain": [
       "'Eclipse git pushes all branches instead of the current one only'"
      ]
     },
     "metadata": {},
     "output_type": "display_data"
    }
   ],
   "source": [
    "display(df.TITLE[3])\n",
    "display(df.TITLE[12])"
   ]
  },
  {
   "cell_type": "markdown",
   "metadata": {},
   "source": [
    "- Le body"
   ]
  },
  {
   "cell_type": "code",
   "execution_count": 9,
   "metadata": {},
   "outputs": [
    {
     "data": {
      "text/plain": [
       "'<p>I am using gulp-inject to auto add SASS imports as they are newly created in my project. This works fine, the new SASS files are imported correctly, however when an already imported file is deleted whilst gulp-watch is running it crashes with the following error:</p>\\n\\n<pre><code> Error: _dev\\\\style\\\\style.scss\\nError: File to import not found or unreadable: components/_test - Copy.scss\\n       Parent style sheet: stdin\\n        on line 2 of stdin\\n&gt;&gt; @import \"components/_test - Copy.scss\";\\n</code></pre>\\n\\n<p>I have spent a good few hours trying to work out why it tries to compile an older version of the stylesheet with out of date imports. I set a delay on the SASS task and the imports are correct in the actual file by the time the gulp-sass runs. I have read that gulp-watch may be caching the stylehseet, but really not sure.</p>\\n\\n<p>Below are the relevant bits of my Gulp file, at the bottom is a link to my full gulp file.</p>\\n\\n<p><strong>Here are my watch tasks:</strong>\\n(The components task triggers the SASS task)</p>\\n\\n<pre><code>// SASS\\nplugins.watch([paths.dev+\\'/**/*.scss\\',!paths.dev+\\'/style/components/**/*.scss\\'], function () {gulp.start(gulpsync.sync([\\n    \\'build-sass\\'\\n]));});\\n// COMPONENTS\\nplugins.watch(paths.dev+\\'/style/components/**/*.scss\\', function () {gulp.start(gulpsync.sync([\\n    \\'inject-deps\\'\\n]));});\\n</code></pre>\\n\\n<p><strong>SASS task</strong></p>\\n\\n<pre><code>gulp.task(\\'build-sass\\', function() {\\n    // SASS\\n    return gulp.src(paths.dev+\\'/style/style.scss\\')\\n    .pipe(plugins.wait(1500))\\n    .pipe(plugins.sass({ noCache: true }))\\n    .pipe(gulp.dest(paths.tmp+\\'/style/\\'));\\n});\\n</code></pre>\\n\\n<p><strong>Inject task</strong></p>\\n\\n<pre><code>gulp.task(\\'inject-deps\\', function() {\\n    // Auto inject SASS\\n    gulp.src(paths.dev+\\'/style/style.scss\\')\\n    .pipe(plugins.inject(gulp.src(\\'components/**/*.scss\\', {read: false, cwd:paths.dev+\\'/style/\\'}), {\\n        relative: true,\\n        starttag: \\'/* inject:imports */\\',\\n        endtag: \\'/* endinject */\\',\\n        transform: function (filepath) {\\n            return \\'@import \"\\' + filepath + \\'\";\\';\\n        }\\n    }))\\n</code></pre>\\n\\n<p><strong>FULL GULP FILE:</strong>\\n<a href=\"https://jsfiddle.net/cwu0m1cp/\">https://jsfiddle.net/cwu0m1cp/</a></p>\\n\\n<p>As requested here is the SASS file with the imports, it works fine as long as the watch task isn\\'t running, the imported files contain no CSS:</p>\\n\\n<p><strong>SASS FILE BEFORE DELETE:</strong></p>\\n\\n<pre><code>/* inject:imports */\\n@import \"components/_test.scss\";\\n@import \"components/_test-copy.scss\";\\n/* endinject */\\n</code></pre>\\n\\n<p><strong>SASS FILE AFTER DELETE:</strong></p>\\n\\n<pre><code>/* inject:imports */\\n@import \"components/_test.scss\";\\n/* endinject */\\n</code></pre>\\n'"
      ]
     },
     "metadata": {},
     "output_type": "display_data"
    },
    {
     "data": {
      "text/plain": [
       "'<p>I see this for egit\\'s Push to Upstream:</p>\\n\\n<p><a href=\"https://i.stack.imgur.com/R9ZuV.png\" rel=\"nofollow noreferrer\"><img src=\"https://i.stack.imgur.com/R9ZuV.png\" alt=\"demo\"></a></p>\\n\\n<p>It says \"Push <strong>current</strong> branch.\"</p>\\n\\n<p>When I use it, all branches get pushed instead of only the current one. Is there a way to configure it to push only the current branch?</p>\\n'"
      ]
     },
     "metadata": {},
     "output_type": "display_data"
    }
   ],
   "source": [
    "display(df.BODY[3])\n",
    "display(df.BODY[12])"
   ]
  },
  {
   "cell_type": "markdown",
   "metadata": {},
   "source": [
    "=> Le body contient des caractères HTML,<br.>\n",
    "=> il peut contenir du code et des caractères de langues étrangères.<br/>\n",
    "=> Il contient aussi des liens hypertextes"
   ]
  },
  {
   "cell_type": "markdown",
   "metadata": {},
   "source": [
    "- Les tags"
   ]
  },
  {
   "cell_type": "code",
   "execution_count": 10,
   "metadata": {},
   "outputs": [
    {
     "data": {
      "text/plain": [
       "'<javascript><node.js><npm><gulp><gulp-watch>'"
      ]
     },
     "metadata": {},
     "output_type": "display_data"
    },
    {
     "data": {
      "text/plain": [
       "'<eclipse><git><egit>'"
      ]
     },
     "metadata": {},
     "output_type": "display_data"
    }
   ],
   "source": [
    "display(df.TAGS[3])\n",
    "display(df.TAGS[12])"
   ]
  },
  {
   "cell_type": "markdown",
   "metadata": {},
   "source": [
    "# 2.1 Traitement de la colonne TITLE"
   ]
  },
  {
   "cell_type": "code",
   "execution_count": 11,
   "metadata": {
    "collapsed": true
   },
   "outputs": [],
   "source": [
    "stop = set(stopwords.words('english'))"
   ]
  },
  {
   "cell_type": "code",
   "execution_count": 12,
   "metadata": {
    "collapsed": true
   },
   "outputs": [],
   "source": [
    "def getPlainTextFromHTML(text) :\n",
    "    # 1. Remove HTML Tag\n",
    "    plaintext = BeautifulSoup(text, \"lxml\").get_text() \n",
    "    return plaintext\n",
    "\n",
    "\n",
    "def getCleanedText(text) :\n",
    "    # 1. Letters and digit only\n",
    "    no_special_char = re.sub(\"[^a-zA-Z0-9#]\",\" \", text )  # The text to search\n",
    "    \n",
    "    # 2. Convert to lower case, split into individual words\n",
    "    words = no_special_char.lower().split()\n",
    "    \n",
    "    # 3. Remove stop words\n",
    "    meaningful_words = [w for w in words if not w in stop]\n",
    "    \n",
    "    # 4. stemming of words\n",
    "    porter = PorterStemmer()\n",
    "    stemmed = [porter.stem(word) for word in meaningful_words]\n",
    "    \n",
    "    # 5. Join the words back into one string separated by space, \n",
    "    # and return the result.\n",
    "    return( \" \".join( stemmed )) "
   ]
  },
  {
   "cell_type": "code",
   "execution_count": 13,
   "metadata": {
    "collapsed": true
   },
   "outputs": [],
   "source": [
    "df['TITLE_P'] = df['TITLE'].apply(lambda x: getCleanedText(x))"
   ]
  },
  {
   "cell_type": "code",
   "execution_count": 14,
   "metadata": {},
   "outputs": [
    {
     "data": {
      "text/html": [
       "<div>\n",
       "<style>\n",
       "    .dataframe thead tr:only-child th {\n",
       "        text-align: right;\n",
       "    }\n",
       "\n",
       "    .dataframe thead th {\n",
       "        text-align: left;\n",
       "    }\n",
       "\n",
       "    .dataframe tbody tr th {\n",
       "        vertical-align: top;\n",
       "    }\n",
       "</style>\n",
       "<table border=\"1\" class=\"dataframe\">\n",
       "  <thead>\n",
       "    <tr style=\"text-align: right;\">\n",
       "      <th></th>\n",
       "      <th>TITLE</th>\n",
       "      <th>BODY</th>\n",
       "      <th>SCORE</th>\n",
       "      <th>TAGS</th>\n",
       "      <th>TITLE_P</th>\n",
       "    </tr>\n",
       "  </thead>\n",
       "  <tbody>\n",
       "    <tr>\n",
       "      <th>0</th>\n",
       "      <td>Java generics variable &lt;T&gt; value</td>\n",
       "      <td>&lt;p&gt;At the moment I am using the following code...</td>\n",
       "      <td>6</td>\n",
       "      <td>&lt;java&gt;&lt;generics&gt;</td>\n",
       "      <td>java gener variabl valu</td>\n",
       "    </tr>\n",
       "    <tr>\n",
       "      <th>1</th>\n",
       "      <td>How a value typed variable is copied when it i...</td>\n",
       "      <td>&lt;blockquote&gt;\\n  &lt;p&gt;Swift's string type is a va...</td>\n",
       "      <td>6</td>\n",
       "      <td>&lt;swift&gt;&lt;function&gt;&lt;value-type&gt;</td>\n",
       "      <td>valu type variabl copi pass function hold copi</td>\n",
       "    </tr>\n",
       "    <tr>\n",
       "      <th>2</th>\n",
       "      <td>Error while waiting for device: The emulator p...</td>\n",
       "      <td>&lt;p&gt;I am a freshman for the development of the ...</td>\n",
       "      <td>6</td>\n",
       "      <td>&lt;android&gt;&lt;android-studio&gt;&lt;android-emulator&gt;&lt;avd&gt;</td>\n",
       "      <td>error wait devic emul process avd kill</td>\n",
       "    </tr>\n",
       "    <tr>\n",
       "      <th>3</th>\n",
       "      <td>gulp-inject not working with gulp-watch</td>\n",
       "      <td>&lt;p&gt;I am using gulp-inject to auto add SASS imp...</td>\n",
       "      <td>10</td>\n",
       "      <td>&lt;javascript&gt;&lt;node.js&gt;&lt;npm&gt;&lt;gulp&gt;&lt;gulp-watch&gt;</td>\n",
       "      <td>gulp inject work gulp watch</td>\n",
       "    </tr>\n",
       "    <tr>\n",
       "      <th>4</th>\n",
       "      <td>React - Call function on props change</td>\n",
       "      <td>&lt;p&gt;My TranslationDetail component is passed an...</td>\n",
       "      <td>12</td>\n",
       "      <td>&lt;reactjs&gt;&lt;react-router&gt;</td>\n",
       "      <td>react call function prop chang</td>\n",
       "    </tr>\n",
       "  </tbody>\n",
       "</table>\n",
       "</div>"
      ],
      "text/plain": [
       "                                               TITLE  \\\n",
       "0                   Java generics variable <T> value   \n",
       "1  How a value typed variable is copied when it i...   \n",
       "2  Error while waiting for device: The emulator p...   \n",
       "3            gulp-inject not working with gulp-watch   \n",
       "4              React - Call function on props change   \n",
       "\n",
       "                                                BODY  SCORE  \\\n",
       "0  <p>At the moment I am using the following code...      6   \n",
       "1  <blockquote>\\n  <p>Swift's string type is a va...      6   \n",
       "2  <p>I am a freshman for the development of the ...      6   \n",
       "3  <p>I am using gulp-inject to auto add SASS imp...     10   \n",
       "4  <p>My TranslationDetail component is passed an...     12   \n",
       "\n",
       "                                               TAGS  \\\n",
       "0                                  <java><generics>   \n",
       "1                     <swift><function><value-type>   \n",
       "2  <android><android-studio><android-emulator><avd>   \n",
       "3      <javascript><node.js><npm><gulp><gulp-watch>   \n",
       "4                           <reactjs><react-router>   \n",
       "\n",
       "                                          TITLE_P  \n",
       "0                         java gener variabl valu  \n",
       "1  valu type variabl copi pass function hold copi  \n",
       "2          error wait devic emul process avd kill  \n",
       "3                     gulp inject work gulp watch  \n",
       "4                  react call function prop chang  "
      ]
     },
     "execution_count": 14,
     "metadata": {},
     "output_type": "execute_result"
    }
   ],
   "source": [
    "df.head()"
   ]
  },
  {
   "cell_type": "markdown",
   "metadata": {},
   "source": [
    "## 2.2 Traitement de la colonne BODY"
   ]
  },
  {
   "cell_type": "code",
   "execution_count": 15,
   "metadata": {},
   "outputs": [],
   "source": [
    "'''\n",
    "Retrieve body text inside <p>,<h1>,<h2>,<li> tags and return the cleaned and normalized text\n",
    "'''\n",
    "def getCleanedBodyText(body) :\n",
    "    ctext=\"\"\n",
    "    tags_list=['h1','h2','p','li']\n",
    "    soup = BeautifulSoup(body, 'html.parser')\n",
    "    for t in tags_list :\n",
    "        blocks = soup.findAll(t)\n",
    "        for block in blocks:\n",
    "            if not block.findChildren() :\n",
    "                ctext += \" \" + block.text        \n",
    "            else :\n",
    "                for child in block.contents :\n",
    "                    if (isinstance(child, Tag)):\n",
    "                        if (child.name != \"a\") :\n",
    "                            if ('class' in child.attrs) :\n",
    "                                if ('snippet' not in ' '.join(child.attrs['class'])):\n",
    "                                     ctext += \" \" + child.text\n",
    "                            else :\n",
    "                                ctext += \" \" + child.text\n",
    "                    else:\n",
    "                        ctext += \" \" + child\n",
    "    return getCleanedText(re.sub(' +',' ',ctext.strip()))"
   ]
  },
  {
   "cell_type": "code",
   "execution_count": 16,
   "metadata": {},
   "outputs": [],
   "source": [
    "'''\n",
    "Retrieve the code text inside the body\n",
    "'''\n",
    "def getCleanedBodyCode(body) :\n",
    "    ctext=\"\"\n",
    "    soup = BeautifulSoup(body, 'lxml')\n",
    "    code_blocks = soup.findAll('code')\n",
    "    ctext=\" \".join(list(map(lambda x : x.text, code_blocks )))\n",
    "    table = str.maketrans('', '', string.punctuation)\n",
    "    words = re.findall(r\"[\\w']+\", ctext.lower())\n",
    "    stripped = [w.translate(table) for w in words]\n",
    "    return( \" \".join( stripped ))"
   ]
  },
  {
   "cell_type": "code",
   "execution_count": 17,
   "metadata": {},
   "outputs": [],
   "source": [
    "df['BODY_TEXT_P']=df['BODY'].apply(lambda x: getCleanedBodyText(x))"
   ]
  },
  {
   "cell_type": "code",
   "execution_count": 18,
   "metadata": {
    "collapsed": true
   },
   "outputs": [],
   "source": [
    "df['BODY_CODE_P']=df['BODY'].apply(lambda x: getCleanedBodyCode(x))"
   ]
  },
  {
   "cell_type": "code",
   "execution_count": 19,
   "metadata": {},
   "outputs": [
    {
     "data": {
      "text/html": [
       "<div>\n",
       "<style>\n",
       "    .dataframe thead tr:only-child th {\n",
       "        text-align: right;\n",
       "    }\n",
       "\n",
       "    .dataframe thead th {\n",
       "        text-align: left;\n",
       "    }\n",
       "\n",
       "    .dataframe tbody tr th {\n",
       "        vertical-align: top;\n",
       "    }\n",
       "</style>\n",
       "<table border=\"1\" class=\"dataframe\">\n",
       "  <thead>\n",
       "    <tr style=\"text-align: right;\">\n",
       "      <th></th>\n",
       "      <th>TITLE</th>\n",
       "      <th>BODY</th>\n",
       "      <th>SCORE</th>\n",
       "      <th>TAGS</th>\n",
       "      <th>TITLE_P</th>\n",
       "      <th>BODY_TEXT_P</th>\n",
       "      <th>BODY_CODE_P</th>\n",
       "    </tr>\n",
       "  </thead>\n",
       "  <tbody>\n",
       "    <tr>\n",
       "      <th>0</th>\n",
       "      <td>Java generics variable &lt;T&gt; value</td>\n",
       "      <td>&lt;p&gt;At the moment I am using the following code...</td>\n",
       "      <td>6</td>\n",
       "      <td>&lt;java&gt;&lt;generics&gt;</td>\n",
       "      <td>java gener variabl valu</td>\n",
       "      <td>moment use follow code filter jpa reduc block ...</td>\n",
       "      <td>if value getclass integer class return cb grea...</td>\n",
       "    </tr>\n",
       "    <tr>\n",
       "      <th>1</th>\n",
       "      <td>How a value typed variable is copied when it i...</td>\n",
       "      <td>&lt;blockquote&gt;\\n  &lt;p&gt;Swift's string type is a va...</td>\n",
       "      <td>6</td>\n",
       "      <td>&lt;swift&gt;&lt;function&gt;&lt;value-type&gt;</td>\n",
       "      <td>valu type variabl copi pass function hold copi</td>\n",
       "      <td>swift string type valu type creat new string v...</td>\n",
       "      <td></td>\n",
       "    </tr>\n",
       "    <tr>\n",
       "      <th>2</th>\n",
       "      <td>Error while waiting for device: The emulator p...</td>\n",
       "      <td>&lt;p&gt;I am a freshman for the development of the ...</td>\n",
       "      <td>6</td>\n",
       "      <td>&lt;android&gt;&lt;android-studio&gt;&lt;android-emulator&gt;&lt;avd&gt;</td>\n",
       "      <td>error wait devic emul process avd kill</td>\n",
       "      <td>freshman develop andriod suffer odd question r...</td>\n",
       "      <td></td>\n",
       "    </tr>\n",
       "    <tr>\n",
       "      <th>3</th>\n",
       "      <td>gulp-inject not working with gulp-watch</td>\n",
       "      <td>&lt;p&gt;I am using gulp-inject to auto add SASS imp...</td>\n",
       "      <td>10</td>\n",
       "      <td>&lt;javascript&gt;&lt;node.js&gt;&lt;npm&gt;&lt;gulp&gt;&lt;gulp-watch&gt;</td>\n",
       "      <td>gulp inject work gulp watch</td>\n",
       "      <td>use gulp inject auto add sass import newli cre...</td>\n",
       "      <td>error dev style style scss error file to impor...</td>\n",
       "    </tr>\n",
       "    <tr>\n",
       "      <th>4</th>\n",
       "      <td>React - Call function on props change</td>\n",
       "      <td>&lt;p&gt;My TranslationDetail component is passed an...</td>\n",
       "      <td>12</td>\n",
       "      <td>&lt;reactjs&gt;&lt;react-router&gt;</td>\n",
       "      <td>react call function prop chang</td>\n",
       "      <td>translationdetail compon pass id upon open bas...</td>\n",
       "      <td>routing route path translation id component tr...</td>\n",
       "    </tr>\n",
       "  </tbody>\n",
       "</table>\n",
       "</div>"
      ],
      "text/plain": [
       "                                               TITLE  \\\n",
       "0                   Java generics variable <T> value   \n",
       "1  How a value typed variable is copied when it i...   \n",
       "2  Error while waiting for device: The emulator p...   \n",
       "3            gulp-inject not working with gulp-watch   \n",
       "4              React - Call function on props change   \n",
       "\n",
       "                                                BODY  SCORE  \\\n",
       "0  <p>At the moment I am using the following code...      6   \n",
       "1  <blockquote>\\n  <p>Swift's string type is a va...      6   \n",
       "2  <p>I am a freshman for the development of the ...      6   \n",
       "3  <p>I am using gulp-inject to auto add SASS imp...     10   \n",
       "4  <p>My TranslationDetail component is passed an...     12   \n",
       "\n",
       "                                               TAGS  \\\n",
       "0                                  <java><generics>   \n",
       "1                     <swift><function><value-type>   \n",
       "2  <android><android-studio><android-emulator><avd>   \n",
       "3      <javascript><node.js><npm><gulp><gulp-watch>   \n",
       "4                           <reactjs><react-router>   \n",
       "\n",
       "                                          TITLE_P  \\\n",
       "0                         java gener variabl valu   \n",
       "1  valu type variabl copi pass function hold copi   \n",
       "2          error wait devic emul process avd kill   \n",
       "3                     gulp inject work gulp watch   \n",
       "4                  react call function prop chang   \n",
       "\n",
       "                                         BODY_TEXT_P  \\\n",
       "0  moment use follow code filter jpa reduc block ...   \n",
       "1  swift string type valu type creat new string v...   \n",
       "2  freshman develop andriod suffer odd question r...   \n",
       "3  use gulp inject auto add sass import newli cre...   \n",
       "4  translationdetail compon pass id upon open bas...   \n",
       "\n",
       "                                         BODY_CODE_P  \n",
       "0  if value getclass integer class return cb grea...  \n",
       "1                                                     \n",
       "2                                                     \n",
       "3  error dev style style scss error file to impor...  \n",
       "4  routing route path translation id component tr...  "
      ]
     },
     "execution_count": 19,
     "metadata": {},
     "output_type": "execute_result"
    }
   ],
   "source": [
    "df.head()"
   ]
  },
  {
   "cell_type": "markdown",
   "metadata": {},
   "source": [
    "## 2.3 Traitement de la colonne TAGS"
   ]
  },
  {
   "cell_type": "code",
   "execution_count": 20,
   "metadata": {
    "collapsed": true
   },
   "outputs": [],
   "source": [
    "'''\n",
    "Retourne uniquement les tags et séparé par des espaces\n",
    "'''\n",
    "def getTagNames(text) :\n",
    "    tags = ' '.join(re.findall('<(.*?)>',text))\n",
    "    return tags"
   ]
  },
  {
   "cell_type": "code",
   "execution_count": 21,
   "metadata": {},
   "outputs": [],
   "source": [
    "df['TAGS_P']=df['TAGS'].apply(lambda x: getTagNames(x))"
   ]
  },
  {
   "cell_type": "code",
   "execution_count": 22,
   "metadata": {},
   "outputs": [
    {
     "data": {
      "text/html": [
       "<div>\n",
       "<style>\n",
       "    .dataframe thead tr:only-child th {\n",
       "        text-align: right;\n",
       "    }\n",
       "\n",
       "    .dataframe thead th {\n",
       "        text-align: left;\n",
       "    }\n",
       "\n",
       "    .dataframe tbody tr th {\n",
       "        vertical-align: top;\n",
       "    }\n",
       "</style>\n",
       "<table border=\"1\" class=\"dataframe\">\n",
       "  <thead>\n",
       "    <tr style=\"text-align: right;\">\n",
       "      <th></th>\n",
       "      <th>TITLE</th>\n",
       "      <th>BODY</th>\n",
       "      <th>SCORE</th>\n",
       "      <th>TAGS</th>\n",
       "      <th>TITLE_P</th>\n",
       "      <th>BODY_TEXT_P</th>\n",
       "      <th>BODY_CODE_P</th>\n",
       "      <th>TAGS_P</th>\n",
       "    </tr>\n",
       "  </thead>\n",
       "  <tbody>\n",
       "    <tr>\n",
       "      <th>0</th>\n",
       "      <td>Java generics variable &lt;T&gt; value</td>\n",
       "      <td>&lt;p&gt;At the moment I am using the following code...</td>\n",
       "      <td>6</td>\n",
       "      <td>&lt;java&gt;&lt;generics&gt;</td>\n",
       "      <td>java gener variabl valu</td>\n",
       "      <td>moment use follow code filter jpa reduc block ...</td>\n",
       "      <td>if value getclass integer class return cb grea...</td>\n",
       "      <td>java generics</td>\n",
       "    </tr>\n",
       "    <tr>\n",
       "      <th>1</th>\n",
       "      <td>How a value typed variable is copied when it i...</td>\n",
       "      <td>&lt;blockquote&gt;\\n  &lt;p&gt;Swift's string type is a va...</td>\n",
       "      <td>6</td>\n",
       "      <td>&lt;swift&gt;&lt;function&gt;&lt;value-type&gt;</td>\n",
       "      <td>valu type variabl copi pass function hold copi</td>\n",
       "      <td>swift string type valu type creat new string v...</td>\n",
       "      <td></td>\n",
       "      <td>swift function value-type</td>\n",
       "    </tr>\n",
       "    <tr>\n",
       "      <th>2</th>\n",
       "      <td>Error while waiting for device: The emulator p...</td>\n",
       "      <td>&lt;p&gt;I am a freshman for the development of the ...</td>\n",
       "      <td>6</td>\n",
       "      <td>&lt;android&gt;&lt;android-studio&gt;&lt;android-emulator&gt;&lt;avd&gt;</td>\n",
       "      <td>error wait devic emul process avd kill</td>\n",
       "      <td>freshman develop andriod suffer odd question r...</td>\n",
       "      <td></td>\n",
       "      <td>android android-studio android-emulator avd</td>\n",
       "    </tr>\n",
       "    <tr>\n",
       "      <th>3</th>\n",
       "      <td>gulp-inject not working with gulp-watch</td>\n",
       "      <td>&lt;p&gt;I am using gulp-inject to auto add SASS imp...</td>\n",
       "      <td>10</td>\n",
       "      <td>&lt;javascript&gt;&lt;node.js&gt;&lt;npm&gt;&lt;gulp&gt;&lt;gulp-watch&gt;</td>\n",
       "      <td>gulp inject work gulp watch</td>\n",
       "      <td>use gulp inject auto add sass import newli cre...</td>\n",
       "      <td>error dev style style scss error file to impor...</td>\n",
       "      <td>javascript node.js npm gulp gulp-watch</td>\n",
       "    </tr>\n",
       "    <tr>\n",
       "      <th>4</th>\n",
       "      <td>React - Call function on props change</td>\n",
       "      <td>&lt;p&gt;My TranslationDetail component is passed an...</td>\n",
       "      <td>12</td>\n",
       "      <td>&lt;reactjs&gt;&lt;react-router&gt;</td>\n",
       "      <td>react call function prop chang</td>\n",
       "      <td>translationdetail compon pass id upon open bas...</td>\n",
       "      <td>routing route path translation id component tr...</td>\n",
       "      <td>reactjs react-router</td>\n",
       "    </tr>\n",
       "  </tbody>\n",
       "</table>\n",
       "</div>"
      ],
      "text/plain": [
       "                                               TITLE  \\\n",
       "0                   Java generics variable <T> value   \n",
       "1  How a value typed variable is copied when it i...   \n",
       "2  Error while waiting for device: The emulator p...   \n",
       "3            gulp-inject not working with gulp-watch   \n",
       "4              React - Call function on props change   \n",
       "\n",
       "                                                BODY  SCORE  \\\n",
       "0  <p>At the moment I am using the following code...      6   \n",
       "1  <blockquote>\\n  <p>Swift's string type is a va...      6   \n",
       "2  <p>I am a freshman for the development of the ...      6   \n",
       "3  <p>I am using gulp-inject to auto add SASS imp...     10   \n",
       "4  <p>My TranslationDetail component is passed an...     12   \n",
       "\n",
       "                                               TAGS  \\\n",
       "0                                  <java><generics>   \n",
       "1                     <swift><function><value-type>   \n",
       "2  <android><android-studio><android-emulator><avd>   \n",
       "3      <javascript><node.js><npm><gulp><gulp-watch>   \n",
       "4                           <reactjs><react-router>   \n",
       "\n",
       "                                          TITLE_P  \\\n",
       "0                         java gener variabl valu   \n",
       "1  valu type variabl copi pass function hold copi   \n",
       "2          error wait devic emul process avd kill   \n",
       "3                     gulp inject work gulp watch   \n",
       "4                  react call function prop chang   \n",
       "\n",
       "                                         BODY_TEXT_P  \\\n",
       "0  moment use follow code filter jpa reduc block ...   \n",
       "1  swift string type valu type creat new string v...   \n",
       "2  freshman develop andriod suffer odd question r...   \n",
       "3  use gulp inject auto add sass import newli cre...   \n",
       "4  translationdetail compon pass id upon open bas...   \n",
       "\n",
       "                                         BODY_CODE_P  \\\n",
       "0  if value getclass integer class return cb grea...   \n",
       "1                                                      \n",
       "2                                                      \n",
       "3  error dev style style scss error file to impor...   \n",
       "4  routing route path translation id component tr...   \n",
       "\n",
       "                                        TAGS_P  \n",
       "0                                java generics  \n",
       "1                    swift function value-type  \n",
       "2  android android-studio android-emulator avd  \n",
       "3       javascript node.js npm gulp gulp-watch  \n",
       "4                         reactjs react-router  "
      ]
     },
     "execution_count": 22,
     "metadata": {},
     "output_type": "execute_result"
    }
   ],
   "source": [
    "df.head()"
   ]
  },
  {
   "cell_type": "code",
   "execution_count": 23,
   "metadata": {
    "collapsed": true
   },
   "outputs": [],
   "source": [
    "#df.to_csv('cleaned_data.csv',index = False)\n",
    "#df = pd.read_csv('cleaned_data.csv')\n",
    "#df = df.replace(np.nan, '', regex=True)"
   ]
  },
  {
   "cell_type": "markdown",
   "metadata": {
    "collapsed": true
   },
   "source": [
    "# 3. Analyse des données"
   ]
  },
  {
   "cell_type": "markdown",
   "metadata": {},
   "source": [
    "## 3.1 Les titres"
   ]
  },
  {
   "cell_type": "code",
   "execution_count": 24,
   "metadata": {
    "collapsed": true
   },
   "outputs": [],
   "source": [
    "df['TITLE_NW'] = df['TITLE_P'].apply(lambda x: len(x.split()))"
   ]
  },
  {
   "cell_type": "markdown",
   "metadata": {},
   "source": [
    "Voyons le nombre de mots contenus dans les titres."
   ]
  },
  {
   "cell_type": "code",
   "execution_count": 25,
   "metadata": {},
   "outputs": [
    {
     "name": "stdout",
     "output_type": "stream",
     "text": [
      "count    64432.000000\n",
      "mean         6.371461\n",
      "std          2.343993\n",
      "min          1.000000\n",
      "25%          5.000000\n",
      "50%          6.000000\n",
      "75%          8.000000\n",
      "max         23.000000\n",
      "Name: TITLE_NW, dtype: float64\n"
     ]
    },
    {
     "data": {
      "text/plain": [
       "<matplotlib.text.Text at 0x1a1235dda0>"
      ]
     },
     "execution_count": 25,
     "metadata": {},
     "output_type": "execute_result"
    },
    {
     "data": {
      "image/png": "[encoded data removed]",
      "text/plain": [
       "<matplotlib.figure.Figure at 0x1a12387208>"
      ]
     },
     "metadata": {},
     "output_type": "display_data"
    }
   ],
   "source": [
    "print(df['TITLE_NW'].describe())\n",
    "df['TITLE_NW'].plot(kind='box', figsize=[4,3])\n",
    "plt.title('Number of words per title')"
   ]
  },
  {
   "cell_type": "markdown",
   "metadata": {},
   "source": [
    "## 3.2 Le body"
   ]
  },
  {
   "cell_type": "code",
   "execution_count": 26,
   "metadata": {},
   "outputs": [],
   "source": [
    "df['BODY_TEXT_NW'] = df['BODY_TEXT_P'].apply(lambda x: len(x.split()))\n",
    "df['BODY_CODE_NW'] = df['BODY_CODE_P'].apply(lambda x: len(x.split()))"
   ]
  },
  {
   "cell_type": "code",
   "execution_count": 27,
   "metadata": {},
   "outputs": [
    {
     "name": "stdout",
     "output_type": "stream",
     "text": [
      "count    64432.000000\n",
      "mean        63.876909\n",
      "std         66.462397\n",
      "min          0.000000\n",
      "25%         29.000000\n",
      "50%         47.000000\n",
      "75%         77.000000\n",
      "max       3262.000000\n",
      "Name: BODY_TEXT_NW, dtype: float64\n"
     ]
    },
    {
     "data": {
      "text/plain": [
       "<matplotlib.text.Text at 0x1a11d2e908>"
      ]
     },
     "execution_count": 27,
     "metadata": {},
     "output_type": "execute_result"
    },
    {
     "data": {
      "image/png": "[encoded data removed]",
      "text/plain": [
       "<matplotlib.figure.Figure at 0x1a126f16a0>"
      ]
     },
     "metadata": {},
     "output_type": "display_data"
    }
   ],
   "source": [
    "print(df['BODY_TEXT_NW'].describe())\n",
    "sns.distplot( df['BODY_TEXT_NW'], color='g', bins=30 )\n",
    "plt.title('Number of words per body content (without code)')"
   ]
  },
  {
   "cell_type": "code",
   "execution_count": 28,
   "metadata": {},
   "outputs": [
    {
     "name": "stdout",
     "output_type": "stream",
     "text": [
      "count    64432.000000\n",
      "mean        98.958126\n",
      "std        220.955261\n",
      "min          0.000000\n",
      "25%          7.000000\n",
      "50%         37.000000\n",
      "75%        101.000000\n",
      "max      10239.000000\n",
      "Name: BODY_CODE_NW, dtype: float64\n"
     ]
    },
    {
     "data": {
      "text/plain": [
       "<matplotlib.text.Text at 0x1a17e71518>"
      ]
     },
     "execution_count": 28,
     "metadata": {},
     "output_type": "execute_result"
    },
    {
     "data": {
      "image/png": "[encoded data removed]",
      "text/plain": [
       "<matplotlib.figure.Figure at 0x1a11f3c400>"
      ]
     },
     "metadata": {},
     "output_type": "display_data"
    }
   ],
   "source": [
    "print(df['BODY_CODE_NW'].describe())\n",
    "sns.distplot( df['BODY_CODE_NW'], color='g', bins=30 )\n",
    "plt.title('Number of words per body content containing code')"
   ]
  },
  {
   "cell_type": "markdown",
   "metadata": {},
   "source": [
    "## 3.3 Les scores"
   ]
  },
  {
   "cell_type": "code",
   "execution_count": 29,
   "metadata": {},
   "outputs": [
    {
     "name": "stdout",
     "output_type": "stream",
     "text": [
      "count   64432.000\n",
      "mean       11.869\n",
      "std        17.857\n",
      "min         6.000\n",
      "25%         7.000\n",
      "50%         8.000\n",
      "75%        12.000\n",
      "max      2183.000\n",
      "Name: SCORE, dtype: float64\n"
     ]
    },
    {
     "data": {
      "text/plain": [
       "<matplotlib.axes._subplots.AxesSubplot at 0x1a1817b320>"
      ]
     },
     "execution_count": 29,
     "metadata": {},
     "output_type": "execute_result"
    },
    {
     "data": {
      "image/png": "[encoded data removed]",
      "text/plain": [
       "<matplotlib.figure.Figure at 0x1a12387f28>"
      ]
     },
     "metadata": {},
     "output_type": "display_data"
    }
   ],
   "source": [
    "pd.set_option('display.float_format', lambda x: '%.3f' % x)\n",
    "print(df['SCORE'].describe())\n",
    "plt.figure(figsize=(6, 4))\n",
    "sns.distplot( df[\"SCORE\"], color='g', bins=20 )"
   ]
  },
  {
   "cell_type": "markdown",
   "metadata": {},
   "source": [
    "## 3.4 Les tags"
   ]
  },
  {
   "cell_type": "markdown",
   "metadata": {},
   "source": [
    "Nombre de tags par post"
   ]
  },
  {
   "cell_type": "code",
   "execution_count": 44,
   "metadata": {},
   "outputs": [
    {
     "data": {
      "text/plain": [
       "count   64432.000\n",
       "mean        3.275\n",
       "std         1.229\n",
       "min         1.000\n",
       "25%         2.000\n",
       "50%         3.000\n",
       "75%         4.000\n",
       "max         5.000\n",
       "Name: TAGS_NUM, dtype: float64"
      ]
     },
     "execution_count": 44,
     "metadata": {},
     "output_type": "execute_result"
    },
    {
     "data": {
      "image/png": "[encoded data removed]",
      "text/plain": [
       "<matplotlib.figure.Figure at 0x1a0f6150b8>"
      ]
     },
     "metadata": {},
     "output_type": "display_data"
    }
   ],
   "source": [
    "df['TAGS_NUM'] = df['TAGS_P'].apply(lambda x : len(x.split()))\n",
    "df['TAGS_NUM'].plot(kind='box', figsize=[4,3])\n",
    "plt.title('Number of tags per post')\n",
    "df['TAGS_NUM'].describe()"
   ]
  },
  {
   "cell_type": "code",
   "execution_count": 31,
   "metadata": {},
   "outputs": [
    {
     "data": {
      "text/html": [
       "<div>\n",
       "<style>\n",
       "    .dataframe thead tr:only-child th {\n",
       "        text-align: right;\n",
       "    }\n",
       "\n",
       "    .dataframe thead th {\n",
       "        text-align: left;\n",
       "    }\n",
       "\n",
       "    .dataframe tbody tr th {\n",
       "        vertical-align: top;\n",
       "    }\n",
       "</style>\n",
       "<table border=\"1\" class=\"dataframe\">\n",
       "  <thead>\n",
       "    <tr style=\"text-align: right;\">\n",
       "      <th></th>\n",
       "      <th>count</th>\n",
       "    </tr>\n",
       "  </thead>\n",
       "  <tbody>\n",
       "    <tr>\n",
       "      <th>javascript</th>\n",
       "      <td>6590</td>\n",
       "    </tr>\n",
       "    <tr>\n",
       "      <th>android</th>\n",
       "      <td>6246</td>\n",
       "    </tr>\n",
       "    <tr>\n",
       "      <th>python</th>\n",
       "      <td>5441</td>\n",
       "    </tr>\n",
       "    <tr>\n",
       "      <th>java</th>\n",
       "      <td>5076</td>\n",
       "    </tr>\n",
       "    <tr>\n",
       "      <th>c++</th>\n",
       "      <td>4646</td>\n",
       "    </tr>\n",
       "  </tbody>\n",
       "</table>\n",
       "</div>"
      ],
      "text/plain": [
       "            count\n",
       "javascript   6590\n",
       "android      6246\n",
       "python       5441\n",
       "java         5076\n",
       "c++          4646"
      ]
     },
     "execution_count": 31,
     "metadata": {},
     "output_type": "execute_result"
    }
   ],
   "source": [
    "from collections import Counter\n",
    "counts = Counter()\n",
    "for sentence in df['TAGS_P']:\n",
    "    counts.update(sentence.split())\n",
    "tags_df = pd.DataFrame.from_dict(counts, orient='index')\n",
    "tags_df=tags_df.rename(columns={'index':'tag', 0:'count'})\n",
    "tags_df=tags_df.sort_values('count', ascending=False)\n",
    "tags_df.head()"
   ]
  },
  {
   "cell_type": "code",
   "execution_count": 32,
   "metadata": {},
   "outputs": [
    {
     "name": "stdout",
     "output_type": "stream",
     "text": [
      "Total number of tags 14523\n"
     ]
    }
   ],
   "source": [
    "print(\"Total number of tags\", tags_df.shape[0])"
   ]
  },
  {
   "cell_type": "code",
   "execution_count": 33,
   "metadata": {},
   "outputs": [
    {
     "data": {
      "image/png": "[encoded data removed]",
      "text/plain": [
       "<matplotlib.figure.Figure at 0x1a1b7a5f98>"
      ]
     },
     "metadata": {},
     "output_type": "display_data"
    }
   ],
   "source": [
    "ax = tags_df.head(50).plot(kind = 'bar', figsize = (14,6), color=\"#f56900\")\n",
    "plt.setp(ax.get_xticklabels(), rotation = 45, ha = 'right')\n",
    "plt.title('Top 50 Tags', fontsize = 'large')\n",
    "plt.xlabel('Tag')\n",
    "plt.ylabel('Number of occurences')\n",
    "plt.show()"
   ]
  },
  {
   "cell_type": "code",
   "execution_count": 34,
   "metadata": {},
   "outputs": [
    {
     "data": {
      "image/png": "[encoded data removed]",
      "text/plain": [
       "<matplotlib.figure.Figure at 0x1a1b65c0f0>"
      ]
     },
     "metadata": {},
     "output_type": "display_data"
    }
   ],
   "source": [
    "tags_df.head(5).plot(kind='pie', autopct='%1.1f%%', subplots=True, shadow=False,figsize=(7, 7))\n",
    "plt.text(0.2, 1.3, \"Top 5 tags repartition\", ha='right', fontsize = 14);\n"
   ]
  },
  {
   "cell_type": "code",
   "execution_count": 65,
   "metadata": {},
   "outputs": [
    {
     "data": {
      "text/plain": [
       "<matplotlib.text.Text at 0x1a1e884c88>"
      ]
     },
     "execution_count": 65,
     "metadata": {},
     "output_type": "execute_result"
    },
    {
     "data": {
      "image/png": "[encoded data removed]",
      "text/plain": [
       "<matplotlib.figure.Figure at 0x1a1e63ee48>"
      ]
     },
     "metadata": {},
     "output_type": "display_data"
    }
   ],
   "source": [
    "correlation = df.corr()\n",
    "ax = plt.axes()\n",
    "sns.heatmap(correlation, vmax=1, square=True,annot=True,cmap='cubehelix', ax=ax)\n",
    "ax.set_title('Correlation entre les nombres de mots au niveau des features', y=1.1)"
   ]
  },
  {
   "cell_type": "code",
   "execution_count": null,
   "metadata": {
    "collapsed": true
   },
   "outputs": [],
   "source": []
  }
 ],
 "metadata": {
  "kernelspec": {
   "display_name": "Python 3",
   "language": "python",
   "name": "python3"
  },
  "language_info": {
   "codemirror_mode": {
    "name": "ipython",
    "version": 3
   },
   "file_extension": ".py",
   "mimetype": "text/x-python",
   "name": "python",
   "nbconvert_exporter": "python",
   "pygments_lexer": "ipython3",
   "version": "3.6.2"
  }
 },
 "nbformat": 4,
 "nbformat_minor": 2
}
