{
 "cells": [
  {
   "cell_type": "markdown",
   "metadata": {},
   "source": [
    "# Projet 6 : Catégorisez automatiquement des questions\n",
    "# <u>B. Topic Modeling</u> <br/>"
   ]
  },
  {
   "cell_type": "markdown",
   "metadata": {},
   "source": [
    "# Le contexte\n",
    "\n",
    "Afin d'aider les utilisateurs de Stack Overflow dans leur soumission de question, nous devons mettre en place un système de suggestion de tags. Pour celà nous allons nous baser sur les techniques de machine learning capable en fonction du texte saisi par l'utilisateur de déterminer des tags pertinents.\n",
    "\n",
    "Dans ce notebook nous allons essayer des approches non supervisées."
   ]
  },
  {
   "cell_type": "code",
   "execution_count": 1,
   "metadata": {
    "collapsed": true
   },
   "outputs": [],
   "source": [
    "import numpy as np\n",
    "import pandas as pd\n",
    "import matplotlib.pyplot as plt\n",
    "\n",
    "from collections import Counter\n",
    "from time import time\n",
    "\n",
    "from bs4 import BeautifulSoup\n",
    "import unicodedata\n",
    "import re\n",
    "import string\n",
    "from nltk.corpus import stopwords\n",
    "from nltk.stem.porter import PorterStemmer\n",
    "from nltk.tokenize.toktok import ToktokTokenizer\n",
    "from contractions import CONTRACTION_MAP\n",
    "\n",
    "\n",
    "from sklearn import model_selection\n",
    "from sklearn.pipeline import Pipeline\n",
    "from sklearn.model_selection import GridSearchCV\n",
    "from sklearn.feature_extraction.text import TfidfVectorizer, CountVectorizer\n",
    "from sklearn.decomposition import NMF, LatentDirichletAllocation\n",
    "\n",
    "%matplotlib inline"
   ]
  },
  {
   "cell_type": "markdown",
   "metadata": {},
   "source": [
    "# 1. Chargement des données pré-traitées"
   ]
  },
  {
   "cell_type": "markdown",
   "metadata": {},
   "source": [
    "Nous allons charger les données qui ont été préalablement nettoyées et traitées."
   ]
  },
  {
   "cell_type": "code",
   "execution_count": 2,
   "metadata": {
    "collapsed": true
   },
   "outputs": [],
   "source": [
    "df = pd.read_csv('cleaned_data.csv')\n",
    "#replace NaN by empty string\n",
    "df = df.replace(np.nan, '', regex=True)"
   ]
  },
  {
   "cell_type": "code",
   "execution_count": 3,
   "metadata": {},
   "outputs": [
    {
     "data": {
      "text/plain": [
       "(64432, 7)"
      ]
     },
     "execution_count": 3,
     "metadata": {},
     "output_type": "execute_result"
    }
   ],
   "source": [
    "df.shape"
   ]
  },
  {
   "cell_type": "code",
   "execution_count": 4,
   "metadata": {},
   "outputs": [
    {
     "data": {
      "text/html": [
       "<div>\n",
       "<style>\n",
       "    .dataframe thead tr:only-child th {\n",
       "        text-align: right;\n",
       "    }\n",
       "\n",
       "    .dataframe thead th {\n",
       "        text-align: left;\n",
       "    }\n",
       "\n",
       "    .dataframe tbody tr th {\n",
       "        vertical-align: top;\n",
       "    }\n",
       "</style>\n",
       "<table border=\"1\" class=\"dataframe\">\n",
       "  <thead>\n",
       "    <tr style=\"text-align: right;\">\n",
       "      <th></th>\n",
       "      <th>TITLE</th>\n",
       "      <th>BODY</th>\n",
       "      <th>SCORE</th>\n",
       "      <th>TAGS</th>\n",
       "      <th>TITLE_P</th>\n",
       "      <th>BODY_P</th>\n",
       "      <th>TAGS_P</th>\n",
       "    </tr>\n",
       "  </thead>\n",
       "  <tbody>\n",
       "    <tr>\n",
       "      <th>0</th>\n",
       "      <td>Java generics variable &lt;T&gt; value</td>\n",
       "      <td>&lt;p&gt;At the moment I am using the following code...</td>\n",
       "      <td>6</td>\n",
       "      <td>&lt;java&gt;&lt;generics&gt;</td>\n",
       "      <td>java gener variabl valu</td>\n",
       "      <td>moment use follow code filter jpa reduc block ...</td>\n",
       "      <td>['java', 'generics']</td>\n",
       "    </tr>\n",
       "    <tr>\n",
       "      <th>1</th>\n",
       "      <td>How a value typed variable is copied when it i...</td>\n",
       "      <td>&lt;blockquote&gt;\\n  &lt;p&gt;Swift's string type is a va...</td>\n",
       "      <td>6</td>\n",
       "      <td>&lt;swift&gt;&lt;function&gt;&lt;value-type&gt;</td>\n",
       "      <td>valu type variabl copi pass function hold copi</td>\n",
       "      <td>swift string type valu type creat new string v...</td>\n",
       "      <td>['swift', 'function', 'value-type']</td>\n",
       "    </tr>\n",
       "    <tr>\n",
       "      <th>2</th>\n",
       "      <td>Error while waiting for device: The emulator p...</td>\n",
       "      <td>&lt;p&gt;I am a freshman for the development of the ...</td>\n",
       "      <td>6</td>\n",
       "      <td>&lt;android&gt;&lt;android-studio&gt;&lt;android-emulator&gt;&lt;avd&gt;</td>\n",
       "      <td>error wait devic emul process avd kill</td>\n",
       "      <td>freshman develop andriod suffer odd question r...</td>\n",
       "      <td>['android', 'android-studio', 'android-emulato...</td>\n",
       "    </tr>\n",
       "    <tr>\n",
       "      <th>3</th>\n",
       "      <td>gulp-inject not working with gulp-watch</td>\n",
       "      <td>&lt;p&gt;I am using gulp-inject to auto add SASS imp...</td>\n",
       "      <td>10</td>\n",
       "      <td>&lt;javascript&gt;&lt;node.js&gt;&lt;npm&gt;&lt;gulp&gt;&lt;gulp-watch&gt;</td>\n",
       "      <td>gulp inject work gulp watch</td>\n",
       "      <td>use gulp inject auto add sass import newli cre...</td>\n",
       "      <td>['javascript', 'node.js', 'npm', 'gulp', 'gulp...</td>\n",
       "    </tr>\n",
       "    <tr>\n",
       "      <th>4</th>\n",
       "      <td>React - Call function on props change</td>\n",
       "      <td>&lt;p&gt;My TranslationDetail component is passed an...</td>\n",
       "      <td>12</td>\n",
       "      <td>&lt;reactjs&gt;&lt;react-router&gt;</td>\n",
       "      <td>react call function prop chang</td>\n",
       "      <td>translationdetail compon pass id upon open bas...</td>\n",
       "      <td>['reactjs', 'react-router']</td>\n",
       "    </tr>\n",
       "  </tbody>\n",
       "</table>\n",
       "</div>"
      ],
      "text/plain": [
       "                                               TITLE  \\\n",
       "0                   Java generics variable <T> value   \n",
       "1  How a value typed variable is copied when it i...   \n",
       "2  Error while waiting for device: The emulator p...   \n",
       "3            gulp-inject not working with gulp-watch   \n",
       "4              React - Call function on props change   \n",
       "\n",
       "                                                BODY  SCORE  \\\n",
       "0  <p>At the moment I am using the following code...      6   \n",
       "1  <blockquote>\\n  <p>Swift's string type is a va...      6   \n",
       "2  <p>I am a freshman for the development of the ...      6   \n",
       "3  <p>I am using gulp-inject to auto add SASS imp...     10   \n",
       "4  <p>My TranslationDetail component is passed an...     12   \n",
       "\n",
       "                                               TAGS  \\\n",
       "0                                  <java><generics>   \n",
       "1                     <swift><function><value-type>   \n",
       "2  <android><android-studio><android-emulator><avd>   \n",
       "3      <javascript><node.js><npm><gulp><gulp-watch>   \n",
       "4                           <reactjs><react-router>   \n",
       "\n",
       "                                          TITLE_P  \\\n",
       "0                         java gener variabl valu   \n",
       "1  valu type variabl copi pass function hold copi   \n",
       "2          error wait devic emul process avd kill   \n",
       "3                     gulp inject work gulp watch   \n",
       "4                  react call function prop chang   \n",
       "\n",
       "                                              BODY_P  \\\n",
       "0  moment use follow code filter jpa reduc block ...   \n",
       "1  swift string type valu type creat new string v...   \n",
       "2  freshman develop andriod suffer odd question r...   \n",
       "3  use gulp inject auto add sass import newli cre...   \n",
       "4  translationdetail compon pass id upon open bas...   \n",
       "\n",
       "                                              TAGS_P  \n",
       "0                               ['java', 'generics']  \n",
       "1                ['swift', 'function', 'value-type']  \n",
       "2  ['android', 'android-studio', 'android-emulato...  \n",
       "3  ['javascript', 'node.js', 'npm', 'gulp', 'gulp...  \n",
       "4                        ['reactjs', 'react-router']  "
      ]
     },
     "execution_count": 4,
     "metadata": {},
     "output_type": "execute_result"
    }
   ],
   "source": [
    "df.head()"
   ]
  },
  {
   "cell_type": "code",
   "execution_count": 5,
   "metadata": {},
   "outputs": [
    {
     "data": {
      "text/plain": [
       "TITLE      object\n",
       "BODY       object\n",
       "SCORE       int64\n",
       "TAGS       object\n",
       "TITLE_P    object\n",
       "BODY_P     object\n",
       "TAGS_P     object\n",
       "dtype: object"
      ]
     },
     "execution_count": 5,
     "metadata": {},
     "output_type": "execute_result"
    }
   ],
   "source": [
    "df.dtypes"
   ]
  },
  {
   "cell_type": "markdown",
   "metadata": {},
   "source": [
    "La colonne TAGS_P est interprétée comme un chaîne de caractères. On va la forcer à être vue comme une list, ce qui sera plus simple pour les traitements."
   ]
  },
  {
   "cell_type": "code",
   "execution_count": 6,
   "metadata": {
    "collapsed": true
   },
   "outputs": [],
   "source": [
    "from ast import literal_eval\n",
    "df['TAGS_P'] = df['TAGS_P'].apply(literal_eval)"
   ]
  },
  {
   "cell_type": "markdown",
   "metadata": {},
   "source": [
    "# 2. Préparation des données"
   ]
  },
  {
   "cell_type": "markdown",
   "metadata": {},
   "source": [
    "## 2.1 Echantillonage"
   ]
  },
  {
   "cell_type": "markdown",
   "metadata": {},
   "source": [
    "Nous avons plus de 64 000 posts. Nous allons nous concentrer sur un échantillon de 20 000 posts."
   ]
  },
  {
   "cell_type": "code",
   "execution_count": 7,
   "metadata": {
    "collapsed": true
   },
   "outputs": [],
   "source": [
    "df_sample = df.sample(20000)"
   ]
  },
  {
   "cell_type": "code",
   "execution_count": 8,
   "metadata": {},
   "outputs": [
    {
     "data": {
      "text/plain": [
       "(20000, 7)"
      ]
     },
     "execution_count": 8,
     "metadata": {},
     "output_type": "execute_result"
    }
   ],
   "source": [
    "df_sample.shape"
   ]
  },
  {
   "cell_type": "markdown",
   "metadata": {},
   "source": [
    "Séparons nos données pour garder 5000 posts pour la validation de nos modèles. <br/>\n",
    "Nous utiliserons les 15 000 autres lignes pour faire l'apprentissage."
   ]
  },
  {
   "cell_type": "code",
   "execution_count": 9,
   "metadata": {
    "collapsed": true
   },
   "outputs": [],
   "source": [
    "df_learn = df_sample.iloc[5000:, :].copy()\n",
    "df_validation = df_sample.iloc[:5000, :].copy()"
   ]
  },
  {
   "cell_type": "code",
   "execution_count": 10,
   "metadata": {},
   "outputs": [
    {
     "data": {
      "text/plain": [
       "(15000, 7)"
      ]
     },
     "metadata": {},
     "output_type": "display_data"
    },
    {
     "data": {
      "text/plain": [
       "(5000, 7)"
      ]
     },
     "metadata": {},
     "output_type": "display_data"
    }
   ],
   "source": [
    "display(df_learn.shape)\n",
    "display(df_validation.shape)"
   ]
  },
  {
   "cell_type": "markdown",
   "metadata": {},
   "source": [
    "** Analysons le nombre de mots que contient ce corpus (entrainement).**"
   ]
  },
  {
   "cell_type": "code",
   "execution_count": 11,
   "metadata": {},
   "outputs": [
    {
     "data": {
      "text/plain": [
       "90261"
      ]
     },
     "execution_count": 11,
     "metadata": {},
     "output_type": "execute_result"
    }
   ],
   "source": [
    "my_counter = Counter()\n",
    "for sentence in df_learn['TITLE_P']:\n",
    "    my_counter.update(sentence.split())\n",
    "for sentence in df_learn['BODY_P']:\n",
    "    my_counter.update(sentence.split())\n",
    "len(my_counter)"
   ]
  },
  {
   "cell_type": "markdown",
   "metadata": {},
   "source": [
    "=> Notre corpus est composé de près de **90 000 mots.**"
   ]
  },
  {
   "cell_type": "markdown",
   "metadata": {},
   "source": [
    "## 2.2 Filtre sur les tags les plus fréquents"
   ]
  },
  {
   "cell_type": "markdown",
   "metadata": {},
   "source": [
    "Regardons déjà dans un premier temps le nombre d'occurences par tag dans notre dataset complet."
   ]
  },
  {
   "cell_type": "code",
   "execution_count": 12,
   "metadata": {
    "collapsed": true
   },
   "outputs": [],
   "source": [
    "counts = Counter()\n",
    "for tags_list in df['TAGS_P']:\n",
    "    counts.update(tags_list)\n",
    "tags_df = pd.DataFrame.from_dict(counts, orient='index')\n",
    "tags_df.reset_index(drop = False, inplace = True)\n",
    "tags_df= tags_df.rename(columns={'index':'tag', 0:'count'})"
   ]
  },
  {
   "cell_type": "markdown",
   "metadata": {},
   "source": [
    "La structures **tags_df** contient pour chacun des tags son occurence. <br/>\n",
    "Gardons que les tags qui sont présents dans au moins 10 documents."
   ]
  },
  {
   "cell_type": "code",
   "execution_count": 13,
   "metadata": {},
   "outputs": [
    {
     "data": {
      "text/plain": [
       "2114"
      ]
     },
     "execution_count": 13,
     "metadata": {},
     "output_type": "execute_result"
    }
   ],
   "source": [
    "len(tags_df[tags_df['count'] > 10])"
   ]
  },
  {
   "cell_type": "markdown",
   "metadata": {},
   "source": [
    "Nous nous retrouvons donc avec un peu plus de 2100 tags (14000 tags dans le dataset original)."
   ]
  },
  {
   "cell_type": "markdown",
   "metadata": {},
   "source": [
    "- Filtrons maintenant notre sample en ne gardant que les posts contenant les tags les plus fréquents."
   ]
  },
  {
   "cell_type": "code",
   "execution_count": 14,
   "metadata": {
    "collapsed": true
   },
   "outputs": [],
   "source": [
    "frequent_tags = tags_df[tags_df['count'] > 10]['tag'].tolist()"
   ]
  },
  {
   "cell_type": "markdown",
   "metadata": {},
   "source": [
    "**frequent_tags** est la structure contenant les tags les plus présents."
   ]
  },
  {
   "cell_type": "code",
   "execution_count": 15,
   "metadata": {
    "collapsed": true
   },
   "outputs": [],
   "source": [
    "df_learn['TAGS_P'] = df_learn['TAGS_P'].apply(lambda x: [w for w in x if w in frequent_tags] )\n",
    "# On supprime les lignes qui n'ont plus de tags associés (car aucun n'est présent dans la liste frequent_tags)\n",
    "df_learn = df_learn[df_learn.astype(str)['TAGS_P'] != '[]']"
   ]
  },
  {
   "cell_type": "code",
   "execution_count": 16,
   "metadata": {},
   "outputs": [
    {
     "data": {
      "text/plain": [
       "(14845, 7)"
      ]
     },
     "execution_count": 16,
     "metadata": {},
     "output_type": "execute_result"
    }
   ],
   "source": [
    "df_learn.shape"
   ]
  },
  {
   "cell_type": "markdown",
   "metadata": {},
   "source": [
    "Notre dataset contient maintenant uniquement les posts avec tags fréquents."
   ]
  },
  {
   "cell_type": "markdown",
   "metadata": {},
   "source": [
    "## 2.3 Découpage en jeu d'entrainement et test"
   ]
  },
  {
   "cell_type": "markdown",
   "metadata": {},
   "source": [
    "Découpons nos données en jeu d'entrainement et jeu de test pour nos algorithmes d'apprentissage.<br/>\n",
    "Nous gardons les colonnes titre et body."
   ]
  },
  {
   "cell_type": "code",
   "execution_count": 17,
   "metadata": {
    "collapsed": true
   },
   "outputs": [],
   "source": [
    "X = df_learn[['TITLE', 'BODY','TITLE_P', 'BODY_P']]\n",
    "Y = df_learn[['TAGS_P']]"
   ]
  },
  {
   "cell_type": "markdown",
   "metadata": {},
   "source": [
    "- 70% des données pour entrainement et 30% pour les tests."
   ]
  },
  {
   "cell_type": "code",
   "execution_count": 18,
   "metadata": {
    "collapsed": true
   },
   "outputs": [],
   "source": [
    "x_train, x_test, y_train, y_test = model_selection.train_test_split(X,Y,test_size = 0.3,random_state = 0, shuffle = True)"
   ]
  },
  {
   "cell_type": "code",
   "execution_count": 19,
   "metadata": {},
   "outputs": [
    {
     "name": "stdout",
     "output_type": "stream",
     "text": [
      "train (10391, 4)\n",
      "test  (4454, 4)\n"
     ]
    }
   ],
   "source": [
    "print(\"train\", x_train.shape)\n",
    "print(\"test \",x_test.shape)"
   ]
  },
  {
   "cell_type": "markdown",
   "metadata": {},
   "source": [
    "# 3. Préparation pour le topic modeling"
   ]
  },
  {
   "cell_type": "markdown",
   "metadata": {},
   "source": [
    "## 3.1 Matrice Topics / Words"
   ]
  },
  {
   "cell_type": "markdown",
   "metadata": {},
   "source": [
    "Ecrivons une méthode réutilisable qui affiche pour un modèle de topic modeling donné, la matrice Topics/Words"
   ]
  },
  {
   "cell_type": "code",
   "execution_count": 21,
   "metadata": {
    "collapsed": true
   },
   "outputs": [],
   "source": [
    "def getTopicsWordsMatrix(model, features_name) :\n",
    "    # liste des topics\n",
    "    topicnames = [\"Topic\" + str(i) for i in range(model.n_components)]\n",
    "\n",
    "    # Topic-Keyword Matrice\n",
    "    df_topic_keywords = pd.DataFrame(model.components_)\n",
    "    df_topic_keywords.columns = features_name\n",
    "    df_topic_keywords.index = topicnames\n",
    "\n",
    "    return df_topic_keywords"
   ]
  },
  {
   "cell_type": "code",
   "execution_count": 22,
   "metadata": {
    "collapsed": true
   },
   "outputs": [],
   "source": [
    "'''\n",
    "Méthode qui retourne pour chacun des topics le top \"n_words\" mots\n",
    "@param feature_names : les features de nos données\n",
    "@param tp_model : le model utilisé pour le topic modeling\n",
    "@param n_words : top nombre de mots\n",
    "'''\n",
    "def showTopicsTopWords(tp_model, feature_names, n_words=10):\n",
    "    keywords = np.array(feature_names)\n",
    "    topic_keywords = []\n",
    "    for topic_weights in tp_model.components_:\n",
    "        top_keyword_locs = (-topic_weights).argsort()[:n_words]\n",
    "        topic_keywords.append(keywords.take(top_keyword_locs))\n",
    "    df_topic_keywords = pd.DataFrame(topic_keywords)\n",
    "    df_topic_keywords.columns = ['Word '+str(i) for i in range(df_topic_keywords.shape[1])]\n",
    "    df_topic_keywords.index = ['Topic '+str(i) for i in range(df_topic_keywords.shape[0])]\n",
    "    display(df_topic_keywords)"
   ]
  },
  {
   "cell_type": "markdown",
   "metadata": {},
   "source": [
    "## 3.2 Matrice Docs / Topics"
   ]
  },
  {
   "cell_type": "markdown",
   "metadata": {},
   "source": [
    "Méthode qui retourne la matrice documents / topics suite à l'apprentissage de type topic modeling."
   ]
  },
  {
   "cell_type": "code",
   "execution_count": 23,
   "metadata": {
    "collapsed": true
   },
   "outputs": [],
   "source": [
    "'''\n",
    "    Retourne la matrice qui indique la pertinence des topics pour chacun des documents de notre jeu de données.\n",
    "'''\n",
    "def getDocsTopicsMatrix(df_docs, model, model_output):\n",
    "    # id des posts\n",
    "    docnames = [\"Doc\" + str(i) for i in range(len(df_docs))]\n",
    "    # id des topics\n",
    "    topicnames = [\"Topic\" + str(i) for i in range(model.n_components)]\n",
    "    # On crée un dataframe\n",
    "    df_document_topic = pd.DataFrame(np.round(model_output, 4), columns=topicnames, index=docnames)\n",
    "    # On rajoute une colonne contenant le numéro du topic prédominant\n",
    "    dominant_topic = np.argmax(df_document_topic.values, axis=1)\n",
    "    df_document_topic['Dominant_Topic'] = dominant_topic\n",
    "    return df_document_topic"
   ]
  },
  {
   "cell_type": "code",
   "execution_count": 24,
   "metadata": {
    "collapsed": true
   },
   "outputs": [],
   "source": [
    "'''\n",
    "Affiche pour chacun des topics, le top n documents qui sont les plus pertinent pour ce topic.\n",
    "On affiche pour chacun des documents le titre mais également les tags associés.\n",
    "@topics_words : word_to_topics result\n",
    "@model_output : topics_to_docs model output\n",
    "'''\n",
    "def showTopicsTopDocs(topic_word_dist, model_output, feature_names, documents, targets, no_top_words, no_top_documents):\n",
    "    for topic_idx, topic in enumerate(topic_word_dist):\n",
    "        print (\"Topic %d : \" % (topic_idx) + \" \".join([feature_names[i]\n",
    "                        for i in topic.argsort()[:-no_top_words - 1:-1]]))\n",
    "        top_doc_indices = np.argsort( model_output[:,topic_idx] )[::-1][0:no_top_documents]\n",
    "        for doc_index in top_doc_indices:\n",
    "            print (\"Doc\",doc_index,\" Title:\", documents.iloc[doc_index].TITLE[0:60],\n",
    "                   \"- Tags:\", targets.iloc[doc_index].TAGS_P)\n",
    "        print(\"\")"
   ]
  },
  {
   "cell_type": "markdown",
   "metadata": {},
   "source": [
    "## 3.3 Prédiction des tags"
   ]
  },
  {
   "cell_type": "markdown",
   "metadata": {},
   "source": [
    "Pour nous aider à faire nos prédictions, nous allons construire une matrice tags par topic.<br/>\n",
    "Pour la construire, nous allons :\n",
    "- Pour chaque tag_i et chaque topic_j\n",
    "    - Sommer la probabilité d’appartenance au topic_j des documents contenant le tag_i. \n",
    "    - Nous allons normaliser cette somme en faisant une moyenne sur le nombre de documents qui contiennent le tag_i"
   ]
  },
  {
   "cell_type": "markdown",
   "metadata": {},
   "source": [
    "|         | tag_1 | tag_2 | ... |tag_m | \n",
    "|---------|-------|-------|-----|------|\n",
    "| **topic_1**  |  xxx  | xxx   | ... | xxx  | \n",
    "|**topic_2** |  xxx  | xxx   | ... | xxx  | \n",
    "|...      |  xxx  | xxx   | ... | xxx  |\n",
    "|**topic_n**      |  xxx  | xxx   | ... | xxx  |\n",
    "\n"
   ]
  },
  {
   "cell_type": "markdown",
   "metadata": {},
   "source": [
    "- Commençons par écrire une méthode qui donne la liste des indexes des documents qui contiennent un tag donné."
   ]
  },
  {
   "cell_type": "code",
   "execution_count": 25,
   "metadata": {
    "collapsed": true
   },
   "outputs": [],
   "source": [
    "'''\n",
    "Retourne un dictionnaire contenant pour chacun des tags (parmi les plus fréquents)\n",
    "les positions des documents contenant ce tag.\n",
    "Attention il s'agit de la position et non de l'index.\n",
    "'''\n",
    "def getDocumentsByTags(df_docs_tags) :\n",
    "    documents_by_tags = {}\n",
    "    for tag in frequent_tags :\n",
    "        doc_indexes = df_docs_tags[df_docs_tags['TAGS_P'].apply(lambda x: True  if tag in x else False)].index.values\n",
    "        docs_pos = [(lambda x: df_docs_tags.index.get_loc(x))(x) for x in doc_indexes]\n",
    "        documents_by_tags[tag] = docs_pos\n",
    "    return documents_by_tags"
   ]
  },
  {
   "cell_type": "markdown",
   "metadata": {},
   "source": [
    "- Construisons maintenant notre matrice Tags / Topics"
   ]
  },
  {
   "cell_type": "code",
   "execution_count": 93,
   "metadata": {
    "collapsed": true
   },
   "outputs": [],
   "source": [
    "'''\n",
    "@topics_modeling_algo : le modèle.\n",
    "@ df_docs_tags : les données contenant les tags associés à chacun des documents.\n",
    "'''\n",
    "def buildTagByTopicsMatrix(tm_algo, tm_output, df_docs_tags) :\n",
    "    documents_by_tags = getDocumentsByTags(df_docs_tags)\n",
    "    tag_by_topics_ = np.zeros([tm_algo.n_components,len(frequent_tags)])\n",
    "    for topic_idx in range(tm_algo.n_components):\n",
    "        for tag_idx, tag in enumerate(frequent_tags):\n",
    "            docs_pos = documents_by_tags[tag]\n",
    "            topic_score = 0\n",
    "            for d in docs_pos :\n",
    "                topic_score += tm_output[d][topic_idx]\n",
    "                if topic_score > 0 :\n",
    "                    #tag_by_topics_[topic_idx][tag_idx]=topic_score/len(docs_pos)\n",
    "                    tag_by_topics_[topic_idx][tag_idx]=topic_score\n",
    "    return tag_by_topics_"
   ]
  },
  {
   "cell_type": "markdown",
   "metadata": {},
   "source": [
    "### Tags prédiction"
   ]
  },
  {
   "cell_type": "markdown",
   "metadata": {},
   "source": [
    "- Méthode qui va chercher dans la matrice tags/topics, les tags les plus pertinent pour un post.<br/>\n",
    "Elle va d'abord déterminer les probabilité de chaque topic pour le post puis rechercher les tags les plus pertinents."
   ]
  },
  {
   "cell_type": "code",
   "execution_count": 27,
   "metadata": {
    "collapsed": true
   },
   "outputs": [],
   "source": [
    "'''\n",
    "Retourne la liste de n tags les plus pertinents pour le post donné.\n",
    "Se base pour celà de la matrice tags par topics.\n",
    "'''\n",
    "def getTagsPrediction(post_text, num_tags, tag_topics_matrix, vectorizer, tm_model ) :\n",
    "    # On  vectorize le texte \n",
    "    text_vectorized = vectorizer.transform([post_text])\n",
    "    topic_probability_scores = tm_model.transform(text_vectorized)\n",
    "    \n",
    "    # On multiple les topics prédits par le modèle par notre matrice tags/topics. \n",
    "    #On aura ainsi un score pour chacun des tags\n",
    "    tags_result = topic_probability_scores.dot(tag_topics_matrix)\n",
    "    # Récupérons maintenant les tags qui ont le meilleur score.\n",
    "    best_tags_indices = np.argsort(-tags_result[0])[:num_tags]\n",
    "    best_tags = [frequent_tags[index] for index in best_tags_indices]\n",
    "    return best_tags"
   ]
  },
  {
   "cell_type": "markdown",
   "metadata": {},
   "source": [
    "- Prédiction pour une série de posts."
   ]
  },
  {
   "cell_type": "code",
   "execution_count": 28,
   "metadata": {
    "collapsed": true
   },
   "outputs": [],
   "source": [
    "'''\n",
    "Retourne un dataframe contenant les prédictions de tags pour les posts contenant dans posts_df\n",
    "@ post_df : le dataframe contenant les posts (title_p / body_p)\n",
    "@ num_tag : le nombre de tags à prédire\n",
    "@ t_by_topics : la matrice tags/topics utilisée pour la prédiction\n",
    "@ vectorizer : convertisseur à utiliser pour transformer texte en matrice de tokens et d'occurences.\n",
    "@ tm_model : le modèle de topic modeling à utiliser\n",
    "'''\n",
    "def getPostsTagsPrediction(posts_df, num_tag, tags_topics_matrix, vectorizer, tm_model, tm_output):\n",
    "    y_predicted=posts_df.apply(lambda row: getTagsPrediction(row['TITLE_P'] + ' ' + row['BODY_P'], \n",
    "                                                             num_tag, tags_topics_matrix, vectorizer, tm_model),axis=1)\n",
    "    y_predicted_df = y_predicted.to_frame()\n",
    "    y_predicted_df.columns = ['TAGS_P']\n",
    "    return y_predicted_df"
   ]
  },
  {
   "cell_type": "markdown",
   "metadata": {},
   "source": [
    "### Prédiction accuracy"
   ]
  },
  {
   "cell_type": "code",
   "execution_count": 29,
   "metadata": {
    "collapsed": true
   },
   "outputs": [],
   "source": [
    "'''\n",
    "Méthode permettant d'évaluer la qualité des prédictions en comparant les tags prédits aux tags réels.\n",
    "calcule pour chaque post, le rapport entre le nombre de tags correctement prédits sur le nombre de tags réels.\n",
    "retourne la moyenne de ces rapports.\n",
    "'''\n",
    "def predictionAccuracy(y_predicted, y_true) :\n",
    "    tags_found=[]\n",
    "    for index, row in y_predicted.iterrows():\n",
    "        number_tags_found = 0\n",
    "        for t in row['TAGS_P'] :\n",
    "            if t in y_true.loc[index]['TAGS_P'] :\n",
    "                number_tags_found +=1\n",
    "        tags_found.append(number_tags_found/len(y_true.loc[index]['TAGS_P']))\n",
    "    print(\"Prediction accuracy: {:.2f} % \".format(100*np.mean(tags_found)))"
   ]
  },
  {
   "cell_type": "markdown",
   "metadata": {},
   "source": [
    "# 4. Topic Modeling LDA"
   ]
  },
  {
   "cell_type": "markdown",
   "metadata": {},
   "source": [
    "Essayons LDA (Allocation de Dirichlet Latente) pour modéliser les sujets."
   ]
  },
  {
   "cell_type": "markdown",
   "metadata": {},
   "source": [
    "Pour pouvoir appliquer nos algorithmes de machine learning à nos données textuelles, il faut en extraire les features et représenter notre texte dans un modèle \"mathématique\".\n",
    "Pour celà nous allons utiliser la modélisation **Bag of Words** qui va donner une représentation sous forme de matrice de nos données."
   ]
  },
  {
   "cell_type": "markdown",
   "metadata": {},
   "source": [
    "## 4.1 Tuning du modèle avec recherche sur grille"
   ]
  },
  {
   "cell_type": "markdown",
   "metadata": {},
   "source": [
    "- min_df : le mot doit être présent au moins dans min_df documents\n",
    "- max_df : si le mot est présent dans plus de max_df des documents, il ne nous aidera pas à trouver différencier les documents. On ne le tient donc pas en compte\n",
    "- num_topics : nombre de topics du modèle."
   ]
  },
  {
   "cell_type": "markdown",
   "metadata": {},
   "source": [
    "### Apprentissage"
   ]
  },
  {
   "cell_type": "code",
   "execution_count": 30,
   "metadata": {},
   "outputs": [
    {
     "name": "stdout",
     "output_type": "stream",
     "text": [
      "Best params : {'model__learning_method': 'batch', 'model__max_iter': 5, 'model__n_components': 20, 'vect__max_df': 0.95, 'vect__min_df': 5}\n",
      "done in 172.797s.\n"
     ]
    }
   ],
   "source": [
    "t0 = time()\n",
    "Kfold = 5\n",
    "# CHANGE\n",
    "search_params = { \n",
    "              'vect__min_df': [5, 10, 15],\n",
    "              'vect__max_df': [0.75, 0.85, 0.95],\n",
    "              'model__n_components' : [10, 20, 30],\n",
    "              'model__learning_method':['batch'], \n",
    "              'model__max_iter':[5]\n",
    "             }\n",
    "# Init the Model\n",
    "lda = LatentDirichletAllocation()\n",
    "pipeline = Pipeline([('vect', CountVectorizer()), ('model', lda)])\n",
    "\n",
    "# Init Grid Search Class\n",
    "lda_model_grid = GridSearchCV(pipeline, param_grid=search_params)\n",
    "\n",
    "# On concatène le titre et le body\n",
    "x_train_text = x_train['TITLE_P'] + ' ' + x_train['BODY_P']\n",
    "# Do the Grid Search\n",
    "lda_model_grid.fit(x_train_text)\n",
    "\n",
    "print(\"Best params :\", lda_model_grid.best_params_)\n",
    "print(\"done in %0.3fs.\" % (time() - t0))"
   ]
  },
  {
   "cell_type": "markdown",
   "metadata": {},
   "source": [
    "- Le LDA avec meilleur performance"
   ]
  },
  {
   "cell_type": "code",
   "execution_count": 31,
   "metadata": {
    "collapsed": true
   },
   "outputs": [],
   "source": [
    "best_lda_model = lda_model_grid.best_estimator_.steps[1][1]"
   ]
  },
  {
   "cell_type": "markdown",
   "metadata": {},
   "source": [
    "- On récupère le vectorizer"
   ]
  },
  {
   "cell_type": "code",
   "execution_count": 32,
   "metadata": {
    "collapsed": true
   },
   "outputs": [],
   "source": [
    "tf_vectorizer = lda_model_grid.best_estimator_.steps[0][1]"
   ]
  },
  {
   "cell_type": "markdown",
   "metadata": {},
   "source": [
    "On applique l'algorithme sur nos données"
   ]
  },
  {
   "cell_type": "code",
   "execution_count": 33,
   "metadata": {
    "collapsed": true
   },
   "outputs": [],
   "source": [
    "data_vectorized = tf_vectorizer.transform(x_train_text)\n",
    "lda_output = best_lda_model.transform(data_vectorized)"
   ]
  },
  {
   "cell_type": "code",
   "execution_count": 34,
   "metadata": {
    "collapsed": true
   },
   "outputs": [],
   "source": [
    "tags_by_topics_lda = buildTagByTopicsMatrix(best_lda_model, lda_output, y_train)"
   ]
  },
  {
   "cell_type": "markdown",
   "metadata": {},
   "source": [
    "### Evaluation"
   ]
  },
  {
   "cell_type": "code",
   "execution_count": 78,
   "metadata": {},
   "outputs": [
    {
     "name": "stdout",
     "output_type": "stream",
     "text": [
      "Log Likelihood:  -10119260.0448\n",
      "Perplexity :  1154.02049568\n"
     ]
    }
   ],
   "source": [
    "# Log Likelyhood: Higher the better\n",
    "print(\"Log Likelihood: \", best_lda_model.score(data_vectorized))\n",
    "# A lower perplexity score indicates better generalization performance.\n",
    "print(\"Perplexity : \",best_lda_model.perplexity(data_vectorized))"
   ]
  },
  {
   "cell_type": "code",
   "execution_count": 48,
   "metadata": {},
   "outputs": [
    {
     "name": "stdout",
     "output_type": "stream",
     "text": [
      "Prediction accuracy: 28.64 % \n"
     ]
    }
   ],
   "source": [
    "y_predicted_lda = getPostsTagsPrediction(x_test, 5, tags_by_topics_lda, tf_vectorizer, best_lda_model, lda_output)\n",
    "predictionAccuracy(y_predicted_lda,y_test)"
   ]
  },
  {
   "cell_type": "markdown",
   "metadata": {},
   "source": [
    "### Evaluation de la prédiction de notre sample de validation"
   ]
  },
  {
   "cell_type": "code",
   "execution_count": 49,
   "metadata": {
    "collapsed": true
   },
   "outputs": [],
   "source": [
    "x_validation = df_validation[['TITLE_P','BODY_P']]\n",
    "y_validation = df_validation['TAGS_P']\n",
    "y_validation = y_validation.to_frame()"
   ]
  },
  {
   "cell_type": "code",
   "execution_count": 50,
   "metadata": {},
   "outputs": [
    {
     "name": "stdout",
     "output_type": "stream",
     "text": [
      "Prediction accuracy: 25.18 % \n"
     ]
    }
   ],
   "source": [
    "y_predicted = getPostsTagsPrediction(x_validation, 5,tags_by_topics_lda, tf_vectorizer, best_lda_model, lda_output )\n",
    "predictionAccuracy(y_predicted, y_validation)"
   ]
  },
  {
   "cell_type": "markdown",
   "metadata": {},
   "source": [
    "## 4.2 Tuning manuel"
   ]
  },
  {
   "cell_type": "markdown",
   "metadata": {},
   "source": [
    "### Apprentissage"
   ]
  },
  {
   "cell_type": "code",
   "execution_count": 82,
   "metadata": {
    "collapsed": true
   },
   "outputs": [],
   "source": [
    "def fit_transform_LDA(train_data, target_data, min_df, max_df, num_topics) :\n",
    "    print(\"[min_df:{:d} max_df:{:.2f} num_topics:{}]\"\n",
    "          .format(min_df, max_df, num_topics), end=\" \", flush=True)\n",
    "    tf_vectorizer = CountVectorizer(min_df=min_df, max_df=max_df)\n",
    "    data_vectorized = tf_vectorizer.fit_transform(train_data['TITLE_P'] + ' ' + train_data['BODY_P'])\n",
    "    \n",
    "    lda_model = LatentDirichletAllocation(n_components=num_topics, max_iter=5, learning_method='online')\n",
    "    lda_output = lda_model.fit_transform(data_vectorized)\n",
    "    print(\"Log Likelihood: {:.2f} - Perplexity: {:.2f}\".format(lda_model.score(data_vectorized), \n",
    "                                                               lda_model.perplexity(data_vectorized)), \n",
    "          end=\" \", flush=True)\n",
    "    tags_by_topics_matrix = buildTagByTopicsMatrix(lda_model, lda_output, target_data)\n",
    "    return lda_output, lda_model, tf_vectorizer, tags_by_topics_matrix"
   ]
  },
  {
   "cell_type": "markdown",
   "metadata": {},
   "source": [
    "On fait varier min_df, max_df et num_topics."
   ]
  },
  {
   "cell_type": "markdown",
   "metadata": {},
   "source": [
    "### Evaluation"
   ]
  },
  {
   "cell_type": "code",
   "execution_count": 80,
   "metadata": {
    "collapsed": true
   },
   "outputs": [],
   "source": [
    "min_df_values = [5, 10, 20]\n",
    "max_df_values = [0.75, 0.85, 0.95]\n",
    "num_topics = [10, 20, 30]"
   ]
  },
  {
   "cell_type": "code",
   "execution_count": 84,
   "metadata": {},
   "outputs": [
    {
     "name": "stdout",
     "output_type": "stream",
     "text": [
      "[min_df:5 max_df:0.75 num_topics:10] Log Likelihood: -10260395.55 - Perplexity: 1273.28 Prediction accuracy: 21.24 % \n",
      "[min_df:5 max_df:0.85 num_topics:10] Log Likelihood: -10258437.21 - Perplexity: 1271.54 Prediction accuracy: 22.61 % \n",
      "[min_df:5 max_df:0.95 num_topics:10] Log Likelihood: -10230798.19 - Perplexity: 1247.29 Prediction accuracy: 23.36 % \n",
      "[min_df:10 max_df:0.75 num_topics:10] Log Likelihood: -9617426.10 - Perplexity: 1056.81 Prediction accuracy: 22.37 % \n",
      "[min_df:10 max_df:0.85 num_topics:10] Log Likelihood: -9588039.57 - Perplexity: 1034.56 Prediction accuracy: 21.26 % \n",
      "[min_df:10 max_df:0.95 num_topics:10] Log Likelihood: -9597821.80 - Perplexity: 1041.91 Prediction accuracy: 22.08 % \n",
      "[min_df:20 max_df:0.75 num_topics:10] Log Likelihood: -8909896.94 - Perplexity: 863.34 "
     ]
    },
    {
     "ename": "KeyboardInterrupt",
     "evalue": "",
     "output_type": "error",
     "traceback": [
      "\u001b[0;31m---------------------------------------------------------------------------\u001b[0m",
      "\u001b[0;31mKeyboardInterrupt\u001b[0m                         Traceback (most recent call last)",
      "\u001b[0;32m<ipython-input-84-bd81ae72ef74>\u001b[0m in \u001b[0;36m<module>\u001b[0;34m()\u001b[0m\n\u001b[1;32m      4\u001b[0m             \u001b[0mlda_output_m\u001b[0m\u001b[0;34m,\u001b[0m \u001b[0mlda_model_m\u001b[0m\u001b[0;34m,\u001b[0m \u001b[0mtf_vectorizer_m\u001b[0m\u001b[0;34m,\u001b[0m \u001b[0mtags_by_topics_m\u001b[0m \u001b[0;34m=\u001b[0m \u001b[0mfit_transform_LDA\u001b[0m\u001b[0;34m(\u001b[0m\u001b[0mx_train\u001b[0m\u001b[0;34m,\u001b[0m \u001b[0my_train\u001b[0m\u001b[0;34m,\u001b[0m \u001b[0mmin_df\u001b[0m\u001b[0;34m,\u001b[0m \u001b[0mmax_df\u001b[0m\u001b[0;34m,\u001b[0m \u001b[0mn_topics\u001b[0m\u001b[0;34m)\u001b[0m\u001b[0;34m\u001b[0m\u001b[0m\n\u001b[1;32m      5\u001b[0m             \u001b[0my_predicted_lda\u001b[0m \u001b[0;34m=\u001b[0m \u001b[0mgetPostsTagsPrediction\u001b[0m\u001b[0;34m(\u001b[0m\u001b[0mx_test\u001b[0m\u001b[0;34m,\u001b[0m \u001b[0;36m5\u001b[0m\u001b[0;34m,\u001b[0m \u001b[0mtags_by_topics_m\u001b[0m\u001b[0;34m,\u001b[0m \u001b[0mtf_vectorizer_m\u001b[0m\u001b[0;34m,\u001b[0m \u001b[0mlda_model_m\u001b[0m\u001b[0;34m,\u001b[0m \u001b[0mlda_output_m\u001b[0m\u001b[0;34m)\u001b[0m\u001b[0;34m\u001b[0m\u001b[0m\n\u001b[0;32m----> 6\u001b[0;31m             \u001b[0mpredictionAccuracy\u001b[0m\u001b[0;34m(\u001b[0m\u001b[0my_predicted_lda\u001b[0m\u001b[0;34m,\u001b[0m\u001b[0my_test\u001b[0m\u001b[0;34m)\u001b[0m\u001b[0;34m\u001b[0m\u001b[0m\n\u001b[0m",
      "\u001b[0;32m<ipython-input-29-d81ebf33f431>\u001b[0m in \u001b[0;36mpredictionAccuracy\u001b[0;34m(y_predicted, y_true)\u001b[0m\n\u001b[1;32m     11\u001b[0m             \u001b[0;32mif\u001b[0m \u001b[0mt\u001b[0m \u001b[0;32min\u001b[0m \u001b[0my_true\u001b[0m\u001b[0;34m.\u001b[0m\u001b[0mloc\u001b[0m\u001b[0;34m[\u001b[0m\u001b[0mindex\u001b[0m\u001b[0;34m]\u001b[0m\u001b[0;34m[\u001b[0m\u001b[0;34m'TAGS_P'\u001b[0m\u001b[0;34m]\u001b[0m \u001b[0;34m:\u001b[0m\u001b[0;34m\u001b[0m\u001b[0m\n\u001b[1;32m     12\u001b[0m                 \u001b[0mnumber_tags_found\u001b[0m \u001b[0;34m+=\u001b[0m\u001b[0;36m1\u001b[0m\u001b[0;34m\u001b[0m\u001b[0m\n\u001b[0;32m---> 13\u001b[0;31m         \u001b[0mtags_found\u001b[0m\u001b[0;34m.\u001b[0m\u001b[0mappend\u001b[0m\u001b[0;34m(\u001b[0m\u001b[0mnumber_tags_found\u001b[0m\u001b[0;34m/\u001b[0m\u001b[0mlen\u001b[0m\u001b[0;34m(\u001b[0m\u001b[0my_true\u001b[0m\u001b[0;34m.\u001b[0m\u001b[0mloc\u001b[0m\u001b[0;34m[\u001b[0m\u001b[0mindex\u001b[0m\u001b[0;34m]\u001b[0m\u001b[0;34m[\u001b[0m\u001b[0;34m'TAGS_P'\u001b[0m\u001b[0;34m]\u001b[0m\u001b[0;34m)\u001b[0m\u001b[0;34m)\u001b[0m\u001b[0;34m\u001b[0m\u001b[0m\n\u001b[0m\u001b[1;32m     14\u001b[0m     \u001b[0mprint\u001b[0m\u001b[0;34m(\u001b[0m\u001b[0;34m\"Prediction accuracy: {:.2f} % \"\u001b[0m\u001b[0;34m.\u001b[0m\u001b[0mformat\u001b[0m\u001b[0;34m(\u001b[0m\u001b[0;36m100\u001b[0m\u001b[0;34m*\u001b[0m\u001b[0mnp\u001b[0m\u001b[0;34m.\u001b[0m\u001b[0mmean\u001b[0m\u001b[0;34m(\u001b[0m\u001b[0mtags_found\u001b[0m\u001b[0;34m)\u001b[0m\u001b[0;34m)\u001b[0m\u001b[0;34m)\u001b[0m\u001b[0;34m\u001b[0m\u001b[0m\n",
      "\u001b[0;32m~/anaconda3/lib/python3.6/site-packages/pandas/core/series.py\u001b[0m in \u001b[0;36m__getitem__\u001b[0;34m(self, key)\u001b[0m\n\u001b[1;32m    599\u001b[0m         \u001b[0mkey\u001b[0m \u001b[0;34m=\u001b[0m \u001b[0mcom\u001b[0m\u001b[0;34m.\u001b[0m\u001b[0m_apply_if_callable\u001b[0m\u001b[0;34m(\u001b[0m\u001b[0mkey\u001b[0m\u001b[0;34m,\u001b[0m \u001b[0mself\u001b[0m\u001b[0;34m)\u001b[0m\u001b[0;34m\u001b[0m\u001b[0m\n\u001b[1;32m    600\u001b[0m         \u001b[0;32mtry\u001b[0m\u001b[0;34m:\u001b[0m\u001b[0;34m\u001b[0m\u001b[0m\n\u001b[0;32m--> 601\u001b[0;31m             \u001b[0mresult\u001b[0m \u001b[0;34m=\u001b[0m \u001b[0mself\u001b[0m\u001b[0;34m.\u001b[0m\u001b[0mindex\u001b[0m\u001b[0;34m.\u001b[0m\u001b[0mget_value\u001b[0m\u001b[0;34m(\u001b[0m\u001b[0mself\u001b[0m\u001b[0;34m,\u001b[0m \u001b[0mkey\u001b[0m\u001b[0;34m)\u001b[0m\u001b[0;34m\u001b[0m\u001b[0m\n\u001b[0m\u001b[1;32m    602\u001b[0m \u001b[0;34m\u001b[0m\u001b[0m\n\u001b[1;32m    603\u001b[0m             \u001b[0;32mif\u001b[0m \u001b[0;32mnot\u001b[0m \u001b[0mis_scalar\u001b[0m\u001b[0;34m(\u001b[0m\u001b[0mresult\u001b[0m\u001b[0;34m)\u001b[0m\u001b[0;34m:\u001b[0m\u001b[0;34m\u001b[0m\u001b[0m\n",
      "\u001b[0;32m~/anaconda3/lib/python3.6/site-packages/pandas/core/indexes/base.py\u001b[0m in \u001b[0;36mget_value\u001b[0;34m(self, series, key)\u001b[0m\n\u001b[1;32m   2469\u001b[0m                 \u001b[0;32mpass\u001b[0m\u001b[0;34m\u001b[0m\u001b[0m\n\u001b[1;32m   2470\u001b[0m \u001b[0;34m\u001b[0m\u001b[0m\n\u001b[0;32m-> 2471\u001b[0;31m         \u001b[0ms\u001b[0m \u001b[0;34m=\u001b[0m \u001b[0m_values_from_object\u001b[0m\u001b[0;34m(\u001b[0m\u001b[0mseries\u001b[0m\u001b[0;34m)\u001b[0m\u001b[0;34m\u001b[0m\u001b[0m\n\u001b[0m\u001b[1;32m   2472\u001b[0m         \u001b[0mk\u001b[0m \u001b[0;34m=\u001b[0m \u001b[0m_values_from_object\u001b[0m\u001b[0;34m(\u001b[0m\u001b[0mkey\u001b[0m\u001b[0;34m)\u001b[0m\u001b[0;34m\u001b[0m\u001b[0m\n\u001b[1;32m   2473\u001b[0m \u001b[0;34m\u001b[0m\u001b[0m\n",
      "\u001b[0;32mpandas/_libs/lib.pyx\u001b[0m in \u001b[0;36mpandas._libs.lib.values_from_object\u001b[0;34m()\u001b[0m\n",
      "\u001b[0;32m~/anaconda3/lib/python3.6/site-packages/pandas/core/series.py\u001b[0m in \u001b[0;36mget_values\u001b[0;34m(self)\u001b[0m\n\u001b[1;32m    387\u001b[0m         \u001b[0;32mreturn\u001b[0m \u001b[0mself\u001b[0m\u001b[0;34m.\u001b[0m\u001b[0m_data\u001b[0m\u001b[0;34m.\u001b[0m\u001b[0minternal_values\u001b[0m\u001b[0;34m(\u001b[0m\u001b[0;34m)\u001b[0m\u001b[0;34m\u001b[0m\u001b[0m\n\u001b[1;32m    388\u001b[0m \u001b[0;34m\u001b[0m\u001b[0m\n\u001b[0;32m--> 389\u001b[0;31m     \u001b[0;32mdef\u001b[0m \u001b[0mget_values\u001b[0m\u001b[0;34m(\u001b[0m\u001b[0mself\u001b[0m\u001b[0;34m)\u001b[0m\u001b[0;34m:\u001b[0m\u001b[0;34m\u001b[0m\u001b[0m\n\u001b[0m\u001b[1;32m    390\u001b[0m         \u001b[0;34m\"\"\" same as values (but handles sparseness conversions); is a view \"\"\"\u001b[0m\u001b[0;34m\u001b[0m\u001b[0m\n\u001b[1;32m    391\u001b[0m         \u001b[0;32mreturn\u001b[0m \u001b[0mself\u001b[0m\u001b[0;34m.\u001b[0m\u001b[0m_data\u001b[0m\u001b[0;34m.\u001b[0m\u001b[0mget_values\u001b[0m\u001b[0;34m(\u001b[0m\u001b[0;34m)\u001b[0m\u001b[0;34m\u001b[0m\u001b[0m\n",
      "\u001b[0;31mKeyboardInterrupt\u001b[0m: "
     ]
    }
   ],
   "source": [
    "for n_topics in num_topics :\n",
    "    for min_df in min_df_values :\n",
    "        for max_df in max_df_values :\n",
    "            lda_output_m, lda_model_m, tf_vectorizer_m, tags_by_topics_m = fit_transform_LDA(x_train, y_train, min_df, max_df, n_topics)\n",
    "            y_predicted_lda = getPostsTagsPrediction(x_test, 5, tags_by_topics_m, tf_vectorizer_m, lda_model_m, lda_output_m)\n",
    "            predictionAccuracy(y_predicted_lda,y_test)"
   ]
  },
  {
   "cell_type": "markdown",
   "metadata": {},
   "source": [
    "Manuellement nous obtenons le meilleur score avec 30 topics, un min_df à 20 et un max_df à 0.95.<br/>\n",
    "Mais l'accuracy reste plus faible que le GridSearchCV et nous selectionnerons donc le modèle tunné par le GridSearch."
   ]
  },
  {
   "cell_type": "markdown",
   "metadata": {},
   "source": [
    "### Evaluation de la prédiction de notre sample de validation"
   ]
  },
  {
   "cell_type": "code",
   "execution_count": 89,
   "metadata": {},
   "outputs": [
    {
     "name": "stdout",
     "output_type": "stream",
     "text": [
      "[min_df:5 max_df:0.95 num_topics:20] Log Likelihood: -10108997.49 - Perplexity: 1145.80 "
     ]
    }
   ],
   "source": [
    "lda_output_m, lda_model_m, tf_vectorizer_m, tags_by_topics_m = fit_transform_LDA(x_train, y_train, \n",
    "                                                                                 5, 0.95, 20)"
   ]
  },
  {
   "cell_type": "code",
   "execution_count": 90,
   "metadata": {},
   "outputs": [
    {
     "name": "stdout",
     "output_type": "stream",
     "text": [
      "Prediction accuracy: 0.75 % \n"
     ]
    }
   ],
   "source": [
    "y_predicted = getPostsTagsPrediction(x_validation, 5,tags_by_topics_m, tf_vectorizer_m, lda_model_m, lda_output_m )\n",
    "predictionAccuracy(y_predicted, y_validation)"
   ]
  },
  {
   "cell_type": "markdown",
   "metadata": {},
   "source": [
    "## 4.3 Ajustement du nombre de tags"
   ]
  },
  {
   "cell_type": "code",
   "execution_count": 95,
   "metadata": {},
   "outputs": [
    {
     "name": "stdout",
     "output_type": "stream",
     "text": [
      "3 tags : Prediction accuracy: 19.83 % \n",
      "4 tags : Prediction accuracy: 22.50 % \n",
      "5 tags : Prediction accuracy: 25.18 % \n",
      "6 tags : Prediction accuracy: 27.25 % \n",
      "7 tags : Prediction accuracy: 29.03 % \n",
      "8 tags : Prediction accuracy: 30.32 % \n"
     ]
    }
   ],
   "source": [
    "num_tags = [3, 4, 5, 6, 7, 8]\n",
    "for n in num_tags :\n",
    "    print(\"{} tags :\".format(n), end=\" \", flush=True)\n",
    "    y_predicted = getPostsTagsPrediction(x_validation, n,tags_by_topics_lda, tf_vectorizer, best_lda_model, lda_output )\n",
    "    predictionAccuracy(y_predicted, y_validation)"
   ]
  },
  {
   "cell_type": "markdown",
   "metadata": {},
   "source": [
    "=> Nous remarquons que plus nous augmenter le nombre de tags, meilleure est la prédiction. <br/>\n",
    "=> Cependant, il faut rester surun nombre raisonnable de tags et nous conseiller de partir sur 6 tags."
   ]
  },
  {
   "cell_type": "markdown",
   "metadata": {},
   "source": [
    "## 4.4 Analyse de la modélisation"
   ]
  },
  {
   "cell_type": "markdown",
   "metadata": {},
   "source": [
    "### Topics / Words"
   ]
  },
  {
   "cell_type": "markdown",
   "metadata": {},
   "source": [
    "Affichage de la matrice topics / words."
   ]
  },
  {
   "cell_type": "code",
   "execution_count": 96,
   "metadata": {},
   "outputs": [
    {
     "data": {
      "text/html": [
       "<div>\n",
       "<style>\n",
       "    .dataframe thead tr:only-child th {\n",
       "        text-align: right;\n",
       "    }\n",
       "\n",
       "    .dataframe thead th {\n",
       "        text-align: left;\n",
       "    }\n",
       "\n",
       "    .dataframe tbody tr th {\n",
       "        vertical-align: top;\n",
       "    }\n",
       "</style>\n",
       "<table border=\"1\" class=\"dataframe\">\n",
       "  <thead>\n",
       "    <tr style=\"text-align: right;\">\n",
       "      <th></th>\n",
       "      <th>aa</th>\n",
       "      <th>aaa</th>\n",
       "      <th>aaaa</th>\n",
       "      <th>aaaaa</th>\n",
       "      <th>aac</th>\n",
       "      <th>aapt</th>\n",
       "      <th>aar</th>\n",
       "      <th>ab</th>\n",
       "      <th>abandon</th>\n",
       "      <th>abbrevi</th>\n",
       "      <th>...</th>\n",
       "      <th>zookeep</th>\n",
       "      <th>zoom</th>\n",
       "      <th>zuul</th>\n",
       "      <th>zygoteinit</th>\n",
       "      <th>zz</th>\n",
       "      <th>zza</th>\n",
       "      <th>zzb</th>\n",
       "      <th>zzd</th>\n",
       "      <th>zzz</th>\n",
       "      <th>µs</th>\n",
       "    </tr>\n",
       "  </thead>\n",
       "  <tbody>\n",
       "    <tr>\n",
       "      <th>Topic0</th>\n",
       "      <td>10.098274</td>\n",
       "      <td>2.288014</td>\n",
       "      <td>2.860817</td>\n",
       "      <td>0.050000</td>\n",
       "      <td>0.052178</td>\n",
       "      <td>0.050000</td>\n",
       "      <td>0.050000</td>\n",
       "      <td>2.070085</td>\n",
       "      <td>7.182516</td>\n",
       "      <td>1.712503</td>\n",
       "      <td>...</td>\n",
       "      <td>0.050000</td>\n",
       "      <td>0.050390</td>\n",
       "      <td>13.503588</td>\n",
       "      <td>0.050000</td>\n",
       "      <td>0.050000</td>\n",
       "      <td>0.05</td>\n",
       "      <td>0.05</td>\n",
       "      <td>0.05</td>\n",
       "      <td>0.050000</td>\n",
       "      <td>0.050000</td>\n",
       "    </tr>\n",
       "    <tr>\n",
       "      <th>Topic1</th>\n",
       "      <td>0.056834</td>\n",
       "      <td>0.050000</td>\n",
       "      <td>0.050000</td>\n",
       "      <td>0.050000</td>\n",
       "      <td>0.050000</td>\n",
       "      <td>0.050000</td>\n",
       "      <td>0.050000</td>\n",
       "      <td>0.922529</td>\n",
       "      <td>0.050000</td>\n",
       "      <td>0.050000</td>\n",
       "      <td>...</td>\n",
       "      <td>0.050000</td>\n",
       "      <td>8.957463</td>\n",
       "      <td>0.050000</td>\n",
       "      <td>0.050000</td>\n",
       "      <td>0.050000</td>\n",
       "      <td>0.05</td>\n",
       "      <td>0.05</td>\n",
       "      <td>0.05</td>\n",
       "      <td>0.050000</td>\n",
       "      <td>0.050000</td>\n",
       "    </tr>\n",
       "    <tr>\n",
       "      <th>Topic2</th>\n",
       "      <td>1.119772</td>\n",
       "      <td>1.788745</td>\n",
       "      <td>0.050000</td>\n",
       "      <td>0.050000</td>\n",
       "      <td>0.050000</td>\n",
       "      <td>0.050000</td>\n",
       "      <td>0.050000</td>\n",
       "      <td>0.050000</td>\n",
       "      <td>0.050000</td>\n",
       "      <td>0.050000</td>\n",
       "      <td>...</td>\n",
       "      <td>0.050000</td>\n",
       "      <td>0.050345</td>\n",
       "      <td>0.050000</td>\n",
       "      <td>0.050000</td>\n",
       "      <td>0.050000</td>\n",
       "      <td>0.05</td>\n",
       "      <td>0.05</td>\n",
       "      <td>0.05</td>\n",
       "      <td>4.864339</td>\n",
       "      <td>0.050000</td>\n",
       "    </tr>\n",
       "    <tr>\n",
       "      <th>Topic3</th>\n",
       "      <td>4.445646</td>\n",
       "      <td>0.050000</td>\n",
       "      <td>0.050000</td>\n",
       "      <td>0.050000</td>\n",
       "      <td>12.118017</td>\n",
       "      <td>0.050000</td>\n",
       "      <td>0.050000</td>\n",
       "      <td>0.050000</td>\n",
       "      <td>0.050000</td>\n",
       "      <td>0.050000</td>\n",
       "      <td>...</td>\n",
       "      <td>0.050000</td>\n",
       "      <td>0.050000</td>\n",
       "      <td>0.050000</td>\n",
       "      <td>0.050000</td>\n",
       "      <td>0.050000</td>\n",
       "      <td>0.05</td>\n",
       "      <td>0.05</td>\n",
       "      <td>0.05</td>\n",
       "      <td>0.050000</td>\n",
       "      <td>0.050000</td>\n",
       "    </tr>\n",
       "    <tr>\n",
       "      <th>Topic4</th>\n",
       "      <td>3.682235</td>\n",
       "      <td>0.050000</td>\n",
       "      <td>0.050000</td>\n",
       "      <td>1.267049</td>\n",
       "      <td>5.246112</td>\n",
       "      <td>1.379417</td>\n",
       "      <td>0.050000</td>\n",
       "      <td>41.668319</td>\n",
       "      <td>0.050000</td>\n",
       "      <td>0.050000</td>\n",
       "      <td>...</td>\n",
       "      <td>11.420927</td>\n",
       "      <td>0.535132</td>\n",
       "      <td>0.050000</td>\n",
       "      <td>0.050000</td>\n",
       "      <td>0.050000</td>\n",
       "      <td>0.05</td>\n",
       "      <td>0.05</td>\n",
       "      <td>0.05</td>\n",
       "      <td>0.050000</td>\n",
       "      <td>49.036386</td>\n",
       "    </tr>\n",
       "    <tr>\n",
       "      <th>Topic5</th>\n",
       "      <td>0.050000</td>\n",
       "      <td>2.195132</td>\n",
       "      <td>0.200023</td>\n",
       "      <td>0.050000</td>\n",
       "      <td>0.050000</td>\n",
       "      <td>15.614266</td>\n",
       "      <td>0.050041</td>\n",
       "      <td>20.591882</td>\n",
       "      <td>3.719576</td>\n",
       "      <td>2.192743</td>\n",
       "      <td>...</td>\n",
       "      <td>0.050000</td>\n",
       "      <td>3.961148</td>\n",
       "      <td>0.050000</td>\n",
       "      <td>0.050000</td>\n",
       "      <td>0.050000</td>\n",
       "      <td>0.05</td>\n",
       "      <td>0.05</td>\n",
       "      <td>0.05</td>\n",
       "      <td>4.359932</td>\n",
       "      <td>0.050000</td>\n",
       "    </tr>\n",
       "    <tr>\n",
       "      <th>Topic6</th>\n",
       "      <td>0.755392</td>\n",
       "      <td>0.050000</td>\n",
       "      <td>0.050000</td>\n",
       "      <td>0.485173</td>\n",
       "      <td>0.050000</td>\n",
       "      <td>0.050384</td>\n",
       "      <td>89.039271</td>\n",
       "      <td>2.169274</td>\n",
       "      <td>0.050000</td>\n",
       "      <td>0.050000</td>\n",
       "      <td>...</td>\n",
       "      <td>0.050000</td>\n",
       "      <td>0.050000</td>\n",
       "      <td>0.050000</td>\n",
       "      <td>308.049982</td>\n",
       "      <td>3.730596</td>\n",
       "      <td>41.05</td>\n",
       "      <td>13.05</td>\n",
       "      <td>16.05</td>\n",
       "      <td>1.055669</td>\n",
       "      <td>0.050000</td>\n",
       "    </tr>\n",
       "    <tr>\n",
       "      <th>Topic7</th>\n",
       "      <td>13.316234</td>\n",
       "      <td>10.777035</td>\n",
       "      <td>0.050000</td>\n",
       "      <td>0.050000</td>\n",
       "      <td>3.783693</td>\n",
       "      <td>0.155933</td>\n",
       "      <td>0.050000</td>\n",
       "      <td>8.789495</td>\n",
       "      <td>0.480437</td>\n",
       "      <td>0.050000</td>\n",
       "      <td>...</td>\n",
       "      <td>0.051025</td>\n",
       "      <td>4.344899</td>\n",
       "      <td>0.050000</td>\n",
       "      <td>0.050018</td>\n",
       "      <td>0.050000</td>\n",
       "      <td>0.05</td>\n",
       "      <td>0.05</td>\n",
       "      <td>0.05</td>\n",
       "      <td>0.050000</td>\n",
       "      <td>0.050000</td>\n",
       "    </tr>\n",
       "    <tr>\n",
       "      <th>Topic8</th>\n",
       "      <td>0.050000</td>\n",
       "      <td>8.476138</td>\n",
       "      <td>0.050000</td>\n",
       "      <td>1.604337</td>\n",
       "      <td>0.050000</td>\n",
       "      <td>0.050000</td>\n",
       "      <td>0.050000</td>\n",
       "      <td>0.050000</td>\n",
       "      <td>0.050000</td>\n",
       "      <td>0.050000</td>\n",
       "      <td>...</td>\n",
       "      <td>0.050000</td>\n",
       "      <td>88.098001</td>\n",
       "      <td>0.050000</td>\n",
       "      <td>0.050000</td>\n",
       "      <td>0.050000</td>\n",
       "      <td>0.05</td>\n",
       "      <td>0.05</td>\n",
       "      <td>0.05</td>\n",
       "      <td>0.050000</td>\n",
       "      <td>0.050000</td>\n",
       "    </tr>\n",
       "    <tr>\n",
       "      <th>Topic9</th>\n",
       "      <td>0.052269</td>\n",
       "      <td>0.050000</td>\n",
       "      <td>0.050000</td>\n",
       "      <td>0.050000</td>\n",
       "      <td>0.050000</td>\n",
       "      <td>0.050000</td>\n",
       "      <td>0.050000</td>\n",
       "      <td>1.316010</td>\n",
       "      <td>0.050000</td>\n",
       "      <td>0.050000</td>\n",
       "      <td>...</td>\n",
       "      <td>0.050000</td>\n",
       "      <td>0.072445</td>\n",
       "      <td>0.050000</td>\n",
       "      <td>0.050000</td>\n",
       "      <td>0.484605</td>\n",
       "      <td>0.05</td>\n",
       "      <td>0.05</td>\n",
       "      <td>0.05</td>\n",
       "      <td>0.050000</td>\n",
       "      <td>0.050000</td>\n",
       "    </tr>\n",
       "    <tr>\n",
       "      <th>Topic10</th>\n",
       "      <td>50.456761</td>\n",
       "      <td>8.462355</td>\n",
       "      <td>3.024617</td>\n",
       "      <td>0.050000</td>\n",
       "      <td>0.050000</td>\n",
       "      <td>0.050000</td>\n",
       "      <td>0.050000</td>\n",
       "      <td>8.854613</td>\n",
       "      <td>0.050000</td>\n",
       "      <td>0.050000</td>\n",
       "      <td>...</td>\n",
       "      <td>0.050000</td>\n",
       "      <td>0.081063</td>\n",
       "      <td>0.050000</td>\n",
       "      <td>0.050000</td>\n",
       "      <td>5.523945</td>\n",
       "      <td>0.05</td>\n",
       "      <td>0.05</td>\n",
       "      <td>0.05</td>\n",
       "      <td>0.050000</td>\n",
       "      <td>0.050000</td>\n",
       "    </tr>\n",
       "    <tr>\n",
       "      <th>Topic11</th>\n",
       "      <td>23.588889</td>\n",
       "      <td>14.885160</td>\n",
       "      <td>0.050000</td>\n",
       "      <td>0.050000</td>\n",
       "      <td>0.050000</td>\n",
       "      <td>0.050000</td>\n",
       "      <td>0.050000</td>\n",
       "      <td>27.972999</td>\n",
       "      <td>0.050000</td>\n",
       "      <td>0.050000</td>\n",
       "      <td>...</td>\n",
       "      <td>0.050000</td>\n",
       "      <td>0.050113</td>\n",
       "      <td>0.050000</td>\n",
       "      <td>0.050000</td>\n",
       "      <td>6.343885</td>\n",
       "      <td>0.05</td>\n",
       "      <td>0.05</td>\n",
       "      <td>0.05</td>\n",
       "      <td>0.050000</td>\n",
       "      <td>0.050000</td>\n",
       "    </tr>\n",
       "    <tr>\n",
       "      <th>Topic12</th>\n",
       "      <td>0.051515</td>\n",
       "      <td>0.964905</td>\n",
       "      <td>0.050000</td>\n",
       "      <td>0.050000</td>\n",
       "      <td>0.050000</td>\n",
       "      <td>0.050000</td>\n",
       "      <td>0.050000</td>\n",
       "      <td>13.989562</td>\n",
       "      <td>0.050000</td>\n",
       "      <td>0.050000</td>\n",
       "      <td>...</td>\n",
       "      <td>0.050000</td>\n",
       "      <td>0.050000</td>\n",
       "      <td>0.050000</td>\n",
       "      <td>0.050000</td>\n",
       "      <td>0.050000</td>\n",
       "      <td>0.05</td>\n",
       "      <td>0.05</td>\n",
       "      <td>0.05</td>\n",
       "      <td>0.050000</td>\n",
       "      <td>0.050000</td>\n",
       "    </tr>\n",
       "    <tr>\n",
       "      <th>Topic13</th>\n",
       "      <td>3.769966</td>\n",
       "      <td>10.612515</td>\n",
       "      <td>0.050000</td>\n",
       "      <td>0.050000</td>\n",
       "      <td>0.050000</td>\n",
       "      <td>0.050000</td>\n",
       "      <td>0.050000</td>\n",
       "      <td>2.437248</td>\n",
       "      <td>0.050000</td>\n",
       "      <td>0.050000</td>\n",
       "      <td>...</td>\n",
       "      <td>0.050000</td>\n",
       "      <td>0.050000</td>\n",
       "      <td>0.050000</td>\n",
       "      <td>0.050000</td>\n",
       "      <td>0.050000</td>\n",
       "      <td>0.05</td>\n",
       "      <td>0.05</td>\n",
       "      <td>0.05</td>\n",
       "      <td>0.050000</td>\n",
       "      <td>0.050000</td>\n",
       "    </tr>\n",
       "    <tr>\n",
       "      <th>Topic14</th>\n",
       "      <td>0.051203</td>\n",
       "      <td>0.050000</td>\n",
       "      <td>0.050000</td>\n",
       "      <td>0.050000</td>\n",
       "      <td>0.050000</td>\n",
       "      <td>0.050000</td>\n",
       "      <td>0.050000</td>\n",
       "      <td>4.036663</td>\n",
       "      <td>0.050000</td>\n",
       "      <td>0.050000</td>\n",
       "      <td>...</td>\n",
       "      <td>0.050000</td>\n",
       "      <td>9.389872</td>\n",
       "      <td>7.596412</td>\n",
       "      <td>0.050000</td>\n",
       "      <td>0.050000</td>\n",
       "      <td>0.05</td>\n",
       "      <td>0.05</td>\n",
       "      <td>0.05</td>\n",
       "      <td>4.055444</td>\n",
       "      <td>0.050000</td>\n",
       "    </tr>\n",
       "    <tr>\n",
       "      <th>Topic15</th>\n",
       "      <td>0.050041</td>\n",
       "      <td>0.050000</td>\n",
       "      <td>0.050001</td>\n",
       "      <td>0.050000</td>\n",
       "      <td>0.050000</td>\n",
       "      <td>0.050000</td>\n",
       "      <td>0.050000</td>\n",
       "      <td>0.050000</td>\n",
       "      <td>0.050000</td>\n",
       "      <td>1.244754</td>\n",
       "      <td>...</td>\n",
       "      <td>0.050000</td>\n",
       "      <td>6.135965</td>\n",
       "      <td>0.050000</td>\n",
       "      <td>0.050000</td>\n",
       "      <td>0.050000</td>\n",
       "      <td>0.05</td>\n",
       "      <td>0.05</td>\n",
       "      <td>0.05</td>\n",
       "      <td>0.050000</td>\n",
       "      <td>0.050000</td>\n",
       "    </tr>\n",
       "    <tr>\n",
       "      <th>Topic16</th>\n",
       "      <td>0.050484</td>\n",
       "      <td>0.050000</td>\n",
       "      <td>0.050000</td>\n",
       "      <td>0.050000</td>\n",
       "      <td>0.050000</td>\n",
       "      <td>0.050000</td>\n",
       "      <td>0.050000</td>\n",
       "      <td>1.591754</td>\n",
       "      <td>0.050000</td>\n",
       "      <td>0.050000</td>\n",
       "      <td>...</td>\n",
       "      <td>0.050000</td>\n",
       "      <td>0.050002</td>\n",
       "      <td>1.050000</td>\n",
       "      <td>0.050000</td>\n",
       "      <td>0.050000</td>\n",
       "      <td>0.05</td>\n",
       "      <td>0.05</td>\n",
       "      <td>0.05</td>\n",
       "      <td>3.914616</td>\n",
       "      <td>0.050000</td>\n",
       "    </tr>\n",
       "    <tr>\n",
       "      <th>Topic17</th>\n",
       "      <td>0.050000</td>\n",
       "      <td>0.050000</td>\n",
       "      <td>0.050000</td>\n",
       "      <td>0.050000</td>\n",
       "      <td>0.050000</td>\n",
       "      <td>0.050000</td>\n",
       "      <td>0.060687</td>\n",
       "      <td>11.279005</td>\n",
       "      <td>0.050000</td>\n",
       "      <td>0.050000</td>\n",
       "      <td>...</td>\n",
       "      <td>0.050000</td>\n",
       "      <td>11.496423</td>\n",
       "      <td>0.050000</td>\n",
       "      <td>0.050000</td>\n",
       "      <td>0.050000</td>\n",
       "      <td>0.05</td>\n",
       "      <td>0.05</td>\n",
       "      <td>0.05</td>\n",
       "      <td>0.050000</td>\n",
       "      <td>0.050000</td>\n",
       "    </tr>\n",
       "    <tr>\n",
       "      <th>Topic18</th>\n",
       "      <td>0.050000</td>\n",
       "      <td>0.050000</td>\n",
       "      <td>4.114542</td>\n",
       "      <td>2.843440</td>\n",
       "      <td>0.050000</td>\n",
       "      <td>0.050000</td>\n",
       "      <td>0.050000</td>\n",
       "      <td>0.050000</td>\n",
       "      <td>0.539181</td>\n",
       "      <td>0.050000</td>\n",
       "      <td>...</td>\n",
       "      <td>0.050000</td>\n",
       "      <td>15.363902</td>\n",
       "      <td>0.050000</td>\n",
       "      <td>0.050000</td>\n",
       "      <td>0.050000</td>\n",
       "      <td>0.05</td>\n",
       "      <td>0.05</td>\n",
       "      <td>0.05</td>\n",
       "      <td>0.050000</td>\n",
       "      <td>0.050000</td>\n",
       "    </tr>\n",
       "    <tr>\n",
       "      <th>Topic19</th>\n",
       "      <td>1.254485</td>\n",
       "      <td>0.050000</td>\n",
       "      <td>0.050000</td>\n",
       "      <td>0.050000</td>\n",
       "      <td>0.050000</td>\n",
       "      <td>0.050000</td>\n",
       "      <td>0.050000</td>\n",
       "      <td>0.060562</td>\n",
       "      <td>0.328290</td>\n",
       "      <td>0.050000</td>\n",
       "      <td>...</td>\n",
       "      <td>21.678047</td>\n",
       "      <td>17.162837</td>\n",
       "      <td>0.050000</td>\n",
       "      <td>0.050000</td>\n",
       "      <td>1.166969</td>\n",
       "      <td>0.05</td>\n",
       "      <td>0.05</td>\n",
       "      <td>0.05</td>\n",
       "      <td>0.050000</td>\n",
       "      <td>0.063614</td>\n",
       "    </tr>\n",
       "  </tbody>\n",
       "</table>\n",
       "<p>20 rows × 9116 columns</p>\n",
       "</div>"
      ],
      "text/plain": [
       "                aa        aaa      aaaa     aaaaa        aac       aapt  \\\n",
       "Topic0   10.098274   2.288014  2.860817  0.050000   0.052178   0.050000   \n",
       "Topic1    0.056834   0.050000  0.050000  0.050000   0.050000   0.050000   \n",
       "Topic2    1.119772   1.788745  0.050000  0.050000   0.050000   0.050000   \n",
       "Topic3    4.445646   0.050000  0.050000  0.050000  12.118017   0.050000   \n",
       "Topic4    3.682235   0.050000  0.050000  1.267049   5.246112   1.379417   \n",
       "Topic5    0.050000   2.195132  0.200023  0.050000   0.050000  15.614266   \n",
       "Topic6    0.755392   0.050000  0.050000  0.485173   0.050000   0.050384   \n",
       "Topic7   13.316234  10.777035  0.050000  0.050000   3.783693   0.155933   \n",
       "Topic8    0.050000   8.476138  0.050000  1.604337   0.050000   0.050000   \n",
       "Topic9    0.052269   0.050000  0.050000  0.050000   0.050000   0.050000   \n",
       "Topic10  50.456761   8.462355  3.024617  0.050000   0.050000   0.050000   \n",
       "Topic11  23.588889  14.885160  0.050000  0.050000   0.050000   0.050000   \n",
       "Topic12   0.051515   0.964905  0.050000  0.050000   0.050000   0.050000   \n",
       "Topic13   3.769966  10.612515  0.050000  0.050000   0.050000   0.050000   \n",
       "Topic14   0.051203   0.050000  0.050000  0.050000   0.050000   0.050000   \n",
       "Topic15   0.050041   0.050000  0.050001  0.050000   0.050000   0.050000   \n",
       "Topic16   0.050484   0.050000  0.050000  0.050000   0.050000   0.050000   \n",
       "Topic17   0.050000   0.050000  0.050000  0.050000   0.050000   0.050000   \n",
       "Topic18   0.050000   0.050000  4.114542  2.843440   0.050000   0.050000   \n",
       "Topic19   1.254485   0.050000  0.050000  0.050000   0.050000   0.050000   \n",
       "\n",
       "               aar         ab   abandon   abbrevi    ...        zookeep  \\\n",
       "Topic0    0.050000   2.070085  7.182516  1.712503    ...       0.050000   \n",
       "Topic1    0.050000   0.922529  0.050000  0.050000    ...       0.050000   \n",
       "Topic2    0.050000   0.050000  0.050000  0.050000    ...       0.050000   \n",
       "Topic3    0.050000   0.050000  0.050000  0.050000    ...       0.050000   \n",
       "Topic4    0.050000  41.668319  0.050000  0.050000    ...      11.420927   \n",
       "Topic5    0.050041  20.591882  3.719576  2.192743    ...       0.050000   \n",
       "Topic6   89.039271   2.169274  0.050000  0.050000    ...       0.050000   \n",
       "Topic7    0.050000   8.789495  0.480437  0.050000    ...       0.051025   \n",
       "Topic8    0.050000   0.050000  0.050000  0.050000    ...       0.050000   \n",
       "Topic9    0.050000   1.316010  0.050000  0.050000    ...       0.050000   \n",
       "Topic10   0.050000   8.854613  0.050000  0.050000    ...       0.050000   \n",
       "Topic11   0.050000  27.972999  0.050000  0.050000    ...       0.050000   \n",
       "Topic12   0.050000  13.989562  0.050000  0.050000    ...       0.050000   \n",
       "Topic13   0.050000   2.437248  0.050000  0.050000    ...       0.050000   \n",
       "Topic14   0.050000   4.036663  0.050000  0.050000    ...       0.050000   \n",
       "Topic15   0.050000   0.050000  0.050000  1.244754    ...       0.050000   \n",
       "Topic16   0.050000   1.591754  0.050000  0.050000    ...       0.050000   \n",
       "Topic17   0.060687  11.279005  0.050000  0.050000    ...       0.050000   \n",
       "Topic18   0.050000   0.050000  0.539181  0.050000    ...       0.050000   \n",
       "Topic19   0.050000   0.060562  0.328290  0.050000    ...      21.678047   \n",
       "\n",
       "              zoom       zuul  zygoteinit        zz    zza    zzb    zzd  \\\n",
       "Topic0    0.050390  13.503588    0.050000  0.050000   0.05   0.05   0.05   \n",
       "Topic1    8.957463   0.050000    0.050000  0.050000   0.05   0.05   0.05   \n",
       "Topic2    0.050345   0.050000    0.050000  0.050000   0.05   0.05   0.05   \n",
       "Topic3    0.050000   0.050000    0.050000  0.050000   0.05   0.05   0.05   \n",
       "Topic4    0.535132   0.050000    0.050000  0.050000   0.05   0.05   0.05   \n",
       "Topic5    3.961148   0.050000    0.050000  0.050000   0.05   0.05   0.05   \n",
       "Topic6    0.050000   0.050000  308.049982  3.730596  41.05  13.05  16.05   \n",
       "Topic7    4.344899   0.050000    0.050018  0.050000   0.05   0.05   0.05   \n",
       "Topic8   88.098001   0.050000    0.050000  0.050000   0.05   0.05   0.05   \n",
       "Topic9    0.072445   0.050000    0.050000  0.484605   0.05   0.05   0.05   \n",
       "Topic10   0.081063   0.050000    0.050000  5.523945   0.05   0.05   0.05   \n",
       "Topic11   0.050113   0.050000    0.050000  6.343885   0.05   0.05   0.05   \n",
       "Topic12   0.050000   0.050000    0.050000  0.050000   0.05   0.05   0.05   \n",
       "Topic13   0.050000   0.050000    0.050000  0.050000   0.05   0.05   0.05   \n",
       "Topic14   9.389872   7.596412    0.050000  0.050000   0.05   0.05   0.05   \n",
       "Topic15   6.135965   0.050000    0.050000  0.050000   0.05   0.05   0.05   \n",
       "Topic16   0.050002   1.050000    0.050000  0.050000   0.05   0.05   0.05   \n",
       "Topic17  11.496423   0.050000    0.050000  0.050000   0.05   0.05   0.05   \n",
       "Topic18  15.363902   0.050000    0.050000  0.050000   0.05   0.05   0.05   \n",
       "Topic19  17.162837   0.050000    0.050000  1.166969   0.05   0.05   0.05   \n",
       "\n",
       "              zzz         µs  \n",
       "Topic0   0.050000   0.050000  \n",
       "Topic1   0.050000   0.050000  \n",
       "Topic2   4.864339   0.050000  \n",
       "Topic3   0.050000   0.050000  \n",
       "Topic4   0.050000  49.036386  \n",
       "Topic5   4.359932   0.050000  \n",
       "Topic6   1.055669   0.050000  \n",
       "Topic7   0.050000   0.050000  \n",
       "Topic8   0.050000   0.050000  \n",
       "Topic9   0.050000   0.050000  \n",
       "Topic10  0.050000   0.050000  \n",
       "Topic11  0.050000   0.050000  \n",
       "Topic12  0.050000   0.050000  \n",
       "Topic13  0.050000   0.050000  \n",
       "Topic14  4.055444   0.050000  \n",
       "Topic15  0.050000   0.050000  \n",
       "Topic16  3.914616   0.050000  \n",
       "Topic17  0.050000   0.050000  \n",
       "Topic18  0.050000   0.050000  \n",
       "Topic19  0.050000   0.063614  \n",
       "\n",
       "[20 rows x 9116 columns]"
      ]
     },
     "execution_count": 96,
     "metadata": {},
     "output_type": "execute_result"
    }
   ],
   "source": [
    "getTopicsWordsMatrix(best_lda_model, tf_vectorizer.get_feature_names())"
   ]
  },
  {
   "cell_type": "code",
   "execution_count": 98,
   "metadata": {},
   "outputs": [
    {
     "data": {
      "text/html": [
       "<div>\n",
       "<style>\n",
       "    .dataframe thead tr:only-child th {\n",
       "        text-align: right;\n",
       "    }\n",
       "\n",
       "    .dataframe thead th {\n",
       "        text-align: left;\n",
       "    }\n",
       "\n",
       "    .dataframe tbody tr th {\n",
       "        vertical-align: top;\n",
       "    }\n",
       "</style>\n",
       "<table border=\"1\" class=\"dataframe\">\n",
       "  <thead>\n",
       "    <tr style=\"text-align: right;\">\n",
       "      <th></th>\n",
       "      <th>Word 0</th>\n",
       "      <th>Word 1</th>\n",
       "      <th>Word 2</th>\n",
       "      <th>Word 3</th>\n",
       "      <th>Word 4</th>\n",
       "      <th>Word 5</th>\n",
       "      <th>Word 6</th>\n",
       "      <th>Word 7</th>\n",
       "      <th>Word 8</th>\n",
       "      <th>Word 9</th>\n",
       "      <th>Word 10</th>\n",
       "      <th>Word 11</th>\n",
       "    </tr>\n",
       "  </thead>\n",
       "  <tbody>\n",
       "    <tr>\n",
       "      <th>Topic 0</th>\n",
       "      <td>use</td>\n",
       "      <td>file</td>\n",
       "      <td>app</td>\n",
       "      <td>project</td>\n",
       "      <td>user</td>\n",
       "      <td>work</td>\n",
       "      <td>get</td>\n",
       "      <td>net</td>\n",
       "      <td>error</td>\n",
       "      <td>tri</td>\n",
       "      <td>http</td>\n",
       "      <td>api</td>\n",
       "    </tr>\n",
       "    <tr>\n",
       "      <th>Topic 1</th>\n",
       "      <td>in</td>\n",
       "      <td>python</td>\n",
       "      <td>lib</td>\n",
       "      <td>import</td>\n",
       "      <td>tf</td>\n",
       "      <td>np</td>\n",
       "      <td>from</td>\n",
       "      <td>size</td>\n",
       "      <td>model</td>\n",
       "      <td>data</td>\n",
       "      <td>the</td>\n",
       "      <td>name</td>\n",
       "    </tr>\n",
       "    <tr>\n",
       "      <th>Topic 2</th>\n",
       "      <td>function</td>\n",
       "      <td>data</td>\n",
       "      <td>log</td>\n",
       "      <td>request</td>\n",
       "      <td>server</td>\n",
       "      <td>var</td>\n",
       "      <td>http</td>\n",
       "      <td>error</td>\n",
       "      <td>in</td>\n",
       "      <td>query</td>\n",
       "      <td>json</td>\n",
       "      <td>post</td>\n",
       "    </tr>\n",
       "    <tr>\n",
       "      <th>Topic 3</th>\n",
       "      <td>let</td>\n",
       "      <td>use</td>\n",
       "      <td>list</td>\n",
       "      <td>self</td>\n",
       "      <td>data</td>\n",
       "      <td>the</td>\n",
       "      <td>swift</td>\n",
       "      <td>video</td>\n",
       "      <td>like</td>\n",
       "      <td>func</td>\n",
       "      <td>if</td>\n",
       "      <td>function</td>\n",
       "    </tr>\n",
       "    <tr>\n",
       "      <th>Topic 4</th>\n",
       "      <td>array</td>\n",
       "      <td>use</td>\n",
       "      <td>string</td>\n",
       "      <td>would</td>\n",
       "      <td>time</td>\n",
       "      <td>like</td>\n",
       "      <td>object</td>\n",
       "      <td>address</td>\n",
       "      <td>valu</td>\n",
       "      <td>one</td>\n",
       "      <td>ms</td>\n",
       "      <td>new</td>\n",
       "    </tr>\n",
       "    <tr>\n",
       "      <th>Topic 5</th>\n",
       "      <td>build</td>\n",
       "      <td>run</td>\n",
       "      <td>test</td>\n",
       "      <td>command</td>\n",
       "      <td>use</td>\n",
       "      <td>error</td>\n",
       "      <td>the</td>\n",
       "      <td>version</td>\n",
       "      <td>debug</td>\n",
       "      <td>xcode</td>\n",
       "      <td>task</td>\n",
       "      <td>bin</td>\n",
       "    </tr>\n",
       "    <tr>\n",
       "      <th>Topic 6</th>\n",
       "      <td>android</td>\n",
       "      <td>java</td>\n",
       "      <td>com</td>\n",
       "      <td>at</td>\n",
       "      <td>gradle</td>\n",
       "      <td>app</td>\n",
       "      <td>compile</td>\n",
       "      <td>google</td>\n",
       "      <td>support</td>\n",
       "      <td>internal</td>\n",
       "      <td>org</td>\n",
       "      <td>activitythread</td>\n",
       "    </tr>\n",
       "    <tr>\n",
       "      <th>Topic 7</th>\n",
       "      <td>public</td>\n",
       "      <td>new</td>\n",
       "      <td>string</td>\n",
       "      <td>void</td>\n",
       "      <td>class</td>\n",
       "      <td>name</td>\n",
       "      <td>private</td>\n",
       "      <td>the</td>\n",
       "      <td>if</td>\n",
       "      <td>file</td>\n",
       "      <td>this</td>\n",
       "      <td>return</td>\n",
       "    </tr>\n",
       "    <tr>\n",
       "      <th>Topic 8</th>\n",
       "      <td>div</td>\n",
       "      <td>class</td>\n",
       "      <td>px</td>\n",
       "      <td>button</td>\n",
       "      <td>width</td>\n",
       "      <td>text</td>\n",
       "      <td>id</td>\n",
       "      <td>style</td>\n",
       "      <td>height</td>\n",
       "      <td>html</td>\n",
       "      <td>color</td>\n",
       "      <td>li</td>\n",
       "    </tr>\n",
       "    <tr>\n",
       "      <th>Topic 9</th>\n",
       "      <td>this</td>\n",
       "      <td>git</td>\n",
       "      <td>state</td>\n",
       "      <td>branch</td>\n",
       "      <td>false</td>\n",
       "      <td>commit</td>\n",
       "      <td>view</td>\n",
       "      <td>text</td>\n",
       "      <td>work</td>\n",
       "      <td>chang</td>\n",
       "      <td>pull</td>\n",
       "      <td>repositori</td>\n",
       "    </tr>\n",
       "    <tr>\n",
       "      <th>Topic 10</th>\n",
       "      <td>string</td>\n",
       "      <td>key</td>\n",
       "      <td>use</td>\n",
       "      <td>column</td>\n",
       "      <td>type</td>\n",
       "      <td>df</td>\n",
       "      <td>id</td>\n",
       "      <td>date</td>\n",
       "      <td>time</td>\n",
       "      <td>null</td>\n",
       "      <td>name</td>\n",
       "      <td>function</td>\n",
       "    </tr>\n",
       "    <tr>\n",
       "      <th>Topic 11</th>\n",
       "      <td>docker</td>\n",
       "      <td>lib</td>\n",
       "      <td>com</td>\n",
       "      <td>version</td>\n",
       "      <td>local</td>\n",
       "      <td>so</td>\n",
       "      <td>name</td>\n",
       "      <td>linux</td>\n",
       "      <td>spark</td>\n",
       "      <td>at</td>\n",
       "      <td>myapp</td>\n",
       "      <td>run</td>\n",
       "    </tr>\n",
       "    <tr>\n",
       "      <th>Topic 12</th>\n",
       "      <td>js</td>\n",
       "      <td>angular</td>\n",
       "      <td>app</td>\n",
       "      <td>import</td>\n",
       "      <td>node</td>\n",
       "      <td>from</td>\n",
       "      <td>ts</td>\n",
       "      <td>path</td>\n",
       "      <td>modul</td>\n",
       "      <td>component</td>\n",
       "      <td>react</td>\n",
       "      <td>npm</td>\n",
       "    </tr>\n",
       "    <tr>\n",
       "      <th>Topic 13</th>\n",
       "      <td>int</td>\n",
       "      <td>std</td>\n",
       "      <td>type</td>\n",
       "      <td>class</td>\n",
       "      <td>return</td>\n",
       "      <td>void</td>\n",
       "      <td>function</td>\n",
       "      <td>compil</td>\n",
       "      <td>const</td>\n",
       "      <td>struct</td>\n",
       "      <td>code</td>\n",
       "      <td>error</td>\n",
       "    </tr>\n",
       "    <tr>\n",
       "      <th>Topic 14</th>\n",
       "      <td>class</td>\n",
       "      <td>use</td>\n",
       "      <td>name</td>\n",
       "      <td>angular</td>\n",
       "      <td>type</td>\n",
       "      <td>field</td>\n",
       "      <td>this</td>\n",
       "      <td>map</td>\n",
       "      <td>data</td>\n",
       "      <td>state</td>\n",
       "      <td>form</td>\n",
       "      <td>new</td>\n",
       "    </tr>\n",
       "    <tr>\n",
       "      <th>Topic 15</th>\n",
       "      <td>function</td>\n",
       "      <td>return</td>\n",
       "      <td>foo</td>\n",
       "      <td>class</td>\n",
       "      <td>this</td>\n",
       "      <td>use</td>\n",
       "      <td>var</td>\n",
       "      <td>react</td>\n",
       "      <td>object</td>\n",
       "      <td>bar</td>\n",
       "      <td>call</td>\n",
       "      <td>method</td>\n",
       "    </tr>\n",
       "    <tr>\n",
       "      <th>Topic 16</th>\n",
       "      <td>java</td>\n",
       "      <td>at</td>\n",
       "      <td>org</td>\n",
       "      <td>apache</td>\n",
       "      <td>com</td>\n",
       "      <td>springframework</td>\n",
       "      <td>scala</td>\n",
       "      <td>jar</td>\n",
       "      <td>lang</td>\n",
       "      <td>http</td>\n",
       "      <td>internal</td>\n",
       "      <td>util</td>\n",
       "    </tr>\n",
       "    <tr>\n",
       "      <th>Topic 17</th>\n",
       "      <td>android</td>\n",
       "      <td>layout</td>\n",
       "      <td>view</td>\n",
       "      <td>app</td>\n",
       "      <td>id</td>\n",
       "      <td>item</td>\n",
       "      <td>height</td>\n",
       "      <td>parent</td>\n",
       "      <td>width</td>\n",
       "      <td>color</td>\n",
       "      <td>content</td>\n",
       "      <td>text</td>\n",
       "    </tr>\n",
       "    <tr>\n",
       "      <th>Topic 18</th>\n",
       "      <td>id</td>\n",
       "      <td>self</td>\n",
       "      <td>users</td>\n",
       "      <td>grid</td>\n",
       "      <td>select</td>\n",
       "      <td>where</td>\n",
       "      <td>from</td>\n",
       "      <td>comment</td>\n",
       "      <td>row</td>\n",
       "      <td>ms</td>\n",
       "      <td>parent</td>\n",
       "      <td>node</td>\n",
       "    </tr>\n",
       "    <tr>\n",
       "      <th>Topic 19</th>\n",
       "      <td>file</td>\n",
       "      <td>py</td>\n",
       "      <td>python</td>\n",
       "      <td>line</td>\n",
       "      <td>django</td>\n",
       "      <td>import</td>\n",
       "      <td>person</td>\n",
       "      <td>action</td>\n",
       "      <td>use</td>\n",
       "      <td>php</td>\n",
       "      <td>group</td>\n",
       "      <td>in</td>\n",
       "    </tr>\n",
       "  </tbody>\n",
       "</table>\n",
       "</div>"
      ],
      "text/plain": [
       "            Word 0   Word 1  Word 2   Word 3  Word 4           Word 5  \\\n",
       "Topic 0        use     file     app  project    user             work   \n",
       "Topic 1         in   python     lib   import      tf               np   \n",
       "Topic 2   function     data     log  request  server              var   \n",
       "Topic 3        let      use    list     self    data              the   \n",
       "Topic 4      array      use  string    would    time             like   \n",
       "Topic 5      build      run    test  command     use            error   \n",
       "Topic 6    android     java     com       at  gradle              app   \n",
       "Topic 7     public      new  string     void   class             name   \n",
       "Topic 8        div    class      px   button   width             text   \n",
       "Topic 9       this      git   state   branch   false           commit   \n",
       "Topic 10    string      key     use   column    type               df   \n",
       "Topic 11    docker      lib     com  version   local               so   \n",
       "Topic 12        js  angular     app   import    node             from   \n",
       "Topic 13       int      std    type    class  return             void   \n",
       "Topic 14     class      use    name  angular    type            field   \n",
       "Topic 15  function   return     foo    class    this              use   \n",
       "Topic 16      java       at     org   apache     com  springframework   \n",
       "Topic 17   android   layout    view      app      id             item   \n",
       "Topic 18        id     self   users     grid  select            where   \n",
       "Topic 19      file       py  python     line  django           import   \n",
       "\n",
       "            Word 6   Word 7   Word 8     Word 9   Word 10         Word 11  \n",
       "Topic 0        get      net    error        tri      http             api  \n",
       "Topic 1       from     size    model       data       the            name  \n",
       "Topic 2       http    error       in      query      json            post  \n",
       "Topic 3      swift    video     like       func        if        function  \n",
       "Topic 4     object  address     valu        one        ms             new  \n",
       "Topic 5        the  version    debug      xcode      task             bin  \n",
       "Topic 6    compile   google  support   internal       org  activitythread  \n",
       "Topic 7    private      the       if       file      this          return  \n",
       "Topic 8         id    style   height       html     color              li  \n",
       "Topic 9       view     text     work      chang      pull      repositori  \n",
       "Topic 10        id     date     time       null      name        function  \n",
       "Topic 11      name    linux    spark         at     myapp             run  \n",
       "Topic 12        ts     path    modul  component     react             npm  \n",
       "Topic 13  function   compil    const     struct      code           error  \n",
       "Topic 14      this      map     data      state      form             new  \n",
       "Topic 15       var    react   object        bar      call          method  \n",
       "Topic 16     scala      jar     lang       http  internal            util  \n",
       "Topic 17    height   parent    width      color   content            text  \n",
       "Topic 18      from  comment      row         ms    parent            node  \n",
       "Topic 19    person   action      use        php     group              in  "
      ]
     },
     "metadata": {},
     "output_type": "display_data"
    }
   ],
   "source": [
    "showTopicsTopWords(best_lda_model, tf_vectorizer.get_feature_names(), 12)"
   ]
  },
  {
   "cell_type": "markdown",
   "metadata": {},
   "source": [
    "Nous pouvons interpréter certains topics : <br/>\n",
    "- le sujet 1 : Tableau HTML\n",
    "- Le sujet 7 : Androïd \n",
    "- Le sujet 9 : Requêtes HTTP \n",
    "- Le sujet 15 : Microsoft / .Net\n",
    "- Le sujet 16 : Java / Apache\n",
    "- Le sujet 17 : Python\n",
    "- Le sujet 19 : System / Installation\n",
    "..."
   ]
  },
  {
   "cell_type": "markdown",
   "metadata": {},
   "source": [
    "###  Docs / Topics"
   ]
  },
  {
   "cell_type": "markdown",
   "metadata": {},
   "source": [
    "Voyons maintenant le topic associé à quelques documents."
   ]
  },
  {
   "cell_type": "code",
   "execution_count": 100,
   "metadata": {},
   "outputs": [
    {
     "name": "stdout",
     "output_type": "stream",
     "text": [
      "Topic 0 : use file app project user work get net error tri\n",
      "Doc 1949  Title: Edit & Continue doesn't work - Tags: ['visual-studio', 'visual-studio-2015', 'visual-studio-debugging']\n",
      "Doc 5554  Title: ASP.net core web api: Using Facebook/Google OAuth access tok - Tags: ['c#', 'angular', 'authentication', 'google-oauth', 'asp.net-core-webapi']\n",
      "\n",
      "Topic 1 : in python lib import tf np from size model data\n",
      "Doc 1142  Title: Tensorflow ResourceExhaustedError after first batch - Tags: ['python', 'python-3.x', 'tensorflow']\n",
      "Doc 3059  Title: Edit tensorflow inceptionV3 retraining-example.py for multip - Tags: ['python', 'python-3.x', 'machine-learning', 'tensorflow']\n",
      "\n",
      "Topic 2 : function data log request server var http error in query\n",
      "Doc 693  Title: INSERT operation using Node.js and PostgreSQL doesn't work - Tags: ['sql', 'node.js', 'postgresql', 'async-await']\n",
      "Doc 4615  Title: XMLHttpRequest cannot load resource - Tags: ['php', 'jquery', 'ajax', 'heroku', 'cors']\n",
      "\n",
      "Topic 3 : let use list self data the swift video like func\n",
      "Doc 5804  Title: Adjoint functors determine monad transformers, but where's l - Tags: ['haskell', 'monads', 'monad-transformers']\n",
      "Doc 5207  Title: list of objects python - Tags: ['python']\n",
      "\n",
      "Topic 4 : array use string would time like object address valu one\n",
      "Doc 5899  Title: Java 8 Lambda (grouping and reducing in a single step) - Tags: ['java', 'lambda', 'java-8', 'grouping', 'java-stream']\n",
      "Doc 5223  Title: ImmutableCollections SetN implementation detail - Tags: ['java', 'collections', 'java-9']\n",
      "\n",
      "Topic 5 : build run test command use error the version debug xcode\n",
      "Doc 9043  Title: Cross-compile a gnulib based project to MinGW - Tags: ['c', 'cross-compiling']\n",
      "Doc 1091  Title: Does DEVELOPER_DIR need to remain set in the environment? - Tags: ['xcode', 'macos', 'environment-variables', 'clang']\n",
      "\n",
      "Topic 6 : android java com at gradle app compile google support internal\n",
      "Doc 8037  Title: Webview shows error \"Didn't find class \"android.webkit.Rende - Tags: ['android', 'webview']\n",
      "Doc 860  Title: Android Studio 3.0 compile time error - Tags: ['android', 'gradle', 'java-8', 'android-studio-3.0']\n",
      "\n",
      "Topic 7 : public new string void class name private the if file\n",
      "Doc 3396  Title: Open specific Activity when notification clicked in FCM - Tags: ['android', 'android-notifications', 'firebase-cloud-messaging', 'firebase-notifications']\n",
      "Doc 5904  Title: how to upload a file and json data in postman - Tags: ['java', 'json', 'spring-mvc', 'postman']\n",
      "\n",
      "Topic 8 : div class px button width text id style height html\n",
      "Doc 3977  Title: Creating a footer inside a bootstrap column - Tags: ['html', 'css', 'twitter-bootstrap']\n",
      "Doc 3149  Title: How can I create pure CSS 3-dimensional spheres? - Tags: ['css', 'css3', 'css-animations', 'css-shapes', 'css-transforms']\n",
      "\n",
      "Topic 9 : this git state branch false commit view text work chang\n",
      "Doc 2446  Title: Git branch name - case sensitive or insensitive? - Tags: ['git', 'github', 'version-control', 'git-branch']\n",
      "Doc 5814  Title: git pull *after* git rebase? - Tags: ['git', 'rebase']\n",
      "\n",
      "Topic 10 : string key use column type df id date time null\n",
      "Doc 3533  Title: In String.prototype.slice(), should .slice(0,-0) and .slice( - Tags: ['javascript']\n",
      "Doc 2729  Title: How to improve query performance that compute haversine form - Tags: ['performance', 'postgresql', 'location', 'gis']\n",
      "\n",
      "Topic 11 : docker lib com version local so name linux spark at\n",
      "Doc 9663  Title: Terminal.app crashing on Mac OS X after upgrade to 10.12 Sie - Tags: ['macos', 'terminal', 'macos-sierra']\n",
      "Doc 475  Title: OpenWebRTC iOS random crash gstglcontext - Tags: ['ios', 'objective-c', 'iphone', 'webrtc']\n",
      "\n",
      "Topic 12 : js angular app import node from ts path modul component\n",
      "Doc 4930  Title: Including jquery-sparkline with webpack - Tags: ['javascript', 'jquery', 'webpack']\n",
      "Doc 5434  Title: How to disable optimize warnings in webpack 2 - Tags: ['reactjs', 'warnings', 'karma-runner', 'webpack-2']\n",
      "\n",
      "Topic 13 : int std type class return void function compil const struct\n",
      "Doc 9661  Title: Why doesn't C++ provide default \"operator>>\" function for en - Tags: ['c++', 'enums']\n",
      "Doc 153  Title: SFINAE : Know if a function already exist or no - Tags: ['c++', 'c++11', 'sfinae']\n",
      "\n",
      "Topic 14 : class use name angular type field this map data state\n",
      "Doc 8393  Title: Haskell singletons: What do we gain with SNat - Tags: ['haskell', 'dependent-type']\n",
      "Doc 2092  Title: Does it make sense to use MetadataType to enforce validation - Tags: ['c#', '.net', 'asp.net-mvc', 'entity-framework', 'validation']\n",
      "\n",
      "Topic 15 : function return foo class this use var react object bar\n",
      "Doc 3300  Title: Why does `obj.foo = function() { };` not assign the name `fo - Tags: ['javascript', 'function', 'ecmascript-6']\n",
      "Doc 4324  Title: How is `new` operator able to override hard-binding, in the  - Tags: ['javascript', 'new-operator']\n",
      "\n",
      "Topic 16 : java at org apache com springframework scala jar lang http\n",
      "Doc 5611  Title: dropwizard-testing resouce test blows up when building Resou - Tags: ['java', 'junit']\n",
      "Doc 4046  Title: After updating to GAE 1.9.49 Maven fails to execute goal end - Tags: ['java', 'maven', 'google-app-engine']\n",
      "\n",
      "Topic 17 : android layout view app id item height parent width color\n",
      "Doc 4560  Title: Persistent BottomSheet peekHeight and STATE_COLLAPSED not dr - Tags: ['android', 'android-layout', 'android-coordinatorlayout', 'bottom-sheet']\n",
      "Doc 3478  Title: How to accomplish this animation on CardView with Coordinato - Tags: ['android', 'animation', 'kotlin', 'material-design', 'android-design-library']\n",
      "\n",
      "Topic 18 : id self users grid select where from comment row ms\n",
      "Doc 1197  Title: Active Model Serializer - Increasing Render Performance - Tags: ['ruby-on-rails', 'json', 'ruby-on-rails-4', 'serialization']\n",
      "Doc 9972  Title: Cannot fix Auto Layout animation while rotation event - Tags: ['ios', 'swift', 'animation', 'autolayout']\n",
      "\n",
      "Topic 19 : file py python line django import person action use php\n",
      "Doc 6176  Title: Selenium chromedriver 2.25 TimeoutException cannot determine - Tags: ['python', 'python-3.x', 'selenium', 'selenium-webdriver', 'selenium-chromedriver']\n",
      "Doc 2654  Title: Selenium \"Unable to find a matching set of capabilities\" des - Tags: ['python', 'selenium']\n",
      "\n"
     ]
    }
   ],
   "source": [
    "showTopicsTopDocs(best_lda_model.components_, lda_output, tf_vectorizer.get_feature_names(), x_train, y_train, 10, 2)"
   ]
  },
  {
   "cell_type": "code",
   "execution_count": 101,
   "metadata": {},
   "outputs": [
    {
     "data": {
      "text/html": [
       "<div>\n",
       "<style>\n",
       "    .dataframe thead tr:only-child th {\n",
       "        text-align: right;\n",
       "    }\n",
       "\n",
       "    .dataframe thead th {\n",
       "        text-align: left;\n",
       "    }\n",
       "\n",
       "    .dataframe tbody tr th {\n",
       "        vertical-align: top;\n",
       "    }\n",
       "</style>\n",
       "<table border=\"1\" class=\"dataframe\">\n",
       "  <thead>\n",
       "    <tr style=\"text-align: right;\">\n",
       "      <th></th>\n",
       "      <th>Topic0</th>\n",
       "      <th>Topic1</th>\n",
       "      <th>Topic2</th>\n",
       "      <th>Topic3</th>\n",
       "      <th>Topic4</th>\n",
       "      <th>Topic5</th>\n",
       "      <th>Topic6</th>\n",
       "      <th>Topic7</th>\n",
       "      <th>Topic8</th>\n",
       "      <th>Topic9</th>\n",
       "      <th>...</th>\n",
       "      <th>Topic11</th>\n",
       "      <th>Topic12</th>\n",
       "      <th>Topic13</th>\n",
       "      <th>Topic14</th>\n",
       "      <th>Topic15</th>\n",
       "      <th>Topic16</th>\n",
       "      <th>Topic17</th>\n",
       "      <th>Topic18</th>\n",
       "      <th>Topic19</th>\n",
       "      <th>Dominant_Topic</th>\n",
       "    </tr>\n",
       "  </thead>\n",
       "  <tbody>\n",
       "    <tr>\n",
       "      <th>Doc0</th>\n",
       "      <td>0.1999</td>\n",
       "      <td>0.0003</td>\n",
       "      <td>0.1005</td>\n",
       "      <td>0.0003</td>\n",
       "      <td>0.0003</td>\n",
       "      <td>0.0003</td>\n",
       "      <td>0.0003</td>\n",
       "      <td>0.0003</td>\n",
       "      <td>0.1728</td>\n",
       "      <td>0.0003</td>\n",
       "      <td>...</td>\n",
       "      <td>0.0003</td>\n",
       "      <td>0.1345</td>\n",
       "      <td>0.0003</td>\n",
       "      <td>0.3873</td>\n",
       "      <td>0.0003</td>\n",
       "      <td>0.0003</td>\n",
       "      <td>0.0003</td>\n",
       "      <td>0.0003</td>\n",
       "      <td>0.0003</td>\n",
       "      <td>14</td>\n",
       "    </tr>\n",
       "    <tr>\n",
       "      <th>Doc1</th>\n",
       "      <td>0.0003</td>\n",
       "      <td>0.0003</td>\n",
       "      <td>0.7595</td>\n",
       "      <td>0.0003</td>\n",
       "      <td>0.0003</td>\n",
       "      <td>0.0003</td>\n",
       "      <td>0.0003</td>\n",
       "      <td>0.0003</td>\n",
       "      <td>0.0003</td>\n",
       "      <td>0.0003</td>\n",
       "      <td>...</td>\n",
       "      <td>0.0003</td>\n",
       "      <td>0.2359</td>\n",
       "      <td>0.0003</td>\n",
       "      <td>0.0003</td>\n",
       "      <td>0.0003</td>\n",
       "      <td>0.0003</td>\n",
       "      <td>0.0003</td>\n",
       "      <td>0.0003</td>\n",
       "      <td>0.0003</td>\n",
       "      <td>2</td>\n",
       "    </tr>\n",
       "    <tr>\n",
       "      <th>Doc2</th>\n",
       "      <td>0.9849</td>\n",
       "      <td>0.0008</td>\n",
       "      <td>0.0008</td>\n",
       "      <td>0.0008</td>\n",
       "      <td>0.0008</td>\n",
       "      <td>0.0008</td>\n",
       "      <td>0.0008</td>\n",
       "      <td>0.0008</td>\n",
       "      <td>0.0008</td>\n",
       "      <td>0.0008</td>\n",
       "      <td>...</td>\n",
       "      <td>0.0008</td>\n",
       "      <td>0.0008</td>\n",
       "      <td>0.0008</td>\n",
       "      <td>0.0008</td>\n",
       "      <td>0.0008</td>\n",
       "      <td>0.0008</td>\n",
       "      <td>0.0008</td>\n",
       "      <td>0.0008</td>\n",
       "      <td>0.0008</td>\n",
       "      <td>0</td>\n",
       "    </tr>\n",
       "    <tr>\n",
       "      <th>Doc3</th>\n",
       "      <td>0.1597</td>\n",
       "      <td>0.0003</td>\n",
       "      <td>0.0003</td>\n",
       "      <td>0.0003</td>\n",
       "      <td>0.0003</td>\n",
       "      <td>0.0003</td>\n",
       "      <td>0.0003</td>\n",
       "      <td>0.3704</td>\n",
       "      <td>0.0003</td>\n",
       "      <td>0.0003</td>\n",
       "      <td>...</td>\n",
       "      <td>0.0003</td>\n",
       "      <td>0.0003</td>\n",
       "      <td>0.0003</td>\n",
       "      <td>0.4158</td>\n",
       "      <td>0.0500</td>\n",
       "      <td>0.0003</td>\n",
       "      <td>0.0003</td>\n",
       "      <td>0.0003</td>\n",
       "      <td>0.0003</td>\n",
       "      <td>14</td>\n",
       "    </tr>\n",
       "    <tr>\n",
       "      <th>Doc4</th>\n",
       "      <td>0.0003</td>\n",
       "      <td>0.0003</td>\n",
       "      <td>0.0003</td>\n",
       "      <td>0.0003</td>\n",
       "      <td>0.3964</td>\n",
       "      <td>0.0003</td>\n",
       "      <td>0.0003</td>\n",
       "      <td>0.0003</td>\n",
       "      <td>0.0003</td>\n",
       "      <td>0.0003</td>\n",
       "      <td>...</td>\n",
       "      <td>0.0003</td>\n",
       "      <td>0.0003</td>\n",
       "      <td>0.5973</td>\n",
       "      <td>0.0003</td>\n",
       "      <td>0.0003</td>\n",
       "      <td>0.0003</td>\n",
       "      <td>0.0003</td>\n",
       "      <td>0.0003</td>\n",
       "      <td>0.0003</td>\n",
       "      <td>13</td>\n",
       "    </tr>\n",
       "    <tr>\n",
       "      <th>Doc5</th>\n",
       "      <td>0.5811</td>\n",
       "      <td>0.0002</td>\n",
       "      <td>0.0002</td>\n",
       "      <td>0.1859</td>\n",
       "      <td>0.0002</td>\n",
       "      <td>0.0002</td>\n",
       "      <td>0.0826</td>\n",
       "      <td>0.0002</td>\n",
       "      <td>0.1113</td>\n",
       "      <td>0.0002</td>\n",
       "      <td>...</td>\n",
       "      <td>0.0002</td>\n",
       "      <td>0.0002</td>\n",
       "      <td>0.0002</td>\n",
       "      <td>0.0002</td>\n",
       "      <td>0.0002</td>\n",
       "      <td>0.0002</td>\n",
       "      <td>0.0002</td>\n",
       "      <td>0.0002</td>\n",
       "      <td>0.0359</td>\n",
       "      <td>0</td>\n",
       "    </tr>\n",
       "    <tr>\n",
       "      <th>Doc6</th>\n",
       "      <td>0.0002</td>\n",
       "      <td>0.0002</td>\n",
       "      <td>0.0677</td>\n",
       "      <td>0.0002</td>\n",
       "      <td>0.0002</td>\n",
       "      <td>0.0002</td>\n",
       "      <td>0.0002</td>\n",
       "      <td>0.0504</td>\n",
       "      <td>0.5154</td>\n",
       "      <td>0.0002</td>\n",
       "      <td>...</td>\n",
       "      <td>0.0002</td>\n",
       "      <td>0.0002</td>\n",
       "      <td>0.0002</td>\n",
       "      <td>0.2922</td>\n",
       "      <td>0.0002</td>\n",
       "      <td>0.0002</td>\n",
       "      <td>0.0002</td>\n",
       "      <td>0.0002</td>\n",
       "      <td>0.0002</td>\n",
       "      <td>8</td>\n",
       "    </tr>\n",
       "    <tr>\n",
       "      <th>Doc7</th>\n",
       "      <td>0.0001</td>\n",
       "      <td>0.0001</td>\n",
       "      <td>0.0001</td>\n",
       "      <td>0.1139</td>\n",
       "      <td>0.0001</td>\n",
       "      <td>0.6305</td>\n",
       "      <td>0.0001</td>\n",
       "      <td>0.0001</td>\n",
       "      <td>0.0001</td>\n",
       "      <td>0.0001</td>\n",
       "      <td>...</td>\n",
       "      <td>0.0001</td>\n",
       "      <td>0.0001</td>\n",
       "      <td>0.2414</td>\n",
       "      <td>0.0001</td>\n",
       "      <td>0.0001</td>\n",
       "      <td>0.0132</td>\n",
       "      <td>0.0001</td>\n",
       "      <td>0.0001</td>\n",
       "      <td>0.0001</td>\n",
       "      <td>5</td>\n",
       "    </tr>\n",
       "    <tr>\n",
       "      <th>Doc8</th>\n",
       "      <td>0.0019</td>\n",
       "      <td>0.0019</td>\n",
       "      <td>0.0019</td>\n",
       "      <td>0.0019</td>\n",
       "      <td>0.0019</td>\n",
       "      <td>0.5310</td>\n",
       "      <td>0.0019</td>\n",
       "      <td>0.0019</td>\n",
       "      <td>0.0019</td>\n",
       "      <td>0.0019</td>\n",
       "      <td>...</td>\n",
       "      <td>0.0019</td>\n",
       "      <td>0.0019</td>\n",
       "      <td>0.0019</td>\n",
       "      <td>0.0019</td>\n",
       "      <td>0.0019</td>\n",
       "      <td>0.0019</td>\n",
       "      <td>0.4344</td>\n",
       "      <td>0.0019</td>\n",
       "      <td>0.0019</td>\n",
       "      <td>5</td>\n",
       "    </tr>\n",
       "    <tr>\n",
       "      <th>Doc9</th>\n",
       "      <td>0.0009</td>\n",
       "      <td>0.0009</td>\n",
       "      <td>0.0009</td>\n",
       "      <td>0.0009</td>\n",
       "      <td>0.0009</td>\n",
       "      <td>0.2774</td>\n",
       "      <td>0.0009</td>\n",
       "      <td>0.0009</td>\n",
       "      <td>0.0009</td>\n",
       "      <td>0.0009</td>\n",
       "      <td>...</td>\n",
       "      <td>0.0009</td>\n",
       "      <td>0.2389</td>\n",
       "      <td>0.0009</td>\n",
       "      <td>0.0009</td>\n",
       "      <td>0.0009</td>\n",
       "      <td>0.0009</td>\n",
       "      <td>0.0009</td>\n",
       "      <td>0.0009</td>\n",
       "      <td>0.4677</td>\n",
       "      <td>19</td>\n",
       "    </tr>\n",
       "  </tbody>\n",
       "</table>\n",
       "<p>10 rows × 21 columns</p>\n",
       "</div>"
      ],
      "text/plain": [
       "      Topic0  Topic1  Topic2  Topic3  Topic4  Topic5  Topic6  Topic7  Topic8  \\\n",
       "Doc0  0.1999  0.0003  0.1005  0.0003  0.0003  0.0003  0.0003  0.0003  0.1728   \n",
       "Doc1  0.0003  0.0003  0.7595  0.0003  0.0003  0.0003  0.0003  0.0003  0.0003   \n",
       "Doc2  0.9849  0.0008  0.0008  0.0008  0.0008  0.0008  0.0008  0.0008  0.0008   \n",
       "Doc3  0.1597  0.0003  0.0003  0.0003  0.0003  0.0003  0.0003  0.3704  0.0003   \n",
       "Doc4  0.0003  0.0003  0.0003  0.0003  0.3964  0.0003  0.0003  0.0003  0.0003   \n",
       "Doc5  0.5811  0.0002  0.0002  0.1859  0.0002  0.0002  0.0826  0.0002  0.1113   \n",
       "Doc6  0.0002  0.0002  0.0677  0.0002  0.0002  0.0002  0.0002  0.0504  0.5154   \n",
       "Doc7  0.0001  0.0001  0.0001  0.1139  0.0001  0.6305  0.0001  0.0001  0.0001   \n",
       "Doc8  0.0019  0.0019  0.0019  0.0019  0.0019  0.5310  0.0019  0.0019  0.0019   \n",
       "Doc9  0.0009  0.0009  0.0009  0.0009  0.0009  0.2774  0.0009  0.0009  0.0009   \n",
       "\n",
       "      Topic9       ...        Topic11  Topic12  Topic13  Topic14  Topic15  \\\n",
       "Doc0  0.0003       ...         0.0003   0.1345   0.0003   0.3873   0.0003   \n",
       "Doc1  0.0003       ...         0.0003   0.2359   0.0003   0.0003   0.0003   \n",
       "Doc2  0.0008       ...         0.0008   0.0008   0.0008   0.0008   0.0008   \n",
       "Doc3  0.0003       ...         0.0003   0.0003   0.0003   0.4158   0.0500   \n",
       "Doc4  0.0003       ...         0.0003   0.0003   0.5973   0.0003   0.0003   \n",
       "Doc5  0.0002       ...         0.0002   0.0002   0.0002   0.0002   0.0002   \n",
       "Doc6  0.0002       ...         0.0002   0.0002   0.0002   0.2922   0.0002   \n",
       "Doc7  0.0001       ...         0.0001   0.0001   0.2414   0.0001   0.0001   \n",
       "Doc8  0.0019       ...         0.0019   0.0019   0.0019   0.0019   0.0019   \n",
       "Doc9  0.0009       ...         0.0009   0.2389   0.0009   0.0009   0.0009   \n",
       "\n",
       "      Topic16  Topic17  Topic18  Topic19  Dominant_Topic  \n",
       "Doc0   0.0003   0.0003   0.0003   0.0003              14  \n",
       "Doc1   0.0003   0.0003   0.0003   0.0003               2  \n",
       "Doc2   0.0008   0.0008   0.0008   0.0008               0  \n",
       "Doc3   0.0003   0.0003   0.0003   0.0003              14  \n",
       "Doc4   0.0003   0.0003   0.0003   0.0003              13  \n",
       "Doc5   0.0002   0.0002   0.0002   0.0359               0  \n",
       "Doc6   0.0002   0.0002   0.0002   0.0002               8  \n",
       "Doc7   0.0132   0.0001   0.0001   0.0001               5  \n",
       "Doc8   0.0019   0.4344   0.0019   0.0019               5  \n",
       "Doc9   0.0009   0.0009   0.0009   0.4677              19  \n",
       "\n",
       "[10 rows x 21 columns]"
      ]
     },
     "execution_count": 101,
     "metadata": {},
     "output_type": "execute_result"
    }
   ],
   "source": [
    "getDocsTopicsMatrix(x_train, best_lda_model, lda_output).head(10)"
   ]
  },
  {
   "cell_type": "markdown",
   "metadata": {},
   "source": [
    "# 5. Topic modeling avec NMF"
   ]
  },
  {
   "cell_type": "markdown",
   "metadata": {},
   "source": [
    "Voyons maintenant la méthode NMF (Factorisation par matrices non négatives) pour prédire nos tags."
   ]
  },
  {
   "cell_type": "markdown",
   "metadata": {},
   "source": [
    "## 5.1 Tuning manuel"
   ]
  },
  {
   "cell_type": "markdown",
   "metadata": {},
   "source": [
    "### Apprentissage"
   ]
  },
  {
   "cell_type": "code",
   "execution_count": 122,
   "metadata": {
    "collapsed": true
   },
   "outputs": [],
   "source": [
    "def fit_transform_NMF(train_data, target_data, min_df, max_df, num_topics) :\n",
    "    print(\"[min_df:{:d} max_df:{:.2f} num_topics:{}]\"\n",
    "          .format(min_df, max_df, num_topics), end=\" \", flush=True)\n",
    "    tfidf_vectorizer = TfidfVectorizer(min_df=min_df, max_df=max_df)\n",
    "    tfidf_vectorized = tfidf_vectorizer.fit_transform(train_data['TITLE_P'] + ' ' + train_data['BODY_P'])\n",
    "    nmf_model = NMF(n_components=num_topics, random_state=1, alpha=.1, l1_ratio=.5)\n",
    "    nmf_output = nmf_model.fit_transform(tfidf_vectorized)\n",
    "    tags_by_topics_matrix = buildTagByTopicsMatrix(nmf_model, nmf_output, target_data)\n",
    "    return nmf_output, nmf_model, tfidf_vectorizer, tags_by_topics_matrix"
   ]
  },
  {
   "cell_type": "markdown",
   "metadata": {},
   "source": [
    "### Evaluation"
   ]
  },
  {
   "cell_type": "code",
   "execution_count": 123,
   "metadata": {},
   "outputs": [
    {
     "name": "stdout",
     "output_type": "stream",
     "text": [
      "[min_df:5 max_df:0.75 num_topics:10] Prediction accuracy: 26.20 % \n",
      "[min_df:5 max_df:0.85 num_topics:10] Prediction accuracy: 26.20 % \n",
      "[min_df:5 max_df:0.95 num_topics:10] Prediction accuracy: 26.20 % \n",
      "[min_df:10 max_df:0.75 num_topics:10] Prediction accuracy: 25.83 % \n",
      "[min_df:10 max_df:0.85 num_topics:10] Prediction accuracy: 25.83 % \n",
      "[min_df:10 max_df:0.95 num_topics:10] Prediction accuracy: 25.83 % \n",
      "[min_df:20 max_df:0.75 num_topics:10] Prediction accuracy: 27.48 % \n",
      "[min_df:20 max_df:0.85 num_topics:10] Prediction accuracy: 27.48 % \n",
      "[min_df:20 max_df:0.95 num_topics:10] Prediction accuracy: 27.48 % \n",
      "[min_df:5 max_df:0.75 num_topics:20] Prediction accuracy: 31.36 % \n",
      "[min_df:5 max_df:0.85 num_topics:20] Prediction accuracy: 31.36 % \n",
      "[min_df:5 max_df:0.95 num_topics:20] Prediction accuracy: 31.36 % \n",
      "[min_df:10 max_df:0.75 num_topics:20] Prediction accuracy: 30.37 % \n",
      "[min_df:10 max_df:0.85 num_topics:20] Prediction accuracy: 30.37 % \n",
      "[min_df:10 max_df:0.95 num_topics:20] "
     ]
    },
    {
     "ename": "KeyboardInterrupt",
     "evalue": "",
     "output_type": "error",
     "traceback": [
      "\u001b[0;31m---------------------------------------------------------------------------\u001b[0m",
      "\u001b[0;31mKeyboardInterrupt\u001b[0m                         Traceback (most recent call last)",
      "\u001b[0;32m<ipython-input-123-33280511e1e7>\u001b[0m in \u001b[0;36m<module>\u001b[0;34m()\u001b[0m\n\u001b[1;32m      4\u001b[0m             \u001b[0mnmf_output_m\u001b[0m\u001b[0;34m,\u001b[0m \u001b[0mnmf_model_m\u001b[0m\u001b[0;34m,\u001b[0m \u001b[0mtfidf_vectorizer_m\u001b[0m\u001b[0;34m,\u001b[0m \u001b[0mtags_by_topics_m\u001b[0m \u001b[0;34m=\u001b[0m \u001b[0mfit_transform_NMF\u001b[0m\u001b[0;34m(\u001b[0m\u001b[0mx_train\u001b[0m\u001b[0;34m,\u001b[0m \u001b[0my_train\u001b[0m\u001b[0;34m,\u001b[0m \u001b[0mmin_df\u001b[0m\u001b[0;34m,\u001b[0m \u001b[0mmax_df\u001b[0m\u001b[0;34m,\u001b[0m \u001b[0mn_topics\u001b[0m\u001b[0;34m)\u001b[0m\u001b[0;34m\u001b[0m\u001b[0m\n\u001b[1;32m      5\u001b[0m             \u001b[0my_predicted_nmf\u001b[0m \u001b[0;34m=\u001b[0m \u001b[0mgetPostsTagsPrediction\u001b[0m\u001b[0;34m(\u001b[0m\u001b[0mx_test\u001b[0m\u001b[0;34m,\u001b[0m \u001b[0;36m5\u001b[0m\u001b[0;34m,\u001b[0m \u001b[0mtags_by_topics_m\u001b[0m\u001b[0;34m,\u001b[0m \u001b[0mtfidf_vectorizer_m\u001b[0m\u001b[0;34m,\u001b[0m \u001b[0mnmf_model_m\u001b[0m\u001b[0;34m,\u001b[0m \u001b[0mnmf_output_m\u001b[0m\u001b[0;34m)\u001b[0m\u001b[0;34m\u001b[0m\u001b[0m\n\u001b[0;32m----> 6\u001b[0;31m             \u001b[0mpredictionAccuracy\u001b[0m\u001b[0;34m(\u001b[0m\u001b[0my_predicted_nmf\u001b[0m\u001b[0;34m,\u001b[0m\u001b[0my_test\u001b[0m\u001b[0;34m)\u001b[0m\u001b[0;34m\u001b[0m\u001b[0m\n\u001b[0m",
      "\u001b[0;32m<ipython-input-29-d81ebf33f431>\u001b[0m in \u001b[0;36mpredictionAccuracy\u001b[0;34m(y_predicted, y_true)\u001b[0m\n\u001b[1;32m      9\u001b[0m         \u001b[0mnumber_tags_found\u001b[0m \u001b[0;34m=\u001b[0m \u001b[0;36m0\u001b[0m\u001b[0;34m\u001b[0m\u001b[0m\n\u001b[1;32m     10\u001b[0m         \u001b[0;32mfor\u001b[0m \u001b[0mt\u001b[0m \u001b[0;32min\u001b[0m \u001b[0mrow\u001b[0m\u001b[0;34m[\u001b[0m\u001b[0;34m'TAGS_P'\u001b[0m\u001b[0;34m]\u001b[0m \u001b[0;34m:\u001b[0m\u001b[0;34m\u001b[0m\u001b[0m\n\u001b[0;32m---> 11\u001b[0;31m             \u001b[0;32mif\u001b[0m \u001b[0mt\u001b[0m \u001b[0;32min\u001b[0m \u001b[0my_true\u001b[0m\u001b[0;34m.\u001b[0m\u001b[0mloc\u001b[0m\u001b[0;34m[\u001b[0m\u001b[0mindex\u001b[0m\u001b[0;34m]\u001b[0m\u001b[0;34m[\u001b[0m\u001b[0;34m'TAGS_P'\u001b[0m\u001b[0;34m]\u001b[0m \u001b[0;34m:\u001b[0m\u001b[0;34m\u001b[0m\u001b[0m\n\u001b[0m\u001b[1;32m     12\u001b[0m                 \u001b[0mnumber_tags_found\u001b[0m \u001b[0;34m+=\u001b[0m\u001b[0;36m1\u001b[0m\u001b[0;34m\u001b[0m\u001b[0m\n\u001b[1;32m     13\u001b[0m         \u001b[0mtags_found\u001b[0m\u001b[0;34m.\u001b[0m\u001b[0mappend\u001b[0m\u001b[0;34m(\u001b[0m\u001b[0mnumber_tags_found\u001b[0m\u001b[0;34m/\u001b[0m\u001b[0mlen\u001b[0m\u001b[0;34m(\u001b[0m\u001b[0my_true\u001b[0m\u001b[0;34m.\u001b[0m\u001b[0mloc\u001b[0m\u001b[0;34m[\u001b[0m\u001b[0mindex\u001b[0m\u001b[0;34m]\u001b[0m\u001b[0;34m[\u001b[0m\u001b[0;34m'TAGS_P'\u001b[0m\u001b[0;34m]\u001b[0m\u001b[0;34m)\u001b[0m\u001b[0;34m)\u001b[0m\u001b[0;34m\u001b[0m\u001b[0m\n",
      "\u001b[0;32m~/anaconda3/lib/python3.6/site-packages/pandas/core/indexing.py\u001b[0m in \u001b[0;36m__getitem__\u001b[0;34m(self, key)\u001b[0m\n\u001b[1;32m   1326\u001b[0m         \u001b[0;32melse\u001b[0m\u001b[0;34m:\u001b[0m\u001b[0;34m\u001b[0m\u001b[0m\n\u001b[1;32m   1327\u001b[0m             \u001b[0mkey\u001b[0m \u001b[0;34m=\u001b[0m \u001b[0mcom\u001b[0m\u001b[0;34m.\u001b[0m\u001b[0m_apply_if_callable\u001b[0m\u001b[0;34m(\u001b[0m\u001b[0mkey\u001b[0m\u001b[0;34m,\u001b[0m \u001b[0mself\u001b[0m\u001b[0;34m.\u001b[0m\u001b[0mobj\u001b[0m\u001b[0;34m)\u001b[0m\u001b[0;34m\u001b[0m\u001b[0m\n\u001b[0;32m-> 1328\u001b[0;31m             \u001b[0;32mreturn\u001b[0m \u001b[0mself\u001b[0m\u001b[0;34m.\u001b[0m\u001b[0m_getitem_axis\u001b[0m\u001b[0;34m(\u001b[0m\u001b[0mkey\u001b[0m\u001b[0;34m,\u001b[0m \u001b[0maxis\u001b[0m\u001b[0;34m=\u001b[0m\u001b[0;36m0\u001b[0m\u001b[0;34m)\u001b[0m\u001b[0;34m\u001b[0m\u001b[0m\n\u001b[0m\u001b[1;32m   1329\u001b[0m \u001b[0;34m\u001b[0m\u001b[0m\n\u001b[1;32m   1330\u001b[0m     \u001b[0;32mdef\u001b[0m \u001b[0m_is_scalar_access\u001b[0m\u001b[0;34m(\u001b[0m\u001b[0mself\u001b[0m\u001b[0;34m,\u001b[0m \u001b[0mkey\u001b[0m\u001b[0;34m)\u001b[0m\u001b[0;34m:\u001b[0m\u001b[0;34m\u001b[0m\u001b[0m\n",
      "\u001b[0;32m~/anaconda3/lib/python3.6/site-packages/pandas/core/indexing.py\u001b[0m in \u001b[0;36m_getitem_axis\u001b[0;34m(self, key, axis)\u001b[0m\n\u001b[1;32m   1550\u001b[0m         \u001b[0;31m# fall thru to straight lookup\u001b[0m\u001b[0;34m\u001b[0m\u001b[0;34m\u001b[0m\u001b[0m\n\u001b[1;32m   1551\u001b[0m         \u001b[0mself\u001b[0m\u001b[0;34m.\u001b[0m\u001b[0m_has_valid_type\u001b[0m\u001b[0;34m(\u001b[0m\u001b[0mkey\u001b[0m\u001b[0;34m,\u001b[0m \u001b[0maxis\u001b[0m\u001b[0;34m)\u001b[0m\u001b[0;34m\u001b[0m\u001b[0m\n\u001b[0;32m-> 1552\u001b[0;31m         \u001b[0;32mreturn\u001b[0m \u001b[0mself\u001b[0m\u001b[0;34m.\u001b[0m\u001b[0m_get_label\u001b[0m\u001b[0;34m(\u001b[0m\u001b[0mkey\u001b[0m\u001b[0;34m,\u001b[0m \u001b[0maxis\u001b[0m\u001b[0;34m=\u001b[0m\u001b[0maxis\u001b[0m\u001b[0;34m)\u001b[0m\u001b[0;34m\u001b[0m\u001b[0m\n\u001b[0m\u001b[1;32m   1553\u001b[0m \u001b[0;34m\u001b[0m\u001b[0m\n\u001b[1;32m   1554\u001b[0m \u001b[0;34m\u001b[0m\u001b[0m\n",
      "\u001b[0;32m~/anaconda3/lib/python3.6/site-packages/pandas/core/indexing.py\u001b[0m in \u001b[0;36m_get_label\u001b[0;34m(self, label, axis)\u001b[0m\n\u001b[1;32m    134\u001b[0m             \u001b[0;32mraise\u001b[0m \u001b[0mIndexingError\u001b[0m\u001b[0;34m(\u001b[0m\u001b[0;34m'no slices here, handle elsewhere'\u001b[0m\u001b[0;34m)\u001b[0m\u001b[0;34m\u001b[0m\u001b[0m\n\u001b[1;32m    135\u001b[0m \u001b[0;34m\u001b[0m\u001b[0m\n\u001b[0;32m--> 136\u001b[0;31m         \u001b[0;32mreturn\u001b[0m \u001b[0mself\u001b[0m\u001b[0;34m.\u001b[0m\u001b[0mobj\u001b[0m\u001b[0;34m.\u001b[0m\u001b[0m_xs\u001b[0m\u001b[0;34m(\u001b[0m\u001b[0mlabel\u001b[0m\u001b[0;34m,\u001b[0m \u001b[0maxis\u001b[0m\u001b[0;34m=\u001b[0m\u001b[0maxis\u001b[0m\u001b[0;34m)\u001b[0m\u001b[0;34m\u001b[0m\u001b[0m\n\u001b[0m\u001b[1;32m    137\u001b[0m \u001b[0;34m\u001b[0m\u001b[0m\n\u001b[1;32m    138\u001b[0m     \u001b[0;32mdef\u001b[0m \u001b[0m_get_loc\u001b[0m\u001b[0;34m(\u001b[0m\u001b[0mself\u001b[0m\u001b[0;34m,\u001b[0m \u001b[0mkey\u001b[0m\u001b[0;34m,\u001b[0m \u001b[0maxis\u001b[0m\u001b[0;34m=\u001b[0m\u001b[0;36m0\u001b[0m\u001b[0;34m)\u001b[0m\u001b[0;34m:\u001b[0m\u001b[0;34m\u001b[0m\u001b[0m\n",
      "\u001b[0;32m~/anaconda3/lib/python3.6/site-packages/pandas/core/generic.py\u001b[0m in \u001b[0;36mxs\u001b[0;34m(self, key, axis, level, drop_level)\u001b[0m\n\u001b[1;32m   2055\u001b[0m             result = self._constructor_sliced(\n\u001b[1;32m   2056\u001b[0m                 \u001b[0mnew_values\u001b[0m\u001b[0;34m,\u001b[0m \u001b[0mindex\u001b[0m\u001b[0;34m=\u001b[0m\u001b[0mself\u001b[0m\u001b[0;34m.\u001b[0m\u001b[0mcolumns\u001b[0m\u001b[0;34m,\u001b[0m\u001b[0;34m\u001b[0m\u001b[0m\n\u001b[0;32m-> 2057\u001b[0;31m                 name=self.index[loc], dtype=new_values.dtype)\n\u001b[0m\u001b[1;32m   2058\u001b[0m \u001b[0;34m\u001b[0m\u001b[0m\n\u001b[1;32m   2059\u001b[0m         \u001b[0;32melse\u001b[0m\u001b[0;34m:\u001b[0m\u001b[0;34m\u001b[0m\u001b[0m\n",
      "\u001b[0;32m~/anaconda3/lib/python3.6/site-packages/pandas/core/series.py\u001b[0m in \u001b[0;36m__init__\u001b[0;34m(self, data, index, dtype, name, copy, fastpath)\u001b[0m\n\u001b[1;32m    246\u001b[0m             \u001b[0;32melse\u001b[0m\u001b[0;34m:\u001b[0m\u001b[0;34m\u001b[0m\u001b[0m\n\u001b[1;32m    247\u001b[0m                 data = _sanitize_array(data, index, dtype, copy,\n\u001b[0;32m--> 248\u001b[0;31m                                        raise_cast_failure=True)\n\u001b[0m\u001b[1;32m    249\u001b[0m \u001b[0;34m\u001b[0m\u001b[0m\n\u001b[1;32m    250\u001b[0m                 \u001b[0mdata\u001b[0m \u001b[0;34m=\u001b[0m \u001b[0mSingleBlockManager\u001b[0m\u001b[0;34m(\u001b[0m\u001b[0mdata\u001b[0m\u001b[0;34m,\u001b[0m \u001b[0mindex\u001b[0m\u001b[0;34m,\u001b[0m \u001b[0mfastpath\u001b[0m\u001b[0;34m=\u001b[0m\u001b[0;32mTrue\u001b[0m\u001b[0;34m)\u001b[0m\u001b[0;34m\u001b[0m\u001b[0m\n",
      "\u001b[0;32m~/anaconda3/lib/python3.6/site-packages/pandas/core/series.py\u001b[0m in \u001b[0;36m_sanitize_array\u001b[0;34m(data, index, dtype, copy, raise_cast_failure)\u001b[0m\n\u001b[1;32m   2942\u001b[0m                     \u001b[0msubarr\u001b[0m \u001b[0;34m=\u001b[0m \u001b[0mdata\u001b[0m\u001b[0;34m.\u001b[0m\u001b[0mcopy\u001b[0m\u001b[0;34m(\u001b[0m\u001b[0;34m)\u001b[0m\u001b[0;34m\u001b[0m\u001b[0m\n\u001b[1;32m   2943\u001b[0m             \u001b[0;32melse\u001b[0m\u001b[0;34m:\u001b[0m\u001b[0;34m\u001b[0m\u001b[0m\n\u001b[0;32m-> 2944\u001b[0;31m                 \u001b[0msubarr\u001b[0m \u001b[0;34m=\u001b[0m \u001b[0m_try_cast\u001b[0m\u001b[0;34m(\u001b[0m\u001b[0mdata\u001b[0m\u001b[0;34m,\u001b[0m \u001b[0;32mTrue\u001b[0m\u001b[0;34m)\u001b[0m\u001b[0;34m\u001b[0m\u001b[0m\n\u001b[0m\u001b[1;32m   2945\u001b[0m         \u001b[0;32melif\u001b[0m \u001b[0misinstance\u001b[0m\u001b[0;34m(\u001b[0m\u001b[0mdata\u001b[0m\u001b[0;34m,\u001b[0m \u001b[0mIndex\u001b[0m\u001b[0;34m)\u001b[0m\u001b[0;34m:\u001b[0m\u001b[0;34m\u001b[0m\u001b[0m\n\u001b[1;32m   2946\u001b[0m             \u001b[0;31m# don't coerce Index types\u001b[0m\u001b[0;34m\u001b[0m\u001b[0;34m\u001b[0m\u001b[0m\n",
      "\u001b[0;32m~/anaconda3/lib/python3.6/site-packages/pandas/core/series.py\u001b[0m in \u001b[0;36m_try_cast\u001b[0;34m(arr, take_fast_path)\u001b[0m\n\u001b[1;32m   2918\u001b[0m         \u001b[0;32mtry\u001b[0m\u001b[0;34m:\u001b[0m\u001b[0;34m\u001b[0m\u001b[0m\n\u001b[1;32m   2919\u001b[0m             \u001b[0msubarr\u001b[0m \u001b[0;34m=\u001b[0m \u001b[0mmaybe_cast_to_datetime\u001b[0m\u001b[0;34m(\u001b[0m\u001b[0marr\u001b[0m\u001b[0;34m,\u001b[0m \u001b[0mdtype\u001b[0m\u001b[0;34m)\u001b[0m\u001b[0;34m\u001b[0m\u001b[0m\n\u001b[0;32m-> 2920\u001b[0;31m             \u001b[0;32mif\u001b[0m \u001b[0;32mnot\u001b[0m \u001b[0mis_extension_type\u001b[0m\u001b[0;34m(\u001b[0m\u001b[0msubarr\u001b[0m\u001b[0;34m)\u001b[0m\u001b[0;34m:\u001b[0m\u001b[0;34m\u001b[0m\u001b[0m\n\u001b[0m\u001b[1;32m   2921\u001b[0m                 \u001b[0msubarr\u001b[0m \u001b[0;34m=\u001b[0m \u001b[0mnp\u001b[0m\u001b[0;34m.\u001b[0m\u001b[0marray\u001b[0m\u001b[0;34m(\u001b[0m\u001b[0msubarr\u001b[0m\u001b[0;34m,\u001b[0m \u001b[0mdtype\u001b[0m\u001b[0;34m=\u001b[0m\u001b[0mdtype\u001b[0m\u001b[0;34m,\u001b[0m \u001b[0mcopy\u001b[0m\u001b[0;34m=\u001b[0m\u001b[0mcopy\u001b[0m\u001b[0;34m)\u001b[0m\u001b[0;34m\u001b[0m\u001b[0m\n\u001b[1;32m   2922\u001b[0m         \u001b[0;32mexcept\u001b[0m \u001b[0;34m(\u001b[0m\u001b[0mValueError\u001b[0m\u001b[0;34m,\u001b[0m \u001b[0mTypeError\u001b[0m\u001b[0;34m)\u001b[0m\u001b[0;34m:\u001b[0m\u001b[0;34m\u001b[0m\u001b[0m\n",
      "\u001b[0;32m~/anaconda3/lib/python3.6/site-packages/pandas/core/dtypes/common.py\u001b[0m in \u001b[0;36mis_extension_type\u001b[0;34m(arr)\u001b[0m\n\u001b[1;32m   1599\u001b[0m     \u001b[0;32mif\u001b[0m \u001b[0mis_categorical\u001b[0m\u001b[0;34m(\u001b[0m\u001b[0marr\u001b[0m\u001b[0;34m)\u001b[0m\u001b[0;34m:\u001b[0m\u001b[0;34m\u001b[0m\u001b[0m\n\u001b[1;32m   1600\u001b[0m         \u001b[0;32mreturn\u001b[0m \u001b[0;32mTrue\u001b[0m\u001b[0;34m\u001b[0m\u001b[0m\n\u001b[0;32m-> 1601\u001b[0;31m     \u001b[0;32melif\u001b[0m \u001b[0mis_sparse\u001b[0m\u001b[0;34m(\u001b[0m\u001b[0marr\u001b[0m\u001b[0;34m)\u001b[0m\u001b[0;34m:\u001b[0m\u001b[0;34m\u001b[0m\u001b[0m\n\u001b[0m\u001b[1;32m   1602\u001b[0m         \u001b[0;32mreturn\u001b[0m \u001b[0;32mTrue\u001b[0m\u001b[0;34m\u001b[0m\u001b[0m\n\u001b[1;32m   1603\u001b[0m     \u001b[0;32melif\u001b[0m \u001b[0mis_datetimetz\u001b[0m\u001b[0;34m(\u001b[0m\u001b[0marr\u001b[0m\u001b[0;34m)\u001b[0m\u001b[0;34m:\u001b[0m\u001b[0;34m\u001b[0m\u001b[0m\n",
      "\u001b[0;32m~/anaconda3/lib/python3.6/site-packages/pandas/core/dtypes/common.py\u001b[0m in \u001b[0;36mis_sparse\u001b[0;34m(arr)\u001b[0m\n\u001b[1;32m    145\u001b[0m     \"\"\"\n\u001b[1;32m    146\u001b[0m \u001b[0;34m\u001b[0m\u001b[0m\n\u001b[0;32m--> 147\u001b[0;31m     \u001b[0;32mreturn\u001b[0m \u001b[0misinstance\u001b[0m\u001b[0;34m(\u001b[0m\u001b[0marr\u001b[0m\u001b[0;34m,\u001b[0m \u001b[0;34m(\u001b[0m\u001b[0mABCSparseArray\u001b[0m\u001b[0;34m,\u001b[0m \u001b[0mABCSparseSeries\u001b[0m\u001b[0;34m)\u001b[0m\u001b[0;34m)\u001b[0m\u001b[0;34m\u001b[0m\u001b[0m\n\u001b[0m\u001b[1;32m    148\u001b[0m \u001b[0;34m\u001b[0m\u001b[0m\n\u001b[1;32m    149\u001b[0m \u001b[0;34m\u001b[0m\u001b[0m\n",
      "\u001b[0;32m~/anaconda3/lib/python3.6/site-packages/pandas/core/dtypes/generic.py\u001b[0m in \u001b[0;36m_check\u001b[0;34m(cls, inst)\u001b[0m\n\u001b[1;32m      7\u001b[0m     \u001b[0;34m@\u001b[0m\u001b[0mclassmethod\u001b[0m\u001b[0;34m\u001b[0m\u001b[0m\n\u001b[1;32m      8\u001b[0m     \u001b[0;32mdef\u001b[0m \u001b[0m_check\u001b[0m\u001b[0;34m(\u001b[0m\u001b[0mcls\u001b[0m\u001b[0;34m,\u001b[0m \u001b[0minst\u001b[0m\u001b[0;34m)\u001b[0m\u001b[0;34m:\u001b[0m\u001b[0;34m\u001b[0m\u001b[0m\n\u001b[0;32m----> 9\u001b[0;31m         \u001b[0;32mreturn\u001b[0m \u001b[0mgetattr\u001b[0m\u001b[0;34m(\u001b[0m\u001b[0minst\u001b[0m\u001b[0;34m,\u001b[0m \u001b[0mattr\u001b[0m\u001b[0;34m,\u001b[0m \u001b[0;34m'_typ'\u001b[0m\u001b[0;34m)\u001b[0m \u001b[0;32min\u001b[0m \u001b[0mcomp\u001b[0m\u001b[0;34m\u001b[0m\u001b[0m\n\u001b[0m\u001b[1;32m     10\u001b[0m \u001b[0;34m\u001b[0m\u001b[0m\n\u001b[1;32m     11\u001b[0m     \u001b[0mdct\u001b[0m \u001b[0;34m=\u001b[0m \u001b[0mdict\u001b[0m\u001b[0;34m(\u001b[0m\u001b[0m__instancecheck__\u001b[0m\u001b[0;34m=\u001b[0m\u001b[0m_check\u001b[0m\u001b[0;34m,\u001b[0m \u001b[0m__subclasscheck__\u001b[0m\u001b[0;34m=\u001b[0m\u001b[0m_check\u001b[0m\u001b[0;34m)\u001b[0m\u001b[0;34m\u001b[0m\u001b[0m\n",
      "\u001b[0;31mKeyboardInterrupt\u001b[0m: "
     ]
    }
   ],
   "source": [
    "for n_topics in num_topics :\n",
    "    for min_df in min_df_values :\n",
    "        for max_df in max_df_values :\n",
    "            nmf_output_m, nmf_model_m, tfidf_vectorizer_m, tags_by_topics_m = fit_transform_NMF(x_train, y_train, min_df, max_df, n_topics)\n",
    "            y_predicted_nmf = getPostsTagsPrediction(x_test, 5, tags_by_topics_m, tfidf_vectorizer_m, nmf_model_m, nmf_output_m)\n",
    "            predictionAccuracy(y_predicted_nmf,y_test)"
   ]
  },
  {
   "cell_type": "markdown",
   "metadata": {},
   "source": [
    "### Evaluation de la prédiction de notre sample de validation"
   ]
  },
  {
   "cell_type": "code",
   "execution_count": 124,
   "metadata": {},
   "outputs": [
    {
     "name": "stdout",
     "output_type": "stream",
     "text": [
      "[min_df:5 max_df:0.95 num_topics:20] "
     ]
    }
   ],
   "source": [
    "nmf_output, best_nmf_model, tfidf_vectorizer, tags_by_topics_nmf = fit_transform_NMF(x_train, y_train, 5, 0.95, 20)"
   ]
  },
  {
   "cell_type": "code",
   "execution_count": 125,
   "metadata": {},
   "outputs": [
    {
     "name": "stdout",
     "output_type": "stream",
     "text": [
      "Prediction accuracy: 27.25 % \n"
     ]
    }
   ],
   "source": [
    "y_predicted = getPostsTagsPrediction(x_validation, 5,tags_by_topics_nmf, tfidf_vectorizer, best_nmf_model, nmf_output)\n",
    "predictionAccuracy(y_predicted, y_validation)"
   ]
  },
  {
   "cell_type": "markdown",
   "metadata": {},
   "source": [
    "## 5.2 Ajustement du nombre de tags"
   ]
  },
  {
   "cell_type": "code",
   "execution_count": 129,
   "metadata": {},
   "outputs": [
    {
     "name": "stdout",
     "output_type": "stream",
     "text": [
      "3 tags : Prediction accuracy: 23.02 % \n",
      "4 tags : Prediction accuracy: 25.35 % \n",
      "5 tags : "
     ]
    },
    {
     "ename": "KeyboardInterrupt",
     "evalue": "",
     "output_type": "error",
     "traceback": [
      "\u001b[0;31m---------------------------------------------------------------------------\u001b[0m",
      "\u001b[0;31mKeyboardInterrupt\u001b[0m                         Traceback (most recent call last)",
      "\u001b[0;32m<ipython-input-129-d34275d70179>\u001b[0m in \u001b[0;36m<module>\u001b[0;34m()\u001b[0m\n\u001b[1;32m      2\u001b[0m \u001b[0;32mfor\u001b[0m \u001b[0mn\u001b[0m \u001b[0;32min\u001b[0m \u001b[0mnum_tags\u001b[0m \u001b[0;34m:\u001b[0m\u001b[0;34m\u001b[0m\u001b[0m\n\u001b[1;32m      3\u001b[0m     \u001b[0mprint\u001b[0m\u001b[0;34m(\u001b[0m\u001b[0;34m\"{} tags :\"\u001b[0m\u001b[0;34m.\u001b[0m\u001b[0mformat\u001b[0m\u001b[0;34m(\u001b[0m\u001b[0mn\u001b[0m\u001b[0;34m)\u001b[0m\u001b[0;34m,\u001b[0m \u001b[0mend\u001b[0m\u001b[0;34m=\u001b[0m\u001b[0;34m\" \"\u001b[0m\u001b[0;34m,\u001b[0m \u001b[0mflush\u001b[0m\u001b[0;34m=\u001b[0m\u001b[0;32mTrue\u001b[0m\u001b[0;34m)\u001b[0m\u001b[0;34m\u001b[0m\u001b[0m\n\u001b[0;32m----> 4\u001b[0;31m     \u001b[0my_predicted\u001b[0m \u001b[0;34m=\u001b[0m \u001b[0mgetPostsTagsPrediction\u001b[0m\u001b[0;34m(\u001b[0m\u001b[0mx_validation\u001b[0m\u001b[0;34m,\u001b[0m \u001b[0mn\u001b[0m\u001b[0;34m,\u001b[0m \u001b[0mtags_by_topics_nmf\u001b[0m\u001b[0;34m,\u001b[0m \u001b[0mtfidf_vectorizer\u001b[0m\u001b[0;34m,\u001b[0m \u001b[0mbest_nmf_model\u001b[0m\u001b[0;34m,\u001b[0m \u001b[0mnmf_output\u001b[0m\u001b[0;34m)\u001b[0m\u001b[0;34m\u001b[0m\u001b[0m\n\u001b[0m\u001b[1;32m      5\u001b[0m     \u001b[0mpredictionAccuracy\u001b[0m\u001b[0;34m(\u001b[0m\u001b[0my_predicted\u001b[0m\u001b[0;34m,\u001b[0m \u001b[0my_validation\u001b[0m\u001b[0;34m)\u001b[0m\u001b[0;34m\u001b[0m\u001b[0m\n",
      "\u001b[0;32m<ipython-input-28-1d3bad61b6c3>\u001b[0m in \u001b[0;36mgetPostsTagsPrediction\u001b[0;34m(posts_df, num_tag, tags_topics_matrix, vectorizer, tm_model, tm_output)\u001b[0m\n\u001b[1;32m      9\u001b[0m \u001b[0;32mdef\u001b[0m \u001b[0mgetPostsTagsPrediction\u001b[0m\u001b[0;34m(\u001b[0m\u001b[0mposts_df\u001b[0m\u001b[0;34m,\u001b[0m \u001b[0mnum_tag\u001b[0m\u001b[0;34m,\u001b[0m \u001b[0mtags_topics_matrix\u001b[0m\u001b[0;34m,\u001b[0m \u001b[0mvectorizer\u001b[0m\u001b[0;34m,\u001b[0m \u001b[0mtm_model\u001b[0m\u001b[0;34m,\u001b[0m \u001b[0mtm_output\u001b[0m\u001b[0;34m)\u001b[0m\u001b[0;34m:\u001b[0m\u001b[0;34m\u001b[0m\u001b[0m\n\u001b[1;32m     10\u001b[0m     y_predicted=posts_df.apply(lambda row: getTagsPrediction(row['TITLE_P'] + ' ' + row['BODY_P'], \n\u001b[0;32m---> 11\u001b[0;31m                                                              num_tag, tags_topics_matrix, vectorizer, tm_model),axis=1)\n\u001b[0m\u001b[1;32m     12\u001b[0m     \u001b[0my_predicted_df\u001b[0m \u001b[0;34m=\u001b[0m \u001b[0my_predicted\u001b[0m\u001b[0;34m.\u001b[0m\u001b[0mto_frame\u001b[0m\u001b[0;34m(\u001b[0m\u001b[0;34m)\u001b[0m\u001b[0;34m\u001b[0m\u001b[0m\n\u001b[1;32m     13\u001b[0m     \u001b[0my_predicted_df\u001b[0m\u001b[0;34m.\u001b[0m\u001b[0mcolumns\u001b[0m \u001b[0;34m=\u001b[0m \u001b[0;34m[\u001b[0m\u001b[0;34m'TAGS_P'\u001b[0m\u001b[0;34m]\u001b[0m\u001b[0;34m\u001b[0m\u001b[0m\n",
      "\u001b[0;32m~/anaconda3/lib/python3.6/site-packages/pandas/core/frame.py\u001b[0m in \u001b[0;36mapply\u001b[0;34m(self, func, axis, broadcast, raw, reduce, args, **kwds)\u001b[0m\n\u001b[1;32m   4260\u001b[0m                         \u001b[0mf\u001b[0m\u001b[0;34m,\u001b[0m \u001b[0maxis\u001b[0m\u001b[0;34m,\u001b[0m\u001b[0;34m\u001b[0m\u001b[0m\n\u001b[1;32m   4261\u001b[0m                         \u001b[0mreduce\u001b[0m\u001b[0;34m=\u001b[0m\u001b[0mreduce\u001b[0m\u001b[0;34m,\u001b[0m\u001b[0;34m\u001b[0m\u001b[0m\n\u001b[0;32m-> 4262\u001b[0;31m                         ignore_failures=ignore_failures)\n\u001b[0m\u001b[1;32m   4263\u001b[0m             \u001b[0;32melse\u001b[0m\u001b[0;34m:\u001b[0m\u001b[0;34m\u001b[0m\u001b[0m\n\u001b[1;32m   4264\u001b[0m                 \u001b[0;32mreturn\u001b[0m \u001b[0mself\u001b[0m\u001b[0;34m.\u001b[0m\u001b[0m_apply_broadcast\u001b[0m\u001b[0;34m(\u001b[0m\u001b[0mf\u001b[0m\u001b[0;34m,\u001b[0m \u001b[0maxis\u001b[0m\u001b[0;34m)\u001b[0m\u001b[0;34m\u001b[0m\u001b[0m\n",
      "\u001b[0;32m~/anaconda3/lib/python3.6/site-packages/pandas/core/frame.py\u001b[0m in \u001b[0;36m_apply_standard\u001b[0;34m(self, func, axis, ignore_failures, reduce)\u001b[0m\n\u001b[1;32m   4316\u001b[0m                     \u001b[0mlabels\u001b[0m \u001b[0;34m=\u001b[0m \u001b[0mself\u001b[0m\u001b[0;34m.\u001b[0m\u001b[0m_get_agg_axis\u001b[0m\u001b[0;34m(\u001b[0m\u001b[0maxis\u001b[0m\u001b[0;34m)\u001b[0m\u001b[0;34m\u001b[0m\u001b[0m\n\u001b[1;32m   4317\u001b[0m                     result = lib.reduce(values, func, axis=axis, dummy=dummy,\n\u001b[0;32m-> 4318\u001b[0;31m                                         labels=labels)\n\u001b[0m\u001b[1;32m   4319\u001b[0m                     \u001b[0;32mreturn\u001b[0m \u001b[0mSeries\u001b[0m\u001b[0;34m(\u001b[0m\u001b[0mresult\u001b[0m\u001b[0;34m,\u001b[0m \u001b[0mindex\u001b[0m\u001b[0;34m=\u001b[0m\u001b[0mlabels\u001b[0m\u001b[0;34m)\u001b[0m\u001b[0;34m\u001b[0m\u001b[0m\n\u001b[1;32m   4320\u001b[0m                 \u001b[0;32mexcept\u001b[0m \u001b[0mException\u001b[0m\u001b[0;34m:\u001b[0m\u001b[0;34m\u001b[0m\u001b[0m\n",
      "\u001b[0;32mpandas/_libs/src/reduce.pyx\u001b[0m in \u001b[0;36mpandas._libs.lib.reduce\u001b[0;34m()\u001b[0m\n",
      "\u001b[0;32mpandas/_libs/src/reduce.pyx\u001b[0m in \u001b[0;36mpandas._libs.lib.Reducer.get_result\u001b[0;34m()\u001b[0m\n",
      "\u001b[0;32m<ipython-input-28-1d3bad61b6c3>\u001b[0m in \u001b[0;36m<lambda>\u001b[0;34m(row)\u001b[0m\n\u001b[1;32m      9\u001b[0m \u001b[0;32mdef\u001b[0m \u001b[0mgetPostsTagsPrediction\u001b[0m\u001b[0;34m(\u001b[0m\u001b[0mposts_df\u001b[0m\u001b[0;34m,\u001b[0m \u001b[0mnum_tag\u001b[0m\u001b[0;34m,\u001b[0m \u001b[0mtags_topics_matrix\u001b[0m\u001b[0;34m,\u001b[0m \u001b[0mvectorizer\u001b[0m\u001b[0;34m,\u001b[0m \u001b[0mtm_model\u001b[0m\u001b[0;34m,\u001b[0m \u001b[0mtm_output\u001b[0m\u001b[0;34m)\u001b[0m\u001b[0;34m:\u001b[0m\u001b[0;34m\u001b[0m\u001b[0m\n\u001b[1;32m     10\u001b[0m     y_predicted=posts_df.apply(lambda row: getTagsPrediction(row['TITLE_P'] + ' ' + row['BODY_P'], \n\u001b[0;32m---> 11\u001b[0;31m                                                              num_tag, tags_topics_matrix, vectorizer, tm_model),axis=1)\n\u001b[0m\u001b[1;32m     12\u001b[0m     \u001b[0my_predicted_df\u001b[0m \u001b[0;34m=\u001b[0m \u001b[0my_predicted\u001b[0m\u001b[0;34m.\u001b[0m\u001b[0mto_frame\u001b[0m\u001b[0;34m(\u001b[0m\u001b[0;34m)\u001b[0m\u001b[0;34m\u001b[0m\u001b[0m\n\u001b[1;32m     13\u001b[0m     \u001b[0my_predicted_df\u001b[0m\u001b[0;34m.\u001b[0m\u001b[0mcolumns\u001b[0m \u001b[0;34m=\u001b[0m \u001b[0;34m[\u001b[0m\u001b[0;34m'TAGS_P'\u001b[0m\u001b[0;34m]\u001b[0m\u001b[0;34m\u001b[0m\u001b[0m\n",
      "\u001b[0;31mKeyboardInterrupt\u001b[0m: "
     ]
    }
   ],
   "source": [
    "num_tags = [3, 4, 5, 6, 7, 8]\n",
    "for n in num_tags :\n",
    "    print(\"{} tags :\".format(n), end=\" \", flush=True)\n",
    "    y_predicted = getPostsTagsPrediction(x_validation, n, tags_by_topics_nmf, tfidf_vectorizer, best_nmf_model, nmf_output)\n",
    "    predictionAccuracy(y_predicted, y_validation)"
   ]
  },
  {
   "cell_type": "markdown",
   "metadata": {},
   "source": [
    "## 5.3 Analyse"
   ]
  },
  {
   "cell_type": "markdown",
   "metadata": {},
   "source": [
    "### Topics / Words"
   ]
  },
  {
   "cell_type": "code",
   "execution_count": 130,
   "metadata": {},
   "outputs": [
    {
     "data": {
      "text/html": [
       "<div>\n",
       "<style>\n",
       "    .dataframe thead tr:only-child th {\n",
       "        text-align: right;\n",
       "    }\n",
       "\n",
       "    .dataframe thead th {\n",
       "        text-align: left;\n",
       "    }\n",
       "\n",
       "    .dataframe tbody tr th {\n",
       "        vertical-align: top;\n",
       "    }\n",
       "</style>\n",
       "<table border=\"1\" class=\"dataframe\">\n",
       "  <thead>\n",
       "    <tr style=\"text-align: right;\">\n",
       "      <th></th>\n",
       "      <th>Word 0</th>\n",
       "      <th>Word 1</th>\n",
       "      <th>Word 2</th>\n",
       "      <th>Word 3</th>\n",
       "      <th>Word 4</th>\n",
       "      <th>Word 5</th>\n",
       "      <th>Word 6</th>\n",
       "      <th>Word 7</th>\n",
       "      <th>Word 8</th>\n",
       "      <th>Word 9</th>\n",
       "      <th>Word 10</th>\n",
       "      <th>Word 11</th>\n",
       "    </tr>\n",
       "  </thead>\n",
       "  <tbody>\n",
       "    <tr>\n",
       "      <th>Topic 0</th>\n",
       "      <td>use</td>\n",
       "      <td>would</td>\n",
       "      <td>like</td>\n",
       "      <td>test</td>\n",
       "      <td>code</td>\n",
       "      <td>way</td>\n",
       "      <td>time</td>\n",
       "      <td>one</td>\n",
       "      <td>work</td>\n",
       "      <td>set</td>\n",
       "      <td>type</td>\n",
       "      <td>want</td>\n",
       "    </tr>\n",
       "    <tr>\n",
       "      <th>Topic 1</th>\n",
       "      <td>android</td>\n",
       "      <td>com</td>\n",
       "      <td>layout</td>\n",
       "      <td>support</td>\n",
       "      <td>app</td>\n",
       "      <td>compile</td>\n",
       "      <td>google</td>\n",
       "      <td>intent</td>\n",
       "      <td>studio</td>\n",
       "      <td>view</td>\n",
       "      <td>build</td>\n",
       "      <td>gradl</td>\n",
       "    </tr>\n",
       "    <tr>\n",
       "      <th>Topic 2</th>\n",
       "      <td>std</td>\n",
       "      <td>int</td>\n",
       "      <td>const</td>\n",
       "      <td>struct</td>\n",
       "      <td>type</td>\n",
       "      <td>include</td>\n",
       "      <td>cout</td>\n",
       "      <td>template</td>\n",
       "      <td>void</td>\n",
       "      <td>compil</td>\n",
       "      <td>typename</td>\n",
       "      <td>vector</td>\n",
       "    </tr>\n",
       "    <tr>\n",
       "      <th>Topic 3</th>\n",
       "      <td>div</td>\n",
       "      <td>class</td>\n",
       "      <td>button</td>\n",
       "      <td>form</td>\n",
       "      <td>span</td>\n",
       "      <td>id</td>\n",
       "      <td>input</td>\n",
       "      <td>html</td>\n",
       "      <td>label</td>\n",
       "      <td>ng</td>\n",
       "      <td>this</td>\n",
       "      <td>col</td>\n",
       "    </tr>\n",
       "    <tr>\n",
       "      <th>Topic 4</th>\n",
       "      <td>java</td>\n",
       "      <td>at</td>\n",
       "      <td>org</td>\n",
       "      <td>lang</td>\n",
       "      <td>com</td>\n",
       "      <td>internal</td>\n",
       "      <td>activitythread</td>\n",
       "      <td>apache</td>\n",
       "      <td>util</td>\n",
       "      <td>os</td>\n",
       "      <td>gradle</td>\n",
       "      <td>zygoteinit</td>\n",
       "    </tr>\n",
       "    <tr>\n",
       "      <th>Topic 5</th>\n",
       "      <td>angular</td>\n",
       "      <td>js</td>\n",
       "      <td>import</td>\n",
       "      <td>node</td>\n",
       "      <td>modul</td>\n",
       "      <td>ts</td>\n",
       "      <td>app</td>\n",
       "      <td>webpack</td>\n",
       "      <td>from</td>\n",
       "      <td>npm</td>\n",
       "      <td>cli</td>\n",
       "      <td>ng</td>\n",
       "    </tr>\n",
       "    <tr>\n",
       "      <th>Topic 6</th>\n",
       "      <td>px</td>\n",
       "      <td>width</td>\n",
       "      <td>height</td>\n",
       "      <td>color</td>\n",
       "      <td>background</td>\n",
       "      <td>style</td>\n",
       "      <td>text</td>\n",
       "      <td>border</td>\n",
       "      <td>css</td>\n",
       "      <td>imag</td>\n",
       "      <td>font</td>\n",
       "      <td>margin</td>\n",
       "    </tr>\n",
       "    <tr>\n",
       "      <th>Topic 7</th>\n",
       "      <td>list</td>\n",
       "      <td>item</td>\n",
       "      <td>li</td>\n",
       "      <td>element</td>\n",
       "      <td>map</td>\n",
       "      <td>sort</td>\n",
       "      <td>id</td>\n",
       "      <td>items</td>\n",
       "      <td>filter</td>\n",
       "      <td>in</td>\n",
       "      <td>stream</td>\n",
       "      <td>ul</td>\n",
       "    </tr>\n",
       "    <tr>\n",
       "      <th>Topic 8</th>\n",
       "      <td>net</td>\n",
       "      <td>project</td>\n",
       "      <td>studio</td>\n",
       "      <td>visual</td>\n",
       "      <td>core</td>\n",
       "      <td>asp</td>\n",
       "      <td>instal</td>\n",
       "      <td>version</td>\n",
       "      <td>microsoft</td>\n",
       "      <td>packag</td>\n",
       "      <td>nuget</td>\n",
       "      <td>vs</td>\n",
       "    </tr>\n",
       "    <tr>\n",
       "      <th>Topic 9</th>\n",
       "      <td>file</td>\n",
       "      <td>upload</td>\n",
       "      <td>folder</td>\n",
       "      <td>directori</td>\n",
       "      <td>path</td>\n",
       "      <td>git</td>\n",
       "      <td>json</td>\n",
       "      <td>open</td>\n",
       "      <td>read</td>\n",
       "      <td>files</td>\n",
       "      <td>download</td>\n",
       "      <td>js</td>\n",
       "    </tr>\n",
       "    <tr>\n",
       "      <th>Topic 10</th>\n",
       "      <td>react</td>\n",
       "      <td>nativ</td>\n",
       "      <td>compon</td>\n",
       "      <td>router</td>\n",
       "      <td>component</td>\n",
       "      <td>props</td>\n",
       "      <td>render</td>\n",
       "      <td>import</td>\n",
       "      <td>state</td>\n",
       "      <td>this</td>\n",
       "      <td>from</td>\n",
       "      <td>redux</td>\n",
       "    </tr>\n",
       "    <tr>\n",
       "      <th>Topic 11</th>\n",
       "      <td>python</td>\n",
       "      <td>py</td>\n",
       "      <td>import</td>\n",
       "      <td>self</td>\n",
       "      <td>lib</td>\n",
       "      <td>in</td>\n",
       "      <td>line</td>\n",
       "      <td>from</td>\n",
       "      <td>tf</td>\n",
       "      <td>print</td>\n",
       "      <td>tensorflow</td>\n",
       "      <td>packages</td>\n",
       "    </tr>\n",
       "    <tr>\n",
       "      <th>Topic 12</th>\n",
       "      <td>foo</td>\n",
       "      <td>bar</td>\n",
       "      <td>baz</td>\n",
       "      <td>struct</td>\n",
       "      <td>const</td>\n",
       "      <td>class</td>\n",
       "      <td>compil</td>\n",
       "      <td>enum</td>\n",
       "      <td>object</td>\n",
       "      <td>call</td>\n",
       "      <td>foobar</td>\n",
       "      <td>void</td>\n",
       "    </tr>\n",
       "    <tr>\n",
       "      <th>Topic 13</th>\n",
       "      <td>function</td>\n",
       "      <td>var</td>\n",
       "      <td>return</td>\n",
       "      <td>this</td>\n",
       "      <td>log</td>\n",
       "      <td>console</td>\n",
       "      <td>if</td>\n",
       "      <td>call</td>\n",
       "      <td>data</td>\n",
       "      <td>error</td>\n",
       "      <td>js</td>\n",
       "      <td>let</td>\n",
       "    </tr>\n",
       "    <tr>\n",
       "      <th>Topic 14</th>\n",
       "      <td>xcode</td>\n",
       "      <td>swift</td>\n",
       "      <td>error</td>\n",
       "      <td>io</td>\n",
       "      <td>app</td>\n",
       "      <td>build</td>\n",
       "      <td>self</td>\n",
       "      <td>simul</td>\n",
       "      <td>storyboard</td>\n",
       "      <td>let</td>\n",
       "      <td>project</td>\n",
       "      <td>beta</td>\n",
       "    </tr>\n",
       "    <tr>\n",
       "      <th>Topic 15</th>\n",
       "      <td>string</td>\n",
       "      <td>public</td>\n",
       "      <td>class</td>\n",
       "      <td>new</td>\n",
       "      <td>void</td>\n",
       "      <td>static</td>\n",
       "      <td>name</td>\n",
       "      <td>private</td>\n",
       "      <td>method</td>\n",
       "      <td>type</td>\n",
       "      <td>null</td>\n",
       "      <td>return</td>\n",
       "    </tr>\n",
       "    <tr>\n",
       "      <th>Topic 16</th>\n",
       "      <td>docker</td>\n",
       "      <td>contain</td>\n",
       "      <td>compos</td>\n",
       "      <td>run</td>\n",
       "      <td>imag</td>\n",
       "      <td>mysql</td>\n",
       "      <td>build</td>\n",
       "      <td>dockerfil</td>\n",
       "      <td>command</td>\n",
       "      <td>compose</td>\n",
       "      <td>yml</td>\n",
       "      <td>server</td>\n",
       "    </tr>\n",
       "    <tr>\n",
       "      <th>Topic 17</th>\n",
       "      <td>array</td>\n",
       "      <td>np</td>\n",
       "      <td>element</td>\n",
       "      <td>numpi</td>\n",
       "      <td>index</td>\n",
       "      <td>object</td>\n",
       "      <td>valu</td>\n",
       "      <td>size</td>\n",
       "      <td>int</td>\n",
       "      <td>key</td>\n",
       "      <td>numpy</td>\n",
       "      <td>loop</td>\n",
       "    </tr>\n",
       "    <tr>\n",
       "      <th>Topic 18</th>\n",
       "      <td>data</td>\n",
       "      <td>df</td>\n",
       "      <td>column</td>\n",
       "      <td>row</td>\n",
       "      <td>date</td>\n",
       "      <td>id</td>\n",
       "      <td>datafram</td>\n",
       "      <td>tabl</td>\n",
       "      <td>name</td>\n",
       "      <td>panda</td>\n",
       "      <td>valu</td>\n",
       "      <td>col</td>\n",
       "    </tr>\n",
       "    <tr>\n",
       "      <th>Topic 19</th>\n",
       "      <td>user</td>\n",
       "      <td>app</td>\n",
       "      <td>http</td>\n",
       "      <td>api</td>\n",
       "      <td>firebas</td>\n",
       "      <td>request</td>\n",
       "      <td>token</td>\n",
       "      <td>com</td>\n",
       "      <td>url</td>\n",
       "      <td>server</td>\n",
       "      <td>client</td>\n",
       "      <td>googl</td>\n",
       "    </tr>\n",
       "  </tbody>\n",
       "</table>\n",
       "</div>"
      ],
      "text/plain": [
       "            Word 0   Word 1   Word 2     Word 3      Word 4    Word 5  \\\n",
       "Topic 0        use    would     like       test        code       way   \n",
       "Topic 1    android      com   layout    support         app   compile   \n",
       "Topic 2        std      int    const     struct        type   include   \n",
       "Topic 3        div    class   button       form        span        id   \n",
       "Topic 4       java       at      org       lang         com  internal   \n",
       "Topic 5    angular       js   import       node       modul        ts   \n",
       "Topic 6         px    width   height      color  background     style   \n",
       "Topic 7       list     item       li    element         map      sort   \n",
       "Topic 8        net  project   studio     visual        core       asp   \n",
       "Topic 9       file   upload   folder  directori        path       git   \n",
       "Topic 10     react    nativ   compon     router   component     props   \n",
       "Topic 11    python       py   import       self         lib        in   \n",
       "Topic 12       foo      bar      baz     struct       const     class   \n",
       "Topic 13  function      var   return       this         log   console   \n",
       "Topic 14     xcode    swift    error         io         app     build   \n",
       "Topic 15    string   public    class        new        void    static   \n",
       "Topic 16    docker  contain   compos        run        imag     mysql   \n",
       "Topic 17     array       np  element      numpi       index    object   \n",
       "Topic 18      data       df   column        row        date        id   \n",
       "Topic 19      user      app     http        api     firebas   request   \n",
       "\n",
       "                  Word 6     Word 7      Word 8   Word 9     Word 10  \\\n",
       "Topic 0             time        one        work      set        type   \n",
       "Topic 1           google     intent      studio     view       build   \n",
       "Topic 2             cout   template        void   compil    typename   \n",
       "Topic 3            input       html       label       ng        this   \n",
       "Topic 4   activitythread     apache        util       os      gradle   \n",
       "Topic 5              app    webpack        from      npm         cli   \n",
       "Topic 6             text     border         css     imag        font   \n",
       "Topic 7               id      items      filter       in      stream   \n",
       "Topic 8           instal    version   microsoft   packag       nuget   \n",
       "Topic 9             json       open        read    files    download   \n",
       "Topic 10          render     import       state     this        from   \n",
       "Topic 11            line       from          tf    print  tensorflow   \n",
       "Topic 12          compil       enum      object     call      foobar   \n",
       "Topic 13              if       call        data    error          js   \n",
       "Topic 14            self      simul  storyboard      let     project   \n",
       "Topic 15            name    private      method     type        null   \n",
       "Topic 16           build  dockerfil     command  compose         yml   \n",
       "Topic 17            valu       size         int      key       numpy   \n",
       "Topic 18        datafram       tabl        name    panda        valu   \n",
       "Topic 19           token        com         url   server      client   \n",
       "\n",
       "             Word 11  \n",
       "Topic 0         want  \n",
       "Topic 1        gradl  \n",
       "Topic 2       vector  \n",
       "Topic 3          col  \n",
       "Topic 4   zygoteinit  \n",
       "Topic 5           ng  \n",
       "Topic 6       margin  \n",
       "Topic 7           ul  \n",
       "Topic 8           vs  \n",
       "Topic 9           js  \n",
       "Topic 10       redux  \n",
       "Topic 11    packages  \n",
       "Topic 12        void  \n",
       "Topic 13         let  \n",
       "Topic 14        beta  \n",
       "Topic 15      return  \n",
       "Topic 16      server  \n",
       "Topic 17        loop  \n",
       "Topic 18         col  \n",
       "Topic 19       googl  "
      ]
     },
     "metadata": {},
     "output_type": "display_data"
    }
   ],
   "source": [
    "showTopicsTopWords(best_nmf_model, tfidf_vectorizer.get_feature_names(), 12)"
   ]
  }
 ],
 "metadata": {
  "kernelspec": {
   "display_name": "Python 3",
   "language": "python",
   "name": "python3"
  },
  "language_info": {
   "codemirror_mode": {
    "name": "ipython",
    "version": 3
   },
   "file_extension": ".py",
   "mimetype": "text/x-python",
   "name": "python",
   "nbconvert_exporter": "python",
   "pygments_lexer": "ipython3",
   "version": "3.6.2"
  }
 },
 "nbformat": 4,
 "nbformat_minor": 2
}
