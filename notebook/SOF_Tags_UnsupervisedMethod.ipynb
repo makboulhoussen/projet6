{
 "cells": [
  {
   "cell_type": "markdown",
   "metadata": {},
   "source": [
    "# Projet 6 : Catégorisez automatiquement des questions\n",
    "# <u>B. Topic Modeling</u> <br/>"
   ]
  },
  {
   "cell_type": "markdown",
   "metadata": {},
   "source": [
    "# Le contexte\n",
    "\n",
    "Afin d'aider les utilisateurs de Stack Overflow dans leur soumission de question, nous devons mettre en place un système de suggestion de tags. Pour celà nous allons nous baser sur les techniques de machine learning capable en fonction du texte saisi par l'utilisateur de déterminer des tags pertinents.\n",
    "\n",
    "Dans ce notebook nous allons essayer des approches non supervisées."
   ]
  },
  {
   "cell_type": "code",
   "execution_count": 1,
   "metadata": {
    "collapsed": true
   },
   "outputs": [],
   "source": [
    "import numpy as np\n",
    "import pandas as pd\n",
    "import matplotlib.pyplot as plt\n",
    "\n",
    "from collections import Counter\n",
    "from time import time\n",
    "\n",
    "from bs4 import BeautifulSoup\n",
    "import unicodedata\n",
    "import re\n",
    "import string\n",
    "from nltk.corpus import stopwords\n",
    "from nltk.stem.porter import PorterStemmer\n",
    "from nltk.tokenize.toktok import ToktokTokenizer\n",
    "from contractions import CONTRACTION_MAP\n",
    "\n",
    "\n",
    "from sklearn import model_selection\n",
    "from sklearn.pipeline import Pipeline\n",
    "from sklearn.model_selection import GridSearchCV\n",
    "from sklearn.feature_extraction.text import TfidfVectorizer, CountVectorizer\n",
    "from sklearn.decomposition import NMF, LatentDirichletAllocation\n",
    "\n",
    "%matplotlib inline"
   ]
  },
  {
   "cell_type": "markdown",
   "metadata": {},
   "source": [
    "# 1. Chargement des données pré-traitées"
   ]
  },
  {
   "cell_type": "markdown",
   "metadata": {},
   "source": [
    "Nous allons charger les données qui ont été préalablement nettoyées et traitées."
   ]
  },
  {
   "cell_type": "code",
   "execution_count": 2,
   "metadata": {
    "collapsed": true
   },
   "outputs": [],
   "source": [
    "df = pd.read_csv('cleaned_data.csv')\n",
    "#replace NaN by empty string\n",
    "df = df.replace(np.nan, '', regex=True)"
   ]
  },
  {
   "cell_type": "code",
   "execution_count": 3,
   "metadata": {},
   "outputs": [
    {
     "data": {
      "text/plain": [
       "(64432, 7)"
      ]
     },
     "execution_count": 3,
     "metadata": {},
     "output_type": "execute_result"
    }
   ],
   "source": [
    "df.shape"
   ]
  },
  {
   "cell_type": "code",
   "execution_count": 4,
   "metadata": {},
   "outputs": [
    {
     "data": {
      "text/html": [
       "<div>\n",
       "<style>\n",
       "    .dataframe thead tr:only-child th {\n",
       "        text-align: right;\n",
       "    }\n",
       "\n",
       "    .dataframe thead th {\n",
       "        text-align: left;\n",
       "    }\n",
       "\n",
       "    .dataframe tbody tr th {\n",
       "        vertical-align: top;\n",
       "    }\n",
       "</style>\n",
       "<table border=\"1\" class=\"dataframe\">\n",
       "  <thead>\n",
       "    <tr style=\"text-align: right;\">\n",
       "      <th></th>\n",
       "      <th>TITLE</th>\n",
       "      <th>BODY</th>\n",
       "      <th>SCORE</th>\n",
       "      <th>TAGS</th>\n",
       "      <th>TITLE_P</th>\n",
       "      <th>BODY_P</th>\n",
       "      <th>TAGS_P</th>\n",
       "    </tr>\n",
       "  </thead>\n",
       "  <tbody>\n",
       "    <tr>\n",
       "      <th>0</th>\n",
       "      <td>Java generics variable &lt;T&gt; value</td>\n",
       "      <td>&lt;p&gt;At the moment I am using the following code...</td>\n",
       "      <td>6</td>\n",
       "      <td>&lt;java&gt;&lt;generics&gt;</td>\n",
       "      <td>java gener variabl valu</td>\n",
       "      <td>moment use follow code filter jpa reduc block ...</td>\n",
       "      <td>['java', 'generics']</td>\n",
       "    </tr>\n",
       "    <tr>\n",
       "      <th>1</th>\n",
       "      <td>How a value typed variable is copied when it i...</td>\n",
       "      <td>&lt;blockquote&gt;\\n  &lt;p&gt;Swift's string type is a va...</td>\n",
       "      <td>6</td>\n",
       "      <td>&lt;swift&gt;&lt;function&gt;&lt;value-type&gt;</td>\n",
       "      <td>valu type variabl copi pass function hold copi</td>\n",
       "      <td>swift string type valu type creat new string v...</td>\n",
       "      <td>['swift', 'function', 'value-type']</td>\n",
       "    </tr>\n",
       "    <tr>\n",
       "      <th>2</th>\n",
       "      <td>Error while waiting for device: The emulator p...</td>\n",
       "      <td>&lt;p&gt;I am a freshman for the development of the ...</td>\n",
       "      <td>6</td>\n",
       "      <td>&lt;android&gt;&lt;android-studio&gt;&lt;android-emulator&gt;&lt;avd&gt;</td>\n",
       "      <td>error wait devic emul process avd kill</td>\n",
       "      <td>freshman develop andriod suffer odd question r...</td>\n",
       "      <td>['android', 'android-studio', 'android-emulato...</td>\n",
       "    </tr>\n",
       "    <tr>\n",
       "      <th>3</th>\n",
       "      <td>gulp-inject not working with gulp-watch</td>\n",
       "      <td>&lt;p&gt;I am using gulp-inject to auto add SASS imp...</td>\n",
       "      <td>10</td>\n",
       "      <td>&lt;javascript&gt;&lt;node.js&gt;&lt;npm&gt;&lt;gulp&gt;&lt;gulp-watch&gt;</td>\n",
       "      <td>gulp inject work gulp watch</td>\n",
       "      <td>use gulp inject auto add sass import newli cre...</td>\n",
       "      <td>['javascript', 'node.js', 'npm', 'gulp', 'gulp...</td>\n",
       "    </tr>\n",
       "    <tr>\n",
       "      <th>4</th>\n",
       "      <td>React - Call function on props change</td>\n",
       "      <td>&lt;p&gt;My TranslationDetail component is passed an...</td>\n",
       "      <td>12</td>\n",
       "      <td>&lt;reactjs&gt;&lt;react-router&gt;</td>\n",
       "      <td>react call function prop chang</td>\n",
       "      <td>translationdetail compon pass id upon open bas...</td>\n",
       "      <td>['reactjs', 'react-router']</td>\n",
       "    </tr>\n",
       "  </tbody>\n",
       "</table>\n",
       "</div>"
      ],
      "text/plain": [
       "                                               TITLE  \\\n",
       "0                   Java generics variable <T> value   \n",
       "1  How a value typed variable is copied when it i...   \n",
       "2  Error while waiting for device: The emulator p...   \n",
       "3            gulp-inject not working with gulp-watch   \n",
       "4              React - Call function on props change   \n",
       "\n",
       "                                                BODY  SCORE  \\\n",
       "0  <p>At the moment I am using the following code...      6   \n",
       "1  <blockquote>\\n  <p>Swift's string type is a va...      6   \n",
       "2  <p>I am a freshman for the development of the ...      6   \n",
       "3  <p>I am using gulp-inject to auto add SASS imp...     10   \n",
       "4  <p>My TranslationDetail component is passed an...     12   \n",
       "\n",
       "                                               TAGS  \\\n",
       "0                                  <java><generics>   \n",
       "1                     <swift><function><value-type>   \n",
       "2  <android><android-studio><android-emulator><avd>   \n",
       "3      <javascript><node.js><npm><gulp><gulp-watch>   \n",
       "4                           <reactjs><react-router>   \n",
       "\n",
       "                                          TITLE_P  \\\n",
       "0                         java gener variabl valu   \n",
       "1  valu type variabl copi pass function hold copi   \n",
       "2          error wait devic emul process avd kill   \n",
       "3                     gulp inject work gulp watch   \n",
       "4                  react call function prop chang   \n",
       "\n",
       "                                              BODY_P  \\\n",
       "0  moment use follow code filter jpa reduc block ...   \n",
       "1  swift string type valu type creat new string v...   \n",
       "2  freshman develop andriod suffer odd question r...   \n",
       "3  use gulp inject auto add sass import newli cre...   \n",
       "4  translationdetail compon pass id upon open bas...   \n",
       "\n",
       "                                              TAGS_P  \n",
       "0                               ['java', 'generics']  \n",
       "1                ['swift', 'function', 'value-type']  \n",
       "2  ['android', 'android-studio', 'android-emulato...  \n",
       "3  ['javascript', 'node.js', 'npm', 'gulp', 'gulp...  \n",
       "4                        ['reactjs', 'react-router']  "
      ]
     },
     "execution_count": 4,
     "metadata": {},
     "output_type": "execute_result"
    }
   ],
   "source": [
    "df.head()"
   ]
  },
  {
   "cell_type": "code",
   "execution_count": 5,
   "metadata": {},
   "outputs": [
    {
     "data": {
      "text/plain": [
       "TITLE      object\n",
       "BODY       object\n",
       "SCORE       int64\n",
       "TAGS       object\n",
       "TITLE_P    object\n",
       "BODY_P     object\n",
       "TAGS_P     object\n",
       "dtype: object"
      ]
     },
     "execution_count": 5,
     "metadata": {},
     "output_type": "execute_result"
    }
   ],
   "source": [
    "df.dtypes"
   ]
  },
  {
   "cell_type": "markdown",
   "metadata": {},
   "source": [
    "La colonne TAGS_P est interprétée comme un chaîne de caractères. On va la forcer à être vue comme une list, ce qui sera plus simple pour les traitements."
   ]
  },
  {
   "cell_type": "code",
   "execution_count": 6,
   "metadata": {
    "collapsed": true
   },
   "outputs": [],
   "source": [
    "from ast import literal_eval\n",
    "df['TAGS_P'] = df['TAGS_P'].apply(literal_eval)"
   ]
  },
  {
   "cell_type": "markdown",
   "metadata": {},
   "source": [
    "# 2. Préparation des données"
   ]
  },
  {
   "cell_type": "markdown",
   "metadata": {},
   "source": [
    "## 2.1 Echantillonage"
   ]
  },
  {
   "cell_type": "markdown",
   "metadata": {},
   "source": [
    "Nous avons plus de 64 000 posts. Nous allons nous concentrer sur un échantillon de 20 000 posts."
   ]
  },
  {
   "cell_type": "code",
   "execution_count": 7,
   "metadata": {
    "collapsed": true
   },
   "outputs": [],
   "source": [
    "df_sample = df.sample(20000)"
   ]
  },
  {
   "cell_type": "code",
   "execution_count": 8,
   "metadata": {},
   "outputs": [
    {
     "data": {
      "text/plain": [
       "(20000, 7)"
      ]
     },
     "execution_count": 8,
     "metadata": {},
     "output_type": "execute_result"
    }
   ],
   "source": [
    "df_sample.shape"
   ]
  },
  {
   "cell_type": "markdown",
   "metadata": {},
   "source": [
    "Séparons nos données pour garder 5000 posts pour la validation de nos modèles. <br/>\n",
    "Nous utiliserons les 15 000 autres lignes pour faire l'apprentissage."
   ]
  },
  {
   "cell_type": "code",
   "execution_count": 9,
   "metadata": {
    "collapsed": true
   },
   "outputs": [],
   "source": [
    "df_learn = df_sample.iloc[5000:, :].copy()\n",
    "df_validation = df_sample.iloc[:5000, :].copy()"
   ]
  },
  {
   "cell_type": "code",
   "execution_count": 10,
   "metadata": {},
   "outputs": [
    {
     "data": {
      "text/plain": [
       "(15000, 7)"
      ]
     },
     "metadata": {},
     "output_type": "display_data"
    },
    {
     "data": {
      "text/plain": [
       "(5000, 7)"
      ]
     },
     "metadata": {},
     "output_type": "display_data"
    }
   ],
   "source": [
    "display(df_learn.shape)\n",
    "display(df_validation.shape)"
   ]
  },
  {
   "cell_type": "markdown",
   "metadata": {},
   "source": [
    "** Analysons le nombre de mots que contient ce corpus (entrainement).**"
   ]
  },
  {
   "cell_type": "code",
   "execution_count": 11,
   "metadata": {},
   "outputs": [
    {
     "data": {
      "text/plain": [
       "89372"
      ]
     },
     "execution_count": 11,
     "metadata": {},
     "output_type": "execute_result"
    }
   ],
   "source": [
    "my_counter = Counter()\n",
    "for sentence in df_learn['TITLE_P']:\n",
    "    my_counter.update(sentence.split())\n",
    "for sentence in df_learn['BODY_P']:\n",
    "    my_counter.update(sentence.split())\n",
    "len(my_counter)"
   ]
  },
  {
   "cell_type": "markdown",
   "metadata": {},
   "source": [
    "=> Notre corpus est composé de près de **90 000 mots.**"
   ]
  },
  {
   "cell_type": "markdown",
   "metadata": {},
   "source": [
    "## 2.2 Filtre sur les tags les plus fréquents"
   ]
  },
  {
   "cell_type": "markdown",
   "metadata": {},
   "source": [
    "Regardons déjà dans un premier temps le nombre d'occurences par tag dans notre dataset complet."
   ]
  },
  {
   "cell_type": "code",
   "execution_count": 12,
   "metadata": {
    "collapsed": true
   },
   "outputs": [],
   "source": [
    "counts = Counter()\n",
    "for tags_list in df['TAGS_P']:\n",
    "    counts.update(tags_list)\n",
    "tags_df = pd.DataFrame.from_dict(counts, orient='index')\n",
    "tags_df.reset_index(drop = False, inplace = True)\n",
    "tags_df= tags_df.rename(columns={'index':'tag', 0:'count'})"
   ]
  },
  {
   "cell_type": "markdown",
   "metadata": {},
   "source": [
    "La structures **tags_df** contient pour chacun des tags son occurence. <br/>\n",
    "Gardons que les tags qui sont présents dans au moins 10 documents."
   ]
  },
  {
   "cell_type": "code",
   "execution_count": 13,
   "metadata": {},
   "outputs": [
    {
     "data": {
      "text/plain": [
       "2114"
      ]
     },
     "execution_count": 13,
     "metadata": {},
     "output_type": "execute_result"
    }
   ],
   "source": [
    "len(tags_df[tags_df['count'] > 10])"
   ]
  },
  {
   "cell_type": "markdown",
   "metadata": {},
   "source": [
    "Nous nous retrouvons donc avec un peu plus de 2100 tags (14000 tags dans le dataset original)."
   ]
  },
  {
   "cell_type": "markdown",
   "metadata": {},
   "source": [
    "- Filtrons maintenant notre sample en ne gardant que les posts contenant les tags les plus fréquents."
   ]
  },
  {
   "cell_type": "code",
   "execution_count": 14,
   "metadata": {
    "collapsed": true
   },
   "outputs": [],
   "source": [
    "frequent_tags = tags_df[tags_df['count'] > 10]['tag'].tolist()"
   ]
  },
  {
   "cell_type": "markdown",
   "metadata": {},
   "source": [
    "**frequent_tags** est la structure contenant les tags les plus présents."
   ]
  },
  {
   "cell_type": "code",
   "execution_count": 15,
   "metadata": {
    "collapsed": true
   },
   "outputs": [],
   "source": [
    "df_learn['TAGS_P'] = df_learn['TAGS_P'].apply(lambda x: [w for w in x if w in frequent_tags] )\n",
    "# On supprime les lignes qui n'ont plus de tags associés (car aucun n'est présent dans la liste frequent_tags)\n",
    "df_learn = df_learn[df_learn.astype(str)['TAGS_P'] != '[]']"
   ]
  },
  {
   "cell_type": "code",
   "execution_count": 16,
   "metadata": {},
   "outputs": [
    {
     "data": {
      "text/plain": [
       "(14861, 7)"
      ]
     },
     "execution_count": 16,
     "metadata": {},
     "output_type": "execute_result"
    }
   ],
   "source": [
    "df_learn.shape"
   ]
  },
  {
   "cell_type": "markdown",
   "metadata": {},
   "source": [
    "Notre dataset contient maintenant uniquement les posts avec tags fréquents."
   ]
  },
  {
   "cell_type": "markdown",
   "metadata": {},
   "source": [
    "## 2.3 Découpage en jeu d'entrainement et test"
   ]
  },
  {
   "cell_type": "markdown",
   "metadata": {},
   "source": [
    "Découpons nos données en jeu d'entrainement et jeu de test pour nos algorithmes d'apprentissage.<br/>\n",
    "Nous gardons les colonnes titre et body."
   ]
  },
  {
   "cell_type": "code",
   "execution_count": 17,
   "metadata": {
    "collapsed": true
   },
   "outputs": [],
   "source": [
    "X = df_learn[['TITLE', 'BODY','TITLE_P', 'BODY_P']]\n",
    "Y = df_learn[['TAGS_P']]"
   ]
  },
  {
   "cell_type": "markdown",
   "metadata": {},
   "source": [
    "- 70% des données pour entrainement et 30% pour les tests."
   ]
  },
  {
   "cell_type": "code",
   "execution_count": 18,
   "metadata": {
    "collapsed": true
   },
   "outputs": [],
   "source": [
    "x_train, x_test, y_train, y_test = model_selection.train_test_split(X,Y,test_size = 0.3,random_state = 0, shuffle = True)"
   ]
  },
  {
   "cell_type": "code",
   "execution_count": 19,
   "metadata": {},
   "outputs": [
    {
     "name": "stdout",
     "output_type": "stream",
     "text": [
      "train (10402, 4)\n",
      "test  (4459, 4)\n"
     ]
    }
   ],
   "source": [
    "print(\"train\", x_train.shape)\n",
    "print(\"test \",x_test.shape)"
   ]
  },
  {
   "cell_type": "markdown",
   "metadata": {},
   "source": [
    "# 3. Préparation pour le topic modeling"
   ]
  },
  {
   "cell_type": "markdown",
   "metadata": {},
   "source": [
    "## 3.1 Matrice Topics / Words"
   ]
  },
  {
   "cell_type": "markdown",
   "metadata": {},
   "source": [
    "Ecrivons une méthode réutilisable qui affiche pour un modèle de topic modeling donné, la matrice Topics/Words"
   ]
  },
  {
   "cell_type": "code",
   "execution_count": 20,
   "metadata": {
    "collapsed": true
   },
   "outputs": [],
   "source": [
    "def getTopicsWordsMatrix(model, features_name) :\n",
    "    # liste des topics\n",
    "    topicnames = [\"Topic\" + str(i) for i in range(model.n_components)]\n",
    "\n",
    "    # Topic-Keyword Matrice\n",
    "    df_topic_keywords = pd.DataFrame(model.components_)\n",
    "    df_topic_keywords.columns = features_name\n",
    "    df_topic_keywords.index = topicnames\n",
    "\n",
    "    return df_topic_keywords"
   ]
  },
  {
   "cell_type": "code",
   "execution_count": 21,
   "metadata": {
    "collapsed": true
   },
   "outputs": [],
   "source": [
    "'''\n",
    "Méthode qui retourne pour chacun des topics le top \"n_words\" mots\n",
    "@param feature_names : les features de nos données\n",
    "@param tp_model : le model utilisé pour le topic modeling\n",
    "@param n_words : top nombre de mots\n",
    "'''\n",
    "def showTopicsTopWords(tp_model, feature_names, n_words=10):\n",
    "    keywords = np.array(feature_names)\n",
    "    topic_keywords = []\n",
    "    for topic_weights in tp_model.components_:\n",
    "        top_keyword_locs = (-topic_weights).argsort()[:n_words]\n",
    "        topic_keywords.append(keywords.take(top_keyword_locs))\n",
    "    df_topic_keywords = pd.DataFrame(topic_keywords)\n",
    "    df_topic_keywords.columns = ['Word '+str(i) for i in range(df_topic_keywords.shape[1])]\n",
    "    df_topic_keywords.index = ['Topic '+str(i) for i in range(df_topic_keywords.shape[0])]\n",
    "    display(df_topic_keywords)"
   ]
  },
  {
   "cell_type": "markdown",
   "metadata": {},
   "source": [
    "## 3.2 Matrice Docs / Topics"
   ]
  },
  {
   "cell_type": "markdown",
   "metadata": {},
   "source": [
    "Méthode qui retourne la matrice documents / topics suite à l'apprentissage de type topic modeling."
   ]
  },
  {
   "cell_type": "code",
   "execution_count": 22,
   "metadata": {
    "collapsed": true
   },
   "outputs": [],
   "source": [
    "'''\n",
    "    Retourne la matrice qui indique la pertinence des topics pour chacun des documents de notre jeu de données.\n",
    "'''\n",
    "def getDocsTopicsMatrix(df_docs, model, model_output):\n",
    "    # id des posts\n",
    "    docnames = [\"Doc\" + str(i) for i in range(len(df_docs))]\n",
    "    # id des topics\n",
    "    topicnames = [\"Topic\" + str(i) for i in range(model.n_components)]\n",
    "    # On crée un dataframe\n",
    "    df_document_topic = pd.DataFrame(np.round(model_output, 4), columns=topicnames, index=docnames)\n",
    "    # On rajoute une colonne contenant le numéro du topic prédominant\n",
    "    dominant_topic = np.argmax(df_document_topic.values, axis=1)\n",
    "    df_document_topic['Dominant_Topic'] = dominant_topic\n",
    "    return df_document_topic"
   ]
  },
  {
   "cell_type": "code",
   "execution_count": 23,
   "metadata": {
    "collapsed": true
   },
   "outputs": [],
   "source": [
    "'''\n",
    "Affiche pour chacun des topics, le top n documents qui sont les plus pertinent pour ce topic.\n",
    "On affiche pour chacun des documents le titre mais également les tags associés.\n",
    "@topics_words : word_to_topics result\n",
    "@model_output : topics_to_docs model output\n",
    "'''\n",
    "def showTopicsTopDocs(topic_word_dist, model_output, feature_names, documents, targets, no_top_words, no_top_documents):\n",
    "    for topic_idx, topic in enumerate(topic_word_dist):\n",
    "        print (\"Topic %d : \" % (topic_idx) + \" \".join([feature_names[i]\n",
    "                        for i in topic.argsort()[:-no_top_words - 1:-1]]))\n",
    "        top_doc_indices = np.argsort( model_output[:,topic_idx] )[::-1][0:no_top_documents]\n",
    "        for doc_index in top_doc_indices:\n",
    "            print (\"Doc\",doc_index,\" Title:\", documents.iloc[doc_index].TITLE[0:60],\n",
    "                   \"- Tags:\", targets.iloc[doc_index].TAGS_P)\n",
    "        print(\"\")"
   ]
  },
  {
   "cell_type": "markdown",
   "metadata": {},
   "source": [
    "## 3.3 Prédiction des tags"
   ]
  },
  {
   "cell_type": "markdown",
   "metadata": {},
   "source": [
    "Pour nous aider à faire nos prédictions, nous allons construire une matrice tags par topic.<br/>\n",
    "Pour la construire, nous allons :\n",
    "- Pour chaque tag_i et chaque topic_j\n",
    "    - Sommer la probabilité d’appartenance au topic_j des documents contenant le tag_i. \n",
    "    - Nous allons normaliser cette somme en faisant une moyenne sur le nombre de documents qui contiennent le tag_i"
   ]
  },
  {
   "cell_type": "markdown",
   "metadata": {},
   "source": [
    "|         | tag_1 | tag_2 | ... |tag_m | \n",
    "|---------|-------|-------|-----|------|\n",
    "| **topic_1**  |  xxx  | xxx   | ... | xxx  | \n",
    "|**topic_2** |  xxx  | xxx   | ... | xxx  | \n",
    "|...      |  xxx  | xxx   | ... | xxx  |\n",
    "|**topic_n**      |  xxx  | xxx   | ... | xxx  |\n",
    "\n"
   ]
  },
  {
   "cell_type": "markdown",
   "metadata": {},
   "source": [
    "- Commençons par écrire une méthode qui donne la liste des indexes des documents qui contiennent un tag donné."
   ]
  },
  {
   "cell_type": "code",
   "execution_count": 24,
   "metadata": {
    "collapsed": true
   },
   "outputs": [],
   "source": [
    "'''\n",
    "Retourne un dictionnaire contenant pour chacun des tags (parmi les plus fréquents)\n",
    "les positions des documents contenant ce tag.\n",
    "Attention il s'agit de la position et non de l'index.\n",
    "'''\n",
    "def getDocumentsByTags(df_docs_tags) :\n",
    "    documents_by_tags = {}\n",
    "    for tag in frequent_tags :\n",
    "        doc_indexes = df_docs_tags[df_docs_tags['TAGS_P'].apply(lambda x: True  if tag in x else False)].index.values\n",
    "        docs_pos = [(lambda x: df_docs_tags.index.get_loc(x))(x) for x in doc_indexes]\n",
    "        documents_by_tags[tag] = docs_pos\n",
    "    return documents_by_tags"
   ]
  },
  {
   "cell_type": "markdown",
   "metadata": {},
   "source": [
    "- Construisons maintenant notre matrice Tags / Topics"
   ]
  },
  {
   "cell_type": "code",
   "execution_count": 25,
   "metadata": {
    "collapsed": true
   },
   "outputs": [],
   "source": [
    "'''\n",
    "@topics_modeling_algo : le modèle.\n",
    "@ df_docs_tags : les données contenant les tags associés à chacun des documents.\n",
    "'''\n",
    "def buildTagByTopicsMatrix(tm_algo, tm_output, df_docs_tags) :\n",
    "    documents_by_tags = getDocumentsByTags(df_docs_tags)\n",
    "    tag_by_topics_ = np.zeros([tm_algo.n_components,len(frequent_tags)])\n",
    "    for topic_idx in range(tm_algo.n_components):\n",
    "        for tag_idx, tag in enumerate(frequent_tags):\n",
    "            docs_pos = documents_by_tags[tag]\n",
    "            topic_score = 0\n",
    "            for d in docs_pos :\n",
    "                topic_score += tm_output[d][topic_idx]\n",
    "                if topic_score > 0 :\n",
    "                    #tag_by_topics_[topic_idx][tag_idx]=topic_score/len(docs_pos)\n",
    "                    tag_by_topics_[topic_idx][tag_idx]=topic_score\n",
    "    return tag_by_topics_"
   ]
  },
  {
   "cell_type": "markdown",
   "metadata": {},
   "source": [
    "### Tags prédiction"
   ]
  },
  {
   "cell_type": "markdown",
   "metadata": {},
   "source": [
    "- Méthode qui va chercher dans la matrice tags/topics, les tags les plus pertinent pour un post.<br/>\n",
    "Elle va d'abord déterminer les probabilité de chaque topic pour le post puis rechercher les tags les plus pertinents."
   ]
  },
  {
   "cell_type": "code",
   "execution_count": 26,
   "metadata": {
    "collapsed": true
   },
   "outputs": [],
   "source": [
    "'''\n",
    "Retourne la liste de n tags les plus pertinents pour le post donné.\n",
    "Se base pour celà de la matrice tags par topics.\n",
    "'''\n",
    "def getTagsPrediction(post_text, num_tags, tag_topics_matrix, vectorizer, tm_model ) :\n",
    "    # On  vectorize le texte \n",
    "    text_vectorized = vectorizer.transform([post_text])\n",
    "    topic_probability_scores = tm_model.transform(text_vectorized)\n",
    "    \n",
    "    # On multiple les topics prédits par le modèle par notre matrice tags/topics. \n",
    "    #On aura ainsi un score pour chacun des tags\n",
    "    tags_result = topic_probability_scores.dot(tag_topics_matrix)\n",
    "    # Récupérons maintenant les tags qui ont le meilleur score.\n",
    "    best_tags_indices = np.argsort(-tags_result[0])[:num_tags]\n",
    "    best_tags = [frequent_tags[index] for index in best_tags_indices]\n",
    "    return best_tags"
   ]
  },
  {
   "cell_type": "markdown",
   "metadata": {},
   "source": [
    "- Prédiction pour une série de posts."
   ]
  },
  {
   "cell_type": "code",
   "execution_count": 27,
   "metadata": {
    "collapsed": true
   },
   "outputs": [],
   "source": [
    "'''\n",
    "Retourne un dataframe contenant les prédictions de tags pour les posts contenant dans posts_df\n",
    "@ post_df : le dataframe contenant les posts (title_p / body_p)\n",
    "@ num_tag : le nombre de tags à prédire\n",
    "@ t_by_topics : la matrice tags/topics utilisée pour la prédiction\n",
    "@ vectorizer : convertisseur à utiliser pour transformer texte en matrice de tokens et d'occurences.\n",
    "@ tm_model : le modèle de topic modeling à utiliser\n",
    "'''\n",
    "def getPostsTagsPrediction(posts_df, num_tag, tags_topics_matrix, vectorizer, tm_model, tm_output):\n",
    "    y_predicted=posts_df.apply(lambda row: getTagsPrediction(row['TITLE_P'] + ' ' + row['BODY_P'], \n",
    "                                                             num_tag, tags_topics_matrix, vectorizer, tm_model),axis=1)\n",
    "    y_predicted_df = y_predicted.to_frame()\n",
    "    y_predicted_df.columns = ['TAGS_P']\n",
    "    return y_predicted_df"
   ]
  },
  {
   "cell_type": "markdown",
   "metadata": {},
   "source": [
    "### Prédiction accuracy"
   ]
  },
  {
   "cell_type": "code",
   "execution_count": 28,
   "metadata": {
    "collapsed": true
   },
   "outputs": [],
   "source": [
    "'''\n",
    "Méthode permettant d'évaluer la qualité des prédictions en comparant les tags prédits aux tags réels.\n",
    "calcule pour chaque post, le rapport entre le nombre de tags correctement prédits sur le nombre de tags réels.\n",
    "retourne la moyenne de ces rapports.\n",
    "'''\n",
    "def predictionAccuracy(y_predicted, y_true) :\n",
    "    tags_found=[]\n",
    "    for index, row in y_predicted.iterrows():\n",
    "        number_tags_found = 0\n",
    "        for t in row['TAGS_P'] :\n",
    "            if t in y_true.loc[index]['TAGS_P'] :\n",
    "                number_tags_found +=1\n",
    "        tags_found.append(number_tags_found/len(y_true.loc[index]['TAGS_P']))\n",
    "    print(\"Prediction accuracy: {:.2f} % \".format(100*np.mean(tags_found)))"
   ]
  },
  {
   "cell_type": "markdown",
   "metadata": {},
   "source": [
    "# 4. Topic Modeling LDA"
   ]
  },
  {
   "cell_type": "markdown",
   "metadata": {},
   "source": [
    "Essayons LDA (Allocation de Dirichlet Latente) pour modéliser les sujets."
   ]
  },
  {
   "cell_type": "markdown",
   "metadata": {},
   "source": [
    "Pour pouvoir appliquer nos algorithmes de machine learning à nos données textuelles, il faut en extraire les features et représenter notre texte dans un modèle \"mathématique\".\n",
    "Pour celà nous allons utiliser la modélisation **Bag of Words** qui va donner une représentation sous forme de matrice de nos données."
   ]
  },
  {
   "cell_type": "markdown",
   "metadata": {},
   "source": [
    "## 4.1 Tuning du modèle avec recherche sur grille"
   ]
  },
  {
   "cell_type": "markdown",
   "metadata": {},
   "source": [
    "- min_df : le mot doit être présent au moins dans min_df documents\n",
    "- max_df : si le mot est présent dans plus de max_df des documents, il ne nous aidera pas à trouver différencier les documents. On ne le tient donc pas en compte\n",
    "- num_topics : nombre de topics du modèle."
   ]
  },
  {
   "cell_type": "markdown",
   "metadata": {},
   "source": [
    "### Apprentissage"
   ]
  },
  {
   "cell_type": "code",
   "execution_count": 29,
   "metadata": {},
   "outputs": [
    {
     "name": "stdout",
     "output_type": "stream",
     "text": [
      "Best params : {'model__learning_method': 'batch', 'model__max_iter': 5, 'model__n_components': 20, 'vect__max_df': 0.95, 'vect__min_df': 15}\n",
      "done in 3467.872s.\n"
     ]
    }
   ],
   "source": [
    "t0 = time()\n",
    "Kfold = 5\n",
    "# CHANGE\n",
    "search_params = { \n",
    "              'vect__min_df': [5, 10, 15],\n",
    "              'vect__max_df': [0.75, 0.85, 0.95],\n",
    "              'model__n_components' : [10, 20, 30],\n",
    "              'model__learning_method':['batch'], \n",
    "              'model__max_iter':[5]\n",
    "             }\n",
    "# Init the Model\n",
    "lda = LatentDirichletAllocation()\n",
    "pipeline = Pipeline([('vect', CountVectorizer()), ('model', lda)])\n",
    "\n",
    "# Init Grid Search Class\n",
    "lda_model_grid = GridSearchCV(pipeline, param_grid=search_params)\n",
    "\n",
    "# On concatène le titre et le body\n",
    "x_train_text = x_train['TITLE_P'] + ' ' + x_train['BODY_P']\n",
    "# Do the Grid Search\n",
    "lda_model_grid.fit(x_train_text)\n",
    "\n",
    "print(\"Best params :\", lda_model_grid.best_params_)\n",
    "print(\"done in %0.3fs.\" % (time() - t0))"
   ]
  },
  {
   "cell_type": "markdown",
   "metadata": {},
   "source": [
    "- Le LDA avec meilleur performance"
   ]
  },
  {
   "cell_type": "code",
   "execution_count": 30,
   "metadata": {
    "collapsed": true
   },
   "outputs": [],
   "source": [
    "best_lda_model = lda_model_grid.best_estimator_.steps[1][1]"
   ]
  },
  {
   "cell_type": "markdown",
   "metadata": {},
   "source": [
    "- On récupère le vectorizer"
   ]
  },
  {
   "cell_type": "code",
   "execution_count": 31,
   "metadata": {
    "collapsed": true
   },
   "outputs": [],
   "source": [
    "tf_vectorizer = lda_model_grid.best_estimator_.steps[0][1]"
   ]
  },
  {
   "cell_type": "markdown",
   "metadata": {},
   "source": [
    "On applique l'algorithme sur nos données"
   ]
  },
  {
   "cell_type": "code",
   "execution_count": 32,
   "metadata": {
    "collapsed": true
   },
   "outputs": [],
   "source": [
    "data_vectorized = tf_vectorizer.transform(x_train_text)\n",
    "lda_output = best_lda_model.transform(data_vectorized)"
   ]
  },
  {
   "cell_type": "code",
   "execution_count": 33,
   "metadata": {
    "collapsed": true
   },
   "outputs": [],
   "source": [
    "tags_by_topics_lda = buildTagByTopicsMatrix(best_lda_model, lda_output, y_train)"
   ]
  },
  {
   "cell_type": "markdown",
   "metadata": {},
   "source": [
    "### Evaluation"
   ]
  },
  {
   "cell_type": "code",
   "execution_count": 34,
   "metadata": {},
   "outputs": [
    {
     "name": "stdout",
     "output_type": "stream",
     "text": [
      "Log Likelihood:  -9046417.68516\n",
      "Perplexity :  855.781724869\n"
     ]
    }
   ],
   "source": [
    "# Log Likelyhood: Higher the better\n",
    "print(\"Log Likelihood: \", best_lda_model.score(data_vectorized))\n",
    "# A lower perplexity score indicates better generalization performance.\n",
    "print(\"Perplexity : \",best_lda_model.perplexity(data_vectorized))"
   ]
  },
  {
   "cell_type": "code",
   "execution_count": 35,
   "metadata": {},
   "outputs": [
    {
     "name": "stdout",
     "output_type": "stream",
     "text": [
      "Prediction accuracy: 28.89 % \n"
     ]
    }
   ],
   "source": [
    "y_predicted_lda = getPostsTagsPrediction(x_test, 5, tags_by_topics_lda, tf_vectorizer, best_lda_model, lda_output)\n",
    "predictionAccuracy(y_predicted_lda,y_test)"
   ]
  },
  {
   "cell_type": "markdown",
   "metadata": {},
   "source": [
    "### Evaluation de la prédiction de notre sample de validation"
   ]
  },
  {
   "cell_type": "code",
   "execution_count": 36,
   "metadata": {
    "collapsed": true
   },
   "outputs": [],
   "source": [
    "x_validation = df_validation[['TITLE_P','BODY_P']]\n",
    "y_validation = df_validation['TAGS_P']\n",
    "y_validation = y_validation.to_frame()"
   ]
  },
  {
   "cell_type": "code",
   "execution_count": 37,
   "metadata": {},
   "outputs": [
    {
     "name": "stdout",
     "output_type": "stream",
     "text": [
      "Prediction accuracy: 24.65 % \n"
     ]
    }
   ],
   "source": [
    "y_predicted = getPostsTagsPrediction(x_validation, 5,tags_by_topics_lda, tf_vectorizer, best_lda_model, lda_output )\n",
    "predictionAccuracy(y_predicted, y_validation)"
   ]
  },
  {
   "cell_type": "markdown",
   "metadata": {},
   "source": [
    "## 4.2 Tuning manuel"
   ]
  },
  {
   "cell_type": "markdown",
   "metadata": {},
   "source": [
    "### Apprentissage"
   ]
  },
  {
   "cell_type": "code",
   "execution_count": 38,
   "metadata": {
    "collapsed": true
   },
   "outputs": [],
   "source": [
    "def fit_transform_LDA(train_data, target_data, min_df, max_df, num_topics) :\n",
    "    print(\"[min_df:{:d} max_df:{:.2f} num_topics:{}]\"\n",
    "          .format(min_df, max_df, num_topics), end=\" \", flush=True)\n",
    "    tf_vectorizer = CountVectorizer(min_df=min_df, max_df=max_df)\n",
    "    data_vectorized = tf_vectorizer.fit_transform(train_data['TITLE_P'] + ' ' + train_data['BODY_P'])\n",
    "    \n",
    "    lda_model = LatentDirichletAllocation(n_components=num_topics, max_iter=5, learning_method='online')\n",
    "    lda_output = lda_model.fit_transform(data_vectorized)\n",
    "    print(\"Log Likelihood: {:.2f} - Perplexity: {:.2f}\".format(lda_model.score(data_vectorized), \n",
    "                                                               lda_model.perplexity(data_vectorized)), \n",
    "          end=\" \", flush=True)\n",
    "    tags_by_topics_matrix = buildTagByTopicsMatrix(lda_model, lda_output, target_data)\n",
    "    return lda_output, lda_model, tf_vectorizer, tags_by_topics_matrix"
   ]
  },
  {
   "cell_type": "markdown",
   "metadata": {},
   "source": [
    "On fait varier min_df, max_df et num_topics."
   ]
  },
  {
   "cell_type": "markdown",
   "metadata": {},
   "source": [
    "### Evaluation"
   ]
  },
  {
   "cell_type": "code",
   "execution_count": 39,
   "metadata": {
    "collapsed": true
   },
   "outputs": [],
   "source": [
    "min_df_values = [5, 10, 20]\n",
    "max_df_values = [0.75, 0.85, 0.95]\n",
    "num_topics = [10, 20, 30]"
   ]
  },
  {
   "cell_type": "code",
   "execution_count": 40,
   "metadata": {},
   "outputs": [
    {
     "name": "stdout",
     "output_type": "stream",
     "text": [
      "[min_df:5 max_df:0.75 num_topics:10] Log Likelihood: -10238550.67 - Perplexity: 1301.86 Prediction accuracy: 24.04 % \n",
      "[min_df:5 max_df:0.85 num_topics:10] Log Likelihood: -10205791.30 - Perplexity: 1272.32 Prediction accuracy: 22.29 % \n",
      "[min_df:5 max_df:0.95 num_topics:10] Log Likelihood: -10184437.46 - Perplexity: 1253.43 Prediction accuracy: 22.58 % \n",
      "[min_df:10 max_df:0.75 num_topics:10] Log Likelihood: -9552865.84 - Perplexity: 1046.12 Prediction accuracy: 23.20 % \n",
      "[min_df:10 max_df:0.85 num_topics:10] Log Likelihood: -9560962.01 - Perplexity: 1052.30 Prediction accuracy: 22.53 % \n",
      "[min_df:10 max_df:0.95 num_topics:10] Log Likelihood: -9534272.93 - Perplexity: 1032.06 Prediction accuracy: 23.76 % \n",
      "[min_df:20 max_df:0.75 num_topics:10] Log Likelihood: -8862523.85 - Perplexity: 859.02 Prediction accuracy: 23.56 % \n",
      "[min_df:20 max_df:0.85 num_topics:10] Log Likelihood: -8869653.93 - Perplexity: 863.71 Prediction accuracy: 24.45 % \n",
      "[min_df:20 max_df:0.95 num_topics:10] Log Likelihood: -8910845.31 - Perplexity: 891.26 Prediction accuracy: 23.57 % \n",
      "[min_df:5 max_df:0.75 num_topics:20] Log Likelihood: -10055383.38 - Perplexity: 1145.10 Prediction accuracy: 24.21 % \n",
      "[min_df:5 max_df:0.85 num_topics:20] Log Likelihood: -10041766.89 - Perplexity: 1134.23 Prediction accuracy: 23.47 % \n",
      "[min_df:5 max_df:0.95 num_topics:20] Log Likelihood: -10064983.58 - Perplexity: 1152.83 Prediction accuracy: 24.82 % \n",
      "[min_df:10 max_df:0.75 num_topics:20] Log Likelihood: -9462368.45 - Perplexity: 979.44 Prediction accuracy: 23.74 % \n",
      "[min_df:10 max_df:0.85 num_topics:20] Log Likelihood: -9430788.88 - Perplexity: 957.18 Prediction accuracy: 23.23 % \n",
      "[min_df:10 max_df:0.95 num_topics:20] Log Likelihood: -9398147.07 - Perplexity: 934.71 Prediction accuracy: 24.53 % \n",
      "[min_df:20 max_df:0.75 num_topics:20] Log Likelihood: -8755782.73 - Perplexity: 791.90 Prediction accuracy: 23.30 % \n",
      "[min_df:20 max_df:0.85 num_topics:20] Log Likelihood: -8757630.94 - Perplexity: 793.01 Prediction accuracy: 24.47 % \n",
      "[min_df:20 max_df:0.95 num_topics:20] Log Likelihood: -8781349.18 - Perplexity: 807.48 Prediction accuracy: 24.48 % \n",
      "[min_df:5 max_df:0.75 num_topics:30] Log Likelihood: -10035508.80 - Perplexity: 1129.27 Prediction accuracy: 24.84 % \n",
      "[min_df:5 max_df:0.85 num_topics:30] Log Likelihood: -10014213.34 - Perplexity: 1112.55 Prediction accuracy: 24.16 % \n",
      "[min_df:5 max_df:0.95 num_topics:30] Log Likelihood: -10048070.17 - Perplexity: 1139.25 Prediction accuracy: 24.48 % \n",
      "[min_df:10 max_df:0.75 num_topics:30] Log Likelihood: -9371722.66 - Perplexity: 916.90 Prediction accuracy: 25.18 % \n",
      "[min_df:10 max_df:0.85 num_topics:30] Log Likelihood: -9399646.12 - Perplexity: 935.73 Prediction accuracy: 25.34 % \n",
      "[min_df:10 max_df:0.95 num_topics:30] Log Likelihood: -9374724.82 - Perplexity: 918.91 Prediction accuracy: 24.87 % \n",
      "[min_df:20 max_df:0.75 num_topics:30] Log Likelihood: -8695372.59 - Perplexity: 756.26 Prediction accuracy: 25.67 % \n",
      "[min_df:20 max_df:0.85 num_topics:30] Log Likelihood: -8688362.27 - Perplexity: 752.22 Prediction accuracy: 25.13 % \n",
      "[min_df:20 max_df:0.95 num_topics:30] Log Likelihood: -8689415.84 - Perplexity: 752.83 Prediction accuracy: 24.46 % \n"
     ]
    }
   ],
   "source": [
    "for n_topics in num_topics :\n",
    "    for min_df in min_df_values :\n",
    "        for max_df in max_df_values :\n",
    "            lda_output_m, lda_model_m, tf_vectorizer_m, tags_by_topics_m = fit_transform_LDA(x_train, y_train, min_df, max_df, n_topics)\n",
    "            y_predicted_lda = getPostsTagsPrediction(x_test, 5, tags_by_topics_m, tf_vectorizer_m, lda_model_m, lda_output_m)\n",
    "            predictionAccuracy(y_predicted_lda,y_test)"
   ]
  },
  {
   "cell_type": "markdown",
   "metadata": {},
   "source": [
    "Manuellement nous obtenons le meilleur score avec 30 topics, un min_df à 20 et un max_df à 0.75.<br/>\n",
    "Mais l'accuracy reste plus faible que le GridSearchCV et nous selectionnerons donc le modèle tunné par le GridSearch."
   ]
  },
  {
   "cell_type": "markdown",
   "metadata": {},
   "source": [
    "### Evaluation de la prédiction de notre sample de validation"
   ]
  },
  {
   "cell_type": "code",
   "execution_count": 66,
   "metadata": {},
   "outputs": [
    {
     "name": "stdout",
     "output_type": "stream",
     "text": [
      "[min_df:20 max_df:0.75 num_topics:30] Log Likelihood: -8757486.13 - Perplexity: 792.92 "
     ]
    }
   ],
   "source": [
    "lda_output_m, lda_model_m, tf_vectorizer_m, tags_by_topics_m = fit_transform_LDA(x_train, y_train, \n",
    "                                                                                 20, 0.75, 30)"
   ]
  },
  {
   "cell_type": "code",
   "execution_count": 67,
   "metadata": {},
   "outputs": [
    {
     "name": "stdout",
     "output_type": "stream",
     "text": [
      "Prediction accuracy: 20.79 % \n"
     ]
    }
   ],
   "source": [
    "y_predicted = getPostsTagsPrediction(x_validation, 5,tags_by_topics_m, tf_vectorizer_m, lda_model_m, lda_output_m )\n",
    "predictionAccuracy(y_predicted, y_validation)"
   ]
  },
  {
   "cell_type": "markdown",
   "metadata": {},
   "source": [
    "## 4.3 Ajustement du nombre de tags"
   ]
  },
  {
   "cell_type": "code",
   "execution_count": 43,
   "metadata": {},
   "outputs": [
    {
     "name": "stdout",
     "output_type": "stream",
     "text": [
      "3 tags : Prediction accuracy: 19.33 % \n",
      "4 tags : Prediction accuracy: 22.29 % \n",
      "5 tags : Prediction accuracy: 24.65 % \n",
      "6 tags : Prediction accuracy: 26.55 % \n",
      "7 tags : Prediction accuracy: 28.16 % \n",
      "8 tags : Prediction accuracy: 29.69 % \n"
     ]
    }
   ],
   "source": [
    "num_tags = [3, 4, 5, 6, 7, 8]\n",
    "for n in num_tags :\n",
    "    print(\"{} tags :\".format(n), end=\" \", flush=True)\n",
    "    y_predicted = getPostsTagsPrediction(x_validation, n,tags_by_topics_lda, tf_vectorizer, best_lda_model, lda_output )\n",
    "    predictionAccuracy(y_predicted, y_validation)"
   ]
  },
  {
   "cell_type": "markdown",
   "metadata": {},
   "source": [
    "=> Nous remarquons que plus nous augmenter le nombre de tags, meilleure est la prédiction. <br/>\n",
    "=> Cependant, il faut rester surun nombre raisonnable de tags et nous conseiller de partir sur 6 tags."
   ]
  },
  {
   "cell_type": "markdown",
   "metadata": {},
   "source": [
    "## 4.4 Analyse de la modélisation"
   ]
  },
  {
   "cell_type": "markdown",
   "metadata": {},
   "source": [
    "### Topics / Words"
   ]
  },
  {
   "cell_type": "markdown",
   "metadata": {},
   "source": [
    "Affichage de la matrice topics / words."
   ]
  },
  {
   "cell_type": "code",
   "execution_count": 44,
   "metadata": {},
   "outputs": [
    {
     "data": {
      "text/html": [
       "<div>\n",
       "<style>\n",
       "    .dataframe thead tr:only-child th {\n",
       "        text-align: right;\n",
       "    }\n",
       "\n",
       "    .dataframe thead th {\n",
       "        text-align: left;\n",
       "    }\n",
       "\n",
       "    .dataframe tbody tr th {\n",
       "        vertical-align: top;\n",
       "    }\n",
       "</style>\n",
       "<table border=\"1\" class=\"dataframe\">\n",
       "  <thead>\n",
       "    <tr style=\"text-align: right;\">\n",
       "      <th></th>\n",
       "      <th>aa</th>\n",
       "      <th>aaa</th>\n",
       "      <th>aar</th>\n",
       "      <th>ab</th>\n",
       "      <th>abc</th>\n",
       "      <th>abi</th>\n",
       "      <th>abil</th>\n",
       "      <th>abl</th>\n",
       "      <th>abort</th>\n",
       "      <th>about</th>\n",
       "      <th>...</th>\n",
       "      <th>youtub</th>\n",
       "      <th>yyyi</th>\n",
       "      <th>yyyy</th>\n",
       "      <th>zero</th>\n",
       "      <th>zeros</th>\n",
       "      <th>zip</th>\n",
       "      <th>zlib</th>\n",
       "      <th>zone</th>\n",
       "      <th>zoom</th>\n",
       "      <th>zygoteinit</th>\n",
       "    </tr>\n",
       "  </thead>\n",
       "  <tbody>\n",
       "    <tr>\n",
       "      <th>Topic0</th>\n",
       "      <td>75.374851</td>\n",
       "      <td>33.168353</td>\n",
       "      <td>65.733151</td>\n",
       "      <td>113.181787</td>\n",
       "      <td>0.050000</td>\n",
       "      <td>12.176349</td>\n",
       "      <td>1.238935</td>\n",
       "      <td>7.726519</td>\n",
       "      <td>5.881364</td>\n",
       "      <td>1.362979</td>\n",
       "      <td>...</td>\n",
       "      <td>0.357279</td>\n",
       "      <td>0.050000</td>\n",
       "      <td>2.994896</td>\n",
       "      <td>11.849024</td>\n",
       "      <td>0.050000</td>\n",
       "      <td>6.099444</td>\n",
       "      <td>15.588260</td>\n",
       "      <td>0.050000</td>\n",
       "      <td>0.050000</td>\n",
       "      <td>0.050000</td>\n",
       "    </tr>\n",
       "    <tr>\n",
       "      <th>Topic1</th>\n",
       "      <td>0.050000</td>\n",
       "      <td>0.050000</td>\n",
       "      <td>63.970777</td>\n",
       "      <td>0.268828</td>\n",
       "      <td>7.763422</td>\n",
       "      <td>1.795093</td>\n",
       "      <td>9.942270</td>\n",
       "      <td>175.872095</td>\n",
       "      <td>11.702859</td>\n",
       "      <td>0.453102</td>\n",
       "      <td>...</td>\n",
       "      <td>0.050000</td>\n",
       "      <td>0.050000</td>\n",
       "      <td>0.050000</td>\n",
       "      <td>0.649349</td>\n",
       "      <td>0.050000</td>\n",
       "      <td>20.912222</td>\n",
       "      <td>0.050000</td>\n",
       "      <td>0.050000</td>\n",
       "      <td>0.050000</td>\n",
       "      <td>0.050000</td>\n",
       "    </tr>\n",
       "    <tr>\n",
       "      <th>Topic2</th>\n",
       "      <td>5.793988</td>\n",
       "      <td>3.612217</td>\n",
       "      <td>0.050000</td>\n",
       "      <td>18.873082</td>\n",
       "      <td>0.309743</td>\n",
       "      <td>0.191999</td>\n",
       "      <td>0.050000</td>\n",
       "      <td>9.699893</td>\n",
       "      <td>0.050000</td>\n",
       "      <td>7.257495</td>\n",
       "      <td>...</td>\n",
       "      <td>0.050000</td>\n",
       "      <td>0.050000</td>\n",
       "      <td>0.050000</td>\n",
       "      <td>0.050000</td>\n",
       "      <td>0.050000</td>\n",
       "      <td>0.127806</td>\n",
       "      <td>0.050000</td>\n",
       "      <td>0.050000</td>\n",
       "      <td>47.625976</td>\n",
       "      <td>0.050000</td>\n",
       "    </tr>\n",
       "    <tr>\n",
       "      <th>Topic3</th>\n",
       "      <td>0.050000</td>\n",
       "      <td>0.050000</td>\n",
       "      <td>0.050000</td>\n",
       "      <td>0.176230</td>\n",
       "      <td>3.485663</td>\n",
       "      <td>0.050000</td>\n",
       "      <td>1.667105</td>\n",
       "      <td>76.871154</td>\n",
       "      <td>0.093133</td>\n",
       "      <td>0.050000</td>\n",
       "      <td>...</td>\n",
       "      <td>0.050000</td>\n",
       "      <td>0.050000</td>\n",
       "      <td>4.815695</td>\n",
       "      <td>30.294729</td>\n",
       "      <td>2.332194</td>\n",
       "      <td>0.050000</td>\n",
       "      <td>0.050000</td>\n",
       "      <td>0.050000</td>\n",
       "      <td>46.295730</td>\n",
       "      <td>0.050000</td>\n",
       "    </tr>\n",
       "    <tr>\n",
       "      <th>Topic4</th>\n",
       "      <td>13.221767</td>\n",
       "      <td>0.050000</td>\n",
       "      <td>0.050000</td>\n",
       "      <td>6.767516</td>\n",
       "      <td>10.796418</td>\n",
       "      <td>0.050000</td>\n",
       "      <td>5.310617</td>\n",
       "      <td>72.370860</td>\n",
       "      <td>9.445042</td>\n",
       "      <td>6.092735</td>\n",
       "      <td>...</td>\n",
       "      <td>0.050000</td>\n",
       "      <td>0.050000</td>\n",
       "      <td>0.050000</td>\n",
       "      <td>0.055514</td>\n",
       "      <td>0.050000</td>\n",
       "      <td>134.057642</td>\n",
       "      <td>1.951765</td>\n",
       "      <td>0.179205</td>\n",
       "      <td>0.050000</td>\n",
       "      <td>0.050000</td>\n",
       "    </tr>\n",
       "    <tr>\n",
       "      <th>Topic5</th>\n",
       "      <td>0.050000</td>\n",
       "      <td>0.050000</td>\n",
       "      <td>0.050000</td>\n",
       "      <td>0.050000</td>\n",
       "      <td>0.050000</td>\n",
       "      <td>0.050000</td>\n",
       "      <td>0.052424</td>\n",
       "      <td>25.351481</td>\n",
       "      <td>0.050000</td>\n",
       "      <td>27.678329</td>\n",
       "      <td>...</td>\n",
       "      <td>1.151760</td>\n",
       "      <td>0.050000</td>\n",
       "      <td>1.577200</td>\n",
       "      <td>0.088743</td>\n",
       "      <td>0.050000</td>\n",
       "      <td>0.057403</td>\n",
       "      <td>0.083377</td>\n",
       "      <td>168.543480</td>\n",
       "      <td>0.162221</td>\n",
       "      <td>0.050000</td>\n",
       "    </tr>\n",
       "    <tr>\n",
       "      <th>Topic6</th>\n",
       "      <td>22.483101</td>\n",
       "      <td>0.050000</td>\n",
       "      <td>0.050000</td>\n",
       "      <td>0.814880</td>\n",
       "      <td>7.255762</td>\n",
       "      <td>0.050294</td>\n",
       "      <td>7.628345</td>\n",
       "      <td>99.679828</td>\n",
       "      <td>3.525590</td>\n",
       "      <td>1.829298</td>\n",
       "      <td>...</td>\n",
       "      <td>0.050000</td>\n",
       "      <td>0.183121</td>\n",
       "      <td>0.050000</td>\n",
       "      <td>13.215018</td>\n",
       "      <td>0.083550</td>\n",
       "      <td>0.666222</td>\n",
       "      <td>0.050000</td>\n",
       "      <td>0.064114</td>\n",
       "      <td>0.050000</td>\n",
       "      <td>0.050000</td>\n",
       "    </tr>\n",
       "    <tr>\n",
       "      <th>Topic7</th>\n",
       "      <td>0.787063</td>\n",
       "      <td>4.962179</td>\n",
       "      <td>0.050000</td>\n",
       "      <td>1.272468</td>\n",
       "      <td>0.505099</td>\n",
       "      <td>0.059567</td>\n",
       "      <td>4.085678</td>\n",
       "      <td>29.020530</td>\n",
       "      <td>0.050000</td>\n",
       "      <td>9.385040</td>\n",
       "      <td>...</td>\n",
       "      <td>0.050000</td>\n",
       "      <td>1.882679</td>\n",
       "      <td>9.357501</td>\n",
       "      <td>0.448728</td>\n",
       "      <td>0.050000</td>\n",
       "      <td>3.093201</td>\n",
       "      <td>0.050000</td>\n",
       "      <td>0.050000</td>\n",
       "      <td>3.110095</td>\n",
       "      <td>0.050000</td>\n",
       "    </tr>\n",
       "    <tr>\n",
       "      <th>Topic8</th>\n",
       "      <td>1.456314</td>\n",
       "      <td>35.319714</td>\n",
       "      <td>0.050000</td>\n",
       "      <td>14.011873</td>\n",
       "      <td>34.024728</td>\n",
       "      <td>0.050000</td>\n",
       "      <td>1.314749</td>\n",
       "      <td>42.708503</td>\n",
       "      <td>0.050000</td>\n",
       "      <td>5.659438</td>\n",
       "      <td>...</td>\n",
       "      <td>0.050276</td>\n",
       "      <td>0.050000</td>\n",
       "      <td>0.050000</td>\n",
       "      <td>19.416792</td>\n",
       "      <td>0.053552</td>\n",
       "      <td>67.982104</td>\n",
       "      <td>0.050000</td>\n",
       "      <td>0.050149</td>\n",
       "      <td>0.050000</td>\n",
       "      <td>0.050000</td>\n",
       "    </tr>\n",
       "    <tr>\n",
       "      <th>Topic9</th>\n",
       "      <td>0.050000</td>\n",
       "      <td>0.050000</td>\n",
       "      <td>0.050000</td>\n",
       "      <td>7.050773</td>\n",
       "      <td>11.416369</td>\n",
       "      <td>0.050000</td>\n",
       "      <td>0.050205</td>\n",
       "      <td>34.288790</td>\n",
       "      <td>0.051080</td>\n",
       "      <td>13.610586</td>\n",
       "      <td>...</td>\n",
       "      <td>0.051615</td>\n",
       "      <td>2.489114</td>\n",
       "      <td>0.050000</td>\n",
       "      <td>59.512029</td>\n",
       "      <td>44.730704</td>\n",
       "      <td>7.496405</td>\n",
       "      <td>0.050000</td>\n",
       "      <td>0.050174</td>\n",
       "      <td>29.548764</td>\n",
       "      <td>0.050000</td>\n",
       "    </tr>\n",
       "    <tr>\n",
       "      <th>Topic10</th>\n",
       "      <td>4.191037</td>\n",
       "      <td>0.189401</td>\n",
       "      <td>0.050000</td>\n",
       "      <td>4.085045</td>\n",
       "      <td>0.114712</td>\n",
       "      <td>2.779983</td>\n",
       "      <td>2.927773</td>\n",
       "      <td>55.146468</td>\n",
       "      <td>19.983732</td>\n",
       "      <td>38.669187</td>\n",
       "      <td>...</td>\n",
       "      <td>3.488586</td>\n",
       "      <td>0.050000</td>\n",
       "      <td>0.050003</td>\n",
       "      <td>11.956517</td>\n",
       "      <td>0.050000</td>\n",
       "      <td>0.050003</td>\n",
       "      <td>0.050000</td>\n",
       "      <td>3.429261</td>\n",
       "      <td>0.050000</td>\n",
       "      <td>0.050000</td>\n",
       "    </tr>\n",
       "    <tr>\n",
       "      <th>Topic11</th>\n",
       "      <td>0.358650</td>\n",
       "      <td>0.050000</td>\n",
       "      <td>0.050000</td>\n",
       "      <td>0.062434</td>\n",
       "      <td>13.983802</td>\n",
       "      <td>0.050000</td>\n",
       "      <td>5.273839</td>\n",
       "      <td>75.686672</td>\n",
       "      <td>0.313456</td>\n",
       "      <td>1.413270</td>\n",
       "      <td>...</td>\n",
       "      <td>22.369368</td>\n",
       "      <td>12.061364</td>\n",
       "      <td>26.520060</td>\n",
       "      <td>6.375418</td>\n",
       "      <td>0.050000</td>\n",
       "      <td>8.403632</td>\n",
       "      <td>1.008332</td>\n",
       "      <td>0.050000</td>\n",
       "      <td>0.050000</td>\n",
       "      <td>0.050000</td>\n",
       "    </tr>\n",
       "    <tr>\n",
       "      <th>Topic12</th>\n",
       "      <td>0.050000</td>\n",
       "      <td>0.050000</td>\n",
       "      <td>0.055725</td>\n",
       "      <td>0.050000</td>\n",
       "      <td>0.050000</td>\n",
       "      <td>6.023993</td>\n",
       "      <td>0.050000</td>\n",
       "      <td>7.265320</td>\n",
       "      <td>0.050000</td>\n",
       "      <td>13.826194</td>\n",
       "      <td>...</td>\n",
       "      <td>0.050000</td>\n",
       "      <td>0.050000</td>\n",
       "      <td>0.050000</td>\n",
       "      <td>0.050000</td>\n",
       "      <td>0.050000</td>\n",
       "      <td>0.401475</td>\n",
       "      <td>0.050000</td>\n",
       "      <td>0.050000</td>\n",
       "      <td>12.751113</td>\n",
       "      <td>7.686796</td>\n",
       "    </tr>\n",
       "    <tr>\n",
       "      <th>Topic13</th>\n",
       "      <td>1.431505</td>\n",
       "      <td>0.071633</td>\n",
       "      <td>0.050000</td>\n",
       "      <td>0.086540</td>\n",
       "      <td>2.385655</td>\n",
       "      <td>0.050000</td>\n",
       "      <td>0.050000</td>\n",
       "      <td>1.330723</td>\n",
       "      <td>0.626242</td>\n",
       "      <td>1.076798</td>\n",
       "      <td>...</td>\n",
       "      <td>0.050000</td>\n",
       "      <td>0.050000</td>\n",
       "      <td>0.056058</td>\n",
       "      <td>1.694484</td>\n",
       "      <td>0.050000</td>\n",
       "      <td>5.057242</td>\n",
       "      <td>0.919910</td>\n",
       "      <td>0.050079</td>\n",
       "      <td>0.454364</td>\n",
       "      <td>191.509542</td>\n",
       "    </tr>\n",
       "    <tr>\n",
       "      <th>Topic14</th>\n",
       "      <td>0.778561</td>\n",
       "      <td>0.050000</td>\n",
       "      <td>0.050000</td>\n",
       "      <td>10.161509</td>\n",
       "      <td>51.697188</td>\n",
       "      <td>0.050000</td>\n",
       "      <td>0.050000</td>\n",
       "      <td>100.124283</td>\n",
       "      <td>0.050037</td>\n",
       "      <td>3.818308</td>\n",
       "      <td>...</td>\n",
       "      <td>0.050000</td>\n",
       "      <td>6.633721</td>\n",
       "      <td>12.340519</td>\n",
       "      <td>5.031496</td>\n",
       "      <td>0.050000</td>\n",
       "      <td>5.768552</td>\n",
       "      <td>0.050000</td>\n",
       "      <td>0.050000</td>\n",
       "      <td>0.050000</td>\n",
       "      <td>0.050000</td>\n",
       "    </tr>\n",
       "    <tr>\n",
       "      <th>Topic15</th>\n",
       "      <td>0.050000</td>\n",
       "      <td>0.050000</td>\n",
       "      <td>0.053403</td>\n",
       "      <td>0.050000</td>\n",
       "      <td>0.343221</td>\n",
       "      <td>11.163062</td>\n",
       "      <td>0.663586</td>\n",
       "      <td>105.361502</td>\n",
       "      <td>0.050000</td>\n",
       "      <td>0.480015</td>\n",
       "      <td>...</td>\n",
       "      <td>26.573921</td>\n",
       "      <td>0.050000</td>\n",
       "      <td>2.181314</td>\n",
       "      <td>0.050404</td>\n",
       "      <td>0.050000</td>\n",
       "      <td>0.529470</td>\n",
       "      <td>0.050000</td>\n",
       "      <td>1.043566</td>\n",
       "      <td>0.050000</td>\n",
       "      <td>0.050000</td>\n",
       "    </tr>\n",
       "    <tr>\n",
       "      <th>Topic16</th>\n",
       "      <td>0.673163</td>\n",
       "      <td>3.026502</td>\n",
       "      <td>0.050000</td>\n",
       "      <td>0.107969</td>\n",
       "      <td>2.538831</td>\n",
       "      <td>17.996757</td>\n",
       "      <td>15.494475</td>\n",
       "      <td>98.287869</td>\n",
       "      <td>3.016968</td>\n",
       "      <td>0.050000</td>\n",
       "      <td>...</td>\n",
       "      <td>0.050001</td>\n",
       "      <td>0.050000</td>\n",
       "      <td>0.050000</td>\n",
       "      <td>112.690425</td>\n",
       "      <td>0.050000</td>\n",
       "      <td>0.050000</td>\n",
       "      <td>0.050769</td>\n",
       "      <td>0.050000</td>\n",
       "      <td>0.050000</td>\n",
       "      <td>0.050000</td>\n",
       "    </tr>\n",
       "    <tr>\n",
       "      <th>Topic17</th>\n",
       "      <td>0.050000</td>\n",
       "      <td>0.050000</td>\n",
       "      <td>0.050000</td>\n",
       "      <td>0.829067</td>\n",
       "      <td>5.474454</td>\n",
       "      <td>0.050000</td>\n",
       "      <td>0.050000</td>\n",
       "      <td>9.852077</td>\n",
       "      <td>0.050000</td>\n",
       "      <td>0.190416</td>\n",
       "      <td>...</td>\n",
       "      <td>0.357067</td>\n",
       "      <td>0.050000</td>\n",
       "      <td>1.046617</td>\n",
       "      <td>0.050001</td>\n",
       "      <td>0.050000</td>\n",
       "      <td>10.605744</td>\n",
       "      <td>0.050000</td>\n",
       "      <td>14.922588</td>\n",
       "      <td>0.050000</td>\n",
       "      <td>0.050000</td>\n",
       "    </tr>\n",
       "    <tr>\n",
       "      <th>Topic18</th>\n",
       "      <td>0.050000</td>\n",
       "      <td>0.050000</td>\n",
       "      <td>70.436945</td>\n",
       "      <td>0.050000</td>\n",
       "      <td>1.785932</td>\n",
       "      <td>0.262844</td>\n",
       "      <td>0.050000</td>\n",
       "      <td>9.239786</td>\n",
       "      <td>0.050000</td>\n",
       "      <td>16.501110</td>\n",
       "      <td>...</td>\n",
       "      <td>0.050127</td>\n",
       "      <td>0.050000</td>\n",
       "      <td>1.610137</td>\n",
       "      <td>4.443454</td>\n",
       "      <td>0.050000</td>\n",
       "      <td>13.702436</td>\n",
       "      <td>0.238290</td>\n",
       "      <td>0.050031</td>\n",
       "      <td>0.050000</td>\n",
       "      <td>28.953661</td>\n",
       "    </tr>\n",
       "    <tr>\n",
       "      <th>Topic19</th>\n",
       "      <td>0.050000</td>\n",
       "      <td>0.050000</td>\n",
       "      <td>0.050000</td>\n",
       "      <td>0.050000</td>\n",
       "      <td>21.969001</td>\n",
       "      <td>0.050059</td>\n",
       "      <td>0.050000</td>\n",
       "      <td>29.115647</td>\n",
       "      <td>11.910498</td>\n",
       "      <td>12.595701</td>\n",
       "      <td>...</td>\n",
       "      <td>0.050000</td>\n",
       "      <td>0.050000</td>\n",
       "      <td>0.050000</td>\n",
       "      <td>0.077877</td>\n",
       "      <td>0.050000</td>\n",
       "      <td>2.888995</td>\n",
       "      <td>13.559296</td>\n",
       "      <td>69.167351</td>\n",
       "      <td>0.451736</td>\n",
       "      <td>0.050000</td>\n",
       "    </tr>\n",
       "  </tbody>\n",
       "</table>\n",
       "<p>20 rows × 4278 columns</p>\n",
       "</div>"
      ],
      "text/plain": [
       "                aa        aaa        aar          ab        abc        abi  \\\n",
       "Topic0   75.374851  33.168353  65.733151  113.181787   0.050000  12.176349   \n",
       "Topic1    0.050000   0.050000  63.970777    0.268828   7.763422   1.795093   \n",
       "Topic2    5.793988   3.612217   0.050000   18.873082   0.309743   0.191999   \n",
       "Topic3    0.050000   0.050000   0.050000    0.176230   3.485663   0.050000   \n",
       "Topic4   13.221767   0.050000   0.050000    6.767516  10.796418   0.050000   \n",
       "Topic5    0.050000   0.050000   0.050000    0.050000   0.050000   0.050000   \n",
       "Topic6   22.483101   0.050000   0.050000    0.814880   7.255762   0.050294   \n",
       "Topic7    0.787063   4.962179   0.050000    1.272468   0.505099   0.059567   \n",
       "Topic8    1.456314  35.319714   0.050000   14.011873  34.024728   0.050000   \n",
       "Topic9    0.050000   0.050000   0.050000    7.050773  11.416369   0.050000   \n",
       "Topic10   4.191037   0.189401   0.050000    4.085045   0.114712   2.779983   \n",
       "Topic11   0.358650   0.050000   0.050000    0.062434  13.983802   0.050000   \n",
       "Topic12   0.050000   0.050000   0.055725    0.050000   0.050000   6.023993   \n",
       "Topic13   1.431505   0.071633   0.050000    0.086540   2.385655   0.050000   \n",
       "Topic14   0.778561   0.050000   0.050000   10.161509  51.697188   0.050000   \n",
       "Topic15   0.050000   0.050000   0.053403    0.050000   0.343221  11.163062   \n",
       "Topic16   0.673163   3.026502   0.050000    0.107969   2.538831  17.996757   \n",
       "Topic17   0.050000   0.050000   0.050000    0.829067   5.474454   0.050000   \n",
       "Topic18   0.050000   0.050000  70.436945    0.050000   1.785932   0.262844   \n",
       "Topic19   0.050000   0.050000   0.050000    0.050000  21.969001   0.050059   \n",
       "\n",
       "              abil         abl      abort      about     ...         youtub  \\\n",
       "Topic0    1.238935    7.726519   5.881364   1.362979     ...       0.357279   \n",
       "Topic1    9.942270  175.872095  11.702859   0.453102     ...       0.050000   \n",
       "Topic2    0.050000    9.699893   0.050000   7.257495     ...       0.050000   \n",
       "Topic3    1.667105   76.871154   0.093133   0.050000     ...       0.050000   \n",
       "Topic4    5.310617   72.370860   9.445042   6.092735     ...       0.050000   \n",
       "Topic5    0.052424   25.351481   0.050000  27.678329     ...       1.151760   \n",
       "Topic6    7.628345   99.679828   3.525590   1.829298     ...       0.050000   \n",
       "Topic7    4.085678   29.020530   0.050000   9.385040     ...       0.050000   \n",
       "Topic8    1.314749   42.708503   0.050000   5.659438     ...       0.050276   \n",
       "Topic9    0.050205   34.288790   0.051080  13.610586     ...       0.051615   \n",
       "Topic10   2.927773   55.146468  19.983732  38.669187     ...       3.488586   \n",
       "Topic11   5.273839   75.686672   0.313456   1.413270     ...      22.369368   \n",
       "Topic12   0.050000    7.265320   0.050000  13.826194     ...       0.050000   \n",
       "Topic13   0.050000    1.330723   0.626242   1.076798     ...       0.050000   \n",
       "Topic14   0.050000  100.124283   0.050037   3.818308     ...       0.050000   \n",
       "Topic15   0.663586  105.361502   0.050000   0.480015     ...      26.573921   \n",
       "Topic16  15.494475   98.287869   3.016968   0.050000     ...       0.050001   \n",
       "Topic17   0.050000    9.852077   0.050000   0.190416     ...       0.357067   \n",
       "Topic18   0.050000    9.239786   0.050000  16.501110     ...       0.050127   \n",
       "Topic19   0.050000   29.115647  11.910498  12.595701     ...       0.050000   \n",
       "\n",
       "              yyyi       yyyy        zero      zeros         zip       zlib  \\\n",
       "Topic0    0.050000   2.994896   11.849024   0.050000    6.099444  15.588260   \n",
       "Topic1    0.050000   0.050000    0.649349   0.050000   20.912222   0.050000   \n",
       "Topic2    0.050000   0.050000    0.050000   0.050000    0.127806   0.050000   \n",
       "Topic3    0.050000   4.815695   30.294729   2.332194    0.050000   0.050000   \n",
       "Topic4    0.050000   0.050000    0.055514   0.050000  134.057642   1.951765   \n",
       "Topic5    0.050000   1.577200    0.088743   0.050000    0.057403   0.083377   \n",
       "Topic6    0.183121   0.050000   13.215018   0.083550    0.666222   0.050000   \n",
       "Topic7    1.882679   9.357501    0.448728   0.050000    3.093201   0.050000   \n",
       "Topic8    0.050000   0.050000   19.416792   0.053552   67.982104   0.050000   \n",
       "Topic9    2.489114   0.050000   59.512029  44.730704    7.496405   0.050000   \n",
       "Topic10   0.050000   0.050003   11.956517   0.050000    0.050003   0.050000   \n",
       "Topic11  12.061364  26.520060    6.375418   0.050000    8.403632   1.008332   \n",
       "Topic12   0.050000   0.050000    0.050000   0.050000    0.401475   0.050000   \n",
       "Topic13   0.050000   0.056058    1.694484   0.050000    5.057242   0.919910   \n",
       "Topic14   6.633721  12.340519    5.031496   0.050000    5.768552   0.050000   \n",
       "Topic15   0.050000   2.181314    0.050404   0.050000    0.529470   0.050000   \n",
       "Topic16   0.050000   0.050000  112.690425   0.050000    0.050000   0.050769   \n",
       "Topic17   0.050000   1.046617    0.050001   0.050000   10.605744   0.050000   \n",
       "Topic18   0.050000   1.610137    4.443454   0.050000   13.702436   0.238290   \n",
       "Topic19   0.050000   0.050000    0.077877   0.050000    2.888995  13.559296   \n",
       "\n",
       "               zone       zoom  zygoteinit  \n",
       "Topic0     0.050000   0.050000    0.050000  \n",
       "Topic1     0.050000   0.050000    0.050000  \n",
       "Topic2     0.050000  47.625976    0.050000  \n",
       "Topic3     0.050000  46.295730    0.050000  \n",
       "Topic4     0.179205   0.050000    0.050000  \n",
       "Topic5   168.543480   0.162221    0.050000  \n",
       "Topic6     0.064114   0.050000    0.050000  \n",
       "Topic7     0.050000   3.110095    0.050000  \n",
       "Topic8     0.050149   0.050000    0.050000  \n",
       "Topic9     0.050174  29.548764    0.050000  \n",
       "Topic10    3.429261   0.050000    0.050000  \n",
       "Topic11    0.050000   0.050000    0.050000  \n",
       "Topic12    0.050000  12.751113    7.686796  \n",
       "Topic13    0.050079   0.454364  191.509542  \n",
       "Topic14    0.050000   0.050000    0.050000  \n",
       "Topic15    1.043566   0.050000    0.050000  \n",
       "Topic16    0.050000   0.050000    0.050000  \n",
       "Topic17   14.922588   0.050000    0.050000  \n",
       "Topic18    0.050031   0.050000   28.953661  \n",
       "Topic19   69.167351   0.451736    0.050000  \n",
       "\n",
       "[20 rows x 4278 columns]"
      ]
     },
     "execution_count": 44,
     "metadata": {},
     "output_type": "execute_result"
    }
   ],
   "source": [
    "getTopicsWordsMatrix(best_lda_model, tf_vectorizer.get_feature_names())"
   ]
  },
  {
   "cell_type": "code",
   "execution_count": 45,
   "metadata": {},
   "outputs": [
    {
     "data": {
      "text/html": [
       "<div>\n",
       "<style>\n",
       "    .dataframe thead tr:only-child th {\n",
       "        text-align: right;\n",
       "    }\n",
       "\n",
       "    .dataframe thead th {\n",
       "        text-align: left;\n",
       "    }\n",
       "\n",
       "    .dataframe tbody tr th {\n",
       "        vertical-align: top;\n",
       "    }\n",
       "</style>\n",
       "<table border=\"1\" class=\"dataframe\">\n",
       "  <thead>\n",
       "    <tr style=\"text-align: right;\">\n",
       "      <th></th>\n",
       "      <th>Word 0</th>\n",
       "      <th>Word 1</th>\n",
       "      <th>Word 2</th>\n",
       "      <th>Word 3</th>\n",
       "      <th>Word 4</th>\n",
       "      <th>Word 5</th>\n",
       "      <th>Word 6</th>\n",
       "      <th>Word 7</th>\n",
       "      <th>Word 8</th>\n",
       "      <th>Word 9</th>\n",
       "      <th>Word 10</th>\n",
       "      <th>Word 11</th>\n",
       "    </tr>\n",
       "  </thead>\n",
       "  <tbody>\n",
       "    <tr>\n",
       "      <th>Topic 0</th>\n",
       "      <td>php</td>\n",
       "      <td>file</td>\n",
       "      <td>size</td>\n",
       "      <td>long</td>\n",
       "      <td>cs</td>\n",
       "      <td>cach</td>\n",
       "      <td>ns</td>\n",
       "      <td>clang</td>\n",
       "      <td>laravel</td>\n",
       "      <td>main</td>\n",
       "      <td>std</td>\n",
       "      <td>error</td>\n",
       "    </tr>\n",
       "    <tr>\n",
       "      <th>Topic 1</th>\n",
       "      <td>project</td>\n",
       "      <td>use</td>\n",
       "      <td>build</td>\n",
       "      <td>version</td>\n",
       "      <td>error</td>\n",
       "      <td>work</td>\n",
       "      <td>file</td>\n",
       "      <td>tri</td>\n",
       "      <td>app</td>\n",
       "      <td>run</td>\n",
       "      <td>studio</td>\n",
       "      <td>xcode</td>\n",
       "    </tr>\n",
       "    <tr>\n",
       "      <th>Topic 2</th>\n",
       "      <td>px</td>\n",
       "      <td>width</td>\n",
       "      <td>height</td>\n",
       "      <td>color</td>\n",
       "      <td>style</td>\n",
       "      <td>background</td>\n",
       "      <td>div</td>\n",
       "      <td>left</td>\n",
       "      <td>top</td>\n",
       "      <td>font</td>\n",
       "      <td>var</td>\n",
       "      <td>text</td>\n",
       "    </tr>\n",
       "    <tr>\n",
       "      <th>Topic 3</th>\n",
       "      <td>input</td>\n",
       "      <td>use</td>\n",
       "      <td>imag</td>\n",
       "      <td>tf</td>\n",
       "      <td>data</td>\n",
       "      <td>size</td>\n",
       "      <td>group</td>\n",
       "      <td>would</td>\n",
       "      <td>like</td>\n",
       "      <td>get</td>\n",
       "      <td>set</td>\n",
       "      <td>tri</td>\n",
       "    </tr>\n",
       "    <tr>\n",
       "      <th>Topic 4</th>\n",
       "      <td>system</td>\n",
       "      <td>net</td>\n",
       "      <td>file</td>\n",
       "      <td>use</td>\n",
       "      <td>microsoft</td>\n",
       "      <td>run</td>\n",
       "      <td>api</td>\n",
       "      <td>server</td>\n",
       "      <td>web</td>\n",
       "      <td>instal</td>\n",
       "      <td>error</td>\n",
       "      <td>version</td>\n",
       "    </tr>\n",
       "    <tr>\n",
       "      <th>Topic 5</th>\n",
       "      <td>id</td>\n",
       "      <td>from</td>\n",
       "      <td>angular</td>\n",
       "      <td>this</td>\n",
       "      <td>component</td>\n",
       "      <td>import</td>\n",
       "      <td>select</td>\n",
       "      <td>compon</td>\n",
       "      <td>router</td>\n",
       "      <td>export</td>\n",
       "      <td>users</td>\n",
       "      <td>error</td>\n",
       "    </tr>\n",
       "    <tr>\n",
       "      <th>Topic 6</th>\n",
       "      <td>array</td>\n",
       "      <td>data</td>\n",
       "      <td>use</td>\n",
       "      <td>key</td>\n",
       "      <td>like</td>\n",
       "      <td>would</td>\n",
       "      <td>function</td>\n",
       "      <td>string</td>\n",
       "      <td>need</td>\n",
       "      <td>way</td>\n",
       "      <td>const</td>\n",
       "      <td>read</td>\n",
       "    </tr>\n",
       "    <tr>\n",
       "      <th>Topic 7</th>\n",
       "      <td>div</td>\n",
       "      <td>class</td>\n",
       "      <td>item</td>\n",
       "      <td>button</td>\n",
       "      <td>li</td>\n",
       "      <td>menu</td>\n",
       "      <td>span</td>\n",
       "      <td>text</td>\n",
       "      <td>click</td>\n",
       "      <td>element</td>\n",
       "      <td>display</td>\n",
       "      <td>option</td>\n",
       "    </tr>\n",
       "    <tr>\n",
       "      <th>Topic 8</th>\n",
       "      <td>int</td>\n",
       "      <td>test</td>\n",
       "      <td>list</td>\n",
       "      <td>function</td>\n",
       "      <td>import</td>\n",
       "      <td>char</td>\n",
       "      <td>use</td>\n",
       "      <td>type</td>\n",
       "      <td>for</td>\n",
       "      <td>return</td>\n",
       "      <td>main</td>\n",
       "      <td>std</td>\n",
       "    </tr>\n",
       "    <tr>\n",
       "      <th>Topic 9</th>\n",
       "      <td>in</td>\n",
       "      <td>self</td>\n",
       "      <td>python</td>\n",
       "      <td>data</td>\n",
       "      <td>the</td>\n",
       "      <td>line</td>\n",
       "      <td>for</td>\n",
       "      <td>model</td>\n",
       "      <td>py</td>\n",
       "      <td>import</td>\n",
       "      <td>file</td>\n",
       "      <td>to</td>\n",
       "    </tr>\n",
       "    <tr>\n",
       "      <th>Topic 10</th>\n",
       "      <td>request</td>\n",
       "      <td>error</td>\n",
       "      <td>the</td>\n",
       "      <td>http</td>\n",
       "      <td>get</td>\n",
       "      <td>let</td>\n",
       "      <td>to</td>\n",
       "      <td>self</td>\n",
       "      <td>return</td>\n",
       "      <td>if</td>\n",
       "      <td>code</td>\n",
       "      <td>response</td>\n",
       "    </tr>\n",
       "    <tr>\n",
       "      <th>Topic 11</th>\n",
       "      <td>user</td>\n",
       "      <td>docker</td>\n",
       "      <td>use</td>\n",
       "      <td>app</td>\n",
       "      <td>session</td>\n",
       "      <td>log</td>\n",
       "      <td>login</td>\n",
       "      <td>run</td>\n",
       "      <td>password</td>\n",
       "      <td>connect</td>\n",
       "      <td>debug</td>\n",
       "      <td>contain</td>\n",
       "    </tr>\n",
       "    <tr>\n",
       "      <th>Topic 12</th>\n",
       "      <td>android</td>\n",
       "      <td>layout</td>\n",
       "      <td>view</td>\n",
       "      <td>id</td>\n",
       "      <td>parent</td>\n",
       "      <td>height</td>\n",
       "      <td>app</td>\n",
       "      <td>width</td>\n",
       "      <td>content</td>\n",
       "      <td>dp</td>\n",
       "      <td>item</td>\n",
       "      <td>support</td>\n",
       "    </tr>\n",
       "    <tr>\n",
       "      <th>Topic 13</th>\n",
       "      <td>java</td>\n",
       "      <td>at</td>\n",
       "      <td>org</td>\n",
       "      <td>internal</td>\n",
       "      <td>com</td>\n",
       "      <td>gradle</td>\n",
       "      <td>android</td>\n",
       "      <td>run</td>\n",
       "      <td>lang</td>\n",
       "      <td>execute</td>\n",
       "      <td>vagrant</td>\n",
       "      <td>activitythread</td>\n",
       "    </tr>\n",
       "    <tr>\n",
       "      <th>Topic 14</th>\n",
       "      <td>string</td>\n",
       "      <td>name</td>\n",
       "      <td>id</td>\n",
       "      <td>new</td>\n",
       "      <td>data</td>\n",
       "      <td>return</td>\n",
       "      <td>public</td>\n",
       "      <td>this</td>\n",
       "      <td>var</td>\n",
       "      <td>class</td>\n",
       "      <td>get</td>\n",
       "      <td>value</td>\n",
       "    </tr>\n",
       "    <tr>\n",
       "      <th>Topic 15</th>\n",
       "      <td>app</td>\n",
       "      <td>react</td>\n",
       "      <td>use</td>\n",
       "      <td>test</td>\n",
       "      <td>firebas</td>\n",
       "      <td>nativ</td>\n",
       "      <td>compon</td>\n",
       "      <td>googl</td>\n",
       "      <td>android</td>\n",
       "      <td>link</td>\n",
       "      <td>work</td>\n",
       "      <td>render</td>\n",
       "    </tr>\n",
       "    <tr>\n",
       "      <th>Topic 16</th>\n",
       "      <td>foo</td>\n",
       "      <td>use</td>\n",
       "      <td>class</td>\n",
       "      <td>int</td>\n",
       "      <td>std</td>\n",
       "      <td>type</td>\n",
       "      <td>function</td>\n",
       "      <td>code</td>\n",
       "      <td>return</td>\n",
       "      <td>compil</td>\n",
       "      <td>method</td>\n",
       "      <td>object</td>\n",
       "    </tr>\n",
       "    <tr>\n",
       "      <th>Topic 17</th>\n",
       "      <td>org</td>\n",
       "      <td>java</td>\n",
       "      <td>at</td>\n",
       "      <td>apache</td>\n",
       "      <td>jar</td>\n",
       "      <td>scala</td>\n",
       "      <td>version</td>\n",
       "      <td>groupid</td>\n",
       "      <td>artifactid</td>\n",
       "      <td>spark</td>\n",
       "      <td>maven</td>\n",
       "      <td>springframework</td>\n",
       "    </tr>\n",
       "    <tr>\n",
       "      <th>Topic 18</th>\n",
       "      <td>android</td>\n",
       "      <td>com</td>\n",
       "      <td>public</td>\n",
       "      <td>class</td>\n",
       "      <td>void</td>\n",
       "      <td>new</td>\n",
       "      <td>google</td>\n",
       "      <td>support</td>\n",
       "      <td>compile</td>\n",
       "      <td>private</td>\n",
       "      <td>override</td>\n",
       "      <td>string</td>\n",
       "    </tr>\n",
       "    <tr>\n",
       "      <th>Topic 19</th>\n",
       "      <td>js</td>\n",
       "      <td>file</td>\n",
       "      <td>node</td>\n",
       "      <td>lib</td>\n",
       "      <td>script</td>\n",
       "      <td>error</td>\n",
       "      <td>html</td>\n",
       "      <td>function</td>\n",
       "      <td>npm</td>\n",
       "      <td>src</td>\n",
       "      <td>git</td>\n",
       "      <td>use</td>\n",
       "    </tr>\n",
       "  </tbody>\n",
       "</table>\n",
       "</div>"
      ],
      "text/plain": [
       "           Word 0  Word 1   Word 2    Word 3     Word 4      Word 5    Word 6  \\\n",
       "Topic 0       php    file     size      long         cs        cach        ns   \n",
       "Topic 1   project     use    build   version      error        work      file   \n",
       "Topic 2        px   width   height     color      style  background       div   \n",
       "Topic 3     input     use     imag        tf       data        size     group   \n",
       "Topic 4    system     net     file       use  microsoft         run       api   \n",
       "Topic 5        id    from  angular      this  component      import    select   \n",
       "Topic 6     array    data      use       key       like       would  function   \n",
       "Topic 7       div   class     item    button         li        menu      span   \n",
       "Topic 8       int    test     list  function     import        char       use   \n",
       "Topic 9        in    self   python      data        the        line       for   \n",
       "Topic 10  request   error      the      http        get         let        to   \n",
       "Topic 11     user  docker      use       app    session         log     login   \n",
       "Topic 12  android  layout     view        id     parent      height       app   \n",
       "Topic 13     java      at      org  internal        com      gradle   android   \n",
       "Topic 14   string    name       id       new       data      return    public   \n",
       "Topic 15      app   react      use      test    firebas       nativ    compon   \n",
       "Topic 16      foo     use    class       int        std        type  function   \n",
       "Topic 17      org    java       at    apache        jar       scala   version   \n",
       "Topic 18  android     com   public     class       void         new    google   \n",
       "Topic 19       js    file     node       lib     script       error      html   \n",
       "\n",
       "            Word 7      Word 8   Word 9   Word 10          Word 11  \n",
       "Topic 0      clang     laravel     main       std            error  \n",
       "Topic 1        tri         app      run    studio            xcode  \n",
       "Topic 2       left         top     font       var             text  \n",
       "Topic 3      would        like      get       set              tri  \n",
       "Topic 4     server         web   instal     error          version  \n",
       "Topic 5     compon      router   export     users            error  \n",
       "Topic 6     string        need      way     const             read  \n",
       "Topic 7       text       click  element   display           option  \n",
       "Topic 8       type         for   return      main              std  \n",
       "Topic 9      model          py   import      file               to  \n",
       "Topic 10      self      return       if      code         response  \n",
       "Topic 11       run    password  connect     debug          contain  \n",
       "Topic 12     width     content       dp      item          support  \n",
       "Topic 13       run        lang  execute   vagrant   activitythread  \n",
       "Topic 14      this         var    class       get            value  \n",
       "Topic 15     googl     android     link      work           render  \n",
       "Topic 16      code      return   compil    method           object  \n",
       "Topic 17   groupid  artifactid    spark     maven  springframework  \n",
       "Topic 18   support     compile  private  override           string  \n",
       "Topic 19  function         npm      src       git              use  "
      ]
     },
     "metadata": {},
     "output_type": "display_data"
    }
   ],
   "source": [
    "showTopicsTopWords(best_lda_model, tf_vectorizer.get_feature_names(), 12)"
   ]
  },
  {
   "cell_type": "markdown",
   "metadata": {},
   "source": [
    "Nous pouvons interpréter certains topics : <br/>\n",
    "- le sujet 1 : Tableau HTML\n",
    "- Le sujet 7 : Androïd \n",
    "- Le sujet 9 : Requêtes HTTP \n",
    "- Le sujet 15 : Microsoft / .Net\n",
    "- Le sujet 16 : Java / Apache\n",
    "- Le sujet 17 : Python\n",
    "- Le sujet 19 : System / Installation\n",
    "..."
   ]
  },
  {
   "cell_type": "markdown",
   "metadata": {},
   "source": [
    "###  Docs / Topics"
   ]
  },
  {
   "cell_type": "markdown",
   "metadata": {},
   "source": [
    "Voyons maintenant le topic associé à quelques documents."
   ]
  },
  {
   "cell_type": "code",
   "execution_count": 46,
   "metadata": {},
   "outputs": [
    {
     "name": "stdout",
     "output_type": "stream",
     "text": [
      "Topic 0 : php file size long cs cach ns clang laravel main\n",
      "Doc 8419  Title: Why is the same function with a different integer parameter  - Tags: ['performance', 'rust']\n",
      "Doc 7667  Title: Is it common to have just a return statement in a php file - Tags: ['php']\n",
      "\n",
      "Topic 1 : project use build version error work file tri app run\n",
      "Doc 2894  Title: How to create .NET Standard NuGet package with minimal depen - Tags: ['c#', '.net', 'visual-studio-2017', '.net-standard']\n",
      "Doc 8900  Title: I get conflicting provisioning settings error when I try to  - Tags: ['ios', 'xcode']\n",
      "\n",
      "Topic 2 : px width height color style background div left top font\n",
      "Doc 1109  Title: HTML element not printing - Tags: ['html', 'css', 'html5', 'printing']\n",
      "Doc 5829  Title: Efficient CSS3 Long Shadows on div with rounded corners - Tags: ['html', 'css', 'html5', 'css3']\n",
      "\n",
      "Topic 3 : input use imag tf data size group would like get\n",
      "Doc 6535  Title: Understanding TensorBoard (weight) histograms - Tags: ['tensorflow', 'tensorboard']\n",
      "Doc 3157  Title: Connect nodes to maximize total edge weight - Tags: ['algorithm', 'optimization', 'graph-theory', 'graph-algorithm']\n",
      "\n",
      "Topic 4 : system net file use microsoft run api server web instal\n",
      "Doc 9025  Title: Compiler Error Message: The compiler failed with error code  - Tags: ['.net', 'asp.net-mvc', 'roslyn']\n",
      "Doc 6316  Title: Why use the full .NET Framework with ASP.NET Core? - Tags: ['asp.net-core', '.net-core']\n",
      "\n",
      "Topic 5 : id from angular this component import select compon router export\n",
      "Doc 8343  Title: Active Model Serializer - Increasing Render Performance - Tags: ['ruby-on-rails', 'json', 'ruby-on-rails-4', 'serialization']\n",
      "Doc 2583  Title: How do I bust my cache key based on the params in the URL? - Tags: ['ruby-on-rails', 'caching', 'ruby-on-rails-5']\n",
      "\n",
      "Topic 6 : array data use key like would function string need way\n",
      "Doc 5504  Title: Split array into two different arrays using functional JavaS - Tags: ['javascript', 'arrays', 'functional-programming', 'reduce']\n",
      "Doc 6765  Title: Counting minimum number of swaps to group characters in stri - Tags: ['string', 'algorithm', 'dynamic-programming']\n",
      "\n",
      "Topic 7 : div class item button li menu span text click element\n",
      "Doc 4741  Title: uikit dropdowns clipped by overflow container - Tags: ['jquery', 'html', 'css', 'drop-down-menu', 'uikit']\n",
      "Doc 231  Title: Display of up/down buttons in table row reordering - Tags: ['javascript', 'jquery', 'html', 'css']\n",
      "\n",
      "Topic 8 : int test list function import char use type for return\n",
      "Doc 10332  Title: Why doesn't C++ provide default \"operator>>\" function for en - Tags: ['c++', 'enums']\n",
      "Doc 7129  Title: C++ templates, default argument as a method - Tags: ['c++', 'c++11', 'templates', 'c++14', 'c++-standard-library']\n",
      "\n",
      "Topic 9 : in self python data the line for model py import\n",
      "Doc 2813  Title: Soft margin in linear support vector machine using python - Tags: ['python', 'machine-learning', 'svm']\n",
      "Doc 4581  Title: Keras - Save image embedding of the mnist data set - Tags: ['python', 'deep-learning', 'keras', 'tensorboard']\n",
      "\n",
      "Topic 10 : request error the http get let to self return if\n",
      "Doc 8874  Title: FCM background notifications not working in iOS - Tags: ['ios', 'swift', 'firebase', 'google-cloud-messaging', 'firebase-cloud-messaging']\n",
      "Doc 8282  Title: Swift 3: UIWebView connecting to a HTTPS server using a self - Tags: ['https', 'uiwebview', 'swift3']\n",
      "\n",
      "Topic 11 : user docker use app session log login run password connect\n",
      "Doc 6444  Title: How to join the default bridge network with docker-compose v - Tags: ['docker', 'docker-compose']\n",
      "Doc 9307  Title: How to `cd` into directory with the name `-`? - Tags: ['bash']\n",
      "\n",
      "Topic 12 : android layout view id parent height app width content dp\n",
      "Doc 3415  Title: How to construct a keyboard hints layout in android - Tags: ['android', 'android-layout', 'android-softkeyboard']\n",
      "Doc 5503  Title: How to accomplish this animation on CardView with Coordinato - Tags: ['android', 'animation', 'kotlin', 'material-design', 'android-design-library']\n",
      "\n",
      "Topic 13 : java at org internal com gradle android run lang execute\n",
      "Doc 5086  Title: Android Studio Instant Run failed with exception \"Failed to  - Tags: ['android', 'android-studio', 'intellij-idea', 'android-gradle', 'android-studio-3.0']\n",
      "Doc 5194  Title: Gradle 3.0.0-beta1 build issue - Tags: ['android', 'android-studio', 'android-gradle', 'build.gradle']\n",
      "\n",
      "Topic 14 : string name id new data return public this var class\n",
      "Doc 1947  Title: Symfony2 recursive query builder - Tags: ['php', 'symfony', 'doctrine']\n",
      "Doc 8991  Title: How to Copy Data From Sql Object to C# Model Property - Tags: ['c#', 'sql', 'sql-server', 'ado.net']\n",
      "\n",
      "Topic 15 : app react use test firebas nativ compon googl android link\n",
      "Doc 848  Title: is app indexing is necessary for instant app to show in goog - Tags: ['android', 'deep-linking', 'android-instant-apps']\n",
      "Doc 9642  Title: apple-itunes-app meta tag testing - Tags: ['ios', 'iphone']\n",
      "\n",
      "Topic 16 : foo use class int std type function code return compil\n",
      "Doc 741  Title: Does reflection methods such as GetField and GetValue perfor - Tags: ['c#', 'reflection', 'specifications']\n",
      "Doc 661  Title: Is it possible to force `std::make_shared` to use a class's  - Tags: ['c++', 'c++11', 'c++14']\n",
      "\n",
      "Topic 17 : org java at apache jar scala version groupid artifactid spark\n",
      "Doc 5481  Title: Exception on download: sun.security.validator.ValidatorExcep - Tags: ['scala', 'sbt', 'ubuntu-16.04']\n",
      "Doc 2840  Title: How do I specify that I want my jsp-config directive to appl - Tags: ['jsp', 'servlets', 'jboss', 'config']\n",
      "\n",
      "Topic 18 : android com public class void new google support compile private\n",
      "Doc 9713  Title: Error after upgrade Google Play Services to 11.0.0 version - Tags: ['android', 'android-gradle', 'google-play-services', 'build.gradle']\n",
      "Doc 2761  Title: Unable to merge dex - Tags: ['android', 'dex', 'android-studio-3.0']\n",
      "\n",
      "Topic 19 : js file node lib script error html function npm src\n",
      "Doc 220  Title: Vue unit test error: vuex requires a Promise polyfill in thi - Tags: ['javascript', 'unit-testing', 'karma-runner', 'vue.js', 'es6-promise']\n",
      "Doc 2100  Title: webpackJsonp is not defined - Tags: ['reactjs']\n",
      "\n"
     ]
    }
   ],
   "source": [
    "showTopicsTopDocs(best_lda_model.components_, lda_output, tf_vectorizer.get_feature_names(), x_train, y_train, 10, 2)"
   ]
  },
  {
   "cell_type": "code",
   "execution_count": 47,
   "metadata": {},
   "outputs": [
    {
     "data": {
      "text/html": [
       "<div>\n",
       "<style>\n",
       "    .dataframe thead tr:only-child th {\n",
       "        text-align: right;\n",
       "    }\n",
       "\n",
       "    .dataframe thead th {\n",
       "        text-align: left;\n",
       "    }\n",
       "\n",
       "    .dataframe tbody tr th {\n",
       "        vertical-align: top;\n",
       "    }\n",
       "</style>\n",
       "<table border=\"1\" class=\"dataframe\">\n",
       "  <thead>\n",
       "    <tr style=\"text-align: right;\">\n",
       "      <th></th>\n",
       "      <th>Topic0</th>\n",
       "      <th>Topic1</th>\n",
       "      <th>Topic2</th>\n",
       "      <th>Topic3</th>\n",
       "      <th>Topic4</th>\n",
       "      <th>Topic5</th>\n",
       "      <th>Topic6</th>\n",
       "      <th>Topic7</th>\n",
       "      <th>Topic8</th>\n",
       "      <th>Topic9</th>\n",
       "      <th>...</th>\n",
       "      <th>Topic11</th>\n",
       "      <th>Topic12</th>\n",
       "      <th>Topic13</th>\n",
       "      <th>Topic14</th>\n",
       "      <th>Topic15</th>\n",
       "      <th>Topic16</th>\n",
       "      <th>Topic17</th>\n",
       "      <th>Topic18</th>\n",
       "      <th>Topic19</th>\n",
       "      <th>Dominant_Topic</th>\n",
       "    </tr>\n",
       "  </thead>\n",
       "  <tbody>\n",
       "    <tr>\n",
       "      <th>Doc0</th>\n",
       "      <td>0.0025</td>\n",
       "      <td>0.9525</td>\n",
       "      <td>0.0025</td>\n",
       "      <td>0.0025</td>\n",
       "      <td>0.0025</td>\n",
       "      <td>0.0025</td>\n",
       "      <td>0.0025</td>\n",
       "      <td>0.0025</td>\n",
       "      <td>0.0025</td>\n",
       "      <td>0.0025</td>\n",
       "      <td>...</td>\n",
       "      <td>0.0025</td>\n",
       "      <td>0.0025</td>\n",
       "      <td>0.0025</td>\n",
       "      <td>0.0025</td>\n",
       "      <td>0.0025</td>\n",
       "      <td>0.0025</td>\n",
       "      <td>0.0025</td>\n",
       "      <td>0.0025</td>\n",
       "      <td>0.0025</td>\n",
       "      <td>1</td>\n",
       "    </tr>\n",
       "    <tr>\n",
       "      <th>Doc1</th>\n",
       "      <td>0.0016</td>\n",
       "      <td>0.3394</td>\n",
       "      <td>0.0016</td>\n",
       "      <td>0.0016</td>\n",
       "      <td>0.0016</td>\n",
       "      <td>0.0016</td>\n",
       "      <td>0.0016</td>\n",
       "      <td>0.0016</td>\n",
       "      <td>0.0016</td>\n",
       "      <td>0.0016</td>\n",
       "      <td>...</td>\n",
       "      <td>0.0016</td>\n",
       "      <td>0.0016</td>\n",
       "      <td>0.0016</td>\n",
       "      <td>0.4355</td>\n",
       "      <td>0.0016</td>\n",
       "      <td>0.1976</td>\n",
       "      <td>0.0016</td>\n",
       "      <td>0.0016</td>\n",
       "      <td>0.0016</td>\n",
       "      <td>14</td>\n",
       "    </tr>\n",
       "    <tr>\n",
       "      <th>Doc2</th>\n",
       "      <td>0.0002</td>\n",
       "      <td>0.0002</td>\n",
       "      <td>0.0538</td>\n",
       "      <td>0.0002</td>\n",
       "      <td>0.0002</td>\n",
       "      <td>0.0002</td>\n",
       "      <td>0.2236</td>\n",
       "      <td>0.0002</td>\n",
       "      <td>0.3213</td>\n",
       "      <td>0.0002</td>\n",
       "      <td>...</td>\n",
       "      <td>0.0002</td>\n",
       "      <td>0.0002</td>\n",
       "      <td>0.0002</td>\n",
       "      <td>0.0002</td>\n",
       "      <td>0.0269</td>\n",
       "      <td>0.3709</td>\n",
       "      <td>0.0002</td>\n",
       "      <td>0.0002</td>\n",
       "      <td>0.0002</td>\n",
       "      <td>16</td>\n",
       "    </tr>\n",
       "    <tr>\n",
       "      <th>Doc3</th>\n",
       "      <td>0.0001</td>\n",
       "      <td>0.0882</td>\n",
       "      <td>0.0001</td>\n",
       "      <td>0.0001</td>\n",
       "      <td>0.0001</td>\n",
       "      <td>0.0001</td>\n",
       "      <td>0.7774</td>\n",
       "      <td>0.0001</td>\n",
       "      <td>0.0001</td>\n",
       "      <td>0.0312</td>\n",
       "      <td>...</td>\n",
       "      <td>0.0283</td>\n",
       "      <td>0.0001</td>\n",
       "      <td>0.0001</td>\n",
       "      <td>0.0560</td>\n",
       "      <td>0.0001</td>\n",
       "      <td>0.0001</td>\n",
       "      <td>0.0173</td>\n",
       "      <td>0.0001</td>\n",
       "      <td>0.0001</td>\n",
       "      <td>6</td>\n",
       "    </tr>\n",
       "    <tr>\n",
       "      <th>Doc4</th>\n",
       "      <td>0.0015</td>\n",
       "      <td>0.4211</td>\n",
       "      <td>0.0015</td>\n",
       "      <td>0.0015</td>\n",
       "      <td>0.0015</td>\n",
       "      <td>0.0015</td>\n",
       "      <td>0.5524</td>\n",
       "      <td>0.0015</td>\n",
       "      <td>0.0015</td>\n",
       "      <td>0.0015</td>\n",
       "      <td>...</td>\n",
       "      <td>0.0015</td>\n",
       "      <td>0.0015</td>\n",
       "      <td>0.0015</td>\n",
       "      <td>0.0015</td>\n",
       "      <td>0.0015</td>\n",
       "      <td>0.0015</td>\n",
       "      <td>0.0015</td>\n",
       "      <td>0.0015</td>\n",
       "      <td>0.0015</td>\n",
       "      <td>6</td>\n",
       "    </tr>\n",
       "    <tr>\n",
       "      <th>Doc5</th>\n",
       "      <td>0.0010</td>\n",
       "      <td>0.0010</td>\n",
       "      <td>0.0010</td>\n",
       "      <td>0.0010</td>\n",
       "      <td>0.2195</td>\n",
       "      <td>0.0010</td>\n",
       "      <td>0.0010</td>\n",
       "      <td>0.0010</td>\n",
       "      <td>0.0010</td>\n",
       "      <td>0.0010</td>\n",
       "      <td>...</td>\n",
       "      <td>0.0010</td>\n",
       "      <td>0.0010</td>\n",
       "      <td>0.0010</td>\n",
       "      <td>0.0010</td>\n",
       "      <td>0.0010</td>\n",
       "      <td>0.0010</td>\n",
       "      <td>0.0189</td>\n",
       "      <td>0.0010</td>\n",
       "      <td>0.0010</td>\n",
       "      <td>10</td>\n",
       "    </tr>\n",
       "    <tr>\n",
       "      <th>Doc6</th>\n",
       "      <td>0.0010</td>\n",
       "      <td>0.2630</td>\n",
       "      <td>0.2252</td>\n",
       "      <td>0.1230</td>\n",
       "      <td>0.0010</td>\n",
       "      <td>0.0010</td>\n",
       "      <td>0.0010</td>\n",
       "      <td>0.0010</td>\n",
       "      <td>0.0010</td>\n",
       "      <td>0.0010</td>\n",
       "      <td>...</td>\n",
       "      <td>0.0010</td>\n",
       "      <td>0.0010</td>\n",
       "      <td>0.0010</td>\n",
       "      <td>0.0010</td>\n",
       "      <td>0.3721</td>\n",
       "      <td>0.0010</td>\n",
       "      <td>0.0010</td>\n",
       "      <td>0.0010</td>\n",
       "      <td>0.0010</td>\n",
       "      <td>15</td>\n",
       "    </tr>\n",
       "    <tr>\n",
       "      <th>Doc7</th>\n",
       "      <td>0.0001</td>\n",
       "      <td>0.0001</td>\n",
       "      <td>0.0001</td>\n",
       "      <td>0.0001</td>\n",
       "      <td>0.0001</td>\n",
       "      <td>0.0001</td>\n",
       "      <td>0.0001</td>\n",
       "      <td>0.0001</td>\n",
       "      <td>0.0001</td>\n",
       "      <td>0.0001</td>\n",
       "      <td>...</td>\n",
       "      <td>0.0001</td>\n",
       "      <td>0.0001</td>\n",
       "      <td>0.0910</td>\n",
       "      <td>0.0001</td>\n",
       "      <td>0.0001</td>\n",
       "      <td>0.0001</td>\n",
       "      <td>0.8874</td>\n",
       "      <td>0.0206</td>\n",
       "      <td>0.0001</td>\n",
       "      <td>17</td>\n",
       "    </tr>\n",
       "    <tr>\n",
       "      <th>Doc8</th>\n",
       "      <td>0.0008</td>\n",
       "      <td>0.0008</td>\n",
       "      <td>0.0008</td>\n",
       "      <td>0.0008</td>\n",
       "      <td>0.1964</td>\n",
       "      <td>0.0008</td>\n",
       "      <td>0.0008</td>\n",
       "      <td>0.0008</td>\n",
       "      <td>0.0008</td>\n",
       "      <td>0.0008</td>\n",
       "      <td>...</td>\n",
       "      <td>0.0008</td>\n",
       "      <td>0.0008</td>\n",
       "      <td>0.0008</td>\n",
       "      <td>0.0008</td>\n",
       "      <td>0.4567</td>\n",
       "      <td>0.0008</td>\n",
       "      <td>0.1604</td>\n",
       "      <td>0.1743</td>\n",
       "      <td>0.0008</td>\n",
       "      <td>15</td>\n",
       "    </tr>\n",
       "    <tr>\n",
       "      <th>Doc9</th>\n",
       "      <td>0.0004</td>\n",
       "      <td>0.0004</td>\n",
       "      <td>0.0004</td>\n",
       "      <td>0.0004</td>\n",
       "      <td>0.0004</td>\n",
       "      <td>0.0004</td>\n",
       "      <td>0.4192</td>\n",
       "      <td>0.0312</td>\n",
       "      <td>0.0004</td>\n",
       "      <td>0.0004</td>\n",
       "      <td>...</td>\n",
       "      <td>0.1590</td>\n",
       "      <td>0.0004</td>\n",
       "      <td>0.0004</td>\n",
       "      <td>0.0004</td>\n",
       "      <td>0.2451</td>\n",
       "      <td>0.1397</td>\n",
       "      <td>0.0004</td>\n",
       "      <td>0.0004</td>\n",
       "      <td>0.0004</td>\n",
       "      <td>6</td>\n",
       "    </tr>\n",
       "  </tbody>\n",
       "</table>\n",
       "<p>10 rows × 21 columns</p>\n",
       "</div>"
      ],
      "text/plain": [
       "      Topic0  Topic1  Topic2  Topic3  Topic4  Topic5  Topic6  Topic7  Topic8  \\\n",
       "Doc0  0.0025  0.9525  0.0025  0.0025  0.0025  0.0025  0.0025  0.0025  0.0025   \n",
       "Doc1  0.0016  0.3394  0.0016  0.0016  0.0016  0.0016  0.0016  0.0016  0.0016   \n",
       "Doc2  0.0002  0.0002  0.0538  0.0002  0.0002  0.0002  0.2236  0.0002  0.3213   \n",
       "Doc3  0.0001  0.0882  0.0001  0.0001  0.0001  0.0001  0.7774  0.0001  0.0001   \n",
       "Doc4  0.0015  0.4211  0.0015  0.0015  0.0015  0.0015  0.5524  0.0015  0.0015   \n",
       "Doc5  0.0010  0.0010  0.0010  0.0010  0.2195  0.0010  0.0010  0.0010  0.0010   \n",
       "Doc6  0.0010  0.2630  0.2252  0.1230  0.0010  0.0010  0.0010  0.0010  0.0010   \n",
       "Doc7  0.0001  0.0001  0.0001  0.0001  0.0001  0.0001  0.0001  0.0001  0.0001   \n",
       "Doc8  0.0008  0.0008  0.0008  0.0008  0.1964  0.0008  0.0008  0.0008  0.0008   \n",
       "Doc9  0.0004  0.0004  0.0004  0.0004  0.0004  0.0004  0.4192  0.0312  0.0004   \n",
       "\n",
       "      Topic9       ...        Topic11  Topic12  Topic13  Topic14  Topic15  \\\n",
       "Doc0  0.0025       ...         0.0025   0.0025   0.0025   0.0025   0.0025   \n",
       "Doc1  0.0016       ...         0.0016   0.0016   0.0016   0.4355   0.0016   \n",
       "Doc2  0.0002       ...         0.0002   0.0002   0.0002   0.0002   0.0269   \n",
       "Doc3  0.0312       ...         0.0283   0.0001   0.0001   0.0560   0.0001   \n",
       "Doc4  0.0015       ...         0.0015   0.0015   0.0015   0.0015   0.0015   \n",
       "Doc5  0.0010       ...         0.0010   0.0010   0.0010   0.0010   0.0010   \n",
       "Doc6  0.0010       ...         0.0010   0.0010   0.0010   0.0010   0.3721   \n",
       "Doc7  0.0001       ...         0.0001   0.0001   0.0910   0.0001   0.0001   \n",
       "Doc8  0.0008       ...         0.0008   0.0008   0.0008   0.0008   0.4567   \n",
       "Doc9  0.0004       ...         0.1590   0.0004   0.0004   0.0004   0.2451   \n",
       "\n",
       "      Topic16  Topic17  Topic18  Topic19  Dominant_Topic  \n",
       "Doc0   0.0025   0.0025   0.0025   0.0025               1  \n",
       "Doc1   0.1976   0.0016   0.0016   0.0016              14  \n",
       "Doc2   0.3709   0.0002   0.0002   0.0002              16  \n",
       "Doc3   0.0001   0.0173   0.0001   0.0001               6  \n",
       "Doc4   0.0015   0.0015   0.0015   0.0015               6  \n",
       "Doc5   0.0010   0.0189   0.0010   0.0010              10  \n",
       "Doc6   0.0010   0.0010   0.0010   0.0010              15  \n",
       "Doc7   0.0001   0.8874   0.0206   0.0001              17  \n",
       "Doc8   0.0008   0.1604   0.1743   0.0008              15  \n",
       "Doc9   0.1397   0.0004   0.0004   0.0004               6  \n",
       "\n",
       "[10 rows x 21 columns]"
      ]
     },
     "execution_count": 47,
     "metadata": {},
     "output_type": "execute_result"
    }
   ],
   "source": [
    "getDocsTopicsMatrix(x_train, best_lda_model, lda_output).head(10)"
   ]
  },
  {
   "cell_type": "markdown",
   "metadata": {},
   "source": [
    "# 5. Topic modeling avec NMF"
   ]
  },
  {
   "cell_type": "markdown",
   "metadata": {},
   "source": [
    "Voyons maintenant la méthode NMF (Factorisation par matrices non négatives) pour prédire nos tags."
   ]
  },
  {
   "cell_type": "markdown",
   "metadata": {},
   "source": [
    "## 5.1 Tuning manuel"
   ]
  },
  {
   "cell_type": "markdown",
   "metadata": {},
   "source": [
    "### Apprentissage"
   ]
  },
  {
   "cell_type": "code",
   "execution_count": 48,
   "metadata": {
    "collapsed": true
   },
   "outputs": [],
   "source": [
    "def fit_transform_NMF(train_data, target_data, min_df, max_df, num_topics) :\n",
    "    print(\"[min_df:{:d} max_df:{:.2f} num_topics:{}]\"\n",
    "          .format(min_df, max_df, num_topics), end=\" \", flush=True)\n",
    "    tfidf_vectorizer = TfidfVectorizer(min_df=min_df, max_df=max_df)\n",
    "    tfidf_vectorized = tfidf_vectorizer.fit_transform(train_data['TITLE_P'] + ' ' + train_data['BODY_P'])\n",
    "    nmf_model = NMF(n_components=num_topics, random_state=1, alpha=.1, l1_ratio=.5)\n",
    "    nmf_output = nmf_model.fit_transform(tfidf_vectorized)\n",
    "    tags_by_topics_matrix = buildTagByTopicsMatrix(nmf_model, nmf_output, target_data)\n",
    "    return nmf_output, nmf_model, tfidf_vectorizer, tags_by_topics_matrix"
   ]
  },
  {
   "cell_type": "markdown",
   "metadata": {},
   "source": [
    "### Evaluation"
   ]
  },
  {
   "cell_type": "code",
   "execution_count": 49,
   "metadata": {},
   "outputs": [
    {
     "name": "stdout",
     "output_type": "stream",
     "text": [
      "[min_df:5 max_df:0.75 num_topics:10] Prediction accuracy: 26.89 % \n",
      "[min_df:5 max_df:0.85 num_topics:10] Prediction accuracy: 26.89 % \n",
      "[min_df:5 max_df:0.95 num_topics:10] Prediction accuracy: 26.89 % \n",
      "[min_df:10 max_df:0.75 num_topics:10] Prediction accuracy: 27.06 % \n",
      "[min_df:10 max_df:0.85 num_topics:10] Prediction accuracy: 27.06 % \n",
      "[min_df:10 max_df:0.95 num_topics:10] Prediction accuracy: 27.06 % \n",
      "[min_df:20 max_df:0.75 num_topics:10] Prediction accuracy: 27.75 % \n",
      "[min_df:20 max_df:0.85 num_topics:10] Prediction accuracy: 27.75 % \n",
      "[min_df:20 max_df:0.95 num_topics:10] Prediction accuracy: 27.75 % \n",
      "[min_df:5 max_df:0.75 num_topics:20] Prediction accuracy: 30.59 % \n",
      "[min_df:5 max_df:0.85 num_topics:20] Prediction accuracy: 30.59 % \n",
      "[min_df:5 max_df:0.95 num_topics:20] Prediction accuracy: 30.59 % \n",
      "[min_df:10 max_df:0.75 num_topics:20] Prediction accuracy: 31.18 % \n",
      "[min_df:10 max_df:0.85 num_topics:20] Prediction accuracy: 31.18 % \n",
      "[min_df:10 max_df:0.95 num_topics:20] Prediction accuracy: 31.18 % \n",
      "[min_df:20 max_df:0.75 num_topics:20] Prediction accuracy: 30.96 % \n",
      "[min_df:20 max_df:0.85 num_topics:20] Prediction accuracy: 30.96 % \n",
      "[min_df:20 max_df:0.95 num_topics:20] Prediction accuracy: 30.96 % \n",
      "[min_df:5 max_df:0.75 num_topics:30] Prediction accuracy: 30.98 % \n",
      "[min_df:5 max_df:0.85 num_topics:30] Prediction accuracy: 30.98 % \n",
      "[min_df:5 max_df:0.95 num_topics:30] Prediction accuracy: 30.98 % \n",
      "[min_df:10 max_df:0.75 num_topics:30] Prediction accuracy: 31.79 % \n",
      "[min_df:10 max_df:0.85 num_topics:30] Prediction accuracy: 31.79 % \n",
      "[min_df:10 max_df:0.95 num_topics:30] Prediction accuracy: 31.79 % \n",
      "[min_df:20 max_df:0.75 num_topics:30] Prediction accuracy: 31.57 % \n",
      "[min_df:20 max_df:0.85 num_topics:30] Prediction accuracy: 31.57 % \n",
      "[min_df:20 max_df:0.95 num_topics:30] Prediction accuracy: 31.57 % \n"
     ]
    }
   ],
   "source": [
    "for n_topics in num_topics :\n",
    "    for min_df in min_df_values :\n",
    "        for max_df in max_df_values :\n",
    "            nmf_output_m, nmf_model_m, tfidf_vectorizer_m, tags_by_topics_m = fit_transform_NMF(x_train, y_train, min_df, max_df, n_topics)\n",
    "            y_predicted_nmf = getPostsTagsPrediction(x_test, 5, tags_by_topics_m, tfidf_vectorizer_m, nmf_model_m, nmf_output_m)\n",
    "            predictionAccuracy(y_predicted_nmf,y_test)"
   ]
  },
  {
   "cell_type": "markdown",
   "metadata": {},
   "source": [
    "### Evaluation de la prédiction de notre sample de validation"
   ]
  },
  {
   "cell_type": "code",
   "execution_count": 54,
   "metadata": {},
   "outputs": [
    {
     "name": "stdout",
     "output_type": "stream",
     "text": [
      "[min_df:10 max_df:0.95 num_topics:30] "
     ]
    }
   ],
   "source": [
    "nmf_output, best_nmf_model, tfidf_vectorizer, tags_by_topics_nmf = fit_transform_NMF(x_train, y_train, 10, 0.95, 30)"
   ]
  },
  {
   "cell_type": "code",
   "execution_count": 55,
   "metadata": {},
   "outputs": [
    {
     "name": "stdout",
     "output_type": "stream",
     "text": [
      "Prediction accuracy: 26.83 % \n"
     ]
    }
   ],
   "source": [
    "y_predicted = getPostsTagsPrediction(x_validation, 5,tags_by_topics_nmf, tfidf_vectorizer, best_nmf_model, nmf_output)\n",
    "predictionAccuracy(y_predicted, y_validation)"
   ]
  },
  {
   "cell_type": "markdown",
   "metadata": {},
   "source": [
    "## 5.2 Ajustement du nombre de tags"
   ]
  },
  {
   "cell_type": "code",
   "execution_count": 56,
   "metadata": {},
   "outputs": [
    {
     "name": "stdout",
     "output_type": "stream",
     "text": [
      "3 tags : Prediction accuracy: 22.70 % \n",
      "4 tags : Prediction accuracy: 25.07 % \n",
      "5 tags : Prediction accuracy: 26.83 % \n",
      "6 tags : Prediction accuracy: 28.12 % \n",
      "7 tags : Prediction accuracy: 29.36 % \n",
      "8 tags : Prediction accuracy: 30.64 % \n"
     ]
    }
   ],
   "source": [
    "num_tags = [3, 4, 5, 6, 7, 8]\n",
    "for n in num_tags :\n",
    "    print(\"{} tags :\".format(n), end=\" \", flush=True)\n",
    "    y_predicted = getPostsTagsPrediction(x_validation, n, tags_by_topics_nmf, tfidf_vectorizer, best_nmf_model, nmf_output)\n",
    "    predictionAccuracy(y_predicted, y_validation)"
   ]
  },
  {
   "cell_type": "markdown",
   "metadata": {},
   "source": [
    "## 5.3 Analyse"
   ]
  },
  {
   "cell_type": "markdown",
   "metadata": {},
   "source": [
    "### Topics / Words"
   ]
  },
  {
   "cell_type": "code",
   "execution_count": 57,
   "metadata": {},
   "outputs": [
    {
     "data": {
      "text/html": [
       "<div>\n",
       "<style>\n",
       "    .dataframe thead tr:only-child th {\n",
       "        text-align: right;\n",
       "    }\n",
       "\n",
       "    .dataframe thead th {\n",
       "        text-align: left;\n",
       "    }\n",
       "\n",
       "    .dataframe tbody tr th {\n",
       "        vertical-align: top;\n",
       "    }\n",
       "</style>\n",
       "<table border=\"1\" class=\"dataframe\">\n",
       "  <thead>\n",
       "    <tr style=\"text-align: right;\">\n",
       "      <th></th>\n",
       "      <th>Word 0</th>\n",
       "      <th>Word 1</th>\n",
       "      <th>Word 2</th>\n",
       "      <th>Word 3</th>\n",
       "      <th>Word 4</th>\n",
       "      <th>Word 5</th>\n",
       "      <th>Word 6</th>\n",
       "      <th>Word 7</th>\n",
       "      <th>Word 8</th>\n",
       "      <th>Word 9</th>\n",
       "      <th>Word 10</th>\n",
       "      <th>Word 11</th>\n",
       "    </tr>\n",
       "  </thead>\n",
       "  <tbody>\n",
       "    <tr>\n",
       "      <th>Topic 0</th>\n",
       "      <td>use</td>\n",
       "      <td>user</td>\n",
       "      <td>would</td>\n",
       "      <td>request</td>\n",
       "      <td>like</td>\n",
       "      <td>get</td>\n",
       "      <td>work</td>\n",
       "      <td>api</td>\n",
       "      <td>code</td>\n",
       "      <td>http</td>\n",
       "      <td>way</td>\n",
       "      <td>set</td>\n",
       "    </tr>\n",
       "    <tr>\n",
       "      <th>Topic 1</th>\n",
       "      <td>android</td>\n",
       "      <td>layout</td>\n",
       "      <td>parent</td>\n",
       "      <td>view</td>\n",
       "      <td>dp</td>\n",
       "      <td>height</td>\n",
       "      <td>match</td>\n",
       "      <td>id</td>\n",
       "      <td>width</td>\n",
       "      <td>support</td>\n",
       "      <td>studio</td>\n",
       "      <td>widget</td>\n",
       "    </tr>\n",
       "    <tr>\n",
       "      <th>Topic 2</th>\n",
       "      <td>int</td>\n",
       "      <td>compil</td>\n",
       "      <td>const</td>\n",
       "      <td>main</td>\n",
       "      <td>void</td>\n",
       "      <td>return</td>\n",
       "      <td>char</td>\n",
       "      <td>include</td>\n",
       "      <td>float</td>\n",
       "      <td>for</td>\n",
       "      <td>gcc</td>\n",
       "      <td>clang</td>\n",
       "    </tr>\n",
       "    <tr>\n",
       "      <th>Topic 3</th>\n",
       "      <td>div</td>\n",
       "      <td>class</td>\n",
       "      <td>button</td>\n",
       "      <td>form</td>\n",
       "      <td>input</td>\n",
       "      <td>span</td>\n",
       "      <td>ng</td>\n",
       "      <td>label</td>\n",
       "      <td>html</td>\n",
       "      <td>text</td>\n",
       "      <td>click</td>\n",
       "      <td>col</td>\n",
       "    </tr>\n",
       "    <tr>\n",
       "      <th>Topic 4</th>\n",
       "      <td>java</td>\n",
       "      <td>at</td>\n",
       "      <td>org</td>\n",
       "      <td>lang</td>\n",
       "      <td>internal</td>\n",
       "      <td>apache</td>\n",
       "      <td>util</td>\n",
       "      <td>activitythread</td>\n",
       "      <td>springframework</td>\n",
       "      <td>com</td>\n",
       "      <td>run</td>\n",
       "      <td>sun</td>\n",
       "    </tr>\n",
       "    <tr>\n",
       "      <th>Topic 5</th>\n",
       "      <td>angular</td>\n",
       "      <td>import</td>\n",
       "      <td>component</td>\n",
       "      <td>compon</td>\n",
       "      <td>router</td>\n",
       "      <td>from</td>\n",
       "      <td>ts</td>\n",
       "      <td>export</td>\n",
       "      <td>this</td>\n",
       "      <td>rout</td>\n",
       "      <td>core</td>\n",
       "      <td>ng</td>\n",
       "    </tr>\n",
       "    <tr>\n",
       "      <th>Topic 6</th>\n",
       "      <td>px</td>\n",
       "      <td>width</td>\n",
       "      <td>color</td>\n",
       "      <td>height</td>\n",
       "      <td>background</td>\n",
       "      <td>text</td>\n",
       "      <td>border</td>\n",
       "      <td>style</td>\n",
       "      <td>css</td>\n",
       "      <td>left</td>\n",
       "      <td>top</td>\n",
       "      <td>font</td>\n",
       "    </tr>\n",
       "    <tr>\n",
       "      <th>Topic 7</th>\n",
       "      <td>public</td>\n",
       "      <td>class</td>\n",
       "      <td>void</td>\n",
       "      <td>static</td>\n",
       "      <td>new</td>\n",
       "      <td>private</td>\n",
       "      <td>method</td>\n",
       "      <td>this</td>\n",
       "      <td>override</td>\n",
       "      <td>return</td>\n",
       "      <td>null</td>\n",
       "      <td>final</td>\n",
       "    </tr>\n",
       "    <tr>\n",
       "      <th>Topic 8</th>\n",
       "      <td>file</td>\n",
       "      <td>python</td>\n",
       "      <td>py</td>\n",
       "      <td>line</td>\n",
       "      <td>import</td>\n",
       "      <td>lib</td>\n",
       "      <td>in</td>\n",
       "      <td>path</td>\n",
       "      <td>instal</td>\n",
       "      <td>usr</td>\n",
       "      <td>pip</td>\n",
       "      <td>tensorflow</td>\n",
       "    </tr>\n",
       "    <tr>\n",
       "      <th>Topic 9</th>\n",
       "      <td>foo</td>\n",
       "      <td>bar</td>\n",
       "      <td>baz</td>\n",
       "      <td>const</td>\n",
       "      <td>struct</td>\n",
       "      <td>class</td>\n",
       "      <td>str</td>\n",
       "      <td>template</td>\n",
       "      <td>compil</td>\n",
       "      <td>templat</td>\n",
       "      <td>argument</td>\n",
       "      <td>void</td>\n",
       "    </tr>\n",
       "    <tr>\n",
       "      <th>Topic 10</th>\n",
       "      <td>map</td>\n",
       "      <td>key</td>\n",
       "      <td>stream</td>\n",
       "      <td>marker</td>\n",
       "      <td>maps</td>\n",
       "      <td>object</td>\n",
       "      <td>collect</td>\n",
       "      <td>put</td>\n",
       "      <td>googl</td>\n",
       "      <td>hashmap</td>\n",
       "      <td>val</td>\n",
       "      <td>foreach</td>\n",
       "    </tr>\n",
       "    <tr>\n",
       "      <th>Topic 11</th>\n",
       "      <td>react</td>\n",
       "      <td>nativ</td>\n",
       "      <td>compon</td>\n",
       "      <td>render</td>\n",
       "      <td>native</td>\n",
       "      <td>import</td>\n",
       "      <td>props</td>\n",
       "      <td>redux</td>\n",
       "      <td>state</td>\n",
       "      <td>this</td>\n",
       "      <td>from</td>\n",
       "      <td>router</td>\n",
       "    </tr>\n",
       "    <tr>\n",
       "      <th>Topic 12</th>\n",
       "      <td>function</td>\n",
       "      <td>var</td>\n",
       "      <td>log</td>\n",
       "      <td>return</td>\n",
       "      <td>console</td>\n",
       "      <td>this</td>\n",
       "      <td>error</td>\n",
       "      <td>call</td>\n",
       "      <td>if</td>\n",
       "      <td>err</td>\n",
       "      <td>event</td>\n",
       "      <td>const</td>\n",
       "    </tr>\n",
       "    <tr>\n",
       "      <th>Topic 13</th>\n",
       "      <td>docker</td>\n",
       "      <td>compos</td>\n",
       "      <td>run</td>\n",
       "      <td>contain</td>\n",
       "      <td>build</td>\n",
       "      <td>command</td>\n",
       "      <td>compose</td>\n",
       "      <td>host</td>\n",
       "      <td>yml</td>\n",
       "      <td>swarm</td>\n",
       "      <td>tcp</td>\n",
       "      <td>dockerfil</td>\n",
       "    </tr>\n",
       "    <tr>\n",
       "      <th>Topic 14</th>\n",
       "      <td>imag</td>\n",
       "      <td>image</td>\n",
       "      <td>img</td>\n",
       "      <td>png</td>\n",
       "      <td>jpg</td>\n",
       "      <td>upload</td>\n",
       "      <td>src</td>\n",
       "      <td>images</td>\n",
       "      <td>camera</td>\n",
       "      <td>cv</td>\n",
       "      <td>size</td>\n",
       "      <td>load</td>\n",
       "    </tr>\n",
       "    <tr>\n",
       "      <th>Topic 15</th>\n",
       "      <td>xcode</td>\n",
       "      <td>swift</td>\n",
       "      <td>io</td>\n",
       "      <td>beta</td>\n",
       "      <td>error</td>\n",
       "      <td>project</td>\n",
       "      <td>build</td>\n",
       "      <td>simul</td>\n",
       "      <td>version</td>\n",
       "      <td>updat</td>\n",
       "      <td>iphon</td>\n",
       "      <td>crash</td>\n",
       "    </tr>\n",
       "    <tr>\n",
       "      <th>Topic 16</th>\n",
       "      <td>string</td>\n",
       "      <td>convert</td>\n",
       "      <td>return</td>\n",
       "      <td>text</td>\n",
       "      <td>str</td>\n",
       "      <td>valu</td>\n",
       "      <td>charact</td>\n",
       "      <td>hello</td>\n",
       "      <td>println</td>\n",
       "      <td>system</td>\n",
       "      <td>public</td>\n",
       "      <td>let</td>\n",
       "    </tr>\n",
       "    <tr>\n",
       "      <th>Topic 17</th>\n",
       "      <td>array</td>\n",
       "      <td>element</td>\n",
       "      <td>np</td>\n",
       "      <td>arr</td>\n",
       "      <td>valu</td>\n",
       "      <td>object</td>\n",
       "      <td>length</td>\n",
       "      <td>index</td>\n",
       "      <td>numpi</td>\n",
       "      <td>loop</td>\n",
       "      <td>size</td>\n",
       "      <td>php</td>\n",
       "    </tr>\n",
       "    <tr>\n",
       "      <th>Topic 18</th>\n",
       "      <td>test</td>\n",
       "      <td>unit</td>\n",
       "      <td>run</td>\n",
       "      <td>jest</td>\n",
       "      <td>junit</td>\n",
       "      <td>tests</td>\n",
       "      <td>mock</td>\n",
       "      <td>fail</td>\n",
       "      <td>pytest</td>\n",
       "      <td>runner</td>\n",
       "      <td>debug</td>\n",
       "      <td>src</td>\n",
       "    </tr>\n",
       "    <tr>\n",
       "      <th>Topic 19</th>\n",
       "      <td>list</td>\n",
       "      <td>item</td>\n",
       "      <td>element</td>\n",
       "      <td>new</td>\n",
       "      <td>python</td>\n",
       "      <td>arraylist</td>\n",
       "      <td>stream</td>\n",
       "      <td>for</td>\n",
       "      <td>add</td>\n",
       "      <td>in</td>\n",
       "      <td>sort</td>\n",
       "      <td>li</td>\n",
       "    </tr>\n",
       "    <tr>\n",
       "      <th>Topic 20</th>\n",
       "      <td>js</td>\n",
       "      <td>node</td>\n",
       "      <td>webpack</td>\n",
       "      <td>npm</td>\n",
       "      <td>modules</td>\n",
       "      <td>module</td>\n",
       "      <td>modul</td>\n",
       "      <td>at</td>\n",
       "      <td>script</td>\n",
       "      <td>require</td>\n",
       "      <td>index</td>\n",
       "      <td>config</td>\n",
       "    </tr>\n",
       "    <tr>\n",
       "      <th>Topic 21</th>\n",
       "      <td>net</td>\n",
       "      <td>core</td>\n",
       "      <td>project</td>\n",
       "      <td>studio</td>\n",
       "      <td>visual</td>\n",
       "      <td>asp</td>\n",
       "      <td>microsoft</td>\n",
       "      <td>version</td>\n",
       "      <td>instal</td>\n",
       "      <td>build</td>\n",
       "      <td>framework</td>\n",
       "      <td>system</td>\n",
       "    </tr>\n",
       "    <tr>\n",
       "      <th>Topic 22</th>\n",
       "      <td>self</td>\n",
       "      <td>let</td>\n",
       "      <td>func</td>\n",
       "      <td>view</td>\n",
       "      <td>def</td>\n",
       "      <td>print</td>\n",
       "      <td>nil</td>\n",
       "      <td>init</td>\n",
       "      <td>in</td>\n",
       "      <td>if</td>\n",
       "      <td>swift</td>\n",
       "      <td>return</td>\n",
       "    </tr>\n",
       "    <tr>\n",
       "      <th>Topic 23</th>\n",
       "      <td>std</td>\n",
       "      <td>const</td>\n",
       "      <td>cout</td>\n",
       "      <td>vector</td>\n",
       "      <td>include</td>\n",
       "      <td>endl</td>\n",
       "      <td>typename</td>\n",
       "      <td>template</td>\n",
       "      <td>struct</td>\n",
       "      <td>auto</td>\n",
       "      <td>operator</td>\n",
       "      <td>compil</td>\n",
       "    </tr>\n",
       "    <tr>\n",
       "      <th>Topic 24</th>\n",
       "      <td>com</td>\n",
       "      <td>compile</td>\n",
       "      <td>android</td>\n",
       "      <td>google</td>\n",
       "      <td>support</td>\n",
       "      <td>gradl</td>\n",
       "      <td>build</td>\n",
       "      <td>gradle</td>\n",
       "      <td>firebase</td>\n",
       "      <td>gms</td>\n",
       "      <td>plugin</td>\n",
       "      <td>project</td>\n",
       "    </tr>\n",
       "    <tr>\n",
       "      <th>Topic 25</th>\n",
       "      <td>data</td>\n",
       "      <td>df</td>\n",
       "      <td>column</td>\n",
       "      <td>datafram</td>\n",
       "      <td>panda</td>\n",
       "      <td>json</td>\n",
       "      <td>model</td>\n",
       "      <td>row</td>\n",
       "      <td>frame</td>\n",
       "      <td>plot</td>\n",
       "      <td>pd</td>\n",
       "      <td>read</td>\n",
       "    </tr>\n",
       "    <tr>\n",
       "      <th>Topic 26</th>\n",
       "      <td>app</td>\n",
       "      <td>io</td>\n",
       "      <td>firebas</td>\n",
       "      <td>notif</td>\n",
       "      <td>devic</td>\n",
       "      <td>build</td>\n",
       "      <td>run</td>\n",
       "      <td>develop</td>\n",
       "      <td>deploy</td>\n",
       "      <td>crash</td>\n",
       "      <td>googl</td>\n",
       "      <td>applic</td>\n",
       "    </tr>\n",
       "    <tr>\n",
       "      <th>Topic 27</th>\n",
       "      <td>type</td>\n",
       "      <td>error</td>\n",
       "      <td>object</td>\n",
       "      <td>enum</td>\n",
       "      <td>typescript</td>\n",
       "      <td>name</td>\n",
       "      <td>value</td>\n",
       "      <td>struct</td>\n",
       "      <td>compil</td>\n",
       "      <td>gener</td>\n",
       "      <td>ts</td>\n",
       "      <td>field</td>\n",
       "    </tr>\n",
       "    <tr>\n",
       "      <th>Topic 28</th>\n",
       "      <td>date</td>\n",
       "      <td>format</td>\n",
       "      <td>time</td>\n",
       "      <td>datetime</td>\n",
       "      <td>month</td>\n",
       "      <td>mm</td>\n",
       "      <td>convert</td>\n",
       "      <td>df</td>\n",
       "      <td>end</td>\n",
       "      <td>dd</td>\n",
       "      <td>as</td>\n",
       "      <td>value</td>\n",
       "    </tr>\n",
       "    <tr>\n",
       "      <th>Topic 29</th>\n",
       "      <td>id</td>\n",
       "      <td>name</td>\n",
       "      <td>select</td>\n",
       "      <td>column</td>\n",
       "      <td>tabl</td>\n",
       "      <td>user</td>\n",
       "      <td>row</td>\n",
       "      <td>queri</td>\n",
       "      <td>table</td>\n",
       "      <td>value</td>\n",
       "      <td>valu</td>\n",
       "      <td>field</td>\n",
       "    </tr>\n",
       "  </tbody>\n",
       "</table>\n",
       "</div>"
      ],
      "text/plain": [
       "            Word 0   Word 1     Word 2    Word 3      Word 4     Word 5  \\\n",
       "Topic 0        use     user      would   request        like        get   \n",
       "Topic 1    android   layout     parent      view          dp     height   \n",
       "Topic 2        int   compil      const      main        void     return   \n",
       "Topic 3        div    class     button      form       input       span   \n",
       "Topic 4       java       at        org      lang    internal     apache   \n",
       "Topic 5    angular   import  component    compon      router       from   \n",
       "Topic 6         px    width      color    height  background       text   \n",
       "Topic 7     public    class       void    static         new    private   \n",
       "Topic 8       file   python         py      line      import        lib   \n",
       "Topic 9        foo      bar        baz     const      struct      class   \n",
       "Topic 10       map      key     stream    marker        maps     object   \n",
       "Topic 11     react    nativ     compon    render      native     import   \n",
       "Topic 12  function      var        log    return     console       this   \n",
       "Topic 13    docker   compos        run   contain       build    command   \n",
       "Topic 14      imag    image        img       png         jpg     upload   \n",
       "Topic 15     xcode    swift         io      beta       error    project   \n",
       "Topic 16    string  convert     return      text         str       valu   \n",
       "Topic 17     array  element         np       arr        valu     object   \n",
       "Topic 18      test     unit        run      jest       junit      tests   \n",
       "Topic 19      list     item    element       new      python  arraylist   \n",
       "Topic 20        js     node    webpack       npm     modules     module   \n",
       "Topic 21       net     core    project    studio      visual        asp   \n",
       "Topic 22      self      let       func      view         def      print   \n",
       "Topic 23       std    const       cout    vector     include       endl   \n",
       "Topic 24       com  compile    android    google     support      gradl   \n",
       "Topic 25      data       df     column  datafram       panda       json   \n",
       "Topic 26       app       io    firebas     notif       devic      build   \n",
       "Topic 27      type    error     object      enum  typescript       name   \n",
       "Topic 28      date   format       time  datetime       month         mm   \n",
       "Topic 29        id     name     select    column        tabl       user   \n",
       "\n",
       "             Word 6          Word 7           Word 8   Word 9    Word 10  \\\n",
       "Topic 0        work             api             code     http        way   \n",
       "Topic 1       match              id            width  support     studio   \n",
       "Topic 2        char         include            float      for        gcc   \n",
       "Topic 3          ng           label             html     text      click   \n",
       "Topic 4        util  activitythread  springframework      com        run   \n",
       "Topic 5          ts          export             this     rout       core   \n",
       "Topic 6      border           style              css     left        top   \n",
       "Topic 7      method            this         override   return       null   \n",
       "Topic 8          in            path           instal      usr        pip   \n",
       "Topic 9         str        template           compil  templat   argument   \n",
       "Topic 10    collect             put            googl  hashmap        val   \n",
       "Topic 11      props           redux            state     this       from   \n",
       "Topic 12      error            call               if      err      event   \n",
       "Topic 13    compose            host              yml    swarm        tcp   \n",
       "Topic 14        src          images           camera       cv       size   \n",
       "Topic 15      build           simul          version    updat      iphon   \n",
       "Topic 16    charact           hello          println   system     public   \n",
       "Topic 17     length           index            numpi     loop       size   \n",
       "Topic 18       mock            fail           pytest   runner      debug   \n",
       "Topic 19     stream             for              add       in       sort   \n",
       "Topic 20      modul              at           script  require      index   \n",
       "Topic 21  microsoft         version           instal    build  framework   \n",
       "Topic 22        nil            init               in       if      swift   \n",
       "Topic 23   typename        template           struct     auto   operator   \n",
       "Topic 24      build          gradle         firebase      gms     plugin   \n",
       "Topic 25      model             row            frame     plot         pd   \n",
       "Topic 26        run         develop           deploy    crash      googl   \n",
       "Topic 27      value          struct           compil    gener         ts   \n",
       "Topic 28    convert              df              end       dd         as   \n",
       "Topic 29        row           queri            table    value       valu   \n",
       "\n",
       "             Word 11  \n",
       "Topic 0          set  \n",
       "Topic 1       widget  \n",
       "Topic 2        clang  \n",
       "Topic 3          col  \n",
       "Topic 4          sun  \n",
       "Topic 5           ng  \n",
       "Topic 6         font  \n",
       "Topic 7        final  \n",
       "Topic 8   tensorflow  \n",
       "Topic 9         void  \n",
       "Topic 10     foreach  \n",
       "Topic 11      router  \n",
       "Topic 12       const  \n",
       "Topic 13   dockerfil  \n",
       "Topic 14        load  \n",
       "Topic 15       crash  \n",
       "Topic 16         let  \n",
       "Topic 17         php  \n",
       "Topic 18         src  \n",
       "Topic 19          li  \n",
       "Topic 20      config  \n",
       "Topic 21      system  \n",
       "Topic 22      return  \n",
       "Topic 23      compil  \n",
       "Topic 24     project  \n",
       "Topic 25        read  \n",
       "Topic 26      applic  \n",
       "Topic 27       field  \n",
       "Topic 28       value  \n",
       "Topic 29       field  "
      ]
     },
     "metadata": {},
     "output_type": "display_data"
    }
   ],
   "source": [
    "showTopicsTopWords(best_nmf_model, tfidf_vectorizer.get_feature_names(), 12)"
   ]
  },
  {
   "cell_type": "code",
   "execution_count": null,
   "metadata": {
    "collapsed": true
   },
   "outputs": [],
   "source": []
  }
 ],
 "metadata": {
  "kernelspec": {
   "display_name": "Python 3",
   "language": "python",
   "name": "python3"
  },
  "language_info": {
   "codemirror_mode": {
    "name": "ipython",
    "version": 3
   },
   "file_extension": ".py",
   "mimetype": "text/x-python",
   "name": "python",
   "nbconvert_exporter": "python",
   "pygments_lexer": "ipython3",
   "version": "3.6.2"
  }
 },
 "nbformat": 4,
 "nbformat_minor": 2
}
