{
 "cells": [
  {
   "cell_type": "markdown",
   "metadata": {},
   "source": [
    "# Projet 6 : Catégorisez automatiquement des questions\n",
    "# <u>A. Exploration des données</u> <br/>"
   ]
  },
  {
   "cell_type": "markdown",
   "metadata": {},
   "source": [
    "# Le contexte\n",
    "\n",
    "Afin d'aider les utilisateurs de Stack Overflow dans leur soumission de question, nous devons mettre en place un système de suggestion de tags. Pour celà nous allons nous baser sur les techniques de machine learning capable en fonction du texte saisi par l'utilisateur de déterminer des tags pertinents.\n",
    "\n",
    "Dans ce notebook nous allons commencer par nettoyer nos données et faire un pré-traitement sur celles-ci afin qu'on puisse lui appliquer des algorithmes d'apprentissage supervisé."
   ]
  },
  {
   "cell_type": "code",
   "execution_count": 1,
   "metadata": {
    "collapsed": true
   },
   "outputs": [],
   "source": [
    "import os\n",
    "import numpy as np\n",
    "import pandas as pd\n",
    "import matplotlib.pyplot as plt\n",
    "import seaborn as sns\n",
    "import glob\n",
    "\n",
    "from bs4 import BeautifulSoup\n",
    "import unicodedata\n",
    "import re\n",
    "import string\n",
    "import nltk\n",
    "from nltk.corpus import stopwords\n",
    "from nltk.stem.porter import PorterStemmer\n",
    "from nltk.tokenize.toktok import ToktokTokenizer\n",
    "from contractions import CONTRACTION_MAP\n",
    "from sklearn.feature_extraction.text import CountVectorizer\n",
    "\n",
    "from sklearn import model_selection, metrics\n",
    "from sklearn.decomposition import LatentDirichletAllocation\n",
    "\n",
    "\n",
    "\n",
    "%matplotlib inline\n",
    "import warnings\n",
    "#warnings.filterwarnings(\"ignore\", category=UserWarning, module='bs4')\n",
    "\n",
    "#pd.set_option('display.max_colwidth', -1)\n",
    "#pd.reset_option('display.max_colwidth')"
   ]
  },
  {
   "cell_type": "markdown",
   "metadata": {},
   "source": [
    "# 1. Les données"
   ]
  },
  {
   "cell_type": "markdown",
   "metadata": {},
   "source": [
    "Les données ont été obtenues par des requêtes SQL via l'outil **stackexchange explorer**<br/>\n",
    "Nous avons uniquement récupéré les posts ayant un **score supérieur à 5** pour avoir des questions jugées pertinentes.<br/>\n",
    "En raison des limitations sur les temps d'execution, nous avons fait plusieurs requêtes pour récupérer suffisamment de données pour notre analyse.<br/>\n",
    "\n",
    "\n",
    "\n",
    "\n",
    "\n",
    "```SQL\n",
    "SELECT TITLE, BODY, SCORE, TAGS \n",
    "FROM POSTS \n",
    "WHERE POSTTYPEID=1\n",
    "AND ID >= XX AND ID < YY\n",
    "AND SCORE > 5\n",
    "```"
   ]
  },
  {
   "cell_type": "code",
   "execution_count": 2,
   "metadata": {},
   "outputs": [
    {
     "name": "stdout",
     "output_type": "stream",
     "text": [
      "# Taille des fichiers\n",
      "./QueryResults_4.csv          26.03MB\n",
      "./QueryResults_5.csv          28.23MB\n",
      "./QueryResults_1.csv          22.19MB\n",
      "./QueryResults_2.csv          24.86MB\n",
      "./QueryResults_3.csv          21.25MB\n",
      "# Taille total : 0.12GB\n"
     ]
    }
   ],
   "source": [
    "path =r'.' # current dir\n",
    "datasets_path = glob.glob(path + \"/QueryResult*.csv\")\n",
    "total_size = 0\n",
    "print('# Taille des fichiers')\n",
    "for f in datasets_path:\n",
    "    total_size += round(os.path.getsize(f) / 1000000, 2)\n",
    "    print(f.ljust(30) + str(round(os.path.getsize(f) / 1000000, 2)) + 'MB')\n",
    "print('# Taille total : ' +  str(round(total_size / 1000, 2)) + 'GB')"
   ]
  },
  {
   "cell_type": "markdown",
   "metadata": {},
   "source": [
    "Nos données sont réparties dans 5 fichiers représentant une taille totale de 0,12Go."
   ]
  },
  {
   "cell_type": "code",
   "execution_count": 3,
   "metadata": {
    "collapsed": true
   },
   "outputs": [],
   "source": [
    "df = pd.DataFrame()\n",
    "list_ = []\n",
    "for file_ in datasets_path:\n",
    "    df_ = pd.read_csv(file_,index_col=None, header=0,low_memory=False, error_bad_lines=False)\n",
    "    list_.append(df_)\n",
    "df = pd.concat(list_, ignore_index=True)"
   ]
  },
  {
   "cell_type": "markdown",
   "metadata": {},
   "source": [
    "## 1.1 Dimensions"
   ]
  },
  {
   "cell_type": "code",
   "execution_count": 4,
   "metadata": {},
   "outputs": [
    {
     "data": {
      "text/plain": [
       "(64432, 4)"
      ]
     },
     "execution_count": 4,
     "metadata": {},
     "output_type": "execute_result"
    }
   ],
   "source": [
    "df.shape"
   ]
  },
  {
   "cell_type": "markdown",
   "metadata": {},
   "source": [
    "Les données sont composées de : **64 432 posts**"
   ]
  },
  {
   "cell_type": "markdown",
   "metadata": {},
   "source": [
    "## 1.2 Contenu"
   ]
  },
  {
   "cell_type": "code",
   "execution_count": 5,
   "metadata": {},
   "outputs": [
    {
     "data": {
      "text/html": [
       "<div>\n",
       "<style>\n",
       "    .dataframe thead tr:only-child th {\n",
       "        text-align: right;\n",
       "    }\n",
       "\n",
       "    .dataframe thead th {\n",
       "        text-align: left;\n",
       "    }\n",
       "\n",
       "    .dataframe tbody tr th {\n",
       "        vertical-align: top;\n",
       "    }\n",
       "</style>\n",
       "<table border=\"1\" class=\"dataframe\">\n",
       "  <thead>\n",
       "    <tr style=\"text-align: right;\">\n",
       "      <th></th>\n",
       "      <th>TITLE</th>\n",
       "      <th>BODY</th>\n",
       "      <th>SCORE</th>\n",
       "      <th>TAGS</th>\n",
       "    </tr>\n",
       "  </thead>\n",
       "  <tbody>\n",
       "    <tr>\n",
       "      <th>0</th>\n",
       "      <td>Java generics variable &lt;T&gt; value</td>\n",
       "      <td>&lt;p&gt;At the moment I am using the following code...</td>\n",
       "      <td>6</td>\n",
       "      <td>&lt;java&gt;&lt;generics&gt;</td>\n",
       "    </tr>\n",
       "    <tr>\n",
       "      <th>1</th>\n",
       "      <td>How a value typed variable is copied when it i...</td>\n",
       "      <td>&lt;blockquote&gt;\\n  &lt;p&gt;Swift's string type is a va...</td>\n",
       "      <td>6</td>\n",
       "      <td>&lt;swift&gt;&lt;function&gt;&lt;value-type&gt;</td>\n",
       "    </tr>\n",
       "    <tr>\n",
       "      <th>2</th>\n",
       "      <td>Error while waiting for device: The emulator p...</td>\n",
       "      <td>&lt;p&gt;I am a freshman for the development of the ...</td>\n",
       "      <td>6</td>\n",
       "      <td>&lt;android&gt;&lt;android-studio&gt;&lt;android-emulator&gt;&lt;avd&gt;</td>\n",
       "    </tr>\n",
       "    <tr>\n",
       "      <th>3</th>\n",
       "      <td>gulp-inject not working with gulp-watch</td>\n",
       "      <td>&lt;p&gt;I am using gulp-inject to auto add SASS imp...</td>\n",
       "      <td>10</td>\n",
       "      <td>&lt;javascript&gt;&lt;node.js&gt;&lt;npm&gt;&lt;gulp&gt;&lt;gulp-watch&gt;</td>\n",
       "    </tr>\n",
       "    <tr>\n",
       "      <th>4</th>\n",
       "      <td>React - Call function on props change</td>\n",
       "      <td>&lt;p&gt;My TranslationDetail component is passed an...</td>\n",
       "      <td>12</td>\n",
       "      <td>&lt;reactjs&gt;&lt;react-router&gt;</td>\n",
       "    </tr>\n",
       "  </tbody>\n",
       "</table>\n",
       "</div>"
      ],
      "text/plain": [
       "                                               TITLE  \\\n",
       "0                   Java generics variable <T> value   \n",
       "1  How a value typed variable is copied when it i...   \n",
       "2  Error while waiting for device: The emulator p...   \n",
       "3            gulp-inject not working with gulp-watch   \n",
       "4              React - Call function on props change   \n",
       "\n",
       "                                                BODY  SCORE  \\\n",
       "0  <p>At the moment I am using the following code...      6   \n",
       "1  <blockquote>\\n  <p>Swift's string type is a va...      6   \n",
       "2  <p>I am a freshman for the development of the ...      6   \n",
       "3  <p>I am using gulp-inject to auto add SASS imp...     10   \n",
       "4  <p>My TranslationDetail component is passed an...     12   \n",
       "\n",
       "                                               TAGS  \n",
       "0                                  <java><generics>  \n",
       "1                     <swift><function><value-type>  \n",
       "2  <android><android-studio><android-emulator><avd>  \n",
       "3      <javascript><node.js><npm><gulp><gulp-watch>  \n",
       "4                           <reactjs><react-router>  "
      ]
     },
     "execution_count": 5,
     "metadata": {},
     "output_type": "execute_result"
    }
   ],
   "source": [
    "df.head()"
   ]
  },
  {
   "cell_type": "code",
   "execution_count": 6,
   "metadata": {},
   "outputs": [
    {
     "data": {
      "text/plain": [
       "TITLE    object\n",
       "BODY     object\n",
       "SCORE     int64\n",
       "TAGS     object\n",
       "dtype: object"
      ]
     },
     "execution_count": 6,
     "metadata": {},
     "output_type": "execute_result"
    }
   ],
   "source": [
    "df.dtypes"
   ]
  },
  {
   "cell_type": "markdown",
   "metadata": {},
   "source": [
    "\n",
    "| Variable\t    | Type  \t                         | Description\t                                          | \n",
    "|---------------|------------------------------------|--------------------------------------------------------|\n",
    "| **TITLE**         | Textuelle                     \t | Titre du post (de la question)                         |\n",
    "| **BODY**          | Textuelle                          | Contenu textuel du post (détail de la question)         |\n",
    "| **SCORE**         | Continue (int)            | Score données par les internautes pour la pertinence de la question                 \t              |\n",
    "| **TAGS**          | Textuelle          | Les tags associés au post. Liste de tags (chaque tag est entre '<' '>'   |"
   ]
  },
  {
   "cell_type": "markdown",
   "metadata": {},
   "source": [
    "## 1.3 Données manquantes"
   ]
  },
  {
   "cell_type": "markdown",
   "metadata": {},
   "source": [
    "Vérifions tout d'abord si nos données sont complètes."
   ]
  },
  {
   "cell_type": "code",
   "execution_count": 7,
   "metadata": {},
   "outputs": [
    {
     "data": {
      "text/html": [
       "<div>\n",
       "<style>\n",
       "    .dataframe thead tr:only-child th {\n",
       "        text-align: right;\n",
       "    }\n",
       "\n",
       "    .dataframe thead th {\n",
       "        text-align: left;\n",
       "    }\n",
       "\n",
       "    .dataframe tbody tr th {\n",
       "        vertical-align: top;\n",
       "    }\n",
       "</style>\n",
       "<table border=\"1\" class=\"dataframe\">\n",
       "  <thead>\n",
       "    <tr style=\"text-align: right;\">\n",
       "      <th></th>\n",
       "      <th>% Missing Values</th>\n",
       "    </tr>\n",
       "  </thead>\n",
       "  <tbody>\n",
       "    <tr>\n",
       "      <th>TITLE</th>\n",
       "      <td>0.0</td>\n",
       "    </tr>\n",
       "    <tr>\n",
       "      <th>BODY</th>\n",
       "      <td>0.0</td>\n",
       "    </tr>\n",
       "    <tr>\n",
       "      <th>SCORE</th>\n",
       "      <td>0.0</td>\n",
       "    </tr>\n",
       "    <tr>\n",
       "      <th>TAGS</th>\n",
       "      <td>0.0</td>\n",
       "    </tr>\n",
       "  </tbody>\n",
       "</table>\n",
       "</div>"
      ],
      "text/plain": [
       "       % Missing Values\n",
       "TITLE               0.0\n",
       "BODY                0.0\n",
       "SCORE               0.0\n",
       "TAGS                0.0"
      ]
     },
     "execution_count": 7,
     "metadata": {},
     "output_type": "execute_result"
    }
   ],
   "source": [
    "#percent of missing values for each column\n",
    "pd.DataFrame(df.isnull().sum()/df.shape[0]*100,columns=['% Missing Values']).round(2)"
   ]
  },
  {
   "cell_type": "markdown",
   "metadata": {},
   "source": [
    "=> La base de données ne contient pas de donnée vide."
   ]
  },
  {
   "cell_type": "markdown",
   "metadata": {},
   "source": [
    "# 2. Cleaning and Preprocessing"
   ]
  },
  {
   "cell_type": "markdown",
   "metadata": {},
   "source": [
    "- Affichons le contenu d'un titre."
   ]
  },
  {
   "cell_type": "code",
   "execution_count": 8,
   "metadata": {},
   "outputs": [
    {
     "data": {
      "text/plain": [
       "'gulp-inject not working with gulp-watch'"
      ]
     },
     "metadata": {},
     "output_type": "display_data"
    },
    {
     "data": {
      "text/plain": [
       "'Eclipse git pushes all branches instead of the current one only'"
      ]
     },
     "metadata": {},
     "output_type": "display_data"
    }
   ],
   "source": [
    "display(df.TITLE[3])\n",
    "display(df.TITLE[12])"
   ]
  },
  {
   "cell_type": "markdown",
   "metadata": {},
   "source": [
    "- Le body"
   ]
  },
  {
   "cell_type": "code",
   "execution_count": 9,
   "metadata": {},
   "outputs": [
    {
     "data": {
      "text/plain": [
       "'<p>I am using gulp-inject to auto add SASS imports as they are newly created in my project. This works fine, the new SASS files are imported correctly, however when an already imported file is deleted whilst gulp-watch is running it crashes with the following error:</p>\\n\\n<pre><code> Error: _dev\\\\style\\\\style.scss\\nError: File to import not found or unreadable: components/_test - Copy.scss\\n       Parent style sheet: stdin\\n        on line 2 of stdin\\n&gt;&gt; @import \"components/_test - Copy.scss\";\\n</code></pre>\\n\\n<p>I have spent a good few hours trying to work out why it tries to compile an older version of the stylesheet with out of date imports. I set a delay on the SASS task and the imports are correct in the actual file by the time the gulp-sass runs. I have read that gulp-watch may be caching the stylehseet, but really not sure.</p>\\n\\n<p>Below are the relevant bits of my Gulp file, at the bottom is a link to my full gulp file.</p>\\n\\n<p><strong>Here are my watch tasks:</strong>\\n(The components task triggers the SASS task)</p>\\n\\n<pre><code>// SASS\\nplugins.watch([paths.dev+\\'/**/*.scss\\',!paths.dev+\\'/style/components/**/*.scss\\'], function () {gulp.start(gulpsync.sync([\\n    \\'build-sass\\'\\n]));});\\n// COMPONENTS\\nplugins.watch(paths.dev+\\'/style/components/**/*.scss\\', function () {gulp.start(gulpsync.sync([\\n    \\'inject-deps\\'\\n]));});\\n</code></pre>\\n\\n<p><strong>SASS task</strong></p>\\n\\n<pre><code>gulp.task(\\'build-sass\\', function() {\\n    // SASS\\n    return gulp.src(paths.dev+\\'/style/style.scss\\')\\n    .pipe(plugins.wait(1500))\\n    .pipe(plugins.sass({ noCache: true }))\\n    .pipe(gulp.dest(paths.tmp+\\'/style/\\'));\\n});\\n</code></pre>\\n\\n<p><strong>Inject task</strong></p>\\n\\n<pre><code>gulp.task(\\'inject-deps\\', function() {\\n    // Auto inject SASS\\n    gulp.src(paths.dev+\\'/style/style.scss\\')\\n    .pipe(plugins.inject(gulp.src(\\'components/**/*.scss\\', {read: false, cwd:paths.dev+\\'/style/\\'}), {\\n        relative: true,\\n        starttag: \\'/* inject:imports */\\',\\n        endtag: \\'/* endinject */\\',\\n        transform: function (filepath) {\\n            return \\'@import \"\\' + filepath + \\'\";\\';\\n        }\\n    }))\\n</code></pre>\\n\\n<p><strong>FULL GULP FILE:</strong>\\n<a href=\"https://jsfiddle.net/cwu0m1cp/\">https://jsfiddle.net/cwu0m1cp/</a></p>\\n\\n<p>As requested here is the SASS file with the imports, it works fine as long as the watch task isn\\'t running, the imported files contain no CSS:</p>\\n\\n<p><strong>SASS FILE BEFORE DELETE:</strong></p>\\n\\n<pre><code>/* inject:imports */\\n@import \"components/_test.scss\";\\n@import \"components/_test-copy.scss\";\\n/* endinject */\\n</code></pre>\\n\\n<p><strong>SASS FILE AFTER DELETE:</strong></p>\\n\\n<pre><code>/* inject:imports */\\n@import \"components/_test.scss\";\\n/* endinject */\\n</code></pre>\\n'"
      ]
     },
     "metadata": {},
     "output_type": "display_data"
    },
    {
     "data": {
      "text/plain": [
       "'<p>I see this for egit\\'s Push to Upstream:</p>\\n\\n<p><a href=\"https://i.stack.imgur.com/R9ZuV.png\" rel=\"nofollow noreferrer\"><img src=\"https://i.stack.imgur.com/R9ZuV.png\" alt=\"demo\"></a></p>\\n\\n<p>It says \"Push <strong>current</strong> branch.\"</p>\\n\\n<p>When I use it, all branches get pushed instead of only the current one. Is there a way to configure it to push only the current branch?</p>\\n'"
      ]
     },
     "metadata": {},
     "output_type": "display_data"
    }
   ],
   "source": [
    "display(df.BODY[3])\n",
    "display(df.BODY[12])"
   ]
  },
  {
   "cell_type": "markdown",
   "metadata": {},
   "source": [
    "=> Le body contient des caractères HTML,<br.>\n",
    "=> il peut contenir du code et des caractères de langues étrangères.<br/>"
   ]
  },
  {
   "cell_type": "markdown",
   "metadata": {},
   "source": [
    "- Les tags"
   ]
  },
  {
   "cell_type": "code",
   "execution_count": 10,
   "metadata": {},
   "outputs": [
    {
     "data": {
      "text/plain": [
       "'<javascript><node.js><npm><gulp><gulp-watch>'"
      ]
     },
     "metadata": {},
     "output_type": "display_data"
    },
    {
     "data": {
      "text/plain": [
       "'<eclipse><git><egit>'"
      ]
     },
     "metadata": {},
     "output_type": "display_data"
    }
   ],
   "source": [
    "display(df.TAGS[3])\n",
    "display(df.TAGS[12])"
   ]
  },
  {
   "cell_type": "markdown",
   "metadata": {},
   "source": [
    "=> Chaque tag sont séparés par '<' et '>'<br/>\n",
    "=> Un post peut contenir plusieurs tags"
   ]
  },
  {
   "cell_type": "markdown",
   "metadata": {},
   "source": [
    "# 2.1 Traitement de la colonne TITLE"
   ]
  },
  {
   "cell_type": "code",
   "execution_count": 11,
   "metadata": {
    "collapsed": true
   },
   "outputs": [],
   "source": [
    "stopword_list = set(stopwords.words('english'))\n",
    "tokenizer = ToktokTokenizer()"
   ]
  },
  {
   "cell_type": "code",
   "execution_count": 12,
   "metadata": {},
   "outputs": [],
   "source": [
    "'''\n",
    "Méthode qui permet de mettre les contractions dans une forme classique.\n",
    "Méthode récupéré depuis github : (c) @dipanjanS\n",
    "'''\n",
    "def expand_contractions(text, contraction_mapping=CONTRACTION_MAP):\n",
    "    contractions_pattern = re.compile('({})'.format('|'.join(contraction_mapping.keys())), \n",
    "                                      flags=re.IGNORECASE|re.DOTALL)\n",
    "    def expand_match(contraction):\n",
    "        match = contraction.group(0)\n",
    "        first_char = match[0]\n",
    "        expanded_contraction = contraction_mapping.get(match)\\\n",
    "                                if contraction_mapping.get(match)\\\n",
    "                                else contraction_mapping.get(match.lower())                       \n",
    "        expanded_contraction = first_char+expanded_contraction[1:]\n",
    "        return expanded_contraction\n",
    "        \n",
    "    expanded_text = contractions_pattern.sub(expand_match, text)\n",
    "    expanded_text = re.sub(\"'\", \"\", expanded_text)\n",
    "    return expanded_text\n",
    "\n",
    "\n",
    "'''\n",
    "Nettoyage du texte (suppression tags HTML, caractères accentués, stopwords, ...  tokenisation et stemmatisation du texte)\n",
    "'''\n",
    "def getCleanedText(text) :\n",
    "    \n",
    "    # if text contains HTML tags, remove html tags\n",
    "    if (bool(BeautifulSoup(text, \"html.parser\").find())) :\n",
    "        text = BeautifulSoup(text, \"lxml\").get_text()\n",
    "        \n",
    "    # remove accented char\n",
    "    text = unicodedata.normalize('NFKD', text).encode('ascii', 'ignore').decode('utf-8', 'ignore')\n",
    "    \n",
    "    text = expand_contractions(text)\n",
    "    \n",
    "    # remove non alpha char\n",
    "    text = re.sub('[\\W\\d_]', ' ', text)\n",
    "\n",
    "    # convert to lower case\n",
    "    text = text.lower()\n",
    "  \n",
    "    #remove extra newlines\n",
    "    text = re.sub(r'[\\r|\\n|\\r\\n]+', ' ',text)\n",
    "    \n",
    "    # remove extra whitespace\n",
    "    text = re.sub(' +', ' ', text)\n",
    "    \n",
    "    # Remove any single letter except 'c' (correspond au langage)\n",
    "    text = ' '.join( [w for w in text.split() if len(w)>1 or w == 'c'] )\n",
    "    \n",
    "    # remove stopwords\n",
    "    tokens = tokenizer.tokenize(text)\n",
    "    tokens = [token.strip() for token in tokens]\n",
    "    meaningful_words = [token for token in tokens if token not in stopword_list]\n",
    "    \n",
    "    # stemming of words\n",
    "    porter = PorterStemmer()\n",
    "    stemmed = [porter.stem(word) for word in meaningful_words]\n",
    "    \n",
    "    # join the words back into one string separated by space, \n",
    "    # and return the result.\n",
    "    return( \" \".join( stemmed )) "
   ]
  },
  {
   "cell_type": "markdown",
   "metadata": {},
   "source": [
    "Traitement et nettoyage de la colonne TITLE. On stocke les données dans une nouvelle colonne 'TITLE_P'"
   ]
  },
  {
   "cell_type": "code",
   "execution_count": 13,
   "metadata": {},
   "outputs": [],
   "source": [
    "df['TITLE_P'] = df['TITLE'].apply(lambda x: getCleanedText(x))"
   ]
  },
  {
   "cell_type": "code",
   "execution_count": 14,
   "metadata": {},
   "outputs": [
    {
     "data": {
      "text/html": [
       "<div>\n",
       "<style>\n",
       "    .dataframe thead tr:only-child th {\n",
       "        text-align: right;\n",
       "    }\n",
       "\n",
       "    .dataframe thead th {\n",
       "        text-align: left;\n",
       "    }\n",
       "\n",
       "    .dataframe tbody tr th {\n",
       "        vertical-align: top;\n",
       "    }\n",
       "</style>\n",
       "<table border=\"1\" class=\"dataframe\">\n",
       "  <thead>\n",
       "    <tr style=\"text-align: right;\">\n",
       "      <th></th>\n",
       "      <th>TITLE</th>\n",
       "      <th>BODY</th>\n",
       "      <th>SCORE</th>\n",
       "      <th>TAGS</th>\n",
       "      <th>TITLE_P</th>\n",
       "    </tr>\n",
       "  </thead>\n",
       "  <tbody>\n",
       "    <tr>\n",
       "      <th>0</th>\n",
       "      <td>Java generics variable &lt;T&gt; value</td>\n",
       "      <td>&lt;p&gt;At the moment I am using the following code...</td>\n",
       "      <td>6</td>\n",
       "      <td>&lt;java&gt;&lt;generics&gt;</td>\n",
       "      <td>java gener variabl valu</td>\n",
       "    </tr>\n",
       "    <tr>\n",
       "      <th>1</th>\n",
       "      <td>How a value typed variable is copied when it i...</td>\n",
       "      <td>&lt;blockquote&gt;\\n  &lt;p&gt;Swift's string type is a va...</td>\n",
       "      <td>6</td>\n",
       "      <td>&lt;swift&gt;&lt;function&gt;&lt;value-type&gt;</td>\n",
       "      <td>valu type variabl copi pass function hold copi</td>\n",
       "    </tr>\n",
       "    <tr>\n",
       "      <th>2</th>\n",
       "      <td>Error while waiting for device: The emulator p...</td>\n",
       "      <td>&lt;p&gt;I am a freshman for the development of the ...</td>\n",
       "      <td>6</td>\n",
       "      <td>&lt;android&gt;&lt;android-studio&gt;&lt;android-emulator&gt;&lt;avd&gt;</td>\n",
       "      <td>error wait devic emul process avd kill</td>\n",
       "    </tr>\n",
       "    <tr>\n",
       "      <th>3</th>\n",
       "      <td>gulp-inject not working with gulp-watch</td>\n",
       "      <td>&lt;p&gt;I am using gulp-inject to auto add SASS imp...</td>\n",
       "      <td>10</td>\n",
       "      <td>&lt;javascript&gt;&lt;node.js&gt;&lt;npm&gt;&lt;gulp&gt;&lt;gulp-watch&gt;</td>\n",
       "      <td>gulp inject work gulp watch</td>\n",
       "    </tr>\n",
       "    <tr>\n",
       "      <th>4</th>\n",
       "      <td>React - Call function on props change</td>\n",
       "      <td>&lt;p&gt;My TranslationDetail component is passed an...</td>\n",
       "      <td>12</td>\n",
       "      <td>&lt;reactjs&gt;&lt;react-router&gt;</td>\n",
       "      <td>react call function prop chang</td>\n",
       "    </tr>\n",
       "  </tbody>\n",
       "</table>\n",
       "</div>"
      ],
      "text/plain": [
       "                                               TITLE  \\\n",
       "0                   Java generics variable <T> value   \n",
       "1  How a value typed variable is copied when it i...   \n",
       "2  Error while waiting for device: The emulator p...   \n",
       "3            gulp-inject not working with gulp-watch   \n",
       "4              React - Call function on props change   \n",
       "\n",
       "                                                BODY  SCORE  \\\n",
       "0  <p>At the moment I am using the following code...      6   \n",
       "1  <blockquote>\\n  <p>Swift's string type is a va...      6   \n",
       "2  <p>I am a freshman for the development of the ...      6   \n",
       "3  <p>I am using gulp-inject to auto add SASS imp...     10   \n",
       "4  <p>My TranslationDetail component is passed an...     12   \n",
       "\n",
       "                                               TAGS  \\\n",
       "0                                  <java><generics>   \n",
       "1                     <swift><function><value-type>   \n",
       "2  <android><android-studio><android-emulator><avd>   \n",
       "3      <javascript><node.js><npm><gulp><gulp-watch>   \n",
       "4                           <reactjs><react-router>   \n",
       "\n",
       "                                          TITLE_P  \n",
       "0                         java gener variabl valu  \n",
       "1  valu type variabl copi pass function hold copi  \n",
       "2          error wait devic emul process avd kill  \n",
       "3                     gulp inject work gulp watch  \n",
       "4                  react call function prop chang  "
      ]
     },
     "execution_count": 14,
     "metadata": {},
     "output_type": "execute_result"
    }
   ],
   "source": [
    "df.head()"
   ]
  },
  {
   "cell_type": "markdown",
   "metadata": {},
   "source": [
    "## 2.2 Traitement de la colonne BODY"
   ]
  },
  {
   "cell_type": "code",
   "execution_count": 15,
   "metadata": {
    "collapsed": true
   },
   "outputs": [],
   "source": [
    "'''\n",
    "On sépare la partie code de la partie texte\n",
    "Sur la partie code, on ne cherche pas stemmatiser ou supprimer les stops words.\n",
    "On concatène les 2 parties de texte.\n",
    "'''\n",
    "def getCleanedBody(body) :\n",
    "    text = getCleanedBodyText(body)\n",
    "    code = getCleanedBodyCode(body)\n",
    "    return (text + ' ' + code).strip()"
   ]
  },
  {
   "cell_type": "code",
   "execution_count": 16,
   "metadata": {
    "collapsed": true
   },
   "outputs": [],
   "source": [
    "'''\n",
    "Retrieve body text inside <p>,<h1>,<h2>,<li> tags and return the cleaned and normalized text\n",
    "'''\n",
    "def getCleanedBodyText(body) :\n",
    "    ctext=\"\"\n",
    "    tags_list=['h1','h2','p','li']\n",
    "    soup = BeautifulSoup(body, 'html.parser')\n",
    "    for t in tags_list :\n",
    "        blocks = soup.findAll(t)\n",
    "        for block in blocks:\n",
    "            ctext += \" \" + block.text   \n",
    "    cleaned_text = getCleanedText(ctext)\n",
    "    return re.sub(' +',' ',cleaned_text.strip())"
   ]
  },
  {
   "cell_type": "code",
   "execution_count": 17,
   "metadata": {
    "collapsed": true
   },
   "outputs": [],
   "source": [
    "'''\n",
    "Retrieve the code text inside the body\n",
    "'''\n",
    "def getCleanedBodyCode(body) :\n",
    "    ctext=\"\"\n",
    "    soup = BeautifulSoup(body, 'lxml')\n",
    "    code_blocks = soup.findAll('code')\n",
    "    ctext=\" \".join(list(map(lambda x : x.text, code_blocks )))\n",
    "    table = str.maketrans('', '', string.punctuation)\n",
    "    words = re.findall(r\"[^\\W\\d_']+\", ctext.lower())\n",
    "    stripped = [w.translate(table) for w in words]\n",
    "    return( \" \".join( stripped ))"
   ]
  },
  {
   "cell_type": "markdown",
   "metadata": {},
   "source": [
    "On traite la colonne BODY et on stocke le texte traité dans une nouvelle colonne 'BODY_P'"
   ]
  },
  {
   "cell_type": "code",
   "execution_count": 18,
   "metadata": {},
   "outputs": [],
   "source": [
    "df['BODY_P']=df['BODY'].apply(lambda x: getCleanedBody(x))"
   ]
  },
  {
   "cell_type": "markdown",
   "metadata": {},
   "source": [
    "## 2.3 Traitement de la colonne TAGS"
   ]
  },
  {
   "cell_type": "code",
   "execution_count": 19,
   "metadata": {
    "collapsed": true
   },
   "outputs": [],
   "source": [
    "'''\n",
    "Retourne uniquement les tags et séparé par des espaces\n",
    "'''\n",
    "def getTagNames(text) :\n",
    "    tags = ' '.join(re.findall('<(.*?)>',text))\n",
    "    return tags.split(' ')"
   ]
  },
  {
   "cell_type": "markdown",
   "metadata": {},
   "source": [
    "On sépare les tags et on les stockes dans une liste. On sauve les données dans une nouvelle colonne TAGS_P"
   ]
  },
  {
   "cell_type": "code",
   "execution_count": 20,
   "metadata": {
    "collapsed": true
   },
   "outputs": [],
   "source": [
    "df['TAGS_P']=df['TAGS'].apply(lambda x: getTagNames(x))"
   ]
  },
  {
   "cell_type": "code",
   "execution_count": 21,
   "metadata": {},
   "outputs": [
    {
     "data": {
      "text/html": [
       "<div>\n",
       "<style>\n",
       "    .dataframe thead tr:only-child th {\n",
       "        text-align: right;\n",
       "    }\n",
       "\n",
       "    .dataframe thead th {\n",
       "        text-align: left;\n",
       "    }\n",
       "\n",
       "    .dataframe tbody tr th {\n",
       "        vertical-align: top;\n",
       "    }\n",
       "</style>\n",
       "<table border=\"1\" class=\"dataframe\">\n",
       "  <thead>\n",
       "    <tr style=\"text-align: right;\">\n",
       "      <th></th>\n",
       "      <th>TITLE</th>\n",
       "      <th>BODY</th>\n",
       "      <th>SCORE</th>\n",
       "      <th>TAGS</th>\n",
       "      <th>TITLE_P</th>\n",
       "      <th>BODY_P</th>\n",
       "      <th>TAGS_P</th>\n",
       "    </tr>\n",
       "  </thead>\n",
       "  <tbody>\n",
       "    <tr>\n",
       "      <th>0</th>\n",
       "      <td>Java generics variable &lt;T&gt; value</td>\n",
       "      <td>&lt;p&gt;At the moment I am using the following code...</td>\n",
       "      <td>6</td>\n",
       "      <td>&lt;java&gt;&lt;generics&gt;</td>\n",
       "      <td>java gener variabl valu</td>\n",
       "      <td>moment use follow code filter jpa reduc block ...</td>\n",
       "      <td>[java, generics]</td>\n",
       "    </tr>\n",
       "    <tr>\n",
       "      <th>1</th>\n",
       "      <td>How a value typed variable is copied when it i...</td>\n",
       "      <td>&lt;blockquote&gt;\\n  &lt;p&gt;Swift's string type is a va...</td>\n",
       "      <td>6</td>\n",
       "      <td>&lt;swift&gt;&lt;function&gt;&lt;value-type&gt;</td>\n",
       "      <td>valu type variabl copi pass function hold copi</td>\n",
       "      <td>swift string type valu type creat new string v...</td>\n",
       "      <td>[swift, function, value-type]</td>\n",
       "    </tr>\n",
       "    <tr>\n",
       "      <th>2</th>\n",
       "      <td>Error while waiting for device: The emulator p...</td>\n",
       "      <td>&lt;p&gt;I am a freshman for the development of the ...</td>\n",
       "      <td>6</td>\n",
       "      <td>&lt;android&gt;&lt;android-studio&gt;&lt;android-emulator&gt;&lt;avd&gt;</td>\n",
       "      <td>error wait devic emul process avd kill</td>\n",
       "      <td>freshman develop andriod suffer odd question r...</td>\n",
       "      <td>[android, android-studio, android-emulator, avd]</td>\n",
       "    </tr>\n",
       "    <tr>\n",
       "      <th>3</th>\n",
       "      <td>gulp-inject not working with gulp-watch</td>\n",
       "      <td>&lt;p&gt;I am using gulp-inject to auto add SASS imp...</td>\n",
       "      <td>10</td>\n",
       "      <td>&lt;javascript&gt;&lt;node.js&gt;&lt;npm&gt;&lt;gulp&gt;&lt;gulp-watch&gt;</td>\n",
       "      <td>gulp inject work gulp watch</td>\n",
       "      <td>use gulp inject auto add sass import newli cre...</td>\n",
       "      <td>[javascript, node.js, npm, gulp, gulp-watch]</td>\n",
       "    </tr>\n",
       "    <tr>\n",
       "      <th>4</th>\n",
       "      <td>React - Call function on props change</td>\n",
       "      <td>&lt;p&gt;My TranslationDetail component is passed an...</td>\n",
       "      <td>12</td>\n",
       "      <td>&lt;reactjs&gt;&lt;react-router&gt;</td>\n",
       "      <td>react call function prop chang</td>\n",
       "      <td>translationdetail compon pass id upon open bas...</td>\n",
       "      <td>[reactjs, react-router]</td>\n",
       "    </tr>\n",
       "  </tbody>\n",
       "</table>\n",
       "</div>"
      ],
      "text/plain": [
       "                                               TITLE  \\\n",
       "0                   Java generics variable <T> value   \n",
       "1  How a value typed variable is copied when it i...   \n",
       "2  Error while waiting for device: The emulator p...   \n",
       "3            gulp-inject not working with gulp-watch   \n",
       "4              React - Call function on props change   \n",
       "\n",
       "                                                BODY  SCORE  \\\n",
       "0  <p>At the moment I am using the following code...      6   \n",
       "1  <blockquote>\\n  <p>Swift's string type is a va...      6   \n",
       "2  <p>I am a freshman for the development of the ...      6   \n",
       "3  <p>I am using gulp-inject to auto add SASS imp...     10   \n",
       "4  <p>My TranslationDetail component is passed an...     12   \n",
       "\n",
       "                                               TAGS  \\\n",
       "0                                  <java><generics>   \n",
       "1                     <swift><function><value-type>   \n",
       "2  <android><android-studio><android-emulator><avd>   \n",
       "3      <javascript><node.js><npm><gulp><gulp-watch>   \n",
       "4                           <reactjs><react-router>   \n",
       "\n",
       "                                          TITLE_P  \\\n",
       "0                         java gener variabl valu   \n",
       "1  valu type variabl copi pass function hold copi   \n",
       "2          error wait devic emul process avd kill   \n",
       "3                     gulp inject work gulp watch   \n",
       "4                  react call function prop chang   \n",
       "\n",
       "                                              BODY_P  \\\n",
       "0  moment use follow code filter jpa reduc block ...   \n",
       "1  swift string type valu type creat new string v...   \n",
       "2  freshman develop andriod suffer odd question r...   \n",
       "3  use gulp inject auto add sass import newli cre...   \n",
       "4  translationdetail compon pass id upon open bas...   \n",
       "\n",
       "                                             TAGS_P  \n",
       "0                                  [java, generics]  \n",
       "1                     [swift, function, value-type]  \n",
       "2  [android, android-studio, android-emulator, avd]  \n",
       "3      [javascript, node.js, npm, gulp, gulp-watch]  \n",
       "4                           [reactjs, react-router]  "
      ]
     },
     "execution_count": 21,
     "metadata": {},
     "output_type": "execute_result"
    }
   ],
   "source": [
    "df.head()"
   ]
  },
  {
   "cell_type": "markdown",
   "metadata": {
    "collapsed": true
   },
   "source": [
    "# 3. Analyse des données"
   ]
  },
  {
   "cell_type": "markdown",
   "metadata": {},
   "source": [
    "## 3.1 Les titres"
   ]
  },
  {
   "cell_type": "markdown",
   "metadata": {},
   "source": [
    "Voyons le nombre de mots contenus dans les titres."
   ]
  },
  {
   "cell_type": "code",
   "execution_count": 22,
   "metadata": {
    "collapsed": true
   },
   "outputs": [],
   "source": [
    "df['TITLE_NW'] = df['TITLE_P'].apply(lambda x: len(x.split()))"
   ]
  },
  {
   "cell_type": "code",
   "execution_count": 23,
   "metadata": {},
   "outputs": [
    {
     "name": "stdout",
     "output_type": "stream",
     "text": [
      "count    64432.000000\n",
      "mean         6.072169\n",
      "std          2.175312\n",
      "min          0.000000\n",
      "25%          5.000000\n",
      "50%          6.000000\n",
      "75%          7.000000\n",
      "max         20.000000\n",
      "Name: TITLE_NW, dtype: float64\n"
     ]
    },
    {
     "data": {
      "text/plain": [
       "<matplotlib.text.Text at 0x1a1bab2198>"
      ]
     },
     "execution_count": 23,
     "metadata": {},
     "output_type": "execute_result"
    },
    {
     "data": {
      "image/png": "[encoded data removed]",
      "text/plain": [
       "<matplotlib.figure.Figure at 0x1a1a485048>"
      ]
     },
     "metadata": {},
     "output_type": "display_data"
    }
   ],
   "source": [
    "print(df['TITLE_NW'].describe())\n",
    "df['TITLE_NW'].plot(kind='box', figsize=[4,3])\n",
    "plt.title('Number of words per title')"
   ]
  },
  {
   "cell_type": "markdown",
   "metadata": {},
   "source": [
    "=> Nous avons en moyenne 6 mots par titre. Avec un max à 20."
   ]
  },
  {
   "cell_type": "markdown",
   "metadata": {},
   "source": [
    "- Voyons les titres dont la valeur traitée ne contient pas de mot."
   ]
  },
  {
   "cell_type": "code",
   "execution_count": 24,
   "metadata": {},
   "outputs": [
    {
     "data": {
      "text/html": [
       "<div>\n",
       "<style>\n",
       "    .dataframe thead tr:only-child th {\n",
       "        text-align: right;\n",
       "    }\n",
       "\n",
       "    .dataframe thead th {\n",
       "        text-align: left;\n",
       "    }\n",
       "\n",
       "    .dataframe tbody tr th {\n",
       "        vertical-align: top;\n",
       "    }\n",
       "</style>\n",
       "<table border=\"1\" class=\"dataframe\">\n",
       "  <thead>\n",
       "    <tr style=\"text-align: right;\">\n",
       "      <th></th>\n",
       "      <th>TITLE</th>\n",
       "      <th>BODY</th>\n",
       "      <th>SCORE</th>\n",
       "      <th>TAGS</th>\n",
       "      <th>TITLE_P</th>\n",
       "      <th>BODY_P</th>\n",
       "      <th>TAGS_P</th>\n",
       "      <th>TITLE_NW</th>\n",
       "    </tr>\n",
       "  </thead>\n",
       "  <tbody>\n",
       "    <tr>\n",
       "      <th>6708</th>\n",
       "      <td>Why does 1 // 0.1 == 9.0?</td>\n",
       "      <td>&lt;p&gt;In Python &lt;code&gt;2.7&lt;/code&gt; and &lt;code&gt;3.x&lt;/c...</td>\n",
       "      <td>13</td>\n",
       "      <td>&lt;python&gt;&lt;floating-point&gt;&lt;integer-division&gt;</td>\n",
       "      <td></td>\n",
       "      <td>python integ divis give non correct number div...</td>\n",
       "      <td>[python, floating-point, integer-division]</td>\n",
       "      <td>0</td>\n",
       "    </tr>\n",
       "    <tr>\n",
       "      <th>12718</th>\n",
       "      <td>Is ((a + (b &amp; 255)) &amp; 255) the same as ((a + b...</td>\n",
       "      <td>&lt;p&gt;I was browsing some C++ code, and found som...</td>\n",
       "      <td>92</td>\n",
       "      <td>&lt;c++&gt;&lt;binary&gt;&lt;logic&gt;</td>\n",
       "      <td></td>\n",
       "      <td>brows c code found someth like doubl annoy tho...</td>\n",
       "      <td>[c++, binary, logic]</td>\n",
       "      <td>0</td>\n",
       "    </tr>\n",
       "    <tr>\n",
       "      <th>29753</th>\n",
       "      <td>What is (x &amp; 1) and (x &gt;&gt;= 1)?</td>\n",
       "      <td>&lt;p&gt;I am trying to do assignment: \"Find the num...</td>\n",
       "      <td>17</td>\n",
       "      <td>&lt;c++&gt;</td>\n",
       "      <td></td>\n",
       "      <td>tri assign find number bit unsign integ data t...</td>\n",
       "      <td>[c++]</td>\n",
       "      <td>0</td>\n",
       "    </tr>\n",
       "    <tr>\n",
       "      <th>54201</th>\n",
       "      <td>Why is -1L * -9223372036854775808L == -9223372...</td>\n",
       "      <td>&lt;p&gt;I understand this has something to do with ...</td>\n",
       "      <td>13</td>\n",
       "      <td>&lt;c#&gt;&lt;.net&gt;&lt;math&gt;&lt;f#&gt;&lt;binary&gt;</td>\n",
       "      <td></td>\n",
       "      <td>understand someth way processor treat overflow...</td>\n",
       "      <td>[c#, .net, math, f#, binary]</td>\n",
       "      <td>0</td>\n",
       "    </tr>\n",
       "  </tbody>\n",
       "</table>\n",
       "</div>"
      ],
      "text/plain": [
       "                                                   TITLE  \\\n",
       "6708                           Why does 1 // 0.1 == 9.0?   \n",
       "12718  Is ((a + (b & 255)) & 255) the same as ((a + b...   \n",
       "29753                     What is (x & 1) and (x >>= 1)?   \n",
       "54201  Why is -1L * -9223372036854775808L == -9223372...   \n",
       "\n",
       "                                                    BODY  SCORE  \\\n",
       "6708   <p>In Python <code>2.7</code> and <code>3.x</c...     13   \n",
       "12718  <p>I was browsing some C++ code, and found som...     92   \n",
       "29753  <p>I am trying to do assignment: \"Find the num...     17   \n",
       "54201  <p>I understand this has something to do with ...     13   \n",
       "\n",
       "                                             TAGS TITLE_P  \\\n",
       "6708   <python><floating-point><integer-division>           \n",
       "12718                        <c++><binary><logic>           \n",
       "29753                                       <c++>           \n",
       "54201                <c#><.net><math><f#><binary>           \n",
       "\n",
       "                                                  BODY_P  \\\n",
       "6708   python integ divis give non correct number div...   \n",
       "12718  brows c code found someth like doubl annoy tho...   \n",
       "29753  tri assign find number bit unsign integ data t...   \n",
       "54201  understand someth way processor treat overflow...   \n",
       "\n",
       "                                           TAGS_P  TITLE_NW  \n",
       "6708   [python, floating-point, integer-division]         0  \n",
       "12718                        [c++, binary, logic]         0  \n",
       "29753                                       [c++]         0  \n",
       "54201                [c#, .net, math, f#, binary]         0  "
      ]
     },
     "execution_count": 24,
     "metadata": {},
     "output_type": "execute_result"
    }
   ],
   "source": [
    "df[df['TITLE_NW'] == 0]"
   ]
  },
  {
   "cell_type": "markdown",
   "metadata": {},
   "source": [
    "=> Le traitement de ces titres est bien normal."
   ]
  },
  {
   "cell_type": "markdown",
   "metadata": {},
   "source": [
    "## 3.2 Le body"
   ]
  },
  {
   "cell_type": "markdown",
   "metadata": {},
   "source": [
    "- Nombre de mots dans le body"
   ]
  },
  {
   "cell_type": "code",
   "execution_count": 25,
   "metadata": {},
   "outputs": [],
   "source": [
    "df['BODY_NW'] = df['BODY_P'].apply(lambda x: len(x.split()))"
   ]
  },
  {
   "cell_type": "code",
   "execution_count": 26,
   "metadata": {},
   "outputs": [
    {
     "name": "stdout",
     "output_type": "stream",
     "text": [
      "count    64432.000000\n",
      "mean       156.605801\n",
      "std        224.022735\n",
      "min          1.000000\n",
      "25%         51.000000\n",
      "50%         94.000000\n",
      "75%        176.000000\n",
      "max       5865.000000\n",
      "Name: BODY_NW, dtype: float64\n"
     ]
    },
    {
     "data": {
      "text/plain": [
       "<matplotlib.text.Text at 0x1a21094400>"
      ]
     },
     "execution_count": 26,
     "metadata": {},
     "output_type": "execute_result"
    },
    {
     "data": {
      "image/png": "[encoded data removed]",
      "text/plain": [
       "<matplotlib.figure.Figure at 0x1a1bc2fd30>"
      ]
     },
     "metadata": {},
     "output_type": "display_data"
    }
   ],
   "source": [
    "print(df['BODY_NW'].describe())\n",
    "sns.distplot( df['BODY_NW'], color='g', bins=30 )\n",
    "plt.title('Number of words per body content')"
   ]
  },
  {
   "cell_type": "markdown",
   "metadata": {},
   "source": [
    "=> La très grande majorité des questions comprennent moins de 200 mots <br/>\n",
    "=> Nous avons des valeurs extrêmes allant jusqu'à près de 6000 mots."
   ]
  },
  {
   "cell_type": "markdown",
   "metadata": {},
   "source": [
    "## 3.3 Les scores"
   ]
  },
  {
   "cell_type": "code",
   "execution_count": 27,
   "metadata": {},
   "outputs": [
    {
     "name": "stdout",
     "output_type": "stream",
     "text": [
      "count   64432.000\n",
      "mean       11.869\n",
      "std        17.857\n",
      "min         6.000\n",
      "25%         7.000\n",
      "50%         8.000\n",
      "75%        12.000\n",
      "max      2183.000\n",
      "Name: SCORE, dtype: float64\n"
     ]
    },
    {
     "data": {
      "text/plain": [
       "<matplotlib.axes._subplots.AxesSubplot at 0x1a2100d358>"
      ]
     },
     "execution_count": 27,
     "metadata": {},
     "output_type": "execute_result"
    },
    {
     "data": {
      "image/png": "[encoded data removed]",
      "text/plain": [
       "<matplotlib.figure.Figure at 0x1a20fac860>"
      ]
     },
     "metadata": {},
     "output_type": "display_data"
    }
   ],
   "source": [
    "pd.set_option('display.float_format', lambda x: '%.3f' % x)\n",
    "print(df['SCORE'].describe())\n",
    "plt.figure(figsize=(6, 4))\n",
    "sns.distplot( df[\"SCORE\"], color='g', bins=20 )"
   ]
  },
  {
   "cell_type": "markdown",
   "metadata": {},
   "source": [
    "=> La très grande majorité des scores sont inférieur à 12 <br/>\n",
    "=> La valeur min est à 6 car on a filtré les questions ayant un score > 5 dans notre requête de récupération des données <br/>\n",
    "=> La médiane est à 8 <br/>\n",
    "=> Nous avons des valeurs extrêmes allant jusqu'à 2183 !!"
   ]
  },
  {
   "cell_type": "markdown",
   "metadata": {},
   "source": [
    "- Voyons les posts qui sont très bien notés"
   ]
  },
  {
   "cell_type": "code",
   "execution_count": 28,
   "metadata": {},
   "outputs": [
    {
     "data": {
      "text/html": [
       "<div>\n",
       "<style>\n",
       "    .dataframe thead tr:only-child th {\n",
       "        text-align: right;\n",
       "    }\n",
       "\n",
       "    .dataframe thead th {\n",
       "        text-align: left;\n",
       "    }\n",
       "\n",
       "    .dataframe tbody tr th {\n",
       "        vertical-align: top;\n",
       "    }\n",
       "</style>\n",
       "<table border=\"1\" class=\"dataframe\">\n",
       "  <thead>\n",
       "    <tr style=\"text-align: right;\">\n",
       "      <th></th>\n",
       "      <th>TITLE</th>\n",
       "      <th>BODY</th>\n",
       "      <th>SCORE</th>\n",
       "      <th>TAGS</th>\n",
       "      <th>TITLE_P</th>\n",
       "      <th>BODY_P</th>\n",
       "      <th>TAGS_P</th>\n",
       "      <th>TITLE_NW</th>\n",
       "      <th>BODY_NW</th>\n",
       "    </tr>\n",
       "  </thead>\n",
       "  <tbody>\n",
       "    <tr>\n",
       "      <th>10291</th>\n",
       "      <td>Why is this C++ code faster than my hand-writt...</td>\n",
       "      <td>&lt;p&gt;I wrote these two solutions for &lt;a href=\"ht...</td>\n",
       "      <td>715</td>\n",
       "      <td>&lt;c++&gt;&lt;performance&gt;&lt;assembly&gt;&lt;optimization&gt;&lt;x86&gt;</td>\n",
       "      <td>c code faster hand written assembl test collat...</td>\n",
       "      <td>wrote two solut project euler assembl c ident ...</td>\n",
       "      <td>[c++, performance, assembly, optimization, x86]</td>\n",
       "      <td>9</td>\n",
       "      <td>295</td>\n",
       "    </tr>\n",
       "    <tr>\n",
       "      <th>17261</th>\n",
       "      <td>Angular - Promise vs Observable</td>\n",
       "      <td>&lt;p&gt;Can someone please explain the difference b...</td>\n",
       "      <td>622</td>\n",
       "      <td>&lt;angular&gt;&lt;promise&gt;&lt;rxjs&gt;&lt;angular-promise&gt;&lt;angu...</td>\n",
       "      <td>angular promis vs observ</td>\n",
       "      <td>someon pleas explain differ promis observ angu...</td>\n",
       "      <td>[angular, promise, rxjs, angular-promise, angu...</td>\n",
       "      <td>4</td>\n",
       "      <td>17</td>\n",
       "    </tr>\n",
       "    <tr>\n",
       "      <th>20784</th>\n",
       "      <td>Hide strange unwanted Xcode logs</td>\n",
       "      <td>&lt;p&gt;When using the Xcode 8+ and creating a new ...</td>\n",
       "      <td>580</td>\n",
       "      <td>&lt;ios&gt;&lt;xcode&gt;&lt;logging&gt;&lt;xcode8&gt;&lt;ios10&gt;</td>\n",
       "      <td>hide strang unwant xcode log</td>\n",
       "      <td>use xcode creat new blank project follow log a...</td>\n",
       "      <td>[ios, xcode, logging, xcode8, ios10]</td>\n",
       "      <td>5</td>\n",
       "      <td>110</td>\n",
       "    </tr>\n",
       "    <tr>\n",
       "      <th>21992</th>\n",
       "      <td>Git refusing to merge unrelated histories on r...</td>\n",
       "      <td>&lt;p&gt;During &lt;code&gt;git rebase origin/development&lt;...</td>\n",
       "      <td>801</td>\n",
       "      <td>&lt;git&gt;&lt;rebase&gt;</td>\n",
       "      <td>git refus merg unrel histori rebas</td>\n",
       "      <td>git rebas origin develop follow error messag s...</td>\n",
       "      <td>[git, rebase]</td>\n",
       "      <td>6</td>\n",
       "      <td>41</td>\n",
       "    </tr>\n",
       "    <tr>\n",
       "      <th>22931</th>\n",
       "      <td>What are the new features in C++17?</td>\n",
       "      <td>&lt;p&gt;C++17 is now feature complete, so unlikely ...</td>\n",
       "      <td>782</td>\n",
       "      <td>&lt;c++&gt;&lt;standards&gt;&lt;c++-faq&gt;&lt;c++17&gt;</td>\n",
       "      <td>new featur c</td>\n",
       "      <td>c featur complet unlik experi larg chang hundr...</td>\n",
       "      <td>[c++, standards, c++-faq, c++17]</td>\n",
       "      <td>3</td>\n",
       "      <td>27</td>\n",
       "    </tr>\n",
       "    <tr>\n",
       "      <th>29496</th>\n",
       "      <td>Can't bind to 'ngModel' since it isn't a known...</td>\n",
       "      <td>&lt;p&gt;I've got the following error when launching...</td>\n",
       "      <td>501</td>\n",
       "      <td>&lt;javascript&gt;&lt;angular&gt;&lt;typescript&gt;&lt;input&gt;</td>\n",
       "      <td>cannot bind ngmodel sinc known properti input</td>\n",
       "      <td>got follow error launch angular app even compo...</td>\n",
       "      <td>[javascript, angular, typescript, input]</td>\n",
       "      <td>7</td>\n",
       "      <td>104</td>\n",
       "    </tr>\n",
       "    <tr>\n",
       "      <th>37301</th>\n",
       "      <td>Can (a== 1 &amp;&amp; a ==2 &amp;&amp; a==3) ever evaluate to ...</td>\n",
       "      <td>&lt;blockquote&gt;\\n  &lt;p&gt;&lt;strong&gt;Moderator note:&lt;/st...</td>\n",
       "      <td>2183</td>\n",
       "      <td>&lt;javascript&gt;&lt;ecmascript-6&gt;</td>\n",
       "      <td>ever evalu true</td>\n",
       "      <td>moder note pleas resist urg edit code remov no...</td>\n",
       "      <td>[javascript, ecmascript-6]</td>\n",
       "      <td>3</td>\n",
       "      <td>55</td>\n",
       "    </tr>\n",
       "    <tr>\n",
       "      <th>47606</th>\n",
       "      <td>GitHub satanically messing with Markdown - cha...</td>\n",
       "      <td>&lt;p&gt;&lt;a href=\"https://github.com/aaronryank/Fork...</td>\n",
       "      <td>579</td>\n",
       "      <td>&lt;github&gt;&lt;markdown&gt;</td>\n",
       "      <td>github satan mess markdown chang dclxvi</td>\n",
       "      <td>github repositori noth readm readm local wrote...</td>\n",
       "      <td>[github, markdown]</td>\n",
       "      <td>6</td>\n",
       "      <td>66</td>\n",
       "    </tr>\n",
       "  </tbody>\n",
       "</table>\n",
       "</div>"
      ],
      "text/plain": [
       "                                                   TITLE  \\\n",
       "10291  Why is this C++ code faster than my hand-writt...   \n",
       "17261                    Angular - Promise vs Observable   \n",
       "20784                   Hide strange unwanted Xcode logs   \n",
       "21992  Git refusing to merge unrelated histories on r...   \n",
       "22931                What are the new features in C++17?   \n",
       "29496  Can't bind to 'ngModel' since it isn't a known...   \n",
       "37301  Can (a== 1 && a ==2 && a==3) ever evaluate to ...   \n",
       "47606  GitHub satanically messing with Markdown - cha...   \n",
       "\n",
       "                                                    BODY  SCORE  \\\n",
       "10291  <p>I wrote these two solutions for <a href=\"ht...    715   \n",
       "17261  <p>Can someone please explain the difference b...    622   \n",
       "20784  <p>When using the Xcode 8+ and creating a new ...    580   \n",
       "21992  <p>During <code>git rebase origin/development<...    801   \n",
       "22931  <p>C++17 is now feature complete, so unlikely ...    782   \n",
       "29496  <p>I've got the following error when launching...    501   \n",
       "37301  <blockquote>\\n  <p><strong>Moderator note:</st...   2183   \n",
       "47606  <p><a href=\"https://github.com/aaronryank/Fork...    579   \n",
       "\n",
       "                                                    TAGS  \\\n",
       "10291    <c++><performance><assembly><optimization><x86>   \n",
       "17261  <angular><promise><rxjs><angular-promise><angu...   \n",
       "20784               <ios><xcode><logging><xcode8><ios10>   \n",
       "21992                                      <git><rebase>   \n",
       "22931                   <c++><standards><c++-faq><c++17>   \n",
       "29496           <javascript><angular><typescript><input>   \n",
       "37301                         <javascript><ecmascript-6>   \n",
       "47606                                 <github><markdown>   \n",
       "\n",
       "                                                 TITLE_P  \\\n",
       "10291  c code faster hand written assembl test collat...   \n",
       "17261                           angular promis vs observ   \n",
       "20784                       hide strang unwant xcode log   \n",
       "21992                 git refus merg unrel histori rebas   \n",
       "22931                                       new featur c   \n",
       "29496      cannot bind ngmodel sinc known properti input   \n",
       "37301                                    ever evalu true   \n",
       "47606            github satan mess markdown chang dclxvi   \n",
       "\n",
       "                                                  BODY_P  \\\n",
       "10291  wrote two solut project euler assembl c ident ...   \n",
       "17261  someon pleas explain differ promis observ angu...   \n",
       "20784  use xcode creat new blank project follow log a...   \n",
       "21992  git rebas origin develop follow error messag s...   \n",
       "22931  c featur complet unlik experi larg chang hundr...   \n",
       "29496  got follow error launch angular app even compo...   \n",
       "37301  moder note pleas resist urg edit code remov no...   \n",
       "47606  github repositori noth readm readm local wrote...   \n",
       "\n",
       "                                                  TAGS_P  TITLE_NW  BODY_NW  \n",
       "10291    [c++, performance, assembly, optimization, x86]         9      295  \n",
       "17261  [angular, promise, rxjs, angular-promise, angu...         4       17  \n",
       "20784               [ios, xcode, logging, xcode8, ios10]         5      110  \n",
       "21992                                      [git, rebase]         6       41  \n",
       "22931                   [c++, standards, c++-faq, c++17]         3       27  \n",
       "29496           [javascript, angular, typescript, input]         7      104  \n",
       "37301                         [javascript, ecmascript-6]         3       55  \n",
       "47606                                 [github, markdown]         6       66  "
      ]
     },
     "execution_count": 28,
     "metadata": {},
     "output_type": "execute_result"
    }
   ],
   "source": [
    "df[df['SCORE'] > 500]"
   ]
  },
  {
   "cell_type": "markdown",
   "metadata": {},
   "source": [
    "## 3.4 Les tags"
   ]
  },
  {
   "cell_type": "markdown",
   "metadata": {},
   "source": [
    "#### Distribution des tags"
   ]
  },
  {
   "cell_type": "markdown",
   "metadata": {},
   "source": [
    "Nombre de tags par post"
   ]
  },
  {
   "cell_type": "code",
   "execution_count": 29,
   "metadata": {},
   "outputs": [
    {
     "data": {
      "text/plain": [
       "count   64432.000\n",
       "mean        3.275\n",
       "std         1.229\n",
       "min         1.000\n",
       "25%         2.000\n",
       "50%         3.000\n",
       "75%         4.000\n",
       "max         5.000\n",
       "Name: TAGS_NUM, dtype: float64"
      ]
     },
     "execution_count": 29,
     "metadata": {},
     "output_type": "execute_result"
    },
    {
     "data": {
      "image/png": "[encoded data removed]",
      "text/plain": [
       "<matplotlib.figure.Figure at 0x1a21022f60>"
      ]
     },
     "metadata": {},
     "output_type": "display_data"
    }
   ],
   "source": [
    "df['TAGS_NUM'] = df['TAGS_P'].apply(lambda x : len(x))\n",
    "df['TAGS_NUM'].plot(kind='box', figsize=[4,3])\n",
    "plt.title('Number of tags per post')\n",
    "df['TAGS_NUM'].describe()"
   ]
  },
  {
   "cell_type": "markdown",
   "metadata": {},
   "source": [
    "=> Nous avons en moyenne 3 tags par question avec un maximum de 5"
   ]
  },
  {
   "cell_type": "markdown",
   "metadata": {},
   "source": [
    "#### Occurences des tags"
   ]
  },
  {
   "cell_type": "code",
   "execution_count": 30,
   "metadata": {},
   "outputs": [],
   "source": [
    "from collections import Counter\n",
    "counts = Counter()\n",
    "for list_tags in df['TAGS_P']:\n",
    "    counts.update(list_tags)\n",
    "tags_df = pd.DataFrame.from_dict(counts, orient='index')\n",
    "tags_df.reset_index(drop = False, inplace = True)\n",
    "tags_df= tags_df.rename(columns={'index':'tag', 0:'count'})\n",
    "tags_df=tags_df.sort_values('count', ascending=False)"
   ]
  },
  {
   "cell_type": "code",
   "execution_count": 31,
   "metadata": {},
   "outputs": [
    {
     "data": {
      "text/html": [
       "<div>\n",
       "<style>\n",
       "    .dataframe thead tr:only-child th {\n",
       "        text-align: right;\n",
       "    }\n",
       "\n",
       "    .dataframe thead th {\n",
       "        text-align: left;\n",
       "    }\n",
       "\n",
       "    .dataframe tbody tr th {\n",
       "        vertical-align: top;\n",
       "    }\n",
       "</style>\n",
       "<table border=\"1\" class=\"dataframe\">\n",
       "  <thead>\n",
       "    <tr style=\"text-align: right;\">\n",
       "      <th></th>\n",
       "      <th>tag</th>\n",
       "      <th>count</th>\n",
       "    </tr>\n",
       "  </thead>\n",
       "  <tbody>\n",
       "    <tr>\n",
       "      <th>9</th>\n",
       "      <td>javascript</td>\n",
       "      <td>6590</td>\n",
       "    </tr>\n",
       "    <tr>\n",
       "      <th>5</th>\n",
       "      <td>android</td>\n",
       "      <td>6246</td>\n",
       "    </tr>\n",
       "    <tr>\n",
       "      <th>22</th>\n",
       "      <td>python</td>\n",
       "      <td>5441</td>\n",
       "    </tr>\n",
       "    <tr>\n",
       "      <th>0</th>\n",
       "      <td>java</td>\n",
       "      <td>5076</td>\n",
       "    </tr>\n",
       "    <tr>\n",
       "      <th>60</th>\n",
       "      <td>c++</td>\n",
       "      <td>4646</td>\n",
       "    </tr>\n",
       "  </tbody>\n",
       "</table>\n",
       "</div>"
      ],
      "text/plain": [
       "           tag  count\n",
       "9   javascript   6590\n",
       "5      android   6246\n",
       "22      python   5441\n",
       "0         java   5076\n",
       "60         c++   4646"
      ]
     },
     "execution_count": 31,
     "metadata": {},
     "output_type": "execute_result"
    }
   ],
   "source": [
    "tags_df.head(5)"
   ]
  },
  {
   "cell_type": "markdown",
   "metadata": {},
   "source": [
    "=> Les 5 tags les plus utilisés sont : **javascript, android, python, java et c++.**"
   ]
  },
  {
   "cell_type": "code",
   "execution_count": 32,
   "metadata": {},
   "outputs": [
    {
     "name": "stdout",
     "output_type": "stream",
     "text": [
      "Total number of tags 14523\n"
     ]
    }
   ],
   "source": [
    "print(\"Total number of tags\", tags_df.shape[0])"
   ]
  },
  {
   "cell_type": "markdown",
   "metadata": {},
   "source": [
    "=> Nous avons au total plus de **14 000 tags** différents."
   ]
  },
  {
   "cell_type": "code",
   "execution_count": 33,
   "metadata": {},
   "outputs": [
    {
     "data": {
      "image/png": "[encoded data removed]",
      "text/plain": [
       "<matplotlib.figure.Figure at 0x1a20ee3470>"
      ]
     },
     "metadata": {},
     "output_type": "display_data"
    }
   ],
   "source": [
    "ax = tags_df.head(50).plot(kind = 'bar', figsize = (14,6), color=\"#f56900\")\n",
    "ax.set_xticklabels(tags_df['tag'])\n",
    "plt.setp(ax.get_xticklabels(), rotation = 45, ha = 'right')\n",
    "plt.title('Top 50 Tags', fontsize = 'large')\n",
    "plt.xlabel('Tags')\n",
    "plt.ylabel('Nombre d''occurences')\n",
    "plt.show()"
   ]
  },
  {
   "cell_type": "markdown",
   "metadata": {},
   "source": [
    "- Voyons la répartion des 5 tags les plus utilisés."
   ]
  },
  {
   "cell_type": "code",
   "execution_count": 34,
   "metadata": {},
   "outputs": [
    {
     "data": {
      "image/png": "[encoded data removed]",
      "text/plain": [
       "<matplotlib.figure.Figure at 0x1a20f64828>"
      ]
     },
     "metadata": {},
     "output_type": "display_data"
    }
   ],
   "source": [
    "tags_df.head(5).plot(kind='pie',  y = 'count',  labels=tags_df['tag'] ,autopct='%1.1f%%', subplots=True, shadow=False,figsize=(7, 7))\n",
    "plt.text(0.2, 1.3, \"Top 5 tags repartition\", ha='right', fontsize = 14);"
   ]
  },
  {
   "cell_type": "markdown",
   "metadata": {},
   "source": [
    "#### Présence des tags dans le corps du text du post"
   ]
  },
  {
   "cell_type": "markdown",
   "metadata": {},
   "source": [
    "Voyons maintenant si on retrouve nos tags dans le texte de nos questions."
   ]
  },
  {
   "cell_type": "code",
   "execution_count": 35,
   "metadata": {},
   "outputs": [
    {
     "name": "stdout",
     "output_type": "stream",
     "text": [
      "73.33 % of tags retrieved in title or body\n"
     ]
    }
   ],
   "source": [
    "tags_found=0\n",
    "for i,row in df.iterrows() :\n",
    "    tags = row['TAGS_P']\n",
    "    found = False\n",
    "    for t in tags :\n",
    "        if t in row['TITLE_P'] or t in row['BODY_P']:\n",
    "            found = True\n",
    "            break\n",
    "    if found :\n",
    "        tags_found+=1\n",
    "print(\"{:.2f} % of tags retrieved in title or body\".format(tags_found/len(df)*100))"
   ]
  },
  {
   "cell_type": "markdown",
   "metadata": {},
   "source": [
    "Dans près de 73% des posts, on retrouve exactement dans le titre ou le body, le ou les tags correspondants. Pour certains tags spécifiques (exemple reactjs, on va retrouver quand même la racine react dans le texte)."
   ]
  },
  {
   "cell_type": "markdown",
   "metadata": {},
   "source": [
    "## 3.5 Correlations"
   ]
  },
  {
   "cell_type": "code",
   "execution_count": 36,
   "metadata": {},
   "outputs": [
    {
     "data": {
      "text/plain": [
       "<matplotlib.text.Text at 0x1a2116a9e8>"
      ]
     },
     "execution_count": 36,
     "metadata": {},
     "output_type": "execute_result"
    },
    {
     "data": {
      "image/png": "[encoded data removed]",
      "text/plain": [
       "<matplotlib.figure.Figure at 0x1a24c639e8>"
      ]
     },
     "metadata": {},
     "output_type": "display_data"
    }
   ],
   "source": [
    "correlation = df.corr()\n",
    "ax = plt.axes()\n",
    "sns.heatmap(correlation, vmax=1, square=True,annot=True,cmap='cubehelix', ax=ax)\n",
    "ax.set_title('Correlation entre les nombres de mots au niveau des features', y=1.1)"
   ]
  },
  {
   "cell_type": "markdown",
   "metadata": {},
   "source": [
    "=> Nous ne retrouvons pas réellement de corrélation entre les différentes features de nos données."
   ]
  },
  {
   "cell_type": "markdown",
   "metadata": {},
   "source": [
    "# 4. Sauvegarde des données nettoyées"
   ]
  },
  {
   "cell_type": "markdown",
   "metadata": {},
   "source": [
    "Pour éviter de refaire les traitements de nettoyage à chaque fois, on sauvegarde le fichier avec les données traitées."
   ]
  },
  {
   "cell_type": "code",
   "execution_count": 37,
   "metadata": {
    "collapsed": true
   },
   "outputs": [],
   "source": [
    "df[['TITLE','BODY','SCORE','TAGS','TITLE_P','BODY_P','TAGS_P']].to_csv('cleaned_data.csv',index = False)"
   ]
  }
 ],
 "metadata": {
  "kernelspec": {
   "display_name": "Python 3",
   "language": "python",
   "name": "python3"
  },
  "language_info": {
   "codemirror_mode": {
    "name": "ipython",
    "version": 3
   },
   "file_extension": ".py",
   "mimetype": "text/x-python",
   "name": "python",
   "nbconvert_exporter": "python",
   "pygments_lexer": "ipython3",
   "version": "3.6.2"
  }
 },
 "nbformat": 4,
 "nbformat_minor": 2
}
